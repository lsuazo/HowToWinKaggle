{
 "cells": [
  {
   "cell_type": "markdown",
   "metadata": {},
   "source": [
    "\n",
    "Before entering a competition:\n",
    "1. Define/clarify your goals\n",
    "    * Trying to learn new tools?\n",
    "    * Trying to win a medal?\n",
    "    * Learn more about a particular problem?\n",
    "    \n",
    "After entering competition:\n",
    "1. Capture all of your ideas during/after familiarizing yourself with data (things to try later)\n",
    "2. Read forums and highlight interesting posts (this will help gather more ideas, and meet new people)\n",
    "3. Organize your ideas (perhaps by priority, or by topic, such as feature generation, etc)\n",
    "4. Try to understand why something works (or doesn't work)\n",
    "    -may iteratively discover hidden data patterns (or possibly leaks)\n",
    "    \n",
    "\"Everything is parameter tuning\"\n",
    "1. Find most important \"parameters\" to tune first\n",
    "2. Identify parameters that are easy/hard to tune\n",
    "3. Characterize parameters in terms of interpretability/understanding\n",
    "\n",
    "____________\n",
    "\n",
    "\n",
    "Speed up data loading\n",
    "1. PUt data in hdf5 (for pandas) or npy (for numpy) format to speed data ingestion during kernal restart\n",
    "2. Downcast everything to 32 bit to reduce memory usage by 50% (unless 64 bit is necessary precision)\n",
    "3. process data in chunks w/ `chunksize` keyword in `pd.read_csv`\n",
    "\n",
    "\n",
    "Seek fast improvements first\n",
    "1. Use single tt split rather than full CV\n",
    "    - Only use full CV for epsilonic improvement when there are no other ways to improve score\n",
    "2. start with fastest models (lightGBM); only try slow-to-fit models (SVMs, random forests, neural networks) afterward\n",
    "    - In lightGBM, use early stopping so that number of boosting iterations does not need to be separately tuned\n",
    "3. move to model stacking/ensembling/tuning when no more progress can be made with feature engineering\n",
    "4. Prioritize EDA, googling domain knowledge\n",
    "5. couple of notebooks for model training, 1-2 EDA notebooks\n",
    "\n",
    "______________\n",
    "\n",
    "Start with primitive model to debug pipeline\n",
    "1. Debug full end-to-end process from reading in data to creating submission file.\n",
    "2. Simple from complex\n",
    "    Start with RF (little tuning/hyperparameters), then go to GBDT\n",
    "    \n",
    "\n",
    "Use good software engineering practices\n",
    "1. Reproducibility: Fix all random seeds, write out exactly how all features are generated, store in version control system\n",
    "2. Code reuse: use same code for training/testing stages (e.g. feature engineering).\n",
    "    - Move reusable code into separate functions or separate model\n",
    "\n",
    "___________________\n",
    "\n",
    "Reproducibility\n",
    "1. Use git, make a separate notebook for each submission.  Restart notebooks regularly to prevent bugs due to lots of global variables.\n",
    "\n",
    "treat the submission notebook as a script: restart the kernal and run them top to bottom\n",
    "\n",
    "code structure for model validation:\n",
    "   1. Split full train set into train and validation sets.  Save both to disk as csv *with the same structure as the train and test for the full competition data set*"
   ]
  },
  {
   "cell_type": "code",
   "execution_count": null,
   "metadata": {},
   "outputs": [],
   "source": [
    "train = pd.read_csv('data/train.csv')\n",
    "test = pd.read_csv('data/test.csv')\n",
    "\n",
    "train_train, train_val = train_test_split(train, random_state=660)\n",
    "\n",
    "train_train.to_csv('data/val/train.csv')\n",
    "train_val.to_csv('data/val/val.csv')"
   ]
  },
  {
   "cell_type": "code",
   "execution_count": null,
   "metadata": {},
   "outputs": [],
   "source": [
    "train_path = 'data/val/train.csv'\n",
    "test_path = 'data/val/val.csv'\n",
    "\n",
    "# uncomment below for model training on full dataset\n",
    "# train_path = 'data/train.csv'\n",
    "# test_path = 'data/val.csv'"
   ]
  }
 ],
 "metadata": {
  "kernelspec": {
   "display_name": "Python 3",
   "language": "python",
   "name": "python3"
  },
  "language_info": {
   "codemirror_mode": {
    "name": "ipython",
    "version": 3
   },
   "file_extension": ".py",
   "mimetype": "text/x-python",
   "name": "python",
   "nbconvert_exporter": "python",
   "pygments_lexer": "ipython3",
   "version": "3.7.2"
  }
 },
 "nbformat": 4,
 "nbformat_minor": 4
}
