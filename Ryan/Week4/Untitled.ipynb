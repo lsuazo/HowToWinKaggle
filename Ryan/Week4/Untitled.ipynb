{
 "cells": [
  {
   "cell_type": "markdown",
   "metadata": {},
   "source": [
    "Hyperparameter Tuning\n",
    "\n",
    "Cannot tune all parameters\n",
    "- There is often documentation providing recommendations on which params to tune first.\n",
    "- Can also just look at open source code (github, kaggle kernals) to see what choices are made\n",
    "\n",
    "Libraries for hyperparameter tuning\n",
    "1. hyperopt\n",
    "2. scikit-optimize\n",
    "3. spearmint\n",
    "4. GPyOpt\n",
    "5. RoBO\n",
    "5. SMAC3\n",
    "\n",
    "lecturer experience: performance of these libraries is similar\n",
    "\n",
    "My thoughts: The boundaries of the search space are chosen manually.  The first thing that should be done is to make sure that as one moves away from the boundary, the model score improves.\n"
   ]
  },
  {
   "cell_type": "code",
   "execution_count": null,
   "metadata": {},
   "outputs": [],
   "source": []
  }
 ],
 "metadata": {
  "kernelspec": {
   "display_name": "Python 3",
   "language": "python",
   "name": "python3"
  },
  "language_info": {
   "codemirror_mode": {
    "name": "ipython",
    "version": 3
   },
   "file_extension": ".py",
   "mimetype": "text/x-python",
   "name": "python",
   "nbconvert_exporter": "python",
   "pygments_lexer": "ipython3",
   "version": "3.7.2"
  }
 },
 "nbformat": 4,
 "nbformat_minor": 4
}
