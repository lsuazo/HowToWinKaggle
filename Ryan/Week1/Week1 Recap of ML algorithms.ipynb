{
 "cells": [
  {
   "cell_type": "markdown",
   "metadata": {},
   "source": [
    "# Recap of main machine learning algorithms"
   ]
  },
  {
   "cell_type": "markdown",
   "metadata": {},
   "source": [
    "## Linear Models\n",
    "## KNN\n",
    "## Neural Nets\n",
    "## Tree-based Models"
   ]
  },
  {
   "cell_type": "markdown",
   "metadata": {},
   "source": [
    "## Linear Models\n",
    "Examples\n",
    "- Support Vector Machines\n",
    "- Logistic Regression\n",
    "\n",
    "These are linear models with different loss functions\n",
    "\n",
    "Good for sparse high dimensional data\n",
    "\n",
    "Good implementations:\n",
    "1. Sklearn\n",
    "2. Vowpol Wabbit\n",
    "    - Good for very large datasets"
   ]
  },
  {
   "cell_type": "markdown",
   "metadata": {},
   "source": [
    "## Tree-based Models\n",
    "\n",
    "Uses divide and conquer: Divide space into subspaces, divide each subspace into subspaces, etc\n",
    "- Each division consists of picking an axis and a point on the axis to split on\n",
    "\n",
    "Used by virtually all winners in every competition (as part of an ensemble)\n",
    "\n",
    "Good default approach for tabular data (rather than image data?)\n",
    "\n",
    "Quite inefficient for a linear dependence (because constrained to split along an axis)\n",
    "\n",
    "Good implementations:\n",
    "1. Sklearn for random forests\n",
    "2. XGBoost and lightGBM for gradient-boosted decision tree models\n",
    "    - Higher speed and accuracy"
   ]
  },
  {
   "cell_type": "markdown",
   "metadata": {},
   "source": [
    "## KNN\n",
    "Distance does not have semantic meaning in image data\n",
    "\n",
    "Good implementation: \n",
    "1. sklearn\n",
    "    - Allows you to define your own distance function and has several built-in distance functions"
   ]
  },
  {
   "cell_type": "markdown",
   "metadata": {},
   "source": [
    "## Neural Networks\n",
    "\n",
    "Produce a smooth surface for a decision boundary\n",
    "\n",
    "Encouraged to visitTensorflow Playground http://playground.tensorflow.org\n",
    "- Will give intuition on how feed-forward neural networks work\n",
    "\n",
    "Specific types of Neural Nets are especially good for images, sounds, text, and sequences.\n",
    "- sequences?\n",
    "\n",
    "Implementations:\n",
    "1. Pytorch\n",
    "    - Preferred by due to flexibility and ease of defining complex networks"
   ]
  },
  {
   "cell_type": "markdown",
   "metadata": {},
   "source": [
    "## No Free Lunch Theorem\n",
    "\n",
    "*There is no single method that outperforms all others for all tasks*\n",
    "\n",
    "Basically, each method has certain structural constraints built into them, and this may not correspond to the context at hand.\n",
    "\n",
    "*For every method, we can construct a task for which this method will not perform well*\n",
    "\n",
    "\"Generally speaking, **the most powerful methods** are gradient-boosted decision trees and neural networks\"\n",
    "- Note that both of these methods work hierarchically, like asymptotic series"
   ]
  },
  {
   "cell_type": "code",
   "execution_count": null,
   "metadata": {},
   "outputs": [],
   "source": []
  }
 ],
 "metadata": {
  "kernelspec": {
   "display_name": "Python 3",
   "language": "python",
   "name": "python3"
  },
  "language_info": {
   "codemirror_mode": {
    "name": "ipython",
    "version": 3
   },
   "file_extension": ".py",
   "mimetype": "text/x-python",
   "name": "python",
   "nbconvert_exporter": "python",
   "pygments_lexer": "ipython3",
   "version": "3.7.2"
  }
 },
 "nbformat": 4,
 "nbformat_minor": 2
}
