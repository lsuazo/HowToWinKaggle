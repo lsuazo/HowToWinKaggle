{
 "cells": [
  {
   "cell_type": "code",
   "execution_count": null,
   "metadata": {},
   "outputs": [],
   "source": [
    "pd.set_option('max_columns', 100)"
   ]
  },
  {
   "cell_type": "code",
   "execution_count": null,
   "metadata": {},
   "outputs": [],
   "source": [
    "train = pd.read_csv('./train.csv')\n",
    "\n",
    "#the values are \"hashes\""
   ]
  },
  {
   "cell_type": "code",
   "execution_count": null,
   "metadata": {},
   "outputs": [],
   "source": [
    "#build a copy to work with\n",
    "X = train.copy()\n",
    "\n",
    "#save and drop labels\n",
    "y = train.y\n",
    "X = X.drop('y', axis=1)\n",
    "\n",
    "#fill NaNs\n",
    "X = X.fillna(-999)\n",
    "\n",
    "#label encoder\n",
    "for c in train.columns[train.dtypes == 'object']:\n",
    "    X[c] = X[c].factorize()[0]\n",
    "    \n",
    "rf = RandomForestClassifier()\n",
    "rf.fit(X, y)"
   ]
  },
  {
   "cell_type": "code",
   "execution_count": null,
   "metadata": {},
   "outputs": [],
   "source": [
    "plt.plot(rf.feature_importancess_)\n",
    "plt.xticks(np.arange(X.shape[1]), X.columns.to_list(), rotation=90);"
   ]
  },
  {
   "cell_type": "code",
   "execution_count": null,
   "metadata": {},
   "outputs": [],
   "source": [
    "X.x8.value_counts().head(15)"
   ]
  },
  {
   "cell_type": "code",
   "execution_count": null,
   "metadata": {},
   "outputs": [],
   "source": [
    "#need to unstandardize\n",
    "#need to find shift and scaling parameter\n",
    "\n",
    "x8_unique = X.x8.unique()\n",
    "X8_unique_sorted = np.sort(x8_unique)\n",
    "\n",
    "np.diff(x8_unique_sorted)"
   ]
  }
 ],
 "metadata": {
  "kernelspec": {
   "display_name": "Python 3",
   "language": "python",
   "name": "python3"
  },
  "language_info": {
   "codemirror_mode": {
    "name": "ipython",
    "version": 3
   },
   "file_extension": ".py",
   "mimetype": "text/x-python",
   "name": "python",
   "nbconvert_exporter": "python",
   "pygments_lexer": "ipython3",
   "version": "3.7.2"
  }
 },
 "nbformat": 4,
 "nbformat_minor": 2
}
