{
 "cells": [
  {
   "cell_type": "markdown",
   "metadata": {},
   "source": [
    "# Validation strategies"
   ]
  },
  {
   "cell_type": "markdown",
   "metadata": {},
   "source": [
    "* holdout ($n_{\\mathrm{splits}}=1$)\n",
    "    - Good for large dataset; law of large number says that a random holdout will be representative of the average holdout.\n",
    "        - It seems to me that one should never be in the position of having \"too much\" data in theory (but that may be the case in practice if it takes a long time to fit a model).\n",
    "* k-fold ($n_{\\mathrm{splits}}=k$)\n",
    "    - Good when the holdout score has high variance (perhaps because it is a relatively small sample set).\n",
    "* leave-one-out ($n_{\\mathrm{splits}}=n_{\\mathrm{samples, train}}$)\n",
    "    - Good for small dataset (where train time is small)\n",
    "\n",
    "leave-one-out is probably always best in theory, but may be computationally infeasible in practice.  Also, depending on the loss function, one needs a way to compare the single-sample model score to a larger test set score.  That is, one needs to know how a loss function scales with $n_{\\mathrm{samples, test}}$.\n",
    "\n",
    "**Stratified Train-Test Split**\n",
    "It is important to maintain target balance in train-test split for model validation.  So if 30% of samples are in class 1 for the entire dataset, then in model validation, it is important to choose a holdout set that also has this ratio."
   ]
  },
  {
   "cell_type": "markdown",
   "metadata": {},
   "source": [
    "## Holdout    "
   ]
  },
  {
   "cell_type": "code",
   "execution_count": 1,
   "metadata": {},
   "outputs": [
    {
     "ename": "NameError",
     "evalue": "name 'sklearn' is not defined",
     "output_type": "error",
     "traceback": [
      "\u001b[0;31m---------------------------------------------------------------------------\u001b[0m",
      "\u001b[0;31mNameError\u001b[0m                                 Traceback (most recent call last)",
      "\u001b[0;32m<ipython-input-1-ce95ef50b8f5>\u001b[0m in \u001b[0;36m<module>\u001b[0;34m\u001b[0m\n\u001b[0;32m----> 1\u001b[0;31m \u001b[0msklearn\u001b[0m\u001b[0;34m.\u001b[0m\u001b[0mmodel_selection\u001b[0m\u001b[0;34m.\u001b[0m\u001b[0mShuffleSplit\u001b[0m\u001b[0;34m\u001b[0m\u001b[0;34m\u001b[0m\u001b[0m\n\u001b[0m\u001b[1;32m      2\u001b[0m \u001b[0;34m\u001b[0m\u001b[0m\n\u001b[1;32m      3\u001b[0m \u001b[0msklearn\u001b[0m\u001b[0;34m.\u001b[0m\u001b[0mmodel_selection\u001b[0m\u001b[0;34m.\u001b[0m\u001b[0mKfold\u001b[0m\u001b[0;34m\u001b[0m\u001b[0;34m\u001b[0m\u001b[0m\n\u001b[1;32m      4\u001b[0m \u001b[0;34m\u001b[0m\u001b[0m\n\u001b[1;32m      5\u001b[0m \u001b[0msklearn\u001b[0m\u001b[0;34m.\u001b[0m\u001b[0mmodel_selection\u001b[0m\u001b[0;34m.\u001b[0m\u001b[0mLeaveOneOut\u001b[0m\u001b[0;34m\u001b[0m\u001b[0;34m\u001b[0m\u001b[0m\n",
      "\u001b[0;31mNameError\u001b[0m: name 'sklearn' is not defined"
     ]
    }
   ],
   "source": [
    "sklearn.model_selection.ShuffleSplit\n",
    "\n",
    "sklearn.model_selection.Kfold\n",
    "\n",
    "sklearn.model_selection.LeaveOneOut"
   ]
  },
  {
   "cell_type": "markdown",
   "metadata": {},
   "source": [
    "# Data Splitting Strategy\n",
    "\n",
    "**Identify the data split made by the organizers and mimic it in model validation**\n",
    "In any competition, it is wise to implement the train-validation split in the same way as the train-test split.  (Outside of a competition, this would mean that the validation data is always in the future of the training data.)\n",
    "    - The method used to separate train and private test split in any given competition can have lots of subtleties, and the video lists many different examples of this.  Uncovering/inferring how the competition organizers set up the train-test split is essential for setting up the proper model-validation strategy.\n",
    "* moving-window validation\n",
    "    - e.g. take training data to be all data up to time $t_{\\mathrm{i}_{\\mathrm{max}}}$"
   ]
  },
  {
   "cell_type": "code",
   "execution_count": null,
   "metadata": {},
   "outputs": [],
   "source": []
  }
 ],
 "metadata": {
  "kernelspec": {
   "display_name": "Python 3",
   "language": "python",
   "name": "python3"
  },
  "language_info": {
   "codemirror_mode": {
    "name": "ipython",
    "version": 3
   },
   "file_extension": ".py",
   "mimetype": "text/x-python",
   "name": "python",
   "nbconvert_exporter": "python",
   "pygments_lexer": "ipython3",
   "version": "3.7.2"
  }
 },
 "nbformat": 4,
 "nbformat_minor": 2
}
