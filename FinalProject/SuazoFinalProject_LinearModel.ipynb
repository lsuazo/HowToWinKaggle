{
 "cells": [
  {
   "cell_type": "markdown",
   "metadata": {},
   "source": [
    "# Simple Linear Model"
   ]
  },
  {
   "cell_type": "markdown",
   "metadata": {},
   "source": [
    "I create a simple linear model, using only some aggregated and lagged features. While it was originally meant for ensembling with final model, it ended up not being helpful there, so instead I use this models predictions as a feature for the more powerful model (below)."
   ]
  },
  {
   "cell_type": "code",
   "execution_count": 17,
   "metadata": {},
   "outputs": [],
   "source": [
    "from sklearn.linear_model import LinearRegression, ElasticNet\n",
    "from sklearn.metrics import r2_score"
   ]
  },
  {
   "cell_type": "markdown",
   "metadata": {},
   "source": [
    "## Feature Generation"
   ]
  },
  {
   "cell_type": "markdown",
   "metadata": {},
   "source": [
    "Here I create the features I will use, along with their lagged values."
   ]
  },
  {
   "cell_type": "code",
   "execution_count": 12,
   "metadata": {},
   "outputs": [],
   "source": [
    "ext_agg_sales  = agg_sales.copy().drop('item_price', axis=1)\n",
    "ext_agg_sales['total_shop_cnt_month'] = agg_sales.groupby(level=[0,1]).item_cnt_month.transform('sum')\n",
    "ext_agg_sales['total_item_cnt_month'] = agg_sales.groupby(level=[0,2]).item_cnt_month.transform('sum')"
   ]
  },
  {
   "cell_type": "code",
   "execution_count": 13,
   "metadata": {},
   "outputs": [
    {
     "data": {
      "text/html": [
       "<div>\n",
       "<style scoped>\n",
       "    .dataframe tbody tr th:only-of-type {\n",
       "        vertical-align: middle;\n",
       "    }\n",
       "\n",
       "    .dataframe tbody tr th {\n",
       "        vertical-align: top;\n",
       "    }\n",
       "\n",
       "    .dataframe thead th {\n",
       "        text-align: right;\n",
       "    }\n",
       "</style>\n",
       "<table border=\"1\" class=\"dataframe\">\n",
       "  <thead>\n",
       "    <tr style=\"text-align: right;\">\n",
       "      <th></th>\n",
       "      <th></th>\n",
       "      <th></th>\n",
       "      <th>item_cnt_month</th>\n",
       "      <th>total_shop_cnt_month</th>\n",
       "      <th>total_item_cnt_month</th>\n",
       "    </tr>\n",
       "    <tr>\n",
       "      <th>Month</th>\n",
       "      <th>shop_id</th>\n",
       "      <th>item_id</th>\n",
       "      <th></th>\n",
       "      <th></th>\n",
       "      <th></th>\n",
       "    </tr>\n",
       "  </thead>\n",
       "  <tbody>\n",
       "    <tr>\n",
       "      <th rowspan=\"5\" valign=\"top\">2013-01</th>\n",
       "      <th rowspan=\"5\" valign=\"top\">0</th>\n",
       "      <th>32</th>\n",
       "      <td>6.0</td>\n",
       "      <td>5578.0</td>\n",
       "      <td>299.0</td>\n",
       "    </tr>\n",
       "    <tr>\n",
       "      <th>33</th>\n",
       "      <td>3.0</td>\n",
       "      <td>5578.0</td>\n",
       "      <td>61.0</td>\n",
       "    </tr>\n",
       "    <tr>\n",
       "      <th>35</th>\n",
       "      <td>1.0</td>\n",
       "      <td>5578.0</td>\n",
       "      <td>78.0</td>\n",
       "    </tr>\n",
       "    <tr>\n",
       "      <th>43</th>\n",
       "      <td>1.0</td>\n",
       "      <td>5578.0</td>\n",
       "      <td>2.0</td>\n",
       "    </tr>\n",
       "    <tr>\n",
       "      <th>51</th>\n",
       "      <td>2.0</td>\n",
       "      <td>5578.0</td>\n",
       "      <td>13.0</td>\n",
       "    </tr>\n",
       "  </tbody>\n",
       "</table>\n",
       "</div>"
      ],
      "text/plain": [
       "                         item_cnt_month  total_shop_cnt_month  \\\n",
       "Month   shop_id item_id                                         \n",
       "2013-01 0       32                  6.0                5578.0   \n",
       "                33                  3.0                5578.0   \n",
       "                35                  1.0                5578.0   \n",
       "                43                  1.0                5578.0   \n",
       "                51                  2.0                5578.0   \n",
       "\n",
       "                         total_item_cnt_month  \n",
       "Month   shop_id item_id                        \n",
       "2013-01 0       32                      299.0  \n",
       "                33                       61.0  \n",
       "                35                       78.0  \n",
       "                43                        2.0  \n",
       "                51                       13.0  "
      ]
     },
     "execution_count": 13,
     "metadata": {},
     "output_type": "execute_result"
    }
   ],
   "source": [
    "ext_agg_sales.head()"
   ]
  },
  {
   "cell_type": "code",
   "execution_count": 14,
   "metadata": {},
   "outputs": [],
   "source": [
    "shops = sorted(ext_agg_sales.index.levels[1])\n",
    "idx_cols = ['Month', 'item_id']\n",
    "cols_to_lag = ['item_cnt_month', 'total_shop_cnt_month', 'total_item_cnt_month']"
   ]
  },
  {
   "cell_type": "code",
   "execution_count": 15,
   "metadata": {},
   "outputs": [],
   "source": [
    "to_previous_month_map = dict(zip(months[1:], months))\n",
    "obj_month_map = dict(zip(months, months[1:]+[pd.Period('2015-11')]))"
   ]
  },
  {
   "cell_type": "markdown",
   "metadata": {},
   "source": [
    "I will actually fit one model per shop, and then put together."
   ]
  },
  {
   "cell_type": "code",
   "execution_count": 16,
   "metadata": {},
   "outputs": [],
   "source": [
    "def get_single_shop_data(shopnum):\n",
    "    lag_month_map = dict(zip(months, months[1:]))\n",
    "    forward_month_map = dict(zip(months[1:], months))\n",
    "\n",
    "    def rename_col(col, s):\n",
    "        return f'{col}_lag_{s}'\n",
    "\n",
    "    single_shop = ext_agg_sales.loc[pd.IndexSlice[:,shopnum,:],:].reset_index(level=1, drop=True).reset_index()\n",
    "\n",
    "    shifted = [single_shop.copy().dropna().set_index(idx_cols)]\n",
    "    for shift in [1,2,3,4,5,8,11]:\n",
    "        single_shop_shift = single_shop.copy()\n",
    "        month = single_shop.Month\n",
    "        for s in range(1,shift+1):\n",
    "            month = month.map(lag_month_map)\n",
    "        single_shop_shift.Month = month\n",
    "        single_shop_shift.columns = [rename_col(col, shift) if col in cols_to_lag else col for col in single_shop_shift.columns ]\n",
    "        shifted.append(single_shop_shift.dropna().set_index(idx_cols))\n",
    "\n",
    "    all_data_single_shop = pd.concat(shifted, axis=1).fillna(0)\n",
    "    single_shop_target = single_shop.copy()\n",
    "    single_shop_target.Month = single_shop_target.Month.map(forward_month_map)\n",
    "    all_data_single_shop['target'] = single_shop_target.dropna().set_index(idx_cols).item_cnt_month\n",
    "    all_data_single_shop = all_data_single_shop.loc[months[12:]] # remove first 12 months with incomplete features\n",
    "    \n",
    "    return all_data_single_shop"
   ]
  },
  {
   "cell_type": "markdown",
   "metadata": {},
   "source": [
    "## Prediction"
   ]
  },
  {
   "cell_type": "code",
   "execution_count": 17,
   "metadata": {},
   "outputs": [],
   "source": [
    "def get_single_shop_predictions(mod, all_data_single_shop):\n",
    "    out_sample_preds = []\n",
    "    for (train_month_thresh, test_month) in zip(months[12:-1], months[13:]):\n",
    "        X_train, Y_train = (all_data_single_shop.loc[:train_month_thresh].drop('target', axis=1), all_data_single_shop.loc[:train_month_thresh, 'target'])\n",
    "        X_test, Y_test = (all_data_single_shop.loc[[test_month]].drop('target', axis=1), all_data_single_shop.loc[[test_month], 'target'])\n",
    "        if (len(X_test) == 0) or (len(X_train) == 0):\n",
    "            continue\n",
    "        fitted_model = mod.fit(X_train, Y_train.fillna(0))\n",
    "        ytest_pred = fitted_model.predict(X_test)\n",
    "        out_sample_preds.append(pd.Series(ytest_pred, index=X_test.index))\n",
    "        #print(f'Test month: {test_month}, Test R-squared is: {r2_score(Y_test, ytest_pred)}' )\n",
    "    if out_sample_preds:\n",
    "        return pd.concat(out_sample_preds)\n",
    "    else:\n",
    "        return None\n"
   ]
  },
  {
   "cell_type": "code",
   "execution_count": 18,
   "metadata": {},
   "outputs": [
    {
     "name": "stderr",
     "output_type": "stream",
     "text": [
      "C:\\Users\\luisr\\Anaconda3\\envs\\xgb\\lib\\site-packages\\sklearn\\linear_model\\_coordinate_descent.py:531: ConvergenceWarning: Objective did not converge. You might want to increase the number of iterations. Duality gap: 0.0, tolerance: 0.0\n",
      "  positive)\n",
      "C:\\Users\\luisr\\Anaconda3\\envs\\xgb\\lib\\site-packages\\sklearn\\linear_model\\_coordinate_descent.py:531: ConvergenceWarning: Objective did not converge. You might want to increase the number of iterations. Duality gap: 0.0, tolerance: 0.0\n",
      "  positive)\n",
      "C:\\Users\\luisr\\Anaconda3\\envs\\xgb\\lib\\site-packages\\sklearn\\linear_model\\_coordinate_descent.py:531: ConvergenceWarning: Objective did not converge. You might want to increase the number of iterations. Duality gap: 0.0, tolerance: 0.0\n",
      "  positive)\n",
      "C:\\Users\\luisr\\Anaconda3\\envs\\xgb\\lib\\site-packages\\sklearn\\linear_model\\_coordinate_descent.py:531: ConvergenceWarning: Objective did not converge. You might want to increase the number of iterations. Duality gap: 0.0, tolerance: 0.0\n",
      "  positive)\n",
      "C:\\Users\\luisr\\Anaconda3\\envs\\xgb\\lib\\site-packages\\sklearn\\linear_model\\_coordinate_descent.py:531: ConvergenceWarning: Objective did not converge. You might want to increase the number of iterations. Duality gap: 0.0, tolerance: 0.0\n",
      "  positive)\n",
      "C:\\Users\\luisr\\Anaconda3\\envs\\xgb\\lib\\site-packages\\sklearn\\linear_model\\_coordinate_descent.py:531: ConvergenceWarning: Objective did not converge. You might want to increase the number of iterations. Duality gap: 0.0, tolerance: 0.0\n",
      "  positive)\n",
      "C:\\Users\\luisr\\Anaconda3\\envs\\xgb\\lib\\site-packages\\sklearn\\linear_model\\_coordinate_descent.py:531: ConvergenceWarning: Objective did not converge. You might want to increase the number of iterations. Duality gap: 0.0, tolerance: 0.0\n",
      "  positive)\n",
      "C:\\Users\\luisr\\Anaconda3\\envs\\xgb\\lib\\site-packages\\sklearn\\linear_model\\_coordinate_descent.py:531: ConvergenceWarning: Objective did not converge. You might want to increase the number of iterations. Duality gap: 0.0, tolerance: 0.0\n",
      "  positive)\n",
      "C:\\Users\\luisr\\Anaconda3\\envs\\xgb\\lib\\site-packages\\sklearn\\linear_model\\_coordinate_descent.py:531: ConvergenceWarning: Objective did not converge. You might want to increase the number of iterations. Duality gap: 0.0, tolerance: 0.0\n",
      "  positive)\n",
      "C:\\Users\\luisr\\Anaconda3\\envs\\xgb\\lib\\site-packages\\sklearn\\linear_model\\_coordinate_descent.py:531: ConvergenceWarning: Objective did not converge. You might want to increase the number of iterations. Duality gap: 0.0, tolerance: 0.0\n",
      "  positive)\n",
      "C:\\Users\\luisr\\Anaconda3\\envs\\xgb\\lib\\site-packages\\sklearn\\linear_model\\_coordinate_descent.py:531: ConvergenceWarning: Objective did not converge. You might want to increase the number of iterations. Duality gap: 0.0, tolerance: 0.0\n",
      "  positive)\n",
      "C:\\Users\\luisr\\Anaconda3\\envs\\xgb\\lib\\site-packages\\sklearn\\linear_model\\_coordinate_descent.py:531: ConvergenceWarning: Objective did not converge. You might want to increase the number of iterations. Duality gap: 0.0, tolerance: 0.0\n",
      "  positive)\n",
      "C:\\Users\\luisr\\Anaconda3\\envs\\xgb\\lib\\site-packages\\sklearn\\linear_model\\_coordinate_descent.py:531: ConvergenceWarning: Objective did not converge. You might want to increase the number of iterations. Duality gap: 0.0, tolerance: 0.0\n",
      "  positive)\n",
      "C:\\Users\\luisr\\Anaconda3\\envs\\xgb\\lib\\site-packages\\sklearn\\linear_model\\_coordinate_descent.py:531: ConvergenceWarning: Objective did not converge. You might want to increase the number of iterations. Duality gap: 0.0, tolerance: 0.0\n",
      "  positive)\n",
      "C:\\Users\\luisr\\Anaconda3\\envs\\xgb\\lib\\site-packages\\sklearn\\linear_model\\_coordinate_descent.py:531: ConvergenceWarning: Objective did not converge. You might want to increase the number of iterations. Duality gap: 0.0, tolerance: 0.0\n",
      "  positive)\n",
      "C:\\Users\\luisr\\Anaconda3\\envs\\xgb\\lib\\site-packages\\sklearn\\linear_model\\_coordinate_descent.py:531: ConvergenceWarning: Objective did not converge. You might want to increase the number of iterations. Duality gap: 0.0, tolerance: 0.0\n",
      "  positive)\n",
      "C:\\Users\\luisr\\Anaconda3\\envs\\xgb\\lib\\site-packages\\sklearn\\linear_model\\_coordinate_descent.py:531: ConvergenceWarning: Objective did not converge. You might want to increase the number of iterations. Duality gap: 0.0, tolerance: 0.0\n",
      "  positive)\n",
      "C:\\Users\\luisr\\Anaconda3\\envs\\xgb\\lib\\site-packages\\sklearn\\linear_model\\_coordinate_descent.py:531: ConvergenceWarning: Objective did not converge. You might want to increase the number of iterations. Duality gap: 0.0, tolerance: 0.0\n",
      "  positive)\n",
      "C:\\Users\\luisr\\Anaconda3\\envs\\xgb\\lib\\site-packages\\sklearn\\linear_model\\_coordinate_descent.py:531: ConvergenceWarning: Objective did not converge. You might want to increase the number of iterations. Duality gap: 0.0, tolerance: 0.0\n",
      "  positive)\n",
      "C:\\Users\\luisr\\Anaconda3\\envs\\xgb\\lib\\site-packages\\sklearn\\linear_model\\_coordinate_descent.py:531: ConvergenceWarning: Objective did not converge. You might want to increase the number of iterations. Duality gap: 0.0, tolerance: 0.0\n",
      "  positive)\n",
      "C:\\Users\\luisr\\Anaconda3\\envs\\xgb\\lib\\site-packages\\sklearn\\linear_model\\_coordinate_descent.py:531: ConvergenceWarning: Objective did not converge. You might want to increase the number of iterations. Duality gap: 0.0, tolerance: 0.0\n",
      "  positive)\n",
      "C:\\Users\\luisr\\Anaconda3\\envs\\xgb\\lib\\site-packages\\sklearn\\linear_model\\_coordinate_descent.py:531: ConvergenceWarning: Objective did not converge. You might want to increase the number of iterations. Duality gap: 0.0, tolerance: 0.0\n",
      "  positive)\n",
      "C:\\Users\\luisr\\Anaconda3\\envs\\xgb\\lib\\site-packages\\sklearn\\linear_model\\_coordinate_descent.py:531: ConvergenceWarning: Objective did not converge. You might want to increase the number of iterations. Duality gap: 0.0, tolerance: 0.0\n",
      "  positive)\n",
      "C:\\Users\\luisr\\Anaconda3\\envs\\xgb\\lib\\site-packages\\sklearn\\linear_model\\_coordinate_descent.py:531: ConvergenceWarning: Objective did not converge. You might want to increase the number of iterations. Duality gap: 0.0, tolerance: 0.0\n",
      "  positive)\n",
      "C:\\Users\\luisr\\Anaconda3\\envs\\xgb\\lib\\site-packages\\sklearn\\linear_model\\_coordinate_descent.py:531: ConvergenceWarning: Objective did not converge. You might want to increase the number of iterations. Duality gap: 0.0, tolerance: 0.0\n",
      "  positive)\n",
      "C:\\Users\\luisr\\Anaconda3\\envs\\xgb\\lib\\site-packages\\sklearn\\linear_model\\_coordinate_descent.py:531: ConvergenceWarning: Objective did not converge. You might want to increase the number of iterations. Duality gap: 0.0, tolerance: 0.0\n",
      "  positive)\n"
     ]
    },
    {
     "name": "stdout",
     "output_type": "stream",
     "text": [
      "Wall time: 5min 27s\n"
     ]
    }
   ],
   "source": [
    "%%time\n",
    "# mod = LinearRegression()\n",
    "mod = ElasticNet(alpha=2, l1_ratio=0.25, max_iter=100000)\n",
    "shops_pred = {}\n",
    "for shop in shops:\n",
    "    start = time.time()\n",
    "    single_shop_data = get_single_shop_data(shop)\n",
    "    preds =  get_single_shop_predictions(mod, single_shop_data)\n",
    "    if preds is not None:\n",
    "        shops_pred[shop] = preds\n",
    "    # print(time.time()-start)\n",
    "    "
   ]
  },
  {
   "cell_type": "code",
   "execution_count": 19,
   "metadata": {},
   "outputs": [],
   "source": [
    "shops_pred_df = pd.concat(shops_pred, names=['shop_id']).swaplevel(0,1).rename('Pred1')"
   ]
  },
  {
   "cell_type": "code",
   "execution_count": 20,
   "metadata": {},
   "outputs": [
    {
     "data": {
      "text/plain": [
       "Month    shop_id  item_id\n",
       "2014-02  2        30         0.645554\n",
       "                  31         0.049581\n",
       "                  32         0.283372\n",
       "                  33         0.754955\n",
       "                  97         0.137998\n",
       "Name: Pred1, dtype: float64"
      ]
     },
     "execution_count": 20,
     "metadata": {},
     "output_type": "execute_result"
    }
   ],
   "source": [
    "shops_pred_df.head()"
   ]
  },
  {
   "cell_type": "markdown",
   "metadata": {},
   "source": [
    "## Conform to submission like df"
   ]
  },
  {
   "cell_type": "markdown",
   "metadata": {},
   "source": [
    "For the purposes of consistent validation, I conform the prediction above to the submission like df already created. That df is the one that mimics the test set better."
   ]
  },
  {
   "cell_type": "code",
   "execution_count": 21,
   "metadata": {},
   "outputs": [],
   "source": [
    "temp_sub = submission_like_df.item_cnt_month.reset_index()\n",
    "temp_sub.Month = temp_sub.Month.map(to_previous_month_map)\n",
    "temp_sub = temp_sub[temp_sub.Month >= min(shops_pred_df.index.levels[0])].set_index(['Month', 'shop_id', 'item_id'])"
   ]
  },
  {
   "cell_type": "code",
   "execution_count": 22,
   "metadata": {},
   "outputs": [],
   "source": [
    "model1_oos_predictions = shops_pred_df.reindex(temp_sub.index).fillna(0)"
   ]
  },
  {
   "cell_type": "code",
   "execution_count": 23,
   "metadata": {},
   "outputs": [
    {
     "data": {
      "text/plain": [
       "Month    shop_id  item_id\n",
       "2014-02  2        27         0.000000\n",
       "                  28         0.000000\n",
       "                  29         0.000000\n",
       "                  30         0.645554\n",
       "                  31         0.049581\n",
       "Name: Pred1, dtype: float64"
      ]
     },
     "execution_count": 23,
     "metadata": {},
     "output_type": "execute_result"
    }
   ],
   "source": [
    "model1_oos_predictions.head()"
   ]
  },
  {
   "cell_type": "markdown",
   "metadata": {},
   "source": [
    "Include final prediction"
   ]
  },
  {
   "cell_type": "code",
   "execution_count": 24,
   "metadata": {},
   "outputs": [],
   "source": [
    "final_pred = shops_pred_df.loc[months[-1]].reindex(test_set.set_index(['shop_id','item_id']).index).fillna(0)\n",
    "final_pred = pd.concat([final_pred], keys=[months[-1]], names=['Month'])"
   ]
  },
  {
   "cell_type": "markdown",
   "metadata": {},
   "source": [
    "Realign months so that it represents prediction month and not data month"
   ]
  },
  {
   "cell_type": "code",
   "execution_count": 25,
   "metadata": {},
   "outputs": [],
   "source": [
    "model1_oos_predictions = pd.concat([model1_oos_predictions, final_pred]).reset_index()\n",
    "model1_oos_predictions.Month = model1_oos_predictions.Month.map(obj_month_map)\n",
    "model1_oos_predictions = model1_oos_predictions.set_index(['Month', 'shop_id', 'item_id']).sort_index()"
   ]
  },
  {
   "cell_type": "code",
   "execution_count": 26,
   "metadata": {},
   "outputs": [
    {
     "data": {
      "text/html": [
       "<div>\n",
       "<style scoped>\n",
       "    .dataframe tbody tr th:only-of-type {\n",
       "        vertical-align: middle;\n",
       "    }\n",
       "\n",
       "    .dataframe tbody tr th {\n",
       "        vertical-align: top;\n",
       "    }\n",
       "\n",
       "    .dataframe thead th {\n",
       "        text-align: right;\n",
       "    }\n",
       "</style>\n",
       "<table border=\"1\" class=\"dataframe\">\n",
       "  <thead>\n",
       "    <tr style=\"text-align: right;\">\n",
       "      <th></th>\n",
       "      <th></th>\n",
       "      <th></th>\n",
       "      <th>Pred1</th>\n",
       "    </tr>\n",
       "    <tr>\n",
       "      <th>Month</th>\n",
       "      <th>shop_id</th>\n",
       "      <th>item_id</th>\n",
       "      <th></th>\n",
       "    </tr>\n",
       "  </thead>\n",
       "  <tbody>\n",
       "    <tr>\n",
       "      <th rowspan=\"5\" valign=\"top\">2014-03</th>\n",
       "      <th rowspan=\"5\" valign=\"top\">2</th>\n",
       "      <th>27</th>\n",
       "      <td>0.000000</td>\n",
       "    </tr>\n",
       "    <tr>\n",
       "      <th>28</th>\n",
       "      <td>0.000000</td>\n",
       "    </tr>\n",
       "    <tr>\n",
       "      <th>29</th>\n",
       "      <td>0.000000</td>\n",
       "    </tr>\n",
       "    <tr>\n",
       "      <th>30</th>\n",
       "      <td>0.645554</td>\n",
       "    </tr>\n",
       "    <tr>\n",
       "      <th>31</th>\n",
       "      <td>0.049581</td>\n",
       "    </tr>\n",
       "  </tbody>\n",
       "</table>\n",
       "</div>"
      ],
      "text/plain": [
       "                            Pred1\n",
       "Month   shop_id item_id          \n",
       "2014-03 2       27       0.000000\n",
       "                28       0.000000\n",
       "                29       0.000000\n",
       "                30       0.645554\n",
       "                31       0.049581"
      ]
     },
     "execution_count": 26,
     "metadata": {},
     "output_type": "execute_result"
    }
   ],
   "source": [
    "model1_oos_predictions.head()"
   ]
  },
  {
   "cell_type": "code",
   "execution_count": null,
   "metadata": {},
   "outputs": [],
   "source": [
    "model1_oos_predictions.to_pickle('EN_model_predictions.p')"
   ]
  },
  {
   "cell_type": "markdown",
   "metadata": {},
   "source": [
    "## Errors"
   ]
  },
  {
   "cell_type": "code",
   "execution_count": 28,
   "metadata": {},
   "outputs": [],
   "source": [
    "from sklearn.metrics import mean_squared_error"
   ]
  },
  {
   "cell_type": "code",
   "execution_count": 29,
   "metadata": {},
   "outputs": [],
   "source": [
    "def get_error(full_predictions_series, full_data):\n",
    "    rmse = {}\n",
    "    for month in sorted(full_predictions_series.index.levels[0])[:-1]:\n",
    "        ypred = full_predictions_series.loc[month].sort_index()\n",
    "        ytrue = full_data.loc[month].sort_index()\n",
    "        rmse[month] = np.sqrt(mean_squared_error(ytrue, ypred))\n",
    "    return pd.Series(rmse)"
   ]
  },
  {
   "cell_type": "code",
   "execution_count": 30,
   "metadata": {},
   "outputs": [
    {
     "data": {
      "text/plain": [
       "2014-03    2.024727\n",
       "2014-04    2.511645\n",
       "2014-05    1.656804\n",
       "2014-06    1.879623\n",
       "2014-07    1.228892\n",
       "2014-08    1.250089\n",
       "2014-09    3.013957\n",
       "2014-10    2.936116\n",
       "2014-11    3.222223\n",
       "2014-12    3.024958\n",
       "2015-01    3.083645\n",
       "2015-02    2.854308\n",
       "2015-03    2.153976\n",
       "2015-04    4.329503\n",
       "2015-05    3.250949\n",
       "2015-06    1.641582\n",
       "2015-07    1.072869\n",
       "2015-08    1.262157\n",
       "2015-09    6.448914\n",
       "2015-10    4.554570\n",
       "Freq: M, dtype: float64"
      ]
     },
     "execution_count": 30,
     "metadata": {},
     "output_type": "execute_result"
    }
   ],
   "source": [
    "get_error(model1_oos_predictions.Pred1, submission_like_df.item_cnt_month)"
   ]
  },
  {
   "cell_type": "code",
   "execution_count": 31,
   "metadata": {},
   "outputs": [
    {
     "data": {
      "text/plain": [
       "2014-03    3.035892\n",
       "2014-04    3.119146\n",
       "2014-05    2.407830\n",
       "2014-06    2.600050\n",
       "2014-07    2.266811\n",
       "2014-08    2.427879\n",
       "2014-09    3.692124\n",
       "2014-10    3.698570\n",
       "2014-11    4.064453\n",
       "2014-12    4.876658\n",
       "2015-01    4.155309\n",
       "2015-02    1.642374\n",
       "2015-03    1.597956\n",
       "2015-04    4.484014\n",
       "2015-05    3.677069\n",
       "2015-06    2.080702\n",
       "2015-07    1.900616\n",
       "2015-08    1.992029\n",
       "2015-09    6.712025\n",
       "2015-10    5.217821\n",
       "Freq: M, dtype: float64"
      ]
     },
     "execution_count": 31,
     "metadata": {},
     "output_type": "execute_result"
    }
   ],
   "source": [
    "get_error(model1_oos_predictions.Pred1.clip(0,20), submission_like_df.item_cnt_month)"
   ]
  },
  {
   "cell_type": "code",
   "execution_count": 103,
   "metadata": {},
   "outputs": [
    {
     "name": "stdout",
     "output_type": "stream",
     "text": [
      "ElasticNet\t LinearRegression\t agg_sales\t aggregate_monthly\t cat_annotated_agg_sales\t categories\t cols_to_lag\t create_submission_like_df\t deque\t \n",
      "ext_agg_sales\t final_pred\t get_error\t get_single_shop_data\t get_single_shop_predictions\t idx_cols\t items\t load_all\t load_sales\t \n",
      "mean_squared_error\t mod\t model1_oos_predictions\t months\t np\t obj_month_map\t os\t pd\t plt\t \n",
      "preds\t product\t r2_score\t sales\t seaborn\t shop\t shops\t shops_pred\t shops_pred_df\t \n",
      "single_shop_data\t start\t submission_like_df\t temp_sub\t test_set\t time\t to_previous_month_map\t \n"
     ]
    }
   ],
   "source": [
    "%who"
   ]
  },
  {
   "cell_type": "code",
   "execution_count": null,
   "metadata": {},
   "outputs": [],
   "source": [
    "del([ext_agg_sales, shops_pred, temp_sub, final_pred, preds, shops_pred_df, single_shop_data])\n",
    "gc.collect()"
   ]
  }
 ],
 "metadata": {
  "kernelspec": {
   "display_name": "Python 3",
   "language": "python",
   "name": "python3"
  },
  "language_info": {
   "codemirror_mode": {
    "name": "ipython",
    "version": 3
   },
   "file_extension": ".py",
   "mimetype": "text/x-python",
   "name": "python",
   "nbconvert_exporter": "python",
   "pygments_lexer": "ipython3",
   "version": "3.6.10"
  }
 },
 "nbformat": 4,
 "nbformat_minor": 4
}
