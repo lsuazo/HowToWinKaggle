{
 "cells": [
  {
   "cell_type": "code",
   "execution_count": 400,
   "metadata": {},
   "outputs": [
    {
     "name": "stdout",
     "output_type": "stream",
     "text": [
      "Working on: 2015-07\n",
      "fit time: 674.1133131980896\n",
      "Working on: 2015-08\n",
      "fit time: 763.0178606510162\n",
      "Working on: 2015-09\n",
      "fit time: 729.9509105682373\n"
     ]
    },
    {
     "data": {
      "text/html": [
       "<div>\n",
       "<style scoped>\n",
       "    .dataframe tbody tr th:only-of-type {\n",
       "        vertical-align: middle;\n",
       "    }\n",
       "\n",
       "    .dataframe tbody tr th {\n",
       "        vertical-align: top;\n",
       "    }\n",
       "\n",
       "    .dataframe thead th {\n",
       "        text-align: right;\n",
       "    }\n",
       "</style>\n",
       "<table border=\"1\" class=\"dataframe\">\n",
       "  <thead>\n",
       "    <tr style=\"text-align: right;\">\n",
       "      <th></th>\n",
       "      <th>PreInSampleRMSE</th>\n",
       "      <th>inSampleRMSE</th>\n",
       "      <th>PreOutSampleRMSE</th>\n",
       "      <th>outSampleRMSE</th>\n",
       "    </tr>\n",
       "  </thead>\n",
       "  <tbody>\n",
       "    <tr>\n",
       "      <th>2015-07</th>\n",
       "      <td>1.353711</td>\n",
       "      <td>1.603867</td>\n",
       "      <td>1.209186</td>\n",
       "      <td>1.625746</td>\n",
       "    </tr>\n",
       "    <tr>\n",
       "      <th>2015-08</th>\n",
       "      <td>1.348747</td>\n",
       "      <td>1.627739</td>\n",
       "      <td>4.470294</td>\n",
       "      <td>6.212531</td>\n",
       "    </tr>\n",
       "    <tr>\n",
       "      <th>2015-09</th>\n",
       "      <td>1.312563</td>\n",
       "      <td>1.601965</td>\n",
       "      <td>3.394250</td>\n",
       "      <td>4.365873</td>\n",
       "    </tr>\n",
       "    <tr>\n",
       "      <th>FINAL</th>\n",
       "      <td>1.188368</td>\n",
       "      <td>1.465455</td>\n",
       "      <td>NaN</td>\n",
       "      <td>NaN</td>\n",
       "    </tr>\n",
       "  </tbody>\n",
       "</table>\n",
       "</div>"
      ],
      "text/plain": [
       "         PreInSampleRMSE  inSampleRMSE  PreOutSampleRMSE  outSampleRMSE\n",
       "2015-07         1.353711      1.603867          1.209186       1.625746\n",
       "2015-08         1.348747      1.627739          4.470294       6.212531\n",
       "2015-09         1.312563      1.601965          3.394250       4.365873\n",
       "FINAL           1.188368      1.465455               NaN            NaN"
      ]
     },
     "execution_count": 400,
     "metadata": {},
     "output_type": "execute_result"
    }
   ],
   "source": [
    "mod = xgb_model(num_boost_round=100, max_depth=20, eta=0.1, gpu_id=0, tree_method='gpu_hist')\n",
    "xgb1 = rolling_cross_validation(mod, months[18:], num_lagged_values=0, num_stack_months=12, fit_final=True)\n",
    "xgb1.scores"
   ]
  },
  {
   "cell_type": "markdown",
   "metadata": {},
   "source": [
    "# Ensembling work"
   ]
  },
  {
   "cell_type": "markdown",
   "metadata": {},
   "source": [
    "Collect predictions"
   ]
  },
  {
   "cell_type": "code",
   "execution_count": 193,
   "metadata": {},
   "outputs": [],
   "source": [
    "keys = list(xgb1.fitted_models.keys())"
   ]
  },
  {
   "cell_type": "code",
   "execution_count": 199,
   "metadata": {},
   "outputs": [
    {
     "name": "stdout",
     "output_type": "stream",
     "text": [
      "Wall time: 1min 19s\n"
     ]
    }
   ],
   "source": [
    "%%time\n",
    "preds = {}\n",
    "for key in keys[:-1]:\n",
    "    Xtest, Ytest, Ytest_sub = get_single_month_XY(key)\n",
    "    Ypred = xgb1.fitted_models[key].predict(Xtest)\n",
    "    Ypred_sub = conform_to_subY(Xtest, Ypred, Ytest_sub)\n",
    "    preds[key] = Ypred_sub"
   ]
  },
  {
   "cell_type": "code",
   "execution_count": 206,
   "metadata": {},
   "outputs": [],
   "source": [
    "Xtest, Ytest, _ = get_single_month_XY(months[-1])\n",
    "Ypred = xgb1.fitted_models['FINAL'].predict(Xtest)\n",
    "Ypred = pd.Series(Ypred, index=Xtest.index)"
   ]
  },
  {
   "cell_type": "code",
   "execution_count": 211,
   "metadata": {},
   "outputs": [],
   "source": [
    "test_copy = test_set.copy()\n",
    "test_copy['Period'] = months[-1]\n",
    "preds[months[-1]] = Ypred.reindex(test_copy.set_index(['Period','shop_id','item_id']).index).fillna(0)"
   ]
  },
  {
   "cell_type": "code",
   "execution_count": 273,
   "metadata": {},
   "outputs": [],
   "source": [
    "model2_oos_predictions = pd.DataFrame(pd.concat(preds).reset_index(level=0, drop=True).rename('Pred2'))\n",
    "model2_oos_predictions = model2_oos_predictions.reset_index()"
   ]
  },
  {
   "cell_type": "code",
   "execution_count": 274,
   "metadata": {},
   "outputs": [],
   "source": [
    "obj_month_map = dict(zip(months, months[1:]+[pd.Period('2015-11')]))"
   ]
  },
  {
   "cell_type": "code",
   "execution_count": 275,
   "metadata": {},
   "outputs": [],
   "source": [
    "model2_oos_predictions['Period'] = model2_oos_predictions['Period'].map(obj_month_map)\n",
    "model2_oos_predictions = model2_oos_predictions.rename(columns={'Period': 'Month'}).set_index(['Month', 'shop_id', 'item_id']).sort_index()"
   ]
  },
  {
   "cell_type": "code",
   "execution_count": null,
   "metadata": {},
   "outputs": [],
   "source": [
    "# model2_oos_predictions.to_csv('model2_oos_preds.csv')\n",
    "# model2_oos_predictions.to_pickle('model2_oos_preds.p')"
   ]
  },
  {
   "cell_type": "code",
   "execution_count": 56,
   "metadata": {},
   "outputs": [],
   "source": [
    "model2_oos_predictions = pd.read_pickle('model2_oos_preds.p')"
   ]
  },
  {
   "cell_type": "code",
   "execution_count": 142,
   "metadata": {},
   "outputs": [
    {
     "data": {
      "text/plain": [
       "2015-02    0.730089\n",
       "2015-03    0.836271\n",
       "2015-04    3.679942\n",
       "2015-05    2.069079\n",
       "2015-06    0.680194\n",
       "2015-07    0.486832\n",
       "2015-08    0.591085\n",
       "2015-09    0.916012\n",
       "2015-10    0.781028\n",
       "Freq: M, dtype: float64"
      ]
     },
     "execution_count": 142,
     "metadata": {},
     "output_type": "execute_result"
    }
   ],
   "source": [
    "get_error(model2_oos_predictions.Pred2, submission_like_df.item_cnt_month)"
   ]
  },
  {
   "cell_type": "code",
   "execution_count": 143,
   "metadata": {},
   "outputs": [
    {
     "data": {
      "text/plain": [
       "2015-02    1.398093\n",
       "2015-03    1.383413\n",
       "2015-04    4.283555\n",
       "2015-05    3.516500\n",
       "2015-06    1.952567\n",
       "2015-07    1.772694\n",
       "2015-08    1.838626\n",
       "2015-09    6.580991\n",
       "2015-10    5.097406\n",
       "Freq: M, dtype: float64"
      ]
     },
     "execution_count": 143,
     "metadata": {},
     "output_type": "execute_result"
    }
   ],
   "source": [
    "get_error(model2_oos_predictions.Pred2.clip(0,20), submission_like_df.item_cnt_month)"
   ]
  },
  {
   "cell_type": "code",
   "execution_count": 38,
   "metadata": {},
   "outputs": [
    {
     "data": {
      "text/plain": [
       "2015-02    1.398093\n",
       "2015-03    1.383413\n",
       "2015-04    4.283555\n",
       "2015-05    3.516500\n",
       "2015-06    1.952567\n",
       "2015-07    1.772694\n",
       "2015-08    1.838626\n",
       "2015-09    6.580991\n",
       "2015-10    5.097406\n",
       "Freq: M, dtype: float64"
      ]
     },
     "execution_count": 38,
     "metadata": {},
     "output_type": "execute_result"
    }
   ],
   "source": [
    "get_error(model2_oos_predictions.Pred2.clip(0,20), submission_like_df.item_cnt_month)"
   ]
  },
  {
   "cell_type": "markdown",
   "metadata": {},
   "source": [
    "# Ensembling"
   ]
  },
  {
   "cell_type": "code",
   "execution_count": 144,
   "metadata": {},
   "outputs": [],
   "source": [
    "feb15 = pd.Period('2015-02')"
   ]
  },
  {
   "cell_type": "code",
   "execution_count": 145,
   "metadata": {},
   "outputs": [
    {
     "name": "stdout",
     "output_type": "stream",
     "text": [
      "Wall time: 2.76 s\n"
     ]
    }
   ],
   "source": [
    "%%time\n",
    "ensembling_preds = pd.concat([model1_oos_predictions.loc[feb15:], model2_oos_predictions], axis=1)\n",
    "ensembling_preds.index = ensembling_preds.index.remove_unused_levels()"
   ]
  },
  {
   "cell_type": "code",
   "execution_count": 146,
   "metadata": {},
   "outputs": [
    {
     "data": {
      "text/plain": [
       "2015-02    0.730089\n",
       "2015-03    0.836271\n",
       "2015-04    3.679942\n",
       "2015-05    2.069079\n",
       "2015-06    0.680194\n",
       "2015-07    0.486832\n",
       "2015-08    0.591085\n",
       "2015-09    0.916012\n",
       "2015-10    0.781028\n",
       "Freq: M, dtype: float64"
      ]
     },
     "execution_count": 146,
     "metadata": {},
     "output_type": "execute_result"
    }
   ],
   "source": [
    "get_error(ensembling_preds.Pred2, submission_like_df.item_cnt_month)"
   ]
  },
  {
   "cell_type": "code",
   "execution_count": 147,
   "metadata": {},
   "outputs": [
    {
     "data": {
      "text/plain": [
       "2015-02    3.323760\n",
       "2015-03    2.173922\n",
       "2015-04    4.389656\n",
       "2015-05    3.368271\n",
       "2015-06    1.689504\n",
       "2015-07    1.051905\n",
       "2015-08    1.276000\n",
       "2015-09    6.448826\n",
       "2015-10    4.541086\n",
       "Freq: M, dtype: float64"
      ]
     },
     "execution_count": 147,
     "metadata": {},
     "output_type": "execute_result"
    }
   ],
   "source": [
    "get_error(ensembling_preds.Pred1, submission_like_df.item_cnt_month)"
   ]
  },
  {
   "cell_type": "code",
   "execution_count": 184,
   "metadata": {},
   "outputs": [
    {
     "name": "stdout",
     "output_type": "stream",
     "text": [
      "0.0 630634.56 630634.5387015045\n",
      "55150.357652509745 567571.1 622721.4278793475\n",
      "110300.71530501949 504507.53 614808.3548143286\n",
      "165451.0729575293 441444.06 606895.2433242139\n",
      "220601.43061003898 378380.97 598982.1691587783\n",
      "275751.7882625488 315317.28 591069.0576133011\n",
      "330902.1459150586 252253.77 583155.9656697131\n",
      "386052.50356756884 189190.48 575242.8728419382\n",
      "441202.86122007796 126126.88 567329.7710974053\n",
      "496353.21887258784 63063.44 559416.673811251\n",
      "551503.5765250976 0.0 551503.5765250976\n"
     ]
    }
   ],
   "source": [
    "ensembling_errors = {}\n",
    "for alpha in np.linspace(0,1,11):\n",
    "    y1 = ensembling_preds.Pred1*alpha\n",
    "    y2 = ensembling_preds.Pred2*(1-alpha)\n",
    "    ypred = y1 + y2\n",
    "    rmse = {}\n",
    "    ensembling_errors[alpha] = get_error(ypred, submission_like_df.item_cnt_month)    "
   ]
  },
  {
   "cell_type": "code",
   "execution_count": 185,
   "metadata": {},
   "outputs": [
    {
     "data": {
      "text/html": [
       "<div>\n",
       "<style scoped>\n",
       "    .dataframe tbody tr th:only-of-type {\n",
       "        vertical-align: middle;\n",
       "    }\n",
       "\n",
       "    .dataframe tbody tr th {\n",
       "        vertical-align: top;\n",
       "    }\n",
       "\n",
       "    .dataframe thead th {\n",
       "        text-align: right;\n",
       "    }\n",
       "</style>\n",
       "<table border=\"1\" class=\"dataframe\">\n",
       "  <thead>\n",
       "    <tr style=\"text-align: right;\">\n",
       "      <th></th>\n",
       "      <th>0.0</th>\n",
       "      <th>0.1</th>\n",
       "      <th>0.2</th>\n",
       "      <th>0.3</th>\n",
       "      <th>0.4</th>\n",
       "      <th>0.5</th>\n",
       "      <th>0.6</th>\n",
       "      <th>0.7</th>\n",
       "      <th>0.8</th>\n",
       "      <th>0.9</th>\n",
       "      <th>1.0</th>\n",
       "    </tr>\n",
       "  </thead>\n",
       "  <tbody>\n",
       "    <tr>\n",
       "      <th>2015-02</th>\n",
       "      <td>0.730089</td>\n",
       "      <td>0.808959</td>\n",
       "      <td>0.991199</td>\n",
       "      <td>1.231753</td>\n",
       "      <td>1.502875</td>\n",
       "      <td>1.790734</td>\n",
       "      <td>2.088421</td>\n",
       "      <td>2.392270</td>\n",
       "      <td>2.700201</td>\n",
       "      <td>3.010962</td>\n",
       "      <td>3.323760</td>\n",
       "    </tr>\n",
       "    <tr>\n",
       "      <th>2015-03</th>\n",
       "      <td>0.836271</td>\n",
       "      <td>0.870167</td>\n",
       "      <td>0.944277</td>\n",
       "      <td>1.050120</td>\n",
       "      <td>1.179183</td>\n",
       "      <td>1.324696</td>\n",
       "      <td>1.481820</td>\n",
       "      <td>1.647236</td>\n",
       "      <td>1.818684</td>\n",
       "      <td>1.994608</td>\n",
       "      <td>2.173922</td>\n",
       "    </tr>\n",
       "    <tr>\n",
       "      <th>2015-04</th>\n",
       "      <td>3.679942</td>\n",
       "      <td>3.708544</td>\n",
       "      <td>3.747657</td>\n",
       "      <td>3.796955</td>\n",
       "      <td>3.856050</td>\n",
       "      <td>3.924497</td>\n",
       "      <td>4.001817</td>\n",
       "      <td>4.087507</td>\n",
       "      <td>4.181052</td>\n",
       "      <td>4.281936</td>\n",
       "      <td>4.389656</td>\n",
       "    </tr>\n",
       "    <tr>\n",
       "      <th>2015-05</th>\n",
       "      <td>2.069079</td>\n",
       "      <td>2.108778</td>\n",
       "      <td>2.175529</td>\n",
       "      <td>2.266943</td>\n",
       "      <td>2.380181</td>\n",
       "      <td>2.512293</td>\n",
       "      <td>2.660468</td>\n",
       "      <td>2.822179</td>\n",
       "      <td>2.995233</td>\n",
       "      <td>3.177778</td>\n",
       "      <td>3.368271</td>\n",
       "    </tr>\n",
       "    <tr>\n",
       "      <th>2015-06</th>\n",
       "      <td>0.680194</td>\n",
       "      <td>0.706784</td>\n",
       "      <td>0.762482</td>\n",
       "      <td>0.841527</td>\n",
       "      <td>0.938036</td>\n",
       "      <td>1.047191</td>\n",
       "      <td>1.165445</td>\n",
       "      <td>1.290299</td>\n",
       "      <td>1.420012</td>\n",
       "      <td>1.553368</td>\n",
       "      <td>1.689504</td>\n",
       "    </tr>\n",
       "    <tr>\n",
       "      <th>2015-07</th>\n",
       "      <td>0.486832</td>\n",
       "      <td>0.507419</td>\n",
       "      <td>0.541033</td>\n",
       "      <td>0.585434</td>\n",
       "      <td>0.638375</td>\n",
       "      <td>0.697915</td>\n",
       "      <td>0.762511</td>\n",
       "      <td>0.830983</td>\n",
       "      <td>0.902450</td>\n",
       "      <td>0.976255</td>\n",
       "      <td>1.051905</td>\n",
       "    </tr>\n",
       "    <tr>\n",
       "      <th>2015-08</th>\n",
       "      <td>0.591085</td>\n",
       "      <td>0.614610</td>\n",
       "      <td>0.654389</td>\n",
       "      <td>0.707685</td>\n",
       "      <td>0.771704</td>\n",
       "      <td>0.844008</td>\n",
       "      <td>0.922652</td>\n",
       "      <td>1.006150</td>\n",
       "      <td>1.093390</td>\n",
       "      <td>1.183547</td>\n",
       "      <td>1.276000</td>\n",
       "    </tr>\n",
       "    <tr>\n",
       "      <th>2015-09</th>\n",
       "      <td>0.916012</td>\n",
       "      <td>1.149043</td>\n",
       "      <td>1.612483</td>\n",
       "      <td>2.162980</td>\n",
       "      <td>2.748716</td>\n",
       "      <td>3.351265</td>\n",
       "      <td>3.962966</td>\n",
       "      <td>4.580152</td>\n",
       "      <td>5.200872</td>\n",
       "      <td>5.823995</td>\n",
       "      <td>6.448826</td>\n",
       "    </tr>\n",
       "    <tr>\n",
       "      <th>2015-10</th>\n",
       "      <td>0.781028</td>\n",
       "      <td>0.954018</td>\n",
       "      <td>1.260275</td>\n",
       "      <td>1.626173</td>\n",
       "      <td>2.019550</td>\n",
       "      <td>2.427082</td>\n",
       "      <td>2.842688</td>\n",
       "      <td>3.263284</td>\n",
       "      <td>3.687162</td>\n",
       "      <td>4.113309</td>\n",
       "      <td>4.541086</td>\n",
       "    </tr>\n",
       "  </tbody>\n",
       "</table>\n",
       "</div>"
      ],
      "text/plain": [
       "              0.0       0.1       0.2       0.3       0.4       0.5       0.6  \\\n",
       "2015-02  0.730089  0.808959  0.991199  1.231753  1.502875  1.790734  2.088421   \n",
       "2015-03  0.836271  0.870167  0.944277  1.050120  1.179183  1.324696  1.481820   \n",
       "2015-04  3.679942  3.708544  3.747657  3.796955  3.856050  3.924497  4.001817   \n",
       "2015-05  2.069079  2.108778  2.175529  2.266943  2.380181  2.512293  2.660468   \n",
       "2015-06  0.680194  0.706784  0.762482  0.841527  0.938036  1.047191  1.165445   \n",
       "2015-07  0.486832  0.507419  0.541033  0.585434  0.638375  0.697915  0.762511   \n",
       "2015-08  0.591085  0.614610  0.654389  0.707685  0.771704  0.844008  0.922652   \n",
       "2015-09  0.916012  1.149043  1.612483  2.162980  2.748716  3.351265  3.962966   \n",
       "2015-10  0.781028  0.954018  1.260275  1.626173  2.019550  2.427082  2.842688   \n",
       "\n",
       "              0.7       0.8       0.9       1.0  \n",
       "2015-02  2.392270  2.700201  3.010962  3.323760  \n",
       "2015-03  1.647236  1.818684  1.994608  2.173922  \n",
       "2015-04  4.087507  4.181052  4.281936  4.389656  \n",
       "2015-05  2.822179  2.995233  3.177778  3.368271  \n",
       "2015-06  1.290299  1.420012  1.553368  1.689504  \n",
       "2015-07  0.830983  0.902450  0.976255  1.051905  \n",
       "2015-08  1.006150  1.093390  1.183547  1.276000  \n",
       "2015-09  4.580152  5.200872  5.823995  6.448826  \n",
       "2015-10  3.263284  3.687162  4.113309  4.541086  "
      ]
     },
     "execution_count": 185,
     "metadata": {},
     "output_type": "execute_result"
    }
   ],
   "source": [
    "pd.concat(ensembling_errors, axis=1)"
   ]
  },
  {
   "cell_type": "code",
   "execution_count": 186,
   "metadata": {},
   "outputs": [],
   "source": [
    "ensembling_errors = {}\n",
    "for alpha in np.linspace(0,1,11):\n",
    "    y1 = (ensembling_preds.Pred1*alpha).clip(0,20)\n",
    "    y2 = (ensembling_preds.Pred2*(1-alpha)).clip(0,20)\n",
    "    ypred = y1 + y2\n",
    "    rmse = {}\n",
    "    ensembling_errors[alpha] = get_error(ypred, submission_like_df.item_cnt_month)    "
   ]
  },
  {
   "cell_type": "code",
   "execution_count": 187,
   "metadata": {},
   "outputs": [
    {
     "data": {
      "text/html": [
       "<div>\n",
       "<style scoped>\n",
       "    .dataframe tbody tr th:only-of-type {\n",
       "        vertical-align: middle;\n",
       "    }\n",
       "\n",
       "    .dataframe tbody tr th {\n",
       "        vertical-align: top;\n",
       "    }\n",
       "\n",
       "    .dataframe thead th {\n",
       "        text-align: right;\n",
       "    }\n",
       "</style>\n",
       "<table border=\"1\" class=\"dataframe\">\n",
       "  <thead>\n",
       "    <tr style=\"text-align: right;\">\n",
       "      <th></th>\n",
       "      <th>0.0</th>\n",
       "      <th>0.1</th>\n",
       "      <th>0.2</th>\n",
       "      <th>0.3</th>\n",
       "      <th>0.4</th>\n",
       "      <th>0.5</th>\n",
       "      <th>0.6</th>\n",
       "      <th>0.7</th>\n",
       "      <th>0.8</th>\n",
       "      <th>0.9</th>\n",
       "      <th>1.0</th>\n",
       "    </tr>\n",
       "  </thead>\n",
       "  <tbody>\n",
       "    <tr>\n",
       "      <th>2015-02</th>\n",
       "      <td>1.398093</td>\n",
       "      <td>1.291655</td>\n",
       "      <td>1.283838</td>\n",
       "      <td>1.312344</td>\n",
       "      <td>1.354772</td>\n",
       "      <td>1.406427</td>\n",
       "      <td>1.466465</td>\n",
       "      <td>1.535027</td>\n",
       "      <td>1.618127</td>\n",
       "      <td>1.726074</td>\n",
       "      <td>1.866527</td>\n",
       "    </tr>\n",
       "    <tr>\n",
       "      <th>2015-03</th>\n",
       "      <td>1.383413</td>\n",
       "      <td>1.326289</td>\n",
       "      <td>1.303098</td>\n",
       "      <td>1.301350</td>\n",
       "      <td>1.310171</td>\n",
       "      <td>1.327345</td>\n",
       "      <td>1.349269</td>\n",
       "      <td>1.376163</td>\n",
       "      <td>1.417565</td>\n",
       "      <td>1.483023</td>\n",
       "      <td>1.593579</td>\n",
       "    </tr>\n",
       "    <tr>\n",
       "      <th>2015-04</th>\n",
       "      <td>4.283555</td>\n",
       "      <td>4.248676</td>\n",
       "      <td>4.241189</td>\n",
       "      <td>4.247414</td>\n",
       "      <td>4.259812</td>\n",
       "      <td>4.275784</td>\n",
       "      <td>4.294376</td>\n",
       "      <td>4.319241</td>\n",
       "      <td>4.351542</td>\n",
       "      <td>4.399019</td>\n",
       "      <td>4.494598</td>\n",
       "    </tr>\n",
       "    <tr>\n",
       "      <th>2015-05</th>\n",
       "      <td>3.516500</td>\n",
       "      <td>3.427689</td>\n",
       "      <td>3.425759</td>\n",
       "      <td>3.433243</td>\n",
       "      <td>3.443992</td>\n",
       "      <td>3.456068</td>\n",
       "      <td>3.470172</td>\n",
       "      <td>3.487669</td>\n",
       "      <td>3.512128</td>\n",
       "      <td>3.552227</td>\n",
       "      <td>3.679940</td>\n",
       "    </tr>\n",
       "    <tr>\n",
       "      <th>2015-06</th>\n",
       "      <td>1.952567</td>\n",
       "      <td>1.836252</td>\n",
       "      <td>1.822722</td>\n",
       "      <td>1.824395</td>\n",
       "      <td>1.832513</td>\n",
       "      <td>1.843490</td>\n",
       "      <td>1.858044</td>\n",
       "      <td>1.877907</td>\n",
       "      <td>1.905605</td>\n",
       "      <td>1.945858</td>\n",
       "      <td>2.082457</td>\n",
       "    </tr>\n",
       "    <tr>\n",
       "      <th>2015-07</th>\n",
       "      <td>1.772694</td>\n",
       "      <td>1.666968</td>\n",
       "      <td>1.652877</td>\n",
       "      <td>1.652776</td>\n",
       "      <td>1.660306</td>\n",
       "      <td>1.671594</td>\n",
       "      <td>1.686075</td>\n",
       "      <td>1.704619</td>\n",
       "      <td>1.731901</td>\n",
       "      <td>1.775741</td>\n",
       "      <td>1.901280</td>\n",
       "    </tr>\n",
       "    <tr>\n",
       "      <th>2015-08</th>\n",
       "      <td>1.838626</td>\n",
       "      <td>1.740962</td>\n",
       "      <td>1.724023</td>\n",
       "      <td>1.716241</td>\n",
       "      <td>1.720874</td>\n",
       "      <td>1.731365</td>\n",
       "      <td>1.746843</td>\n",
       "      <td>1.766449</td>\n",
       "      <td>1.797037</td>\n",
       "      <td>1.851007</td>\n",
       "      <td>1.991867</td>\n",
       "    </tr>\n",
       "    <tr>\n",
       "      <th>2015-09</th>\n",
       "      <td>6.580991</td>\n",
       "      <td>6.540365</td>\n",
       "      <td>6.526896</td>\n",
       "      <td>6.517906</td>\n",
       "      <td>6.512797</td>\n",
       "      <td>6.512825</td>\n",
       "      <td>6.516079</td>\n",
       "      <td>6.521631</td>\n",
       "      <td>6.531341</td>\n",
       "      <td>6.549699</td>\n",
       "      <td>6.709810</td>\n",
       "    </tr>\n",
       "    <tr>\n",
       "      <th>2015-10</th>\n",
       "      <td>5.097406</td>\n",
       "      <td>5.024416</td>\n",
       "      <td>5.018724</td>\n",
       "      <td>5.018010</td>\n",
       "      <td>5.022232</td>\n",
       "      <td>5.029541</td>\n",
       "      <td>5.040473</td>\n",
       "      <td>5.055123</td>\n",
       "      <td>5.076927</td>\n",
       "      <td>5.109416</td>\n",
       "      <td>5.218142</td>\n",
       "    </tr>\n",
       "  </tbody>\n",
       "</table>\n",
       "</div>"
      ],
      "text/plain": [
       "              0.0       0.1       0.2       0.3       0.4       0.5       0.6  \\\n",
       "2015-02  1.398093  1.291655  1.283838  1.312344  1.354772  1.406427  1.466465   \n",
       "2015-03  1.383413  1.326289  1.303098  1.301350  1.310171  1.327345  1.349269   \n",
       "2015-04  4.283555  4.248676  4.241189  4.247414  4.259812  4.275784  4.294376   \n",
       "2015-05  3.516500  3.427689  3.425759  3.433243  3.443992  3.456068  3.470172   \n",
       "2015-06  1.952567  1.836252  1.822722  1.824395  1.832513  1.843490  1.858044   \n",
       "2015-07  1.772694  1.666968  1.652877  1.652776  1.660306  1.671594  1.686075   \n",
       "2015-08  1.838626  1.740962  1.724023  1.716241  1.720874  1.731365  1.746843   \n",
       "2015-09  6.580991  6.540365  6.526896  6.517906  6.512797  6.512825  6.516079   \n",
       "2015-10  5.097406  5.024416  5.018724  5.018010  5.022232  5.029541  5.040473   \n",
       "\n",
       "              0.7       0.8       0.9       1.0  \n",
       "2015-02  1.535027  1.618127  1.726074  1.866527  \n",
       "2015-03  1.376163  1.417565  1.483023  1.593579  \n",
       "2015-04  4.319241  4.351542  4.399019  4.494598  \n",
       "2015-05  3.487669  3.512128  3.552227  3.679940  \n",
       "2015-06  1.877907  1.905605  1.945858  2.082457  \n",
       "2015-07  1.704619  1.731901  1.775741  1.901280  \n",
       "2015-08  1.766449  1.797037  1.851007  1.991867  \n",
       "2015-09  6.521631  6.531341  6.549699  6.709810  \n",
       "2015-10  5.055123  5.076927  5.109416  5.218142  "
      ]
     },
     "execution_count": 187,
     "metadata": {},
     "output_type": "execute_result"
    }
   ],
   "source": [
    "pd.concat(ensembling_errors, axis=1)"
   ]
  },
  {
   "cell_type": "code",
   "execution_count": 188,
   "metadata": {},
   "outputs": [],
   "source": [
    "alpha = 0.3\n",
    "y1 = (ensembling_preds.Pred1*alpha).clip(0,20)\n",
    "y2 = (ensembling_preds.Pred2*(1-alpha)).clip(0,20)\n",
    "ypred = y1 + y2"
   ]
  },
  {
   "cell_type": "code",
   "execution_count": null,
   "metadata": {},
   "outputs": [],
   "source": [
    "ypred.loc[pd.Period('2015-11')]"
   ]
  },
  {
   "cell_type": "markdown",
   "metadata": {},
   "source": [
    "Other models"
   ]
  },
  {
   "cell_type": "markdown",
   "metadata": {},
   "source": [
    "### Random Forrest"
   ]
  },
  {
   "cell_type": "code",
   "execution_count": 50,
   "metadata": {},
   "outputs": [
    {
     "name": "stdout",
     "output_type": "stream",
     "text": [
      "Working on: 2015-02\n",
      "fit time: 157.65510964393616\n",
      "Working on: 2015-03\n",
      "fit time: 167.13195729255676\n",
      "Working on: 2015-04\n",
      "fit time: 162.0644872188568\n",
      "Working on: 2015-05\n",
      "fit time: 166.44589352607727\n",
      "Working on: 2015-06\n",
      "fit time: 157.0563473701477\n",
      "Working on: 2015-07\n",
      "fit time: 161.12535333633423\n",
      "Working on: 2015-08\n",
      "fit time: 167.23387360572815\n",
      "Working on: 2015-09\n",
      "fit time: 176.44227600097656\n"
     ]
    },
    {
     "data": {
      "text/html": [
       "<div>\n",
       "<style scoped>\n",
       "    .dataframe tbody tr th:only-of-type {\n",
       "        vertical-align: middle;\n",
       "    }\n",
       "\n",
       "    .dataframe tbody tr th {\n",
       "        vertical-align: top;\n",
       "    }\n",
       "\n",
       "    .dataframe thead th {\n",
       "        text-align: right;\n",
       "    }\n",
       "</style>\n",
       "<table border=\"1\" class=\"dataframe\">\n",
       "  <thead>\n",
       "    <tr style=\"text-align: right;\">\n",
       "      <th></th>\n",
       "      <th>PreInSampleRMSE</th>\n",
       "      <th>inSampleRMSE</th>\n",
       "      <th>PreOutSampleRMSE</th>\n",
       "      <th>outSampleRMSE</th>\n",
       "    </tr>\n",
       "  </thead>\n",
       "  <tbody>\n",
       "    <tr>\n",
       "      <th>2015-02</th>\n",
       "      <td>2.014472</td>\n",
       "      <td>2.292852</td>\n",
       "      <td>2.153181</td>\n",
       "      <td>2.631210</td>\n",
       "    </tr>\n",
       "    <tr>\n",
       "      <th>2015-03</th>\n",
       "      <td>1.988152</td>\n",
       "      <td>2.278655</td>\n",
       "      <td>3.323835</td>\n",
       "      <td>4.257576</td>\n",
       "    </tr>\n",
       "    <tr>\n",
       "      <th>2015-04</th>\n",
       "      <td>2.103979</td>\n",
       "      <td>2.439763</td>\n",
       "      <td>2.359528</td>\n",
       "      <td>3.142759</td>\n",
       "    </tr>\n",
       "    <tr>\n",
       "      <th>2015-05</th>\n",
       "      <td>2.178823</td>\n",
       "      <td>2.557594</td>\n",
       "      <td>1.019679</td>\n",
       "      <td>1.318083</td>\n",
       "    </tr>\n",
       "    <tr>\n",
       "      <th>2015-06</th>\n",
       "      <td>2.132482</td>\n",
       "      <td>2.536802</td>\n",
       "      <td>0.873650</td>\n",
       "      <td>1.108336</td>\n",
       "    </tr>\n",
       "    <tr>\n",
       "      <th>2015-07</th>\n",
       "      <td>2.135277</td>\n",
       "      <td>2.582634</td>\n",
       "      <td>1.087771</td>\n",
       "      <td>1.403946</td>\n",
       "    </tr>\n",
       "    <tr>\n",
       "      <th>2015-08</th>\n",
       "      <td>2.125936</td>\n",
       "      <td>2.612057</td>\n",
       "      <td>4.630965</td>\n",
       "      <td>6.445904</td>\n",
       "    </tr>\n",
       "    <tr>\n",
       "      <th>2015-09</th>\n",
       "      <td>2.369354</td>\n",
       "      <td>2.950731</td>\n",
       "      <td>3.557495</td>\n",
       "      <td>4.639217</td>\n",
       "    </tr>\n",
       "    <tr>\n",
       "      <th>FINAL</th>\n",
       "      <td>NaN</td>\n",
       "      <td>2.337687</td>\n",
       "      <td>NaN</td>\n",
       "      <td>NaN</td>\n",
       "    </tr>\n",
       "  </tbody>\n",
       "</table>\n",
       "</div>"
      ],
      "text/plain": [
       "         PreInSampleRMSE  inSampleRMSE  PreOutSampleRMSE  outSampleRMSE\n",
       "2015-02         2.014472      2.292852          2.153181       2.631210\n",
       "2015-03         1.988152      2.278655          3.323835       4.257576\n",
       "2015-04         2.103979      2.439763          2.359528       3.142759\n",
       "2015-05         2.178823      2.557594          1.019679       1.318083\n",
       "2015-06         2.132482      2.536802          0.873650       1.108336\n",
       "2015-07         2.135277      2.582634          1.087771       1.403946\n",
       "2015-08         2.125936      2.612057          4.630965       6.445904\n",
       "2015-09         2.369354      2.950731          3.557495       4.639217\n",
       "FINAL                NaN      2.337687               NaN            NaN"
      ]
     },
     "execution_count": 50,
     "metadata": {},
     "output_type": "execute_result"
    }
   ],
   "source": [
    "mod = RandomForestRegressor(n_estimators=5, max_depth=3, n_jobs=-1)\n",
    "res11 = rolling_cross_validation(mod, months[13:], num_lagged_values=0, num_stack_months=12, fit_final=True)\n",
    "res11.scores"
   ]
  },
  {
   "cell_type": "code",
   "execution_count": 51,
   "metadata": {},
   "outputs": [
    {
     "data": {
      "image/png": "[encoded data removed]",
      "text/plain": [
       "<Figure size 432x720 with 1 Axes>"
      ]
     },
     "metadata": {
      "needs_background": "light"
     },
     "output_type": "display_data"
    }
   ],
   "source": [
    "plot_feature_importances(res11.fitted_models['FINAL'])"
   ]
  },
  {
   "cell_type": "code",
   "execution_count": 103,
   "metadata": {},
   "outputs": [
    {
     "name": "stdout",
     "output_type": "stream",
     "text": [
      "Working on: 2015-02\n",
      "fit time: 1519.3715209960938\n",
      "Working on: 2015-03\n",
      "fit time: 1535.786041021347\n",
      "Working on: 2015-04\n",
      "fit time: 1463.752594947815\n",
      "Working on: 2015-05\n",
      "fit time: 1471.0660820007324\n",
      "Working on: 2015-06\n",
      "fit time: 1479.5447058677673\n",
      "Working on: 2015-07\n",
      "fit time: 1514.2314159870148\n",
      "Working on: 2015-08\n",
      "fit time: 1505.886890888214\n",
      "Working on: 2015-09\n",
      "fit time: 1483.0496306419373\n"
     ]
    },
    {
     "data": {
      "text/html": [
       "<div>\n",
       "<style scoped>\n",
       "    .dataframe tbody tr th:only-of-type {\n",
       "        vertical-align: middle;\n",
       "    }\n",
       "\n",
       "    .dataframe tbody tr th {\n",
       "        vertical-align: top;\n",
       "    }\n",
       "\n",
       "    .dataframe thead th {\n",
       "        text-align: right;\n",
       "    }\n",
       "</style>\n",
       "<table border=\"1\" class=\"dataframe\">\n",
       "  <thead>\n",
       "    <tr style=\"text-align: right;\">\n",
       "      <th></th>\n",
       "      <th>PreInSampleRMSE</th>\n",
       "      <th>inSampleRMSE</th>\n",
       "      <th>PreOutSampleRMSE</th>\n",
       "      <th>outSampleRMSE</th>\n",
       "    </tr>\n",
       "  </thead>\n",
       "  <tbody>\n",
       "    <tr>\n",
       "      <th>2015-02</th>\n",
       "      <td>1.791767</td>\n",
       "      <td>2.035318</td>\n",
       "      <td>2.021579</td>\n",
       "      <td>2.465638</td>\n",
       "    </tr>\n",
       "    <tr>\n",
       "      <th>2015-03</th>\n",
       "      <td>1.764429</td>\n",
       "      <td>2.025564</td>\n",
       "      <td>3.324435</td>\n",
       "      <td>4.220675</td>\n",
       "    </tr>\n",
       "    <tr>\n",
       "      <th>2015-04</th>\n",
       "      <td>1.901200</td>\n",
       "      <td>2.201253</td>\n",
       "      <td>2.345511</td>\n",
       "      <td>3.056807</td>\n",
       "    </tr>\n",
       "    <tr>\n",
       "      <th>2015-05</th>\n",
       "      <td>1.968547</td>\n",
       "      <td>2.309693</td>\n",
       "      <td>1.142206</td>\n",
       "      <td>1.488297</td>\n",
       "    </tr>\n",
       "    <tr>\n",
       "      <th>2015-06</th>\n",
       "      <td>1.951029</td>\n",
       "      <td>2.322303</td>\n",
       "      <td>0.801220</td>\n",
       "      <td>1.066336</td>\n",
       "    </tr>\n",
       "    <tr>\n",
       "      <th>2015-07</th>\n",
       "      <td>1.943119</td>\n",
       "      <td>2.349970</td>\n",
       "      <td>0.986363</td>\n",
       "      <td>1.301993</td>\n",
       "    </tr>\n",
       "    <tr>\n",
       "      <th>2015-08</th>\n",
       "      <td>1.931048</td>\n",
       "      <td>2.369730</td>\n",
       "      <td>4.557945</td>\n",
       "      <td>6.345695</td>\n",
       "    </tr>\n",
       "    <tr>\n",
       "      <th>2015-09</th>\n",
       "      <td>2.017162</td>\n",
       "      <td>2.513729</td>\n",
       "      <td>3.588552</td>\n",
       "      <td>4.623948</td>\n",
       "    </tr>\n",
       "    <tr>\n",
       "      <th>FINAL</th>\n",
       "      <td>NaN</td>\n",
       "      <td>1.966828</td>\n",
       "      <td>NaN</td>\n",
       "      <td>NaN</td>\n",
       "    </tr>\n",
       "  </tbody>\n",
       "</table>\n",
       "</div>"
      ],
      "text/plain": [
       "         PreInSampleRMSE  inSampleRMSE  PreOutSampleRMSE  outSampleRMSE\n",
       "2015-02         1.791767      2.035318          2.021579       2.465638\n",
       "2015-03         1.764429      2.025564          3.324435       4.220675\n",
       "2015-04         1.901200      2.201253          2.345511       3.056807\n",
       "2015-05         1.968547      2.309693          1.142206       1.488297\n",
       "2015-06         1.951029      2.322303          0.801220       1.066336\n",
       "2015-07         1.943119      2.349970          0.986363       1.301993\n",
       "2015-08         1.931048      2.369730          4.557945       6.345695\n",
       "2015-09         2.017162      2.513729          3.588552       4.623948\n",
       "FINAL                NaN      1.966828               NaN            NaN"
      ]
     },
     "execution_count": 103,
     "metadata": {},
     "output_type": "execute_result"
    }
   ],
   "source": [
    "mod = RandomForestRegressor(n_estimators=50, max_depth=5, n_jobs=-1)\n",
    "res5 = rolling_cross_validation(mod, months[13:], num_lagged_values=0, num_stack_months=12, fit_final=True)\n",
    "res5.scores"
   ]
  },
  {
   "cell_type": "code",
   "execution_count": 104,
   "metadata": {},
   "outputs": [
    {
     "data": {
      "image/png": "[encoded data removed]",
      "text/plain": [
       "<Figure size 432x720 with 1 Axes>"
      ]
     },
     "metadata": {
      "needs_background": "light"
     },
     "output_type": "display_data"
    }
   ],
   "source": [
    "plot_feature_importances(res5.fitted_models['FINAL'])"
   ]
  },
  {
   "cell_type": "markdown",
   "metadata": {},
   "source": [
    "### Linear Model"
   ]
  },
  {
   "cell_type": "code",
   "execution_count": 59,
   "metadata": {},
   "outputs": [
    {
     "name": "stdout",
     "output_type": "stream",
     "text": [
      "Working on: 2015-02\n",
      "fit time: 65.78097200393677\n",
      "Working on: 2015-03\n",
      "fit time: 54.72403526306152\n",
      "Working on: 2015-04\n",
      "fit time: 67.39345169067383\n",
      "Working on: 2015-05\n",
      "fit time: 69.66224312782288\n",
      "Working on: 2015-06\n",
      "fit time: 63.36846327781677\n",
      "Working on: 2015-07\n",
      "fit time: 58.59580135345459\n",
      "Working on: 2015-08\n",
      "fit time: 72.33271074295044\n",
      "Working on: 2015-09\n",
      "fit time: 73.44256091117859\n"
     ]
    },
    {
     "data": {
      "text/html": [
       "<div>\n",
       "<style scoped>\n",
       "    .dataframe tbody tr th:only-of-type {\n",
       "        vertical-align: middle;\n",
       "    }\n",
       "\n",
       "    .dataframe tbody tr th {\n",
       "        vertical-align: top;\n",
       "    }\n",
       "\n",
       "    .dataframe thead th {\n",
       "        text-align: right;\n",
       "    }\n",
       "</style>\n",
       "<table border=\"1\" class=\"dataframe\">\n",
       "  <thead>\n",
       "    <tr style=\"text-align: right;\">\n",
       "      <th></th>\n",
       "      <th>PreInSampleRMSE</th>\n",
       "      <th>inSampleRMSE</th>\n",
       "      <th>PreOutSampleRMSE</th>\n",
       "      <th>outSampleRMSE</th>\n",
       "    </tr>\n",
       "  </thead>\n",
       "  <tbody>\n",
       "    <tr>\n",
       "      <th>2015-02</th>\n",
       "      <td>2.025938</td>\n",
       "      <td>2.312923</td>\n",
       "      <td>1.540135</td>\n",
       "      <td>1.862554</td>\n",
       "    </tr>\n",
       "    <tr>\n",
       "      <th>2015-03</th>\n",
       "      <td>2.009423</td>\n",
       "      <td>2.311610</td>\n",
       "      <td>3.437756</td>\n",
       "      <td>4.396273</td>\n",
       "    </tr>\n",
       "    <tr>\n",
       "      <th>2015-04</th>\n",
       "      <td>2.144183</td>\n",
       "      <td>2.493302</td>\n",
       "      <td>2.456698</td>\n",
       "      <td>3.252347</td>\n",
       "    </tr>\n",
       "    <tr>\n",
       "      <th>2015-05</th>\n",
       "      <td>2.211525</td>\n",
       "      <td>2.605925</td>\n",
       "      <td>1.119091</td>\n",
       "      <td>1.436054</td>\n",
       "    </tr>\n",
       "    <tr>\n",
       "      <th>2015-06</th>\n",
       "      <td>2.201265</td>\n",
       "      <td>2.630486</td>\n",
       "      <td>0.753052</td>\n",
       "      <td>0.965527</td>\n",
       "    </tr>\n",
       "    <tr>\n",
       "      <th>2015-07</th>\n",
       "      <td>2.189368</td>\n",
       "      <td>2.654347</td>\n",
       "      <td>0.929130</td>\n",
       "      <td>1.194665</td>\n",
       "    </tr>\n",
       "    <tr>\n",
       "      <th>2015-08</th>\n",
       "      <td>2.182389</td>\n",
       "      <td>2.687475</td>\n",
       "      <td>4.601868</td>\n",
       "      <td>6.404143</td>\n",
       "    </tr>\n",
       "    <tr>\n",
       "      <th>2015-09</th>\n",
       "      <td>2.447985</td>\n",
       "      <td>3.058120</td>\n",
       "      <td>3.768735</td>\n",
       "      <td>4.639154</td>\n",
       "    </tr>\n",
       "    <tr>\n",
       "      <th>FINAL</th>\n",
       "      <td>NaN</td>\n",
       "      <td>2.557398</td>\n",
       "      <td>NaN</td>\n",
       "      <td>NaN</td>\n",
       "    </tr>\n",
       "  </tbody>\n",
       "</table>\n",
       "</div>"
      ],
      "text/plain": [
       "         PreInSampleRMSE  inSampleRMSE  PreOutSampleRMSE  outSampleRMSE\n",
       "2015-02         2.025938      2.312923          1.540135       1.862554\n",
       "2015-03         2.009423      2.311610          3.437756       4.396273\n",
       "2015-04         2.144183      2.493302          2.456698       3.252347\n",
       "2015-05         2.211525      2.605925          1.119091       1.436054\n",
       "2015-06         2.201265      2.630486          0.753052       0.965527\n",
       "2015-07         2.189368      2.654347          0.929130       1.194665\n",
       "2015-08         2.182389      2.687475          4.601868       6.404143\n",
       "2015-09         2.447985      3.058120          3.768735       4.639154\n",
       "FINAL                NaN      2.557398               NaN            NaN"
      ]
     },
     "execution_count": 59,
     "metadata": {},
     "output_type": "execute_result"
    }
   ],
   "source": [
    "mod = LinearRegression()\n",
    "res6 = rolling_cross_validation(mod, months[13:], num_lagged_values=0, num_stack_months=12, fit_final=True)\n",
    "res6.scores"
   ]
  },
  {
   "cell_type": "code",
   "execution_count": 60,
   "metadata": {},
   "outputs": [
    {
     "data": {
      "text/plain": [
       "array([ 3.12574273e+00, -1.75789875e+01,  3.13284334e+01, -4.30184668e+01,\n",
       "        4.57600290e+01, -1.81711770e+01, -6.86776623e-01,  5.97470903e+00,\n",
       "       -1.91067922e+01,  6.53419483e+01, -1.07164011e+02,  5.51536610e+01,\n",
       "       -1.88443690e-05,  1.25016372e-04, -2.09950996e-04,  3.05900372e-04,\n",
       "       -3.37809208e-04,  1.35138353e-04,  4.35773195e-07, -1.96074045e-06,\n",
       "        2.25377399e-06, -5.30107211e-07, -3.08494377e-06,  2.87819596e-06,\n",
       "       -3.77551385e-02, -3.77551230e-02, -3.77551372e-02, -3.77551324e-02,\n",
       "       -2.69782901e-02, -2.69782920e-02, -2.69782805e-02, -2.69782847e-02,\n",
       "       -1.62014577e-02, -1.62014613e-02, -1.62014612e-02, -1.62014613e-02,\n",
       "       -1.19651198e-03,  9.95776028e-03, -2.17316180e-02,  5.32102154e-02,\n",
       "       -7.67922067e-02,  3.66218938e-02,  3.42097840e-03, -3.15958923e-02,\n",
       "        7.03021668e-02, -1.70186007e-01,  2.49755211e-01, -1.21724269e-01,\n",
       "       -1.25173120e-04,  1.27107704e-03, -2.19753938e-03,  1.60137919e-03,\n",
       "        1.85096965e-04, -7.77953635e-04,  1.32567873e-01, -2.13826141e-02,\n",
       "        4.59819629e-03, -2.82993131e-02,  5.24962911e-02, -2.24031040e-01,\n",
       "        2.79128031e-01, -1.60219618e-01, -4.46740191e-02,  9.81535181e-02,\n",
       "       -9.32962637e-03,  4.87828117e-02,  1.92350051e-02])"
      ]
     },
     "execution_count": 60,
     "metadata": {},
     "output_type": "execute_result"
    }
   ],
   "source": [
    "res6.fitted_models['FINAL'].coef_"
   ]
  },
  {
   "cell_type": "markdown",
   "metadata": {},
   "source": [
    "Parameter hypertuning:\n",
    "- num_boost_rounds: 10 - 500\n",
    "- max_depth: 5 - 30\n",
    "- eta : 0.5 - 0.01"
   ]
  }
 ],
 "metadata": {
  "kernelspec": {
   "display_name": "Python 3",
   "language": "python",
   "name": "python3"
  },
  "language_info": {
   "codemirror_mode": {
    "name": "ipython",
    "version": 3
   },
   "file_extension": ".py",
   "mimetype": "text/x-python",
   "name": "python",
   "nbconvert_exporter": "python",
   "pygments_lexer": "ipython3",
   "version": "3.6.10"
  }
 },
 "nbformat": 4,
 "nbformat_minor": 4
}
