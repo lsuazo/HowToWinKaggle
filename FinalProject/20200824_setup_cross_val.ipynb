{
 "cells": [
  {
   "cell_type": "code",
   "execution_count": 1,
   "metadata": {},
   "outputs": [],
   "source": [
    "import os\n",
    "import time\n",
    "from collections import deque\n",
    "from importlib import reload\n",
    "\n",
    "import matplotlib.pyplot as plt\n",
    "import numpy as np\n",
    "import pandas as pd\n",
    "import seaborn as sns\n",
    "\n",
    "from sklearn.ensemble import RandomForestRegressor\n",
    "from sklearn.metrics import mean_squared_error\n",
    "\n",
    "%matplotlib inline\n",
    "\n",
    "import utilities"
   ]
  },
  {
   "cell_type": "markdown",
   "metadata": {},
   "source": [
    "Features to add:\n",
    "- add item_category, shop_id, and item_id as features\n",
    "- encode these categorical vars: mean encode - HOW?\n",
    "    - most successfull one in the homework was expanding mean scheme. - suggests I need lagged features too\n",
    "\n",
    "- create a feature that bins shops into groups based on net income\n",
    "    - perhaps net income by category of item\n",
    "- create feature that bins shops into groups based on seasonal pattern (spectral biclustering?)\n",
    "- similarly create a feature that groups products based on seasonal pattern\n",
    "- need to add date indicators:\n",
    "    * perhaps group months into high holiday/low holiday count\n",
    "    * perhaps number of days in month\n",
    "    * number of weekend days vs week days\n",
    "- create features based on lagged behavior\n",
    "    * rolling windows sum/variance (last 3 mos, last 6 months, last year)\n",
    "    * can do this for each item, or can use this as an encoding of shop, and category ids\n"
   ]
  },
  {
   "cell_type": "code",
   "execution_count": 2,
   "metadata": {},
   "outputs": [],
   "source": [
    "sales = utilities.load_and_preprocess()"
   ]
  },
  {
   "cell_type": "markdown",
   "metadata": {},
   "source": [
    "# Pre processing"
   ]
  },
  {
   "cell_type": "code",
   "execution_count": 3,
   "metadata": {},
   "outputs": [],
   "source": [
    "agg_sales = utilities.aggregate_monthly(sales)\n",
    "piv_agg_sales = agg_sales.set_index(['Month', 'shop_id', 'item_id']).item_cnt_month.unstack(level=0).fillna(0)"
   ]
  },
  {
   "cell_type": "code",
   "execution_count": 4,
   "metadata": {},
   "outputs": [],
   "source": [
    "stacked = piv_agg_sales.stack()"
   ]
  },
  {
   "cell_type": "code",
   "execution_count": 5,
   "metadata": {},
   "outputs": [
    {
     "data": {
      "text/plain": [
       "count    1.606541e+06\n",
       "mean     2.270845e+00\n",
       "std      8.656355e+00\n",
       "min     -2.200000e+01\n",
       "25%      1.000000e+00\n",
       "50%      1.000000e+00\n",
       "75%      2.000000e+00\n",
       "max      2.253000e+03\n",
       "dtype: float64"
      ]
     },
     "execution_count": 5,
     "metadata": {},
     "output_type": "execute_result"
    }
   ],
   "source": [
    "stacked[stacked !=0].describe()"
   ]
  },
  {
   "cell_type": "code",
   "execution_count": 6,
   "metadata": {},
   "outputs": [
    {
     "data": {
      "text/plain": [
       "shop_id  item_id  Month  \n",
       "12       8023     2013-11     -22.0\n",
       "         1590     2013-01     -13.0\n",
       "         1593     2013-01      -6.0\n",
       "         11367    2014-08      -5.0\n",
       "         3732     2013-11      -4.0\n",
       "                              ...  \n",
       "55       3730     2015-04    1242.0\n",
       "31       20949    2013-12    1305.0\n",
       "55       9249     2015-09    1644.0\n",
       "12       9248     2015-09    1644.0\n",
       "         11373    2015-10    2253.0\n",
       "Length: 14420216, dtype: float64"
      ]
     },
     "execution_count": 6,
     "metadata": {},
     "output_type": "execute_result"
    }
   ],
   "source": [
    "stacked.sort_values()"
   ]
  },
  {
   "cell_type": "code",
   "execution_count": 7,
   "metadata": {},
   "outputs": [],
   "source": [
    "preprocessed_data = np.clip(piv_agg_sales, 0, 20)"
   ]
  },
  {
   "cell_type": "code",
   "execution_count": 8,
   "metadata": {},
   "outputs": [
    {
     "data": {
      "text/plain": [
       "shop_id  item_id  Month  \n",
       "0        30       2013-01     0.0\n",
       "41       17063    2015-02     0.0\n",
       "                  2015-03     0.0\n",
       "                  2015-04     0.0\n",
       "                  2015-05     0.0\n",
       "                             ... \n",
       "25       4084     2015-06    20.0\n",
       "14       2308     2015-06    20.0\n",
       "22       3329     2014-02    20.0\n",
       "9        15284    2014-10    20.0\n",
       "51       2814     2014-04    20.0\n",
       "Length: 14420216, dtype: float64"
      ]
     },
     "execution_count": 8,
     "metadata": {},
     "output_type": "execute_result"
    }
   ],
   "source": [
    "preprocessed_data.stack().sort_values()"
   ]
  },
  {
   "cell_type": "markdown",
   "metadata": {},
   "source": [
    "# Feature generation"
   ]
  },
  {
   "cell_type": "code",
   "execution_count": 9,
   "metadata": {},
   "outputs": [],
   "source": [
    "target_encode_items = preprocessed_data.groupby(level=1).transform('sum')\n",
    "target_encode_shops = preprocessed_data.groupby(level=0).transform('sum')"
   ]
  },
  {
   "cell_type": "code",
   "execution_count": 10,
   "metadata": {},
   "outputs": [
    {
     "name": "stdout",
     "output_type": "stream",
     "text": [
      "Wall time: 38.5 s\n"
     ]
    }
   ],
   "source": [
    "%%time\n",
    "half_lifes = [3,6,9,12]\n",
    "sales_ewms_mean = {tau:preprocessed_data.ewm(halflife=6, axis=1, min_periods=tau).mean() for tau in half_lifes}\n",
    "sales_ewms_std = {tau:preprocessed_data.ewm(halflife=6, axis=1, min_periods=tau).std() for tau in half_lifes}\n",
    "items_ewms = {tau:target_encode_items.ewm(halflife=6, axis=1, min_periods=tau).mean() for tau in half_lifes}\n",
    "shops_ewms = {tau:target_encode_shops.ewm(halflife=6, axis=1, min_periods=tau).mean() for tau in half_lifes}"
   ]
  },
  {
   "cell_type": "code",
   "execution_count": 11,
   "metadata": {},
   "outputs": [],
   "source": [
    "all_months = preprocessed_data.columns.tolist()\n",
    "full_data_monts = all_months[11:-1]"
   ]
  },
  {
   "cell_type": "code",
   "execution_count": 12,
   "metadata": {},
   "outputs": [],
   "source": [
    "sales_mean_features = {f'sales_ewms_mean_{tau}': sales_ewms_mean[tau] for tau in half_lifes}\n",
    "sales_std_features = {f'sales_ewms_std_{tau}': sales_ewms_std[tau] for tau in half_lifes}\n",
    "items_features = {f'items_ewms_{tau}': items_ewms[tau] for tau in half_lifes}\n",
    "shops_features = {f'shops_ewms_{tau}': shops_ewms[tau] for tau in half_lifes}\n",
    "\n",
    "features_dict = {**sales_mean_features, **sales_std_features, **items_features, **shops_features}\n",
    "\n",
    "# Note that I use raw-data for objective \n",
    "objectives = piv_agg_sales.shift(-1, axis=1)"
   ]
  },
  {
   "cell_type": "code",
   "execution_count": 13,
   "metadata": {},
   "outputs": [],
   "source": [
    "def get_single_month_XY(month_):\n",
    "    cols = [df[month_].rename(name) for (name, df) in features_dict.items()]\n",
    "    X = pd.concat(cols, axis=1)\n",
    "    Y = objectives[month_]\n",
    "    \n",
    "    # might turn this into separate function to pass into here\n",
    "    X['month'] = month_.month\n",
    "    X['season'] = X.month.map({1:0, 2:0, 3:0, 4:1, 5:1, 6:1, 7:1, 8:2, 9:2, 10:2, 11:3, 12:3})\n",
    "    \n",
    "    return X,Y"
   ]
  },
  {
   "cell_type": "code",
   "execution_count": 14,
   "metadata": {},
   "outputs": [],
   "source": [
    "tempx, tempy = get_single_month_XY(all_months[-1])"
   ]
  },
  {
   "cell_type": "code",
   "execution_count": 15,
   "metadata": {},
   "outputs": [
    {
     "data": {
      "text/html": [
       "<div>\n",
       "<style scoped>\n",
       "    .dataframe tbody tr th:only-of-type {\n",
       "        vertical-align: middle;\n",
       "    }\n",
       "\n",
       "    .dataframe tbody tr th {\n",
       "        vertical-align: top;\n",
       "    }\n",
       "\n",
       "    .dataframe thead th {\n",
       "        text-align: right;\n",
       "    }\n",
       "</style>\n",
       "<table border=\"1\" class=\"dataframe\">\n",
       "  <thead>\n",
       "    <tr style=\"text-align: right;\">\n",
       "      <th></th>\n",
       "      <th></th>\n",
       "      <th>sales_ewms_mean_3</th>\n",
       "      <th>sales_ewms_mean_6</th>\n",
       "      <th>sales_ewms_mean_9</th>\n",
       "      <th>sales_ewms_mean_12</th>\n",
       "      <th>sales_ewms_std_3</th>\n",
       "      <th>sales_ewms_std_6</th>\n",
       "      <th>sales_ewms_std_9</th>\n",
       "      <th>sales_ewms_std_12</th>\n",
       "      <th>items_ewms_3</th>\n",
       "      <th>items_ewms_6</th>\n",
       "      <th>items_ewms_9</th>\n",
       "      <th>items_ewms_12</th>\n",
       "      <th>shops_ewms_3</th>\n",
       "      <th>shops_ewms_6</th>\n",
       "      <th>shops_ewms_9</th>\n",
       "      <th>shops_ewms_12</th>\n",
       "      <th>month</th>\n",
       "      <th>season</th>\n",
       "    </tr>\n",
       "    <tr>\n",
       "      <th>shop_id</th>\n",
       "      <th>item_id</th>\n",
       "      <th></th>\n",
       "      <th></th>\n",
       "      <th></th>\n",
       "      <th></th>\n",
       "      <th></th>\n",
       "      <th></th>\n",
       "      <th></th>\n",
       "      <th></th>\n",
       "      <th></th>\n",
       "      <th></th>\n",
       "      <th></th>\n",
       "      <th></th>\n",
       "      <th></th>\n",
       "      <th></th>\n",
       "      <th></th>\n",
       "      <th></th>\n",
       "      <th></th>\n",
       "      <th></th>\n",
       "    </tr>\n",
       "  </thead>\n",
       "  <tbody>\n",
       "    <tr>\n",
       "      <th rowspan=\"5\" valign=\"top\">0</th>\n",
       "      <th>30</th>\n",
       "      <td>0.055208</td>\n",
       "      <td>0.055208</td>\n",
       "      <td>0.055208</td>\n",
       "      <td>0.055208</td>\n",
       "      <td>1.082319</td>\n",
       "      <td>1.082319</td>\n",
       "      <td>1.082319</td>\n",
       "      <td>1.082319</td>\n",
       "      <td>12.546831</td>\n",
       "      <td>12.546831</td>\n",
       "      <td>12.546831</td>\n",
       "      <td>12.546831</td>\n",
       "      <td>29.37242</td>\n",
       "      <td>29.37242</td>\n",
       "      <td>29.37242</td>\n",
       "      <td>29.37242</td>\n",
       "      <td>10</td>\n",
       "      <td>2</td>\n",
       "    </tr>\n",
       "    <tr>\n",
       "      <th>31</th>\n",
       "      <td>0.030364</td>\n",
       "      <td>0.030364</td>\n",
       "      <td>0.030364</td>\n",
       "      <td>0.030364</td>\n",
       "      <td>0.595275</td>\n",
       "      <td>0.595275</td>\n",
       "      <td>0.595275</td>\n",
       "      <td>0.595275</td>\n",
       "      <td>18.898858</td>\n",
       "      <td>18.898858</td>\n",
       "      <td>18.898858</td>\n",
       "      <td>18.898858</td>\n",
       "      <td>29.37242</td>\n",
       "      <td>29.37242</td>\n",
       "      <td>29.37242</td>\n",
       "      <td>29.37242</td>\n",
       "      <td>10</td>\n",
       "      <td>2</td>\n",
       "    </tr>\n",
       "    <tr>\n",
       "      <th>32</th>\n",
       "      <td>0.042359</td>\n",
       "      <td>0.042359</td>\n",
       "      <td>0.042359</td>\n",
       "      <td>0.042359</td>\n",
       "      <td>0.621241</td>\n",
       "      <td>0.621241</td>\n",
       "      <td>0.621241</td>\n",
       "      <td>0.621241</td>\n",
       "      <td>31.954147</td>\n",
       "      <td>31.954147</td>\n",
       "      <td>31.954147</td>\n",
       "      <td>31.954147</td>\n",
       "      <td>29.37242</td>\n",
       "      <td>29.37242</td>\n",
       "      <td>29.37242</td>\n",
       "      <td>29.37242</td>\n",
       "      <td>10</td>\n",
       "      <td>2</td>\n",
       "    </tr>\n",
       "    <tr>\n",
       "      <th>33</th>\n",
       "      <td>0.015659</td>\n",
       "      <td>0.015659</td>\n",
       "      <td>0.015659</td>\n",
       "      <td>0.015659</td>\n",
       "      <td>0.222969</td>\n",
       "      <td>0.222969</td>\n",
       "      <td>0.222969</td>\n",
       "      <td>0.222969</td>\n",
       "      <td>17.680996</td>\n",
       "      <td>17.680996</td>\n",
       "      <td>17.680996</td>\n",
       "      <td>17.680996</td>\n",
       "      <td>29.37242</td>\n",
       "      <td>29.37242</td>\n",
       "      <td>29.37242</td>\n",
       "      <td>29.37242</td>\n",
       "      <td>10</td>\n",
       "      <td>2</td>\n",
       "    </tr>\n",
       "    <tr>\n",
       "      <th>35</th>\n",
       "      <td>0.041105</td>\n",
       "      <td>0.041105</td>\n",
       "      <td>0.041105</td>\n",
       "      <td>0.041105</td>\n",
       "      <td>0.759210</td>\n",
       "      <td>0.759210</td>\n",
       "      <td>0.759210</td>\n",
       "      <td>0.759210</td>\n",
       "      <td>0.628753</td>\n",
       "      <td>0.628753</td>\n",
       "      <td>0.628753</td>\n",
       "      <td>0.628753</td>\n",
       "      <td>29.37242</td>\n",
       "      <td>29.37242</td>\n",
       "      <td>29.37242</td>\n",
       "      <td>29.37242</td>\n",
       "      <td>10</td>\n",
       "      <td>2</td>\n",
       "    </tr>\n",
       "  </tbody>\n",
       "</table>\n",
       "</div>"
      ],
      "text/plain": [
       "                 sales_ewms_mean_3  sales_ewms_mean_6  sales_ewms_mean_9  \\\n",
       "shop_id item_id                                                            \n",
       "0       30                0.055208           0.055208           0.055208   \n",
       "        31                0.030364           0.030364           0.030364   \n",
       "        32                0.042359           0.042359           0.042359   \n",
       "        33                0.015659           0.015659           0.015659   \n",
       "        35                0.041105           0.041105           0.041105   \n",
       "\n",
       "                 sales_ewms_mean_12  sales_ewms_std_3  sales_ewms_std_6  \\\n",
       "shop_id item_id                                                           \n",
       "0       30                 0.055208          1.082319          1.082319   \n",
       "        31                 0.030364          0.595275          0.595275   \n",
       "        32                 0.042359          0.621241          0.621241   \n",
       "        33                 0.015659          0.222969          0.222969   \n",
       "        35                 0.041105          0.759210          0.759210   \n",
       "\n",
       "                 sales_ewms_std_9  sales_ewms_std_12  items_ewms_3  \\\n",
       "shop_id item_id                                                      \n",
       "0       30               1.082319           1.082319     12.546831   \n",
       "        31               0.595275           0.595275     18.898858   \n",
       "        32               0.621241           0.621241     31.954147   \n",
       "        33               0.222969           0.222969     17.680996   \n",
       "        35               0.759210           0.759210      0.628753   \n",
       "\n",
       "                 items_ewms_6  items_ewms_9  items_ewms_12  shops_ewms_3  \\\n",
       "shop_id item_id                                                            \n",
       "0       30          12.546831     12.546831      12.546831      29.37242   \n",
       "        31          18.898858     18.898858      18.898858      29.37242   \n",
       "        32          31.954147     31.954147      31.954147      29.37242   \n",
       "        33          17.680996     17.680996      17.680996      29.37242   \n",
       "        35           0.628753      0.628753       0.628753      29.37242   \n",
       "\n",
       "                 shops_ewms_6  shops_ewms_9  shops_ewms_12  month  season  \n",
       "shop_id item_id                                                            \n",
       "0       30           29.37242      29.37242       29.37242     10       2  \n",
       "        31           29.37242      29.37242       29.37242     10       2  \n",
       "        32           29.37242      29.37242       29.37242     10       2  \n",
       "        33           29.37242      29.37242       29.37242     10       2  \n",
       "        35           29.37242      29.37242       29.37242     10       2  "
      ]
     },
     "execution_count": 15,
     "metadata": {},
     "output_type": "execute_result"
    }
   ],
   "source": [
    "tempx.head()"
   ]
  },
  {
   "cell_type": "markdown",
   "metadata": {},
   "source": [
    "# Fitting and CV"
   ]
  },
  {
   "cell_type": "code",
   "execution_count": 16,
   "metadata": {},
   "outputs": [],
   "source": [
    "def fit_and_predict(model, x_train, y_train, x_val = None):\n",
    "    \n",
    "    start_time = time.time()\n",
    "    fitted_model = model.fit(x_train, y_train)\n",
    "    fit_time = time.time() - start_time\n",
    "    \n",
    "    y_train_pred = fitted_model.predict(x_train)\n",
    "    \n",
    "    if x_val is not None:\n",
    "        y_val_pred = fitted_model.predict(x_val)\n",
    "    else:\n",
    "        y_val_pred = None\n",
    "        \n",
    "    \n",
    "    return fitted_model, y_train_pred, y_val_pred, fit_time\n",
    "    "
   ]
  },
  {
   "cell_type": "code",
   "execution_count": 17,
   "metadata": {},
   "outputs": [],
   "source": [
    "month = full_data_monts[0]\n",
    "X_train,Y_train = get_single_month_XY(full_data_monts[0])\n",
    "X_val,Y_val = get_single_month_XY(full_data_monts[1])"
   ]
  },
  {
   "cell_type": "code",
   "execution_count": 18,
   "metadata": {},
   "outputs": [
    {
     "data": {
      "text/plain": [
       "(20.569006204605103, 1.0607640561519311, 2.370211284000684)"
      ]
     },
     "execution_count": 18,
     "metadata": {},
     "output_type": "execute_result"
    }
   ],
   "source": [
    "mod = RandomForestRegressor(n_estimators=50, max_depth=5, n_jobs=-1)\n",
    "fitted, ytpred, yvpred, elapsed = fit_and_predict(mod, X_train,Y_train, X_val)\n",
    "elapsed, mean_squared_error(Y_train, ytpred), mean_squared_error(Y_val, yvpred)"
   ]
  },
  {
   "cell_type": "code",
   "execution_count": 27,
   "metadata": {},
   "outputs": [],
   "source": [
    "import xgboost as xgb\n",
    "\n",
    "class xgb_model:\n",
    "    def __init__(self, num_boost_round, **params):\n",
    "        self.params = {\n",
    "            'num_boost_round': num_boost_round,\n",
    "            'max_depth':6,\n",
    "            'min_child_weight': 1,\n",
    "            'eta':.3,\n",
    "            'subsample': 1,\n",
    "            'colsample_bytree': 1,\n",
    "            'objective':'reg:squarederror',\n",
    "        }\n",
    "        self.params.update(params)\n",
    "        self.fitted_model = None\n",
    "       \n",
    "    def fit(self, X, Y):\n",
    "        dm_train = xgb.DMatrix(X,Y)\n",
    "        self.fitted_model = xgb.train(self.params, dtrain=dm_train)\n",
    "        return self\n",
    "    \n",
    "    def predict(self, X):\n",
    "        assert self.fitted_model is not None, 'Must fit first'\n",
    "        dm = xgb.DMatrix(X)\n",
    "        return self.fitted_model.predict(dm)\n",
    "    \n",
    "    def feature_importances_(self):\n",
    "        pass"
   ]
  },
  {
   "cell_type": "code",
   "execution_count": 33,
   "metadata": {},
   "outputs": [
    {
     "data": {
      "text/plain": [
       "(1.347395896911621, 2.1891927441110517, 2.793042957848449)"
      ]
     },
     "execution_count": 33,
     "metadata": {},
     "output_type": "execute_result"
    }
   ],
   "source": [
    "mod = xgb_model(num_boost_round=100, max_depth=10, eta=0.1)\n",
    "fitted, ytpred, yvpred, elapsed = fit_and_predict(mod, X_train,Y_train, X_val)\n",
    "elapsed, mean_squared_error(Y_train, ytpred), mean_squared_error(Y_val, yvpred)"
   ]
  },
  {
   "cell_type": "code",
   "execution_count": 77,
   "metadata": {},
   "outputs": [],
   "source": [
    "def rolling_cross_validation(model, data_months_list, validate_months_num=None, num_stack_months=1, fit_final=False):\n",
    "    Xs_deque = deque()\n",
    "    Ys_deque = deque()\n",
    "    \n",
    "    for month in data_months_list[:num_stack_months]:\n",
    "        X_, Y_ = get_single_month_XY(month)\n",
    "        Xs_deque.append(X_)\n",
    "        Ys_deque.append(Y_)\n",
    "        \n",
    "    if validate_months_num is None:\n",
    "        validate_months_num = len(data_months_list) - num_stack_months\n",
    "    else:\n",
    "        validate_months_num = min(validate_months_num, len(data_months_list) - num_stack_months)\n",
    "        \n",
    "    \n",
    "    fitted_models = {}\n",
    "    in_sample_scores = {}\n",
    "    oos_scores = {}\n",
    "    loop_times = []\n",
    "    \n",
    "    for month in data_months_list[num_stack_months: num_stack_months + validate_months_num]:\n",
    "        print(f'Working on: {month}')\n",
    "        loop_start = time.time()\n",
    "        X_train = pd.concat(Xs_deque)\n",
    "        Y_train = pd.concat(Ys_deque)\n",
    "        \n",
    "        X_val, Y_val = get_single_month_XY(month)\n",
    "        fitted, ytrain_pred, yval_pred, elapsed_time = fit_and_predict(model, X_train, Y_train, X_val)\n",
    "        fitted_models[month] = fitted\n",
    "        print(f'fit time: {elapsed_time}')\n",
    "        \n",
    "        in_sample_scores[month] = mean_squared_error(Y_train, ytrain_pred)\n",
    "        oos_scores[month] = mean_squared_error(Y_val, yval_pred)\n",
    "        \n",
    "        Xs_deque.popleft()\n",
    "        Ys_deque.popleft()\n",
    "        \n",
    "        Xs_deque.append(X_val)\n",
    "        Ys_deque.append(Y_val)\n",
    "        \n",
    "        loop_end = time.time()\n",
    "        loop_times.append(loop_end - loop_start)\n",
    "    \n",
    "    if fit_final:\n",
    "        X_train = pd.concat(Xs_deque)\n",
    "        Y_train = pd.concat(Ys_deque)\n",
    "        fitted, ytrain_pred, yval_pred, elapsed_time = fit_and_predict(model, X_train, Y_train, X_val)\n",
    "        fitted_models['FINAL'] = fitted\n",
    "        in_sample_scores['FINAL'] = mean_squared_error(Y_train, ytrain_pred)\n",
    "    \n",
    "    \n",
    "    return fitted_models, in_sample_scores, oos_scores, loop_times"
   ]
  },
  {
   "cell_type": "code",
   "execution_count": 31,
   "metadata": {},
   "outputs": [
    {
     "name": "stdout",
     "output_type": "stream",
     "text": [
      "Working on: 2015-08\n",
      "fit time: 1586.9039380550385\n",
      "Working on: 2015-09\n",
      "fit time: 1547.0298216342926\n"
     ]
    }
   ],
   "source": [
    "mod = RandomForestRegressor(n_estimators=100, max_depth=10, n_jobs=5)\n",
    "fitted_models, isscores, osscores, times = rolling_cross_validation(mod, full_data_monts[-14:], num_stack_months=12, fit_final=True)"
   ]
  },
  {
   "cell_type": "code",
   "execution_count": 32,
   "metadata": {},
   "outputs": [
    {
     "data": {
      "text/plain": [
       "{Period('2015-08', 'M'): RandomForestRegressor(max_depth=10, n_jobs=5),\n",
       " Period('2015-09', 'M'): RandomForestRegressor(max_depth=10, n_jobs=5),\n",
       " 'FINAL': RandomForestRegressor(max_depth=10, n_jobs=5)}"
      ]
     },
     "execution_count": 32,
     "metadata": {},
     "output_type": "execute_result"
    }
   ],
   "source": [
    "fitted_models"
   ]
  },
  {
   "cell_type": "code",
   "execution_count": 33,
   "metadata": {},
   "outputs": [
    {
     "data": {
      "text/plain": [
       "2015-08    3.121010\n",
       "2015-09    3.219742\n",
       "FINAL      2.961585\n",
       "dtype: float64"
      ]
     },
     "execution_count": 33,
     "metadata": {},
     "output_type": "execute_result"
    }
   ],
   "source": [
    "pd.Series(isscores)"
   ]
  },
  {
   "cell_type": "code",
   "execution_count": 34,
   "metadata": {},
   "outputs": [
    {
     "data": {
      "text/plain": [
       "2015-08    22.363004\n",
       "2015-09    14.302401\n",
       "Freq: M, dtype: float64"
      ]
     },
     "execution_count": 34,
     "metadata": {},
     "output_type": "execute_result"
    }
   ],
   "source": [
    "pd.Series(osscores)"
   ]
  },
  {
   "cell_type": "code",
   "execution_count": 43,
   "metadata": {},
   "outputs": [
    {
     "data": {
      "text/plain": [
       "Period('2015-10', 'M')"
      ]
     },
     "execution_count": 43,
     "metadata": {},
     "output_type": "execute_result"
    }
   ],
   "source": [
    "all_months[-1]"
   ]
  },
  {
   "cell_type": "code",
   "execution_count": 40,
   "metadata": {},
   "outputs": [],
   "source": [
    "X,Y = get_single_month_XY(all_months[-1])"
   ]
  },
  {
   "cell_type": "code",
   "execution_count": 42,
   "metadata": {},
   "outputs": [
    {
     "data": {
      "text/html": [
       "<div>\n",
       "<style scoped>\n",
       "    .dataframe tbody tr th:only-of-type {\n",
       "        vertical-align: middle;\n",
       "    }\n",
       "\n",
       "    .dataframe tbody tr th {\n",
       "        vertical-align: top;\n",
       "    }\n",
       "\n",
       "    .dataframe thead th {\n",
       "        text-align: right;\n",
       "    }\n",
       "</style>\n",
       "<table border=\"1\" class=\"dataframe\">\n",
       "  <thead>\n",
       "    <tr style=\"text-align: right;\">\n",
       "      <th></th>\n",
       "      <th></th>\n",
       "      <th>sales_ewms_3</th>\n",
       "      <th>sales_ewms_6</th>\n",
       "      <th>sales_ewms_9</th>\n",
       "      <th>sales_ewms_12</th>\n",
       "      <th>items_ewms_3</th>\n",
       "      <th>items_ewms_6</th>\n",
       "      <th>items_ewms_9</th>\n",
       "      <th>items_ewms_12</th>\n",
       "      <th>shops_ewms_3</th>\n",
       "      <th>shops_ewms_6</th>\n",
       "      <th>shops_ewms_9</th>\n",
       "      <th>shops_ewms_12</th>\n",
       "      <th>month</th>\n",
       "      <th>season</th>\n",
       "    </tr>\n",
       "    <tr>\n",
       "      <th>shop_id</th>\n",
       "      <th>item_id</th>\n",
       "      <th></th>\n",
       "      <th></th>\n",
       "      <th></th>\n",
       "      <th></th>\n",
       "      <th></th>\n",
       "      <th></th>\n",
       "      <th></th>\n",
       "      <th></th>\n",
       "      <th></th>\n",
       "      <th></th>\n",
       "      <th></th>\n",
       "      <th></th>\n",
       "      <th></th>\n",
       "      <th></th>\n",
       "    </tr>\n",
       "  </thead>\n",
       "  <tbody>\n",
       "    <tr>\n",
       "      <th rowspan=\"5\" valign=\"top\">0</th>\n",
       "      <th>30</th>\n",
       "      <td>0.085572</td>\n",
       "      <td>0.085572</td>\n",
       "      <td>0.085572</td>\n",
       "      <td>0.085572</td>\n",
       "      <td>30.630554</td>\n",
       "      <td>30.630554</td>\n",
       "      <td>30.630554</td>\n",
       "      <td>30.630554</td>\n",
       "      <td>13.735327</td>\n",
       "      <td>13.735327</td>\n",
       "      <td>13.735327</td>\n",
       "      <td>13.735327</td>\n",
       "      <td>10</td>\n",
       "      <td>2</td>\n",
       "    </tr>\n",
       "    <tr>\n",
       "      <th>31</th>\n",
       "      <td>0.030364</td>\n",
       "      <td>0.030364</td>\n",
       "      <td>0.030364</td>\n",
       "      <td>0.030364</td>\n",
       "      <td>30.630554</td>\n",
       "      <td>30.630554</td>\n",
       "      <td>30.630554</td>\n",
       "      <td>30.630554</td>\n",
       "      <td>19.191109</td>\n",
       "      <td>19.191109</td>\n",
       "      <td>19.191109</td>\n",
       "      <td>19.191109</td>\n",
       "      <td>10</td>\n",
       "      <td>2</td>\n",
       "    </tr>\n",
       "    <tr>\n",
       "      <th>32</th>\n",
       "      <td>0.042359</td>\n",
       "      <td>0.042359</td>\n",
       "      <td>0.042359</td>\n",
       "      <td>0.042359</td>\n",
       "      <td>30.630554</td>\n",
       "      <td>30.630554</td>\n",
       "      <td>30.630554</td>\n",
       "      <td>30.630554</td>\n",
       "      <td>32.099844</td>\n",
       "      <td>32.099844</td>\n",
       "      <td>32.099844</td>\n",
       "      <td>32.099844</td>\n",
       "      <td>10</td>\n",
       "      <td>2</td>\n",
       "    </tr>\n",
       "    <tr>\n",
       "      <th>33</th>\n",
       "      <td>0.015659</td>\n",
       "      <td>0.015659</td>\n",
       "      <td>0.015659</td>\n",
       "      <td>0.015659</td>\n",
       "      <td>30.630554</td>\n",
       "      <td>30.630554</td>\n",
       "      <td>30.630554</td>\n",
       "      <td>30.630554</td>\n",
       "      <td>17.680996</td>\n",
       "      <td>17.680996</td>\n",
       "      <td>17.680996</td>\n",
       "      <td>17.680996</td>\n",
       "      <td>10</td>\n",
       "      <td>2</td>\n",
       "    </tr>\n",
       "    <tr>\n",
       "      <th>35</th>\n",
       "      <td>0.041105</td>\n",
       "      <td>0.041105</td>\n",
       "      <td>0.041105</td>\n",
       "      <td>0.041105</td>\n",
       "      <td>30.630554</td>\n",
       "      <td>30.630554</td>\n",
       "      <td>30.630554</td>\n",
       "      <td>30.630554</td>\n",
       "      <td>0.628753</td>\n",
       "      <td>0.628753</td>\n",
       "      <td>0.628753</td>\n",
       "      <td>0.628753</td>\n",
       "      <td>10</td>\n",
       "      <td>2</td>\n",
       "    </tr>\n",
       "    <tr>\n",
       "      <th>...</th>\n",
       "      <th>...</th>\n",
       "      <td>...</td>\n",
       "      <td>...</td>\n",
       "      <td>...</td>\n",
       "      <td>...</td>\n",
       "      <td>...</td>\n",
       "      <td>...</td>\n",
       "      <td>...</td>\n",
       "      <td>...</td>\n",
       "      <td>...</td>\n",
       "      <td>...</td>\n",
       "      <td>...</td>\n",
       "      <td>...</td>\n",
       "      <td>...</td>\n",
       "      <td>...</td>\n",
       "    </tr>\n",
       "    <tr>\n",
       "      <th rowspan=\"5\" valign=\"top\">59</th>\n",
       "      <th>22154</th>\n",
       "      <td>0.002459</td>\n",
       "      <td>0.002459</td>\n",
       "      <td>0.002459</td>\n",
       "      <td>0.002459</td>\n",
       "      <td>1156.030739</td>\n",
       "      <td>1156.030739</td>\n",
       "      <td>1156.030739</td>\n",
       "      <td>1156.030739</td>\n",
       "      <td>2.236950</td>\n",
       "      <td>2.236950</td>\n",
       "      <td>2.236950</td>\n",
       "      <td>2.236950</td>\n",
       "      <td>10</td>\n",
       "      <td>2</td>\n",
       "    </tr>\n",
       "    <tr>\n",
       "      <th>22155</th>\n",
       "      <td>0.004918</td>\n",
       "      <td>0.004918</td>\n",
       "      <td>0.004918</td>\n",
       "      <td>0.004918</td>\n",
       "      <td>1156.030739</td>\n",
       "      <td>1156.030739</td>\n",
       "      <td>1156.030739</td>\n",
       "      <td>1156.030739</td>\n",
       "      <td>0.655660</td>\n",
       "      <td>0.655660</td>\n",
       "      <td>0.655660</td>\n",
       "      <td>0.655660</td>\n",
       "      <td>10</td>\n",
       "      <td>2</td>\n",
       "    </tr>\n",
       "    <tr>\n",
       "      <th>22162</th>\n",
       "      <td>0.802237</td>\n",
       "      <td>0.802237</td>\n",
       "      <td>0.802237</td>\n",
       "      <td>0.802237</td>\n",
       "      <td>1156.030739</td>\n",
       "      <td>1156.030739</td>\n",
       "      <td>1156.030739</td>\n",
       "      <td>1156.030739</td>\n",
       "      <td>36.610305</td>\n",
       "      <td>36.610305</td>\n",
       "      <td>36.610305</td>\n",
       "      <td>36.610305</td>\n",
       "      <td>10</td>\n",
       "      <td>2</td>\n",
       "    </tr>\n",
       "    <tr>\n",
       "      <th>22164</th>\n",
       "      <td>0.327895</td>\n",
       "      <td>0.327895</td>\n",
       "      <td>0.327895</td>\n",
       "      <td>0.327895</td>\n",
       "      <td>1156.030739</td>\n",
       "      <td>1156.030739</td>\n",
       "      <td>1156.030739</td>\n",
       "      <td>1156.030739</td>\n",
       "      <td>25.957408</td>\n",
       "      <td>25.957408</td>\n",
       "      <td>25.957408</td>\n",
       "      <td>25.957408</td>\n",
       "      <td>10</td>\n",
       "      <td>2</td>\n",
       "    </tr>\n",
       "    <tr>\n",
       "      <th>22167</th>\n",
       "      <td>0.042011</td>\n",
       "      <td>0.042011</td>\n",
       "      <td>0.042011</td>\n",
       "      <td>0.042011</td>\n",
       "      <td>1156.030739</td>\n",
       "      <td>1156.030739</td>\n",
       "      <td>1156.030739</td>\n",
       "      <td>1156.030739</td>\n",
       "      <td>37.483077</td>\n",
       "      <td>37.483077</td>\n",
       "      <td>37.483077</td>\n",
       "      <td>37.483077</td>\n",
       "      <td>10</td>\n",
       "      <td>2</td>\n",
       "    </tr>\n",
       "  </tbody>\n",
       "</table>\n",
       "<p>424124 rows × 14 columns</p>\n",
       "</div>"
      ],
      "text/plain": [
       "                 sales_ewms_3  sales_ewms_6  sales_ewms_9  sales_ewms_12  \\\n",
       "shop_id item_id                                                            \n",
       "0       30           0.085572      0.085572      0.085572       0.085572   \n",
       "        31           0.030364      0.030364      0.030364       0.030364   \n",
       "        32           0.042359      0.042359      0.042359       0.042359   \n",
       "        33           0.015659      0.015659      0.015659       0.015659   \n",
       "        35           0.041105      0.041105      0.041105       0.041105   \n",
       "...                       ...           ...           ...            ...   \n",
       "59      22154        0.002459      0.002459      0.002459       0.002459   \n",
       "        22155        0.004918      0.004918      0.004918       0.004918   \n",
       "        22162        0.802237      0.802237      0.802237       0.802237   \n",
       "        22164        0.327895      0.327895      0.327895       0.327895   \n",
       "        22167        0.042011      0.042011      0.042011       0.042011   \n",
       "\n",
       "                 items_ewms_3  items_ewms_6  items_ewms_9  items_ewms_12  \\\n",
       "shop_id item_id                                                            \n",
       "0       30          30.630554     30.630554     30.630554      30.630554   \n",
       "        31          30.630554     30.630554     30.630554      30.630554   \n",
       "        32          30.630554     30.630554     30.630554      30.630554   \n",
       "        33          30.630554     30.630554     30.630554      30.630554   \n",
       "        35          30.630554     30.630554     30.630554      30.630554   \n",
       "...                       ...           ...           ...            ...   \n",
       "59      22154     1156.030739   1156.030739   1156.030739    1156.030739   \n",
       "        22155     1156.030739   1156.030739   1156.030739    1156.030739   \n",
       "        22162     1156.030739   1156.030739   1156.030739    1156.030739   \n",
       "        22164     1156.030739   1156.030739   1156.030739    1156.030739   \n",
       "        22167     1156.030739   1156.030739   1156.030739    1156.030739   \n",
       "\n",
       "                 shops_ewms_3  shops_ewms_6  shops_ewms_9  shops_ewms_12  \\\n",
       "shop_id item_id                                                            \n",
       "0       30          13.735327     13.735327     13.735327      13.735327   \n",
       "        31          19.191109     19.191109     19.191109      19.191109   \n",
       "        32          32.099844     32.099844     32.099844      32.099844   \n",
       "        33          17.680996     17.680996     17.680996      17.680996   \n",
       "        35           0.628753      0.628753      0.628753       0.628753   \n",
       "...                       ...           ...           ...            ...   \n",
       "59      22154        2.236950      2.236950      2.236950       2.236950   \n",
       "        22155        0.655660      0.655660      0.655660       0.655660   \n",
       "        22162       36.610305     36.610305     36.610305      36.610305   \n",
       "        22164       25.957408     25.957408     25.957408      25.957408   \n",
       "        22167       37.483077     37.483077     37.483077      37.483077   \n",
       "\n",
       "                 month  season  \n",
       "shop_id item_id                 \n",
       "0       30          10       2  \n",
       "        31          10       2  \n",
       "        32          10       2  \n",
       "        33          10       2  \n",
       "        35          10       2  \n",
       "...                ...     ...  \n",
       "59      22154       10       2  \n",
       "        22155       10       2  \n",
       "        22162       10       2  \n",
       "        22164       10       2  \n",
       "        22167       10       2  \n",
       "\n",
       "[424124 rows x 14 columns]"
      ]
     },
     "execution_count": 42,
     "metadata": {},
     "output_type": "execute_result"
    }
   ],
   "source": [
    "X"
   ]
  },
  {
   "cell_type": "code",
   "execution_count": 46,
   "metadata": {},
   "outputs": [],
   "source": [
    "predictions = fitted_models['FINAL'].predict(X)"
   ]
  },
  {
   "cell_type": "code",
   "execution_count": 50,
   "metadata": {},
   "outputs": [],
   "source": [
    "predictions = pd.DataFrame({'item_cnt_month':predictions}, index=X.index)"
   ]
  },
  {
   "cell_type": "code",
   "execution_count": 54,
   "metadata": {},
   "outputs": [],
   "source": [
    "utilities.merge_pred_with_test(predictions).to_csv('2020_08_25_month_stacked_RF_with_ewms.csv')"
   ]
  },
  {
   "cell_type": "markdown",
   "metadata": {},
   "source": [
    "# Analysis"
   ]
  },
  {
   "cell_type": "code",
   "execution_count": 105,
   "metadata": {},
   "outputs": [],
   "source": [
    "def plot_feature_importances(mod, col_names, figsize=(6,10)):\n",
    "    plt.figure(figsize=figsize)\n",
    "    pd.Series(mod.feature_importances_, index=col_names).sort_values().plot(kind='barh')"
   ]
  },
  {
   "cell_type": "code",
   "execution_count": 106,
   "metadata": {},
   "outputs": [
    {
     "data": {
      "image/png": "[encoded data removed]",
      "text/plain": [
       "<Figure size 432x720 with 1 Axes>"
      ]
     },
     "metadata": {
      "needs_background": "light"
     },
     "output_type": "display_data"
    }
   ],
   "source": [
    "plot_feature_importances(fitted_models['FINAL'], X_train.columns)"
   ]
  },
  {
   "cell_type": "code",
   "execution_count": null,
   "metadata": {},
   "outputs": [],
   "source": []
  },
  {
   "cell_type": "code",
   "execution_count": null,
   "metadata": {},
   "outputs": [],
   "source": []
  },
  {
   "cell_type": "code",
   "execution_count": null,
   "metadata": {},
   "outputs": [],
   "source": []
  },
  {
   "cell_type": "markdown",
   "metadata": {},
   "source": [
    "Other code"
   ]
  },
  {
   "cell_type": "code",
   "execution_count": null,
   "metadata": {},
   "outputs": [],
   "source": []
  }
 ],
 "metadata": {
  "kernelspec": {
   "display_name": "Python 3",
   "language": "python",
   "name": "python3"
  },
  "language_info": {
   "codemirror_mode": {
    "name": "ipython",
    "version": 3
   },
   "file_extension": ".py",
   "mimetype": "text/x-python",
   "name": "python",
   "nbconvert_exporter": "python",
   "pygments_lexer": "ipython3",
   "version": "3.6.10"
  }
 },
 "nbformat": 4,
 "nbformat_minor": 4
}
