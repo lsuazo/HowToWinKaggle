{
 "cells": [
  {
   "cell_type": "code",
   "execution_count": 2,
   "metadata": {},
   "outputs": [],
   "source": [
    "import os\n",
    "import time\n",
    "from collections import deque\n",
    "from importlib import reload\n",
    "\n",
    "import matplotlib.pyplot as plt\n",
    "import numpy as np\n",
    "import pandas as pd\n",
    "import seaborn as sns\n",
    "\n",
    "from sklearn.ensemble import RandomForestRegressor\n",
    "from sklearn.metrics import mean_squared_error\n",
    "\n",
    "%matplotlib inline\n",
    "\n",
    "import utilities"
   ]
  },
  {
   "cell_type": "markdown",
   "metadata": {},
   "source": [
    "Features to add:\n",
    "- add item_category, shop_id, and item_id as features\n",
    "- encode these categorical vars: mean encode - HOW?\n",
    "    - most successfull one in the homework was expanding mean scheme. - suggests I need lagged features too\n",
    "\n",
    "- create a feature that bins shops into groups based on net income\n",
    "    - perhaps net income by category of item\n",
    "- create feature that bins shops into groups based on seasonal pattern (spectral biclustering?)\n",
    "- similarly create a feature that groups products based on seasonal pattern\n",
    "- need to add date indicators:\n",
    "    * perhaps group months into high holiday/low holiday count\n",
    "    * perhaps number of days in month\n",
    "    * number of weekend days vs week days\n",
    "- create features based on lagged behavior\n",
    "    * rolling windows sum/variance (last 3 mos, last 6 months, last year)\n",
    "    * can do this for each item, or can use this as an encoding of shop, and category ids\n"
   ]
  },
  {
   "cell_type": "markdown",
   "metadata": {},
   "source": [
    "# TODO:\n",
    "    - add encoding to the pipeline\n",
    "    - item/shop popularity is probably very seasonal - time matters; this needs to be reflected in features\n",
    "    - transform to log(1+sales)??"
   ]
  },
  {
   "cell_type": "code",
   "execution_count": 3,
   "metadata": {},
   "outputs": [],
   "source": [
    "sales = utilities.load_and_preprocess()"
   ]
  },
  {
   "cell_type": "markdown",
   "metadata": {},
   "source": [
    "# Pre processing"
   ]
  },
  {
   "cell_type": "code",
   "execution_count": 4,
   "metadata": {},
   "outputs": [],
   "source": [
    "agg_sales = utilities.aggregate_monthly(sales)\n",
    "piv_agg_sales = agg_sales.set_index(['Month', 'shop_id', 'item_id']).item_cnt_month.unstack(level=0).fillna(0)"
   ]
  },
  {
   "cell_type": "code",
   "execution_count": 73,
   "metadata": {},
   "outputs": [],
   "source": [
    "months = list(agg_sales.Month.unique())"
   ]
  },
  {
   "cell_type": "code",
   "execution_count": 74,
   "metadata": {},
   "outputs": [],
   "source": [
    "month = months[0]"
   ]
  },
  {
   "cell_type": "code",
   "execution_count": 75,
   "metadata": {},
   "outputs": [],
   "source": [
    "month_data = agg_sales[agg_sales.Month == month]"
   ]
  },
  {
   "cell_type": "code",
   "execution_count": 76,
   "metadata": {},
   "outputs": [],
   "source": [
    "shops = month_data.shop_id.unique()"
   ]
  },
  {
   "cell_type": "code",
   "execution_count": 77,
   "metadata": {},
   "outputs": [],
   "source": [
    "item_ids = month_data.item_id.unique()"
   ]
  },
  {
   "cell_type": "code",
   "execution_count": 70,
   "metadata": {},
   "outputs": [
    {
     "data": {
      "text/html": [
       "<div>\n",
       "<style scoped>\n",
       "    .dataframe tbody tr th:only-of-type {\n",
       "        vertical-align: middle;\n",
       "    }\n",
       "\n",
       "    .dataframe tbody tr th {\n",
       "        vertical-align: top;\n",
       "    }\n",
       "\n",
       "    .dataframe thead th {\n",
       "        text-align: right;\n",
       "    }\n",
       "</style>\n",
       "<table border=\"1\" class=\"dataframe\">\n",
       "  <thead>\n",
       "    <tr style=\"text-align: right;\">\n",
       "      <th></th>\n",
       "      <th>Month</th>\n",
       "      <th>shop_id</th>\n",
       "      <th>item_id</th>\n",
       "      <th>item_cnt_month</th>\n",
       "      <th>item_price</th>\n",
       "    </tr>\n",
       "  </thead>\n",
       "  <tbody>\n",
       "    <tr>\n",
       "      <th>0</th>\n",
       "      <td>2013-01</td>\n",
       "      <td>0</td>\n",
       "      <td>32</td>\n",
       "      <td>6.0</td>\n",
       "      <td>221.0</td>\n",
       "    </tr>\n",
       "    <tr>\n",
       "      <th>1</th>\n",
       "      <td>2013-01</td>\n",
       "      <td>0</td>\n",
       "      <td>33</td>\n",
       "      <td>3.0</td>\n",
       "      <td>347.0</td>\n",
       "    </tr>\n",
       "    <tr>\n",
       "      <th>2</th>\n",
       "      <td>2013-01</td>\n",
       "      <td>0</td>\n",
       "      <td>35</td>\n",
       "      <td>1.0</td>\n",
       "      <td>247.0</td>\n",
       "    </tr>\n",
       "    <tr>\n",
       "      <th>3</th>\n",
       "      <td>2013-01</td>\n",
       "      <td>0</td>\n",
       "      <td>43</td>\n",
       "      <td>1.0</td>\n",
       "      <td>221.0</td>\n",
       "    </tr>\n",
       "    <tr>\n",
       "      <th>4</th>\n",
       "      <td>2013-01</td>\n",
       "      <td>0</td>\n",
       "      <td>51</td>\n",
       "      <td>2.0</td>\n",
       "      <td>128.5</td>\n",
       "    </tr>\n",
       "    <tr>\n",
       "      <th>...</th>\n",
       "      <td>...</td>\n",
       "      <td>...</td>\n",
       "      <td>...</td>\n",
       "      <td>...</td>\n",
       "      <td>...</td>\n",
       "    </tr>\n",
       "    <tr>\n",
       "      <th>63219</th>\n",
       "      <td>2013-01</td>\n",
       "      <td>59</td>\n",
       "      <td>22092</td>\n",
       "      <td>2.0</td>\n",
       "      <td>109.0</td>\n",
       "    </tr>\n",
       "    <tr>\n",
       "      <th>63220</th>\n",
       "      <td>2013-01</td>\n",
       "      <td>59</td>\n",
       "      <td>22130</td>\n",
       "      <td>2.0</td>\n",
       "      <td>349.0</td>\n",
       "    </tr>\n",
       "    <tr>\n",
       "      <th>63221</th>\n",
       "      <td>2013-01</td>\n",
       "      <td>59</td>\n",
       "      <td>22134</td>\n",
       "      <td>2.0</td>\n",
       "      <td>399.0</td>\n",
       "    </tr>\n",
       "    <tr>\n",
       "      <th>63222</th>\n",
       "      <td>2013-01</td>\n",
       "      <td>59</td>\n",
       "      <td>22151</td>\n",
       "      <td>2.0</td>\n",
       "      <td>399.0</td>\n",
       "    </tr>\n",
       "    <tr>\n",
       "      <th>63223</th>\n",
       "      <td>2013-01</td>\n",
       "      <td>59</td>\n",
       "      <td>22154</td>\n",
       "      <td>1.0</td>\n",
       "      <td>999.0</td>\n",
       "    </tr>\n",
       "  </tbody>\n",
       "</table>\n",
       "<p>63224 rows × 5 columns</p>\n",
       "</div>"
      ],
      "text/plain": [
       "         Month  shop_id  item_id  item_cnt_month  item_price\n",
       "0      2013-01        0       32             6.0       221.0\n",
       "1      2013-01        0       33             3.0       347.0\n",
       "2      2013-01        0       35             1.0       247.0\n",
       "3      2013-01        0       43             1.0       221.0\n",
       "4      2013-01        0       51             2.0       128.5\n",
       "...        ...      ...      ...             ...         ...\n",
       "63219  2013-01       59    22092             2.0       109.0\n",
       "63220  2013-01       59    22130             2.0       349.0\n",
       "63221  2013-01       59    22134             2.0       399.0\n",
       "63222  2013-01       59    22151             2.0       399.0\n",
       "63223  2013-01       59    22154             1.0       999.0\n",
       "\n",
       "[63224 rows x 5 columns]"
      ]
     },
     "execution_count": 70,
     "metadata": {},
     "output_type": "execute_result"
    }
   ],
   "source": [
    "month_data"
   ]
  },
  {
   "cell_type": "code",
   "execution_count": 68,
   "metadata": {},
   "outputs": [],
   "source": [
    "from itertools import product"
   ]
  },
  {
   "cell_type": "code",
   "execution_count": 69,
   "metadata": {},
   "outputs": [
    {
     "data": {
      "text/plain": [
       "<itertools.product at 0x22c874b9558>"
      ]
     },
     "execution_count": 69,
     "metadata": {},
     "output_type": "execute_result"
    }
   ],
   "source": [
    "product(shops, item_ids, [])"
   ]
  },
  {
   "cell_type": "code",
   "execution_count": null,
   "metadata": {},
   "outputs": [],
   "source": []
  },
  {
   "cell_type": "code",
   "execution_count": null,
   "metadata": {},
   "outputs": [],
   "source": []
  },
  {
   "cell_type": "code",
   "execution_count": 5,
   "metadata": {},
   "outputs": [],
   "source": [
    "stacked = piv_agg_sales.stack()"
   ]
  },
  {
   "cell_type": "code",
   "execution_count": 6,
   "metadata": {},
   "outputs": [
    {
     "data": {
      "text/plain": [
       "count    1.606541e+06\n",
       "mean     2.270845e+00\n",
       "std      8.656355e+00\n",
       "min     -2.200000e+01\n",
       "25%      1.000000e+00\n",
       "50%      1.000000e+00\n",
       "75%      2.000000e+00\n",
       "max      2.253000e+03\n",
       "dtype: float64"
      ]
     },
     "execution_count": 6,
     "metadata": {},
     "output_type": "execute_result"
    }
   ],
   "source": [
    "stacked[stacked !=0].describe()"
   ]
  },
  {
   "cell_type": "code",
   "execution_count": 7,
   "metadata": {},
   "outputs": [
    {
     "data": {
      "text/plain": [
       "shop_id  item_id  Month  \n",
       "12       8023     2013-11     -22.0\n",
       "         1590     2013-01     -13.0\n",
       "         1593     2013-01      -6.0\n",
       "         11367    2014-08      -5.0\n",
       "         3732     2013-11      -4.0\n",
       "                              ...  \n",
       "55       3730     2015-04    1242.0\n",
       "31       20949    2013-12    1305.0\n",
       "55       9249     2015-09    1644.0\n",
       "12       9248     2015-09    1644.0\n",
       "         11373    2015-10    2253.0\n",
       "Length: 14420216, dtype: float64"
      ]
     },
     "execution_count": 7,
     "metadata": {},
     "output_type": "execute_result"
    }
   ],
   "source": [
    "stacked.sort_values()"
   ]
  },
  {
   "cell_type": "code",
   "execution_count": 8,
   "metadata": {},
   "outputs": [],
   "source": [
    "preprocessed_data = np.clip(piv_agg_sales, 0, 20)"
   ]
  },
  {
   "cell_type": "code",
   "execution_count": 9,
   "metadata": {},
   "outputs": [
    {
     "data": {
      "text/plain": [
       "shop_id  item_id  Month  \n",
       "0        30       2013-01     0.0\n",
       "41       17063    2015-02     0.0\n",
       "                  2015-03     0.0\n",
       "                  2015-04     0.0\n",
       "                  2015-05     0.0\n",
       "                             ... \n",
       "25       4084     2015-06    20.0\n",
       "14       2308     2015-06    20.0\n",
       "22       3329     2014-02    20.0\n",
       "9        15284    2014-10    20.0\n",
       "51       2814     2014-04    20.0\n",
       "Length: 14420216, dtype: float64"
      ]
     },
     "execution_count": 9,
     "metadata": {},
     "output_type": "execute_result"
    }
   ],
   "source": [
    "preprocessed_data.stack().sort_values()"
   ]
  },
  {
   "cell_type": "markdown",
   "metadata": {},
   "source": [
    "# Feature generation"
   ]
  },
  {
   "cell_type": "code",
   "execution_count": 10,
   "metadata": {},
   "outputs": [
    {
     "data": {
      "text/html": [
       "<div>\n",
       "<style scoped>\n",
       "    .dataframe tbody tr th:only-of-type {\n",
       "        vertical-align: middle;\n",
       "    }\n",
       "\n",
       "    .dataframe tbody tr th {\n",
       "        vertical-align: top;\n",
       "    }\n",
       "\n",
       "    .dataframe thead th {\n",
       "        text-align: right;\n",
       "    }\n",
       "</style>\n",
       "<table border=\"1\" class=\"dataframe\">\n",
       "  <thead>\n",
       "    <tr style=\"text-align: right;\">\n",
       "      <th></th>\n",
       "      <th>Month</th>\n",
       "      <th>2013-01</th>\n",
       "      <th>2013-02</th>\n",
       "      <th>2013-03</th>\n",
       "      <th>2013-04</th>\n",
       "      <th>2013-05</th>\n",
       "      <th>2013-06</th>\n",
       "      <th>2013-07</th>\n",
       "      <th>2013-08</th>\n",
       "      <th>2013-09</th>\n",
       "      <th>2013-10</th>\n",
       "      <th>...</th>\n",
       "      <th>2015-01</th>\n",
       "      <th>2015-02</th>\n",
       "      <th>2015-03</th>\n",
       "      <th>2015-04</th>\n",
       "      <th>2015-05</th>\n",
       "      <th>2015-06</th>\n",
       "      <th>2015-07</th>\n",
       "      <th>2015-08</th>\n",
       "      <th>2015-09</th>\n",
       "      <th>2015-10</th>\n",
       "    </tr>\n",
       "    <tr>\n",
       "      <th>shop_id</th>\n",
       "      <th>item_id</th>\n",
       "      <th></th>\n",
       "      <th></th>\n",
       "      <th></th>\n",
       "      <th></th>\n",
       "      <th></th>\n",
       "      <th></th>\n",
       "      <th></th>\n",
       "      <th></th>\n",
       "      <th></th>\n",
       "      <th></th>\n",
       "      <th></th>\n",
       "      <th></th>\n",
       "      <th></th>\n",
       "      <th></th>\n",
       "      <th></th>\n",
       "      <th></th>\n",
       "      <th></th>\n",
       "      <th></th>\n",
       "      <th></th>\n",
       "      <th></th>\n",
       "      <th></th>\n",
       "    </tr>\n",
       "  </thead>\n",
       "  <tbody>\n",
       "    <tr>\n",
       "      <th rowspan=\"5\" valign=\"top\">0</th>\n",
       "      <th>30</th>\n",
       "      <td>0.0</td>\n",
       "      <td>20.0</td>\n",
       "      <td>0.0</td>\n",
       "      <td>0.0</td>\n",
       "      <td>0.0</td>\n",
       "      <td>0.0</td>\n",
       "      <td>0.0</td>\n",
       "      <td>0.0</td>\n",
       "      <td>0.0</td>\n",
       "      <td>0.0</td>\n",
       "      <td>...</td>\n",
       "      <td>0.0</td>\n",
       "      <td>0.0</td>\n",
       "      <td>0.0</td>\n",
       "      <td>0.0</td>\n",
       "      <td>0.0</td>\n",
       "      <td>0.0</td>\n",
       "      <td>0.0</td>\n",
       "      <td>0.0</td>\n",
       "      <td>0.0</td>\n",
       "      <td>0.0</td>\n",
       "    </tr>\n",
       "    <tr>\n",
       "      <th>31</th>\n",
       "      <td>0.0</td>\n",
       "      <td>11.0</td>\n",
       "      <td>0.0</td>\n",
       "      <td>0.0</td>\n",
       "      <td>0.0</td>\n",
       "      <td>0.0</td>\n",
       "      <td>0.0</td>\n",
       "      <td>0.0</td>\n",
       "      <td>0.0</td>\n",
       "      <td>0.0</td>\n",
       "      <td>...</td>\n",
       "      <td>0.0</td>\n",
       "      <td>0.0</td>\n",
       "      <td>0.0</td>\n",
       "      <td>0.0</td>\n",
       "      <td>0.0</td>\n",
       "      <td>0.0</td>\n",
       "      <td>0.0</td>\n",
       "      <td>0.0</td>\n",
       "      <td>0.0</td>\n",
       "      <td>0.0</td>\n",
       "    </tr>\n",
       "    <tr>\n",
       "      <th>32</th>\n",
       "      <td>6.0</td>\n",
       "      <td>10.0</td>\n",
       "      <td>0.0</td>\n",
       "      <td>0.0</td>\n",
       "      <td>0.0</td>\n",
       "      <td>0.0</td>\n",
       "      <td>0.0</td>\n",
       "      <td>0.0</td>\n",
       "      <td>0.0</td>\n",
       "      <td>0.0</td>\n",
       "      <td>...</td>\n",
       "      <td>0.0</td>\n",
       "      <td>0.0</td>\n",
       "      <td>0.0</td>\n",
       "      <td>0.0</td>\n",
       "      <td>0.0</td>\n",
       "      <td>0.0</td>\n",
       "      <td>0.0</td>\n",
       "      <td>0.0</td>\n",
       "      <td>0.0</td>\n",
       "      <td>0.0</td>\n",
       "    </tr>\n",
       "    <tr>\n",
       "      <th>33</th>\n",
       "      <td>3.0</td>\n",
       "      <td>3.0</td>\n",
       "      <td>0.0</td>\n",
       "      <td>0.0</td>\n",
       "      <td>0.0</td>\n",
       "      <td>0.0</td>\n",
       "      <td>0.0</td>\n",
       "      <td>0.0</td>\n",
       "      <td>0.0</td>\n",
       "      <td>0.0</td>\n",
       "      <td>...</td>\n",
       "      <td>0.0</td>\n",
       "      <td>0.0</td>\n",
       "      <td>0.0</td>\n",
       "      <td>0.0</td>\n",
       "      <td>0.0</td>\n",
       "      <td>0.0</td>\n",
       "      <td>0.0</td>\n",
       "      <td>0.0</td>\n",
       "      <td>0.0</td>\n",
       "      <td>0.0</td>\n",
       "    </tr>\n",
       "    <tr>\n",
       "      <th>35</th>\n",
       "      <td>1.0</td>\n",
       "      <td>14.0</td>\n",
       "      <td>0.0</td>\n",
       "      <td>0.0</td>\n",
       "      <td>0.0</td>\n",
       "      <td>0.0</td>\n",
       "      <td>0.0</td>\n",
       "      <td>0.0</td>\n",
       "      <td>0.0</td>\n",
       "      <td>0.0</td>\n",
       "      <td>...</td>\n",
       "      <td>0.0</td>\n",
       "      <td>0.0</td>\n",
       "      <td>0.0</td>\n",
       "      <td>0.0</td>\n",
       "      <td>0.0</td>\n",
       "      <td>0.0</td>\n",
       "      <td>0.0</td>\n",
       "      <td>0.0</td>\n",
       "      <td>0.0</td>\n",
       "      <td>0.0</td>\n",
       "    </tr>\n",
       "  </tbody>\n",
       "</table>\n",
       "<p>5 rows × 34 columns</p>\n",
       "</div>"
      ],
      "text/plain": [
       "Month            2013-01  2013-02  2013-03  2013-04  2013-05  2013-06  \\\n",
       "shop_id item_id                                                         \n",
       "0       30           0.0     20.0      0.0      0.0      0.0      0.0   \n",
       "        31           0.0     11.0      0.0      0.0      0.0      0.0   \n",
       "        32           6.0     10.0      0.0      0.0      0.0      0.0   \n",
       "        33           3.0      3.0      0.0      0.0      0.0      0.0   \n",
       "        35           1.0     14.0      0.0      0.0      0.0      0.0   \n",
       "\n",
       "Month            2013-07  2013-08  2013-09  2013-10  ...  2015-01  2015-02  \\\n",
       "shop_id item_id                                      ...                     \n",
       "0       30           0.0      0.0      0.0      0.0  ...      0.0      0.0   \n",
       "        31           0.0      0.0      0.0      0.0  ...      0.0      0.0   \n",
       "        32           0.0      0.0      0.0      0.0  ...      0.0      0.0   \n",
       "        33           0.0      0.0      0.0      0.0  ...      0.0      0.0   \n",
       "        35           0.0      0.0      0.0      0.0  ...      0.0      0.0   \n",
       "\n",
       "Month            2015-03  2015-04  2015-05  2015-06  2015-07  2015-08  \\\n",
       "shop_id item_id                                                         \n",
       "0       30           0.0      0.0      0.0      0.0      0.0      0.0   \n",
       "        31           0.0      0.0      0.0      0.0      0.0      0.0   \n",
       "        32           0.0      0.0      0.0      0.0      0.0      0.0   \n",
       "        33           0.0      0.0      0.0      0.0      0.0      0.0   \n",
       "        35           0.0      0.0      0.0      0.0      0.0      0.0   \n",
       "\n",
       "Month            2015-09  2015-10  \n",
       "shop_id item_id                    \n",
       "0       30           0.0      0.0  \n",
       "        31           0.0      0.0  \n",
       "        32           0.0      0.0  \n",
       "        33           0.0      0.0  \n",
       "        35           0.0      0.0  \n",
       "\n",
       "[5 rows x 34 columns]"
      ]
     },
     "execution_count": 10,
     "metadata": {},
     "output_type": "execute_result"
    }
   ],
   "source": [
    "preprocessed_data.head()"
   ]
  },
  {
   "cell_type": "code",
   "execution_count": 11,
   "metadata": {},
   "outputs": [],
   "source": [
    "target_encode_shops = preprocessed_data.groupby(level=0).transform('sum')\n",
    "target_encode_items = preprocessed_data.groupby(level=1).transform('sum')"
   ]
  },
  {
   "cell_type": "code",
   "execution_count": 12,
   "metadata": {},
   "outputs": [
    {
     "name": "stdout",
     "output_type": "stream",
     "text": [
      "Wall time: 55.4 s\n"
     ]
    }
   ],
   "source": [
    "%%time\n",
    "half_lifes = [1,2,3,6,9,12]\n",
    "sales_ewms_mean = {tau:preprocessed_data.ewm(halflife=tau, axis=1, min_periods=tau).mean() for tau in half_lifes}\n",
    "sales_ewms_std = {tau:preprocessed_data.ewm(halflife=tau, axis=1, min_periods=tau).std() for tau in half_lifes}\n",
    "items_ewms = {tau:target_encode_items.ewm(halflife=tau, axis=1, min_periods=tau).mean() for tau in half_lifes}\n",
    "shops_ewms = {tau:target_encode_shops.ewm(halflife=tau, axis=1, min_periods=tau).mean() for tau in half_lifes}"
   ]
  },
  {
   "cell_type": "code",
   "execution_count": 13,
   "metadata": {},
   "outputs": [],
   "source": [
    "prices = agg_sales.set_index(['Month', 'shop_id', 'item_id']).item_price.unstack(level=0).fillna(0)\n",
    "\n",
    "shop_monthly_income = (prices*piv_agg_sales).groupby(level=0).transform('sum')\n",
    "item_monthly_income = (prices*piv_agg_sales).groupby(level=1).transform('sum')"
   ]
  },
  {
   "cell_type": "code",
   "execution_count": 14,
   "metadata": {},
   "outputs": [
    {
     "name": "stdout",
     "output_type": "stream",
     "text": [
      "Wall time: 26.5 s\n"
     ]
    }
   ],
   "source": [
    "%%time\n",
    "items_income_ewms = {tau:item_monthly_income.ewm(halflife=tau, axis=1, min_periods=tau).mean() for tau in half_lifes}\n",
    "shops_income_ewms = {tau:shop_monthly_income.ewm(halflife=tau, axis=1, min_periods=tau).mean() for tau in half_lifes}"
   ]
  },
  {
   "cell_type": "code",
   "execution_count": 15,
   "metadata": {},
   "outputs": [],
   "source": [
    "all_months = preprocessed_data.columns.tolist()\n",
    "full_data_months = all_months[11:-1]"
   ]
  },
  {
   "cell_type": "code",
   "execution_count": 16,
   "metadata": {},
   "outputs": [],
   "source": [
    "sales_mean_features = {f'sales_ewms_mean_{tau}': sales_ewms_mean[tau] for tau in half_lifes}\n",
    "sales_std_features = {f'sales_ewms_std_{tau}': sales_ewms_std[tau] for tau in half_lifes}\n",
    "items_features = {f'items_ewms_{tau}': items_ewms[tau] for tau in half_lifes}\n",
    "shops_features = {f'shops_ewms_{tau}': shops_ewms[tau] for tau in half_lifes}\n",
    "items_incom_features = {f'items_income_ewms_{tau}': items_income_ewms[tau] for tau in half_lifes}\n",
    "shops_incom_features = {f'shops_income_ewms_{tau}': shops_income_ewms[tau] for tau in half_lifes}\n",
    "\n",
    "features_dict = {**sales_mean_features, **sales_std_features, **items_features, **shops_features, **items_incom_features, **shops_incom_features}"
   ]
  },
  {
   "cell_type": "markdown",
   "metadata": {},
   "source": [
    "#### Define objective"
   ]
  },
  {
   "cell_type": "code",
   "execution_count": 17,
   "metadata": {},
   "outputs": [],
   "source": [
    "# Note that I use raw-data for objective \n",
    "objectives = piv_agg_sales.shift(-1, axis=1)"
   ]
  },
  {
   "cell_type": "code",
   "execution_count": 18,
   "metadata": {},
   "outputs": [
    {
     "data": {
      "text/plain": [
       "11"
      ]
     },
     "execution_count": 18,
     "metadata": {},
     "output_type": "execute_result"
    }
   ],
   "source": [
    "np.argmax(preprocessed_data.columns == (full_data_months[0]))"
   ]
  },
  {
   "cell_type": "code",
   "execution_count": 19,
   "metadata": {},
   "outputs": [],
   "source": [
    "def get_single_month_XY(month_, drop_cols = None, num_lagged_values=0):\n",
    "    cols = [df[month_].rename(name) for (name, df) in features_dict.items()]\n",
    "    X = pd.concat(cols, axis=1)\n",
    "    Y = objectives[month_]\n",
    "    \n",
    "    if num_lagged_values > 0:\n",
    "        idx = np.argmax(preprocessed_data.columns == month_)\n",
    "        assert idx >= num_lagged_values, \"do not have enough columns for desired lags\"\n",
    "        lagged_vals = preprocessed_data.iloc[:,idx-num_lagged_values:idx]\n",
    "        lagged_vals.columns = [f'lag{lag}' for lag in list(range(1,num_lagged_values+1))[::-1]]\n",
    "        X = pd.concat([X,lagged_vals], axis=1)\n",
    "    \n",
    "    # might turn this into separate function to pass into here\n",
    "    X['month'] = month_.month\n",
    "    X['season'] = X.month.map({1:0, 2:0, 3:0, 4:1, 5:1, 6:1, 7:1, 8:2, 9:2, 10:2, 11:3, 12:3})\n",
    "    \n",
    "    if drop_cols is not None:\n",
    "        X = X.drop(drop_cols, axis=1)\n",
    "    \n",
    "    return X,Y"
   ]
  },
  {
   "cell_type": "code",
   "execution_count": 20,
   "metadata": {},
   "outputs": [],
   "source": [
    "tempx, tempy = get_single_month_XY(all_months[-1], num_lagged_values=12)"
   ]
  },
  {
   "cell_type": "code",
   "execution_count": 21,
   "metadata": {},
   "outputs": [
    {
     "data": {
      "text/html": [
       "<div>\n",
       "<style scoped>\n",
       "    .dataframe tbody tr th:only-of-type {\n",
       "        vertical-align: middle;\n",
       "    }\n",
       "\n",
       "    .dataframe tbody tr th {\n",
       "        vertical-align: top;\n",
       "    }\n",
       "\n",
       "    .dataframe thead th {\n",
       "        text-align: right;\n",
       "    }\n",
       "</style>\n",
       "<table border=\"1\" class=\"dataframe\">\n",
       "  <thead>\n",
       "    <tr style=\"text-align: right;\">\n",
       "      <th></th>\n",
       "      <th></th>\n",
       "      <th>sales_ewms_mean_1</th>\n",
       "      <th>sales_ewms_mean_2</th>\n",
       "      <th>sales_ewms_mean_3</th>\n",
       "      <th>sales_ewms_mean_6</th>\n",
       "      <th>sales_ewms_mean_9</th>\n",
       "      <th>sales_ewms_mean_12</th>\n",
       "      <th>sales_ewms_std_1</th>\n",
       "      <th>sales_ewms_std_2</th>\n",
       "      <th>sales_ewms_std_3</th>\n",
       "      <th>sales_ewms_std_6</th>\n",
       "      <th>...</th>\n",
       "      <th>lag8</th>\n",
       "      <th>lag7</th>\n",
       "      <th>lag6</th>\n",
       "      <th>lag5</th>\n",
       "      <th>lag4</th>\n",
       "      <th>lag3</th>\n",
       "      <th>lag2</th>\n",
       "      <th>lag1</th>\n",
       "      <th>month</th>\n",
       "      <th>season</th>\n",
       "    </tr>\n",
       "    <tr>\n",
       "      <th>shop_id</th>\n",
       "      <th>item_id</th>\n",
       "      <th></th>\n",
       "      <th></th>\n",
       "      <th></th>\n",
       "      <th></th>\n",
       "      <th></th>\n",
       "      <th></th>\n",
       "      <th></th>\n",
       "      <th></th>\n",
       "      <th></th>\n",
       "      <th></th>\n",
       "      <th></th>\n",
       "      <th></th>\n",
       "      <th></th>\n",
       "      <th></th>\n",
       "      <th></th>\n",
       "      <th></th>\n",
       "      <th></th>\n",
       "      <th></th>\n",
       "      <th></th>\n",
       "      <th></th>\n",
       "      <th></th>\n",
       "    </tr>\n",
       "  </thead>\n",
       "  <tbody>\n",
       "    <tr>\n",
       "      <th rowspan=\"5\" valign=\"top\">0</th>\n",
       "      <th>30</th>\n",
       "      <td>2.328306e-09</td>\n",
       "      <td>0.000089</td>\n",
       "      <td>0.002539</td>\n",
       "      <td>0.055208</td>\n",
       "      <td>0.136002</td>\n",
       "      <td>0.205637</td>\n",
       "      <td>0.000264</td>\n",
       "      <td>0.046454</td>\n",
       "      <td>0.239550</td>\n",
       "      <td>1.082319</td>\n",
       "      <td>...</td>\n",
       "      <td>0.0</td>\n",
       "      <td>0.0</td>\n",
       "      <td>0.0</td>\n",
       "      <td>0.0</td>\n",
       "      <td>0.0</td>\n",
       "      <td>0.0</td>\n",
       "      <td>0.0</td>\n",
       "      <td>0.0</td>\n",
       "      <td>10</td>\n",
       "      <td>2</td>\n",
       "    </tr>\n",
       "    <tr>\n",
       "      <th>31</th>\n",
       "      <td>1.280569e-09</td>\n",
       "      <td>0.000049</td>\n",
       "      <td>0.001397</td>\n",
       "      <td>0.030364</td>\n",
       "      <td>0.074801</td>\n",
       "      <td>0.113101</td>\n",
       "      <td>0.000145</td>\n",
       "      <td>0.025549</td>\n",
       "      <td>0.131752</td>\n",
       "      <td>0.595275</td>\n",
       "      <td>...</td>\n",
       "      <td>0.0</td>\n",
       "      <td>0.0</td>\n",
       "      <td>0.0</td>\n",
       "      <td>0.0</td>\n",
       "      <td>0.0</td>\n",
       "      <td>0.0</td>\n",
       "      <td>0.0</td>\n",
       "      <td>0.0</td>\n",
       "      <td>10</td>\n",
       "      <td>2</td>\n",
       "    </tr>\n",
       "    <tr>\n",
       "      <th>32</th>\n",
       "      <td>1.513399e-09</td>\n",
       "      <td>0.000064</td>\n",
       "      <td>0.001874</td>\n",
       "      <td>0.042359</td>\n",
       "      <td>0.105777</td>\n",
       "      <td>0.161047</td>\n",
       "      <td>0.000144</td>\n",
       "      <td>0.026016</td>\n",
       "      <td>0.135807</td>\n",
       "      <td>0.621241</td>\n",
       "      <td>...</td>\n",
       "      <td>0.0</td>\n",
       "      <td>0.0</td>\n",
       "      <td>0.0</td>\n",
       "      <td>0.0</td>\n",
       "      <td>0.0</td>\n",
       "      <td>0.0</td>\n",
       "      <td>0.0</td>\n",
       "      <td>0.0</td>\n",
       "      <td>10</td>\n",
       "      <td>2</td>\n",
       "    </tr>\n",
       "    <tr>\n",
       "      <th>33</th>\n",
       "      <td>5.238689e-10</td>\n",
       "      <td>0.000023</td>\n",
       "      <td>0.000683</td>\n",
       "      <td>0.015659</td>\n",
       "      <td>0.039288</td>\n",
       "      <td>0.059960</td>\n",
       "      <td>0.000049</td>\n",
       "      <td>0.009104</td>\n",
       "      <td>0.048122</td>\n",
       "      <td>0.222969</td>\n",
       "      <td>...</td>\n",
       "      <td>0.0</td>\n",
       "      <td>0.0</td>\n",
       "      <td>0.0</td>\n",
       "      <td>0.0</td>\n",
       "      <td>0.0</td>\n",
       "      <td>0.0</td>\n",
       "      <td>0.0</td>\n",
       "      <td>0.0</td>\n",
       "      <td>10</td>\n",
       "      <td>2</td>\n",
       "    </tr>\n",
       "    <tr>\n",
       "      <th>35</th>\n",
       "      <td>1.688022e-09</td>\n",
       "      <td>0.000066</td>\n",
       "      <td>0.001878</td>\n",
       "      <td>0.041105</td>\n",
       "      <td>0.101497</td>\n",
       "      <td>0.153651</td>\n",
       "      <td>0.000185</td>\n",
       "      <td>0.032576</td>\n",
       "      <td>0.168023</td>\n",
       "      <td>0.759210</td>\n",
       "      <td>...</td>\n",
       "      <td>0.0</td>\n",
       "      <td>0.0</td>\n",
       "      <td>0.0</td>\n",
       "      <td>0.0</td>\n",
       "      <td>0.0</td>\n",
       "      <td>0.0</td>\n",
       "      <td>0.0</td>\n",
       "      <td>0.0</td>\n",
       "      <td>10</td>\n",
       "      <td>2</td>\n",
       "    </tr>\n",
       "  </tbody>\n",
       "</table>\n",
       "<p>5 rows × 50 columns</p>\n",
       "</div>"
      ],
      "text/plain": [
       "                 sales_ewms_mean_1  sales_ewms_mean_2  sales_ewms_mean_3  \\\n",
       "shop_id item_id                                                            \n",
       "0       30            2.328306e-09           0.000089           0.002539   \n",
       "        31            1.280569e-09           0.000049           0.001397   \n",
       "        32            1.513399e-09           0.000064           0.001874   \n",
       "        33            5.238689e-10           0.000023           0.000683   \n",
       "        35            1.688022e-09           0.000066           0.001878   \n",
       "\n",
       "                 sales_ewms_mean_6  sales_ewms_mean_9  sales_ewms_mean_12  \\\n",
       "shop_id item_id                                                             \n",
       "0       30                0.055208           0.136002            0.205637   \n",
       "        31                0.030364           0.074801            0.113101   \n",
       "        32                0.042359           0.105777            0.161047   \n",
       "        33                0.015659           0.039288            0.059960   \n",
       "        35                0.041105           0.101497            0.153651   \n",
       "\n",
       "                 sales_ewms_std_1  sales_ewms_std_2  sales_ewms_std_3  \\\n",
       "shop_id item_id                                                         \n",
       "0       30               0.000264          0.046454          0.239550   \n",
       "        31               0.000145          0.025549          0.131752   \n",
       "        32               0.000144          0.026016          0.135807   \n",
       "        33               0.000049          0.009104          0.048122   \n",
       "        35               0.000185          0.032576          0.168023   \n",
       "\n",
       "                 sales_ewms_std_6  ...  lag8  lag7  lag6  lag5  lag4  lag3  \\\n",
       "shop_id item_id                    ...                                       \n",
       "0       30               1.082319  ...   0.0   0.0   0.0   0.0   0.0   0.0   \n",
       "        31               0.595275  ...   0.0   0.0   0.0   0.0   0.0   0.0   \n",
       "        32               0.621241  ...   0.0   0.0   0.0   0.0   0.0   0.0   \n",
       "        33               0.222969  ...   0.0   0.0   0.0   0.0   0.0   0.0   \n",
       "        35               0.759210  ...   0.0   0.0   0.0   0.0   0.0   0.0   \n",
       "\n",
       "                 lag2  lag1  month  season  \n",
       "shop_id item_id                             \n",
       "0       30        0.0   0.0     10       2  \n",
       "        31        0.0   0.0     10       2  \n",
       "        32        0.0   0.0     10       2  \n",
       "        33        0.0   0.0     10       2  \n",
       "        35        0.0   0.0     10       2  \n",
       "\n",
       "[5 rows x 50 columns]"
      ]
     },
     "execution_count": 21,
     "metadata": {},
     "output_type": "execute_result"
    }
   ],
   "source": [
    "tempx.head()"
   ]
  },
  {
   "cell_type": "markdown",
   "metadata": {},
   "source": [
    "features_dicttting and CV"
   ]
  },
  {
   "cell_type": "code",
   "execution_count": 22,
   "metadata": {},
   "outputs": [],
   "source": [
    "def fit_and_predict(model, x_train, y_train, x_val = None):\n",
    "    \n",
    "    start_time = time.time()\n",
    "    fitted_model = model.fit(x_train, y_train)\n",
    "    fit_time = time.time() - start_time\n",
    "    \n",
    "    y_train_pred = fitted_model.predict(x_train)\n",
    "    \n",
    "    if x_val is not None:\n",
    "        y_val_pred = fitted_model.predict(x_val)\n",
    "    else:\n",
    "        y_val_pred = None\n",
    "        \n",
    "    return fitted_model, y_train_pred, y_val_pred, fit_time"
   ]
  },
  {
   "cell_type": "code",
   "execution_count": 23,
   "metadata": {},
   "outputs": [],
   "source": [
    "def plot_feature_importances(mod, col_names=None, figsize=(6,10)):\n",
    "    plt.figure(figsize=figsize)\n",
    "    importances = mod.feature_importances_\n",
    "    if type(importances) == pd.Series:\n",
    "        importances.sort_values().plot(kind='barh')\n",
    "    elif col_names is not None:\n",
    "        pd.Series(importances, index=col_names).sort_values().plot(kind='barh')\n",
    "    else:\n",
    "        print('dont have col names')"
   ]
  },
  {
   "cell_type": "code",
   "execution_count": 24,
   "metadata": {},
   "outputs": [],
   "source": [
    "# using the 0th month is not good, because december behavior is very non-predicitve of jan behavior\n",
    "DROP_COLS = []\n",
    "X_train,Y_train = get_single_month_XY(full_data_months[4], drop_cols=DROP_COLS, num_lagged_values=12)\n",
    "X_val,Y_val = get_single_month_XY(full_data_months[5], drop_cols=DROP_COLS, num_lagged_values=12)"
   ]
  },
  {
   "cell_type": "code",
   "execution_count": 25,
   "metadata": {},
   "outputs": [
    {
     "data": {
      "text/plain": [
       "(48.10434937477112, 1.6312150500101998, 1.8597492315982111)"
      ]
     },
     "execution_count": 25,
     "metadata": {},
     "output_type": "execute_result"
    }
   ],
   "source": [
    "mod = RandomForestRegressor(n_estimators=50, max_depth=5, n_jobs=-1)\n",
    "fitted, ytpred, yvpred, elapsed = fit_and_predict(mod, X_train,Y_train, X_val)\n",
    "elapsed, mean_squared_error(Y_train, ytpred), mean_squared_error(Y_val, yvpred)"
   ]
  },
  {
   "cell_type": "code",
   "execution_count": 26,
   "metadata": {},
   "outputs": [
    {
     "data": {
      "text/plain": [
       "(48.10434937477112, 4.384548354061024, 5.1290065019500926)"
      ]
     },
     "execution_count": 26,
     "metadata": {},
     "output_type": "execute_result"
    }
   ],
   "source": [
    "elapsed, mean_squared_error(Y_train, np.clip(ytpred,0,20)), mean_squared_error(Y_val, np.clip(yvpred, 0 ,20))"
   ]
  },
  {
   "cell_type": "code",
   "execution_count": 92,
   "metadata": {},
   "outputs": [
    {
     "data": {
      "image/png": "[encoded data removed]",
      "text/plain": [
       "<Figure size 432x720 with 1 Axes>"
      ]
     },
     "metadata": {
      "needs_background": "light"
     },
     "output_type": "display_data"
    }
   ],
   "source": [
    "plot_feature_importances(fitted, col_names=X_train.columns)"
   ]
  },
  {
   "cell_type": "code",
   "execution_count": 27,
   "metadata": {},
   "outputs": [
    {
     "data": {
      "text/plain": [
       "(147.45052027702332, 1.4690477805385977, 1.7073934546390999)"
      ]
     },
     "execution_count": 27,
     "metadata": {},
     "output_type": "execute_result"
    }
   ],
   "source": [
    "mod = RandomForestRegressor(n_estimators=100, max_depth=10, n_jobs=-1)\n",
    "fitted, ytpred, yvpred, elapsed = fit_and_predict(mod, X_train,Y_train, X_val)\n",
    "elapsed, mean_squared_error(Y_train, ytpred), mean_squared_error(Y_val, yvpred)"
   ]
  },
  {
   "cell_type": "code",
   "execution_count": 28,
   "metadata": {},
   "outputs": [
    {
     "data": {
      "image/png": "[encoded data removed]",
      "text/plain": [
       "<Figure size 432x720 with 1 Axes>"
      ]
     },
     "metadata": {
      "needs_background": "light"
     },
     "output_type": "display_data"
    }
   ],
   "source": [
    "plot_feature_importances(fitted, X_train.columns)"
   ]
  },
  {
   "cell_type": "code",
   "execution_count": 33,
   "metadata": {},
   "outputs": [],
   "source": [
    "import xgboost as xgb\n",
    "\n",
    "class xgb_model:\n",
    "    def __init__(self, num_boost_round, **params):\n",
    "        self.params = {\n",
    "            'max_depth':6,\n",
    "            'min_child_weight': 1,\n",
    "            'eta':.3,\n",
    "            'subsample': 0.8,\n",
    "            'colsample_bytree': 0.8,\n",
    "            'lambda':1,\n",
    "            'gamma':0.1,\n",
    "            'objective':'reg:squarederror',\n",
    "            # leave nthread default - detects all cores automatically\n",
    "        }\n",
    "        self.params.update(params)\n",
    "        self.fitted_model = None\n",
    "        self.num_boost_round = num_boost_round\n",
    "       \n",
    "    def fit(self, X, Y):\n",
    "        dm_train = xgb.DMatrix(X,Y)\n",
    "        self.fitted_model = xgb.train(self.params, dtrain=dm_train, num_boost_round=self.num_boost_round)\n",
    "        return self\n",
    "    \n",
    "    def predict(self, X):\n",
    "        assert self.fitted_model is not None, 'Must fit first'\n",
    "        dm = xgb.DMatrix(X)\n",
    "        return self.fitted_model.predict(dm)\n",
    "    \n",
    "    @property\n",
    "    def feature_importances_(self):\n",
    "        return pd.Series(self.fitted_model.get_score(importance_type='weight'))"
   ]
  },
  {
   "cell_type": "code",
   "execution_count": 93,
   "metadata": {},
   "outputs": [
    {
     "data": {
      "text/plain": [
       "(26.49715518951416, 1.2696821627439183, 1.7036145223038577)"
      ]
     },
     "execution_count": 93,
     "metadata": {},
     "output_type": "execute_result"
    }
   ],
   "source": [
    "mod = xgb_model(num_boost_round=100, max_depth=10, eta=0.1)\n",
    "fitted, ytpred, yvpred, elapsed = fit_and_predict(mod, X_train,Y_train, X_val)\n",
    "elapsed, mean_squared_error(Y_train, ytpred), mean_squared_error(Y_val, yvpred)"
   ]
  },
  {
   "cell_type": "code",
   "execution_count": 94,
   "metadata": {},
   "outputs": [
    {
     "data": {
      "text/plain": [
       "(66.52813577651978, 1.1196057062632119, 1.694079261009782)"
      ]
     },
     "execution_count": 94,
     "metadata": {},
     "output_type": "execute_result"
    }
   ],
   "source": [
    "mod = xgb_model(num_boost_round=100, max_depth=20, eta=0.1)\n",
    "fitted, ytpred, yvpred, elapsed = fit_and_predict(mod, X_train,Y_train, X_val)\n",
    "elapsed, mean_squared_error(Y_train, ytpred), mean_squared_error(Y_val, yvpred)"
   ]
  },
  {
   "cell_type": "code",
   "execution_count": 34,
   "metadata": {},
   "outputs": [
    {
     "data": {
      "text/plain": [
       "(22.517793655395508, 1.2732372589390728, 1.800842958242524)"
      ]
     },
     "execution_count": 34,
     "metadata": {},
     "output_type": "execute_result"
    }
   ],
   "source": [
    "mod = xgb_model(num_boost_round=100, max_depth=10, eta=0.1)\n",
    "fitted, ytpred, yvpred, elapsed = fit_and_predict(mod, X_train,Y_train, X_val)\n",
    "elapsed, mean_squared_error(Y_train, ytpred), mean_squared_error(Y_val, yvpred)"
   ]
  },
  {
   "cell_type": "code",
   "execution_count": 35,
   "metadata": {},
   "outputs": [
    {
     "data": {
      "image/png": "[encoded data removed]",
      "text/plain": [
       "<Figure size 432x720 with 1 Axes>"
      ]
     },
     "metadata": {
      "needs_background": "light"
     },
     "output_type": "display_data"
    }
   ],
   "source": [
    "plot_feature_importances(fitted)"
   ]
  },
  {
   "cell_type": "code",
   "execution_count": 36,
   "metadata": {},
   "outputs": [
    {
     "data": {
      "text/plain": [
       "(11.595996141433716, 1.2769410530095493, 1.6838278200251264)"
      ]
     },
     "execution_count": 36,
     "metadata": {},
     "output_type": "execute_result"
    }
   ],
   "source": [
    "mod = xgb_model(num_boost_round=50, max_depth=10, eta=0.2)\n",
    "fitted, ytpred, yvpred, elapsed = fit_and_predict(mod, X_train,Y_train, X_val)\n",
    "elapsed, mean_squared_error(Y_train, ytpred), mean_squared_error(Y_val, yvpred)"
   ]
  },
  {
   "cell_type": "code",
   "execution_count": 37,
   "metadata": {},
   "outputs": [
    {
     "data": {
      "image/png": "[encoded data removed]",
      "text/plain": [
       "<Figure size 432x720 with 1 Axes>"
      ]
     },
     "metadata": {
      "needs_background": "light"
     },
     "output_type": "display_data"
    }
   ],
   "source": [
    "plot_feature_importances(fitted)"
   ]
  },
  {
   "cell_type": "code",
   "execution_count": 40,
   "metadata": {},
   "outputs": [
    {
     "data": {
      "text/plain": [
       "(24.04870319366455, 1.221521536648759, 1.6907810345000311)"
      ]
     },
     "execution_count": 40,
     "metadata": {},
     "output_type": "execute_result"
    }
   ],
   "source": [
    "mod = xgb_model(num_boost_round=100, max_depth=10, eta=0.2)\n",
    "fitted, ytpred, yvpred, elapsed = fit_and_predict(mod, X_train,Y_train, X_val)\n",
    "elapsed, mean_squared_error(Y_train, ytpred), mean_squared_error(Y_val, yvpred)"
   ]
  },
  {
   "cell_type": "code",
   "execution_count": 41,
   "metadata": {},
   "outputs": [
    {
     "data": {
      "image/png": "[encoded data removed]",
      "text/plain": [
       "<Figure size 432x720 with 1 Axes>"
      ]
     },
     "metadata": {
      "needs_background": "light"
     },
     "output_type": "display_data"
    }
   ],
   "source": [
    "plot_feature_importances(fitted)"
   ]
  },
  {
   "cell_type": "code",
   "execution_count": 1,
   "metadata": {},
   "outputs": [
    {
     "ename": "NameError",
     "evalue": "name 'features_dict' is not defined",
     "output_type": "error",
     "traceback": [
      "\u001b[1;31m---------------------------------------------------------------------------\u001b[0m",
      "\u001b[1;31mNameError\u001b[0m                                 Traceback (most recent call last)",
      "\u001b[1;32m<ipython-input-1-261fee534a07>\u001b[0m in \u001b[0;36m<module>\u001b[1;34m\u001b[0m\n\u001b[0;32m      1\u001b[0m \u001b[0mNUM_LAGGED_VALUES\u001b[0m \u001b[1;33m=\u001b[0m \u001b[1;36m24\u001b[0m\u001b[1;33m\u001b[0m\u001b[1;33m\u001b[0m\u001b[0m\n\u001b[1;32m----> 2\u001b[1;33m \u001b[0mDROP_COLUMNS\u001b[0m \u001b[1;33m=\u001b[0m \u001b[0mlist\u001b[0m\u001b[1;33m(\u001b[0m\u001b[0mfeatures_dict\u001b[0m\u001b[1;33m.\u001b[0m\u001b[0mkeys\u001b[0m\u001b[1;33m(\u001b[0m\u001b[1;33m)\u001b[0m\u001b[1;33m)\u001b[0m \u001b[1;33m+\u001b[0m \u001b[1;33m[\u001b[0m\u001b[1;34m'month'\u001b[0m\u001b[1;33m,\u001b[0m \u001b[1;34m'season'\u001b[0m\u001b[1;33m]\u001b[0m\u001b[1;33m\u001b[0m\u001b[1;33m\u001b[0m\u001b[0m\n\u001b[0m\u001b[0;32m      3\u001b[0m \u001b[1;33m\u001b[0m\u001b[0m\n\u001b[0;32m      4\u001b[0m \u001b[1;32mdef\u001b[0m \u001b[0mrolling_cross_validation\u001b[0m\u001b[1;33m(\u001b[0m\u001b[0mmodel\u001b[0m\u001b[1;33m,\u001b[0m \u001b[0mdata_months_list\u001b[0m\u001b[1;33m,\u001b[0m \u001b[0mpost_process_preds\u001b[0m \u001b[1;33m=\u001b[0m \u001b[1;32mNone\u001b[0m\u001b[1;33m,\u001b[0m \u001b[0mvalidate_months_num\u001b[0m\u001b[1;33m=\u001b[0m\u001b[1;32mNone\u001b[0m\u001b[1;33m,\u001b[0m \u001b[0mnum_stack_months\u001b[0m\u001b[1;33m=\u001b[0m\u001b[1;36m1\u001b[0m\u001b[1;33m,\u001b[0m \u001b[0mfit_final\u001b[0m\u001b[1;33m=\u001b[0m\u001b[1;32mFalse\u001b[0m\u001b[1;33m)\u001b[0m\u001b[1;33m:\u001b[0m\u001b[1;33m\u001b[0m\u001b[1;33m\u001b[0m\u001b[0m\n\u001b[0;32m      5\u001b[0m     \u001b[1;32mif\u001b[0m \u001b[0mpost_process_preds\u001b[0m \u001b[1;32mis\u001b[0m \u001b[1;32mNone\u001b[0m\u001b[1;33m:\u001b[0m\u001b[1;33m\u001b[0m\u001b[1;33m\u001b[0m\u001b[0m\n",
      "\u001b[1;31mNameError\u001b[0m: name 'features_dict' is not defined"
     ]
    }
   ],
   "source": [
    "NUM_LAGGED_VALUES = 24\n",
    "DROP_COLUMNS = list(features_dict.keys()) + ['month', 'season']\n",
    "\n",
    "def rolling_cross_validation(model, data_months_list, post_process_preds = None, validate_months_num=None, num_stack_months=1, fit_final=False):\n",
    "    if post_process_preds is None:\n",
    "        post_process_preds = lambda x: x\n",
    "        \n",
    "    Xs_deque = deque()\n",
    "    Ys_deque = deque()\n",
    "    \n",
    "    for month in data_months_list[:num_stack_months]:\n",
    "        X_, Y_ = get_single_month_XY(month, drop_cols=DROP_COLUMNS, num_lagged_values=NUM_LAGGED_VALUES)\n",
    "        Xs_deque.append(X_)\n",
    "        Ys_deque.append(Y_)\n",
    "        \n",
    "           \n",
    "    if validate_months_num is None:\n",
    "        validate_months_num = len(data_months_list) - num_stack_months\n",
    "    else:\n",
    "        validate_months_num = min(validate_months_num, len(data_months_list) - num_stack_months)\n",
    "        \n",
    "    \n",
    "    fitted_models = {}\n",
    "    in_sample_scores = {}\n",
    "    oos_scores = {}\n",
    "    loop_times = []\n",
    "    \n",
    "    for month in data_months_list[num_stack_months: num_stack_months + validate_months_num]:\n",
    "        print(f'Working on: {month}')\n",
    "        loop_start = time.time()\n",
    "        X_train = pd.concat(Xs_deque)\n",
    "        Y_train = pd.concat(Ys_deque)\n",
    "        \n",
    "        X_val, Y_val = get_single_month_XY(month, drop_cols=DROP_COLUMNS, num_lagged_values=NUM_LAGGED_VALUES)\n",
    "        fitted, ytrain_pred, yval_pred, elapsed_time = fit_and_predict(model, X_train, Y_train, X_val)\n",
    "        fitted_models[month] = fitted\n",
    "        print(f'fit time: {elapsed_time}')\n",
    "        \n",
    "        in_sample_scores[month] = mean_squared_error(Y_train, post_process_preds(ytrain_pred))\n",
    "        oos_scores[month] = mean_squared_error(Y_val, post_process_preds(yval_pred))\n",
    "        \n",
    "        Xs_deque.popleft()\n",
    "        Ys_deque.popleft()\n",
    "        \n",
    "        Xs_deque.append(X_val)\n",
    "        Ys_deque.append(Y_val)\n",
    "        \n",
    "        loop_end = time.time()\n",
    "        loop_times.append(loop_end - loop_start)\n",
    "    \n",
    "    if fit_final:\n",
    "        X_train = pd.concat(Xs_deque)\n",
    "        Y_train = pd.concat(Ys_deque)\n",
    "        fitted, ytrain_pred, yval_pred, elapsed_time = fit_and_predict(model, X_train, Y_train, X_val)\n",
    "        fitted_models['FINAL'] = fitted\n",
    "        in_sample_scores['FINAL'] = mean_squared_error(Y_train, post_process_preds(ytrain_pred))\n",
    "    \n",
    "    \n",
    "    return fitted_models, in_sample_scores, oos_scores, loop_times"
   ]
  },
  {
   "cell_type": "code",
   "execution_count": 139,
   "metadata": {},
   "outputs": [
    {
     "name": "stdout",
     "output_type": "stream",
     "text": [
      "Working on: 2015-09\n",
      "fit time: 35.86212468147278\n"
     ]
    }
   ],
   "source": [
    "mod = RandomForestRegressor(n_estimators=100, max_depth=10, n_jobs=5)\n",
    "fitted_models, isscores, osscores, times = rolling_cross_validation(mod, full_data_months[20:], num_stack_months=1, fit_final=True)"
   ]
  },
  {
   "cell_type": "code",
   "execution_count": 140,
   "metadata": {},
   "outputs": [
    {
     "data": {
      "text/plain": [
       "{Period('2015-09', 'M'): RandomForestRegressor(max_depth=10, n_jobs=5),\n",
       " 'FINAL': RandomForestRegressor(max_depth=10, n_jobs=5)}"
      ]
     },
     "execution_count": 140,
     "metadata": {},
     "output_type": "execute_result"
    }
   ],
   "source": [
    "fitted_models"
   ]
  },
  {
   "cell_type": "code",
   "execution_count": 141,
   "metadata": {},
   "outputs": [
    {
     "data": {
      "text/plain": [
       "2015-09     3.320216\n",
       "FINAL      12.366350\n",
       "dtype: float64"
      ]
     },
     "execution_count": 141,
     "metadata": {},
     "output_type": "execute_result"
    }
   ],
   "source": [
    "pd.Series(isscores)"
   ]
  },
  {
   "cell_type": "code",
   "execution_count": 142,
   "metadata": {},
   "outputs": [
    {
     "data": {
      "text/plain": [
       "2015-09    24.195836\n",
       "Freq: M, dtype: float64"
      ]
     },
     "execution_count": 142,
     "metadata": {},
     "output_type": "execute_result"
    }
   ],
   "source": [
    "pd.Series(osscores)"
   ]
  },
  {
   "cell_type": "code",
   "execution_count": 147,
   "metadata": {},
   "outputs": [],
   "source": [
    "temp = pd.read_csv('2020_08_26_month_stacked_xgb_with_ewms_more_inds_V3.csv', index_col='ID')"
   ]
  },
  {
   "cell_type": "code",
   "execution_count": 152,
   "metadata": {},
   "outputs": [
    {
     "data": {
      "text/plain": [
       "ID\n",
       "122771     -24.103754\n",
       "122406     -10.609228\n",
       "46990       -6.697152\n",
       "122444      -4.570059\n",
       "210190      -4.557869\n",
       "             ...     \n",
       "56560      330.506130\n",
       "102460     389.925540\n",
       "46360      408.432560\n",
       "41260      707.361300\n",
       "37296     1765.688700\n",
       "Name: item_cnt_month, Length: 214200, dtype: float64"
      ]
     },
     "execution_count": 152,
     "metadata": {},
     "output_type": "execute_result"
    }
   ],
   "source": [
    "temp.item_cnt_month.sort_values()"
   ]
  },
  {
   "cell_type": "markdown",
   "metadata": {},
   "source": [
    "#### THIS CLIPPING MEANS THE DIFFERENCE BETWEEN A 6 and 1 score solution."
   ]
  },
  {
   "cell_type": "code",
   "execution_count": 155,
   "metadata": {},
   "outputs": [],
   "source": [
    "np.clip(temp, 0,20).to_csv('2020_08_26_month_stacked_xgb_with_ewms_more_inds_V3_clipped.csv')"
   ]
  },
  {
   "cell_type": "code",
   "execution_count": null,
   "metadata": {},
   "outputs": [],
   "source": []
  },
  {
   "cell_type": "code",
   "execution_count": null,
   "metadata": {},
   "outputs": [],
   "source": []
  },
  {
   "cell_type": "code",
   "execution_count": null,
   "metadata": {},
   "outputs": [],
   "source": []
  },
  {
   "cell_type": "code",
   "execution_count": 104,
   "metadata": {},
   "outputs": [
    {
     "name": "stdout",
     "output_type": "stream",
     "text": [
      "Working on: 2015-08\n",
      "fit time: 577.5070893764496\n",
      "Working on: 2015-09\n",
      "fit time: 553.4928925037384\n"
     ]
    }
   ],
   "source": [
    "#mod = RandomForestRegressor(n_estimators=100, max_depth=10, n_jobs=5)\n",
    "mod = xgb_model(num_boost_round=500, max_depth=20, eta=0.3, gpu_id=0, tree_method='gpu_hist')\n",
    "fitted_models, isscores, osscores, times = rolling_cross_validation(mod, full_data_months[-20:], num_stack_months=18, fit_final=True)"
   ]
  },
  {
   "cell_type": "code",
   "execution_count": 105,
   "metadata": {},
   "outputs": [
    {
     "data": {
      "text/plain": [
       "{Period('2015-08', 'M'): <__main__.xgb_model at 0x13fb98d7438>,\n",
       " Period('2015-09', 'M'): <__main__.xgb_model at 0x13fb98d7438>,\n",
       " 'FINAL': <__main__.xgb_model at 0x13fb98d7438>}"
      ]
     },
     "execution_count": 105,
     "metadata": {},
     "output_type": "execute_result"
    }
   ],
   "source": [
    "fitted_models"
   ]
  },
  {
   "cell_type": "code",
   "execution_count": 106,
   "metadata": {},
   "outputs": [
    {
     "data": {
      "text/plain": [
       "2015-08    1.520218\n",
       "2015-09    1.493343\n",
       "FINAL      1.424009\n",
       "dtype: float64"
      ]
     },
     "execution_count": 106,
     "metadata": {},
     "output_type": "execute_result"
    }
   ],
   "source": [
    "pd.Series(isscores)"
   ]
  },
  {
   "cell_type": "code",
   "execution_count": 107,
   "metadata": {},
   "outputs": [
    {
     "data": {
      "text/plain": [
       "2015-08    19.841497\n",
       "2015-09    14.006442\n",
       "Freq: M, dtype: float64"
      ]
     },
     "execution_count": 107,
     "metadata": {},
     "output_type": "execute_result"
    }
   ],
   "source": [
    "pd.Series(osscores)"
   ]
  },
  {
   "cell_type": "code",
   "execution_count": null,
   "metadata": {},
   "outputs": [],
   "source": []
  },
  {
   "cell_type": "code",
   "execution_count": null,
   "metadata": {},
   "outputs": [],
   "source": []
  },
  {
   "cell_type": "code",
   "execution_count": 60,
   "metadata": {},
   "outputs": [
    {
     "name": "stdout",
     "output_type": "stream",
     "text": [
      "Working on: 2015-08\n",
      "fit time: 122.16142749786377\n",
      "Working on: 2015-09\n",
      "fit time: 120.46891212463379\n"
     ]
    }
   ],
   "source": [
    "#mod = RandomForestRegressor(n_estimators=100, max_depth=10, n_jobs=5)\n",
    "mod = xgb_model(num_boost_round=500, max_depth=10, eta=0.3, gpu_id=0, tree_method='gpu_hist')\n",
    "fitted_models, isscores, osscores, times = rolling_cross_validation(mod, full_data_months[-20:], num_stack_months=18, fit_final=True)"
   ]
  },
  {
   "cell_type": "code",
   "execution_count": 61,
   "metadata": {},
   "outputs": [
    {
     "data": {
      "text/plain": [
       "{Period('2015-08', 'M'): <__main__.xgb_model at 0x13f8065efd0>,\n",
       " Period('2015-09', 'M'): <__main__.xgb_model at 0x13f8065efd0>,\n",
       " 'FINAL': <__main__.xgb_model at 0x13f8065efd0>}"
      ]
     },
     "execution_count": 61,
     "metadata": {},
     "output_type": "execute_result"
    }
   ],
   "source": [
    "fitted_models"
   ]
  },
  {
   "cell_type": "code",
   "execution_count": 62,
   "metadata": {},
   "outputs": [
    {
     "data": {
      "text/plain": [
       "2015-08    1.660575\n",
       "2015-09    1.632676\n",
       "FINAL      1.559067\n",
       "dtype: float64"
      ]
     },
     "execution_count": 62,
     "metadata": {},
     "output_type": "execute_result"
    }
   ],
   "source": [
    "pd.Series(isscores)"
   ]
  },
  {
   "cell_type": "code",
   "execution_count": 63,
   "metadata": {},
   "outputs": [
    {
     "data": {
      "text/plain": [
       "2015-08    19.428612\n",
       "2015-09    12.160473\n",
       "Freq: M, dtype: float64"
      ]
     },
     "execution_count": 63,
     "metadata": {},
     "output_type": "execute_result"
    }
   ],
   "source": [
    "pd.Series(osscores)"
   ]
  },
  {
   "cell_type": "code",
   "execution_count": null,
   "metadata": {},
   "outputs": [],
   "source": []
  },
  {
   "cell_type": "code",
   "execution_count": 53,
   "metadata": {},
   "outputs": [
    {
     "data": {
      "text/plain": [
       "{Period('2015-08', 'M'): <__main__.xgb_model at 0x13f8b867198>,\n",
       " Period('2015-09', 'M'): <__main__.xgb_model at 0x13f8b867198>,\n",
       " 'FINAL': <__main__.xgb_model at 0x13f8b867198>}"
      ]
     },
     "execution_count": 53,
     "metadata": {},
     "output_type": "execute_result"
    }
   ],
   "source": [
    "fitted_models"
   ]
  },
  {
   "cell_type": "code",
   "execution_count": 54,
   "metadata": {},
   "outputs": [
    {
     "data": {
      "text/plain": [
       "2015-08    1.684703\n",
       "2015-09    1.653207\n",
       "FINAL      1.580408\n",
       "dtype: float64"
      ]
     },
     "execution_count": 54,
     "metadata": {},
     "output_type": "execute_result"
    }
   ],
   "source": [
    "pd.Series(isscores)"
   ]
  },
  {
   "cell_type": "code",
   "execution_count": 55,
   "metadata": {},
   "outputs": [
    {
     "data": {
      "text/plain": [
       "2015-08    19.430249\n",
       "2015-09    14.308523\n",
       "Freq: M, dtype: float64"
      ]
     },
     "execution_count": 55,
     "metadata": {},
     "output_type": "execute_result"
    }
   ],
   "source": [
    "pd.Series(osscores)"
   ]
  },
  {
   "cell_type": "code",
   "execution_count": null,
   "metadata": {},
   "outputs": [],
   "source": []
  },
  {
   "cell_type": "code",
   "execution_count": 45,
   "metadata": {},
   "outputs": [
    {
     "data": {
      "text/plain": [
       "{Period('2015-08', 'M'): <__main__.xgb_model at 0x13f8cf4e710>,\n",
       " Period('2015-09', 'M'): <__main__.xgb_model at 0x13f8cf4e710>,\n",
       " 'FINAL': <__main__.xgb_model at 0x13f8cf4e710>}"
      ]
     },
     "execution_count": 45,
     "metadata": {},
     "output_type": "execute_result"
    }
   ],
   "source": [
    "fitted_models"
   ]
  },
  {
   "cell_type": "code",
   "execution_count": 46,
   "metadata": {},
   "outputs": [
    {
     "data": {
      "text/plain": [
       "2015-08    2.024273\n",
       "2015-09    2.005750\n",
       "FINAL      1.936844\n",
       "dtype: float64"
      ]
     },
     "execution_count": 46,
     "metadata": {},
     "output_type": "execute_result"
    }
   ],
   "source": [
    "pd.Series(isscores)"
   ]
  },
  {
   "cell_type": "code",
   "execution_count": 47,
   "metadata": {},
   "outputs": [
    {
     "data": {
      "text/plain": [
       "2015-08    19.618823\n",
       "2015-09    14.017673\n",
       "Freq: M, dtype: float64"
      ]
     },
     "execution_count": 47,
     "metadata": {},
     "output_type": "execute_result"
    }
   ],
   "source": [
    "pd.Series(osscores)"
   ]
  },
  {
   "cell_type": "code",
   "execution_count": null,
   "metadata": {},
   "outputs": [],
   "source": []
  },
  {
   "cell_type": "code",
   "execution_count": 84,
   "metadata": {},
   "outputs": [
    {
     "data": {
      "text/plain": [
       "{Period('2015-08', 'M'): <__main__.xgb_model at 0x2d18bbb3f28>,\n",
       " Period('2015-09', 'M'): <__main__.xgb_model at 0x2d18bbb3f28>,\n",
       " 'FINAL': <__main__.xgb_model at 0x2d18bbb3f28>}"
      ]
     },
     "execution_count": 84,
     "metadata": {},
     "output_type": "execute_result"
    }
   ],
   "source": [
    "fitted_models"
   ]
  },
  {
   "cell_type": "code",
   "execution_count": 85,
   "metadata": {},
   "outputs": [
    {
     "data": {
      "text/plain": [
       "2015-08    2.713818\n",
       "2015-09    3.066222\n",
       "FINAL      3.059186\n",
       "dtype: float64"
      ]
     },
     "execution_count": 85,
     "metadata": {},
     "output_type": "execute_result"
    }
   ],
   "source": [
    "pd.Series(isscores)"
   ]
  },
  {
   "cell_type": "code",
   "execution_count": 86,
   "metadata": {},
   "outputs": [
    {
     "data": {
      "text/plain": [
       "2015-08    21.253366\n",
       "2015-09    13.252615\n",
       "Freq: M, dtype: float64"
      ]
     },
     "execution_count": 86,
     "metadata": {},
     "output_type": "execute_result"
    }
   ],
   "source": [
    "pd.Series(osscores)"
   ]
  },
  {
   "cell_type": "code",
   "execution_count": 56,
   "metadata": {},
   "outputs": [],
   "source": [
    "X,Y = get_single_month_XY(all_months[-1])"
   ]
  },
  {
   "cell_type": "code",
   "execution_count": 57,
   "metadata": {},
   "outputs": [],
   "source": [
    "predictions = fitted_models['FINAL'].predict(X)"
   ]
  },
  {
   "cell_type": "code",
   "execution_count": 58,
   "metadata": {},
   "outputs": [],
   "source": [
    "predictions = pd.DataFrame({'item_cnt_month':predictions}, index=X.index)"
   ]
  },
  {
   "cell_type": "code",
   "execution_count": 59,
   "metadata": {},
   "outputs": [],
   "source": [
    "utilities.merge_pred_with_test(predictions).to_csv('2020_08_26_month_stacked_xgb_with_ewms_more_inds_V3.csv')"
   ]
  },
  {
   "cell_type": "markdown",
   "metadata": {},
   "source": [
    "# Analysis"
   ]
  },
  {
   "cell_type": "code",
   "execution_count": 106,
   "metadata": {},
   "outputs": [
    {
     "data": {
      "image/png": "[encoded data removed]",
      "text/plain": [
       "<Figure size 432x720 with 1 Axes>"
      ]
     },
     "metadata": {
      "needs_background": "light"
     },
     "output_type": "display_data"
    }
   ],
   "source": [
    "plot_feature_importances(fitted_models['FINAL'], X_train.columns)"
   ]
  },
  {
   "cell_type": "code",
   "execution_count": null,
   "metadata": {},
   "outputs": [],
   "source": []
  },
  {
   "cell_type": "code",
   "execution_count": null,
   "metadata": {},
   "outputs": [],
   "source": []
  },
  {
   "cell_type": "code",
   "execution_count": null,
   "metadata": {},
   "outputs": [],
   "source": []
  },
  {
   "cell_type": "markdown",
   "metadata": {},
   "source": [
    "Other code"
   ]
  },
  {
   "cell_type": "markdown",
   "metadata": {},
   "source": [
    "TODO:\n",
    "- understand test set vis a vis my test sets\n",
    "- recreate data set as they do\n",
    "- include item category - and mean encode that to\n",
    "- more target encodings\n",
    "- use shops info somehow? - where are they, other geogrphically relevant stuff?\n",
    "- target encode month with number of items sold\n",
    "- target encode month with total revenue\n",
    "- I need to somehow show decrease in sales trend (perhaps I can remove it)\n",
    "    - I could also simply remove december data; they are clear outliers\n",
    "- feature: nununique items sold that month"
   ]
  },
  {
   "cell_type": "code",
   "execution_count": 27,
   "metadata": {},
   "outputs": [],
   "source": [
    "sales = utilities.load_and_preprocess()"
   ]
  },
  {
   "cell_type": "code",
   "execution_count": 36,
   "metadata": {},
   "outputs": [
    {
     "data": {
      "text/html": [
       "<div>\n",
       "<style scoped>\n",
       "    .dataframe tbody tr th:only-of-type {\n",
       "        vertical-align: middle;\n",
       "    }\n",
       "\n",
       "    .dataframe tbody tr th {\n",
       "        vertical-align: top;\n",
       "    }\n",
       "\n",
       "    .dataframe thead th {\n",
       "        text-align: right;\n",
       "    }\n",
       "</style>\n",
       "<table border=\"1\" class=\"dataframe\">\n",
       "  <thead>\n",
       "    <tr style=\"text-align: right;\">\n",
       "      <th></th>\n",
       "      <th>date</th>\n",
       "      <th>date_block_num</th>\n",
       "      <th>shop_id</th>\n",
       "      <th>item_id</th>\n",
       "      <th>item_price</th>\n",
       "      <th>item_cnt_day</th>\n",
       "      <th>Month</th>\n",
       "    </tr>\n",
       "  </thead>\n",
       "  <tbody>\n",
       "    <tr>\n",
       "      <th>0</th>\n",
       "      <td>2013-01-02</td>\n",
       "      <td>0</td>\n",
       "      <td>59</td>\n",
       "      <td>22154</td>\n",
       "      <td>999.00</td>\n",
       "      <td>1.0</td>\n",
       "      <td>2013-01</td>\n",
       "    </tr>\n",
       "    <tr>\n",
       "      <th>1</th>\n",
       "      <td>2013-01-03</td>\n",
       "      <td>0</td>\n",
       "      <td>25</td>\n",
       "      <td>2552</td>\n",
       "      <td>899.00</td>\n",
       "      <td>1.0</td>\n",
       "      <td>2013-01</td>\n",
       "    </tr>\n",
       "    <tr>\n",
       "      <th>2</th>\n",
       "      <td>2013-01-05</td>\n",
       "      <td>0</td>\n",
       "      <td>25</td>\n",
       "      <td>2552</td>\n",
       "      <td>899.00</td>\n",
       "      <td>-1.0</td>\n",
       "      <td>2013-01</td>\n",
       "    </tr>\n",
       "    <tr>\n",
       "      <th>3</th>\n",
       "      <td>2013-01-06</td>\n",
       "      <td>0</td>\n",
       "      <td>25</td>\n",
       "      <td>2554</td>\n",
       "      <td>1709.05</td>\n",
       "      <td>1.0</td>\n",
       "      <td>2013-01</td>\n",
       "    </tr>\n",
       "    <tr>\n",
       "      <th>4</th>\n",
       "      <td>2013-01-15</td>\n",
       "      <td>0</td>\n",
       "      <td>25</td>\n",
       "      <td>2555</td>\n",
       "      <td>1099.00</td>\n",
       "      <td>1.0</td>\n",
       "      <td>2013-01</td>\n",
       "    </tr>\n",
       "    <tr>\n",
       "      <th>...</th>\n",
       "      <td>...</td>\n",
       "      <td>...</td>\n",
       "      <td>...</td>\n",
       "      <td>...</td>\n",
       "      <td>...</td>\n",
       "      <td>...</td>\n",
       "      <td>...</td>\n",
       "    </tr>\n",
       "    <tr>\n",
       "      <th>2935844</th>\n",
       "      <td>2015-10-10</td>\n",
       "      <td>33</td>\n",
       "      <td>25</td>\n",
       "      <td>7409</td>\n",
       "      <td>299.00</td>\n",
       "      <td>1.0</td>\n",
       "      <td>2015-10</td>\n",
       "    </tr>\n",
       "    <tr>\n",
       "      <th>2935845</th>\n",
       "      <td>2015-10-09</td>\n",
       "      <td>33</td>\n",
       "      <td>25</td>\n",
       "      <td>7460</td>\n",
       "      <td>299.00</td>\n",
       "      <td>1.0</td>\n",
       "      <td>2015-10</td>\n",
       "    </tr>\n",
       "    <tr>\n",
       "      <th>2935846</th>\n",
       "      <td>2015-10-14</td>\n",
       "      <td>33</td>\n",
       "      <td>25</td>\n",
       "      <td>7459</td>\n",
       "      <td>349.00</td>\n",
       "      <td>1.0</td>\n",
       "      <td>2015-10</td>\n",
       "    </tr>\n",
       "    <tr>\n",
       "      <th>2935847</th>\n",
       "      <td>2015-10-22</td>\n",
       "      <td>33</td>\n",
       "      <td>25</td>\n",
       "      <td>7440</td>\n",
       "      <td>299.00</td>\n",
       "      <td>1.0</td>\n",
       "      <td>2015-10</td>\n",
       "    </tr>\n",
       "    <tr>\n",
       "      <th>2935848</th>\n",
       "      <td>2015-10-03</td>\n",
       "      <td>33</td>\n",
       "      <td>25</td>\n",
       "      <td>7460</td>\n",
       "      <td>299.00</td>\n",
       "      <td>1.0</td>\n",
       "      <td>2015-10</td>\n",
       "    </tr>\n",
       "  </tbody>\n",
       "</table>\n",
       "<p>2935849 rows × 7 columns</p>\n",
       "</div>"
      ],
      "text/plain": [
       "              date  date_block_num  shop_id  item_id  item_price  \\\n",
       "0       2013-01-02               0       59    22154      999.00   \n",
       "1       2013-01-03               0       25     2552      899.00   \n",
       "2       2013-01-05               0       25     2552      899.00   \n",
       "3       2013-01-06               0       25     2554     1709.05   \n",
       "4       2013-01-15               0       25     2555     1099.00   \n",
       "...            ...             ...      ...      ...         ...   \n",
       "2935844 2015-10-10              33       25     7409      299.00   \n",
       "2935845 2015-10-09              33       25     7460      299.00   \n",
       "2935846 2015-10-14              33       25     7459      349.00   \n",
       "2935847 2015-10-22              33       25     7440      299.00   \n",
       "2935848 2015-10-03              33       25     7460      299.00   \n",
       "\n",
       "         item_cnt_day    Month  \n",
       "0                 1.0  2013-01  \n",
       "1                 1.0  2013-01  \n",
       "2                -1.0  2013-01  \n",
       "3                 1.0  2013-01  \n",
       "4                 1.0  2013-01  \n",
       "...               ...      ...  \n",
       "2935844           1.0  2015-10  \n",
       "2935845           1.0  2015-10  \n",
       "2935846           1.0  2015-10  \n",
       "2935847           1.0  2015-10  \n",
       "2935848           1.0  2015-10  \n",
       "\n",
       "[2935849 rows x 7 columns]"
      ]
     },
     "execution_count": 36,
     "metadata": {},
     "output_type": "execute_result"
    }
   ],
   "source": [
    "sales"
   ]
  },
  {
   "cell_type": "code",
   "execution_count": 50,
   "metadata": {},
   "outputs": [
    {
     "data": {
      "text/html": [
       "<div>\n",
       "<style scoped>\n",
       "    .dataframe tbody tr th:only-of-type {\n",
       "        vertical-align: middle;\n",
       "    }\n",
       "\n",
       "    .dataframe tbody tr th {\n",
       "        vertical-align: top;\n",
       "    }\n",
       "\n",
       "    .dataframe thead th {\n",
       "        text-align: right;\n",
       "    }\n",
       "</style>\n",
       "<table border=\"1\" class=\"dataframe\">\n",
       "  <thead>\n",
       "    <tr style=\"text-align: right;\">\n",
       "      <th></th>\n",
       "      <th>date</th>\n",
       "      <th>date_block_num</th>\n",
       "      <th>shop_id</th>\n",
       "      <th>item_id</th>\n",
       "      <th>item_price</th>\n",
       "      <th>item_cnt_day</th>\n",
       "    </tr>\n",
       "    <tr>\n",
       "      <th>Month</th>\n",
       "      <th></th>\n",
       "      <th></th>\n",
       "      <th></th>\n",
       "      <th></th>\n",
       "      <th></th>\n",
       "      <th></th>\n",
       "    </tr>\n",
       "  </thead>\n",
       "  <tbody>\n",
       "    <tr>\n",
       "      <th>2013-01</th>\n",
       "      <td>115690</td>\n",
       "      <td>115690</td>\n",
       "      <td>115690</td>\n",
       "      <td>115690</td>\n",
       "      <td>115690</td>\n",
       "      <td>115690</td>\n",
       "    </tr>\n",
       "    <tr>\n",
       "      <th>2013-02</th>\n",
       "      <td>108613</td>\n",
       "      <td>108613</td>\n",
       "      <td>108613</td>\n",
       "      <td>108613</td>\n",
       "      <td>108613</td>\n",
       "      <td>108613</td>\n",
       "    </tr>\n",
       "    <tr>\n",
       "      <th>2013-03</th>\n",
       "      <td>121347</td>\n",
       "      <td>121347</td>\n",
       "      <td>121347</td>\n",
       "      <td>121347</td>\n",
       "      <td>121347</td>\n",
       "      <td>121347</td>\n",
       "    </tr>\n",
       "    <tr>\n",
       "      <th>2013-04</th>\n",
       "      <td>94109</td>\n",
       "      <td>94109</td>\n",
       "      <td>94109</td>\n",
       "      <td>94109</td>\n",
       "      <td>94109</td>\n",
       "      <td>94109</td>\n",
       "    </tr>\n",
       "    <tr>\n",
       "      <th>2013-05</th>\n",
       "      <td>91759</td>\n",
       "      <td>91759</td>\n",
       "      <td>91759</td>\n",
       "      <td>91759</td>\n",
       "      <td>91759</td>\n",
       "      <td>91759</td>\n",
       "    </tr>\n",
       "    <tr>\n",
       "      <th>2013-06</th>\n",
       "      <td>100403</td>\n",
       "      <td>100403</td>\n",
       "      <td>100403</td>\n",
       "      <td>100403</td>\n",
       "      <td>100403</td>\n",
       "      <td>100403</td>\n",
       "    </tr>\n",
       "    <tr>\n",
       "      <th>2013-07</th>\n",
       "      <td>100548</td>\n",
       "      <td>100548</td>\n",
       "      <td>100548</td>\n",
       "      <td>100548</td>\n",
       "      <td>100548</td>\n",
       "      <td>100548</td>\n",
       "    </tr>\n",
       "    <tr>\n",
       "      <th>2013-08</th>\n",
       "      <td>104772</td>\n",
       "      <td>104772</td>\n",
       "      <td>104772</td>\n",
       "      <td>104772</td>\n",
       "      <td>104772</td>\n",
       "      <td>104772</td>\n",
       "    </tr>\n",
       "    <tr>\n",
       "      <th>2013-09</th>\n",
       "      <td>96137</td>\n",
       "      <td>96137</td>\n",
       "      <td>96137</td>\n",
       "      <td>96137</td>\n",
       "      <td>96137</td>\n",
       "      <td>96137</td>\n",
       "    </tr>\n",
       "    <tr>\n",
       "      <th>2013-10</th>\n",
       "      <td>94202</td>\n",
       "      <td>94202</td>\n",
       "      <td>94202</td>\n",
       "      <td>94202</td>\n",
       "      <td>94202</td>\n",
       "      <td>94202</td>\n",
       "    </tr>\n",
       "    <tr>\n",
       "      <th>2013-11</th>\n",
       "      <td>96736</td>\n",
       "      <td>96736</td>\n",
       "      <td>96736</td>\n",
       "      <td>96736</td>\n",
       "      <td>96736</td>\n",
       "      <td>96736</td>\n",
       "    </tr>\n",
       "    <tr>\n",
       "      <th>2013-12</th>\n",
       "      <td>143246</td>\n",
       "      <td>143246</td>\n",
       "      <td>143246</td>\n",
       "      <td>143246</td>\n",
       "      <td>143246</td>\n",
       "      <td>143246</td>\n",
       "    </tr>\n",
       "    <tr>\n",
       "      <th>2014-01</th>\n",
       "      <td>99349</td>\n",
       "      <td>99349</td>\n",
       "      <td>99349</td>\n",
       "      <td>99349</td>\n",
       "      <td>99349</td>\n",
       "      <td>99349</td>\n",
       "    </tr>\n",
       "    <tr>\n",
       "      <th>2014-02</th>\n",
       "      <td>89830</td>\n",
       "      <td>89830</td>\n",
       "      <td>89830</td>\n",
       "      <td>89830</td>\n",
       "      <td>89830</td>\n",
       "      <td>89830</td>\n",
       "    </tr>\n",
       "    <tr>\n",
       "      <th>2014-03</th>\n",
       "      <td>92733</td>\n",
       "      <td>92733</td>\n",
       "      <td>92733</td>\n",
       "      <td>92733</td>\n",
       "      <td>92733</td>\n",
       "      <td>92733</td>\n",
       "    </tr>\n",
       "    <tr>\n",
       "      <th>2014-04</th>\n",
       "      <td>77906</td>\n",
       "      <td>77906</td>\n",
       "      <td>77906</td>\n",
       "      <td>77906</td>\n",
       "      <td>77906</td>\n",
       "      <td>77906</td>\n",
       "    </tr>\n",
       "    <tr>\n",
       "      <th>2014-05</th>\n",
       "      <td>78529</td>\n",
       "      <td>78529</td>\n",
       "      <td>78529</td>\n",
       "      <td>78529</td>\n",
       "      <td>78529</td>\n",
       "      <td>78529</td>\n",
       "    </tr>\n",
       "    <tr>\n",
       "      <th>2014-06</th>\n",
       "      <td>82408</td>\n",
       "      <td>82408</td>\n",
       "      <td>82408</td>\n",
       "      <td>82408</td>\n",
       "      <td>82408</td>\n",
       "      <td>82408</td>\n",
       "    </tr>\n",
       "    <tr>\n",
       "      <th>2014-07</th>\n",
       "      <td>78760</td>\n",
       "      <td>78760</td>\n",
       "      <td>78760</td>\n",
       "      <td>78760</td>\n",
       "      <td>78760</td>\n",
       "      <td>78760</td>\n",
       "    </tr>\n",
       "    <tr>\n",
       "      <th>2014-08</th>\n",
       "      <td>86614</td>\n",
       "      <td>86614</td>\n",
       "      <td>86614</td>\n",
       "      <td>86614</td>\n",
       "      <td>86614</td>\n",
       "      <td>86614</td>\n",
       "    </tr>\n",
       "    <tr>\n",
       "      <th>2014-09</th>\n",
       "      <td>73157</td>\n",
       "      <td>73157</td>\n",
       "      <td>73157</td>\n",
       "      <td>73157</td>\n",
       "      <td>73157</td>\n",
       "      <td>73157</td>\n",
       "    </tr>\n",
       "    <tr>\n",
       "      <th>2014-10</th>\n",
       "      <td>79361</td>\n",
       "      <td>79361</td>\n",
       "      <td>79361</td>\n",
       "      <td>79361</td>\n",
       "      <td>79361</td>\n",
       "      <td>79361</td>\n",
       "    </tr>\n",
       "    <tr>\n",
       "      <th>2014-11</th>\n",
       "      <td>86428</td>\n",
       "      <td>86428</td>\n",
       "      <td>86428</td>\n",
       "      <td>86428</td>\n",
       "      <td>86428</td>\n",
       "      <td>86428</td>\n",
       "    </tr>\n",
       "    <tr>\n",
       "      <th>2014-12</th>\n",
       "      <td>130786</td>\n",
       "      <td>130786</td>\n",
       "      <td>130786</td>\n",
       "      <td>130786</td>\n",
       "      <td>130786</td>\n",
       "      <td>130786</td>\n",
       "    </tr>\n",
       "    <tr>\n",
       "      <th>2015-01</th>\n",
       "      <td>88522</td>\n",
       "      <td>88522</td>\n",
       "      <td>88522</td>\n",
       "      <td>88522</td>\n",
       "      <td>88522</td>\n",
       "      <td>88522</td>\n",
       "    </tr>\n",
       "    <tr>\n",
       "      <th>2015-02</th>\n",
       "      <td>71808</td>\n",
       "      <td>71808</td>\n",
       "      <td>71808</td>\n",
       "      <td>71808</td>\n",
       "      <td>71808</td>\n",
       "      <td>71808</td>\n",
       "    </tr>\n",
       "    <tr>\n",
       "      <th>2015-03</th>\n",
       "      <td>69977</td>\n",
       "      <td>69977</td>\n",
       "      <td>69977</td>\n",
       "      <td>69977</td>\n",
       "      <td>69977</td>\n",
       "      <td>69977</td>\n",
       "    </tr>\n",
       "    <tr>\n",
       "      <th>2015-04</th>\n",
       "      <td>56274</td>\n",
       "      <td>56274</td>\n",
       "      <td>56274</td>\n",
       "      <td>56274</td>\n",
       "      <td>56274</td>\n",
       "      <td>56274</td>\n",
       "    </tr>\n",
       "    <tr>\n",
       "      <th>2015-05</th>\n",
       "      <td>54548</td>\n",
       "      <td>54548</td>\n",
       "      <td>54548</td>\n",
       "      <td>54548</td>\n",
       "      <td>54548</td>\n",
       "      <td>54548</td>\n",
       "    </tr>\n",
       "    <tr>\n",
       "      <th>2015-06</th>\n",
       "      <td>54617</td>\n",
       "      <td>54617</td>\n",
       "      <td>54617</td>\n",
       "      <td>54617</td>\n",
       "      <td>54617</td>\n",
       "      <td>54617</td>\n",
       "    </tr>\n",
       "    <tr>\n",
       "      <th>2015-07</th>\n",
       "      <td>55549</td>\n",
       "      <td>55549</td>\n",
       "      <td>55549</td>\n",
       "      <td>55549</td>\n",
       "      <td>55549</td>\n",
       "      <td>55549</td>\n",
       "    </tr>\n",
       "    <tr>\n",
       "      <th>2015-08</th>\n",
       "      <td>57029</td>\n",
       "      <td>57029</td>\n",
       "      <td>57029</td>\n",
       "      <td>57029</td>\n",
       "      <td>57029</td>\n",
       "      <td>57029</td>\n",
       "    </tr>\n",
       "    <tr>\n",
       "      <th>2015-09</th>\n",
       "      <td>50588</td>\n",
       "      <td>50588</td>\n",
       "      <td>50588</td>\n",
       "      <td>50588</td>\n",
       "      <td>50588</td>\n",
       "      <td>50588</td>\n",
       "    </tr>\n",
       "    <tr>\n",
       "      <th>2015-10</th>\n",
       "      <td>53514</td>\n",
       "      <td>53514</td>\n",
       "      <td>53514</td>\n",
       "      <td>53514</td>\n",
       "      <td>53514</td>\n",
       "      <td>53514</td>\n",
       "    </tr>\n",
       "  </tbody>\n",
       "</table>\n",
       "</div>"
      ],
      "text/plain": [
       "           date  date_block_num  shop_id  item_id  item_price  item_cnt_day\n",
       "Month                                                                      \n",
       "2013-01  115690          115690   115690   115690      115690        115690\n",
       "2013-02  108613          108613   108613   108613      108613        108613\n",
       "2013-03  121347          121347   121347   121347      121347        121347\n",
       "2013-04   94109           94109    94109    94109       94109         94109\n",
       "2013-05   91759           91759    91759    91759       91759         91759\n",
       "2013-06  100403          100403   100403   100403      100403        100403\n",
       "2013-07  100548          100548   100548   100548      100548        100548\n",
       "2013-08  104772          104772   104772   104772      104772        104772\n",
       "2013-09   96137           96137    96137    96137       96137         96137\n",
       "2013-10   94202           94202    94202    94202       94202         94202\n",
       "2013-11   96736           96736    96736    96736       96736         96736\n",
       "2013-12  143246          143246   143246   143246      143246        143246\n",
       "2014-01   99349           99349    99349    99349       99349         99349\n",
       "2014-02   89830           89830    89830    89830       89830         89830\n",
       "2014-03   92733           92733    92733    92733       92733         92733\n",
       "2014-04   77906           77906    77906    77906       77906         77906\n",
       "2014-05   78529           78529    78529    78529       78529         78529\n",
       "2014-06   82408           82408    82408    82408       82408         82408\n",
       "2014-07   78760           78760    78760    78760       78760         78760\n",
       "2014-08   86614           86614    86614    86614       86614         86614\n",
       "2014-09   73157           73157    73157    73157       73157         73157\n",
       "2014-10   79361           79361    79361    79361       79361         79361\n",
       "2014-11   86428           86428    86428    86428       86428         86428\n",
       "2014-12  130786          130786   130786   130786      130786        130786\n",
       "2015-01   88522           88522    88522    88522       88522         88522\n",
       "2015-02   71808           71808    71808    71808       71808         71808\n",
       "2015-03   69977           69977    69977    69977       69977         69977\n",
       "2015-04   56274           56274    56274    56274       56274         56274\n",
       "2015-05   54548           54548    54548    54548       54548         54548\n",
       "2015-06   54617           54617    54617    54617       54617         54617\n",
       "2015-07   55549           55549    55549    55549       55549         55549\n",
       "2015-08   57029           57029    57029    57029       57029         57029\n",
       "2015-09   50588           50588    50588    50588       50588         50588\n",
       "2015-10   53514           53514    53514    53514       53514         53514"
      ]
     },
     "execution_count": 50,
     "metadata": {},
     "output_type": "execute_result"
    }
   ],
   "source": [
    "sales.groupby('Month').count()"
   ]
  },
  {
   "cell_type": "code",
   "execution_count": 52,
   "metadata": {},
   "outputs": [
    {
     "data": {
      "text/plain": [
       "Month\n",
       "2013-01    8115\n",
       "2013-02    8168\n",
       "2013-03    8302\n",
       "2013-04    8145\n",
       "2013-05    8339\n",
       "2013-06    8478\n",
       "2013-07    8405\n",
       "2013-08    8031\n",
       "2013-09    7876\n",
       "2013-10    8039\n",
       "2013-11    8089\n",
       "2013-12    8474\n",
       "2014-01    7551\n",
       "2014-02    7134\n",
       "2014-03    7142\n",
       "2014-04    6774\n",
       "2014-05    6685\n",
       "2014-06    6681\n",
       "2014-07    6611\n",
       "2014-08    6363\n",
       "2014-09    6071\n",
       "2014-10    6334\n",
       "2014-11    6322\n",
       "2014-12    6605\n",
       "2015-01    6139\n",
       "2015-02    6053\n",
       "2015-03    6082\n",
       "2015-04    5476\n",
       "2015-05    5283\n",
       "2015-06    5216\n",
       "2015-07    5323\n",
       "2015-08    5108\n",
       "2015-09    5085\n",
       "2015-10    5413\n",
       "Freq: M, Name: item_id, dtype: int64"
      ]
     },
     "execution_count": 52,
     "metadata": {},
     "output_type": "execute_result"
    }
   ],
   "source": [
    "sales.groupby('Month').item_id.nunique()"
   ]
  },
  {
   "cell_type": "code",
   "execution_count": 56,
   "metadata": {},
   "outputs": [
    {
     "data": {
      "text/plain": [
       "shop_id\n",
       "0     2385\n",
       "1     1535\n",
       "2      728\n",
       "3      544\n",
       "4     1062\n",
       "6     1865\n",
       "7     1271\n",
       "8      986\n",
       "10     631\n",
       "12     457\n",
       "13     755\n",
       "14    1047\n",
       "15    1230\n",
       "16    1667\n",
       "18    1430\n",
       "19    1528\n",
       "21     991\n",
       "22     845\n",
       "23    1168\n",
       "24    1036\n",
       "25    3137\n",
       "26    1294\n",
       "27    2138\n",
       "28    2649\n",
       "29    1395\n",
       "30    1675\n",
       "31    3386\n",
       "32     843\n",
       "35    1202\n",
       "37    1436\n",
       "38     915\n",
       "41    1036\n",
       "42    1851\n",
       "43     936\n",
       "44    1111\n",
       "45     955\n",
       "46    1589\n",
       "47    1077\n",
       "50    1577\n",
       "51    1533\n",
       "52    1086\n",
       "53    1113\n",
       "54    3307\n",
       "56    1764\n",
       "59    1058\n",
       "Name: item_id, dtype: int64"
      ]
     },
     "execution_count": 56,
     "metadata": {},
     "output_type": "execute_result"
    }
   ],
   "source": [
    "sales[sales.date_block_num == 0].groupby('shop_id').item_id.nunique()"
   ]
  },
  {
   "cell_type": "code",
   "execution_count": 31,
   "metadata": {},
   "outputs": [],
   "source": [
    "test = pd.read_csv(r'data/test.csv', index_col='ID')"
   ]
  },
  {
   "cell_type": "code",
   "execution_count": 32,
   "metadata": {},
   "outputs": [
    {
     "data": {
      "text/html": [
       "<div>\n",
       "<style scoped>\n",
       "    .dataframe tbody tr th:only-of-type {\n",
       "        vertical-align: middle;\n",
       "    }\n",
       "\n",
       "    .dataframe tbody tr th {\n",
       "        vertical-align: top;\n",
       "    }\n",
       "\n",
       "    .dataframe thead th {\n",
       "        text-align: right;\n",
       "    }\n",
       "</style>\n",
       "<table border=\"1\" class=\"dataframe\">\n",
       "  <thead>\n",
       "    <tr style=\"text-align: right;\">\n",
       "      <th></th>\n",
       "      <th>shop_id</th>\n",
       "      <th>item_id</th>\n",
       "    </tr>\n",
       "    <tr>\n",
       "      <th>ID</th>\n",
       "      <th></th>\n",
       "      <th></th>\n",
       "    </tr>\n",
       "  </thead>\n",
       "  <tbody>\n",
       "    <tr>\n",
       "      <th>0</th>\n",
       "      <td>5</td>\n",
       "      <td>5037</td>\n",
       "    </tr>\n",
       "    <tr>\n",
       "      <th>1</th>\n",
       "      <td>5</td>\n",
       "      <td>5320</td>\n",
       "    </tr>\n",
       "    <tr>\n",
       "      <th>2</th>\n",
       "      <td>5</td>\n",
       "      <td>5233</td>\n",
       "    </tr>\n",
       "    <tr>\n",
       "      <th>3</th>\n",
       "      <td>5</td>\n",
       "      <td>5232</td>\n",
       "    </tr>\n",
       "    <tr>\n",
       "      <th>4</th>\n",
       "      <td>5</td>\n",
       "      <td>5268</td>\n",
       "    </tr>\n",
       "    <tr>\n",
       "      <th>...</th>\n",
       "      <td>...</td>\n",
       "      <td>...</td>\n",
       "    </tr>\n",
       "    <tr>\n",
       "      <th>214195</th>\n",
       "      <td>45</td>\n",
       "      <td>18454</td>\n",
       "    </tr>\n",
       "    <tr>\n",
       "      <th>214196</th>\n",
       "      <td>45</td>\n",
       "      <td>16188</td>\n",
       "    </tr>\n",
       "    <tr>\n",
       "      <th>214197</th>\n",
       "      <td>45</td>\n",
       "      <td>15757</td>\n",
       "    </tr>\n",
       "    <tr>\n",
       "      <th>214198</th>\n",
       "      <td>45</td>\n",
       "      <td>19648</td>\n",
       "    </tr>\n",
       "    <tr>\n",
       "      <th>214199</th>\n",
       "      <td>45</td>\n",
       "      <td>969</td>\n",
       "    </tr>\n",
       "  </tbody>\n",
       "</table>\n",
       "<p>214200 rows × 2 columns</p>\n",
       "</div>"
      ],
      "text/plain": [
       "        shop_id  item_id\n",
       "ID                      \n",
       "0             5     5037\n",
       "1             5     5320\n",
       "2             5     5233\n",
       "3             5     5232\n",
       "4             5     5268\n",
       "...         ...      ...\n",
       "214195       45    18454\n",
       "214196       45    16188\n",
       "214197       45    15757\n",
       "214198       45    19648\n",
       "214199       45      969\n",
       "\n",
       "[214200 rows x 2 columns]"
      ]
     },
     "execution_count": 32,
     "metadata": {},
     "output_type": "execute_result"
    }
   ],
   "source": [
    "test"
   ]
  },
  {
   "cell_type": "code",
   "execution_count": 40,
   "metadata": {},
   "outputs": [
    {
     "data": {
      "text/plain": [
       "shop_id\n",
       "2     5100\n",
       "3     5100\n",
       "4     5100\n",
       "5     5100\n",
       "6     5100\n",
       "7     5100\n",
       "10    5100\n",
       "12    5100\n",
       "14    5100\n",
       "15    5100\n",
       "16    5100\n",
       "18    5100\n",
       "19    5100\n",
       "21    5100\n",
       "22    5100\n",
       "24    5100\n",
       "25    5100\n",
       "26    5100\n",
       "28    5100\n",
       "31    5100\n",
       "34    5100\n",
       "35    5100\n",
       "36    5100\n",
       "37    5100\n",
       "38    5100\n",
       "39    5100\n",
       "41    5100\n",
       "42    5100\n",
       "44    5100\n",
       "45    5100\n",
       "46    5100\n",
       "47    5100\n",
       "48    5100\n",
       "49    5100\n",
       "50    5100\n",
       "52    5100\n",
       "53    5100\n",
       "55    5100\n",
       "56    5100\n",
       "57    5100\n",
       "58    5100\n",
       "59    5100\n",
       "Name: item_id, dtype: int64"
      ]
     },
     "execution_count": 40,
     "metadata": {},
     "output_type": "execute_result"
    }
   ],
   "source": [
    "test.groupby('shop_id').item_id.count()"
   ]
  },
  {
   "cell_type": "code",
   "execution_count": 42,
   "metadata": {},
   "outputs": [
    {
     "data": {
      "text/plain": [
       "(424124,)"
      ]
     },
     "execution_count": 42,
     "metadata": {},
     "output_type": "execute_result"
    }
   ],
   "source": [
    "Y_train.shape"
   ]
  },
  {
   "cell_type": "code",
   "execution_count": 45,
   "metadata": {},
   "outputs": [
    {
     "data": {
      "text/plain": [
       "21807"
      ]
     },
     "execution_count": 45,
     "metadata": {},
     "output_type": "execute_result"
    }
   ],
   "source": [
    "len(sales.item_id.unique())"
   ]
  },
  {
   "cell_type": "code",
   "execution_count": 48,
   "metadata": {},
   "outputs": [],
   "source": [
    "items = pd.read_csv(r'data/items.csv', index_col='item_id')"
   ]
  },
  {
   "cell_type": "code",
   "execution_count": 49,
   "metadata": {},
   "outputs": [
    {
     "data": {
      "text/html": [
       "<div>\n",
       "<style scoped>\n",
       "    .dataframe tbody tr th:only-of-type {\n",
       "        vertical-align: middle;\n",
       "    }\n",
       "\n",
       "    .dataframe tbody tr th {\n",
       "        vertical-align: top;\n",
       "    }\n",
       "\n",
       "    .dataframe thead th {\n",
       "        text-align: right;\n",
       "    }\n",
       "</style>\n",
       "<table border=\"1\" class=\"dataframe\">\n",
       "  <thead>\n",
       "    <tr style=\"text-align: right;\">\n",
       "      <th></th>\n",
       "      <th>item_name</th>\n",
       "      <th>item_category_id</th>\n",
       "    </tr>\n",
       "    <tr>\n",
       "      <th>item_id</th>\n",
       "      <th></th>\n",
       "      <th></th>\n",
       "    </tr>\n",
       "  </thead>\n",
       "  <tbody>\n",
       "    <tr>\n",
       "      <th>0</th>\n",
       "      <td>! ВО ВЛАСТИ НАВАЖДЕНИЯ (ПЛАСТ.)         D</td>\n",
       "      <td>40</td>\n",
       "    </tr>\n",
       "    <tr>\n",
       "      <th>1</th>\n",
       "      <td>!ABBYY FineReader 12 Professional Edition Full...</td>\n",
       "      <td>76</td>\n",
       "    </tr>\n",
       "    <tr>\n",
       "      <th>2</th>\n",
       "      <td>***В ЛУЧАХ СЛАВЫ   (UNV)                    D</td>\n",
       "      <td>40</td>\n",
       "    </tr>\n",
       "    <tr>\n",
       "      <th>3</th>\n",
       "      <td>***ГОЛУБАЯ ВОЛНА  (Univ)                      D</td>\n",
       "      <td>40</td>\n",
       "    </tr>\n",
       "    <tr>\n",
       "      <th>4</th>\n",
       "      <td>***КОРОБКА (СТЕКЛО)                       D</td>\n",
       "      <td>40</td>\n",
       "    </tr>\n",
       "    <tr>\n",
       "      <th>...</th>\n",
       "      <td>...</td>\n",
       "      <td>...</td>\n",
       "    </tr>\n",
       "    <tr>\n",
       "      <th>22165</th>\n",
       "      <td>Ядерный титбит 2 [PC, Цифровая версия]</td>\n",
       "      <td>31</td>\n",
       "    </tr>\n",
       "    <tr>\n",
       "      <th>22166</th>\n",
       "      <td>Язык запросов 1С:Предприятия  [Цифровая версия]</td>\n",
       "      <td>54</td>\n",
       "    </tr>\n",
       "    <tr>\n",
       "      <th>22167</th>\n",
       "      <td>Язык запросов 1С:Предприятия 8 (+CD). Хрустале...</td>\n",
       "      <td>49</td>\n",
       "    </tr>\n",
       "    <tr>\n",
       "      <th>22168</th>\n",
       "      <td>Яйцо для Little Inu</td>\n",
       "      <td>62</td>\n",
       "    </tr>\n",
       "    <tr>\n",
       "      <th>22169</th>\n",
       "      <td>Яйцо дракона (Игра престолов)</td>\n",
       "      <td>69</td>\n",
       "    </tr>\n",
       "  </tbody>\n",
       "</table>\n",
       "<p>22170 rows × 2 columns</p>\n",
       "</div>"
      ],
      "text/plain": [
       "                                                 item_name  item_category_id\n",
       "item_id                                                                     \n",
       "0                ! ВО ВЛАСТИ НАВАЖДЕНИЯ (ПЛАСТ.)         D                40\n",
       "1        !ABBYY FineReader 12 Professional Edition Full...                76\n",
       "2            ***В ЛУЧАХ СЛАВЫ   (UNV)                    D                40\n",
       "3          ***ГОЛУБАЯ ВОЛНА  (Univ)                      D                40\n",
       "4              ***КОРОБКА (СТЕКЛО)                       D                40\n",
       "...                                                    ...               ...\n",
       "22165               Ядерный титбит 2 [PC, Цифровая версия]                31\n",
       "22166      Язык запросов 1С:Предприятия  [Цифровая версия]                54\n",
       "22167    Язык запросов 1С:Предприятия 8 (+CD). Хрустале...                49\n",
       "22168                                  Яйцо для Little Inu                62\n",
       "22169                        Яйцо дракона (Игра престолов)                69\n",
       "\n",
       "[22170 rows x 2 columns]"
      ]
     },
     "execution_count": 49,
     "metadata": {},
     "output_type": "execute_result"
    }
   ],
   "source": [
    "items"
   ]
  },
  {
   "cell_type": "code",
   "execution_count": null,
   "metadata": {},
   "outputs": [],
   "source": []
  }
 ],
 "metadata": {
  "kernelspec": {
   "display_name": "Python 3",
   "language": "python",
   "name": "python3"
  },
  "language_info": {
   "codemirror_mode": {
    "name": "ipython",
    "version": 3
   },
   "file_extension": ".py",
   "mimetype": "text/x-python",
   "name": "python",
   "nbconvert_exporter": "python",
   "pygments_lexer": "ipython3",
   "version": "3.6.10"
  }
 },
 "nbformat": 4,
 "nbformat_minor": 4
}
