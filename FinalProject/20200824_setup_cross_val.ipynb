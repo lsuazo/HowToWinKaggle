{
 "cells": [
  {
   "cell_type": "code",
   "execution_count": 1,
   "metadata": {},
   "outputs": [],
   "source": [
    "import os\n",
    "import time\n",
    "from collections import deque\n",
    "from importlib import reload\n",
    "from itertools import product\n",
    "\n",
    "import matplotlib.pyplot as plt\n",
    "import numpy as np\n",
    "import pandas as pd\n",
    "import seaborn as sns\n",
    "\n",
    "from sklearn.ensemble import RandomForestRegressor\n",
    "from sklearn.metrics import mean_squared_error\n",
    "\n",
    "%matplotlib inline\n",
    "\n",
    "import utilities"
   ]
  },
  {
   "cell_type": "markdown",
   "metadata": {},
   "source": [
    "Features to add:\n",
    "- add item_category, shop_id, and item_id as features\n",
    "- encode these categorical vars: mean encode - HOW?\n",
    "    - most successfull one in the homework was expanding mean scheme. - suggests I need lagged features too\n",
    "\n",
    "- create a feature that bins shops into groups based on net income\n",
    "    - perhaps net income by category of item\n",
    "- create feature that bins shops into groups based on seasonal pattern (spectral biclustering?)\n",
    "- similarly create a feature that groups products based on seasonal pattern\n",
    "- need to add date indicators:\n",
    "    * perhaps group months into high holiday/low holiday count\n",
    "    * perhaps number of days in month\n",
    "    * number of weekend days vs week days\n",
    "- create features based on lagged behavior\n",
    "    * rolling windows sum/variance (last 3 mos, last 6 months, last year)\n",
    "    * can do this for each item, or can use this as an encoding of shop, and category ids\n"
   ]
  },
  {
   "cell_type": "markdown",
   "metadata": {},
   "source": [
    "# TODO:\n",
    "    - add encoding to the pipeline\n",
    "    - item/shop popularity is probably very seasonal - time matters; this needs to be reflected in features\n",
    "    - transform to log(1+sales)??"
   ]
  },
  {
   "cell_type": "code",
   "execution_count": 2,
   "metadata": {},
   "outputs": [],
   "source": [
    "sales = utilities.load_and_preprocess()"
   ]
  },
  {
   "cell_type": "markdown",
   "metadata": {},
   "source": [
    "# Pre processing"
   ]
  },
  {
   "cell_type": "code",
   "execution_count": 3,
   "metadata": {},
   "outputs": [],
   "source": [
    "agg_sales = utilities.aggregate_monthly(sales)"
   ]
  },
  {
   "cell_type": "code",
   "execution_count": 4,
   "metadata": {},
   "outputs": [],
   "source": [
    "months = sorted(agg_sales.index.levels[0])"
   ]
  },
  {
   "cell_type": "code",
   "execution_count": 5,
   "metadata": {},
   "outputs": [
    {
     "name": "stdout",
     "output_type": "stream",
     "text": [
      "Wall time: 18.4 s\n"
     ]
    }
   ],
   "source": [
    "%%time\n",
    "filled_out_data = {}\n",
    "for month in months:    \n",
    "    month_data = agg_sales.loc[month]\n",
    "    shops = set(month_data.index.get_level_values(0))\n",
    "    item_ids = set(month_data.index.get_level_values(1))\n",
    "\n",
    "    new_idx = pd.Index(product(shops, item_ids), name=month_data.index.name)\n",
    "    filled_out_data[month] = month_data.reindex(new_idx).fillna({'item_cnt_month':0, 'item_price':-1})"
   ]
  },
  {
   "cell_type": "code",
   "execution_count": 6,
   "metadata": {},
   "outputs": [],
   "source": [
    "filled_out_df = pd.concat(filled_out_data)"
   ]
  },
  {
   "cell_type": "code",
   "execution_count": 121,
   "metadata": {},
   "outputs": [],
   "source": [
    "filled_out_df.index.names = agg_sales.index.names"
   ]
  },
  {
   "cell_type": "code",
   "execution_count": 7,
   "metadata": {},
   "outputs": [
    {
     "data": {
      "text/html": [
       "<div>\n",
       "<style scoped>\n",
       "    .dataframe tbody tr th:only-of-type {\n",
       "        vertical-align: middle;\n",
       "    }\n",
       "\n",
       "    .dataframe tbody tr th {\n",
       "        vertical-align: top;\n",
       "    }\n",
       "\n",
       "    .dataframe thead th {\n",
       "        text-align: right;\n",
       "    }\n",
       "</style>\n",
       "<table border=\"1\" class=\"dataframe\">\n",
       "  <thead>\n",
       "    <tr style=\"text-align: right;\">\n",
       "      <th></th>\n",
       "      <th></th>\n",
       "      <th></th>\n",
       "      <th>item_cnt_month</th>\n",
       "      <th>item_price</th>\n",
       "    </tr>\n",
       "  </thead>\n",
       "  <tbody>\n",
       "    <tr>\n",
       "      <th rowspan=\"5\" valign=\"top\">2013-01</th>\n",
       "      <th rowspan=\"5\" valign=\"top\">0</th>\n",
       "      <th>19</th>\n",
       "      <td>0.0</td>\n",
       "      <td>-1.0</td>\n",
       "    </tr>\n",
       "    <tr>\n",
       "      <th>27</th>\n",
       "      <td>0.0</td>\n",
       "      <td>-1.0</td>\n",
       "    </tr>\n",
       "    <tr>\n",
       "      <th>28</th>\n",
       "      <td>0.0</td>\n",
       "      <td>-1.0</td>\n",
       "    </tr>\n",
       "    <tr>\n",
       "      <th>29</th>\n",
       "      <td>0.0</td>\n",
       "      <td>-1.0</td>\n",
       "    </tr>\n",
       "    <tr>\n",
       "      <th>32</th>\n",
       "      <td>6.0</td>\n",
       "      <td>221.0</td>\n",
       "    </tr>\n",
       "  </tbody>\n",
       "</table>\n",
       "</div>"
      ],
      "text/plain": [
       "              item_cnt_month  item_price\n",
       "2013-01 0 19             0.0        -1.0\n",
       "          27             0.0        -1.0\n",
       "          28             0.0        -1.0\n",
       "          29             0.0        -1.0\n",
       "          32             6.0       221.0"
      ]
     },
     "execution_count": 7,
     "metadata": {},
     "output_type": "execute_result"
    }
   ],
   "source": [
    "# will use this as the Y, and reindex the X\n",
    "filled_out_df.head()"
   ]
  },
  {
   "cell_type": "code",
   "execution_count": 8,
   "metadata": {},
   "outputs": [],
   "source": [
    "piv_agg_sales = agg_sales.item_cnt_month.unstack(level=0).fillna(0)\n",
    "#filled_out_df.item_cnt_month.unstack(level=0).fillna(0).shape # this one is huge, won't go this route"
   ]
  },
  {
   "cell_type": "code",
   "execution_count": 9,
   "metadata": {},
   "outputs": [],
   "source": [
    "preprocessed_data = piv_agg_sales"
   ]
  },
  {
   "cell_type": "markdown",
   "metadata": {},
   "source": [
    "# Feature generation"
   ]
  },
  {
   "cell_type": "code",
   "execution_count": 10,
   "metadata": {},
   "outputs": [],
   "source": [
    "half_lifes = [1,2,3,6,9,12]"
   ]
  },
  {
   "cell_type": "code",
   "execution_count": 11,
   "metadata": {},
   "outputs": [
    {
     "name": "stdout",
     "output_type": "stream",
     "text": [
      "Wall time: 31.4 s\n"
     ]
    }
   ],
   "source": [
    "%%time\n",
    "sales_ewms_mean = {tau:preprocessed_data.ewm(halflife=tau, axis=1, min_periods=tau).mean() for tau in half_lifes}\n",
    "sales_ewms_std = {tau:preprocessed_data.ewm(halflife=tau, axis=1, min_periods=tau).std() for tau in half_lifes}"
   ]
  },
  {
   "cell_type": "code",
   "execution_count": 12,
   "metadata": {},
   "outputs": [
    {
     "name": "stdout",
     "output_type": "stream",
     "text": [
      "Wall time: 29.2 s\n"
     ]
    }
   ],
   "source": [
    "%%time\n",
    "target_encode_shops = preprocessed_data.groupby(level=0).transform('sum')\n",
    "target_encode_items = preprocessed_data.groupby(level=1).transform('sum')\n",
    "targenc_items_ewms = {tau:target_encode_items.ewm(halflife=tau, axis=1, min_periods=tau).mean() for tau in half_lifes}\n",
    "targenc_shops_ewms = {tau:target_encode_shops.ewm(halflife=tau, axis=1, min_periods=tau).mean() for tau in half_lifes}"
   ]
  },
  {
   "cell_type": "code",
   "execution_count": 13,
   "metadata": {},
   "outputs": [
    {
     "name": "stdout",
     "output_type": "stream",
     "text": [
      "Wall time: 30.6 s\n"
     ]
    }
   ],
   "source": [
    "%%time\n",
    "prices = agg_sales.item_price.unstack(level=0).fillna(0)\n",
    "shop_monthly_income = (prices*preprocessed_data).groupby(level=0).transform('sum')\n",
    "item_monthly_income = (prices*preprocessed_data).groupby(level=1).transform('sum')\n",
    "items_income_ewms = {tau:item_monthly_income.ewm(halflife=tau, axis=1, min_periods=tau).mean() for tau in half_lifes}\n",
    "shops_income_ewms = {tau:shop_monthly_income.ewm(halflife=tau, axis=1, min_periods=tau).mean() for tau in half_lifes}"
   ]
  },
  {
   "cell_type": "code",
   "execution_count": 14,
   "metadata": {},
   "outputs": [],
   "source": [
    "sales_mean_features = {f'sales_ewms_mean_{tau}': sales_ewms_mean[tau] for tau in half_lifes}\n",
    "sales_std_features = {f'sales_ewms_std_{tau}': sales_ewms_std[tau] for tau in half_lifes}\n",
    "items_features = {f'items_ewms_{tau}': targenc_items_ewms[tau] for tau in half_lifes}\n",
    "shops_features = {f'shops_ewms_{tau}': targenc_shops_ewms[tau] for tau in half_lifes}\n",
    "items_incom_features = {f'items_income_ewms_{tau}': items_income_ewms[tau] for tau in half_lifes}\n",
    "shops_incom_features = {f'shops_income_ewms_{tau}': shops_income_ewms[tau] for tau in half_lifes}\n",
    "\n",
    "features_dict = {**sales_mean_features, **sales_std_features, **items_features, **shops_features, **items_incom_features, **shops_incom_features}"
   ]
  },
  {
   "cell_type": "markdown",
   "metadata": {},
   "source": [
    "#### Define objective"
   ]
  },
  {
   "cell_type": "code",
   "execution_count": 15,
   "metadata": {},
   "outputs": [],
   "source": [
    "# Note that I use raw-data for objective \n",
    "objectives = piv_agg_sales.shift(-1, axis=1)"
   ]
  },
  {
   "cell_type": "code",
   "execution_count": 16,
   "metadata": {},
   "outputs": [],
   "source": [
    "all_months = preprocessed_data.columns.tolist()\n",
    "full_data_months = all_months[11:-1]"
   ]
  },
  {
   "cell_type": "code",
   "execution_count": 17,
   "metadata": {},
   "outputs": [],
   "source": [
    "obj_month_map = dict(zip(all_months[:-1], all_months[1:]))"
   ]
  },
  {
   "cell_type": "code",
   "execution_count": 123,
   "metadata": {},
   "outputs": [],
   "source": [
    "def get_single_month_XY(month_, drop_cols = None, num_lagged_values=0):\n",
    "    cols = [df[month_].rename(name) for (name, df) in features_dict.items()]\n",
    "    X = pd.concat(cols, axis=1)\n",
    "    Y = objectives[month_]\n",
    "    submission_Y = filled_out_df.item_cnt_month.loc[obj_month_map[month_]]\n",
    "    \n",
    "    if num_lagged_values > 0:\n",
    "        idx = np.argmax(preprocessed_data.columns == month_)\n",
    "        assert idx >= num_lagged_values, \"do not have enough columns for desired lags\"\n",
    "        lagged_vals = preprocessed_data.iloc[:,idx-num_lagged_values:idx]\n",
    "        lagged_vals.columns = [f'lag{lag}' for lag in list(range(1,num_lagged_values+1))[::-1]]\n",
    "        X = pd.concat([X,lagged_vals], axis=1)\n",
    "    \n",
    "    # might turn this into separate function to pass into here\n",
    "    X['month'] = month_.month\n",
    "    X['season'] = X.month.map({1:0, 2:0, 3:0, 4:1, 5:1, 6:1, 7:1, 8:2, 9:2, 10:2, 11:3, 12:3})\n",
    "    \n",
    "    if drop_cols is not None:\n",
    "        X = X.drop(drop_cols, axis=1)\n",
    "    \n",
    "    X = pd.concat([X], keys=[month_], names=['Period'])\n",
    "    Y = pd.concat([Y], keys=[month_], names=['Period'])\n",
    "    submission_Y = pd.concat([submission_Y], keys=[month_], names=['Period'])\n",
    "    \n",
    "    return X,Y, submission_Y"
   ]
  },
  {
   "cell_type": "code",
   "execution_count": 124,
   "metadata": {},
   "outputs": [],
   "source": [
    "tempx, tempy, tempsuby = get_single_month_XY(all_months[-2], num_lagged_values=12)"
   ]
  },
  {
   "cell_type": "code",
   "execution_count": 125,
   "metadata": {},
   "outputs": [
    {
     "data": {
      "text/html": [
       "<div>\n",
       "<style scoped>\n",
       "    .dataframe tbody tr th:only-of-type {\n",
       "        vertical-align: middle;\n",
       "    }\n",
       "\n",
       "    .dataframe tbody tr th {\n",
       "        vertical-align: top;\n",
       "    }\n",
       "\n",
       "    .dataframe thead th {\n",
       "        text-align: right;\n",
       "    }\n",
       "</style>\n",
       "<table border=\"1\" class=\"dataframe\">\n",
       "  <thead>\n",
       "    <tr style=\"text-align: right;\">\n",
       "      <th></th>\n",
       "      <th></th>\n",
       "      <th></th>\n",
       "      <th>sales_ewms_mean_1</th>\n",
       "      <th>sales_ewms_mean_2</th>\n",
       "      <th>sales_ewms_mean_3</th>\n",
       "      <th>sales_ewms_mean_6</th>\n",
       "      <th>sales_ewms_mean_9</th>\n",
       "      <th>sales_ewms_mean_12</th>\n",
       "      <th>sales_ewms_std_1</th>\n",
       "      <th>sales_ewms_std_2</th>\n",
       "      <th>sales_ewms_std_3</th>\n",
       "      <th>sales_ewms_std_6</th>\n",
       "      <th>...</th>\n",
       "      <th>lag8</th>\n",
       "      <th>lag7</th>\n",
       "      <th>lag6</th>\n",
       "      <th>lag5</th>\n",
       "      <th>lag4</th>\n",
       "      <th>lag3</th>\n",
       "      <th>lag2</th>\n",
       "      <th>lag1</th>\n",
       "      <th>month</th>\n",
       "      <th>season</th>\n",
       "    </tr>\n",
       "    <tr>\n",
       "      <th>Period</th>\n",
       "      <th>shop_id</th>\n",
       "      <th>item_id</th>\n",
       "      <th></th>\n",
       "      <th></th>\n",
       "      <th></th>\n",
       "      <th></th>\n",
       "      <th></th>\n",
       "      <th></th>\n",
       "      <th></th>\n",
       "      <th></th>\n",
       "      <th></th>\n",
       "      <th></th>\n",
       "      <th></th>\n",
       "      <th></th>\n",
       "      <th></th>\n",
       "      <th></th>\n",
       "      <th></th>\n",
       "      <th></th>\n",
       "      <th></th>\n",
       "      <th></th>\n",
       "      <th></th>\n",
       "      <th></th>\n",
       "      <th></th>\n",
       "    </tr>\n",
       "  </thead>\n",
       "  <tbody>\n",
       "    <tr>\n",
       "      <th rowspan=\"5\" valign=\"top\">2015-09</th>\n",
       "      <th rowspan=\"5\" valign=\"top\">0</th>\n",
       "      <th>30</th>\n",
       "      <td>7.217750e-09</td>\n",
       "      <td>0.000196</td>\n",
       "      <td>0.004959</td>\n",
       "      <td>0.096288</td>\n",
       "      <td>0.229122</td>\n",
       "      <td>0.341000</td>\n",
       "      <td>0.000579</td>\n",
       "      <td>0.085627</td>\n",
       "      <td>0.416792</td>\n",
       "      <td>1.779505</td>\n",
       "      <td>...</td>\n",
       "      <td>0.0</td>\n",
       "      <td>0.0</td>\n",
       "      <td>0.0</td>\n",
       "      <td>0.0</td>\n",
       "      <td>0.0</td>\n",
       "      <td>0.0</td>\n",
       "      <td>0.0</td>\n",
       "      <td>0.0</td>\n",
       "      <td>9</td>\n",
       "      <td>2</td>\n",
       "    </tr>\n",
       "    <tr>\n",
       "      <th>31</th>\n",
       "      <td>2.561137e-09</td>\n",
       "      <td>0.000070</td>\n",
       "      <td>0.001760</td>\n",
       "      <td>0.034167</td>\n",
       "      <td>0.081301</td>\n",
       "      <td>0.121000</td>\n",
       "      <td>0.000206</td>\n",
       "      <td>0.030384</td>\n",
       "      <td>0.147894</td>\n",
       "      <td>0.631437</td>\n",
       "      <td>...</td>\n",
       "      <td>0.0</td>\n",
       "      <td>0.0</td>\n",
       "      <td>0.0</td>\n",
       "      <td>0.0</td>\n",
       "      <td>0.0</td>\n",
       "      <td>0.0</td>\n",
       "      <td>0.0</td>\n",
       "      <td>0.0</td>\n",
       "      <td>9</td>\n",
       "      <td>2</td>\n",
       "    </tr>\n",
       "    <tr>\n",
       "      <th>32</th>\n",
       "      <td>3.026798e-09</td>\n",
       "      <td>0.000090</td>\n",
       "      <td>0.002362</td>\n",
       "      <td>0.047664</td>\n",
       "      <td>0.114969</td>\n",
       "      <td>0.172296</td>\n",
       "      <td>0.000203</td>\n",
       "      <td>0.030938</td>\n",
       "      <td>0.152444</td>\n",
       "      <td>0.658890</td>\n",
       "      <td>...</td>\n",
       "      <td>0.0</td>\n",
       "      <td>0.0</td>\n",
       "      <td>0.0</td>\n",
       "      <td>0.0</td>\n",
       "      <td>0.0</td>\n",
       "      <td>0.0</td>\n",
       "      <td>0.0</td>\n",
       "      <td>0.0</td>\n",
       "      <td>9</td>\n",
       "      <td>2</td>\n",
       "    </tr>\n",
       "    <tr>\n",
       "      <th>33</th>\n",
       "      <td>1.047738e-09</td>\n",
       "      <td>0.000032</td>\n",
       "      <td>0.000861</td>\n",
       "      <td>0.017620</td>\n",
       "      <td>0.042703</td>\n",
       "      <td>0.064148</td>\n",
       "      <td>0.000069</td>\n",
       "      <td>0.010827</td>\n",
       "      <td>0.054017</td>\n",
       "      <td>0.236477</td>\n",
       "      <td>...</td>\n",
       "      <td>0.0</td>\n",
       "      <td>0.0</td>\n",
       "      <td>0.0</td>\n",
       "      <td>0.0</td>\n",
       "      <td>0.0</td>\n",
       "      <td>0.0</td>\n",
       "      <td>0.0</td>\n",
       "      <td>0.0</td>\n",
       "      <td>9</td>\n",
       "      <td>2</td>\n",
       "    </tr>\n",
       "    <tr>\n",
       "      <th>35</th>\n",
       "      <td>3.376044e-09</td>\n",
       "      <td>0.000093</td>\n",
       "      <td>0.002367</td>\n",
       "      <td>0.046252</td>\n",
       "      <td>0.110318</td>\n",
       "      <td>0.164383</td>\n",
       "      <td>0.000262</td>\n",
       "      <td>0.038740</td>\n",
       "      <td>0.188608</td>\n",
       "      <td>0.805313</td>\n",
       "      <td>...</td>\n",
       "      <td>0.0</td>\n",
       "      <td>0.0</td>\n",
       "      <td>0.0</td>\n",
       "      <td>0.0</td>\n",
       "      <td>0.0</td>\n",
       "      <td>0.0</td>\n",
       "      <td>0.0</td>\n",
       "      <td>0.0</td>\n",
       "      <td>9</td>\n",
       "      <td>2</td>\n",
       "    </tr>\n",
       "  </tbody>\n",
       "</table>\n",
       "<p>5 rows × 50 columns</p>\n",
       "</div>"
      ],
      "text/plain": [
       "                         sales_ewms_mean_1  sales_ewms_mean_2  \\\n",
       "Period  shop_id item_id                                         \n",
       "2015-09 0       30            7.217750e-09           0.000196   \n",
       "                31            2.561137e-09           0.000070   \n",
       "                32            3.026798e-09           0.000090   \n",
       "                33            1.047738e-09           0.000032   \n",
       "                35            3.376044e-09           0.000093   \n",
       "\n",
       "                         sales_ewms_mean_3  sales_ewms_mean_6  \\\n",
       "Period  shop_id item_id                                         \n",
       "2015-09 0       30                0.004959           0.096288   \n",
       "                31                0.001760           0.034167   \n",
       "                32                0.002362           0.047664   \n",
       "                33                0.000861           0.017620   \n",
       "                35                0.002367           0.046252   \n",
       "\n",
       "                         sales_ewms_mean_9  sales_ewms_mean_12  \\\n",
       "Period  shop_id item_id                                          \n",
       "2015-09 0       30                0.229122            0.341000   \n",
       "                31                0.081301            0.121000   \n",
       "                32                0.114969            0.172296   \n",
       "                33                0.042703            0.064148   \n",
       "                35                0.110318            0.164383   \n",
       "\n",
       "                         sales_ewms_std_1  sales_ewms_std_2  sales_ewms_std_3  \\\n",
       "Period  shop_id item_id                                                         \n",
       "2015-09 0       30               0.000579          0.085627          0.416792   \n",
       "                31               0.000206          0.030384          0.147894   \n",
       "                32               0.000203          0.030938          0.152444   \n",
       "                33               0.000069          0.010827          0.054017   \n",
       "                35               0.000262          0.038740          0.188608   \n",
       "\n",
       "                         sales_ewms_std_6  ...  lag8  lag7  lag6  lag5  lag4  \\\n",
       "Period  shop_id item_id                    ...                                 \n",
       "2015-09 0       30               1.779505  ...   0.0   0.0   0.0   0.0   0.0   \n",
       "                31               0.631437  ...   0.0   0.0   0.0   0.0   0.0   \n",
       "                32               0.658890  ...   0.0   0.0   0.0   0.0   0.0   \n",
       "                33               0.236477  ...   0.0   0.0   0.0   0.0   0.0   \n",
       "                35               0.805313  ...   0.0   0.0   0.0   0.0   0.0   \n",
       "\n",
       "                         lag3  lag2  lag1  month  season  \n",
       "Period  shop_id item_id                                   \n",
       "2015-09 0       30        0.0   0.0   0.0      9       2  \n",
       "                31        0.0   0.0   0.0      9       2  \n",
       "                32        0.0   0.0   0.0      9       2  \n",
       "                33        0.0   0.0   0.0      9       2  \n",
       "                35        0.0   0.0   0.0      9       2  \n",
       "\n",
       "[5 rows x 50 columns]"
      ]
     },
     "execution_count": 125,
     "metadata": {},
     "output_type": "execute_result"
    }
   ],
   "source": [
    "tempx.head()"
   ]
  },
  {
   "cell_type": "code",
   "execution_count": 126,
   "metadata": {},
   "outputs": [
    {
     "data": {
      "text/plain": [
       "Period   shop_id  item_id\n",
       "2015-09  0        30         0.0\n",
       "                  31         0.0\n",
       "                  32         0.0\n",
       "                  33         0.0\n",
       "                  35         0.0\n",
       "                            ... \n",
       "         59       22154      0.0\n",
       "                  22155      0.0\n",
       "                  22162      0.0\n",
       "                  22164      0.0\n",
       "                  22167      0.0\n",
       "Name: 2015-09, Length: 424124, dtype: float64"
      ]
     },
     "execution_count": 126,
     "metadata": {},
     "output_type": "execute_result"
    }
   ],
   "source": [
    "tempy"
   ]
  },
  {
   "cell_type": "code",
   "execution_count": 127,
   "metadata": {},
   "outputs": [
    {
     "data": {
      "text/plain": [
       "Period   shop_id  item_id\n",
       "2015-09  2        8192       0.0\n",
       "                  8193       0.0\n",
       "                  16388      0.0\n",
       "                  8204       0.0\n",
       "                  16396      0.0\n",
       "                            ... \n",
       "         59       8180       0.0\n",
       "                  4884       0.0\n",
       "                  8184       0.0\n",
       "                  8187       0.0\n",
       "                  8189       0.0\n",
       "Name: item_cnt_month, Length: 238172, dtype: float64"
      ]
     },
     "execution_count": 127,
     "metadata": {},
     "output_type": "execute_result"
    }
   ],
   "source": [
    "tempsuby"
   ]
  },
  {
   "cell_type": "markdown",
   "metadata": {},
   "source": [
    "## Model Building"
   ]
  },
  {
   "cell_type": "code",
   "execution_count": 29,
   "metadata": {},
   "outputs": [],
   "source": [
    "def fit_and_predict(model, x_train, y_train, x_val = None):\n",
    "    \n",
    "    start_time = time.time()\n",
    "    fitted_model = model.fit(x_train, y_train)\n",
    "    fit_time = time.time() - start_time\n",
    "    fitted_model.col_names = x_train.columns\n",
    "    \n",
    "    y_train_pred = fitted_model.predict(x_train)\n",
    "    \n",
    "    if x_val is not None:\n",
    "        y_val_pred = fitted_model.predict(x_val)\n",
    "    else:\n",
    "        y_val_pred = None\n",
    "        \n",
    "    return fitted_model, y_train_pred, y_val_pred, fit_time"
   ]
  },
  {
   "cell_type": "code",
   "execution_count": 30,
   "metadata": {},
   "outputs": [],
   "source": [
    "def plot_feature_importances(mod, figsize=(6,10)):\n",
    "    plt.figure(figsize=figsize)\n",
    "    importances = mod.feature_importances_\n",
    "    if type(importances) == pd.Series:\n",
    "        importances.sort_values().plot(kind='barh')\n",
    "    else:\n",
    "        pd.Series(importances, index=mod.col_names).sort_values().plot(kind='barh')\n"
   ]
  },
  {
   "cell_type": "code",
   "execution_count": 39,
   "metadata": {},
   "outputs": [],
   "source": [
    "def conform_to_sub(x, y_pred, y_sub_ser, fill_value=0):\n",
    "    y_pred_ser = pd.Series(y_pred, index=x.index)\n",
    "    y_pred_ser = y_pred_ser.reindex(y_sub_ser.index).fillna(0)\n",
    "    return y_pred_ser\n",
    "    "
   ]
  },
  {
   "cell_type": "code",
   "execution_count": 37,
   "metadata": {},
   "outputs": [],
   "source": [
    "# using the 0th month is not good, because december behavior is very non-predicitve of jan behavior\n",
    "DROP_COLS = []\n",
    "X_train,Y_train, Y_train_sub = get_single_month_XY(full_data_months[4], drop_cols=DROP_COLS, num_lagged_values=12)\n",
    "X_val,Y_val, Y_val_sub = get_single_month_XY(full_data_months[5], drop_cols=DROP_COLS, num_lagged_values=12)"
   ]
  },
  {
   "cell_type": "code",
   "execution_count": 33,
   "metadata": {},
   "outputs": [
    {
     "data": {
      "text/plain": [
       "(46.81575298309326, 1.605017532086918, 1.7855690960968496)"
      ]
     },
     "execution_count": 33,
     "metadata": {},
     "output_type": "execute_result"
    }
   ],
   "source": [
    "mod = RandomForestRegressor(n_estimators=50, max_depth=5, n_jobs=-1)\n",
    "fitted, ytpred, yvpred, elapsed = fit_and_predict(mod, X_train,Y_train, X_val)\n",
    "elapsed, mean_squared_error(Y_train, ytpred), mean_squared_error(Y_val, yvpred)"
   ]
  },
  {
   "cell_type": "code",
   "execution_count": 41,
   "metadata": {},
   "outputs": [],
   "source": [
    "ytsub = conform_to_sub(X_train, ytpred, Y_train_sub)"
   ]
  },
  {
   "cell_type": "code",
   "execution_count": 44,
   "metadata": {},
   "outputs": [
    {
     "data": {
      "text/plain": [
       "2.067732445799787"
      ]
     },
     "execution_count": 44,
     "metadata": {},
     "output_type": "execute_result"
    }
   ],
   "source": [
    "mean_squared_error(Y_train_sub, ytsub)"
   ]
  },
  {
   "cell_type": "code",
   "execution_count": 45,
   "metadata": {},
   "outputs": [
    {
     "data": {
      "image/png": "[encoded data removed]",
      "text/plain": [
       "<Figure size 432x720 with 1 Axes>"
      ]
     },
     "metadata": {
      "needs_background": "light"
     },
     "output_type": "display_data"
    }
   ],
   "source": [
    "plot_feature_importances(fitted)"
   ]
  },
  {
   "cell_type": "code",
   "execution_count": 46,
   "metadata": {},
   "outputs": [],
   "source": [
    "import xgboost as xgb\n",
    "\n",
    "class xgb_model:\n",
    "    def __init__(self, num_boost_round, **params):\n",
    "        self.params = {\n",
    "            'max_depth':6,\n",
    "            'min_child_weight': 1,\n",
    "            'eta':.3,\n",
    "            'subsample': 0.8,\n",
    "            'colsample_bytree': 0.8,\n",
    "            'lambda':1,\n",
    "            'gamma':0.1,\n",
    "            'objective':'reg:squarederror',\n",
    "            # leave nthread default - detects all cores automatically\n",
    "        }\n",
    "        self.params.update(params)\n",
    "        self.fitted_model = None\n",
    "        self.num_boost_round = num_boost_round\n",
    "       \n",
    "    def fit(self, X, Y):\n",
    "        dm_train = xgb.DMatrix(X,Y)\n",
    "        self.fitted_model = xgb.train(self.params, dtrain=dm_train, num_boost_round=self.num_boost_round)\n",
    "        return self\n",
    "    \n",
    "    def predict(self, X):\n",
    "        assert self.fitted_model is not None, 'Must fit first'\n",
    "        dm = xgb.DMatrix(X)\n",
    "        return self.fitted_model.predict(dm)\n",
    "    \n",
    "    @property\n",
    "    def feature_importances_(self):\n",
    "        return pd.Series(self.fitted_model.get_score(importance_type='weight'))"
   ]
  },
  {
   "cell_type": "code",
   "execution_count": 36,
   "metadata": {},
   "outputs": [
    {
     "data": {
      "text/plain": [
       "(11.595996141433716, 1.2769410530095493, 1.6838278200251264)"
      ]
     },
     "execution_count": 36,
     "metadata": {},
     "output_type": "execute_result"
    }
   ],
   "source": [
    "mod = xgb_model(num_boost_round=50, max_depth=10, eta=0.2)\n",
    "fitted, ytpred, yvpred, elapsed = fit_and_predict(mod, X_train,Y_train, X_val)\n",
    "elapsed, mean_squared_error(Y_train, ytpred), mean_squared_error(Y_val, yvpred)"
   ]
  },
  {
   "cell_type": "markdown",
   "metadata": {},
   "source": [
    "## Rolling Cross validation"
   ]
  },
  {
   "cell_type": "code",
   "execution_count": 137,
   "metadata": {},
   "outputs": [],
   "source": [
    "def rolling_cross_validation(model, data_months_list, post_process_preds = None, num_lagged_values=12, validate_months_num=None, num_stack_months=1, pred_fill_value=0, fit_final=False, drop_cols=None):\n",
    "    if post_process_preds is None:\n",
    "        post_process_preds = lambda x: x\n",
    "        \n",
    "    Xs_deque = deque()\n",
    "    Ys_deque = deque()\n",
    "    Ysubs_deque = deque()\n",
    "    \n",
    "    for month in data_months_list[:num_stack_months]:\n",
    "        X_, Y_, Ysub_= get_single_month_XY(month, drop_cols=drop_cols, num_lagged_values=num_lagged_values)\n",
    "        Xs_deque.append(X_)\n",
    "        Ys_deque.append(Y_)\n",
    "        Ysubs_deque.append(Ysub_)\n",
    "        \n",
    "           \n",
    "    if validate_months_num is None:\n",
    "        validate_months_num = len(data_months_list) - num_stack_months\n",
    "    else:\n",
    "        validate_months_num = min(validate_months_num, len(data_months_list) - num_stack_months)\n",
    "        \n",
    "    \n",
    "    fitted_models = {}\n",
    "    in_sample_scores = {}\n",
    "    oos_scores = {}\n",
    "    loop_times = []\n",
    "    \n",
    "    for month in data_months_list[num_stack_months: num_stack_months + validate_months_num]:\n",
    "        print(f'Working on: {month}')\n",
    "        loop_start = time.time()\n",
    "        \n",
    "        X_train = pd.concat(Xs_deque)\n",
    "        Y_train = pd.concat(Ys_deque)\n",
    "        Y_sub_train = pd.concat(Ysubs_deque)\n",
    "        \n",
    "        X_val, Y_val, Y_sub_val = get_single_month_XY(month, drop_cols=drop_cols, num_lagged_values=num_lagged_values)\n",
    "        fitted, ytrain_pred, yval_pred, elapsed_time = fit_and_predict(model, X_train, Y_train, X_val)\n",
    "        fitted_models[month] = fitted\n",
    "        print(f'fit time: {elapsed_time}')\n",
    "        \n",
    "        ytrain_pred = conform_to_sub(X_train, ytrain_pred, Y_sub_train, fill_value=pred_fill_value)\n",
    "        yval_pred = conform_to_sub(X_val, yval_pred, Y_sub_val, fill_value=pred_fill_value)\n",
    "        \n",
    "        ytrain_pred = post_process_preds(ytrain_pred)\n",
    "        yval_pred = post_process_preds(yval_pred)\n",
    "        \n",
    "        in_sample_scores[month] = np.sqrt(mean_squared_error(Y_sub_train, ytrain_pred))\n",
    "        oos_scores[month] = np.sqrt(mean_squared_error(Y_sub_val, yval_pred))\n",
    "        \n",
    "        Xs_deque.popleft()\n",
    "        Ys_deque.popleft()\n",
    "        Ysubs_deque.popleft()\n",
    "        \n",
    "        Xs_deque.append(X_val)\n",
    "        Ys_deque.append(Y_val)\n",
    "        Ysubs_deque.append(Y_sub_val)\n",
    "\n",
    "        \n",
    "        loop_end = time.time()\n",
    "        loop_times.append(loop_end - loop_start)\n",
    "    \n",
    "    if fit_final:\n",
    "        X_train = pd.concat(Xs_deque)\n",
    "        Y_train = pd.concat(Ys_deque)\n",
    "        Y_sub = pd.concat(Ysubs_deque)\n",
    "        \n",
    "        fitted, ytrain_pred, yval_pred, elapsed_time = fit_and_predict(model, X_train, Y_train, X_val)\n",
    "        fitted_models['FINAL'] = fitted\n",
    "        in_sample_scores['FINAL'] = np.sqrt(mean_squared_error(Y_train, post_process_preds(ytrain_pred)))\n",
    "    \n",
    "    \n",
    "    return fitted_models, in_sample_scores, oos_scores, loop_times"
   ]
  },
  {
   "cell_type": "code",
   "execution_count": null,
   "metadata": {},
   "outputs": [],
   "source": [
    "mod = RandomForestRegressor(n_estimators=100, max_depth=10, n_jobs=5)\n",
    "fitted_models, isscores, osscores, times = rolling_cross_validation(mod, full_data_months[20:], num_stack_months=1, fit_final=True)"
   ]
  },
  {
   "cell_type": "code",
   "execution_count": 70,
   "metadata": {},
   "outputs": [
    {
     "data": {
      "text/plain": [
       "{Period('2015-09', 'M'): RandomForestRegressor(max_depth=10, n_jobs=5),\n",
       " 'FINAL': RandomForestRegressor(max_depth=10, n_jobs=5)}"
      ]
     },
     "execution_count": 70,
     "metadata": {},
     "output_type": "execute_result"
    }
   ],
   "source": [
    "fitted_models"
   ]
  },
  {
   "cell_type": "code",
   "execution_count": 71,
   "metadata": {},
   "outputs": [
    {
     "data": {
      "text/plain": [
       "2015-09    4.340549\n",
       "FINAL      2.702157\n",
       "dtype: float64"
      ]
     },
     "execution_count": 71,
     "metadata": {},
     "output_type": "execute_result"
    }
   ],
   "source": [
    "pd.Series(isscores)"
   ]
  },
  {
   "cell_type": "code",
   "execution_count": 72,
   "metadata": {},
   "outputs": [
    {
     "data": {
      "text/plain": [
       "2015-09    39.319989\n",
       "Freq: M, dtype: float64"
      ]
     },
     "execution_count": 72,
     "metadata": {},
     "output_type": "execute_result"
    }
   ],
   "source": [
    "pd.Series(osscores)"
   ]
  },
  {
   "cell_type": "code",
   "execution_count": null,
   "metadata": {},
   "outputs": [],
   "source": []
  },
  {
   "cell_type": "code",
   "execution_count": 73,
   "metadata": {},
   "outputs": [
    {
     "name": "stdout",
     "output_type": "stream",
     "text": [
      "Working on: 2015-09\n",
      "fit time: 157.04307341575623\n"
     ]
    }
   ],
   "source": [
    "mod = RandomForestRegressor(n_estimators=100, max_depth=10, n_jobs=5)\n",
    "fitted_models, isscores, osscores, times = rolling_cross_validation(mod, full_data_months[20:], post_process_preds=lambda x: np.clip(x, 0,20), num_stack_months=1, fit_final=True)"
   ]
  },
  {
   "cell_type": "code",
   "execution_count": 74,
   "metadata": {},
   "outputs": [
    {
     "data": {
      "text/plain": [
       "{Period('2015-09', 'M'): RandomForestRegressor(max_depth=10, n_jobs=5),\n",
       " 'FINAL': RandomForestRegressor(max_depth=10, n_jobs=5)}"
      ]
     },
     "execution_count": 74,
     "metadata": {},
     "output_type": "execute_result"
    }
   ],
   "source": [
    "fitted_models"
   ]
  },
  {
   "cell_type": "code",
   "execution_count": 75,
   "metadata": {},
   "outputs": [
    {
     "data": {
      "text/plain": [
       "2015-09    43.859999\n",
       "FINAL      14.911362\n",
       "dtype: float64"
      ]
     },
     "execution_count": 75,
     "metadata": {},
     "output_type": "execute_result"
    }
   ],
   "source": [
    "pd.Series(isscores)"
   ]
  },
  {
   "cell_type": "code",
   "execution_count": 76,
   "metadata": {},
   "outputs": [
    {
     "data": {
      "text/plain": [
       "2015-09    27.20253\n",
       "Freq: M, dtype: float64"
      ]
     },
     "execution_count": 76,
     "metadata": {},
     "output_type": "execute_result"
    }
   ],
   "source": [
    "pd.Series(osscores)"
   ]
  },
  {
   "cell_type": "code",
   "execution_count": 82,
   "metadata": {},
   "outputs": [
    {
     "data": {
      "image/png": "[encoded data removed]",
      "text/plain": [
       "<Figure size 432x720 with 1 Axes>"
      ]
     },
     "metadata": {
      "needs_background": "light"
     },
     "output_type": "display_data"
    }
   ],
   "source": [
    "plot_feature_importances(fitted_models['FINAL'])"
   ]
  },
  {
   "cell_type": "markdown",
   "metadata": {},
   "source": [
    "#### THIS CLIPPING MEANS THE DIFFERENCE BETWEEN A 6 and 1 score solution."
   ]
  },
  {
   "cell_type": "code",
   "execution_count": 78,
   "metadata": {},
   "outputs": [
    {
     "data": {
      "text/plain": [
       "34"
      ]
     },
     "execution_count": 78,
     "metadata": {},
     "output_type": "execute_result"
    }
   ],
   "source": [
    "len(months)"
   ]
  },
  {
   "cell_type": "code",
   "execution_count": 79,
   "metadata": {},
   "outputs": [
    {
     "data": {
      "text/plain": [
       "22"
      ]
     },
     "execution_count": 79,
     "metadata": {},
     "output_type": "execute_result"
    }
   ],
   "source": [
    "len(full_data_months)"
   ]
  },
  {
   "cell_type": "code",
   "execution_count": 139,
   "metadata": {},
   "outputs": [
    {
     "name": "stdout",
     "output_type": "stream",
     "text": [
      "Working on: 2015-07\n",
      "fit time: 578.028589963913\n",
      "Working on: 2015-08\n",
      "fit time: 541.3935148715973\n",
      "Working on: 2015-09\n",
      "fit time: 537.6129987239838\n"
     ]
    }
   ],
   "source": [
    "#mod = RandomForestRegressor(n_estimators=100, max_depth=10, n_jobs=5)\n",
    "mod = xgb_model(num_boost_round=500, max_depth=20, eta=0.3, gpu_id=0, tree_method='gpu_hist')\n",
    "fitted_models, isscores, osscores, times = rolling_cross_validation(mod, full_data_months[1:], num_lagged_values=12,  post_process_preds=lambda x: np.clip(x, 0,20), num_stack_months=18, fit_final=True)"
   ]
  },
  {
   "cell_type": "code",
   "execution_count": 140,
   "metadata": {},
   "outputs": [
    {
     "data": {
      "text/plain": [
       "{Period('2015-07', 'M'): <__main__.xgb_model at 0x24442a9e550>,\n",
       " Period('2015-08', 'M'): <__main__.xgb_model at 0x24442a9e550>,\n",
       " Period('2015-09', 'M'): <__main__.xgb_model at 0x24442a9e550>,\n",
       " 'FINAL': <__main__.xgb_model at 0x24442a9e550>}"
      ]
     },
     "execution_count": 140,
     "metadata": {},
     "output_type": "execute_result"
    }
   ],
   "source": [
    "fitted_models"
   ]
  },
  {
   "cell_type": "code",
   "execution_count": 141,
   "metadata": {},
   "outputs": [
    {
     "data": {
      "text/plain": [
       "2015-07    3.060306\n",
       "2015-08    3.044647\n",
       "2015-09    3.282841\n",
       "FINAL      2.781692\n",
       "dtype: float64"
      ]
     },
     "execution_count": 141,
     "metadata": {},
     "output_type": "execute_result"
    }
   ],
   "source": [
    "pd.Series(isscores)"
   ]
  },
  {
   "cell_type": "code",
   "execution_count": 142,
   "metadata": {},
   "outputs": [
    {
     "data": {
      "text/plain": [
       "2015-07    1.985833\n",
       "2015-08    6.673346\n",
       "2015-09    5.207086\n",
       "Freq: M, dtype: float64"
      ]
     },
     "execution_count": 142,
     "metadata": {},
     "output_type": "execute_result"
    }
   ],
   "source": [
    "pd.Series(osscores)"
   ]
  },
  {
   "cell_type": "code",
   "execution_count": null,
   "metadata": {},
   "outputs": [],
   "source": []
  },
  {
   "cell_type": "code",
   "execution_count": null,
   "metadata": {},
   "outputs": [],
   "source": []
  },
  {
   "cell_type": "code",
   "execution_count": 105,
   "metadata": {},
   "outputs": [
    {
     "data": {
      "text/plain": [
       "{Period('2015-08', 'M'): <__main__.xgb_model at 0x13fb98d7438>,\n",
       " Period('2015-09', 'M'): <__main__.xgb_model at 0x13fb98d7438>,\n",
       " 'FINAL': <__main__.xgb_model at 0x13fb98d7438>}"
      ]
     },
     "execution_count": 105,
     "metadata": {},
     "output_type": "execute_result"
    }
   ],
   "source": [
    "fitted_models"
   ]
  },
  {
   "cell_type": "code",
   "execution_count": 106,
   "metadata": {},
   "outputs": [
    {
     "data": {
      "text/plain": [
       "2015-08    1.520218\n",
       "2015-09    1.493343\n",
       "FINAL      1.424009\n",
       "dtype: float64"
      ]
     },
     "execution_count": 106,
     "metadata": {},
     "output_type": "execute_result"
    }
   ],
   "source": [
    "pd.Series(isscores)"
   ]
  },
  {
   "cell_type": "code",
   "execution_count": 107,
   "metadata": {},
   "outputs": [
    {
     "data": {
      "text/plain": [
       "2015-08    19.841497\n",
       "2015-09    14.006442\n",
       "Freq: M, dtype: float64"
      ]
     },
     "execution_count": 107,
     "metadata": {},
     "output_type": "execute_result"
    }
   ],
   "source": [
    "pd.Series(osscores)"
   ]
  },
  {
   "cell_type": "code",
   "execution_count": 60,
   "metadata": {},
   "outputs": [
    {
     "name": "stdout",
     "output_type": "stream",
     "text": [
      "Working on: 2015-08\n",
      "fit time: 122.16142749786377\n",
      "Working on: 2015-09\n",
      "fit time: 120.46891212463379\n"
     ]
    }
   ],
   "source": [
    "#mod = RandomForestRegressor(n_estimators=100, max_depth=10, n_jobs=5)\n",
    "mod = xgb_model(num_boost_round=500, max_depth=10, eta=0.3, gpu_id=0, tree_method='gpu_hist')\n",
    "fitted_models, isscores, osscores, times = rolling_cross_validation(mod, full_data_months[-20:], num_stack_months=18, fit_final=True)"
   ]
  },
  {
   "cell_type": "code",
   "execution_count": 61,
   "metadata": {},
   "outputs": [
    {
     "data": {
      "text/plain": [
       "{Period('2015-08', 'M'): <__main__.xgb_model at 0x13f8065efd0>,\n",
       " Period('2015-09', 'M'): <__main__.xgb_model at 0x13f8065efd0>,\n",
       " 'FINAL': <__main__.xgb_model at 0x13f8065efd0>}"
      ]
     },
     "execution_count": 61,
     "metadata": {},
     "output_type": "execute_result"
    }
   ],
   "source": [
    "fitted_models"
   ]
  },
  {
   "cell_type": "code",
   "execution_count": 62,
   "metadata": {},
   "outputs": [
    {
     "data": {
      "text/plain": [
       "2015-08    1.660575\n",
       "2015-09    1.632676\n",
       "FINAL      1.559067\n",
       "dtype: float64"
      ]
     },
     "execution_count": 62,
     "metadata": {},
     "output_type": "execute_result"
    }
   ],
   "source": [
    "pd.Series(isscores)"
   ]
  },
  {
   "cell_type": "code",
   "execution_count": 63,
   "metadata": {},
   "outputs": [
    {
     "data": {
      "text/plain": [
       "2015-08    19.428612\n",
       "2015-09    12.160473\n",
       "Freq: M, dtype: float64"
      ]
     },
     "execution_count": 63,
     "metadata": {},
     "output_type": "execute_result"
    }
   ],
   "source": [
    "pd.Series(osscores)"
   ]
  },
  {
   "cell_type": "code",
   "execution_count": null,
   "metadata": {},
   "outputs": [],
   "source": []
  },
  {
   "cell_type": "code",
   "execution_count": 53,
   "metadata": {},
   "outputs": [
    {
     "data": {
      "text/plain": [
       "{Period('2015-08', 'M'): <__main__.xgb_model at 0x13f8b867198>,\n",
       " Period('2015-09', 'M'): <__main__.xgb_model at 0x13f8b867198>,\n",
       " 'FINAL': <__main__.xgb_model at 0x13f8b867198>}"
      ]
     },
     "execution_count": 53,
     "metadata": {},
     "output_type": "execute_result"
    }
   ],
   "source": [
    "fitted_models"
   ]
  },
  {
   "cell_type": "code",
   "execution_count": 54,
   "metadata": {},
   "outputs": [
    {
     "data": {
      "text/plain": [
       "2015-08    1.684703\n",
       "2015-09    1.653207\n",
       "FINAL      1.580408\n",
       "dtype: float64"
      ]
     },
     "execution_count": 54,
     "metadata": {},
     "output_type": "execute_result"
    }
   ],
   "source": [
    "pd.Series(isscores)"
   ]
  },
  {
   "cell_type": "code",
   "execution_count": 55,
   "metadata": {},
   "outputs": [
    {
     "data": {
      "text/plain": [
       "2015-08    19.430249\n",
       "2015-09    14.308523\n",
       "Freq: M, dtype: float64"
      ]
     },
     "execution_count": 55,
     "metadata": {},
     "output_type": "execute_result"
    }
   ],
   "source": [
    "pd.Series(osscores)"
   ]
  },
  {
   "cell_type": "code",
   "execution_count": null,
   "metadata": {},
   "outputs": [],
   "source": []
  },
  {
   "cell_type": "code",
   "execution_count": 45,
   "metadata": {},
   "outputs": [
    {
     "data": {
      "text/plain": [
       "{Period('2015-08', 'M'): <__main__.xgb_model at 0x13f8cf4e710>,\n",
       " Period('2015-09', 'M'): <__main__.xgb_model at 0x13f8cf4e710>,\n",
       " 'FINAL': <__main__.xgb_model at 0x13f8cf4e710>}"
      ]
     },
     "execution_count": 45,
     "metadata": {},
     "output_type": "execute_result"
    }
   ],
   "source": [
    "fitted_models"
   ]
  },
  {
   "cell_type": "code",
   "execution_count": 46,
   "metadata": {},
   "outputs": [
    {
     "data": {
      "text/plain": [
       "2015-08    2.024273\n",
       "2015-09    2.005750\n",
       "FINAL      1.936844\n",
       "dtype: float64"
      ]
     },
     "execution_count": 46,
     "metadata": {},
     "output_type": "execute_result"
    }
   ],
   "source": [
    "pd.Series(isscores)"
   ]
  },
  {
   "cell_type": "code",
   "execution_count": 47,
   "metadata": {},
   "outputs": [
    {
     "data": {
      "text/plain": [
       "2015-08    19.618823\n",
       "2015-09    14.017673\n",
       "Freq: M, dtype: float64"
      ]
     },
     "execution_count": 47,
     "metadata": {},
     "output_type": "execute_result"
    }
   ],
   "source": [
    "pd.Series(osscores)"
   ]
  },
  {
   "cell_type": "code",
   "execution_count": null,
   "metadata": {},
   "outputs": [],
   "source": []
  },
  {
   "cell_type": "code",
   "execution_count": 84,
   "metadata": {},
   "outputs": [
    {
     "data": {
      "text/plain": [
       "{Period('2015-08', 'M'): <__main__.xgb_model at 0x2d18bbb3f28>,\n",
       " Period('2015-09', 'M'): <__main__.xgb_model at 0x2d18bbb3f28>,\n",
       " 'FINAL': <__main__.xgb_model at 0x2d18bbb3f28>}"
      ]
     },
     "execution_count": 84,
     "metadata": {},
     "output_type": "execute_result"
    }
   ],
   "source": [
    "fitted_models"
   ]
  },
  {
   "cell_type": "code",
   "execution_count": 85,
   "metadata": {},
   "outputs": [
    {
     "data": {
      "text/plain": [
       "2015-08    2.713818\n",
       "2015-09    3.066222\n",
       "FINAL      3.059186\n",
       "dtype: float64"
      ]
     },
     "execution_count": 85,
     "metadata": {},
     "output_type": "execute_result"
    }
   ],
   "source": [
    "pd.Series(isscores)"
   ]
  },
  {
   "cell_type": "code",
   "execution_count": 86,
   "metadata": {},
   "outputs": [
    {
     "data": {
      "text/plain": [
       "2015-08    21.253366\n",
       "2015-09    13.252615\n",
       "Freq: M, dtype: float64"
      ]
     },
     "execution_count": 86,
     "metadata": {},
     "output_type": "execute_result"
    }
   ],
   "source": [
    "pd.Series(osscores)"
   ]
  },
  {
   "cell_type": "code",
   "execution_count": 56,
   "metadata": {},
   "outputs": [],
   "source": [
    "X,Y = get_single_month_XY(all_months[-1])"
   ]
  },
  {
   "cell_type": "code",
   "execution_count": 57,
   "metadata": {},
   "outputs": [],
   "source": [
    "predictions = fitted_models['FINAL'].predict(X)"
   ]
  },
  {
   "cell_type": "code",
   "execution_count": 58,
   "metadata": {},
   "outputs": [],
   "source": [
    "predictions = pd.DataFrame({'item_cnt_month':predictions}, index=X.index)"
   ]
  },
  {
   "cell_type": "code",
   "execution_count": 59,
   "metadata": {},
   "outputs": [],
   "source": [
    "utilities.merge_pred_with_test(predictions).to_csv('2020_08_26_month_stacked_xgb_with_ewms_more_inds_V3.csv')"
   ]
  },
  {
   "cell_type": "markdown",
   "metadata": {},
   "source": [
    "# Analysis"
   ]
  },
  {
   "cell_type": "code",
   "execution_count": 106,
   "metadata": {},
   "outputs": [
    {
     "data": {
      "image/png": "[encoded data removed]",
      "text/plain": [
       "<Figure size 432x720 with 1 Axes>"
      ]
     },
     "metadata": {
      "needs_background": "light"
     },
     "output_type": "display_data"
    }
   ],
   "source": [
    "plot_feature_importances(fitted_models['FINAL'], X_train.columns)"
   ]
  },
  {
   "cell_type": "code",
   "execution_count": null,
   "metadata": {},
   "outputs": [],
   "source": []
  },
  {
   "cell_type": "code",
   "execution_count": null,
   "metadata": {},
   "outputs": [],
   "source": []
  },
  {
   "cell_type": "code",
   "execution_count": null,
   "metadata": {},
   "outputs": [],
   "source": []
  },
  {
   "cell_type": "markdown",
   "metadata": {},
   "source": [
    "Other code"
   ]
  },
  {
   "cell_type": "markdown",
   "metadata": {},
   "source": [
    "TODO:\n",
    "- understand test set vis a vis my test sets\n",
    "- recreate data set as they do\n",
    "- include item category - and mean encode that to\n",
    "- more target encodings\n",
    "- use shops info somehow? - where are they, other geogrphically relevant stuff?\n",
    "- target encode month with number of items sold\n",
    "- target encode month with total revenue\n",
    "- I need to somehow show decrease in sales trend (perhaps I can remove it)\n",
    "    - I could also simply remove december data; they are clear outliers\n",
    "- feature: nununique items sold that month"
   ]
  },
  {
   "cell_type": "code",
   "execution_count": 27,
   "metadata": {},
   "outputs": [],
   "source": [
    "sales = utilities.load_and_preprocess()"
   ]
  },
  {
   "cell_type": "code",
   "execution_count": 36,
   "metadata": {},
   "outputs": [
    {
     "data": {
      "text/html": [
       "<div>\n",
       "<style scoped>\n",
       "    .dataframe tbody tr th:only-of-type {\n",
       "        vertical-align: middle;\n",
       "    }\n",
       "\n",
       "    .dataframe tbody tr th {\n",
       "        vertical-align: top;\n",
       "    }\n",
       "\n",
       "    .dataframe thead th {\n",
       "        text-align: right;\n",
       "    }\n",
       "</style>\n",
       "<table border=\"1\" class=\"dataframe\">\n",
       "  <thead>\n",
       "    <tr style=\"text-align: right;\">\n",
       "      <th></th>\n",
       "      <th>date</th>\n",
       "      <th>date_block_num</th>\n",
       "      <th>shop_id</th>\n",
       "      <th>item_id</th>\n",
       "      <th>item_price</th>\n",
       "      <th>item_cnt_day</th>\n",
       "      <th>Month</th>\n",
       "    </tr>\n",
       "  </thead>\n",
       "  <tbody>\n",
       "    <tr>\n",
       "      <th>0</th>\n",
       "      <td>2013-01-02</td>\n",
       "      <td>0</td>\n",
       "      <td>59</td>\n",
       "      <td>22154</td>\n",
       "      <td>999.00</td>\n",
       "      <td>1.0</td>\n",
       "      <td>2013-01</td>\n",
       "    </tr>\n",
       "    <tr>\n",
       "      <th>1</th>\n",
       "      <td>2013-01-03</td>\n",
       "      <td>0</td>\n",
       "      <td>25</td>\n",
       "      <td>2552</td>\n",
       "      <td>899.00</td>\n",
       "      <td>1.0</td>\n",
       "      <td>2013-01</td>\n",
       "    </tr>\n",
       "    <tr>\n",
       "      <th>2</th>\n",
       "      <td>2013-01-05</td>\n",
       "      <td>0</td>\n",
       "      <td>25</td>\n",
       "      <td>2552</td>\n",
       "      <td>899.00</td>\n",
       "      <td>-1.0</td>\n",
       "      <td>2013-01</td>\n",
       "    </tr>\n",
       "    <tr>\n",
       "      <th>3</th>\n",
       "      <td>2013-01-06</td>\n",
       "      <td>0</td>\n",
       "      <td>25</td>\n",
       "      <td>2554</td>\n",
       "      <td>1709.05</td>\n",
       "      <td>1.0</td>\n",
       "      <td>2013-01</td>\n",
       "    </tr>\n",
       "    <tr>\n",
       "      <th>4</th>\n",
       "      <td>2013-01-15</td>\n",
       "      <td>0</td>\n",
       "      <td>25</td>\n",
       "      <td>2555</td>\n",
       "      <td>1099.00</td>\n",
       "      <td>1.0</td>\n",
       "      <td>2013-01</td>\n",
       "    </tr>\n",
       "    <tr>\n",
       "      <th>...</th>\n",
       "      <td>...</td>\n",
       "      <td>...</td>\n",
       "      <td>...</td>\n",
       "      <td>...</td>\n",
       "      <td>...</td>\n",
       "      <td>...</td>\n",
       "      <td>...</td>\n",
       "    </tr>\n",
       "    <tr>\n",
       "      <th>2935844</th>\n",
       "      <td>2015-10-10</td>\n",
       "      <td>33</td>\n",
       "      <td>25</td>\n",
       "      <td>7409</td>\n",
       "      <td>299.00</td>\n",
       "      <td>1.0</td>\n",
       "      <td>2015-10</td>\n",
       "    </tr>\n",
       "    <tr>\n",
       "      <th>2935845</th>\n",
       "      <td>2015-10-09</td>\n",
       "      <td>33</td>\n",
       "      <td>25</td>\n",
       "      <td>7460</td>\n",
       "      <td>299.00</td>\n",
       "      <td>1.0</td>\n",
       "      <td>2015-10</td>\n",
       "    </tr>\n",
       "    <tr>\n",
       "      <th>2935846</th>\n",
       "      <td>2015-10-14</td>\n",
       "      <td>33</td>\n",
       "      <td>25</td>\n",
       "      <td>7459</td>\n",
       "      <td>349.00</td>\n",
       "      <td>1.0</td>\n",
       "      <td>2015-10</td>\n",
       "    </tr>\n",
       "    <tr>\n",
       "      <th>2935847</th>\n",
       "      <td>2015-10-22</td>\n",
       "      <td>33</td>\n",
       "      <td>25</td>\n",
       "      <td>7440</td>\n",
       "      <td>299.00</td>\n",
       "      <td>1.0</td>\n",
       "      <td>2015-10</td>\n",
       "    </tr>\n",
       "    <tr>\n",
       "      <th>2935848</th>\n",
       "      <td>2015-10-03</td>\n",
       "      <td>33</td>\n",
       "      <td>25</td>\n",
       "      <td>7460</td>\n",
       "      <td>299.00</td>\n",
       "      <td>1.0</td>\n",
       "      <td>2015-10</td>\n",
       "    </tr>\n",
       "  </tbody>\n",
       "</table>\n",
       "<p>2935849 rows × 7 columns</p>\n",
       "</div>"
      ],
      "text/plain": [
       "              date  date_block_num  shop_id  item_id  item_price  \\\n",
       "0       2013-01-02               0       59    22154      999.00   \n",
       "1       2013-01-03               0       25     2552      899.00   \n",
       "2       2013-01-05               0       25     2552      899.00   \n",
       "3       2013-01-06               0       25     2554     1709.05   \n",
       "4       2013-01-15               0       25     2555     1099.00   \n",
       "...            ...             ...      ...      ...         ...   \n",
       "2935844 2015-10-10              33       25     7409      299.00   \n",
       "2935845 2015-10-09              33       25     7460      299.00   \n",
       "2935846 2015-10-14              33       25     7459      349.00   \n",
       "2935847 2015-10-22              33       25     7440      299.00   \n",
       "2935848 2015-10-03              33       25     7460      299.00   \n",
       "\n",
       "         item_cnt_day    Month  \n",
       "0                 1.0  2013-01  \n",
       "1                 1.0  2013-01  \n",
       "2                -1.0  2013-01  \n",
       "3                 1.0  2013-01  \n",
       "4                 1.0  2013-01  \n",
       "...               ...      ...  \n",
       "2935844           1.0  2015-10  \n",
       "2935845           1.0  2015-10  \n",
       "2935846           1.0  2015-10  \n",
       "2935847           1.0  2015-10  \n",
       "2935848           1.0  2015-10  \n",
       "\n",
       "[2935849 rows x 7 columns]"
      ]
     },
     "execution_count": 36,
     "metadata": {},
     "output_type": "execute_result"
    }
   ],
   "source": [
    "sales"
   ]
  },
  {
   "cell_type": "code",
   "execution_count": 50,
   "metadata": {},
   "outputs": [
    {
     "data": {
      "text/html": [
       "<div>\n",
       "<style scoped>\n",
       "    .dataframe tbody tr th:only-of-type {\n",
       "        vertical-align: middle;\n",
       "    }\n",
       "\n",
       "    .dataframe tbody tr th {\n",
       "        vertical-align: top;\n",
       "    }\n",
       "\n",
       "    .dataframe thead th {\n",
       "        text-align: right;\n",
       "    }\n",
       "</style>\n",
       "<table border=\"1\" class=\"dataframe\">\n",
       "  <thead>\n",
       "    <tr style=\"text-align: right;\">\n",
       "      <th></th>\n",
       "      <th>date</th>\n",
       "      <th>date_block_num</th>\n",
       "      <th>shop_id</th>\n",
       "      <th>item_id</th>\n",
       "      <th>item_price</th>\n",
       "      <th>item_cnt_day</th>\n",
       "    </tr>\n",
       "    <tr>\n",
       "      <th>Month</th>\n",
       "      <th></th>\n",
       "      <th></th>\n",
       "      <th></th>\n",
       "      <th></th>\n",
       "      <th></th>\n",
       "      <th></th>\n",
       "    </tr>\n",
       "  </thead>\n",
       "  <tbody>\n",
       "    <tr>\n",
       "      <th>2013-01</th>\n",
       "      <td>115690</td>\n",
       "      <td>115690</td>\n",
       "      <td>115690</td>\n",
       "      <td>115690</td>\n",
       "      <td>115690</td>\n",
       "      <td>115690</td>\n",
       "    </tr>\n",
       "    <tr>\n",
       "      <th>2013-02</th>\n",
       "      <td>108613</td>\n",
       "      <td>108613</td>\n",
       "      <td>108613</td>\n",
       "      <td>108613</td>\n",
       "      <td>108613</td>\n",
       "      <td>108613</td>\n",
       "    </tr>\n",
       "    <tr>\n",
       "      <th>2013-03</th>\n",
       "      <td>121347</td>\n",
       "      <td>121347</td>\n",
       "      <td>121347</td>\n",
       "      <td>121347</td>\n",
       "      <td>121347</td>\n",
       "      <td>121347</td>\n",
       "    </tr>\n",
       "    <tr>\n",
       "      <th>2013-04</th>\n",
       "      <td>94109</td>\n",
       "      <td>94109</td>\n",
       "      <td>94109</td>\n",
       "      <td>94109</td>\n",
       "      <td>94109</td>\n",
       "      <td>94109</td>\n",
       "    </tr>\n",
       "    <tr>\n",
       "      <th>2013-05</th>\n",
       "      <td>91759</td>\n",
       "      <td>91759</td>\n",
       "      <td>91759</td>\n",
       "      <td>91759</td>\n",
       "      <td>91759</td>\n",
       "      <td>91759</td>\n",
       "    </tr>\n",
       "    <tr>\n",
       "      <th>2013-06</th>\n",
       "      <td>100403</td>\n",
       "      <td>100403</td>\n",
       "      <td>100403</td>\n",
       "      <td>100403</td>\n",
       "      <td>100403</td>\n",
       "      <td>100403</td>\n",
       "    </tr>\n",
       "    <tr>\n",
       "      <th>2013-07</th>\n",
       "      <td>100548</td>\n",
       "      <td>100548</td>\n",
       "      <td>100548</td>\n",
       "      <td>100548</td>\n",
       "      <td>100548</td>\n",
       "      <td>100548</td>\n",
       "    </tr>\n",
       "    <tr>\n",
       "      <th>2013-08</th>\n",
       "      <td>104772</td>\n",
       "      <td>104772</td>\n",
       "      <td>104772</td>\n",
       "      <td>104772</td>\n",
       "      <td>104772</td>\n",
       "      <td>104772</td>\n",
       "    </tr>\n",
       "    <tr>\n",
       "      <th>2013-09</th>\n",
       "      <td>96137</td>\n",
       "      <td>96137</td>\n",
       "      <td>96137</td>\n",
       "      <td>96137</td>\n",
       "      <td>96137</td>\n",
       "      <td>96137</td>\n",
       "    </tr>\n",
       "    <tr>\n",
       "      <th>2013-10</th>\n",
       "      <td>94202</td>\n",
       "      <td>94202</td>\n",
       "      <td>94202</td>\n",
       "      <td>94202</td>\n",
       "      <td>94202</td>\n",
       "      <td>94202</td>\n",
       "    </tr>\n",
       "    <tr>\n",
       "      <th>2013-11</th>\n",
       "      <td>96736</td>\n",
       "      <td>96736</td>\n",
       "      <td>96736</td>\n",
       "      <td>96736</td>\n",
       "      <td>96736</td>\n",
       "      <td>96736</td>\n",
       "    </tr>\n",
       "    <tr>\n",
       "      <th>2013-12</th>\n",
       "      <td>143246</td>\n",
       "      <td>143246</td>\n",
       "      <td>143246</td>\n",
       "      <td>143246</td>\n",
       "      <td>143246</td>\n",
       "      <td>143246</td>\n",
       "    </tr>\n",
       "    <tr>\n",
       "      <th>2014-01</th>\n",
       "      <td>99349</td>\n",
       "      <td>99349</td>\n",
       "      <td>99349</td>\n",
       "      <td>99349</td>\n",
       "      <td>99349</td>\n",
       "      <td>99349</td>\n",
       "    </tr>\n",
       "    <tr>\n",
       "      <th>2014-02</th>\n",
       "      <td>89830</td>\n",
       "      <td>89830</td>\n",
       "      <td>89830</td>\n",
       "      <td>89830</td>\n",
       "      <td>89830</td>\n",
       "      <td>89830</td>\n",
       "    </tr>\n",
       "    <tr>\n",
       "      <th>2014-03</th>\n",
       "      <td>92733</td>\n",
       "      <td>92733</td>\n",
       "      <td>92733</td>\n",
       "      <td>92733</td>\n",
       "      <td>92733</td>\n",
       "      <td>92733</td>\n",
       "    </tr>\n",
       "    <tr>\n",
       "      <th>2014-04</th>\n",
       "      <td>77906</td>\n",
       "      <td>77906</td>\n",
       "      <td>77906</td>\n",
       "      <td>77906</td>\n",
       "      <td>77906</td>\n",
       "      <td>77906</td>\n",
       "    </tr>\n",
       "    <tr>\n",
       "      <th>2014-05</th>\n",
       "      <td>78529</td>\n",
       "      <td>78529</td>\n",
       "      <td>78529</td>\n",
       "      <td>78529</td>\n",
       "      <td>78529</td>\n",
       "      <td>78529</td>\n",
       "    </tr>\n",
       "    <tr>\n",
       "      <th>2014-06</th>\n",
       "      <td>82408</td>\n",
       "      <td>82408</td>\n",
       "      <td>82408</td>\n",
       "      <td>82408</td>\n",
       "      <td>82408</td>\n",
       "      <td>82408</td>\n",
       "    </tr>\n",
       "    <tr>\n",
       "      <th>2014-07</th>\n",
       "      <td>78760</td>\n",
       "      <td>78760</td>\n",
       "      <td>78760</td>\n",
       "      <td>78760</td>\n",
       "      <td>78760</td>\n",
       "      <td>78760</td>\n",
       "    </tr>\n",
       "    <tr>\n",
       "      <th>2014-08</th>\n",
       "      <td>86614</td>\n",
       "      <td>86614</td>\n",
       "      <td>86614</td>\n",
       "      <td>86614</td>\n",
       "      <td>86614</td>\n",
       "      <td>86614</td>\n",
       "    </tr>\n",
       "    <tr>\n",
       "      <th>2014-09</th>\n",
       "      <td>73157</td>\n",
       "      <td>73157</td>\n",
       "      <td>73157</td>\n",
       "      <td>73157</td>\n",
       "      <td>73157</td>\n",
       "      <td>73157</td>\n",
       "    </tr>\n",
       "    <tr>\n",
       "      <th>2014-10</th>\n",
       "      <td>79361</td>\n",
       "      <td>79361</td>\n",
       "      <td>79361</td>\n",
       "      <td>79361</td>\n",
       "      <td>79361</td>\n",
       "      <td>79361</td>\n",
       "    </tr>\n",
       "    <tr>\n",
       "      <th>2014-11</th>\n",
       "      <td>86428</td>\n",
       "      <td>86428</td>\n",
       "      <td>86428</td>\n",
       "      <td>86428</td>\n",
       "      <td>86428</td>\n",
       "      <td>86428</td>\n",
       "    </tr>\n",
       "    <tr>\n",
       "      <th>2014-12</th>\n",
       "      <td>130786</td>\n",
       "      <td>130786</td>\n",
       "      <td>130786</td>\n",
       "      <td>130786</td>\n",
       "      <td>130786</td>\n",
       "      <td>130786</td>\n",
       "    </tr>\n",
       "    <tr>\n",
       "      <th>2015-01</th>\n",
       "      <td>88522</td>\n",
       "      <td>88522</td>\n",
       "      <td>88522</td>\n",
       "      <td>88522</td>\n",
       "      <td>88522</td>\n",
       "      <td>88522</td>\n",
       "    </tr>\n",
       "    <tr>\n",
       "      <th>2015-02</th>\n",
       "      <td>71808</td>\n",
       "      <td>71808</td>\n",
       "      <td>71808</td>\n",
       "      <td>71808</td>\n",
       "      <td>71808</td>\n",
       "      <td>71808</td>\n",
       "    </tr>\n",
       "    <tr>\n",
       "      <th>2015-03</th>\n",
       "      <td>69977</td>\n",
       "      <td>69977</td>\n",
       "      <td>69977</td>\n",
       "      <td>69977</td>\n",
       "      <td>69977</td>\n",
       "      <td>69977</td>\n",
       "    </tr>\n",
       "    <tr>\n",
       "      <th>2015-04</th>\n",
       "      <td>56274</td>\n",
       "      <td>56274</td>\n",
       "      <td>56274</td>\n",
       "      <td>56274</td>\n",
       "      <td>56274</td>\n",
       "      <td>56274</td>\n",
       "    </tr>\n",
       "    <tr>\n",
       "      <th>2015-05</th>\n",
       "      <td>54548</td>\n",
       "      <td>54548</td>\n",
       "      <td>54548</td>\n",
       "      <td>54548</td>\n",
       "      <td>54548</td>\n",
       "      <td>54548</td>\n",
       "    </tr>\n",
       "    <tr>\n",
       "      <th>2015-06</th>\n",
       "      <td>54617</td>\n",
       "      <td>54617</td>\n",
       "      <td>54617</td>\n",
       "      <td>54617</td>\n",
       "      <td>54617</td>\n",
       "      <td>54617</td>\n",
       "    </tr>\n",
       "    <tr>\n",
       "      <th>2015-07</th>\n",
       "      <td>55549</td>\n",
       "      <td>55549</td>\n",
       "      <td>55549</td>\n",
       "      <td>55549</td>\n",
       "      <td>55549</td>\n",
       "      <td>55549</td>\n",
       "    </tr>\n",
       "    <tr>\n",
       "      <th>2015-08</th>\n",
       "      <td>57029</td>\n",
       "      <td>57029</td>\n",
       "      <td>57029</td>\n",
       "      <td>57029</td>\n",
       "      <td>57029</td>\n",
       "      <td>57029</td>\n",
       "    </tr>\n",
       "    <tr>\n",
       "      <th>2015-09</th>\n",
       "      <td>50588</td>\n",
       "      <td>50588</td>\n",
       "      <td>50588</td>\n",
       "      <td>50588</td>\n",
       "      <td>50588</td>\n",
       "      <td>50588</td>\n",
       "    </tr>\n",
       "    <tr>\n",
       "      <th>2015-10</th>\n",
       "      <td>53514</td>\n",
       "      <td>53514</td>\n",
       "      <td>53514</td>\n",
       "      <td>53514</td>\n",
       "      <td>53514</td>\n",
       "      <td>53514</td>\n",
       "    </tr>\n",
       "  </tbody>\n",
       "</table>\n",
       "</div>"
      ],
      "text/plain": [
       "           date  date_block_num  shop_id  item_id  item_price  item_cnt_day\n",
       "Month                                                                      \n",
       "2013-01  115690          115690   115690   115690      115690        115690\n",
       "2013-02  108613          108613   108613   108613      108613        108613\n",
       "2013-03  121347          121347   121347   121347      121347        121347\n",
       "2013-04   94109           94109    94109    94109       94109         94109\n",
       "2013-05   91759           91759    91759    91759       91759         91759\n",
       "2013-06  100403          100403   100403   100403      100403        100403\n",
       "2013-07  100548          100548   100548   100548      100548        100548\n",
       "2013-08  104772          104772   104772   104772      104772        104772\n",
       "2013-09   96137           96137    96137    96137       96137         96137\n",
       "2013-10   94202           94202    94202    94202       94202         94202\n",
       "2013-11   96736           96736    96736    96736       96736         96736\n",
       "2013-12  143246          143246   143246   143246      143246        143246\n",
       "2014-01   99349           99349    99349    99349       99349         99349\n",
       "2014-02   89830           89830    89830    89830       89830         89830\n",
       "2014-03   92733           92733    92733    92733       92733         92733\n",
       "2014-04   77906           77906    77906    77906       77906         77906\n",
       "2014-05   78529           78529    78529    78529       78529         78529\n",
       "2014-06   82408           82408    82408    82408       82408         82408\n",
       "2014-07   78760           78760    78760    78760       78760         78760\n",
       "2014-08   86614           86614    86614    86614       86614         86614\n",
       "2014-09   73157           73157    73157    73157       73157         73157\n",
       "2014-10   79361           79361    79361    79361       79361         79361\n",
       "2014-11   86428           86428    86428    86428       86428         86428\n",
       "2014-12  130786          130786   130786   130786      130786        130786\n",
       "2015-01   88522           88522    88522    88522       88522         88522\n",
       "2015-02   71808           71808    71808    71808       71808         71808\n",
       "2015-03   69977           69977    69977    69977       69977         69977\n",
       "2015-04   56274           56274    56274    56274       56274         56274\n",
       "2015-05   54548           54548    54548    54548       54548         54548\n",
       "2015-06   54617           54617    54617    54617       54617         54617\n",
       "2015-07   55549           55549    55549    55549       55549         55549\n",
       "2015-08   57029           57029    57029    57029       57029         57029\n",
       "2015-09   50588           50588    50588    50588       50588         50588\n",
       "2015-10   53514           53514    53514    53514       53514         53514"
      ]
     },
     "execution_count": 50,
     "metadata": {},
     "output_type": "execute_result"
    }
   ],
   "source": [
    "sales.groupby('Month').count()"
   ]
  },
  {
   "cell_type": "code",
   "execution_count": 52,
   "metadata": {},
   "outputs": [
    {
     "data": {
      "text/plain": [
       "Month\n",
       "2013-01    8115\n",
       "2013-02    8168\n",
       "2013-03    8302\n",
       "2013-04    8145\n",
       "2013-05    8339\n",
       "2013-06    8478\n",
       "2013-07    8405\n",
       "2013-08    8031\n",
       "2013-09    7876\n",
       "2013-10    8039\n",
       "2013-11    8089\n",
       "2013-12    8474\n",
       "2014-01    7551\n",
       "2014-02    7134\n",
       "2014-03    7142\n",
       "2014-04    6774\n",
       "2014-05    6685\n",
       "2014-06    6681\n",
       "2014-07    6611\n",
       "2014-08    6363\n",
       "2014-09    6071\n",
       "2014-10    6334\n",
       "2014-11    6322\n",
       "2014-12    6605\n",
       "2015-01    6139\n",
       "2015-02    6053\n",
       "2015-03    6082\n",
       "2015-04    5476\n",
       "2015-05    5283\n",
       "2015-06    5216\n",
       "2015-07    5323\n",
       "2015-08    5108\n",
       "2015-09    5085\n",
       "2015-10    5413\n",
       "Freq: M, Name: item_id, dtype: int64"
      ]
     },
     "execution_count": 52,
     "metadata": {},
     "output_type": "execute_result"
    }
   ],
   "source": [
    "sales.groupby('Month').item_id.nunique()"
   ]
  },
  {
   "cell_type": "code",
   "execution_count": 56,
   "metadata": {},
   "outputs": [
    {
     "data": {
      "text/plain": [
       "shop_id\n",
       "0     2385\n",
       "1     1535\n",
       "2      728\n",
       "3      544\n",
       "4     1062\n",
       "6     1865\n",
       "7     1271\n",
       "8      986\n",
       "10     631\n",
       "12     457\n",
       "13     755\n",
       "14    1047\n",
       "15    1230\n",
       "16    1667\n",
       "18    1430\n",
       "19    1528\n",
       "21     991\n",
       "22     845\n",
       "23    1168\n",
       "24    1036\n",
       "25    3137\n",
       "26    1294\n",
       "27    2138\n",
       "28    2649\n",
       "29    1395\n",
       "30    1675\n",
       "31    3386\n",
       "32     843\n",
       "35    1202\n",
       "37    1436\n",
       "38     915\n",
       "41    1036\n",
       "42    1851\n",
       "43     936\n",
       "44    1111\n",
       "45     955\n",
       "46    1589\n",
       "47    1077\n",
       "50    1577\n",
       "51    1533\n",
       "52    1086\n",
       "53    1113\n",
       "54    3307\n",
       "56    1764\n",
       "59    1058\n",
       "Name: item_id, dtype: int64"
      ]
     },
     "execution_count": 56,
     "metadata": {},
     "output_type": "execute_result"
    }
   ],
   "source": [
    "sales[sales.date_block_num == 0].groupby('shop_id').item_id.nunique()"
   ]
  },
  {
   "cell_type": "code",
   "execution_count": 31,
   "metadata": {},
   "outputs": [],
   "source": [
    "test = pd.read_csv(r'data/test.csv', index_col='ID')"
   ]
  },
  {
   "cell_type": "code",
   "execution_count": 32,
   "metadata": {},
   "outputs": [
    {
     "data": {
      "text/html": [
       "<div>\n",
       "<style scoped>\n",
       "    .dataframe tbody tr th:only-of-type {\n",
       "        vertical-align: middle;\n",
       "    }\n",
       "\n",
       "    .dataframe tbody tr th {\n",
       "        vertical-align: top;\n",
       "    }\n",
       "\n",
       "    .dataframe thead th {\n",
       "        text-align: right;\n",
       "    }\n",
       "</style>\n",
       "<table border=\"1\" class=\"dataframe\">\n",
       "  <thead>\n",
       "    <tr style=\"text-align: right;\">\n",
       "      <th></th>\n",
       "      <th>shop_id</th>\n",
       "      <th>item_id</th>\n",
       "    </tr>\n",
       "    <tr>\n",
       "      <th>ID</th>\n",
       "      <th></th>\n",
       "      <th></th>\n",
       "    </tr>\n",
       "  </thead>\n",
       "  <tbody>\n",
       "    <tr>\n",
       "      <th>0</th>\n",
       "      <td>5</td>\n",
       "      <td>5037</td>\n",
       "    </tr>\n",
       "    <tr>\n",
       "      <th>1</th>\n",
       "      <td>5</td>\n",
       "      <td>5320</td>\n",
       "    </tr>\n",
       "    <tr>\n",
       "      <th>2</th>\n",
       "      <td>5</td>\n",
       "      <td>5233</td>\n",
       "    </tr>\n",
       "    <tr>\n",
       "      <th>3</th>\n",
       "      <td>5</td>\n",
       "      <td>5232</td>\n",
       "    </tr>\n",
       "    <tr>\n",
       "      <th>4</th>\n",
       "      <td>5</td>\n",
       "      <td>5268</td>\n",
       "    </tr>\n",
       "    <tr>\n",
       "      <th>...</th>\n",
       "      <td>...</td>\n",
       "      <td>...</td>\n",
       "    </tr>\n",
       "    <tr>\n",
       "      <th>214195</th>\n",
       "      <td>45</td>\n",
       "      <td>18454</td>\n",
       "    </tr>\n",
       "    <tr>\n",
       "      <th>214196</th>\n",
       "      <td>45</td>\n",
       "      <td>16188</td>\n",
       "    </tr>\n",
       "    <tr>\n",
       "      <th>214197</th>\n",
       "      <td>45</td>\n",
       "      <td>15757</td>\n",
       "    </tr>\n",
       "    <tr>\n",
       "      <th>214198</th>\n",
       "      <td>45</td>\n",
       "      <td>19648</td>\n",
       "    </tr>\n",
       "    <tr>\n",
       "      <th>214199</th>\n",
       "      <td>45</td>\n",
       "      <td>969</td>\n",
       "    </tr>\n",
       "  </tbody>\n",
       "</table>\n",
       "<p>214200 rows × 2 columns</p>\n",
       "</div>"
      ],
      "text/plain": [
       "        shop_id  item_id\n",
       "ID                      \n",
       "0             5     5037\n",
       "1             5     5320\n",
       "2             5     5233\n",
       "3             5     5232\n",
       "4             5     5268\n",
       "...         ...      ...\n",
       "214195       45    18454\n",
       "214196       45    16188\n",
       "214197       45    15757\n",
       "214198       45    19648\n",
       "214199       45      969\n",
       "\n",
       "[214200 rows x 2 columns]"
      ]
     },
     "execution_count": 32,
     "metadata": {},
     "output_type": "execute_result"
    }
   ],
   "source": [
    "test"
   ]
  },
  {
   "cell_type": "code",
   "execution_count": 40,
   "metadata": {},
   "outputs": [
    {
     "data": {
      "text/plain": [
       "shop_id\n",
       "2     5100\n",
       "3     5100\n",
       "4     5100\n",
       "5     5100\n",
       "6     5100\n",
       "7     5100\n",
       "10    5100\n",
       "12    5100\n",
       "14    5100\n",
       "15    5100\n",
       "16    5100\n",
       "18    5100\n",
       "19    5100\n",
       "21    5100\n",
       "22    5100\n",
       "24    5100\n",
       "25    5100\n",
       "26    5100\n",
       "28    5100\n",
       "31    5100\n",
       "34    5100\n",
       "35    5100\n",
       "36    5100\n",
       "37    5100\n",
       "38    5100\n",
       "39    5100\n",
       "41    5100\n",
       "42    5100\n",
       "44    5100\n",
       "45    5100\n",
       "46    5100\n",
       "47    5100\n",
       "48    5100\n",
       "49    5100\n",
       "50    5100\n",
       "52    5100\n",
       "53    5100\n",
       "55    5100\n",
       "56    5100\n",
       "57    5100\n",
       "58    5100\n",
       "59    5100\n",
       "Name: item_id, dtype: int64"
      ]
     },
     "execution_count": 40,
     "metadata": {},
     "output_type": "execute_result"
    }
   ],
   "source": [
    "test.groupby('shop_id').item_id.count()"
   ]
  },
  {
   "cell_type": "code",
   "execution_count": 42,
   "metadata": {},
   "outputs": [
    {
     "data": {
      "text/plain": [
       "(424124,)"
      ]
     },
     "execution_count": 42,
     "metadata": {},
     "output_type": "execute_result"
    }
   ],
   "source": [
    "Y_train.shape"
   ]
  },
  {
   "cell_type": "code",
   "execution_count": 45,
   "metadata": {},
   "outputs": [
    {
     "data": {
      "text/plain": [
       "21807"
      ]
     },
     "execution_count": 45,
     "metadata": {},
     "output_type": "execute_result"
    }
   ],
   "source": [
    "len(sales.item_id.unique())"
   ]
  },
  {
   "cell_type": "code",
   "execution_count": 48,
   "metadata": {},
   "outputs": [],
   "source": [
    "items = pd.read_csv(r'data/items.csv', index_col='item_id')"
   ]
  },
  {
   "cell_type": "code",
   "execution_count": 49,
   "metadata": {},
   "outputs": [
    {
     "data": {
      "text/html": [
       "<div>\n",
       "<style scoped>\n",
       "    .dataframe tbody tr th:only-of-type {\n",
       "        vertical-align: middle;\n",
       "    }\n",
       "\n",
       "    .dataframe tbody tr th {\n",
       "        vertical-align: top;\n",
       "    }\n",
       "\n",
       "    .dataframe thead th {\n",
       "        text-align: right;\n",
       "    }\n",
       "</style>\n",
       "<table border=\"1\" class=\"dataframe\">\n",
       "  <thead>\n",
       "    <tr style=\"text-align: right;\">\n",
       "      <th></th>\n",
       "      <th>item_name</th>\n",
       "      <th>item_category_id</th>\n",
       "    </tr>\n",
       "    <tr>\n",
       "      <th>item_id</th>\n",
       "      <th></th>\n",
       "      <th></th>\n",
       "    </tr>\n",
       "  </thead>\n",
       "  <tbody>\n",
       "    <tr>\n",
       "      <th>0</th>\n",
       "      <td>! ВО ВЛАСТИ НАВАЖДЕНИЯ (ПЛАСТ.)         D</td>\n",
       "      <td>40</td>\n",
       "    </tr>\n",
       "    <tr>\n",
       "      <th>1</th>\n",
       "      <td>!ABBYY FineReader 12 Professional Edition Full...</td>\n",
       "      <td>76</td>\n",
       "    </tr>\n",
       "    <tr>\n",
       "      <th>2</th>\n",
       "      <td>***В ЛУЧАХ СЛАВЫ   (UNV)                    D</td>\n",
       "      <td>40</td>\n",
       "    </tr>\n",
       "    <tr>\n",
       "      <th>3</th>\n",
       "      <td>***ГОЛУБАЯ ВОЛНА  (Univ)                      D</td>\n",
       "      <td>40</td>\n",
       "    </tr>\n",
       "    <tr>\n",
       "      <th>4</th>\n",
       "      <td>***КОРОБКА (СТЕКЛО)                       D</td>\n",
       "      <td>40</td>\n",
       "    </tr>\n",
       "    <tr>\n",
       "      <th>...</th>\n",
       "      <td>...</td>\n",
       "      <td>...</td>\n",
       "    </tr>\n",
       "    <tr>\n",
       "      <th>22165</th>\n",
       "      <td>Ядерный титбит 2 [PC, Цифровая версия]</td>\n",
       "      <td>31</td>\n",
       "    </tr>\n",
       "    <tr>\n",
       "      <th>22166</th>\n",
       "      <td>Язык запросов 1С:Предприятия  [Цифровая версия]</td>\n",
       "      <td>54</td>\n",
       "    </tr>\n",
       "    <tr>\n",
       "      <th>22167</th>\n",
       "      <td>Язык запросов 1С:Предприятия 8 (+CD). Хрустале...</td>\n",
       "      <td>49</td>\n",
       "    </tr>\n",
       "    <tr>\n",
       "      <th>22168</th>\n",
       "      <td>Яйцо для Little Inu</td>\n",
       "      <td>62</td>\n",
       "    </tr>\n",
       "    <tr>\n",
       "      <th>22169</th>\n",
       "      <td>Яйцо дракона (Игра престолов)</td>\n",
       "      <td>69</td>\n",
       "    </tr>\n",
       "  </tbody>\n",
       "</table>\n",
       "<p>22170 rows × 2 columns</p>\n",
       "</div>"
      ],
      "text/plain": [
       "                                                 item_name  item_category_id\n",
       "item_id                                                                     \n",
       "0                ! ВО ВЛАСТИ НАВАЖДЕНИЯ (ПЛАСТ.)         D                40\n",
       "1        !ABBYY FineReader 12 Professional Edition Full...                76\n",
       "2            ***В ЛУЧАХ СЛАВЫ   (UNV)                    D                40\n",
       "3          ***ГОЛУБАЯ ВОЛНА  (Univ)                      D                40\n",
       "4              ***КОРОБКА (СТЕКЛО)                       D                40\n",
       "...                                                    ...               ...\n",
       "22165               Ядерный титбит 2 [PC, Цифровая версия]                31\n",
       "22166      Язык запросов 1С:Предприятия  [Цифровая версия]                54\n",
       "22167    Язык запросов 1С:Предприятия 8 (+CD). Хрустале...                49\n",
       "22168                                  Яйцо для Little Inu                62\n",
       "22169                        Яйцо дракона (Игра престолов)                69\n",
       "\n",
       "[22170 rows x 2 columns]"
      ]
     },
     "execution_count": 49,
     "metadata": {},
     "output_type": "execute_result"
    }
   ],
   "source": [
    "items"
   ]
  },
  {
   "cell_type": "code",
   "execution_count": null,
   "metadata": {},
   "outputs": [],
   "source": []
  }
 ],
 "metadata": {
  "kernelspec": {
   "display_name": "Python 3",
   "language": "python",
   "name": "python3"
  },
  "language_info": {
   "codemirror_mode": {
    "name": "ipython",
    "version": 3
   },
   "file_extension": ".py",
   "mimetype": "text/x-python",
   "name": "python",
   "nbconvert_exporter": "python",
   "pygments_lexer": "ipython3",
   "version": "3.6.10"
  }
 },
 "nbformat": 4,
 "nbformat_minor": 4
}
