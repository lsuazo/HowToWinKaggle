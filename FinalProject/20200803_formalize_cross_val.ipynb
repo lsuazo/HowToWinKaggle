{
 "cells": [
  {
   "cell_type": "code",
   "execution_count": 78,
   "metadata": {},
   "outputs": [],
   "source": [
    "import os\n",
    "\n",
    "import pandas as pd\n",
    "import numpy as np\n",
    "import seaborn as sns\n",
    "import matplotlib.pyplot as plt\n",
    "\n",
    "from sklearn.ensemble import RandomForestRegressor\n",
    "from sklearn.metrics import mean_squared_error\n",
    "\n",
    "%matplotlib inline"
   ]
  },
  {
   "cell_type": "code",
   "execution_count": 2,
   "metadata": {},
   "outputs": [],
   "source": [
    "import utilities"
   ]
  },
  {
   "cell_type": "code",
   "execution_count": 3,
   "metadata": {},
   "outputs": [],
   "source": [
    "from importlib import reload"
   ]
  },
  {
   "cell_type": "code",
   "execution_count": 4,
   "metadata": {},
   "outputs": [
    {
     "data": {
      "text/plain": [
       "<module 'utilities' from 'C:\\\\Users\\\\luisr\\\\SharedProjects\\\\HowToWinKaggle\\\\FinalProject\\\\utilities.py'>"
      ]
     },
     "execution_count": 4,
     "metadata": {},
     "output_type": "execute_result"
    }
   ],
   "source": [
    "reload(utilities)"
   ]
  },
  {
   "cell_type": "code",
   "execution_count": 5,
   "metadata": {},
   "outputs": [],
   "source": [
    "sales = utilities.load_and_preprocess()"
   ]
  },
  {
   "cell_type": "code",
   "execution_count": 6,
   "metadata": {},
   "outputs": [],
   "source": [
    "agg_sales = utilities.aggregate_monthly(sales)"
   ]
  },
  {
   "cell_type": "code",
   "execution_count": 43,
   "metadata": {},
   "outputs": [],
   "source": [
    "piv_agg_sales = agg_sales.set_index(['Month', 'shop_id', 'item_id']).item_cnt_month.unstack(level=0).fillna(0)"
   ]
  },
  {
   "cell_type": "code",
   "execution_count": 41,
   "metadata": {},
   "outputs": [],
   "source": [
    "def create_windowed_XY(df_, fit_cols_):\n",
    "    total_pred_months = df_.shape[1] - fit_cols_\n",
    "    if total_pred_months <= 0:\n",
    "        return (None, None)\n",
    "    \n",
    "    Xs = []\n",
    "    Ys = []\n",
    "    for i in range(0,total_pred_months):\n",
    "        Xs.append(df_.iloc[:,i:fit_cols_+i].values)\n",
    "        Ys.append(df_.iloc[:,fit_cols_+i].values)\n",
    "\n",
    "    Y = np.hstack(Ys)\n",
    "    X = np.row_stack(Xs)\n",
    "    return X,Y\n",
    "    "
   ]
  },
  {
   "cell_type": "code",
   "execution_count": null,
   "metadata": {},
   "outputs": [],
   "source": [
    "def cross_val_score(df, model, fit_window=24, strides=12, feat_gen_func_dict=None):\n",
    "    \n",
    "    \n",
    "    "
   ]
  },
  {
   "cell_type": "code",
   "execution_count": 58,
   "metadata": {},
   "outputs": [],
   "source": [
    "model = RandomForestRegressor(n_estimators=50, max_depth=4)"
   ]
  },
  {
   "cell_type": "code",
   "execution_count": 89,
   "metadata": {},
   "outputs": [],
   "source": [
    "df = piv_agg_sales\n",
    "fit_months = 24\n",
    "strides = 3"
   ]
  },
  {
   "cell_type": "code",
   "execution_count": 90,
   "metadata": {},
   "outputs": [
    {
     "name": "stdout",
     "output_type": "stream",
     "text": [
      "working on iteration: 0\n",
      "working on iteration: 1\n",
      "working on iteration: 2\n",
      "working on iteration: 3\n",
      "working on iteration: 4\n",
      "working on iteration: 5\n",
      "Wall time: 5min 8s\n"
     ]
    }
   ],
   "source": [
    "%%time\n",
    "total_months = df.shape[1]\n",
    "fold_size = fit_months + strides + 1\n",
    "\n",
    "in_sample_errors = []\n",
    "validate_errors = []\n",
    "for i in range(total_months - fold_size):\n",
    "    print(f'working on iteration: {i}')\n",
    "    sub_df = df.iloc[:, i:i+fold_size]\n",
    "    X_train, Y_train = create_windowed_XY(sub_df.iloc[:,:-1], fit_months)\n",
    "    X_validate, Y_validate = sub_df.iloc[:,-1-fit_months:-1].values, sub_df.iloc[:,-1].values\n",
    "\n",
    "    fit_model = model.fit(X_train, Y_train)\n",
    "\n",
    "    Y_train_pred = fit_model.predict(X_train)\n",
    "    in_sample_error = mean_squared_error(Y_train, Y_train_pred)\n",
    "    Y_validate_pred = fit_model.predict(X_validate)\n",
    "    valid_error = mean_squared_error(Y_validate, Y_validate_pred)\n",
    "    \n",
    "    in_sample_errors.append(in_sample_error)\n",
    "    validate_errors.append(valid_error)"
   ]
  },
  {
   "cell_type": "code",
   "execution_count": 91,
   "metadata": {},
   "outputs": [
    {
     "data": {
      "text/plain": [
       "[2.2562731559064133,\n",
       " 4.137067135326525,\n",
       " 5.0561025666971355,\n",
       " 4.801660417929613,\n",
       " 1.5422874475107948,\n",
       " 0.6178976425004049]"
      ]
     },
     "execution_count": 91,
     "metadata": {},
     "output_type": "execute_result"
    }
   ],
   "source": [
    "in_sample_errors"
   ]
  },
  {
   "cell_type": "code",
   "execution_count": 92,
   "metadata": {},
   "outputs": [
    {
     "data": {
      "text/plain": [
       "[11.838788687574148,\n",
       " 5.486727463769595,\n",
       " 0.9113489343779012,\n",
       " 0.7130311163959843,\n",
       " 0.8717189563109937,\n",
       " 21.29419041692999]"
      ]
     },
     "execution_count": 92,
     "metadata": {},
     "output_type": "execute_result"
    }
   ],
   "source": [
    "validate_errors"
   ]
  },
  {
   "cell_type": "code",
   "execution_count": null,
   "metadata": {},
   "outputs": [],
   "source": []
  },
  {
   "cell_type": "code",
   "execution_count": null,
   "metadata": {},
   "outputs": [],
   "source": []
  },
  {
   "cell_type": "code",
   "execution_count": 87,
   "metadata": {},
   "outputs": [
    {
     "data": {
      "text/plain": [
       "[0.2370578840199766,\n",
       " 0.7811146245053546,\n",
       " 1.0190072903758782,\n",
       " 1.016142478431722,\n",
       " 0.42676193893518466,\n",
       " 0.1836083240505933]"
      ]
     },
     "execution_count": 87,
     "metadata": {},
     "output_type": "execute_result"
    }
   ],
   "source": [
    "in_sample_errors"
   ]
  },
  {
   "cell_type": "code",
   "execution_count": 88,
   "metadata": {},
   "outputs": [
    {
     "data": {
      "text/plain": [
       "[2.0168786758030763,\n",
       " 0.9612326153195412,\n",
       " 0.25560382185582425,\n",
       " 0.1668423596753963,\n",
       " 0.26633993335218814,\n",
       " 0.7148568273809066]"
      ]
     },
     "execution_count": 88,
     "metadata": {},
     "output_type": "execute_result"
    }
   ],
   "source": [
    "validate_errors"
   ]
  },
  {
   "cell_type": "code",
   "execution_count": null,
   "metadata": {},
   "outputs": [],
   "source": []
  },
  {
   "cell_type": "code",
   "execution_count": null,
   "metadata": {},
   "outputs": [],
   "source": []
  },
  {
   "cell_type": "code",
   "execution_count": null,
   "metadata": {},
   "outputs": [],
   "source": []
  },
  {
   "cell_type": "code",
   "execution_count": null,
   "metadata": {},
   "outputs": [],
   "source": []
  },
  {
   "cell_type": "markdown",
   "metadata": {},
   "source": [
    "## TODO\n",
    "* create score from rolling fits\n",
    "* add shop 'bouginess' score\n",
    "* add which month is this feature"
   ]
  }
 ],
 "metadata": {
  "kernelspec": {
   "display_name": "Python 3",
   "language": "python",
   "name": "python3"
  },
  "language_info": {
   "codemirror_mode": {
    "name": "ipython",
    "version": 3
   },
   "file_extension": ".py",
   "mimetype": "text/x-python",
   "name": "python",
   "nbconvert_exporter": "python",
   "pygments_lexer": "ipython3",
   "version": "3.8.3"
  }
 },
 "nbformat": 4,
 "nbformat_minor": 4
}
