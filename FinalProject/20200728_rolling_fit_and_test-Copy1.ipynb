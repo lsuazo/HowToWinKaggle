{
 "cells": [
  {
   "cell_type": "code",
   "execution_count": 1,
   "metadata": {},
   "outputs": [],
   "source": [
    "import os\n",
    "\n",
    "import pandas as pd\n",
    "import numpy as np\n",
    "import seaborn as sns\n",
    "import matplotlib.pyplot as plt\n",
    "\n",
    "from sklearn.ensemble import RandomForestRegressor\n",
    "\n",
    "%matplotlib inline"
   ]
  },
  {
   "cell_type": "code",
   "execution_count": 2,
   "metadata": {},
   "outputs": [],
   "source": [
    "import utilities"
   ]
  },
  {
   "cell_type": "code",
   "execution_count": 3,
   "metadata": {},
   "outputs": [],
   "source": [
    "from importlib import reload"
   ]
  },
  {
   "cell_type": "code",
   "execution_count": 4,
   "metadata": {},
   "outputs": [
    {
     "data": {
      "text/plain": [
       "<module 'utilities' from 'C:\\\\Users\\\\luisr\\\\SharedProjects\\\\HowToWinKaggle\\\\FinalProject\\\\utilities.py'>"
      ]
     },
     "execution_count": 4,
     "metadata": {},
     "output_type": "execute_result"
    }
   ],
   "source": [
    "reload(utilities)"
   ]
  },
  {
   "cell_type": "code",
   "execution_count": 5,
   "metadata": {},
   "outputs": [],
   "source": [
    "sales = utilities.load_and_preprocess()"
   ]
  },
  {
   "cell_type": "code",
   "execution_count": 7,
   "metadata": {},
   "outputs": [],
   "source": [
    "agg_sales = utilities.aggregate_monthly(sales)"
   ]
  },
  {
   "cell_type": "code",
   "execution_count": 9,
   "metadata": {},
   "outputs": [
    {
     "data": {
      "text/plain": [
       "31    99241\n",
       "25    87977\n",
       "54    70471\n",
       "28    64639\n",
       "57    59972\n",
       "Name: shop_id, dtype: int64"
      ]
     },
     "execution_count": 9,
     "metadata": {},
     "output_type": "execute_result"
    }
   ],
   "source": [
    "agg_sales.shop_id.value_counts().head()"
   ]
  },
  {
   "cell_type": "code",
   "execution_count": 51,
   "metadata": {},
   "outputs": [],
   "source": [
    "shop31 = agg_sales.query('shop_id == 31').copy()\n",
    "shop31 = shop31.pivot(index='item_id', columns='Month', values='item_cnt_month').fillna(0)"
   ]
  },
  {
   "cell_type": "code",
   "execution_count": 52,
   "metadata": {},
   "outputs": [
    {
     "data": {
      "text/html": [
       "<div>\n",
       "<style scoped>\n",
       "    .dataframe tbody tr th:only-of-type {\n",
       "        vertical-align: middle;\n",
       "    }\n",
       "\n",
       "    .dataframe tbody tr th {\n",
       "        vertical-align: top;\n",
       "    }\n",
       "\n",
       "    .dataframe thead th {\n",
       "        text-align: right;\n",
       "    }\n",
       "</style>\n",
       "<table border=\"1\" class=\"dataframe\">\n",
       "  <thead>\n",
       "    <tr style=\"text-align: right;\">\n",
       "      <th>Month</th>\n",
       "      <th>2013-01</th>\n",
       "      <th>2013-02</th>\n",
       "      <th>2013-03</th>\n",
       "      <th>2013-04</th>\n",
       "      <th>2013-05</th>\n",
       "      <th>2013-06</th>\n",
       "      <th>2013-07</th>\n",
       "      <th>2013-08</th>\n",
       "      <th>2013-09</th>\n",
       "      <th>2013-10</th>\n",
       "      <th>...</th>\n",
       "      <th>2015-01</th>\n",
       "      <th>2015-02</th>\n",
       "      <th>2015-03</th>\n",
       "      <th>2015-04</th>\n",
       "      <th>2015-05</th>\n",
       "      <th>2015-06</th>\n",
       "      <th>2015-07</th>\n",
       "      <th>2015-08</th>\n",
       "      <th>2015-09</th>\n",
       "      <th>2015-10</th>\n",
       "    </tr>\n",
       "    <tr>\n",
       "      <th>item_id</th>\n",
       "      <th></th>\n",
       "      <th></th>\n",
       "      <th></th>\n",
       "      <th></th>\n",
       "      <th></th>\n",
       "      <th></th>\n",
       "      <th></th>\n",
       "      <th></th>\n",
       "      <th></th>\n",
       "      <th></th>\n",
       "      <th></th>\n",
       "      <th></th>\n",
       "      <th></th>\n",
       "      <th></th>\n",
       "      <th></th>\n",
       "      <th></th>\n",
       "      <th></th>\n",
       "      <th></th>\n",
       "      <th></th>\n",
       "      <th></th>\n",
       "      <th></th>\n",
       "    </tr>\n",
       "  </thead>\n",
       "  <tbody>\n",
       "    <tr>\n",
       "      <th>26</th>\n",
       "      <td>0.0</td>\n",
       "      <td>0.0</td>\n",
       "      <td>0.0</td>\n",
       "      <td>0.0</td>\n",
       "      <td>0.0</td>\n",
       "      <td>0.0</td>\n",
       "      <td>0.0</td>\n",
       "      <td>0.0</td>\n",
       "      <td>0.0</td>\n",
       "      <td>0.0</td>\n",
       "      <td>...</td>\n",
       "      <td>0.0</td>\n",
       "      <td>0.0</td>\n",
       "      <td>0.0</td>\n",
       "      <td>0.0</td>\n",
       "      <td>0.0</td>\n",
       "      <td>0.0</td>\n",
       "      <td>0.0</td>\n",
       "      <td>0.0</td>\n",
       "      <td>0.0</td>\n",
       "      <td>0.0</td>\n",
       "    </tr>\n",
       "    <tr>\n",
       "      <th>27</th>\n",
       "      <td>1.0</td>\n",
       "      <td>0.0</td>\n",
       "      <td>0.0</td>\n",
       "      <td>0.0</td>\n",
       "      <td>0.0</td>\n",
       "      <td>0.0</td>\n",
       "      <td>0.0</td>\n",
       "      <td>0.0</td>\n",
       "      <td>0.0</td>\n",
       "      <td>0.0</td>\n",
       "      <td>...</td>\n",
       "      <td>0.0</td>\n",
       "      <td>0.0</td>\n",
       "      <td>0.0</td>\n",
       "      <td>0.0</td>\n",
       "      <td>0.0</td>\n",
       "      <td>0.0</td>\n",
       "      <td>0.0</td>\n",
       "      <td>0.0</td>\n",
       "      <td>0.0</td>\n",
       "      <td>0.0</td>\n",
       "    </tr>\n",
       "    <tr>\n",
       "      <th>28</th>\n",
       "      <td>3.0</td>\n",
       "      <td>0.0</td>\n",
       "      <td>0.0</td>\n",
       "      <td>0.0</td>\n",
       "      <td>0.0</td>\n",
       "      <td>0.0</td>\n",
       "      <td>0.0</td>\n",
       "      <td>1.0</td>\n",
       "      <td>0.0</td>\n",
       "      <td>1.0</td>\n",
       "      <td>...</td>\n",
       "      <td>0.0</td>\n",
       "      <td>0.0</td>\n",
       "      <td>0.0</td>\n",
       "      <td>0.0</td>\n",
       "      <td>0.0</td>\n",
       "      <td>0.0</td>\n",
       "      <td>0.0</td>\n",
       "      <td>0.0</td>\n",
       "      <td>0.0</td>\n",
       "      <td>0.0</td>\n",
       "    </tr>\n",
       "    <tr>\n",
       "      <th>29</th>\n",
       "      <td>2.0</td>\n",
       "      <td>0.0</td>\n",
       "      <td>0.0</td>\n",
       "      <td>0.0</td>\n",
       "      <td>0.0</td>\n",
       "      <td>0.0</td>\n",
       "      <td>1.0</td>\n",
       "      <td>0.0</td>\n",
       "      <td>0.0</td>\n",
       "      <td>0.0</td>\n",
       "      <td>...</td>\n",
       "      <td>0.0</td>\n",
       "      <td>0.0</td>\n",
       "      <td>0.0</td>\n",
       "      <td>0.0</td>\n",
       "      <td>0.0</td>\n",
       "      <td>0.0</td>\n",
       "      <td>0.0</td>\n",
       "      <td>0.0</td>\n",
       "      <td>0.0</td>\n",
       "      <td>0.0</td>\n",
       "    </tr>\n",
       "    <tr>\n",
       "      <th>30</th>\n",
       "      <td>0.0</td>\n",
       "      <td>112.0</td>\n",
       "      <td>65.0</td>\n",
       "      <td>13.0</td>\n",
       "      <td>10.0</td>\n",
       "      <td>3.0</td>\n",
       "      <td>4.0</td>\n",
       "      <td>1.0</td>\n",
       "      <td>4.0</td>\n",
       "      <td>2.0</td>\n",
       "      <td>...</td>\n",
       "      <td>1.0</td>\n",
       "      <td>1.0</td>\n",
       "      <td>1.0</td>\n",
       "      <td>0.0</td>\n",
       "      <td>0.0</td>\n",
       "      <td>0.0</td>\n",
       "      <td>0.0</td>\n",
       "      <td>0.0</td>\n",
       "      <td>0.0</td>\n",
       "      <td>1.0</td>\n",
       "    </tr>\n",
       "    <tr>\n",
       "      <th>...</th>\n",
       "      <td>...</td>\n",
       "      <td>...</td>\n",
       "      <td>...</td>\n",
       "      <td>...</td>\n",
       "      <td>...</td>\n",
       "      <td>...</td>\n",
       "      <td>...</td>\n",
       "      <td>...</td>\n",
       "      <td>...</td>\n",
       "      <td>...</td>\n",
       "      <td>...</td>\n",
       "      <td>...</td>\n",
       "      <td>...</td>\n",
       "      <td>...</td>\n",
       "      <td>...</td>\n",
       "      <td>...</td>\n",
       "      <td>...</td>\n",
       "      <td>...</td>\n",
       "      <td>...</td>\n",
       "      <td>...</td>\n",
       "      <td>...</td>\n",
       "    </tr>\n",
       "    <tr>\n",
       "      <th>22160</th>\n",
       "      <td>1.0</td>\n",
       "      <td>2.0</td>\n",
       "      <td>2.0</td>\n",
       "      <td>0.0</td>\n",
       "      <td>1.0</td>\n",
       "      <td>2.0</td>\n",
       "      <td>0.0</td>\n",
       "      <td>1.0</td>\n",
       "      <td>1.0</td>\n",
       "      <td>0.0</td>\n",
       "      <td>...</td>\n",
       "      <td>0.0</td>\n",
       "      <td>0.0</td>\n",
       "      <td>0.0</td>\n",
       "      <td>0.0</td>\n",
       "      <td>0.0</td>\n",
       "      <td>0.0</td>\n",
       "      <td>0.0</td>\n",
       "      <td>0.0</td>\n",
       "      <td>0.0</td>\n",
       "      <td>0.0</td>\n",
       "    </tr>\n",
       "    <tr>\n",
       "      <th>22162</th>\n",
       "      <td>0.0</td>\n",
       "      <td>0.0</td>\n",
       "      <td>0.0</td>\n",
       "      <td>0.0</td>\n",
       "      <td>0.0</td>\n",
       "      <td>0.0</td>\n",
       "      <td>0.0</td>\n",
       "      <td>0.0</td>\n",
       "      <td>0.0</td>\n",
       "      <td>0.0</td>\n",
       "      <td>...</td>\n",
       "      <td>0.0</td>\n",
       "      <td>32.0</td>\n",
       "      <td>25.0</td>\n",
       "      <td>7.0</td>\n",
       "      <td>2.0</td>\n",
       "      <td>4.0</td>\n",
       "      <td>4.0</td>\n",
       "      <td>5.0</td>\n",
       "      <td>0.0</td>\n",
       "      <td>1.0</td>\n",
       "    </tr>\n",
       "    <tr>\n",
       "      <th>22163</th>\n",
       "      <td>0.0</td>\n",
       "      <td>0.0</td>\n",
       "      <td>0.0</td>\n",
       "      <td>0.0</td>\n",
       "      <td>0.0</td>\n",
       "      <td>0.0</td>\n",
       "      <td>0.0</td>\n",
       "      <td>0.0</td>\n",
       "      <td>0.0</td>\n",
       "      <td>0.0</td>\n",
       "      <td>...</td>\n",
       "      <td>0.0</td>\n",
       "      <td>0.0</td>\n",
       "      <td>0.0</td>\n",
       "      <td>0.0</td>\n",
       "      <td>0.0</td>\n",
       "      <td>0.0</td>\n",
       "      <td>0.0</td>\n",
       "      <td>8.0</td>\n",
       "      <td>5.0</td>\n",
       "      <td>6.0</td>\n",
       "    </tr>\n",
       "    <tr>\n",
       "      <th>22164</th>\n",
       "      <td>0.0</td>\n",
       "      <td>0.0</td>\n",
       "      <td>0.0</td>\n",
       "      <td>0.0</td>\n",
       "      <td>0.0</td>\n",
       "      <td>0.0</td>\n",
       "      <td>0.0</td>\n",
       "      <td>0.0</td>\n",
       "      <td>0.0</td>\n",
       "      <td>0.0</td>\n",
       "      <td>...</td>\n",
       "      <td>0.0</td>\n",
       "      <td>24.0</td>\n",
       "      <td>8.0</td>\n",
       "      <td>2.0</td>\n",
       "      <td>3.0</td>\n",
       "      <td>-1.0</td>\n",
       "      <td>1.0</td>\n",
       "      <td>5.0</td>\n",
       "      <td>1.0</td>\n",
       "      <td>1.0</td>\n",
       "    </tr>\n",
       "    <tr>\n",
       "      <th>22167</th>\n",
       "      <td>0.0</td>\n",
       "      <td>0.0</td>\n",
       "      <td>0.0</td>\n",
       "      <td>0.0</td>\n",
       "      <td>0.0</td>\n",
       "      <td>0.0</td>\n",
       "      <td>0.0</td>\n",
       "      <td>0.0</td>\n",
       "      <td>2.0</td>\n",
       "      <td>11.0</td>\n",
       "      <td>...</td>\n",
       "      <td>1.0</td>\n",
       "      <td>1.0</td>\n",
       "      <td>2.0</td>\n",
       "      <td>2.0</td>\n",
       "      <td>2.0</td>\n",
       "      <td>1.0</td>\n",
       "      <td>2.0</td>\n",
       "      <td>1.0</td>\n",
       "      <td>0.0</td>\n",
       "      <td>0.0</td>\n",
       "    </tr>\n",
       "  </tbody>\n",
       "</table>\n",
       "<p>14416 rows × 34 columns</p>\n",
       "</div>"
      ],
      "text/plain": [
       "Month    2013-01  2013-02  2013-03  2013-04  2013-05  2013-06  2013-07  \\\n",
       "item_id                                                                  \n",
       "26           0.0      0.0      0.0      0.0      0.0      0.0      0.0   \n",
       "27           1.0      0.0      0.0      0.0      0.0      0.0      0.0   \n",
       "28           3.0      0.0      0.0      0.0      0.0      0.0      0.0   \n",
       "29           2.0      0.0      0.0      0.0      0.0      0.0      1.0   \n",
       "30           0.0    112.0     65.0     13.0     10.0      3.0      4.0   \n",
       "...          ...      ...      ...      ...      ...      ...      ...   \n",
       "22160        1.0      2.0      2.0      0.0      1.0      2.0      0.0   \n",
       "22162        0.0      0.0      0.0      0.0      0.0      0.0      0.0   \n",
       "22163        0.0      0.0      0.0      0.0      0.0      0.0      0.0   \n",
       "22164        0.0      0.0      0.0      0.0      0.0      0.0      0.0   \n",
       "22167        0.0      0.0      0.0      0.0      0.0      0.0      0.0   \n",
       "\n",
       "Month    2013-08  2013-09  2013-10  ...  2015-01  2015-02  2015-03  2015-04  \\\n",
       "item_id                             ...                                       \n",
       "26           0.0      0.0      0.0  ...      0.0      0.0      0.0      0.0   \n",
       "27           0.0      0.0      0.0  ...      0.0      0.0      0.0      0.0   \n",
       "28           1.0      0.0      1.0  ...      0.0      0.0      0.0      0.0   \n",
       "29           0.0      0.0      0.0  ...      0.0      0.0      0.0      0.0   \n",
       "30           1.0      4.0      2.0  ...      1.0      1.0      1.0      0.0   \n",
       "...          ...      ...      ...  ...      ...      ...      ...      ...   \n",
       "22160        1.0      1.0      0.0  ...      0.0      0.0      0.0      0.0   \n",
       "22162        0.0      0.0      0.0  ...      0.0     32.0     25.0      7.0   \n",
       "22163        0.0      0.0      0.0  ...      0.0      0.0      0.0      0.0   \n",
       "22164        0.0      0.0      0.0  ...      0.0     24.0      8.0      2.0   \n",
       "22167        0.0      2.0     11.0  ...      1.0      1.0      2.0      2.0   \n",
       "\n",
       "Month    2015-05  2015-06  2015-07  2015-08  2015-09  2015-10  \n",
       "item_id                                                        \n",
       "26           0.0      0.0      0.0      0.0      0.0      0.0  \n",
       "27           0.0      0.0      0.0      0.0      0.0      0.0  \n",
       "28           0.0      0.0      0.0      0.0      0.0      0.0  \n",
       "29           0.0      0.0      0.0      0.0      0.0      0.0  \n",
       "30           0.0      0.0      0.0      0.0      0.0      1.0  \n",
       "...          ...      ...      ...      ...      ...      ...  \n",
       "22160        0.0      0.0      0.0      0.0      0.0      0.0  \n",
       "22162        2.0      4.0      4.0      5.0      0.0      1.0  \n",
       "22163        0.0      0.0      0.0      8.0      5.0      6.0  \n",
       "22164        3.0     -1.0      1.0      5.0      1.0      1.0  \n",
       "22167        2.0      1.0      2.0      1.0      0.0      0.0  \n",
       "\n",
       "[14416 rows x 34 columns]"
      ]
     },
     "execution_count": 52,
     "metadata": {},
     "output_type": "execute_result"
    }
   ],
   "source": [
    "shop31"
   ]
  },
  {
   "cell_type": "code",
   "execution_count": 53,
   "metadata": {},
   "outputs": [],
   "source": [
    "FIT_MONTHS = 24"
   ]
  },
  {
   "cell_type": "code",
   "execution_count": 108,
   "metadata": {},
   "outputs": [],
   "source": [
    "Xs = []\n",
    "Ys = []\n",
    "for i in range(0,9):\n",
    "    Xs.append(shop31.iloc[:,i:FIT_MONTHS+i].values)\n",
    "    Ys.append(shop31.iloc[:,FIT_MONTHS+i].values)"
   ]
  },
  {
   "cell_type": "code",
   "execution_count": 109,
   "metadata": {},
   "outputs": [],
   "source": [
    "Y = np.hstack(Ys)\n",
    "X = np.row_stack(Xs)"
   ]
  },
  {
   "cell_type": "code",
   "execution_count": 110,
   "metadata": {},
   "outputs": [
    {
     "data": {
      "text/plain": [
       "((129744, 24), (129744,))"
      ]
     },
     "execution_count": 110,
     "metadata": {},
     "output_type": "execute_result"
    }
   ],
   "source": [
    "X.shape, Y.shape"
   ]
  },
  {
   "cell_type": "code",
   "execution_count": 111,
   "metadata": {},
   "outputs": [],
   "source": []
  },
  {
   "cell_type": "code",
   "execution_count": 112,
   "metadata": {},
   "outputs": [],
   "source": [
    "rf = RandomForestRegressor(n_estimators=500, max_depth=5)"
   ]
  },
  {
   "cell_type": "code",
   "execution_count": 113,
   "metadata": {},
   "outputs": [],
   "source": [
    "fitted_rf = rf.fit(X, Y)"
   ]
  },
  {
   "cell_type": "code",
   "execution_count": 119,
   "metadata": {},
   "outputs": [],
   "source": [
    "X_test = shop31.iloc[:,-FIT_MONTHS - 1: -1].values\n",
    "Y_test = shop31.iloc[:,-1].values"
   ]
  },
  {
   "cell_type": "code",
   "execution_count": 123,
   "metadata": {},
   "outputs": [],
   "source": [
    "y_pred = fitted_rf.predict(X_test)"
   ]
  },
  {
   "cell_type": "code",
   "execution_count": 126,
   "metadata": {},
   "outputs": [
    {
     "data": {
      "text/plain": [
       "<matplotlib.collections.PathCollection at 0x207ed057df0>"
      ]
     },
     "execution_count": 126,
     "metadata": {},
     "output_type": "execute_result"
    },
    {
     "data": {
      "image/png": "[encoded data removed]",
      "text/plain": [
       "<Figure size 432x288 with 1 Axes>"
      ]
     },
     "metadata": {
      "needs_background": "light"
     },
     "output_type": "display_data"
    }
   ],
   "source": [
    "plt.scatter(Y_test, y_pred)"
   ]
  },
  {
   "cell_type": "markdown",
   "metadata": {},
   "source": [
    "## Create model/pred for each shop independently"
   ]
  },
  {
   "cell_type": "code",
   "execution_count": 111,
   "metadata": {},
   "outputs": [],
   "source": [
    "from sklearn.ensemble import RandomForestRegressor"
   ]
  },
  {
   "cell_type": "code",
   "execution_count": 53,
   "metadata": {},
   "outputs": [],
   "source": [
    "FIT_MONTHS = 24"
   ]
  },
  {
   "cell_type": "code",
   "execution_count": 144,
   "metadata": {},
   "outputs": [],
   "source": [
    "shops = list(agg_sales.shop_id.unique())"
   ]
  },
  {
   "cell_type": "code",
   "execution_count": 178,
   "metadata": {},
   "outputs": [],
   "source": [
    "def create_windowed_XY(df, fit_cols):\n",
    "    total_months = df.shape[1]\n",
    "    total_pred_months = total_months - fit_cols\n",
    "    if total_pred_months <= 0:\n",
    "        return (None, None)\n",
    "    \n",
    "    Xs = []\n",
    "    Ys = []\n",
    "    for i in range(0,total_pred_months):\n",
    "        Xs.append(single_shop.iloc[:,i:FIT_MONTHS+i].values)\n",
    "        Ys.append(single_shop.iloc[:,FIT_MONTHS+i].values)\n",
    "\n",
    "    Y = np.hstack(Ys)\n",
    "    X = np.row_stack(Xs)\n",
    "    return X,Y\n",
    "    "
   ]
  },
  {
   "cell_type": "code",
   "execution_count": 185,
   "metadata": {},
   "outputs": [
    {
     "name": "stdout",
     "output_type": "stream",
     "text": [
      "working on shop 0\n",
      "working on shop 1\n",
      "working on shop 2\n",
      "working on shop 3\n",
      "working on shop 4\n",
      "working on shop 6\n",
      "working on shop 7\n",
      "working on shop 8\n",
      "working on shop 10\n",
      "working on shop 12\n",
      "working on shop 13\n",
      "working on shop 14\n",
      "working on shop 15\n",
      "working on shop 16\n",
      "working on shop 18\n",
      "working on shop 19\n",
      "working on shop 21\n",
      "working on shop 22\n",
      "working on shop 23\n",
      "working on shop 24\n",
      "working on shop 25\n",
      "working on shop 26\n",
      "working on shop 27\n",
      "working on shop 28\n",
      "working on shop 29\n",
      "working on shop 30\n",
      "working on shop 31\n",
      "working on shop 32\n",
      "working on shop 35\n",
      "working on shop 37\n",
      "working on shop 38\n",
      "working on shop 41\n",
      "working on shop 42\n",
      "working on shop 43\n",
      "working on shop 44\n",
      "working on shop 45\n",
      "working on shop 46\n",
      "working on shop 47\n",
      "working on shop 50\n",
      "working on shop 51\n",
      "working on shop 52\n",
      "working on shop 53\n",
      "working on shop 54\n",
      "working on shop 56\n",
      "working on shop 59\n",
      "working on shop 5\n",
      "working on shop 57\n",
      "working on shop 58\n",
      "working on shop 55\n",
      "working on shop 17\n",
      "working on shop 9\n",
      "working on shop 49\n",
      "working on shop 39\n",
      "working on shop 40\n",
      "working on shop 48\n",
      "working on shop 34\n",
      "working on shop 33\n",
      "working on shop 20\n",
      "working on shop 11\n",
      "working on shop 36\n",
      "Wall time: 3min 31s\n"
     ]
    }
   ],
   "source": [
    "%%time\n",
    "results = []\n",
    "for shop_num in shops:\n",
    "    print('working on shop {}'.format(shop_num))\n",
    "    \n",
    "    single_shop = agg_sales.query('shop_id == @shop_num').pivot(index='item_id', columns='Month', values='item_cnt_month').fillna(0)\n",
    "    X, Y = create_windowed_XY(single_shop, FIT_MONTHS)\n",
    "    if X is None:\n",
    "        continue\n",
    "\n",
    "    rf = RandomForestRegressor(n_estimators=100, max_depth=5)\n",
    "    fitted_rf = rf.fit(X, Y)\n",
    "\n",
    "    X_final = single_shop.iloc[:,-FIT_MONTHS:].values\n",
    "    y_pred = fitted_rf.predict(X_final)\n",
    "\n",
    "    single_shop_res = pd.DataFrame({'pred':y_pred, 'item_id':single_shop.index, 'shop_id':shop_num})\n",
    "    results.append(single_shop_res)"
   ]
  },
  {
   "cell_type": "code",
   "execution_count": 186,
   "metadata": {},
   "outputs": [],
   "source": [
    "final_results = pd.concat(results)"
   ]
  },
  {
   "cell_type": "code",
   "execution_count": 189,
   "metadata": {},
   "outputs": [],
   "source": [
    "test = pd.read_csv('data/test.csv')"
   ]
  },
  {
   "cell_type": "code",
   "execution_count": 191,
   "metadata": {},
   "outputs": [
    {
     "data": {
      "text/html": [
       "<div>\n",
       "<style scoped>\n",
       "    .dataframe tbody tr th:only-of-type {\n",
       "        vertical-align: middle;\n",
       "    }\n",
       "\n",
       "    .dataframe tbody tr th {\n",
       "        vertical-align: top;\n",
       "    }\n",
       "\n",
       "    .dataframe thead th {\n",
       "        text-align: right;\n",
       "    }\n",
       "</style>\n",
       "<table border=\"1\" class=\"dataframe\">\n",
       "  <thead>\n",
       "    <tr style=\"text-align: right;\">\n",
       "      <th></th>\n",
       "      <th>ID</th>\n",
       "      <th>shop_id</th>\n",
       "      <th>item_id</th>\n",
       "    </tr>\n",
       "  </thead>\n",
       "  <tbody>\n",
       "    <tr>\n",
       "      <th>0</th>\n",
       "      <td>0</td>\n",
       "      <td>5</td>\n",
       "      <td>5037</td>\n",
       "    </tr>\n",
       "    <tr>\n",
       "      <th>1</th>\n",
       "      <td>1</td>\n",
       "      <td>5</td>\n",
       "      <td>5320</td>\n",
       "    </tr>\n",
       "    <tr>\n",
       "      <th>2</th>\n",
       "      <td>2</td>\n",
       "      <td>5</td>\n",
       "      <td>5233</td>\n",
       "    </tr>\n",
       "    <tr>\n",
       "      <th>3</th>\n",
       "      <td>3</td>\n",
       "      <td>5</td>\n",
       "      <td>5232</td>\n",
       "    </tr>\n",
       "    <tr>\n",
       "      <th>4</th>\n",
       "      <td>4</td>\n",
       "      <td>5</td>\n",
       "      <td>5268</td>\n",
       "    </tr>\n",
       "    <tr>\n",
       "      <th>...</th>\n",
       "      <td>...</td>\n",
       "      <td>...</td>\n",
       "      <td>...</td>\n",
       "    </tr>\n",
       "    <tr>\n",
       "      <th>214195</th>\n",
       "      <td>214195</td>\n",
       "      <td>45</td>\n",
       "      <td>18454</td>\n",
       "    </tr>\n",
       "    <tr>\n",
       "      <th>214196</th>\n",
       "      <td>214196</td>\n",
       "      <td>45</td>\n",
       "      <td>16188</td>\n",
       "    </tr>\n",
       "    <tr>\n",
       "      <th>214197</th>\n",
       "      <td>214197</td>\n",
       "      <td>45</td>\n",
       "      <td>15757</td>\n",
       "    </tr>\n",
       "    <tr>\n",
       "      <th>214198</th>\n",
       "      <td>214198</td>\n",
       "      <td>45</td>\n",
       "      <td>19648</td>\n",
       "    </tr>\n",
       "    <tr>\n",
       "      <th>214199</th>\n",
       "      <td>214199</td>\n",
       "      <td>45</td>\n",
       "      <td>969</td>\n",
       "    </tr>\n",
       "  </tbody>\n",
       "</table>\n",
       "<p>214200 rows × 3 columns</p>\n",
       "</div>"
      ],
      "text/plain": [
       "            ID  shop_id  item_id\n",
       "0            0        5     5037\n",
       "1            1        5     5320\n",
       "2            2        5     5233\n",
       "3            3        5     5232\n",
       "4            4        5     5268\n",
       "...        ...      ...      ...\n",
       "214195  214195       45    18454\n",
       "214196  214196       45    16188\n",
       "214197  214197       45    15757\n",
       "214198  214198       45    19648\n",
       "214199  214199       45      969\n",
       "\n",
       "[214200 rows x 3 columns]"
      ]
     },
     "execution_count": 191,
     "metadata": {},
     "output_type": "execute_result"
    }
   ],
   "source": [
    "test"
   ]
  },
  {
   "cell_type": "code",
   "execution_count": 190,
   "metadata": {},
   "outputs": [
    {
     "data": {
      "text/html": [
       "<div>\n",
       "<style scoped>\n",
       "    .dataframe tbody tr th:only-of-type {\n",
       "        vertical-align: middle;\n",
       "    }\n",
       "\n",
       "    .dataframe tbody tr th {\n",
       "        vertical-align: top;\n",
       "    }\n",
       "\n",
       "    .dataframe thead th {\n",
       "        text-align: right;\n",
       "    }\n",
       "</style>\n",
       "<table border=\"1\" class=\"dataframe\">\n",
       "  <thead>\n",
       "    <tr style=\"text-align: right;\">\n",
       "      <th></th>\n",
       "      <th>pred</th>\n",
       "      <th>item_id</th>\n",
       "      <th>shop_id</th>\n",
       "    </tr>\n",
       "  </thead>\n",
       "  <tbody>\n",
       "    <tr>\n",
       "      <th>0</th>\n",
       "      <td>0.082204</td>\n",
       "      <td>27</td>\n",
       "      <td>2</td>\n",
       "    </tr>\n",
       "    <tr>\n",
       "      <th>1</th>\n",
       "      <td>0.082204</td>\n",
       "      <td>30</td>\n",
       "      <td>2</td>\n",
       "    </tr>\n",
       "    <tr>\n",
       "      <th>2</th>\n",
       "      <td>0.358458</td>\n",
       "      <td>31</td>\n",
       "      <td>2</td>\n",
       "    </tr>\n",
       "    <tr>\n",
       "      <th>3</th>\n",
       "      <td>0.086370</td>\n",
       "      <td>32</td>\n",
       "      <td>2</td>\n",
       "    </tr>\n",
       "    <tr>\n",
       "      <th>4</th>\n",
       "      <td>0.318713</td>\n",
       "      <td>33</td>\n",
       "      <td>2</td>\n",
       "    </tr>\n",
       "    <tr>\n",
       "      <th>...</th>\n",
       "      <td>...</td>\n",
       "      <td>...</td>\n",
       "      <td>...</td>\n",
       "    </tr>\n",
       "    <tr>\n",
       "      <th>1980</th>\n",
       "      <td>0.393249</td>\n",
       "      <td>21995</td>\n",
       "      <td>55</td>\n",
       "    </tr>\n",
       "    <tr>\n",
       "      <th>1981</th>\n",
       "      <td>0.227854</td>\n",
       "      <td>22078</td>\n",
       "      <td>55</td>\n",
       "    </tr>\n",
       "    <tr>\n",
       "      <th>1982</th>\n",
       "      <td>0.227854</td>\n",
       "      <td>22080</td>\n",
       "      <td>55</td>\n",
       "    </tr>\n",
       "    <tr>\n",
       "      <th>1983</th>\n",
       "      <td>0.227854</td>\n",
       "      <td>22165</td>\n",
       "      <td>55</td>\n",
       "    </tr>\n",
       "    <tr>\n",
       "      <th>1984</th>\n",
       "      <td>8.059136</td>\n",
       "      <td>22166</td>\n",
       "      <td>55</td>\n",
       "    </tr>\n",
       "  </tbody>\n",
       "</table>\n",
       "<p>380520 rows × 3 columns</p>\n",
       "</div>"
      ],
      "text/plain": [
       "          pred  item_id  shop_id\n",
       "0     0.082204       27        2\n",
       "1     0.082204       30        2\n",
       "2     0.358458       31        2\n",
       "3     0.086370       32        2\n",
       "4     0.318713       33        2\n",
       "...        ...      ...      ...\n",
       "1980  0.393249    21995       55\n",
       "1981  0.227854    22078       55\n",
       "1982  0.227854    22080       55\n",
       "1983  0.227854    22165       55\n",
       "1984  8.059136    22166       55\n",
       "\n",
       "[380520 rows x 3 columns]"
      ]
     },
     "execution_count": 190,
     "metadata": {},
     "output_type": "execute_result"
    }
   ],
   "source": [
    "final_results"
   ]
  },
  {
   "cell_type": "code",
   "execution_count": 199,
   "metadata": {},
   "outputs": [],
   "source": [
    "submission = pd.merge(test, final_results, how='left').fillna(0).set_index('ID').pred.rename('item_cnt_month')"
   ]
  },
  {
   "cell_type": "code",
   "execution_count": 201,
   "metadata": {},
   "outputs": [],
   "source": [
    "submission.to_csv('individual_rf_fit_months_24.csv')"
   ]
  },
  {
   "cell_type": "code",
   "execution_count": null,
   "metadata": {},
   "outputs": [],
   "source": []
  },
  {
   "cell_type": "markdown",
   "metadata": {},
   "source": [
    "## DO Cross Validation"
   ]
  },
  {
   "cell_type": "code",
   "execution_count": 255,
   "metadata": {},
   "outputs": [],
   "source": [
    "from sklearn.metrics import mean_squared_error\n",
    "from sklearn.ensemble import RandomForestRegressor"
   ]
  },
  {
   "cell_type": "code",
   "execution_count": 256,
   "metadata": {},
   "outputs": [],
   "source": [
    "reshaped = agg_sales.set_index(['Month','shop_id','item_id']).item_cnt_month.unstack(level=0)"
   ]
  },
  {
   "cell_type": "code",
   "execution_count": 257,
   "metadata": {},
   "outputs": [
    {
     "data": {
      "text/plain": [
       "(424124, 34)"
      ]
     },
     "execution_count": 257,
     "metadata": {},
     "output_type": "execute_result"
    }
   ],
   "source": [
    "reshaped.shape"
   ]
  },
  {
   "cell_type": "markdown",
   "metadata": {},
   "source": [
    "#### TEST one model per shop vs one model for all"
   ]
  },
  {
   "cell_type": "code",
   "execution_count": 258,
   "metadata": {},
   "outputs": [],
   "source": [
    "FIT_MONTHS = 24"
   ]
  },
  {
   "cell_type": "code",
   "execution_count": 259,
   "metadata": {},
   "outputs": [],
   "source": [
    "i = 0"
   ]
  },
  {
   "cell_type": "code",
   "execution_count": 260,
   "metadata": {},
   "outputs": [],
   "source": [
    "X_train = reshaped.iloc[:,i:i+FIT_MONTHS].fillna(0)\n",
    "Y_train = reshaped.iloc[:, i+FIT_MONTHS].fillna(0)"
   ]
  },
  {
   "cell_type": "code",
   "execution_count": 261,
   "metadata": {},
   "outputs": [],
   "source": [
    "X_test = reshaped.iloc[:,i+1:i+FIT_MONTHS+1].fillna(0)\n",
    "Y_test = reshaped.iloc[:, i+FIT_MONTHS+1].fillna(0)"
   ]
  },
  {
   "cell_type": "code",
   "execution_count": 262,
   "metadata": {},
   "outputs": [],
   "source": [
    "shops = sorted(reshaped.index.levels[0])"
   ]
  },
  {
   "cell_type": "code",
   "execution_count": 270,
   "metadata": {},
   "outputs": [
    {
     "name": "stdout",
     "output_type": "stream",
     "text": [
      "Wall time: 23.9 s\n"
     ]
    }
   ],
   "source": [
    "%%time\n",
    "\n",
    "in_sample_rmse = []\n",
    "in_sample_sse = []\n",
    "out_sample_rmse = []\n",
    "out_sample_sse = []\n",
    "in_sample_samples = []\n",
    "out_sample_samples = []\n",
    "\n",
    "for shop in shops:\n",
    "\n",
    "    X_train_shop = X_train.loc[shop]\n",
    "    Y_train_shop = Y_train.loc[shop]\n",
    "    \n",
    "    X_test_shop = X_test.loc[shop]\n",
    "    Y_test_shop = Y_test.loc[shop]\n",
    "\n",
    "    rf = RandomForestRegressor(n_estimators=100, max_depth=4)\n",
    "    \n",
    "    fitted_rf = rf.fit(X_train_shop, Y_train_shop)\n",
    "    y_train_shop_pred = fitted_rf.predict(X_train_shop)\n",
    "    \n",
    "    samples = len(Y_train_shop)\n",
    "    mse = mean_squared_error(Y_train_shop, y_train_shop_pred)\n",
    "    sse = mse*samples\n",
    "    rmse = np.sqrt(mse)\n",
    "\n",
    "    in_sample_samples.append(samples)\n",
    "    in_sample_rmse.append(rmse)\n",
    "    in_sample_sse.append(sse)\n",
    "    \n",
    "\n",
    "    y_test_shop_pred = fitted_rf.predict(X_test_shop)\n",
    "    \n",
    "    samples = len(Y_test_shop)\n",
    "    mse = mean_squared_error(Y_test_shop, y_test_shop_pred)\n",
    "    sse = mse*samples\n",
    "    rmse = np.sqrt(mse)\n",
    "    \n",
    "    out_sample_samples.append(samples)\n",
    "    out_sample_rmse.append(rmse)\n",
    "    out_sample_sse.append(sse)\n",
    "    "
   ]
  },
  {
   "cell_type": "code",
   "execution_count": 277,
   "metadata": {},
   "outputs": [],
   "source": [
    "errors = pd.DataFrame({'in_sample_rmse':in_sample_rmse, 'in_sample_sse':in_sample_sse, 'in_sample_samples':in_sample_samples, 'out_sample_rmse':out_sample_rmse, 'out_sample_sse':out_sample_sse, 'out_sample_samples':out_sample_samples})"
   ]
  },
  {
   "cell_type": "code",
   "execution_count": 278,
   "metadata": {},
   "outputs": [
    {
     "data": {
      "text/plain": [
       "in_sample_rmse     0.996087\n",
       "out_sample_rmse    1.245188\n",
       "dtype: float64"
      ]
     },
     "execution_count": 278,
     "metadata": {},
     "output_type": "execute_result"
    }
   ],
   "source": [
    "errors[['in_sample_rmse', 'out_sample_rmse']].mean()"
   ]
  },
  {
   "cell_type": "code",
   "execution_count": 281,
   "metadata": {},
   "outputs": [],
   "source": [
    "error_sums = errors[['in_sample_sse', 'in_sample_samples', 'out_sample_sse', 'out_sample_samples']].sum()"
   ]
  },
  {
   "cell_type": "code",
   "execution_count": 283,
   "metadata": {},
   "outputs": [
    {
     "data": {
      "text/plain": [
       "1.6592596680731493"
      ]
     },
     "execution_count": 283,
     "metadata": {},
     "output_type": "execute_result"
    }
   ],
   "source": [
    "np.sqrt(error_sums.in_sample_sse/error_sums.in_sample_samples)"
   ]
  },
  {
   "cell_type": "code",
   "execution_count": 284,
   "metadata": {},
   "outputs": [
    {
     "data": {
      "text/plain": [
       "2.062367670210427"
      ]
     },
     "execution_count": 284,
     "metadata": {},
     "output_type": "execute_result"
    }
   ],
   "source": [
    "np.sqrt(error_sums.out_sample_sse/error_sums.out_sample_samples)"
   ]
  },
  {
   "cell_type": "code",
   "execution_count": null,
   "metadata": {},
   "outputs": [],
   "source": []
  },
  {
   "cell_type": "markdown",
   "metadata": {},
   "source": [
    "#### Single RF"
   ]
  },
  {
   "cell_type": "code",
   "execution_count": 285,
   "metadata": {},
   "outputs": [],
   "source": [
    "i = 0\n",
    "rf = RandomForestRegressor(n_estimators=100, max_depth=4)"
   ]
  },
  {
   "cell_type": "code",
   "execution_count": 286,
   "metadata": {},
   "outputs": [
    {
     "name": "stdout",
     "output_type": "stream",
     "text": [
      "Wall time: 29 s\n"
     ]
    }
   ],
   "source": [
    "%%time\n",
    "rf_model = rf.fit(X_train,Y_train)"
   ]
  },
  {
   "cell_type": "code",
   "execution_count": 287,
   "metadata": {},
   "outputs": [],
   "source": [
    "y_train_pred = rf_model.predict(X_train)"
   ]
  },
  {
   "cell_type": "code",
   "execution_count": 288,
   "metadata": {},
   "outputs": [
    {
     "data": {
      "text/plain": [
       "1.760384071177777"
      ]
     },
     "execution_count": 288,
     "metadata": {},
     "output_type": "execute_result"
    }
   ],
   "source": [
    "is_rmse = np.sqrt(mean_squared_error(Y_train, y_train_pred))\n",
    "is_rmse"
   ]
  },
  {
   "cell_type": "code",
   "execution_count": 289,
   "metadata": {},
   "outputs": [],
   "source": [
    "y_test_pred = rf_model.predict(X_test)"
   ]
  },
  {
   "cell_type": "code",
   "execution_count": 290,
   "metadata": {},
   "outputs": [
    {
     "data": {
      "text/plain": [
       "2.2968173294813052"
      ]
     },
     "execution_count": 290,
     "metadata": {},
     "output_type": "execute_result"
    }
   ],
   "source": [
    "os_rmse = np.sqrt(mean_squared_error(Y_test, y_test_pred))\n",
    "os_rmse"
   ]
  },
  {
   "cell_type": "code",
   "execution_count": null,
   "metadata": {},
   "outputs": [],
   "source": []
  },
  {
   "cell_type": "markdown",
   "metadata": {},
   "source": [
    "### Multiple models - clipped predictors"
   ]
  },
  {
   "cell_type": "code",
   "execution_count": 292,
   "metadata": {},
   "outputs": [
    {
     "name": "stdout",
     "output_type": "stream",
     "text": [
      "Wall time: 24.4 s\n"
     ]
    }
   ],
   "source": [
    "%%time\n",
    "\n",
    "in_sample_rmse = []\n",
    "in_sample_sse = []\n",
    "out_sample_rmse = []\n",
    "out_sample_sse = []\n",
    "in_sample_samples = []\n",
    "out_sample_samples = []\n",
    "\n",
    "for shop in shops:\n",
    "\n",
    "    X_train_shop = np.clip(X_train.loc[shop], 0, 20)\n",
    "    Y_train_shop = Y_train.loc[shop]\n",
    "    \n",
    "    X_test_shop = np.clip(X_test.loc[shop],0 ,20)\n",
    "    Y_test_shop = Y_test.loc[shop]\n",
    "\n",
    "    rf = RandomForestRegressor(n_estimators=100, max_depth=4)\n",
    "    \n",
    "    fitted_rf = rf.fit(X_train_shop, Y_train_shop)\n",
    "    y_train_shop_pred = fitted_rf.predict(X_train_shop)\n",
    "    \n",
    "    samples = len(Y_train_shop)\n",
    "    mse = mean_squared_error(Y_train_shop, y_train_shop_pred)\n",
    "    sse = mse*samples\n",
    "    rmse = np.sqrt(mse)\n",
    "\n",
    "    in_sample_samples.append(samples)\n",
    "    in_sample_rmse.append(rmse)\n",
    "    in_sample_sse.append(sse)\n",
    "    \n",
    "\n",
    "    y_test_shop_pred = fitted_rf.predict(X_test_shop)\n",
    "    \n",
    "    samples = len(Y_test_shop)\n",
    "    mse = mean_squared_error(Y_test_shop, y_test_shop_pred)\n",
    "    sse = mse*samples\n",
    "    rmse = np.sqrt(mse)\n",
    "    \n",
    "    out_sample_samples.append(samples)\n",
    "    out_sample_rmse.append(rmse)\n",
    "    out_sample_sse.append(sse)\n",
    "    "
   ]
  },
  {
   "cell_type": "code",
   "execution_count": 293,
   "metadata": {},
   "outputs": [],
   "source": [
    "errors = pd.DataFrame({'in_sample_rmse':in_sample_rmse, 'in_sample_sse':in_sample_sse, 'in_sample_samples':in_sample_samples, 'out_sample_rmse':out_sample_rmse, 'out_sample_sse':out_sample_sse, 'out_sample_samples':out_sample_samples})"
   ]
  },
  {
   "cell_type": "code",
   "execution_count": 294,
   "metadata": {},
   "outputs": [
    {
     "data": {
      "text/plain": [
       "in_sample_rmse     1.105263\n",
       "out_sample_rmse    1.580177\n",
       "dtype: float64"
      ]
     },
     "execution_count": 294,
     "metadata": {},
     "output_type": "execute_result"
    }
   ],
   "source": [
    "errors[['in_sample_rmse', 'out_sample_rmse']].mean()"
   ]
  },
  {
   "cell_type": "code",
   "execution_count": 295,
   "metadata": {},
   "outputs": [],
   "source": [
    "error_sums = errors[['in_sample_sse', 'in_sample_samples', 'out_sample_sse', 'out_sample_samples']].sum()"
   ]
  },
  {
   "cell_type": "code",
   "execution_count": 296,
   "metadata": {},
   "outputs": [
    {
     "data": {
      "text/plain": [
       "2.0618431909937307"
      ]
     },
     "execution_count": 296,
     "metadata": {},
     "output_type": "execute_result"
    }
   ],
   "source": [
    "np.sqrt(error_sums.in_sample_sse/error_sums.in_sample_samples)"
   ]
  },
  {
   "cell_type": "code",
   "execution_count": 297,
   "metadata": {},
   "outputs": [
    {
     "data": {
      "text/plain": [
       "2.933374456979265"
      ]
     },
     "execution_count": 297,
     "metadata": {},
     "output_type": "execute_result"
    }
   ],
   "source": [
    "np.sqrt(error_sums.out_sample_sse/error_sums.out_sample_samples)"
   ]
  },
  {
   "cell_type": "code",
   "execution_count": null,
   "metadata": {},
   "outputs": [],
   "source": []
  },
  {
   "cell_type": "markdown",
   "metadata": {},
   "source": [
    "#### Single RF clipped predictors"
   ]
  },
  {
   "cell_type": "code",
   "execution_count": 298,
   "metadata": {},
   "outputs": [],
   "source": [
    "i = 0\n",
    "rf = RandomForestRegressor(n_estimators=100, max_depth=4)"
   ]
  },
  {
   "cell_type": "code",
   "execution_count": 299,
   "metadata": {},
   "outputs": [],
   "source": [
    "X_train_clipped = np.clip(X_train, 0 , 20)\n",
    "X_test_clipped = np.clip(X_test, 0 ,20)"
   ]
  },
  {
   "cell_type": "code",
   "execution_count": 300,
   "metadata": {},
   "outputs": [
    {
     "name": "stdout",
     "output_type": "stream",
     "text": [
      "Wall time: 29.2 s\n"
     ]
    }
   ],
   "source": [
    "%%time\n",
    "rf_model = rf.fit(X_train_clipped,Y_train)"
   ]
  },
  {
   "cell_type": "code",
   "execution_count": 301,
   "metadata": {},
   "outputs": [],
   "source": [
    "y_train_pred = rf_model.predict(X_train_clipped)"
   ]
  },
  {
   "cell_type": "code",
   "execution_count": 302,
   "metadata": {},
   "outputs": [
    {
     "data": {
      "text/plain": [
       "2.931739904613992"
      ]
     },
     "execution_count": 302,
     "metadata": {},
     "output_type": "execute_result"
    }
   ],
   "source": [
    "is_rmse = np.sqrt(mean_squared_error(Y_train, y_train_pred))\n",
    "is_rmse"
   ]
  },
  {
   "cell_type": "code",
   "execution_count": 303,
   "metadata": {},
   "outputs": [],
   "source": [
    "y_test_pred = rf_model.predict(X_test_clipped)"
   ]
  },
  {
   "cell_type": "code",
   "execution_count": 304,
   "metadata": {},
   "outputs": [
    {
     "data": {
      "text/plain": [
       "2.0044993350588003"
      ]
     },
     "execution_count": 304,
     "metadata": {},
     "output_type": "execute_result"
    }
   ],
   "source": [
    "os_rmse = np.sqrt(mean_squared_error(Y_test, y_test_pred))\n",
    "os_rmse"
   ]
  },
  {
   "cell_type": "code",
   "execution_count": null,
   "metadata": {},
   "outputs": [],
   "source": []
  },
  {
   "cell_type": "code",
   "execution_count": null,
   "metadata": {},
   "outputs": [],
   "source": []
  },
  {
   "cell_type": "code",
   "execution_count": null,
   "metadata": {},
   "outputs": [],
   "source": []
  },
  {
   "cell_type": "markdown",
   "metadata": {},
   "source": [
    "## Single RF Submission"
   ]
  },
  {
   "cell_type": "code",
   "execution_count": 246,
   "metadata": {},
   "outputs": [],
   "source": [
    "i = reshaped.shape[1]-25\n",
    "X_train = reshaped.iloc[:,i:i+FIT_MONTHS].fillna(0)\n",
    "Y_train = reshaped.iloc[:, i+FIT_MONTHS].fillna(0)\n",
    "rf = RandomForestRegressor(n_estimators=100, max_depth=4)"
   ]
  },
  {
   "cell_type": "code",
   "execution_count": 247,
   "metadata": {},
   "outputs": [
    {
     "name": "stdout",
     "output_type": "stream",
     "text": [
      "Wall time: 28.3 s\n"
     ]
    }
   ],
   "source": [
    "%%time\n",
    "rf_model = rf.fit(X,Y)"
   ]
  },
  {
   "cell_type": "code",
   "execution_count": 248,
   "metadata": {},
   "outputs": [],
   "source": [
    "y_pred = rf_model.predict(X)"
   ]
  },
  {
   "cell_type": "code",
   "execution_count": 249,
   "metadata": {},
   "outputs": [
    {
     "data": {
      "text/plain": [
       "1.6902978971798241"
      ]
     },
     "execution_count": 249,
     "metadata": {},
     "output_type": "execute_result"
    }
   ],
   "source": [
    "rmse = np.sqrt(mean_squared_error(Y, y_pred))\n",
    "rmse"
   ]
  },
  {
   "cell_type": "code",
   "execution_count": null,
   "metadata": {},
   "outputs": [],
   "source": []
  },
  {
   "cell_type": "code",
   "execution_count": 251,
   "metadata": {},
   "outputs": [],
   "source": [
    "i = reshaped.shape[1] - 24\n",
    "X_final = reshaped.iloc[:,i:i+FIT_MONTHS].fillna(0)\n",
    "y_pred = rf_model.predict(X_final)\n",
    "prediction = pd.Series(y_pred, index=X_final.index).rename('pred').reset_index()\n",
    "submission = utilities.merge_pred_with_test(prediction,pred_col='pred')"
   ]
  },
  {
   "cell_type": "code",
   "execution_count": 252,
   "metadata": {},
   "outputs": [],
   "source": [
    "submission.to_csv('submissions/jointRF_v1_noClip.csv')"
   ]
  },
  {
   "cell_type": "code",
   "execution_count": null,
   "metadata": {},
   "outputs": [],
   "source": []
  },
  {
   "cell_type": "code",
   "execution_count": null,
   "metadata": {},
   "outputs": [],
   "source": []
  },
  {
   "cell_type": "markdown",
   "metadata": {},
   "source": [
    "Clipped predictors"
   ]
  },
  {
   "cell_type": "code",
   "execution_count": 217,
   "metadata": {},
   "outputs": [],
   "source": [
    "i = reshaped.shape[1]-25\n",
    "X_train = clipped.iloc[:,i:i+FIT_MONTHS].fillna(0)\n",
    "Y_train = reshaped.iloc[:, i+FIT_MONTHS].fillna(0)\n",
    "rf = RandomForestRegressor(n_estimators=100, max_depth=4)"
   ]
  },
  {
   "cell_type": "code",
   "execution_count": 218,
   "metadata": {},
   "outputs": [
    {
     "name": "stdout",
     "output_type": "stream",
     "text": [
      "Wall time: 28.1 s\n"
     ]
    }
   ],
   "source": [
    "%%time\n",
    "rf_model = rf.fit(X,Y)"
   ]
  },
  {
   "cell_type": "code",
   "execution_count": 219,
   "metadata": {},
   "outputs": [],
   "source": [
    "y_pred = rf_model.predict(X)"
   ]
  },
  {
   "cell_type": "code",
   "execution_count": 221,
   "metadata": {},
   "outputs": [],
   "source": [
    "rmse = np.sqrt(mean_squared_error(Y, y_pred))\n",
    "rmse"
   ]
  },
  {
   "cell_type": "code",
   "execution_count": null,
   "metadata": {},
   "outputs": [],
   "source": []
  },
  {
   "cell_type": "code",
   "execution_count": 241,
   "metadata": {},
   "outputs": [],
   "source": [
    "i = reshaped.shape[1] - 24\n",
    "X_final = clipped.iloc[:,i:i+FIT_MONTHS].fillna(0)\n",
    "y_pred = rf_model.predict(X_final)\n",
    "prediction = pd.Series(y_pred, index=X_final.index).rename('pred').reset_index()\n",
    "submission = utilities.merge_pred_with_test(prediction,pred_col='pred')"
   ]
  },
  {
   "cell_type": "code",
   "execution_count": 243,
   "metadata": {},
   "outputs": [],
   "source": [
    "submission.to_csv('submissions/jointRF_v0.csv')"
   ]
  },
  {
   "cell_type": "code",
   "execution_count": 245,
   "metadata": {},
   "outputs": [
    {
     "data": {
      "text/plain": [
       "count    214200.000000\n",
       "mean          0.126938\n",
       "std           0.457021\n",
       "min           0.000000\n",
       "25%           0.000000\n",
       "50%           0.140200\n",
       "75%           0.140200\n",
       "max           9.845513\n",
       "Name: item_cnt_month, dtype: float64"
      ]
     },
     "execution_count": 245,
     "metadata": {},
     "output_type": "execute_result"
    }
   ],
   "source": [
    "submission.describe()"
   ]
  },
  {
   "cell_type": "code",
   "execution_count": null,
   "metadata": {},
   "outputs": [],
   "source": []
  },
  {
   "cell_type": "code",
   "execution_count": null,
   "metadata": {},
   "outputs": [],
   "source": []
  },
  {
   "cell_type": "code",
   "execution_count": 73,
   "metadata": {},
   "outputs": [],
   "source": [
    "# from sklearn.model_selection import TimeSeriesSplit\n",
    "# tscv = TimeSeriesSplit(n_splits=33, max_train_size=24)\n",
    "\n",
    "# for train_idx, test_idx in tscv.split(reshaped):\n",
    "#     print(train_idx)\n",
    "#     print(test_idx)"
   ]
  },
  {
   "cell_type": "code",
   "execution_count": null,
   "metadata": {},
   "outputs": [],
   "source": []
  },
  {
   "cell_type": "code",
   "execution_count": null,
   "metadata": {},
   "outputs": [],
   "source": []
  },
  {
   "cell_type": "code",
   "execution_count": null,
   "metadata": {},
   "outputs": [],
   "source": []
  },
  {
   "cell_type": "markdown",
   "metadata": {},
   "source": [
    "## TODO\n",
    "* create score from rolling fits\n",
    "* add shop 'bouginess' score\n",
    "* add which month is this feature"
   ]
  }
 ],
 "metadata": {
  "kernelspec": {
   "display_name": "Python 3",
   "language": "python",
   "name": "python3"
  },
  "language_info": {
   "codemirror_mode": {
    "name": "ipython",
    "version": 3
   },
   "file_extension": ".py",
   "mimetype": "text/x-python",
   "name": "python",
   "nbconvert_exporter": "python",
   "pygments_lexer": "ipython3",
   "version": "3.8.3"
  }
 },
 "nbformat": 4,
 "nbformat_minor": 4
}
