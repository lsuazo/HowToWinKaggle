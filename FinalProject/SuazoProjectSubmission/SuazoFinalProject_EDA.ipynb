{
 "cells": [
  {
   "cell_type": "code",
   "execution_count": 1,
   "metadata": {},
   "outputs": [],
   "source": [
    "import gc, os, time\n",
    "from collections import deque\n",
    "from itertools import product\n",
    "\n",
    "import matplotlib.pyplot as plt\n",
    "import numpy as np\n",
    "import pandas as pd\n",
    "import seaborn\n",
    "\n",
    "%matplotlib inline"
   ]
  },
  {
   "cell_type": "markdown",
   "metadata": {},
   "source": [
    "# Data Loading"
   ]
  },
  {
   "cell_type": "markdown",
   "metadata": {},
   "source": [
    "Here I load the data given to us in the competition. It is stored in a folder called data, that exists in top level folder together with this notebook."
   ]
  },
  {
   "cell_type": "code",
   "execution_count": 216,
   "metadata": {},
   "outputs": [],
   "source": [
    "def load_sales(parse_date = True):\n",
    "    data_fol = 'data'\n",
    "    sales = pd.read_csv(os.path.join(data_fol, 'sales_train.csv'))\n",
    "    if parse_date:\n",
    "        date_col = pd.to_datetime(sales.date, format='%d.%m.%Y')\n",
    "        sales.date = date_col\n",
    "        sales['Month'] = sales.date.dt.to_period('M')\n",
    "    return sales\n",
    "\n",
    "def aggregate_monthly(sales_df):\n",
    "    assert 'Month' in sales_df.columns, 'Month column not found'\n",
    "    return (sales_df\n",
    "            .groupby(['Month', 'shop_id', 'item_id'])\n",
    "            .agg({'item_cnt_day': np.sum, 'item_price': np.mean})\n",
    "            .rename(columns={'item_cnt_day':'item_cnt_month'})\n",
    "           )"
   ]
  },
  {
   "cell_type": "code",
   "execution_count": 217,
   "metadata": {},
   "outputs": [],
   "source": [
    "def load_all():\n",
    "    sales = load_sales()\n",
    "    agg_sales = aggregate_monthly(sales)\n",
    "    items = pd.read_csv('data/items.csv')\n",
    "    categories = pd.read_csv('data/item_categories.csv')\n",
    "    test_set = pd.read_csv('data/test.csv')\n",
    "    return sales, agg_sales, items, categories, test_set"
   ]
  },
  {
   "cell_type": "code",
   "execution_count": 218,
   "metadata": {},
   "outputs": [],
   "source": [
    "sales, agg_sales, items, categories, test_set = load_all()"
   ]
  },
  {
   "cell_type": "markdown",
   "metadata": {},
   "source": [
    "# Exploratory Data Analysis"
   ]
  },
  {
   "cell_type": "markdown",
   "metadata": {},
   "source": [
    "In this section, I look at the data, and try to derive insight for later use in feature generation, as well as correct any possible mistakes/outliers."
   ]
  },
  {
   "cell_type": "markdown",
   "metadata": {},
   "source": [
    "## Look at raw data"
   ]
  },
  {
   "cell_type": "code",
   "execution_count": null,
   "metadata": {},
   "outputs": [],
   "source": [
    "sales.head()"
   ]
  },
  {
   "cell_type": "code",
   "execution_count": 220,
   "metadata": {},
   "outputs": [
    {
     "data": {
      "text/plain": [
       "count    2.935849e+06\n",
       "mean     1.242641e+00\n",
       "std      2.618834e+00\n",
       "min     -2.200000e+01\n",
       "25%      1.000000e+00\n",
       "50%      1.000000e+00\n",
       "75%      1.000000e+00\n",
       "max      2.169000e+03\n",
       "Name: item_cnt_day, dtype: float64"
      ]
     },
     "execution_count": 220,
     "metadata": {},
     "output_type": "execute_result"
    }
   ],
   "source": [
    "sales.item_cnt_day.describe()"
   ]
  },
  {
   "cell_type": "code",
   "execution_count": 224,
   "metadata": {},
   "outputs": [
    {
     "data": {
      "text/plain": [
       "1057907     -22.0\n",
       "1835454     -16.0\n",
       "2048519      -9.0\n",
       "59156        -6.0\n",
       "940092       -6.0\n",
       "            ...  \n",
       "2608040     624.0\n",
       "2851091     637.0\n",
       "2864235     669.0\n",
       "2326930    1000.0\n",
       "2909818    2169.0\n",
       "Name: item_cnt_day, Length: 2935849, dtype: float64"
      ]
     },
     "execution_count": 224,
     "metadata": {},
     "output_type": "execute_result"
    }
   ],
   "source": [
    "sales.item_cnt_day.sort_values()"
   ]
  },
  {
   "cell_type": "code",
   "execution_count": 227,
   "metadata": {},
   "outputs": [
    {
     "data": {
      "text/html": [
       "<div>\n",
       "<style scoped>\n",
       "    .dataframe tbody tr th:only-of-type {\n",
       "        vertical-align: middle;\n",
       "    }\n",
       "\n",
       "    .dataframe tbody tr th {\n",
       "        vertical-align: top;\n",
       "    }\n",
       "\n",
       "    .dataframe thead th {\n",
       "        text-align: right;\n",
       "    }\n",
       "</style>\n",
       "<table border=\"1\" class=\"dataframe\">\n",
       "  <thead>\n",
       "    <tr style=\"text-align: right;\">\n",
       "      <th></th>\n",
       "      <th>date</th>\n",
       "      <th>date_block_num</th>\n",
       "      <th>shop_id</th>\n",
       "      <th>item_id</th>\n",
       "      <th>item_price</th>\n",
       "      <th>item_cnt_day</th>\n",
       "      <th>Month</th>\n",
       "    </tr>\n",
       "  </thead>\n",
       "  <tbody>\n",
       "    <tr>\n",
       "      <th>2326930</th>\n",
       "      <td>2015-01-15</td>\n",
       "      <td>24</td>\n",
       "      <td>12</td>\n",
       "      <td>20949</td>\n",
       "      <td>4.000000</td>\n",
       "      <td>1000.0</td>\n",
       "      <td>2015-01</td>\n",
       "    </tr>\n",
       "    <tr>\n",
       "      <th>2909818</th>\n",
       "      <td>2015-10-28</td>\n",
       "      <td>33</td>\n",
       "      <td>12</td>\n",
       "      <td>11373</td>\n",
       "      <td>0.908714</td>\n",
       "      <td>2169.0</td>\n",
       "      <td>2015-10</td>\n",
       "    </tr>\n",
       "  </tbody>\n",
       "</table>\n",
       "</div>"
      ],
      "text/plain": [
       "              date  date_block_num  shop_id  item_id  item_price  \\\n",
       "2326930 2015-01-15              24       12    20949    4.000000   \n",
       "2909818 2015-10-28              33       12    11373    0.908714   \n",
       "\n",
       "         item_cnt_day    Month  \n",
       "2326930        1000.0  2015-01  \n",
       "2909818        2169.0  2015-10  "
      ]
     },
     "execution_count": 227,
     "metadata": {},
     "output_type": "execute_result"
    }
   ],
   "source": [
    "sales[sales.item_cnt_day >= 1000]"
   ]
  },
  {
   "cell_type": "code",
   "execution_count": 242,
   "metadata": {},
   "outputs": [
    {
     "data": {
      "text/plain": [
       "1.0       93\n",
       "2.0       70\n",
       "3.0       47\n",
       "4.0       44\n",
       "5.0       32\n",
       "6.0       34\n",
       "7.0       16\n",
       "8.0       17\n",
       "9.0        5\n",
       "10.0      13\n",
       "11.0      11\n",
       "12.0       8\n",
       "13.0      12\n",
       "14.0       6\n",
       "15.0       4\n",
       "16.0       4\n",
       "18.0       4\n",
       "20.0       3\n",
       "21.0       1\n",
       "22.0       6\n",
       "23.0       3\n",
       "24.0       1\n",
       "25.0       1\n",
       "26.0       1\n",
       "27.0       3\n",
       "28.0       3\n",
       "30.0       1\n",
       "31.0       2\n",
       "32.0       1\n",
       "33.0       1\n",
       "38.0       1\n",
       "41.0       2\n",
       "46.0       1\n",
       "51.0       1\n",
       "54.0       1\n",
       "58.0       1\n",
       "61.0       1\n",
       "65.0       1\n",
       "84.0       1\n",
       "95.0       1\n",
       "97.0       1\n",
       "105.0      1\n",
       "108.0      1\n",
       "242.0      1\n",
       "539.0      1\n",
       "2169.0     1\n",
       "Name: item_cnt_day, dtype: int64"
      ]
     },
     "execution_count": 242,
     "metadata": {},
     "output_type": "execute_result"
    }
   ],
   "source": [
    "sales[sales.item_id == 11373].item_cnt_day.value_counts().sort_index()"
   ]
  },
  {
   "cell_type": "code",
   "execution_count": 235,
   "metadata": {},
   "outputs": [
    {
     "data": {
      "text/html": [
       "<div>\n",
       "<style scoped>\n",
       "    .dataframe tbody tr th:only-of-type {\n",
       "        vertical-align: middle;\n",
       "    }\n",
       "\n",
       "    .dataframe tbody tr th {\n",
       "        vertical-align: top;\n",
       "    }\n",
       "\n",
       "    .dataframe thead th {\n",
       "        text-align: right;\n",
       "    }\n",
       "</style>\n",
       "<table border=\"1\" class=\"dataframe\">\n",
       "  <thead>\n",
       "    <tr style=\"text-align: right;\">\n",
       "      <th></th>\n",
       "      <th>item_name</th>\n",
       "      <th>item_id</th>\n",
       "      <th>item_category_id</th>\n",
       "    </tr>\n",
       "  </thead>\n",
       "  <tbody>\n",
       "    <tr>\n",
       "      <th>11373</th>\n",
       "      <td>Доставка до пункта выдачи (Boxberry)</td>\n",
       "      <td>11373</td>\n",
       "      <td>9</td>\n",
       "    </tr>\n",
       "  </tbody>\n",
       "</table>\n",
       "</div>"
      ],
      "text/plain": [
       "                                  item_name  item_id  item_category_id\n",
       "11373  Доставка до пункта выдачи (Boxberry)    11373                 9"
      ]
     },
     "execution_count": 235,
     "metadata": {},
     "output_type": "execute_result"
    }
   ],
   "source": [
    "items.query('item_id == 11373')"
   ]
  },
  {
   "cell_type": "markdown",
   "metadata": {},
   "source": [
    "google: 'Доставка до пункта выдачи (Boxberry)' --> 'Delivery to the point of issue (Boxberry)'"
   ]
  },
  {
   "cell_type": "code",
   "execution_count": 239,
   "metadata": {},
   "outputs": [
    {
     "data": {
      "text/plain": [
       "array(['Фирменный пакет майка 1С Интерес белый (34*42) 45 мкм'],\n",
       "      dtype=object)"
      ]
     },
     "execution_count": 239,
     "metadata": {},
     "output_type": "execute_result"
    }
   ],
   "source": [
    "items.query('item_id == 20949').item_name.values"
   ]
  },
  {
   "cell_type": "markdown",
   "metadata": {},
   "source": [
    "google: 'Фирменный пакет майка 1С Интерес белый (34*42) 45 мкм' --> 'Branded jersey package 1C Interest white (34'42) 45 microns'"
   ]
  },
  {
   "cell_type": "code",
   "execution_count": 248,
   "metadata": {},
   "outputs": [
    {
     "data": {
      "text/plain": [
       "1057907     -22.0\n",
       "2048519      -9.0\n",
       "59156        -6.0\n",
       "59155        -5.0\n",
       "1058703      -4.0\n",
       "            ...  \n",
       "2626181     539.0\n",
       "2608040     624.0\n",
       "2864235     669.0\n",
       "2326930    1000.0\n",
       "2909818    2169.0\n",
       "Name: item_cnt_day, Length: 34694, dtype: float64"
      ]
     },
     "execution_count": 248,
     "metadata": {},
     "output_type": "execute_result"
    }
   ],
   "source": [
    "sales[sales.shop_id == 12].item_cnt_day.sort_values()"
   ]
  },
  {
   "cell_type": "markdown",
   "metadata": {},
   "source": [
    "## Look at aggregated data"
   ]
  },
  {
   "cell_type": "markdown",
   "metadata": {},
   "source": [
    "Look at distribution of sales numbers"
   ]
  },
  {
   "cell_type": "code",
   "execution_count": 113,
   "metadata": {},
   "outputs": [
    {
     "data": {
      "text/plain": [
       "count    1.609123e+06\n",
       "mean     2.267201e+00\n",
       "std      8.649884e+00\n",
       "min     -2.200000e+01\n",
       "25%      1.000000e+00\n",
       "50%      1.000000e+00\n",
       "75%      2.000000e+00\n",
       "max      2.253000e+03\n",
       "Name: item_cnt_month, dtype: float64"
      ]
     },
     "execution_count": 113,
     "metadata": {},
     "output_type": "execute_result"
    }
   ],
   "source": [
    "agg_sales.item_cnt_month.describe()"
   ]
  },
  {
   "cell_type": "code",
   "execution_count": 116,
   "metadata": {},
   "outputs": [
    {
     "data": {
      "text/plain": [
       "<matplotlib.axes._subplots.AxesSubplot at 0x127bdd53a20>"
      ]
     },
     "execution_count": 116,
     "metadata": {},
     "output_type": "execute_result"
    },
    {
     "data": {
      "image/png": "[encoded data removed]",
      "text/plain": [
       "<Figure size 432x288 with 1 Axes>"
      ]
     },
     "metadata": {
      "needs_background": "light"
     },
     "output_type": "display_data"
    }
   ],
   "source": [
    "seaborn.kdeplot(agg_sales.item_cnt_month)"
   ]
  },
  {
   "cell_type": "code",
   "execution_count": 117,
   "metadata": {},
   "outputs": [
    {
     "data": {
      "text/plain": [
       "<matplotlib.axes._subplots.AxesSubplot at 0x127be750080>"
      ]
     },
     "execution_count": 117,
     "metadata": {},
     "output_type": "execute_result"
    },
    {
     "data": {
      "image/png": "[encoded data removed]",
      "text/plain": [
       "<Figure size 432x288 with 1 Axes>"
      ]
     },
     "metadata": {
      "needs_background": "light"
     },
     "output_type": "display_data"
    }
   ],
   "source": [
    "seaborn.kdeplot(np.clip(agg_sales.item_cnt_month,-100, 500))"
   ]
  },
  {
   "cell_type": "code",
   "execution_count": 119,
   "metadata": {},
   "outputs": [
    {
     "data": {
      "text/plain": [
       "<matplotlib.axes._subplots.AxesSubplot at 0x127bdcf5828>"
      ]
     },
     "execution_count": 119,
     "metadata": {},
     "output_type": "execute_result"
    },
    {
     "data": {
      "image/png": "[encoded data removed]",
      "text/plain": [
       "<Figure size 432x288 with 1 Axes>"
      ]
     },
     "metadata": {
      "needs_background": "light"
     },
     "output_type": "display_data"
    }
   ],
   "source": [
    "seaborn.kdeplot(agg_sales.item_cnt_month, gridsize=50)"
   ]
  },
  {
   "cell_type": "markdown",
   "metadata": {},
   "source": [
    "Look at distribution on sales prices"
   ]
  },
  {
   "cell_type": "code",
   "execution_count": 169,
   "metadata": {},
   "outputs": [
    {
     "data": {
      "text/plain": [
       "Month    shop_id  item_id\n",
       "2013-01  0        32         221.0\n",
       "                  33         347.0\n",
       "                  35         247.0\n",
       "                  43         221.0\n",
       "                  51         128.5\n",
       "Name: item_price, dtype: float64"
      ]
     },
     "execution_count": 169,
     "metadata": {},
     "output_type": "execute_result"
    }
   ],
   "source": [
    "agg_sales.head()"
   ]
  },
  {
   "cell_type": "code",
   "execution_count": 130,
   "metadata": {},
   "outputs": [],
   "source": [
    "price_stats = agg_sales.groupby(level=2).agg(Max=('item_price', 'max'), Min=('item_price', 'min'), Mean=('item_price', 'mean'), STD=('item_price', 'std'))\n",
    "price_spread = price_stats.Max - price_stats.Min"
   ]
  },
  {
   "cell_type": "code",
   "execution_count": 123,
   "metadata": {},
   "outputs": [
    {
     "data": {
      "text/plain": [
       "count    21806.000000\n",
       "mean       284.625165\n",
       "std        648.277356\n",
       "min          0.000000\n",
       "25%          0.000000\n",
       "50%        119.000000\n",
       "75%        299.000000\n",
       "max      15989.000000\n",
       "dtype: float64"
      ]
     },
     "execution_count": 123,
     "metadata": {},
     "output_type": "execute_result"
    }
   ],
   "source": [
    "price_spread.describe()"
   ]
  },
  {
   "cell_type": "code",
   "execution_count": 124,
   "metadata": {},
   "outputs": [
    {
     "data": {
      "image/png": "[encoded data removed]",
      "text/plain": [
       "<Figure size 432x288 with 1 Axes>"
      ]
     },
     "metadata": {
      "needs_background": "light"
     },
     "output_type": "display_data"
    }
   ],
   "source": [
    "plt.boxplot(price_spread);"
   ]
  },
  {
   "cell_type": "code",
   "execution_count": 125,
   "metadata": {},
   "outputs": [
    {
     "data": {
      "text/plain": [
       "item_id\n",
       "7982     15989.00\n",
       "7938     15727.33\n",
       "7983     14291.00\n",
       "13404    13590.00\n",
       "13406    13091.00\n",
       "13401    11989.50\n",
       "13405    11982.50\n",
       "14170    11229.00\n",
       "7942     11072.00\n",
       "6675     10999.00\n",
       "dtype: float64"
      ]
     },
     "execution_count": 125,
     "metadata": {},
     "output_type": "execute_result"
    }
   ],
   "source": [
    "price_spread.sort_values(ascending=False).head(10)"
   ]
  },
  {
   "cell_type": "code",
   "execution_count": 128,
   "metadata": {},
   "outputs": [
    {
     "data": {
      "text/html": [
       "<div>\n",
       "<style scoped>\n",
       "    .dataframe tbody tr th:only-of-type {\n",
       "        vertical-align: middle;\n",
       "    }\n",
       "\n",
       "    .dataframe tbody tr th {\n",
       "        vertical-align: top;\n",
       "    }\n",
       "\n",
       "    .dataframe thead th {\n",
       "        text-align: right;\n",
       "    }\n",
       "</style>\n",
       "<table border=\"1\" class=\"dataframe\">\n",
       "  <thead>\n",
       "    <tr style=\"text-align: right;\">\n",
       "      <th></th>\n",
       "      <th></th>\n",
       "      <th></th>\n",
       "      <th>item_cnt_month</th>\n",
       "      <th>item_price</th>\n",
       "    </tr>\n",
       "    <tr>\n",
       "      <th>Month</th>\n",
       "      <th>shop_id</th>\n",
       "      <th>item_id</th>\n",
       "      <th></th>\n",
       "      <th></th>\n",
       "    </tr>\n",
       "  </thead>\n",
       "  <tbody>\n",
       "    <tr>\n",
       "      <th rowspan=\"5\" valign=\"top\">2014-12</th>\n",
       "      <th>17</th>\n",
       "      <th>7982</th>\n",
       "      <td>1.0</td>\n",
       "      <td>15001.00</td>\n",
       "    </tr>\n",
       "    <tr>\n",
       "      <th>37</th>\n",
       "      <th>7982</th>\n",
       "      <td>3.0</td>\n",
       "      <td>15046.25</td>\n",
       "    </tr>\n",
       "    <tr>\n",
       "      <th>3</th>\n",
       "      <th>7982</th>\n",
       "      <td>2.0</td>\n",
       "      <td>15091.55</td>\n",
       "    </tr>\n",
       "    <tr>\n",
       "      <th>59</th>\n",
       "      <th>7982</th>\n",
       "      <td>2.0</td>\n",
       "      <td>15091.60</td>\n",
       "    </tr>\n",
       "    <tr>\n",
       "      <th>16</th>\n",
       "      <th>7982</th>\n",
       "      <td>1.0</td>\n",
       "      <td>15092.00</td>\n",
       "    </tr>\n",
       "    <tr>\n",
       "      <th>...</th>\n",
       "      <th>...</th>\n",
       "      <th>...</th>\n",
       "      <td>...</td>\n",
       "      <td>...</td>\n",
       "    </tr>\n",
       "    <tr>\n",
       "      <th>2015-04</th>\n",
       "      <th>47</th>\n",
       "      <th>7982</th>\n",
       "      <td>1.0</td>\n",
       "      <td>26692.00</td>\n",
       "    </tr>\n",
       "    <tr>\n",
       "      <th rowspan=\"2\" valign=\"top\">2015-02</th>\n",
       "      <th>12</th>\n",
       "      <th>7982</th>\n",
       "      <td>1.0</td>\n",
       "      <td>27490.00</td>\n",
       "    </tr>\n",
       "    <tr>\n",
       "      <th>27</th>\n",
       "      <th>7982</th>\n",
       "      <td>1.0</td>\n",
       "      <td>27490.00</td>\n",
       "    </tr>\n",
       "    <tr>\n",
       "      <th rowspan=\"2\" valign=\"top\">2015-03</th>\n",
       "      <th>46</th>\n",
       "      <th>7982</th>\n",
       "      <td>2.0</td>\n",
       "      <td>28240.00</td>\n",
       "    </tr>\n",
       "    <tr>\n",
       "      <th>54</th>\n",
       "      <th>7982</th>\n",
       "      <td>1.0</td>\n",
       "      <td>30990.00</td>\n",
       "    </tr>\n",
       "  </tbody>\n",
       "</table>\n",
       "<p>151 rows × 2 columns</p>\n",
       "</div>"
      ],
      "text/plain": [
       "                         item_cnt_month  item_price\n",
       "Month   shop_id item_id                            \n",
       "2014-12 17      7982                1.0    15001.00\n",
       "        37      7982                3.0    15046.25\n",
       "        3       7982                2.0    15091.55\n",
       "        59      7982                2.0    15091.60\n",
       "        16      7982                1.0    15092.00\n",
       "...                                 ...         ...\n",
       "2015-04 47      7982                1.0    26692.00\n",
       "2015-02 12      7982                1.0    27490.00\n",
       "        27      7982                1.0    27490.00\n",
       "2015-03 46      7982                2.0    28240.00\n",
       "        54      7982                1.0    30990.00\n",
       "\n",
       "[151 rows x 2 columns]"
      ]
     },
     "execution_count": 128,
     "metadata": {},
     "output_type": "execute_result"
    }
   ],
   "source": [
    "agg_sales.loc[pd.IndexSlice[:,:,7982], :].sort_values(by='item_price')"
   ]
  },
  {
   "cell_type": "code",
   "execution_count": 129,
   "metadata": {},
   "outputs": [
    {
     "data": {
      "text/html": [
       "<div>\n",
       "<style scoped>\n",
       "    .dataframe tbody tr th:only-of-type {\n",
       "        vertical-align: middle;\n",
       "    }\n",
       "\n",
       "    .dataframe tbody tr th {\n",
       "        vertical-align: top;\n",
       "    }\n",
       "\n",
       "    .dataframe thead th {\n",
       "        text-align: right;\n",
       "    }\n",
       "</style>\n",
       "<table border=\"1\" class=\"dataframe\">\n",
       "  <thead>\n",
       "    <tr style=\"text-align: right;\">\n",
       "      <th></th>\n",
       "      <th></th>\n",
       "      <th></th>\n",
       "      <th>item_cnt_month</th>\n",
       "      <th>item_price</th>\n",
       "    </tr>\n",
       "    <tr>\n",
       "      <th>Month</th>\n",
       "      <th>shop_id</th>\n",
       "      <th>item_id</th>\n",
       "      <th></th>\n",
       "      <th></th>\n",
       "    </tr>\n",
       "  </thead>\n",
       "  <tbody>\n",
       "    <tr>\n",
       "      <th>2015-09</th>\n",
       "      <th>10</th>\n",
       "      <th>7938</th>\n",
       "      <td>1.0</td>\n",
       "      <td>1762.67</td>\n",
       "    </tr>\n",
       "    <tr>\n",
       "      <th>2014-05</th>\n",
       "      <th>44</th>\n",
       "      <th>7938</th>\n",
       "      <td>1.0</td>\n",
       "      <td>6798.00</td>\n",
       "    </tr>\n",
       "    <tr>\n",
       "      <th>2013-12</th>\n",
       "      <th>30</th>\n",
       "      <th>7938</th>\n",
       "      <td>1.0</td>\n",
       "      <td>11524.00</td>\n",
       "    </tr>\n",
       "    <tr>\n",
       "      <th>2013-06</th>\n",
       "      <th>56</th>\n",
       "      <th>7938</th>\n",
       "      <td>1.0</td>\n",
       "      <td>12001.00</td>\n",
       "    </tr>\n",
       "    <tr>\n",
       "      <th>2013-12</th>\n",
       "      <th>19</th>\n",
       "      <th>7938</th>\n",
       "      <td>2.0</td>\n",
       "      <td>12199.00</td>\n",
       "    </tr>\n",
       "    <tr>\n",
       "      <th>...</th>\n",
       "      <th>...</th>\n",
       "      <th>...</th>\n",
       "      <td>...</td>\n",
       "      <td>...</td>\n",
       "    </tr>\n",
       "    <tr>\n",
       "      <th rowspan=\"2\" valign=\"top\">2013-05</th>\n",
       "      <th>54</th>\n",
       "      <th>7938</th>\n",
       "      <td>1.0</td>\n",
       "      <td>17490.00</td>\n",
       "    </tr>\n",
       "    <tr>\n",
       "      <th>57</th>\n",
       "      <th>7938</th>\n",
       "      <td>2.0</td>\n",
       "      <td>17490.00</td>\n",
       "    </tr>\n",
       "    <tr>\n",
       "      <th>2013-04</th>\n",
       "      <th>14</th>\n",
       "      <th>7938</th>\n",
       "      <td>1.0</td>\n",
       "      <td>17490.00</td>\n",
       "    </tr>\n",
       "    <tr>\n",
       "      <th rowspan=\"2\" valign=\"top\">2013-05</th>\n",
       "      <th>5</th>\n",
       "      <th>7938</th>\n",
       "      <td>1.0</td>\n",
       "      <td>17490.00</td>\n",
       "    </tr>\n",
       "    <tr>\n",
       "      <th>25</th>\n",
       "      <th>7938</th>\n",
       "      <td>1.0</td>\n",
       "      <td>17490.00</td>\n",
       "    </tr>\n",
       "  </tbody>\n",
       "</table>\n",
       "<p>188 rows × 2 columns</p>\n",
       "</div>"
      ],
      "text/plain": [
       "                         item_cnt_month  item_price\n",
       "Month   shop_id item_id                            \n",
       "2015-09 10      7938                1.0     1762.67\n",
       "2014-05 44      7938                1.0     6798.00\n",
       "2013-12 30      7938                1.0    11524.00\n",
       "2013-06 56      7938                1.0    12001.00\n",
       "2013-12 19      7938                2.0    12199.00\n",
       "...                                 ...         ...\n",
       "2013-05 54      7938                1.0    17490.00\n",
       "        57      7938                2.0    17490.00\n",
       "2013-04 14      7938                1.0    17490.00\n",
       "2013-05 5       7938                1.0    17490.00\n",
       "        25      7938                1.0    17490.00\n",
       "\n",
       "[188 rows x 2 columns]"
      ]
     },
     "execution_count": 129,
     "metadata": {},
     "output_type": "execute_result"
    }
   ],
   "source": [
    "agg_sales.loc[pd.IndexSlice[:,:,7938], :].sort_values(by='item_price')"
   ]
  },
  {
   "cell_type": "code",
   "execution_count": 133,
   "metadata": {},
   "outputs": [],
   "source": [
    "normed_var = (price_stats.STD/price_stats.Mean).fillna(0)"
   ]
  },
  {
   "cell_type": "code",
   "execution_count": 170,
   "metadata": {},
   "outputs": [
    {
     "data": {
      "text/plain": [
       "item_id\n",
       "0        0.000000\n",
       "9430     0.000000\n",
       "9429     0.000000\n",
       "9428     0.000000\n",
       "9427     0.000000\n",
       "           ...   \n",
       "11856    1.853497\n",
       "11855    1.927625\n",
       "11866    2.375067\n",
       "11872    2.617468\n",
       "11860    3.184322\n",
       "Length: 21806, dtype: float64"
      ]
     },
     "execution_count": 170,
     "metadata": {},
     "output_type": "execute_result"
    }
   ],
   "source": [
    "normed_var.sort_values()"
   ]
  },
  {
   "cell_type": "code",
   "execution_count": 141,
   "metadata": {},
   "outputs": [
    {
     "data": {
      "text/html": [
       "<div>\n",
       "<style scoped>\n",
       "    .dataframe tbody tr th:only-of-type {\n",
       "        vertical-align: middle;\n",
       "    }\n",
       "\n",
       "    .dataframe tbody tr th {\n",
       "        vertical-align: top;\n",
       "    }\n",
       "\n",
       "    .dataframe thead th {\n",
       "        text-align: right;\n",
       "    }\n",
       "</style>\n",
       "<table border=\"1\" class=\"dataframe\">\n",
       "  <thead>\n",
       "    <tr style=\"text-align: right;\">\n",
       "      <th></th>\n",
       "      <th></th>\n",
       "      <th></th>\n",
       "      <th>item_cnt_month</th>\n",
       "      <th>item_price</th>\n",
       "    </tr>\n",
       "    <tr>\n",
       "      <th>Month</th>\n",
       "      <th>shop_id</th>\n",
       "      <th>item_id</th>\n",
       "      <th></th>\n",
       "      <th></th>\n",
       "    </tr>\n",
       "  </thead>\n",
       "  <tbody>\n",
       "    <tr>\n",
       "      <th>2013-06</th>\n",
       "      <th>6</th>\n",
       "      <th>11860</th>\n",
       "      <td>1.0</td>\n",
       "      <td>0.1</td>\n",
       "    </tr>\n",
       "    <tr>\n",
       "      <th>2013-07</th>\n",
       "      <th>6</th>\n",
       "      <th>11860</th>\n",
       "      <td>2.0</td>\n",
       "      <td>0.1</td>\n",
       "    </tr>\n",
       "    <tr>\n",
       "      <th>2013-08</th>\n",
       "      <th>6</th>\n",
       "      <th>11860</th>\n",
       "      <td>2.0</td>\n",
       "      <td>0.1</td>\n",
       "    </tr>\n",
       "    <tr>\n",
       "      <th>2014-01</th>\n",
       "      <th>6</th>\n",
       "      <th>11860</th>\n",
       "      <td>1.0</td>\n",
       "      <td>58.0</td>\n",
       "    </tr>\n",
       "    <tr>\n",
       "      <th>2014-02</th>\n",
       "      <th>12</th>\n",
       "      <th>11860</th>\n",
       "      <td>1.0</td>\n",
       "      <td>28.0</td>\n",
       "    </tr>\n",
       "    <tr>\n",
       "      <th>2013-06</th>\n",
       "      <th>17</th>\n",
       "      <th>11860</th>\n",
       "      <td>4.0</td>\n",
       "      <td>0.1</td>\n",
       "    </tr>\n",
       "    <tr>\n",
       "      <th>2013-07</th>\n",
       "      <th>17</th>\n",
       "      <th>11860</th>\n",
       "      <td>3.0</td>\n",
       "      <td>0.1</td>\n",
       "    </tr>\n",
       "    <tr>\n",
       "      <th>2013-08</th>\n",
       "      <th>17</th>\n",
       "      <th>11860</th>\n",
       "      <td>1.0</td>\n",
       "      <td>0.1</td>\n",
       "    </tr>\n",
       "    <tr>\n",
       "      <th>2013-06</th>\n",
       "      <th>24</th>\n",
       "      <th>11860</th>\n",
       "      <td>1.0</td>\n",
       "      <td>0.1</td>\n",
       "    </tr>\n",
       "    <tr>\n",
       "      <th>2013-07</th>\n",
       "      <th>24</th>\n",
       "      <th>11860</th>\n",
       "      <td>2.0</td>\n",
       "      <td>0.1</td>\n",
       "    </tr>\n",
       "    <tr>\n",
       "      <th>2013-01</th>\n",
       "      <th>25</th>\n",
       "      <th>11860</th>\n",
       "      <td>2.0</td>\n",
       "      <td>313.5</td>\n",
       "    </tr>\n",
       "    <tr>\n",
       "      <th>2013-06</th>\n",
       "      <th>25</th>\n",
       "      <th>11860</th>\n",
       "      <td>2.0</td>\n",
       "      <td>0.1</td>\n",
       "    </tr>\n",
       "    <tr>\n",
       "      <th>2013-07</th>\n",
       "      <th>25</th>\n",
       "      <th>11860</th>\n",
       "      <td>1.0</td>\n",
       "      <td>0.1</td>\n",
       "    </tr>\n",
       "    <tr>\n",
       "      <th rowspan=\"2\" valign=\"top\">2013-08</th>\n",
       "      <th>25</th>\n",
       "      <th>11860</th>\n",
       "      <td>3.0</td>\n",
       "      <td>0.1</td>\n",
       "    </tr>\n",
       "    <tr>\n",
       "      <th>27</th>\n",
       "      <th>11860</th>\n",
       "      <td>2.0</td>\n",
       "      <td>0.1</td>\n",
       "    </tr>\n",
       "    <tr>\n",
       "      <th>2013-01</th>\n",
       "      <th>31</th>\n",
       "      <th>11860</th>\n",
       "      <td>1.0</td>\n",
       "      <td>258.0</td>\n",
       "    </tr>\n",
       "    <tr>\n",
       "      <th rowspan=\"2\" valign=\"top\">2013-06</th>\n",
       "      <th>31</th>\n",
       "      <th>11860</th>\n",
       "      <td>11.0</td>\n",
       "      <td>0.1</td>\n",
       "    </tr>\n",
       "    <tr>\n",
       "      <th>35</th>\n",
       "      <th>11860</th>\n",
       "      <td>7.0</td>\n",
       "      <td>0.1</td>\n",
       "    </tr>\n",
       "    <tr>\n",
       "      <th>2013-07</th>\n",
       "      <th>35</th>\n",
       "      <th>11860</th>\n",
       "      <td>2.0</td>\n",
       "      <td>0.1</td>\n",
       "    </tr>\n",
       "    <tr>\n",
       "      <th>2013-06</th>\n",
       "      <th>37</th>\n",
       "      <th>11860</th>\n",
       "      <td>1.0</td>\n",
       "      <td>0.1</td>\n",
       "    </tr>\n",
       "    <tr>\n",
       "      <th>2013-07</th>\n",
       "      <th>37</th>\n",
       "      <th>11860</th>\n",
       "      <td>1.0</td>\n",
       "      <td>0.1</td>\n",
       "    </tr>\n",
       "    <tr>\n",
       "      <th>2013-06</th>\n",
       "      <th>41</th>\n",
       "      <th>11860</th>\n",
       "      <td>2.0</td>\n",
       "      <td>0.1</td>\n",
       "    </tr>\n",
       "    <tr>\n",
       "      <th>2013-07</th>\n",
       "      <th>41</th>\n",
       "      <th>11860</th>\n",
       "      <td>1.0</td>\n",
       "      <td>0.1</td>\n",
       "    </tr>\n",
       "    <tr>\n",
       "      <th>2013-06</th>\n",
       "      <th>42</th>\n",
       "      <th>11860</th>\n",
       "      <td>2.0</td>\n",
       "      <td>0.1</td>\n",
       "    </tr>\n",
       "    <tr>\n",
       "      <th rowspan=\"2\" valign=\"top\">2013-07</th>\n",
       "      <th>42</th>\n",
       "      <th>11860</th>\n",
       "      <td>3.0</td>\n",
       "      <td>0.1</td>\n",
       "    </tr>\n",
       "    <tr>\n",
       "      <th>43</th>\n",
       "      <th>11860</th>\n",
       "      <td>1.0</td>\n",
       "      <td>0.1</td>\n",
       "    </tr>\n",
       "    <tr>\n",
       "      <th>2013-08</th>\n",
       "      <th>43</th>\n",
       "      <th>11860</th>\n",
       "      <td>1.0</td>\n",
       "      <td>0.1</td>\n",
       "    </tr>\n",
       "    <tr>\n",
       "      <th>2013-01</th>\n",
       "      <th>44</th>\n",
       "      <th>11860</th>\n",
       "      <td>1.0</td>\n",
       "      <td>257.7</td>\n",
       "    </tr>\n",
       "    <tr>\n",
       "      <th>2013-06</th>\n",
       "      <th>44</th>\n",
       "      <th>11860</th>\n",
       "      <td>3.0</td>\n",
       "      <td>0.1</td>\n",
       "    </tr>\n",
       "    <tr>\n",
       "      <th>2013-08</th>\n",
       "      <th>44</th>\n",
       "      <th>11860</th>\n",
       "      <td>1.0</td>\n",
       "      <td>0.1</td>\n",
       "    </tr>\n",
       "    <tr>\n",
       "      <th>2013-06</th>\n",
       "      <th>54</th>\n",
       "      <th>11860</th>\n",
       "      <td>4.0</td>\n",
       "      <td>0.1</td>\n",
       "    </tr>\n",
       "    <tr>\n",
       "      <th>2013-07</th>\n",
       "      <th>54</th>\n",
       "      <th>11860</th>\n",
       "      <td>2.0</td>\n",
       "      <td>0.1</td>\n",
       "    </tr>\n",
       "    <tr>\n",
       "      <th>2013-08</th>\n",
       "      <th>54</th>\n",
       "      <th>11860</th>\n",
       "      <td>3.0</td>\n",
       "      <td>0.1</td>\n",
       "    </tr>\n",
       "    <tr>\n",
       "      <th>2013-06</th>\n",
       "      <th>56</th>\n",
       "      <th>11860</th>\n",
       "      <td>1.0</td>\n",
       "      <td>0.1</td>\n",
       "    </tr>\n",
       "    <tr>\n",
       "      <th>2013-07</th>\n",
       "      <th>56</th>\n",
       "      <th>11860</th>\n",
       "      <td>1.0</td>\n",
       "      <td>0.1</td>\n",
       "    </tr>\n",
       "    <tr>\n",
       "      <th>2013-06</th>\n",
       "      <th>57</th>\n",
       "      <th>11860</th>\n",
       "      <td>4.0</td>\n",
       "      <td>0.1</td>\n",
       "    </tr>\n",
       "    <tr>\n",
       "      <th>2013-07</th>\n",
       "      <th>57</th>\n",
       "      <th>11860</th>\n",
       "      <td>1.0</td>\n",
       "      <td>0.1</td>\n",
       "    </tr>\n",
       "    <tr>\n",
       "      <th>2013-06</th>\n",
       "      <th>59</th>\n",
       "      <th>11860</th>\n",
       "      <td>4.0</td>\n",
       "      <td>0.1</td>\n",
       "    </tr>\n",
       "    <tr>\n",
       "      <th>2013-07</th>\n",
       "      <th>59</th>\n",
       "      <th>11860</th>\n",
       "      <td>1.0</td>\n",
       "      <td>0.1</td>\n",
       "    </tr>\n",
       "  </tbody>\n",
       "</table>\n",
       "</div>"
      ],
      "text/plain": [
       "                         item_cnt_month  item_price\n",
       "Month   shop_id item_id                            \n",
       "2013-06 6       11860               1.0         0.1\n",
       "2013-07 6       11860               2.0         0.1\n",
       "2013-08 6       11860               2.0         0.1\n",
       "2014-01 6       11860               1.0        58.0\n",
       "2014-02 12      11860               1.0        28.0\n",
       "2013-06 17      11860               4.0         0.1\n",
       "2013-07 17      11860               3.0         0.1\n",
       "2013-08 17      11860               1.0         0.1\n",
       "2013-06 24      11860               1.0         0.1\n",
       "2013-07 24      11860               2.0         0.1\n",
       "2013-01 25      11860               2.0       313.5\n",
       "2013-06 25      11860               2.0         0.1\n",
       "2013-07 25      11860               1.0         0.1\n",
       "2013-08 25      11860               3.0         0.1\n",
       "        27      11860               2.0         0.1\n",
       "2013-01 31      11860               1.0       258.0\n",
       "2013-06 31      11860              11.0         0.1\n",
       "        35      11860               7.0         0.1\n",
       "2013-07 35      11860               2.0         0.1\n",
       "2013-06 37      11860               1.0         0.1\n",
       "2013-07 37      11860               1.0         0.1\n",
       "2013-06 41      11860               2.0         0.1\n",
       "2013-07 41      11860               1.0         0.1\n",
       "2013-06 42      11860               2.0         0.1\n",
       "2013-07 42      11860               3.0         0.1\n",
       "        43      11860               1.0         0.1\n",
       "2013-08 43      11860               1.0         0.1\n",
       "2013-01 44      11860               1.0       257.7\n",
       "2013-06 44      11860               3.0         0.1\n",
       "2013-08 44      11860               1.0         0.1\n",
       "2013-06 54      11860               4.0         0.1\n",
       "2013-07 54      11860               2.0         0.1\n",
       "2013-08 54      11860               3.0         0.1\n",
       "2013-06 56      11860               1.0         0.1\n",
       "2013-07 56      11860               1.0         0.1\n",
       "2013-06 57      11860               4.0         0.1\n",
       "2013-07 57      11860               1.0         0.1\n",
       "2013-06 59      11860               4.0         0.1\n",
       "2013-07 59      11860               1.0         0.1"
      ]
     },
     "execution_count": 141,
     "metadata": {},
     "output_type": "execute_result"
    }
   ],
   "source": [
    "agg_sales.loc[pd.IndexSlice[:,:,11860], :].sort_index(level=[1,0])"
   ]
  },
  {
   "cell_type": "code",
   "execution_count": 137,
   "metadata": {},
   "outputs": [
    {
     "data": {
      "text/html": [
       "<div>\n",
       "<style scoped>\n",
       "    .dataframe tbody tr th:only-of-type {\n",
       "        vertical-align: middle;\n",
       "    }\n",
       "\n",
       "    .dataframe tbody tr th {\n",
       "        vertical-align: top;\n",
       "    }\n",
       "\n",
       "    .dataframe thead th {\n",
       "        text-align: right;\n",
       "    }\n",
       "</style>\n",
       "<table border=\"1\" class=\"dataframe\">\n",
       "  <thead>\n",
       "    <tr style=\"text-align: right;\">\n",
       "      <th></th>\n",
       "      <th>item_name</th>\n",
       "      <th>item_id</th>\n",
       "      <th>item_category_id</th>\n",
       "    </tr>\n",
       "  </thead>\n",
       "  <tbody>\n",
       "    <tr>\n",
       "      <th>11860</th>\n",
       "      <td>Змей ВАСЯ с цветком 40 см</td>\n",
       "      <td>11860</td>\n",
       "      <td>63</td>\n",
       "    </tr>\n",
       "  </tbody>\n",
       "</table>\n",
       "</div>"
      ],
      "text/plain": [
       "                       item_name  item_id  item_category_id\n",
       "11860  Змей ВАСЯ с цветком 40 см    11860                63"
      ]
     },
     "execution_count": 137,
     "metadata": {},
     "output_type": "execute_result"
    }
   ],
   "source": [
    "items.query('item_id == 11860')"
   ]
  },
  {
   "cell_type": "markdown",
   "metadata": {},
   "source": [
    "google translate: 'Змей ВАСЯ с цветком 40 см' --> 'SNAKE YOU with a flower 40 cm'"
   ]
  },
  {
   "cell_type": "code",
   "execution_count": 143,
   "metadata": {},
   "outputs": [
    {
     "data": {
      "text/html": [
       "<div>\n",
       "<style scoped>\n",
       "    .dataframe tbody tr th:only-of-type {\n",
       "        vertical-align: middle;\n",
       "    }\n",
       "\n",
       "    .dataframe tbody tr th {\n",
       "        vertical-align: top;\n",
       "    }\n",
       "\n",
       "    .dataframe thead th {\n",
       "        text-align: right;\n",
       "    }\n",
       "</style>\n",
       "<table border=\"1\" class=\"dataframe\">\n",
       "  <thead>\n",
       "    <tr style=\"text-align: right;\">\n",
       "      <th></th>\n",
       "      <th></th>\n",
       "      <th></th>\n",
       "      <th>item_cnt_month</th>\n",
       "      <th>item_price</th>\n",
       "    </tr>\n",
       "    <tr>\n",
       "      <th>Month</th>\n",
       "      <th>shop_id</th>\n",
       "      <th>item_id</th>\n",
       "      <th></th>\n",
       "      <th></th>\n",
       "    </tr>\n",
       "  </thead>\n",
       "  <tbody>\n",
       "    <tr>\n",
       "      <th>2013-07</th>\n",
       "      <th>6</th>\n",
       "      <th>11858</th>\n",
       "      <td>8.0</td>\n",
       "      <td>0.100</td>\n",
       "    </tr>\n",
       "    <tr>\n",
       "      <th rowspan=\"4\" valign=\"top\">2013-06</th>\n",
       "      <th>44</th>\n",
       "      <th>11858</th>\n",
       "      <td>7.0</td>\n",
       "      <td>0.100</td>\n",
       "    </tr>\n",
       "    <tr>\n",
       "      <th>25</th>\n",
       "      <th>11858</th>\n",
       "      <td>4.0</td>\n",
       "      <td>0.100</td>\n",
       "    </tr>\n",
       "    <tr>\n",
       "      <th>26</th>\n",
       "      <th>11858</th>\n",
       "      <td>1.0</td>\n",
       "      <td>0.100</td>\n",
       "    </tr>\n",
       "    <tr>\n",
       "      <th>28</th>\n",
       "      <th>11858</th>\n",
       "      <td>1.0</td>\n",
       "      <td>0.100</td>\n",
       "    </tr>\n",
       "    <tr>\n",
       "      <th>...</th>\n",
       "      <th>...</th>\n",
       "      <th>...</th>\n",
       "      <td>...</td>\n",
       "      <td>...</td>\n",
       "    </tr>\n",
       "    <tr>\n",
       "      <th>2013-02</th>\n",
       "      <th>6</th>\n",
       "      <th>11858</th>\n",
       "      <td>1.0</td>\n",
       "      <td>139.300</td>\n",
       "    </tr>\n",
       "    <tr>\n",
       "      <th rowspan=\"4\" valign=\"top\">2013-01</th>\n",
       "      <th>37</th>\n",
       "      <th>11858</th>\n",
       "      <td>1.0</td>\n",
       "      <td>139.300</td>\n",
       "    </tr>\n",
       "    <tr>\n",
       "      <th>6</th>\n",
       "      <th>11858</th>\n",
       "      <td>3.0</td>\n",
       "      <td>169.075</td>\n",
       "    </tr>\n",
       "    <tr>\n",
       "      <th>19</th>\n",
       "      <th>11858</th>\n",
       "      <td>1.0</td>\n",
       "      <td>199.000</td>\n",
       "    </tr>\n",
       "    <tr>\n",
       "      <th>8</th>\n",
       "      <th>11858</th>\n",
       "      <td>1.0</td>\n",
       "      <td>199.000</td>\n",
       "    </tr>\n",
       "  </tbody>\n",
       "</table>\n",
       "<p>67 rows × 2 columns</p>\n",
       "</div>"
      ],
      "text/plain": [
       "                         item_cnt_month  item_price\n",
       "Month   shop_id item_id                            \n",
       "2013-07 6       11858               8.0       0.100\n",
       "2013-06 44      11858               7.0       0.100\n",
       "        25      11858               4.0       0.100\n",
       "        26      11858               1.0       0.100\n",
       "        28      11858               1.0       0.100\n",
       "...                                 ...         ...\n",
       "2013-02 6       11858               1.0     139.300\n",
       "2013-01 37      11858               1.0     139.300\n",
       "        6       11858               3.0     169.075\n",
       "        19      11858               1.0     199.000\n",
       "        8       11858               1.0     199.000\n",
       "\n",
       "[67 rows x 2 columns]"
      ]
     },
     "execution_count": 143,
     "metadata": {},
     "output_type": "execute_result"
    }
   ],
   "source": [
    "agg_sales.loc[pd.IndexSlice[:,:,11858], :].sort_values(by='item_price')"
   ]
  },
  {
   "cell_type": "code",
   "execution_count": 144,
   "metadata": {},
   "outputs": [
    {
     "data": {
      "text/html": [
       "<div>\n",
       "<style scoped>\n",
       "    .dataframe tbody tr th:only-of-type {\n",
       "        vertical-align: middle;\n",
       "    }\n",
       "\n",
       "    .dataframe tbody tr th {\n",
       "        vertical-align: top;\n",
       "    }\n",
       "\n",
       "    .dataframe thead th {\n",
       "        text-align: right;\n",
       "    }\n",
       "</style>\n",
       "<table border=\"1\" class=\"dataframe\">\n",
       "  <thead>\n",
       "    <tr style=\"text-align: right;\">\n",
       "      <th></th>\n",
       "      <th>item_name</th>\n",
       "      <th>item_id</th>\n",
       "      <th>item_category_id</th>\n",
       "    </tr>\n",
       "  </thead>\n",
       "  <tbody>\n",
       "    <tr>\n",
       "      <th>11858</th>\n",
       "      <td>Змей ВАСЯ с цветком 22 см</td>\n",
       "      <td>11858</td>\n",
       "      <td>63</td>\n",
       "    </tr>\n",
       "  </tbody>\n",
       "</table>\n",
       "</div>"
      ],
      "text/plain": [
       "                       item_name  item_id  item_category_id\n",
       "11858  Змей ВАСЯ с цветком 22 см    11858                63"
      ]
     },
     "execution_count": 144,
     "metadata": {},
     "output_type": "execute_result"
    }
   ],
   "source": [
    "items.query('item_id == 11858')"
   ]
  },
  {
   "cell_type": "markdown",
   "metadata": {},
   "source": [
    "google translate: 'Змея ВАСИЛИСА 23 см' --> 'Snake VASILISA 23 cm'"
   ]
  },
  {
   "cell_type": "code",
   "execution_count": 147,
   "metadata": {},
   "outputs": [
    {
     "data": {
      "text/html": [
       "<div>\n",
       "<style scoped>\n",
       "    .dataframe tbody tr th:only-of-type {\n",
       "        vertical-align: middle;\n",
       "    }\n",
       "\n",
       "    .dataframe tbody tr th {\n",
       "        vertical-align: top;\n",
       "    }\n",
       "\n",
       "    .dataframe thead th {\n",
       "        text-align: right;\n",
       "    }\n",
       "</style>\n",
       "<table border=\"1\" class=\"dataframe\">\n",
       "  <thead>\n",
       "    <tr style=\"text-align: right;\">\n",
       "      <th></th>\n",
       "      <th>item_name</th>\n",
       "      <th>item_id</th>\n",
       "      <th>item_category_id</th>\n",
       "    </tr>\n",
       "  </thead>\n",
       "  <tbody>\n",
       "    <tr>\n",
       "      <th>20145</th>\n",
       "      <td>Удавчик Плюшевый: 75см. (яйцо пластик)</td>\n",
       "      <td>20145</td>\n",
       "      <td>63</td>\n",
       "    </tr>\n",
       "  </tbody>\n",
       "</table>\n",
       "</div>"
      ],
      "text/plain": [
       "                                    item_name  item_id  item_category_id\n",
       "20145  Удавчик Плюшевый: 75см. (яйцо пластик)    20145                63"
      ]
     },
     "execution_count": 147,
     "metadata": {},
     "output_type": "execute_result"
    }
   ],
   "source": [
    "items.query('item_id == 20145')"
   ]
  },
  {
   "cell_type": "markdown",
   "metadata": {},
   "source": [
    "google translate: 'Удавчик Плюшевый: 75см. (яйцо пластик)' --> 'Boa constrictor Plush: 75cm (egg plastic)'"
   ]
  },
  {
   "cell_type": "code",
   "execution_count": 153,
   "metadata": {},
   "outputs": [
    {
     "data": {
      "text/plain": [
       "844"
      ]
     },
     "execution_count": 153,
     "metadata": {},
     "output_type": "execute_result"
    }
   ],
   "source": [
    "(agg_sales.item_price == 0.1).sum()"
   ]
  },
  {
   "cell_type": "code",
   "execution_count": 154,
   "metadata": {},
   "outputs": [
    {
     "data": {
      "text/plain": [
       "943"
      ]
     },
     "execution_count": 154,
     "metadata": {},
     "output_type": "execute_result"
    }
   ],
   "source": [
    "(agg_sales.item_price <= 0.1).sum()"
   ]
  },
  {
   "cell_type": "markdown",
   "metadata": {},
   "source": [
    "I think 0.1 is a null value for prices - will replace with median price"
   ]
  },
  {
   "cell_type": "code",
   "execution_count": 173,
   "metadata": {},
   "outputs": [],
   "source": [
    "agg_sales.loc[agg_sales.item_price <= 0.1, 'item_price'] = np.nan\n",
    "agg_sales['item_price'] = agg_sales.groupby(level=2).item_price.transform(lambda x: x.fillna(x.mean()))"
   ]
  },
  {
   "cell_type": "markdown",
   "metadata": {},
   "source": [
    "look at price counts"
   ]
  },
  {
   "cell_type": "code",
   "execution_count": 178,
   "metadata": {},
   "outputs": [
    {
     "data": {
      "text/plain": [
       "299.0     177451\n",
       "149.0     160034\n",
       "199.0     127417\n",
       "399.0     108742\n",
       "349.0      56251\n",
       "249.0      48987\n",
       "499.0      39628\n",
       "599.0      37892\n",
       "999.0      37129\n",
       "699.0      31261\n",
       "799.0      29823\n",
       "99.0       27647\n",
       "899.0      26610\n",
       "1199.0     24861\n",
       "549.0      23323\n",
       "449.0      22382\n",
       "1499.0     22229\n",
       "1999.0     21080\n",
       "169.0      13261\n",
       "2599.0     12047\n",
       "Name: item_price, dtype: int64"
      ]
     },
     "execution_count": 178,
     "metadata": {},
     "output_type": "execute_result"
    }
   ],
   "source": [
    "agg_sales.item_price.value_counts().head(20)"
   ]
  },
  {
   "cell_type": "markdown",
   "metadata": {},
   "source": [
    "TODO: Create and feature, price ends in 9"
   ]
  },
  {
   "cell_type": "markdown",
   "metadata": {},
   "source": [
    "<br>\n",
    "<hr>\n",
    "<br>"
   ]
  },
  {
   "cell_type": "markdown",
   "metadata": {},
   "source": [
    "Look at distinct number of shops and items"
   ]
  },
  {
   "cell_type": "markdown",
   "metadata": {},
   "source": [
    "Look at unique values"
   ]
  },
  {
   "cell_type": "code",
   "execution_count": 5,
   "metadata": {},
   "outputs": [
    {
     "data": {
      "text/plain": [
       "Month         34\n",
       "shop_id       60\n",
       "item_id    21807\n",
       "dtype: int64"
      ]
     },
     "execution_count": 5,
     "metadata": {},
     "output_type": "execute_result"
    }
   ],
   "source": [
    "agg_sales.reset_index()[['Month','shop_id', 'item_id']].nunique()"
   ]
  },
  {
   "cell_type": "markdown",
   "metadata": {},
   "source": [
    "distinct items per month per shop"
   ]
  },
  {
   "cell_type": "code",
   "execution_count": 6,
   "metadata": {},
   "outputs": [
    {
     "data": {
      "text/html": [
       "<div>\n",
       "<style scoped>\n",
       "    .dataframe tbody tr th:only-of-type {\n",
       "        vertical-align: middle;\n",
       "    }\n",
       "\n",
       "    .dataframe tbody tr th {\n",
       "        vertical-align: top;\n",
       "    }\n",
       "\n",
       "    .dataframe thead th {\n",
       "        text-align: right;\n",
       "    }\n",
       "</style>\n",
       "<table border=\"1\" class=\"dataframe\">\n",
       "  <thead>\n",
       "    <tr style=\"text-align: right;\">\n",
       "      <th></th>\n",
       "      <th>shop_id</th>\n",
       "      <th>item_id</th>\n",
       "    </tr>\n",
       "    <tr>\n",
       "      <th>Month</th>\n",
       "      <th></th>\n",
       "      <th></th>\n",
       "    </tr>\n",
       "  </thead>\n",
       "  <tbody>\n",
       "    <tr>\n",
       "      <th>2013-01</th>\n",
       "      <td>45</td>\n",
       "      <td>8115</td>\n",
       "    </tr>\n",
       "    <tr>\n",
       "      <th>2013-02</th>\n",
       "      <td>46</td>\n",
       "      <td>8168</td>\n",
       "    </tr>\n",
       "    <tr>\n",
       "      <th>2013-03</th>\n",
       "      <td>46</td>\n",
       "      <td>8302</td>\n",
       "    </tr>\n",
       "    <tr>\n",
       "      <th>2013-04</th>\n",
       "      <td>46</td>\n",
       "      <td>8145</td>\n",
       "    </tr>\n",
       "    <tr>\n",
       "      <th>2013-05</th>\n",
       "      <td>45</td>\n",
       "      <td>8339</td>\n",
       "    </tr>\n",
       "  </tbody>\n",
       "</table>\n",
       "</div>"
      ],
      "text/plain": [
       "         shop_id  item_id\n",
       "Month                    \n",
       "2013-01       45     8115\n",
       "2013-02       46     8168\n",
       "2013-03       46     8302\n",
       "2013-04       46     8145\n",
       "2013-05       45     8339"
      ]
     },
     "execution_count": 6,
     "metadata": {},
     "output_type": "execute_result"
    }
   ],
   "source": [
    "agg_sales.reset_index().groupby('Month')[['shop_id', 'item_id']].nunique().head()"
   ]
  },
  {
   "cell_type": "code",
   "execution_count": 7,
   "metadata": {},
   "outputs": [
    {
     "data": {
      "image/png": "[encoded data removed]",
      "text/plain": [
       "<Figure size 432x288 with 1 Axes>"
      ]
     },
     "metadata": {
      "needs_background": "light"
     },
     "output_type": "display_data"
    }
   ],
   "source": [
    "distinct_items_per_shop = agg_sales.reset_index().groupby('shop_id')['item_id'].nunique().sort_values()\n",
    "plt.barh(range(distinct_items_per_shop.shape[0]), distinct_items_per_shop.values);"
   ]
  },
  {
   "cell_type": "markdown",
   "metadata": {},
   "source": [
    "Some shops sell alot of items, and some shops sell very few - perhaps I need an encoding for shop id based on how many distinct items that shop sold"
   ]
  },
  {
   "cell_type": "code",
   "execution_count": 8,
   "metadata": {},
   "outputs": [
    {
     "data": {
      "text/plain": [
       "3600"
      ]
     },
     "execution_count": 8,
     "metadata": {},
     "output_type": "execute_result"
    }
   ],
   "source": [
    "distinct_items_per_shop.loc[0]"
   ]
  },
  {
   "cell_type": "markdown",
   "metadata": {},
   "source": [
    "<br>\n",
    "<hr>\n",
    "<br>"
   ]
  },
  {
   "cell_type": "markdown",
   "metadata": {},
   "source": [
    "Aggregate accross items and shops - and look at temporal behavior"
   ]
  },
  {
   "cell_type": "code",
   "execution_count": 9,
   "metadata": {},
   "outputs": [
    {
     "data": {
      "image/png": "[encoded data removed]",
      "text/plain": [
       "<Figure size 864x288 with 2 Axes>"
      ]
     },
     "metadata": {
      "needs_background": "light"
     },
     "output_type": "display_data"
    }
   ],
   "source": [
    "fig, ax  = plt.subplots(1,2)\n",
    "fig.set_figwidth(12)\n",
    "agg_sales.groupby(level=0).item_cnt_month.sum().plot(ax=ax[0])\n",
    "ax[0].set_title('Total number of items sold')\n",
    "agg_sales.groupby(level=0).apply(lambda x: (x.item_cnt_month*x.item_price).sum()).plot(ax=ax[1])\n",
    "ax[1].set_title('Total item*price ')\n",
    "plt.show()"
   ]
  },
  {
   "cell_type": "markdown",
   "metadata": {},
   "source": [
    "* Decembers are clearly very different from all other months. Will need to either remove, or add a feature for this.\n",
    "* Also there is a clear difference between summer months and winter months (holidays?)"
   ]
  },
  {
   "cell_type": "code",
   "execution_count": 10,
   "metadata": {},
   "outputs": [],
   "source": [
    "monthly_agg = agg_sales.groupby(level=0).item_cnt_month.sum()\n",
    "month_of_year = monthly_agg.reset_index().Month.dt.month.rename('MOY')\n",
    "month_of_year.index = monthly_agg.index\n",
    "temp = pd.concat([monthly_agg, month_of_year ], axis=1)"
   ]
  },
  {
   "cell_type": "code",
   "execution_count": 11,
   "metadata": {},
   "outputs": [
    {
     "data": {
      "text/plain": [
       "<matplotlib.axes._subplots.AxesSubplot at 0x1ebd61af400>"
      ]
     },
     "execution_count": 11,
     "metadata": {},
     "output_type": "execute_result"
    },
    {
     "data": {
      "image/png": "[encoded data removed]",
      "text/plain": [
       "<Figure size 432x288 with 1 Axes>"
      ]
     },
     "metadata": {
      "needs_background": "light"
     },
     "output_type": "display_data"
    }
   ],
   "source": [
    "temp.groupby('MOY').item_cnt_month.sum().plot(kind='bar')"
   ]
  },
  {
   "cell_type": "code",
   "execution_count": 12,
   "metadata": {},
   "outputs": [
    {
     "data": {
      "text/plain": [
       "<matplotlib.axes._subplots.AxesSubplot at 0x1ebd64069b0>"
      ]
     },
     "execution_count": 12,
     "metadata": {},
     "output_type": "execute_result"
    },
    {
     "data": {
      "image/png": "[encoded data removed]",
      "text/plain": [
       "<Figure size 432x288 with 1 Axes>"
      ]
     },
     "metadata": {
      "needs_background": "light"
     },
     "output_type": "display_data"
    }
   ],
   "source": [
    "temp.groupby('MOY').item_cnt_month.mean().plot(kind='bar')"
   ]
  },
  {
   "cell_type": "markdown",
   "metadata": {},
   "source": [
    "<br>\n",
    "<hr>\n",
    "<br>"
   ]
  },
  {
   "cell_type": "markdown",
   "metadata": {},
   "source": [
    "## Project into items space"
   ]
  },
  {
   "cell_type": "markdown",
   "metadata": {},
   "source": [
    "How many times we see each item in data set"
   ]
  },
  {
   "cell_type": "code",
   "execution_count": 13,
   "metadata": {},
   "outputs": [],
   "source": [
    "item_appearances = agg_sales.groupby(level=2).item_cnt_month.count().sort_values()"
   ]
  },
  {
   "cell_type": "code",
   "execution_count": 14,
   "metadata": {},
   "outputs": [
    {
     "data": {
      "text/plain": [
       "item_id\n",
       "0       1\n",
       "7509    1\n",
       "7523    1\n",
       "7537    1\n",
       "7546    1\n",
       "7547    1\n",
       "7549    1\n",
       "7550    1\n",
       "7553    1\n",
       "7555    1\n",
       "Name: item_cnt_month, dtype: int64"
      ]
     },
     "execution_count": 14,
     "metadata": {},
     "output_type": "execute_result"
    }
   ],
   "source": [
    "item_appearances.head(10)"
   ]
  },
  {
   "cell_type": "code",
   "execution_count": 15,
   "metadata": {},
   "outputs": [
    {
     "data": {
      "text/plain": [
       "2521"
      ]
     },
     "execution_count": 15,
     "metadata": {},
     "output_type": "execute_result"
    }
   ],
   "source": [
    "(item_appearances == 1).sum()"
   ]
  },
  {
   "cell_type": "markdown",
   "metadata": {},
   "source": [
    "There are > 2000 items that we only see once! I need a feature to capture this."
   ]
  },
  {
   "cell_type": "code",
   "execution_count": 16,
   "metadata": {},
   "outputs": [
    {
     "data": {
      "image/png": "[encoded data removed]",
      "text/plain": [
       "<Figure size 432x288 with 1 Axes>"
      ]
     },
     "metadata": {
      "needs_background": "light"
     },
     "output_type": "display_data"
    }
   ],
   "source": [
    "plt.boxplot(item_appearances);"
   ]
  },
  {
   "cell_type": "markdown",
   "metadata": {},
   "source": [
    "Looks at num sales distribution accross items"
   ]
  },
  {
   "cell_type": "code",
   "execution_count": 17,
   "metadata": {},
   "outputs": [],
   "source": [
    "aggregated_sales_per_item = agg_sales.groupby(level=2).item_cnt_month.sum()"
   ]
  },
  {
   "cell_type": "code",
   "execution_count": 18,
   "metadata": {},
   "outputs": [
    {
     "data": {
      "image/png": "[encoded data removed]",
      "text/plain": [
       "<Figure size 432x288 with 1 Axes>"
      ]
     },
     "metadata": {
      "needs_background": "light"
     },
     "output_type": "display_data"
    }
   ],
   "source": [
    "plt.boxplot(aggregated_sales_per_item);"
   ]
  },
  {
   "cell_type": "code",
   "execution_count": 19,
   "metadata": {},
   "outputs": [
    {
     "data": {
      "text/plain": [
       "item_id\n",
       "1590        -11.0\n",
       "13474        -1.0\n",
       "11871        -1.0\n",
       "18062        -1.0\n",
       "13477         0.0\n",
       "           ...   \n",
       "5822      14515.0\n",
       "17717     15830.0\n",
       "3732      16642.0\n",
       "2808      17245.0\n",
       "20949    187642.0\n",
       "Name: item_cnt_month, Length: 21807, dtype: float64"
      ]
     },
     "execution_count": 19,
     "metadata": {},
     "output_type": "execute_result"
    }
   ],
   "source": [
    "aggregated_sales_per_item.sort_values()"
   ]
  },
  {
   "cell_type": "code",
   "execution_count": 20,
   "metadata": {},
   "outputs": [
    {
     "data": {
      "text/html": [
       "<div>\n",
       "<style scoped>\n",
       "    .dataframe tbody tr th:only-of-type {\n",
       "        vertical-align: middle;\n",
       "    }\n",
       "\n",
       "    .dataframe tbody tr th {\n",
       "        vertical-align: top;\n",
       "    }\n",
       "\n",
       "    .dataframe thead th {\n",
       "        text-align: right;\n",
       "    }\n",
       "</style>\n",
       "<table border=\"1\" class=\"dataframe\">\n",
       "  <thead>\n",
       "    <tr style=\"text-align: right;\">\n",
       "      <th></th>\n",
       "      <th></th>\n",
       "      <th></th>\n",
       "      <th>item_cnt_month</th>\n",
       "      <th>item_price</th>\n",
       "    </tr>\n",
       "    <tr>\n",
       "      <th>Month</th>\n",
       "      <th>shop_id</th>\n",
       "      <th>item_id</th>\n",
       "      <th></th>\n",
       "      <th></th>\n",
       "    </tr>\n",
       "  </thead>\n",
       "  <tbody>\n",
       "    <tr>\n",
       "      <th>2013-04</th>\n",
       "      <th>3</th>\n",
       "      <th>20949</th>\n",
       "      <td>1.0</td>\n",
       "      <td>5.000000</td>\n",
       "    </tr>\n",
       "    <tr>\n",
       "      <th>2015-09</th>\n",
       "      <th>2</th>\n",
       "      <th>20949</th>\n",
       "      <td>1.0</td>\n",
       "      <td>5.000000</td>\n",
       "    </tr>\n",
       "    <tr>\n",
       "      <th>2015-08</th>\n",
       "      <th>45</th>\n",
       "      <th>20949</th>\n",
       "      <td>1.0</td>\n",
       "      <td>5.000000</td>\n",
       "    </tr>\n",
       "    <tr>\n",
       "      <th>2015-07</th>\n",
       "      <th>52</th>\n",
       "      <th>20949</th>\n",
       "      <td>1.0</td>\n",
       "      <td>5.000000</td>\n",
       "    </tr>\n",
       "    <tr>\n",
       "      <th>2015-01</th>\n",
       "      <th>41</th>\n",
       "      <th>20949</th>\n",
       "      <td>1.0</td>\n",
       "      <td>5.000000</td>\n",
       "    </tr>\n",
       "    <tr>\n",
       "      <th>...</th>\n",
       "      <th>...</th>\n",
       "      <th>...</th>\n",
       "      <td>...</td>\n",
       "      <td>...</td>\n",
       "    </tr>\n",
       "    <tr>\n",
       "      <th>2014-12</th>\n",
       "      <th>25</th>\n",
       "      <th>20949</th>\n",
       "      <td>997.0</td>\n",
       "      <td>4.999769</td>\n",
       "    </tr>\n",
       "    <tr>\n",
       "      <th>2015-01</th>\n",
       "      <th>12</th>\n",
       "      <th>20949</th>\n",
       "      <td>1000.0</td>\n",
       "      <td>4.000000</td>\n",
       "    </tr>\n",
       "    <tr>\n",
       "      <th>2013-12</th>\n",
       "      <th>25</th>\n",
       "      <th>20949</th>\n",
       "      <td>1066.0</td>\n",
       "      <td>5.000000</td>\n",
       "    </tr>\n",
       "    <tr>\n",
       "      <th>2014-12</th>\n",
       "      <th>31</th>\n",
       "      <th>20949</th>\n",
       "      <td>1209.0</td>\n",
       "      <td>5.000000</td>\n",
       "    </tr>\n",
       "    <tr>\n",
       "      <th>2013-12</th>\n",
       "      <th>31</th>\n",
       "      <th>20949</th>\n",
       "      <td>1305.0</td>\n",
       "      <td>4.998710</td>\n",
       "    </tr>\n",
       "  </tbody>\n",
       "</table>\n",
       "<p>1324 rows × 2 columns</p>\n",
       "</div>"
      ],
      "text/plain": [
       "                         item_cnt_month  item_price\n",
       "Month   shop_id item_id                            \n",
       "2013-04 3       20949               1.0    5.000000\n",
       "2015-09 2       20949               1.0    5.000000\n",
       "2015-08 45      20949               1.0    5.000000\n",
       "2015-07 52      20949               1.0    5.000000\n",
       "2015-01 41      20949               1.0    5.000000\n",
       "...                                 ...         ...\n",
       "2014-12 25      20949             997.0    4.999769\n",
       "2015-01 12      20949            1000.0    4.000000\n",
       "2013-12 25      20949            1066.0    5.000000\n",
       "2014-12 31      20949            1209.0    5.000000\n",
       "2013-12 31      20949            1305.0    4.998710\n",
       "\n",
       "[1324 rows x 2 columns]"
      ]
     },
     "execution_count": 20,
     "metadata": {},
     "output_type": "execute_result"
    }
   ],
   "source": [
    "agg_sales.loc[pd.IndexSlice[:,:,20949], :].sort_values(by='item_cnt_month')"
   ]
  },
  {
   "cell_type": "code",
   "execution_count": 21,
   "metadata": {},
   "outputs": [
    {
     "data": {
      "text/plain": [
       "array(['Фирменный пакет майка 1С Интерес белый (34*42) 45 мкм'],\n",
       "      dtype=object)"
      ]
     },
     "execution_count": 21,
     "metadata": {},
     "output_type": "execute_result"
    }
   ],
   "source": [
    "items.query('item_id == 20949').item_name.values"
   ]
  },
  {
   "cell_type": "markdown",
   "metadata": {},
   "source": [
    "google says: 'Фирменный пакет майка 1С Интерес белый (34*42) 45 мкм' -->'Branded jersey package 1C Interest white (34/42) 45 microns'"
   ]
  },
  {
   "cell_type": "code",
   "execution_count": 22,
   "metadata": {},
   "outputs": [
    {
     "data": {
      "text/plain": [
       "<matplotlib.axes._subplots.AxesSubplot at 0x1ebd6571748>"
      ]
     },
     "execution_count": 22,
     "metadata": {},
     "output_type": "execute_result"
    },
    {
     "data": {
      "image/png": "[encoded data removed]",
      "text/plain": [
       "<Figure size 432x288 with 1 Axes>"
      ]
     },
     "metadata": {
      "needs_background": "light"
     },
     "output_type": "display_data"
    }
   ],
   "source": [
    "agg_sales.loc[pd.IndexSlice[:,:,20949], :].groupby(level=0).item_cnt_month.sum().plot()"
   ]
  },
  {
   "cell_type": "markdown",
   "metadata": {},
   "source": [
    "Seems like a seasonal - winter vs summer thing"
   ]
  },
  {
   "cell_type": "markdown",
   "metadata": {},
   "source": [
    "Perhaps I should create a feature for this specific item since it is sold so much more than anything else"
   ]
  },
  {
   "cell_type": "markdown",
   "metadata": {},
   "source": [
    "<br>\n",
    "<hr>\n",
    "<br>"
   ]
  },
  {
   "cell_type": "code",
   "execution_count": 23,
   "metadata": {},
   "outputs": [
    {
     "data": {
      "image/png": "[encoded data removed]",
      "text/plain": [
       "<Figure size 432x288 with 1 Axes>"
      ]
     },
     "metadata": {
      "needs_background": "light"
     },
     "output_type": "display_data"
    }
   ],
   "source": [
    "profit_per_shop = agg_sales.groupby(level=[0,1]).apply(lambda x: (x.item_cnt_month*x.item_price).sum()).unstack(level=1).fillna(0)\n",
    "plt.boxplot(profit_per_shop.sum().sort_values());"
   ]
  },
  {
   "cell_type": "code",
   "execution_count": 24,
   "metadata": {},
   "outputs": [],
   "source": [
    "item_life = pd.concat([agg_sales.reset_index().groupby('item_id').Month.min().rename('First'),\n",
    "          agg_sales.reset_index().groupby('item_id').Month.max().rename('Last')], axis=1)"
   ]
  },
  {
   "cell_type": "code",
   "execution_count": 25,
   "metadata": {},
   "outputs": [],
   "source": [
    "num_months = (item_life.Last - item_life.First).apply(lambda x: x.n + 1)"
   ]
  },
  {
   "cell_type": "code",
   "execution_count": 26,
   "metadata": {},
   "outputs": [
    {
     "data": {
      "text/plain": [
       "count    21807.000000\n",
       "mean        14.046270\n",
       "std          9.962316\n",
       "min          1.000000\n",
       "25%          5.000000\n",
       "50%         13.000000\n",
       "75%         21.000000\n",
       "max         34.000000\n",
       "dtype: float64"
      ]
     },
     "execution_count": 26,
     "metadata": {},
     "output_type": "execute_result"
    }
   ],
   "source": [
    "num_months.describe()"
   ]
  },
  {
   "cell_type": "code",
   "execution_count": 27,
   "metadata": {},
   "outputs": [
    {
     "data": {
      "image/png": "[encoded data removed]",
      "text/plain": [
       "<Figure size 432x288 with 1 Axes>"
      ]
     },
     "metadata": {
      "needs_background": "light"
     },
     "output_type": "display_data"
    }
   ],
   "source": [
    "plt.boxplot(num_months);"
   ]
  },
  {
   "cell_type": "code",
   "execution_count": 28,
   "metadata": {},
   "outputs": [
    {
     "data": {
      "text/plain": [
       "<matplotlib.collections.PathCollection at 0x1ebd6113f60>"
      ]
     },
     "execution_count": 28,
     "metadata": {},
     "output_type": "execute_result"
    },
    {
     "data": {
      "image/png": "[encoded data removed]",
      "text/plain": [
       "<Figure size 432x288 with 1 Axes>"
      ]
     },
     "metadata": {
      "needs_background": "light"
     },
     "output_type": "display_data"
    }
   ],
   "source": [
    "plt.scatter(num_months.index, num_months.values, alpha=0.1)"
   ]
  },
  {
   "cell_type": "markdown",
   "metadata": {},
   "source": [
    "<br>\n",
    "<hr>\n",
    "<br>\n"
   ]
  },
  {
   "cell_type": "markdown",
   "metadata": {},
   "source": [
    "Are lower priced items sold consistently more than higher priced items?"
   ]
  },
  {
   "cell_type": "code",
   "execution_count": 29,
   "metadata": {},
   "outputs": [
    {
     "data": {
      "text/html": [
       "<div>\n",
       "<style scoped>\n",
       "    .dataframe tbody tr th:only-of-type {\n",
       "        vertical-align: middle;\n",
       "    }\n",
       "\n",
       "    .dataframe tbody tr th {\n",
       "        vertical-align: top;\n",
       "    }\n",
       "\n",
       "    .dataframe thead th {\n",
       "        text-align: right;\n",
       "    }\n",
       "</style>\n",
       "<table border=\"1\" class=\"dataframe\">\n",
       "  <thead>\n",
       "    <tr style=\"text-align: right;\">\n",
       "      <th></th>\n",
       "      <th></th>\n",
       "      <th></th>\n",
       "      <th>item_cnt_month</th>\n",
       "      <th>item_price</th>\n",
       "    </tr>\n",
       "    <tr>\n",
       "      <th>Month</th>\n",
       "      <th>shop_id</th>\n",
       "      <th>item_id</th>\n",
       "      <th></th>\n",
       "      <th></th>\n",
       "    </tr>\n",
       "  </thead>\n",
       "  <tbody>\n",
       "    <tr>\n",
       "      <th rowspan=\"5\" valign=\"top\">2013-01</th>\n",
       "      <th rowspan=\"5\" valign=\"top\">0</th>\n",
       "      <th>32</th>\n",
       "      <td>6.0</td>\n",
       "      <td>221.0</td>\n",
       "    </tr>\n",
       "    <tr>\n",
       "      <th>33</th>\n",
       "      <td>3.0</td>\n",
       "      <td>347.0</td>\n",
       "    </tr>\n",
       "    <tr>\n",
       "      <th>35</th>\n",
       "      <td>1.0</td>\n",
       "      <td>247.0</td>\n",
       "    </tr>\n",
       "    <tr>\n",
       "      <th>43</th>\n",
       "      <td>1.0</td>\n",
       "      <td>221.0</td>\n",
       "    </tr>\n",
       "    <tr>\n",
       "      <th>51</th>\n",
       "      <td>2.0</td>\n",
       "      <td>128.5</td>\n",
       "    </tr>\n",
       "  </tbody>\n",
       "</table>\n",
       "</div>"
      ],
      "text/plain": [
       "                         item_cnt_month  item_price\n",
       "Month   shop_id item_id                            \n",
       "2013-01 0       32                  6.0       221.0\n",
       "                33                  3.0       347.0\n",
       "                35                  1.0       247.0\n",
       "                43                  1.0       221.0\n",
       "                51                  2.0       128.5"
      ]
     },
     "execution_count": 29,
     "metadata": {},
     "output_type": "execute_result"
    }
   ],
   "source": [
    "agg_sales.head()"
   ]
  },
  {
   "cell_type": "code",
   "execution_count": 30,
   "metadata": {},
   "outputs": [],
   "source": [
    "agg_sales_and_price = agg_sales.groupby(level=[0,2]).agg({'item_cnt_month':sum, 'item_price':max})"
   ]
  },
  {
   "cell_type": "code",
   "execution_count": 31,
   "metadata": {},
   "outputs": [
    {
     "data": {
      "text/plain": [
       "<matplotlib.collections.PathCollection at 0x1ebd63d7080>"
      ]
     },
     "execution_count": 31,
     "metadata": {},
     "output_type": "execute_result"
    },
    {
     "data": {
      "image/png": "[encoded data removed]",
      "text/plain": [
       "<Figure size 432x288 with 1 Axes>"
      ]
     },
     "metadata": {
      "needs_background": "light"
     },
     "output_type": "display_data"
    }
   ],
   "source": [
    "plt.scatter(agg_sales_and_price.item_cnt_month, agg_sales_and_price.item_price)"
   ]
  },
  {
   "cell_type": "markdown",
   "metadata": {},
   "source": [
    "Is that one an outlier?"
   ]
  },
  {
   "cell_type": "code",
   "execution_count": 32,
   "metadata": {},
   "outputs": [
    {
     "data": {
      "text/html": [
       "<div>\n",
       "<style scoped>\n",
       "    .dataframe tbody tr th:only-of-type {\n",
       "        vertical-align: middle;\n",
       "    }\n",
       "\n",
       "    .dataframe tbody tr th {\n",
       "        vertical-align: top;\n",
       "    }\n",
       "\n",
       "    .dataframe thead th {\n",
       "        text-align: right;\n",
       "    }\n",
       "</style>\n",
       "<table border=\"1\" class=\"dataframe\">\n",
       "  <thead>\n",
       "    <tr style=\"text-align: right;\">\n",
       "      <th></th>\n",
       "      <th></th>\n",
       "      <th></th>\n",
       "      <th>item_cnt_month</th>\n",
       "      <th>item_price</th>\n",
       "    </tr>\n",
       "    <tr>\n",
       "      <th>Month</th>\n",
       "      <th>shop_id</th>\n",
       "      <th>item_id</th>\n",
       "      <th></th>\n",
       "      <th></th>\n",
       "    </tr>\n",
       "  </thead>\n",
       "  <tbody>\n",
       "    <tr>\n",
       "      <th>2013-07</th>\n",
       "      <th>6</th>\n",
       "      <th>11872</th>\n",
       "      <td>1.0</td>\n",
       "      <td>0.090000</td>\n",
       "    </tr>\n",
       "    <tr>\n",
       "      <th rowspan=\"4\" valign=\"top\">2013-06</th>\n",
       "      <th>58</th>\n",
       "      <th>11865</th>\n",
       "      <td>4.0</td>\n",
       "      <td>0.090000</td>\n",
       "    </tr>\n",
       "    <tr>\n",
       "      <th>6</th>\n",
       "      <th>11864</th>\n",
       "      <td>7.0</td>\n",
       "      <td>0.094000</td>\n",
       "    </tr>\n",
       "    <tr>\n",
       "      <th>58</th>\n",
       "      <th>20146</th>\n",
       "      <td>6.0</td>\n",
       "      <td>0.095833</td>\n",
       "    </tr>\n",
       "    <tr>\n",
       "      <th>31</th>\n",
       "      <th>11872</th>\n",
       "      <td>8.0</td>\n",
       "      <td>0.100000</td>\n",
       "    </tr>\n",
       "    <tr>\n",
       "      <th>...</th>\n",
       "      <th>...</th>\n",
       "      <th>...</th>\n",
       "      <td>...</td>\n",
       "      <td>...</td>\n",
       "    </tr>\n",
       "    <tr>\n",
       "      <th rowspan=\"2\" valign=\"top\">2015-10</th>\n",
       "      <th>22</th>\n",
       "      <th>13403</th>\n",
       "      <td>1.0</td>\n",
       "      <td>42990.000000</td>\n",
       "    </tr>\n",
       "    <tr>\n",
       "      <th>3</th>\n",
       "      <th>13403</th>\n",
       "      <td>1.0</td>\n",
       "      <td>42990.000000</td>\n",
       "    </tr>\n",
       "    <tr>\n",
       "      <th>2015-01</th>\n",
       "      <th>12</th>\n",
       "      <th>7241</th>\n",
       "      <td>1.0</td>\n",
       "      <td>49782.000000</td>\n",
       "    </tr>\n",
       "    <tr>\n",
       "      <th>2014-03</th>\n",
       "      <th>25</th>\n",
       "      <th>13199</th>\n",
       "      <td>1.0</td>\n",
       "      <td>50999.000000</td>\n",
       "    </tr>\n",
       "    <tr>\n",
       "      <th>2013-12</th>\n",
       "      <th>12</th>\n",
       "      <th>6066</th>\n",
       "      <td>1.0</td>\n",
       "      <td>307980.000000</td>\n",
       "    </tr>\n",
       "  </tbody>\n",
       "</table>\n",
       "<p>1609124 rows × 2 columns</p>\n",
       "</div>"
      ],
      "text/plain": [
       "                         item_cnt_month     item_price\n",
       "Month   shop_id item_id                               \n",
       "2013-07 6       11872               1.0       0.090000\n",
       "2013-06 58      11865               4.0       0.090000\n",
       "        6       11864               7.0       0.094000\n",
       "        58      20146               6.0       0.095833\n",
       "        31      11872               8.0       0.100000\n",
       "...                                 ...            ...\n",
       "2015-10 22      13403               1.0   42990.000000\n",
       "        3       13403               1.0   42990.000000\n",
       "2015-01 12      7241                1.0   49782.000000\n",
       "2014-03 25      13199               1.0   50999.000000\n",
       "2013-12 12      6066                1.0  307980.000000\n",
       "\n",
       "[1609124 rows x 2 columns]"
      ]
     },
     "execution_count": 32,
     "metadata": {},
     "output_type": "execute_result"
    }
   ],
   "source": [
    "agg_sales.sort_values(by='item_price')"
   ]
  },
  {
   "cell_type": "code",
   "execution_count": 33,
   "metadata": {},
   "outputs": [
    {
     "data": {
      "text/html": [
       "<div>\n",
       "<style scoped>\n",
       "    .dataframe tbody tr th:only-of-type {\n",
       "        vertical-align: middle;\n",
       "    }\n",
       "\n",
       "    .dataframe tbody tr th {\n",
       "        vertical-align: top;\n",
       "    }\n",
       "\n",
       "    .dataframe thead th {\n",
       "        text-align: right;\n",
       "    }\n",
       "</style>\n",
       "<table border=\"1\" class=\"dataframe\">\n",
       "  <thead>\n",
       "    <tr style=\"text-align: right;\">\n",
       "      <th></th>\n",
       "      <th>item_name</th>\n",
       "      <th>item_id</th>\n",
       "      <th>item_category_id</th>\n",
       "    </tr>\n",
       "  </thead>\n",
       "  <tbody>\n",
       "    <tr>\n",
       "      <th>6066</th>\n",
       "      <td>Radmin 3  - 522 лиц.</td>\n",
       "      <td>6066</td>\n",
       "      <td>75</td>\n",
       "    </tr>\n",
       "  </tbody>\n",
       "</table>\n",
       "</div>"
      ],
      "text/plain": [
       "                 item_name  item_id  item_category_id\n",
       "6066  Radmin 3  - 522 лиц.     6066                75"
      ]
     },
     "execution_count": 33,
     "metadata": {},
     "output_type": "execute_result"
    }
   ],
   "source": [
    "items.query('item_id == 6066')"
   ]
  },
  {
   "cell_type": "markdown",
   "metadata": {},
   "source": [
    "google says: 'Radmin 3 - 522 лиц' --> 'Radmin 3 - 522 persons'   "
   ]
  },
  {
   "cell_type": "code",
   "execution_count": 34,
   "metadata": {},
   "outputs": [
    {
     "data": {
      "text/html": [
       "<div>\n",
       "<style scoped>\n",
       "    .dataframe tbody tr th:only-of-type {\n",
       "        vertical-align: middle;\n",
       "    }\n",
       "\n",
       "    .dataframe tbody tr th {\n",
       "        vertical-align: top;\n",
       "    }\n",
       "\n",
       "    .dataframe thead th {\n",
       "        text-align: right;\n",
       "    }\n",
       "</style>\n",
       "<table border=\"1\" class=\"dataframe\">\n",
       "  <thead>\n",
       "    <tr style=\"text-align: right;\">\n",
       "      <th></th>\n",
       "      <th>item_category_name</th>\n",
       "      <th>item_category_id</th>\n",
       "    </tr>\n",
       "  </thead>\n",
       "  <tbody>\n",
       "    <tr>\n",
       "      <th>75</th>\n",
       "      <td>Программы - Для дома и офиса</td>\n",
       "      <td>75</td>\n",
       "    </tr>\n",
       "  </tbody>\n",
       "</table>\n",
       "</div>"
      ],
      "text/plain": [
       "              item_category_name  item_category_id\n",
       "75  Программы - Для дома и офиса                75"
      ]
     },
     "execution_count": 34,
     "metadata": {},
     "output_type": "execute_result"
    }
   ],
   "source": [
    "categories.query('item_category_id == 75')"
   ]
  },
  {
   "cell_type": "markdown",
   "metadata": {},
   "source": [
    "google says: 'Программы - Для дома и офиса' --> 'Programs - For home and office'"
   ]
  },
  {
   "cell_type": "code",
   "execution_count": 35,
   "metadata": {},
   "outputs": [],
   "source": [
    "idx_slice = pd.IndexSlice"
   ]
  },
  {
   "cell_type": "code",
   "execution_count": 36,
   "metadata": {},
   "outputs": [
    {
     "data": {
      "text/html": [
       "<div>\n",
       "<style scoped>\n",
       "    .dataframe tbody tr th:only-of-type {\n",
       "        vertical-align: middle;\n",
       "    }\n",
       "\n",
       "    .dataframe tbody tr th {\n",
       "        vertical-align: top;\n",
       "    }\n",
       "\n",
       "    .dataframe thead th {\n",
       "        text-align: right;\n",
       "    }\n",
       "</style>\n",
       "<table border=\"1\" class=\"dataframe\">\n",
       "  <thead>\n",
       "    <tr style=\"text-align: right;\">\n",
       "      <th></th>\n",
       "      <th></th>\n",
       "      <th></th>\n",
       "      <th>item_cnt_month</th>\n",
       "      <th>item_price</th>\n",
       "    </tr>\n",
       "    <tr>\n",
       "      <th>Month</th>\n",
       "      <th>shop_id</th>\n",
       "      <th>item_id</th>\n",
       "      <th></th>\n",
       "      <th></th>\n",
       "    </tr>\n",
       "  </thead>\n",
       "  <tbody>\n",
       "    <tr>\n",
       "      <th>2013-12</th>\n",
       "      <th>12</th>\n",
       "      <th>6066</th>\n",
       "      <td>1.0</td>\n",
       "      <td>307980.0</td>\n",
       "    </tr>\n",
       "  </tbody>\n",
       "</table>\n",
       "</div>"
      ],
      "text/plain": [
       "                         item_cnt_month  item_price\n",
       "Month   shop_id item_id                            \n",
       "2013-12 12      6066                1.0    307980.0"
      ]
     },
     "execution_count": 36,
     "metadata": {},
     "output_type": "execute_result"
    }
   ],
   "source": [
    "agg_sales.loc[idx_slice[:,:,6066], :]"
   ]
  },
  {
   "cell_type": "code",
   "execution_count": 37,
   "metadata": {},
   "outputs": [
    {
     "data": {
      "text/plain": [
       "False"
      ]
     },
     "execution_count": 37,
     "metadata": {},
     "output_type": "execute_result"
    }
   ],
   "source": [
    "(test_set.item_id == 6066).any()"
   ]
  },
  {
   "cell_type": "markdown",
   "metadata": {},
   "source": [
    "Only appears once, does not appear in test set - seems like an outlier; will drop"
   ]
  },
  {
   "cell_type": "code",
   "execution_count": 38,
   "metadata": {},
   "outputs": [
    {
     "data": {
      "text/html": [
       "<div>\n",
       "<style scoped>\n",
       "    .dataframe tbody tr th:only-of-type {\n",
       "        vertical-align: middle;\n",
       "    }\n",
       "\n",
       "    .dataframe tbody tr th {\n",
       "        vertical-align: top;\n",
       "    }\n",
       "\n",
       "    .dataframe thead th {\n",
       "        text-align: right;\n",
       "    }\n",
       "</style>\n",
       "<table border=\"1\" class=\"dataframe\">\n",
       "  <thead>\n",
       "    <tr style=\"text-align: right;\">\n",
       "      <th></th>\n",
       "      <th>item_name</th>\n",
       "      <th>item_id</th>\n",
       "      <th>item_category_id</th>\n",
       "    </tr>\n",
       "  </thead>\n",
       "  <tbody>\n",
       "    <tr>\n",
       "      <th>13199</th>\n",
       "      <td>Коллекционные шахматы (Властелин Колец)</td>\n",
       "      <td>13199</td>\n",
       "      <td>69</td>\n",
       "    </tr>\n",
       "  </tbody>\n",
       "</table>\n",
       "</div>"
      ],
      "text/plain": [
       "                                     item_name  item_id  item_category_id\n",
       "13199  Коллекционные шахматы (Властелин Колец)    13199                69"
      ]
     },
     "execution_count": 38,
     "metadata": {},
     "output_type": "execute_result"
    }
   ],
   "source": [
    "items.query('item_id == 13199')"
   ]
  },
  {
   "cell_type": "markdown",
   "metadata": {},
   "source": [
    "google says: 'Коллекционные шахматы (Властелин Колец)' --> 'Collective Chess (Lord of the Rings)'"
   ]
  },
  {
   "cell_type": "code",
   "execution_count": 39,
   "metadata": {},
   "outputs": [
    {
     "data": {
      "text/html": [
       "<div>\n",
       "<style scoped>\n",
       "    .dataframe tbody tr th:only-of-type {\n",
       "        vertical-align: middle;\n",
       "    }\n",
       "\n",
       "    .dataframe tbody tr th {\n",
       "        vertical-align: top;\n",
       "    }\n",
       "\n",
       "    .dataframe thead th {\n",
       "        text-align: right;\n",
       "    }\n",
       "</style>\n",
       "<table border=\"1\" class=\"dataframe\">\n",
       "  <thead>\n",
       "    <tr style=\"text-align: right;\">\n",
       "      <th></th>\n",
       "      <th>item_category_name</th>\n",
       "      <th>item_category_id</th>\n",
       "    </tr>\n",
       "  </thead>\n",
       "  <tbody>\n",
       "    <tr>\n",
       "      <th>69</th>\n",
       "      <td>Подарки - Сувениры</td>\n",
       "      <td>69</td>\n",
       "    </tr>\n",
       "  </tbody>\n",
       "</table>\n",
       "</div>"
      ],
      "text/plain": [
       "    item_category_name  item_category_id\n",
       "69  Подарки - Сувениры                69"
      ]
     },
     "execution_count": 39,
     "metadata": {},
     "output_type": "execute_result"
    }
   ],
   "source": [
    "categories.query('item_category_id == 69')"
   ]
  },
  {
   "cell_type": "markdown",
   "metadata": {},
   "source": [
    "google says: 'Подарки - Сувениры\t' --> 'Gifts - Souvenirs'"
   ]
  },
  {
   "cell_type": "code",
   "execution_count": 40,
   "metadata": {},
   "outputs": [],
   "source": [
    "idx_slice = pd.IndexSlice"
   ]
  },
  {
   "cell_type": "code",
   "execution_count": 41,
   "metadata": {},
   "outputs": [
    {
     "data": {
      "text/html": [
       "<div>\n",
       "<style scoped>\n",
       "    .dataframe tbody tr th:only-of-type {\n",
       "        vertical-align: middle;\n",
       "    }\n",
       "\n",
       "    .dataframe tbody tr th {\n",
       "        vertical-align: top;\n",
       "    }\n",
       "\n",
       "    .dataframe thead th {\n",
       "        text-align: right;\n",
       "    }\n",
       "</style>\n",
       "<table border=\"1\" class=\"dataframe\">\n",
       "  <thead>\n",
       "    <tr style=\"text-align: right;\">\n",
       "      <th></th>\n",
       "      <th></th>\n",
       "      <th></th>\n",
       "      <th>item_cnt_month</th>\n",
       "      <th>item_price</th>\n",
       "    </tr>\n",
       "    <tr>\n",
       "      <th>Month</th>\n",
       "      <th>shop_id</th>\n",
       "      <th>item_id</th>\n",
       "      <th></th>\n",
       "      <th></th>\n",
       "    </tr>\n",
       "  </thead>\n",
       "  <tbody>\n",
       "    <tr>\n",
       "      <th>2014-03</th>\n",
       "      <th>25</th>\n",
       "      <th>13199</th>\n",
       "      <td>1.0</td>\n",
       "      <td>50999.0</td>\n",
       "    </tr>\n",
       "  </tbody>\n",
       "</table>\n",
       "</div>"
      ],
      "text/plain": [
       "                         item_cnt_month  item_price\n",
       "Month   shop_id item_id                            \n",
       "2014-03 25      13199               1.0     50999.0"
      ]
     },
     "execution_count": 41,
     "metadata": {},
     "output_type": "execute_result"
    }
   ],
   "source": [
    "agg_sales.loc[idx_slice[:,:,13199], :]"
   ]
  },
  {
   "cell_type": "code",
   "execution_count": 42,
   "metadata": {},
   "outputs": [
    {
     "data": {
      "text/plain": [
       "False"
      ]
     },
     "execution_count": 42,
     "metadata": {},
     "output_type": "execute_result"
    }
   ],
   "source": [
    "(test_set.item_id == 13199).any()"
   ]
  },
  {
   "cell_type": "code",
   "execution_count": 43,
   "metadata": {},
   "outputs": [
    {
     "data": {
      "image/png": "[encoded data removed]",
      "text/plain": [
       "<Figure size 432x288 with 1 Axes>"
      ]
     },
     "metadata": {
      "needs_background": "light"
     },
     "output_type": "display_data"
    }
   ],
   "source": [
    "fig, ax = plt.subplots(1,1)\n",
    "ax.scatter(agg_sales_and_price.item_cnt_month, agg_sales_and_price.item_price)\n",
    "ax.set_xlim(-100, 4_000)\n",
    "ax.set_ylim(0, 55_000)\n",
    "ax.set_ylabel('price')\n",
    "ax.set_xlabel('count');"
   ]
  },
  {
   "cell_type": "markdown",
   "metadata": {},
   "source": [
    "No significant correlation"
   ]
  },
  {
   "cell_type": "code",
   "execution_count": 44,
   "metadata": {},
   "outputs": [
    {
     "data": {
      "text/html": [
       "<div>\n",
       "<style scoped>\n",
       "    .dataframe tbody tr th:only-of-type {\n",
       "        vertical-align: middle;\n",
       "    }\n",
       "\n",
       "    .dataframe tbody tr th {\n",
       "        vertical-align: top;\n",
       "    }\n",
       "\n",
       "    .dataframe thead th {\n",
       "        text-align: right;\n",
       "    }\n",
       "</style>\n",
       "<table border=\"1\" class=\"dataframe\">\n",
       "  <thead>\n",
       "    <tr style=\"text-align: right;\">\n",
       "      <th></th>\n",
       "      <th>item_cnt_month</th>\n",
       "      <th>item_price</th>\n",
       "    </tr>\n",
       "  </thead>\n",
       "  <tbody>\n",
       "    <tr>\n",
       "      <th>item_cnt_month</th>\n",
       "      <td>1.000000</td>\n",
       "      <td>0.030912</td>\n",
       "    </tr>\n",
       "    <tr>\n",
       "      <th>item_price</th>\n",
       "      <td>0.030912</td>\n",
       "      <td>1.000000</td>\n",
       "    </tr>\n",
       "  </tbody>\n",
       "</table>\n",
       "</div>"
      ],
      "text/plain": [
       "                item_cnt_month  item_price\n",
       "item_cnt_month        1.000000    0.030912\n",
       "item_price            0.030912    1.000000"
      ]
     },
     "execution_count": 44,
     "metadata": {},
     "output_type": "execute_result"
    }
   ],
   "source": [
    "agg_sales_and_price.corr()"
   ]
  },
  {
   "cell_type": "markdown",
   "metadata": {},
   "source": [
    "Now Drop the outlier identified above"
   ]
  },
  {
   "cell_type": "code",
   "execution_count": 45,
   "metadata": {},
   "outputs": [],
   "source": [
    "agg_sales = agg_sales.drop(6066, level=2)"
   ]
  },
  {
   "cell_type": "code",
   "execution_count": 46,
   "metadata": {},
   "outputs": [],
   "source": [
    "agg_sales_and_price = agg_sales.groupby(level=[0,2]).agg({'item_cnt_month':sum, 'item_price':max})"
   ]
  },
  {
   "cell_type": "code",
   "execution_count": 47,
   "metadata": {},
   "outputs": [
    {
     "data": {
      "text/plain": [
       "<matplotlib.collections.PathCollection at 0x1ebd612fac8>"
      ]
     },
     "execution_count": 47,
     "metadata": {},
     "output_type": "execute_result"
    },
    {
     "data": {
      "image/png": "[encoded data removed]",
      "text/plain": [
       "<Figure size 432x288 with 1 Axes>"
      ]
     },
     "metadata": {
      "needs_background": "light"
     },
     "output_type": "display_data"
    }
   ],
   "source": [
    "plt.scatter(agg_sales_and_price.item_cnt_month, agg_sales_and_price.item_price)"
   ]
  },
  {
   "cell_type": "markdown",
   "metadata": {},
   "source": [
    "## Explore categories"
   ]
  },
  {
   "cell_type": "code",
   "execution_count": 48,
   "metadata": {},
   "outputs": [
    {
     "data": {
      "text/html": [
       "<div>\n",
       "<style scoped>\n",
       "    .dataframe tbody tr th:only-of-type {\n",
       "        vertical-align: middle;\n",
       "    }\n",
       "\n",
       "    .dataframe tbody tr th {\n",
       "        vertical-align: top;\n",
       "    }\n",
       "\n",
       "    .dataframe thead th {\n",
       "        text-align: right;\n",
       "    }\n",
       "</style>\n",
       "<table border=\"1\" class=\"dataframe\">\n",
       "  <thead>\n",
       "    <tr style=\"text-align: right;\">\n",
       "      <th></th>\n",
       "      <th>item_name</th>\n",
       "      <th>item_id</th>\n",
       "      <th>item_category_id</th>\n",
       "    </tr>\n",
       "  </thead>\n",
       "  <tbody>\n",
       "    <tr>\n",
       "      <th>0</th>\n",
       "      <td>! ВО ВЛАСТИ НАВАЖДЕНИЯ (ПЛАСТ.)         D</td>\n",
       "      <td>0</td>\n",
       "      <td>40</td>\n",
       "    </tr>\n",
       "    <tr>\n",
       "      <th>1</th>\n",
       "      <td>!ABBYY FineReader 12 Professional Edition Full...</td>\n",
       "      <td>1</td>\n",
       "      <td>76</td>\n",
       "    </tr>\n",
       "    <tr>\n",
       "      <th>2</th>\n",
       "      <td>***В ЛУЧАХ СЛАВЫ   (UNV)                    D</td>\n",
       "      <td>2</td>\n",
       "      <td>40</td>\n",
       "    </tr>\n",
       "    <tr>\n",
       "      <th>3</th>\n",
       "      <td>***ГОЛУБАЯ ВОЛНА  (Univ)                      D</td>\n",
       "      <td>3</td>\n",
       "      <td>40</td>\n",
       "    </tr>\n",
       "    <tr>\n",
       "      <th>4</th>\n",
       "      <td>***КОРОБКА (СТЕКЛО)                       D</td>\n",
       "      <td>4</td>\n",
       "      <td>40</td>\n",
       "    </tr>\n",
       "  </tbody>\n",
       "</table>\n",
       "</div>"
      ],
      "text/plain": [
       "                                           item_name  item_id  \\\n",
       "0          ! ВО ВЛАСТИ НАВАЖДЕНИЯ (ПЛАСТ.)         D        0   \n",
       "1  !ABBYY FineReader 12 Professional Edition Full...        1   \n",
       "2      ***В ЛУЧАХ СЛАВЫ   (UNV)                    D        2   \n",
       "3    ***ГОЛУБАЯ ВОЛНА  (Univ)                      D        3   \n",
       "4        ***КОРОБКА (СТЕКЛО)                       D        4   \n",
       "\n",
       "   item_category_id  \n",
       "0                40  \n",
       "1                76  \n",
       "2                40  \n",
       "3                40  \n",
       "4                40  "
      ]
     },
     "execution_count": 48,
     "metadata": {},
     "output_type": "execute_result"
    }
   ],
   "source": [
    "items.head()"
   ]
  },
  {
   "cell_type": "code",
   "execution_count": 49,
   "metadata": {},
   "outputs": [
    {
     "data": {
      "text/html": [
       "<div>\n",
       "<style scoped>\n",
       "    .dataframe tbody tr th:only-of-type {\n",
       "        vertical-align: middle;\n",
       "    }\n",
       "\n",
       "    .dataframe tbody tr th {\n",
       "        vertical-align: top;\n",
       "    }\n",
       "\n",
       "    .dataframe thead th {\n",
       "        text-align: right;\n",
       "    }\n",
       "</style>\n",
       "<table border=\"1\" class=\"dataframe\">\n",
       "  <thead>\n",
       "    <tr style=\"text-align: right;\">\n",
       "      <th></th>\n",
       "      <th>item_category_name</th>\n",
       "      <th>item_category_id</th>\n",
       "    </tr>\n",
       "  </thead>\n",
       "  <tbody>\n",
       "    <tr>\n",
       "      <th>0</th>\n",
       "      <td>PC - Гарнитуры/Наушники</td>\n",
       "      <td>0</td>\n",
       "    </tr>\n",
       "    <tr>\n",
       "      <th>1</th>\n",
       "      <td>Аксессуары - PS2</td>\n",
       "      <td>1</td>\n",
       "    </tr>\n",
       "    <tr>\n",
       "      <th>2</th>\n",
       "      <td>Аксессуары - PS3</td>\n",
       "      <td>2</td>\n",
       "    </tr>\n",
       "    <tr>\n",
       "      <th>3</th>\n",
       "      <td>Аксессуары - PS4</td>\n",
       "      <td>3</td>\n",
       "    </tr>\n",
       "    <tr>\n",
       "      <th>4</th>\n",
       "      <td>Аксессуары - PSP</td>\n",
       "      <td>4</td>\n",
       "    </tr>\n",
       "  </tbody>\n",
       "</table>\n",
       "</div>"
      ],
      "text/plain": [
       "        item_category_name  item_category_id\n",
       "0  PC - Гарнитуры/Наушники                 0\n",
       "1         Аксессуары - PS2                 1\n",
       "2         Аксессуары - PS3                 2\n",
       "3         Аксессуары - PS4                 3\n",
       "4         Аксессуары - PSP                 4"
      ]
     },
     "execution_count": 49,
     "metadata": {},
     "output_type": "execute_result"
    }
   ],
   "source": [
    "categories.head()"
   ]
  },
  {
   "cell_type": "code",
   "execution_count": 50,
   "metadata": {},
   "outputs": [],
   "source": [
    "items_per_category = items.groupby('item_category_id').item_id.nunique().sort_values()"
   ]
  },
  {
   "cell_type": "code",
   "execution_count": 51,
   "metadata": {},
   "outputs": [
    {
     "data": {
      "text/plain": [
       "item_category_id\n",
       "79    1\n",
       "10    1\n",
       "51    1\n",
       "1     2\n",
       "50    2\n",
       "Name: item_id, dtype: int64"
      ]
     },
     "execution_count": 51,
     "metadata": {},
     "output_type": "execute_result"
    }
   ],
   "source": [
    "items_per_category.head()"
   ]
  },
  {
   "cell_type": "code",
   "execution_count": 52,
   "metadata": {},
   "outputs": [
    {
     "data": {
      "image/png": "[encoded data removed]",
      "text/plain": [
       "<Figure size 1152x576 with 1 Axes>"
      ]
     },
     "metadata": {
      "needs_background": "light"
     },
     "output_type": "display_data"
    }
   ],
   "source": [
    "items_per_category.plot(kind='bar',  figsize=(16,8));"
   ]
  },
  {
   "cell_type": "markdown",
   "metadata": {},
   "source": [
    "lets look at bigest category and see how sales are ditributed for items in that category"
   ]
  },
  {
   "cell_type": "code",
   "execution_count": 53,
   "metadata": {},
   "outputs": [],
   "source": [
    "cat40_items = items.query('item_category_id == 40').item_id.values"
   ]
  },
  {
   "cell_type": "code",
   "execution_count": 54,
   "metadata": {},
   "outputs": [],
   "source": [
    "idx = agg_sales.reset_index().item_id.isin(cat40_items)\n",
    "subset = agg_sales.loc[idx.values]"
   ]
  },
  {
   "cell_type": "code",
   "execution_count": 55,
   "metadata": {},
   "outputs": [
    {
     "data": {
      "text/plain": [
       "count    4964.000000\n",
       "mean      127.754029\n",
       "std       257.226029\n",
       "min         1.000000\n",
       "25%        13.000000\n",
       "50%        45.500000\n",
       "75%       114.000000\n",
       "max      3563.000000\n",
       "Name: item_cnt_month, dtype: float64"
      ]
     },
     "execution_count": 55,
     "metadata": {},
     "output_type": "execute_result"
    }
   ],
   "source": [
    "subset.groupby(level=2).item_cnt_month.sum().describe()"
   ]
  },
  {
   "cell_type": "markdown",
   "metadata": {},
   "source": [
    "It is a wide distribution"
   ]
  },
  {
   "cell_type": "code",
   "execution_count": 56,
   "metadata": {},
   "outputs": [
    {
     "data": {
      "text/html": [
       "<div>\n",
       "<style scoped>\n",
       "    .dataframe tbody tr th:only-of-type {\n",
       "        vertical-align: middle;\n",
       "    }\n",
       "\n",
       "    .dataframe tbody tr th {\n",
       "        vertical-align: top;\n",
       "    }\n",
       "\n",
       "    .dataframe thead th {\n",
       "        text-align: right;\n",
       "    }\n",
       "</style>\n",
       "<table border=\"1\" class=\"dataframe\">\n",
       "  <thead>\n",
       "    <tr style=\"text-align: right;\">\n",
       "      <th></th>\n",
       "      <th>item_category_name</th>\n",
       "      <th>item_category_id</th>\n",
       "    </tr>\n",
       "  </thead>\n",
       "  <tbody>\n",
       "    <tr>\n",
       "      <th>40</th>\n",
       "      <td>Кино - DVD</td>\n",
       "      <td>40</td>\n",
       "    </tr>\n",
       "  </tbody>\n",
       "</table>\n",
       "</div>"
      ],
      "text/plain": [
       "   item_category_name  item_category_id\n",
       "40         Кино - DVD                40"
      ]
     },
     "execution_count": 56,
     "metadata": {},
     "output_type": "execute_result"
    }
   ],
   "source": [
    "categories.query('item_category_id == 40')"
   ]
  },
  {
   "cell_type": "code",
   "execution_count": 57,
   "metadata": {},
   "outputs": [
    {
     "data": {
      "text/plain": [
       "<matplotlib.axes._subplots.AxesSubplot at 0x1ebd6355ac8>"
      ]
     },
     "execution_count": 57,
     "metadata": {},
     "output_type": "execute_result"
    },
    {
     "data": {
      "image/png": "[encoded data removed]",
      "text/plain": [
       "<Figure size 432x288 with 1 Axes>"
      ]
     },
     "metadata": {
      "needs_background": "light"
     },
     "output_type": "display_data"
    }
   ],
   "source": [
    "subset.groupby(level=0).item_cnt_month.sum().plot()"
   ]
  },
  {
   "cell_type": "markdown",
   "metadata": {},
   "source": [
    "No suprise here - DVD sales have defenitely gone down recently"
   ]
  },
  {
   "cell_type": "markdown",
   "metadata": {},
   "source": [
    "lets look second biggest category and see how sales are ditributed for items in that category"
   ]
  },
  {
   "cell_type": "code",
   "execution_count": 58,
   "metadata": {},
   "outputs": [],
   "source": [
    "cat55_items = items.query('item_category_id == 55').item_id.values"
   ]
  },
  {
   "cell_type": "code",
   "execution_count": 59,
   "metadata": {},
   "outputs": [],
   "source": [
    "idx = agg_sales.reset_index().item_id.isin(cat55_items)\n",
    "subset = agg_sales.loc[idx.values]"
   ]
  },
  {
   "cell_type": "code",
   "execution_count": 60,
   "metadata": {},
   "outputs": [
    {
     "data": {
      "text/plain": [
       "count    2327.000000\n",
       "mean      149.802750\n",
       "std       233.988183\n",
       "min         1.000000\n",
       "25%        17.000000\n",
       "50%        69.000000\n",
       "75%       186.000000\n",
       "max      2797.000000\n",
       "Name: item_cnt_month, dtype: float64"
      ]
     },
     "execution_count": 60,
     "metadata": {},
     "output_type": "execute_result"
    }
   ],
   "source": [
    "subset.groupby(level=2).item_cnt_month.sum().describe()"
   ]
  },
  {
   "cell_type": "markdown",
   "metadata": {},
   "source": [
    "It is a wide distribution"
   ]
  },
  {
   "cell_type": "code",
   "execution_count": 61,
   "metadata": {},
   "outputs": [
    {
     "data": {
      "text/html": [
       "<div>\n",
       "<style scoped>\n",
       "    .dataframe tbody tr th:only-of-type {\n",
       "        vertical-align: middle;\n",
       "    }\n",
       "\n",
       "    .dataframe tbody tr th {\n",
       "        vertical-align: top;\n",
       "    }\n",
       "\n",
       "    .dataframe thead th {\n",
       "        text-align: right;\n",
       "    }\n",
       "</style>\n",
       "<table border=\"1\" class=\"dataframe\">\n",
       "  <thead>\n",
       "    <tr style=\"text-align: right;\">\n",
       "      <th></th>\n",
       "      <th>item_category_name</th>\n",
       "      <th>item_category_id</th>\n",
       "    </tr>\n",
       "  </thead>\n",
       "  <tbody>\n",
       "    <tr>\n",
       "      <th>55</th>\n",
       "      <td>Музыка - CD локального производства</td>\n",
       "      <td>55</td>\n",
       "    </tr>\n",
       "  </tbody>\n",
       "</table>\n",
       "</div>"
      ],
      "text/plain": [
       "                     item_category_name  item_category_id\n",
       "55  Музыка - CD локального производства                55"
      ]
     },
     "execution_count": 61,
     "metadata": {},
     "output_type": "execute_result"
    }
   ],
   "source": [
    "categories.query('item_category_id == 55')"
   ]
  },
  {
   "cell_type": "code",
   "execution_count": 62,
   "metadata": {},
   "outputs": [
    {
     "data": {
      "text/plain": [
       "<matplotlib.axes._subplots.AxesSubplot at 0x1eb80b9c860>"
      ]
     },
     "execution_count": 62,
     "metadata": {},
     "output_type": "execute_result"
    },
    {
     "data": {
      "image/png": "[encoded data removed]",
      "text/plain": [
       "<Figure size 432x288 with 1 Axes>"
      ]
     },
     "metadata": {
      "needs_background": "light"
     },
     "output_type": "display_data"
    }
   ],
   "source": [
    "subset.groupby(level=0).item_cnt_month.sum().plot();"
   ]
  },
  {
   "cell_type": "code",
   "execution_count": 63,
   "metadata": {},
   "outputs": [
    {
     "data": {
      "text/html": [
       "<div>\n",
       "<style scoped>\n",
       "    .dataframe tbody tr th:only-of-type {\n",
       "        vertical-align: middle;\n",
       "    }\n",
       "\n",
       "    .dataframe tbody tr th {\n",
       "        vertical-align: top;\n",
       "    }\n",
       "\n",
       "    .dataframe thead th {\n",
       "        text-align: right;\n",
       "    }\n",
       "</style>\n",
       "<table border=\"1\" class=\"dataframe\">\n",
       "  <thead>\n",
       "    <tr style=\"text-align: right;\">\n",
       "      <th></th>\n",
       "      <th></th>\n",
       "      <th></th>\n",
       "      <th>item_cnt_month</th>\n",
       "      <th>item_price</th>\n",
       "    </tr>\n",
       "    <tr>\n",
       "      <th>Month</th>\n",
       "      <th>shop_id</th>\n",
       "      <th>item_id</th>\n",
       "      <th></th>\n",
       "      <th></th>\n",
       "    </tr>\n",
       "  </thead>\n",
       "  <tbody>\n",
       "    <tr>\n",
       "      <th rowspan=\"5\" valign=\"top\">2013-01</th>\n",
       "      <th rowspan=\"5\" valign=\"top\">0</th>\n",
       "      <th>32</th>\n",
       "      <td>6.0</td>\n",
       "      <td>221.0</td>\n",
       "    </tr>\n",
       "    <tr>\n",
       "      <th>33</th>\n",
       "      <td>3.0</td>\n",
       "      <td>347.0</td>\n",
       "    </tr>\n",
       "    <tr>\n",
       "      <th>35</th>\n",
       "      <td>1.0</td>\n",
       "      <td>247.0</td>\n",
       "    </tr>\n",
       "    <tr>\n",
       "      <th>43</th>\n",
       "      <td>1.0</td>\n",
       "      <td>221.0</td>\n",
       "    </tr>\n",
       "    <tr>\n",
       "      <th>51</th>\n",
       "      <td>2.0</td>\n",
       "      <td>128.5</td>\n",
       "    </tr>\n",
       "    <tr>\n",
       "      <th>...</th>\n",
       "      <th>...</th>\n",
       "      <th>...</th>\n",
       "      <td>...</td>\n",
       "      <td>...</td>\n",
       "    </tr>\n",
       "    <tr>\n",
       "      <th rowspan=\"5\" valign=\"top\">2015-10</th>\n",
       "      <th rowspan=\"5\" valign=\"top\">59</th>\n",
       "      <th>22087</th>\n",
       "      <td>6.0</td>\n",
       "      <td>119.0</td>\n",
       "    </tr>\n",
       "    <tr>\n",
       "      <th>22088</th>\n",
       "      <td>2.0</td>\n",
       "      <td>119.0</td>\n",
       "    </tr>\n",
       "    <tr>\n",
       "      <th>22091</th>\n",
       "      <td>1.0</td>\n",
       "      <td>179.0</td>\n",
       "    </tr>\n",
       "    <tr>\n",
       "      <th>22100</th>\n",
       "      <td>1.0</td>\n",
       "      <td>629.0</td>\n",
       "    </tr>\n",
       "    <tr>\n",
       "      <th>22102</th>\n",
       "      <td>1.0</td>\n",
       "      <td>1250.0</td>\n",
       "    </tr>\n",
       "  </tbody>\n",
       "</table>\n",
       "<p>1609123 rows × 2 columns</p>\n",
       "</div>"
      ],
      "text/plain": [
       "                         item_cnt_month  item_price\n",
       "Month   shop_id item_id                            \n",
       "2013-01 0       32                  6.0       221.0\n",
       "                33                  3.0       347.0\n",
       "                35                  1.0       247.0\n",
       "                43                  1.0       221.0\n",
       "                51                  2.0       128.5\n",
       "...                                 ...         ...\n",
       "2015-10 59      22087               6.0       119.0\n",
       "                22088               2.0       119.0\n",
       "                22091               1.0       179.0\n",
       "                22100               1.0       629.0\n",
       "                22102               1.0      1250.0\n",
       "\n",
       "[1609123 rows x 2 columns]"
      ]
     },
     "execution_count": 63,
     "metadata": {},
     "output_type": "execute_result"
    }
   ],
   "source": [
    "agg_sales"
   ]
  },
  {
   "cell_type": "code",
   "execution_count": 135,
   "metadata": {},
   "outputs": [],
   "source": [
    "cat_annotated_agg_sales = (pd.merge(agg_sales.reset_index(), items.drop('item_name', axis=1), on='item_id')\n",
    "                           .set_index(['Month', 'shop_id', 'item_id'])\n",
    "                           .sort_index(level=[0,1,2])\n",
    "                          )"
   ]
  },
  {
   "cell_type": "code",
   "execution_count": 136,
   "metadata": {},
   "outputs": [
    {
     "data": {
      "text/html": [
       "<div>\n",
       "<style scoped>\n",
       "    .dataframe tbody tr th:only-of-type {\n",
       "        vertical-align: middle;\n",
       "    }\n",
       "\n",
       "    .dataframe tbody tr th {\n",
       "        vertical-align: top;\n",
       "    }\n",
       "\n",
       "    .dataframe thead th {\n",
       "        text-align: right;\n",
       "    }\n",
       "</style>\n",
       "<table border=\"1\" class=\"dataframe\">\n",
       "  <thead>\n",
       "    <tr style=\"text-align: right;\">\n",
       "      <th></th>\n",
       "      <th></th>\n",
       "      <th></th>\n",
       "      <th>item_cnt_month</th>\n",
       "      <th>item_price</th>\n",
       "      <th>item_category_id</th>\n",
       "    </tr>\n",
       "    <tr>\n",
       "      <th>Month</th>\n",
       "      <th>shop_id</th>\n",
       "      <th>item_id</th>\n",
       "      <th></th>\n",
       "      <th></th>\n",
       "      <th></th>\n",
       "    </tr>\n",
       "  </thead>\n",
       "  <tbody>\n",
       "    <tr>\n",
       "      <th rowspan=\"5\" valign=\"top\">2013-01</th>\n",
       "      <th rowspan=\"5\" valign=\"top\">0</th>\n",
       "      <th>32</th>\n",
       "      <td>6.0</td>\n",
       "      <td>221.0</td>\n",
       "      <td>40</td>\n",
       "    </tr>\n",
       "    <tr>\n",
       "      <th>33</th>\n",
       "      <td>3.0</td>\n",
       "      <td>347.0</td>\n",
       "      <td>37</td>\n",
       "    </tr>\n",
       "    <tr>\n",
       "      <th>35</th>\n",
       "      <td>1.0</td>\n",
       "      <td>247.0</td>\n",
       "      <td>40</td>\n",
       "    </tr>\n",
       "    <tr>\n",
       "      <th>43</th>\n",
       "      <td>1.0</td>\n",
       "      <td>221.0</td>\n",
       "      <td>40</td>\n",
       "    </tr>\n",
       "    <tr>\n",
       "      <th>51</th>\n",
       "      <td>2.0</td>\n",
       "      <td>128.5</td>\n",
       "      <td>57</td>\n",
       "    </tr>\n",
       "  </tbody>\n",
       "</table>\n",
       "</div>"
      ],
      "text/plain": [
       "                         item_cnt_month  item_price  item_category_id\n",
       "Month   shop_id item_id                                              \n",
       "2013-01 0       32                  6.0       221.0                40\n",
       "                33                  3.0       347.0                37\n",
       "                35                  1.0       247.0                40\n",
       "                43                  1.0       221.0                40\n",
       "                51                  2.0       128.5                57"
      ]
     },
     "execution_count": 136,
     "metadata": {},
     "output_type": "execute_result"
    }
   ],
   "source": [
    "cat_annotated_agg_sales.head()"
   ]
  },
  {
   "cell_type": "code",
   "execution_count": 66,
   "metadata": {},
   "outputs": [
    {
     "data": {
      "text/plain": [
       "<matplotlib.axes._subplots.AxesSubplot at 0x1eb81025978>"
      ]
     },
     "execution_count": 66,
     "metadata": {},
     "output_type": "execute_result"
    },
    {
     "data": {
      "image/png": "[encoded data removed]",
      "text/plain": [
       "<Figure size 432x288 with 1 Axes>"
      ]
     },
     "metadata": {
      "needs_background": "light"
     },
     "output_type": "display_data"
    }
   ],
   "source": [
    "cat_annotated_agg_sales.groupby('item_category_id').item_cnt_month.sum().plot(kind='bar')"
   ]
  },
  {
   "cell_type": "markdown",
   "metadata": {},
   "source": [
    "## Explore Shops"
   ]
  },
  {
   "cell_type": "code",
   "execution_count": 308,
   "metadata": {},
   "outputs": [],
   "source": [
    "from sklearn.manifold import TSNE"
   ]
  },
  {
   "cell_type": "code",
   "execution_count": 106,
   "metadata": {},
   "outputs": [
    {
     "data": {
      "text/html": [
       "<div>\n",
       "<style scoped>\n",
       "    .dataframe tbody tr th:only-of-type {\n",
       "        vertical-align: middle;\n",
       "    }\n",
       "\n",
       "    .dataframe tbody tr th {\n",
       "        vertical-align: top;\n",
       "    }\n",
       "\n",
       "    .dataframe thead th {\n",
       "        text-align: right;\n",
       "    }\n",
       "</style>\n",
       "<table border=\"1\" class=\"dataframe\">\n",
       "  <thead>\n",
       "    <tr style=\"text-align: right;\">\n",
       "      <th></th>\n",
       "      <th>Month</th>\n",
       "      <th>2013-01</th>\n",
       "      <th>2013-02</th>\n",
       "      <th>2013-03</th>\n",
       "      <th>2013-04</th>\n",
       "      <th>2013-05</th>\n",
       "      <th>2013-06</th>\n",
       "      <th>2013-07</th>\n",
       "      <th>2013-08</th>\n",
       "      <th>2013-09</th>\n",
       "      <th>2013-10</th>\n",
       "      <th>...</th>\n",
       "      <th>2015-01</th>\n",
       "      <th>2015-02</th>\n",
       "      <th>2015-03</th>\n",
       "      <th>2015-04</th>\n",
       "      <th>2015-05</th>\n",
       "      <th>2015-06</th>\n",
       "      <th>2015-07</th>\n",
       "      <th>2015-08</th>\n",
       "      <th>2015-09</th>\n",
       "      <th>2015-10</th>\n",
       "    </tr>\n",
       "    <tr>\n",
       "      <th>shop_id</th>\n",
       "      <th>item_id</th>\n",
       "      <th></th>\n",
       "      <th></th>\n",
       "      <th></th>\n",
       "      <th></th>\n",
       "      <th></th>\n",
       "      <th></th>\n",
       "      <th></th>\n",
       "      <th></th>\n",
       "      <th></th>\n",
       "      <th></th>\n",
       "      <th></th>\n",
       "      <th></th>\n",
       "      <th></th>\n",
       "      <th></th>\n",
       "      <th></th>\n",
       "      <th></th>\n",
       "      <th></th>\n",
       "      <th></th>\n",
       "      <th></th>\n",
       "      <th></th>\n",
       "      <th></th>\n",
       "    </tr>\n",
       "  </thead>\n",
       "  <tbody>\n",
       "    <tr>\n",
       "      <th rowspan=\"5\" valign=\"top\">0</th>\n",
       "      <th>30</th>\n",
       "      <td>0.0</td>\n",
       "      <td>31.0</td>\n",
       "      <td>0.0</td>\n",
       "      <td>0.0</td>\n",
       "      <td>0.0</td>\n",
       "      <td>0.0</td>\n",
       "      <td>0.0</td>\n",
       "      <td>0.0</td>\n",
       "      <td>0.0</td>\n",
       "      <td>0.0</td>\n",
       "      <td>...</td>\n",
       "      <td>0.0</td>\n",
       "      <td>0.0</td>\n",
       "      <td>0.0</td>\n",
       "      <td>0.0</td>\n",
       "      <td>0.0</td>\n",
       "      <td>0.0</td>\n",
       "      <td>0.0</td>\n",
       "      <td>0.0</td>\n",
       "      <td>0.0</td>\n",
       "      <td>0.0</td>\n",
       "    </tr>\n",
       "    <tr>\n",
       "      <th>31</th>\n",
       "      <td>0.0</td>\n",
       "      <td>11.0</td>\n",
       "      <td>0.0</td>\n",
       "      <td>0.0</td>\n",
       "      <td>0.0</td>\n",
       "      <td>0.0</td>\n",
       "      <td>0.0</td>\n",
       "      <td>0.0</td>\n",
       "      <td>0.0</td>\n",
       "      <td>0.0</td>\n",
       "      <td>...</td>\n",
       "      <td>0.0</td>\n",
       "      <td>0.0</td>\n",
       "      <td>0.0</td>\n",
       "      <td>0.0</td>\n",
       "      <td>0.0</td>\n",
       "      <td>0.0</td>\n",
       "      <td>0.0</td>\n",
       "      <td>0.0</td>\n",
       "      <td>0.0</td>\n",
       "      <td>0.0</td>\n",
       "    </tr>\n",
       "    <tr>\n",
       "      <th>32</th>\n",
       "      <td>6.0</td>\n",
       "      <td>10.0</td>\n",
       "      <td>0.0</td>\n",
       "      <td>0.0</td>\n",
       "      <td>0.0</td>\n",
       "      <td>0.0</td>\n",
       "      <td>0.0</td>\n",
       "      <td>0.0</td>\n",
       "      <td>0.0</td>\n",
       "      <td>0.0</td>\n",
       "      <td>...</td>\n",
       "      <td>0.0</td>\n",
       "      <td>0.0</td>\n",
       "      <td>0.0</td>\n",
       "      <td>0.0</td>\n",
       "      <td>0.0</td>\n",
       "      <td>0.0</td>\n",
       "      <td>0.0</td>\n",
       "      <td>0.0</td>\n",
       "      <td>0.0</td>\n",
       "      <td>0.0</td>\n",
       "    </tr>\n",
       "    <tr>\n",
       "      <th>33</th>\n",
       "      <td>3.0</td>\n",
       "      <td>3.0</td>\n",
       "      <td>0.0</td>\n",
       "      <td>0.0</td>\n",
       "      <td>0.0</td>\n",
       "      <td>0.0</td>\n",
       "      <td>0.0</td>\n",
       "      <td>0.0</td>\n",
       "      <td>0.0</td>\n",
       "      <td>0.0</td>\n",
       "      <td>...</td>\n",
       "      <td>0.0</td>\n",
       "      <td>0.0</td>\n",
       "      <td>0.0</td>\n",
       "      <td>0.0</td>\n",
       "      <td>0.0</td>\n",
       "      <td>0.0</td>\n",
       "      <td>0.0</td>\n",
       "      <td>0.0</td>\n",
       "      <td>0.0</td>\n",
       "      <td>0.0</td>\n",
       "    </tr>\n",
       "    <tr>\n",
       "      <th>35</th>\n",
       "      <td>1.0</td>\n",
       "      <td>14.0</td>\n",
       "      <td>0.0</td>\n",
       "      <td>0.0</td>\n",
       "      <td>0.0</td>\n",
       "      <td>0.0</td>\n",
       "      <td>0.0</td>\n",
       "      <td>0.0</td>\n",
       "      <td>0.0</td>\n",
       "      <td>0.0</td>\n",
       "      <td>...</td>\n",
       "      <td>0.0</td>\n",
       "      <td>0.0</td>\n",
       "      <td>0.0</td>\n",
       "      <td>0.0</td>\n",
       "      <td>0.0</td>\n",
       "      <td>0.0</td>\n",
       "      <td>0.0</td>\n",
       "      <td>0.0</td>\n",
       "      <td>0.0</td>\n",
       "      <td>0.0</td>\n",
       "    </tr>\n",
       "  </tbody>\n",
       "</table>\n",
       "<p>5 rows × 34 columns</p>\n",
       "</div>"
      ],
      "text/plain": [
       "Month            2013-01  2013-02  2013-03  2013-04  2013-05  2013-06  \\\n",
       "shop_id item_id                                                         \n",
       "0       30           0.0     31.0      0.0      0.0      0.0      0.0   \n",
       "        31           0.0     11.0      0.0      0.0      0.0      0.0   \n",
       "        32           6.0     10.0      0.0      0.0      0.0      0.0   \n",
       "        33           3.0      3.0      0.0      0.0      0.0      0.0   \n",
       "        35           1.0     14.0      0.0      0.0      0.0      0.0   \n",
       "\n",
       "Month            2013-07  2013-08  2013-09  2013-10  ...  2015-01  2015-02  \\\n",
       "shop_id item_id                                      ...                     \n",
       "0       30           0.0      0.0      0.0      0.0  ...      0.0      0.0   \n",
       "        31           0.0      0.0      0.0      0.0  ...      0.0      0.0   \n",
       "        32           0.0      0.0      0.0      0.0  ...      0.0      0.0   \n",
       "        33           0.0      0.0      0.0      0.0  ...      0.0      0.0   \n",
       "        35           0.0      0.0      0.0      0.0  ...      0.0      0.0   \n",
       "\n",
       "Month            2015-03  2015-04  2015-05  2015-06  2015-07  2015-08  \\\n",
       "shop_id item_id                                                         \n",
       "0       30           0.0      0.0      0.0      0.0      0.0      0.0   \n",
       "        31           0.0      0.0      0.0      0.0      0.0      0.0   \n",
       "        32           0.0      0.0      0.0      0.0      0.0      0.0   \n",
       "        33           0.0      0.0      0.0      0.0      0.0      0.0   \n",
       "        35           0.0      0.0      0.0      0.0      0.0      0.0   \n",
       "\n",
       "Month            2015-09  2015-10  \n",
       "shop_id item_id                    \n",
       "0       30           0.0      0.0  \n",
       "        31           0.0      0.0  \n",
       "        32           0.0      0.0  \n",
       "        33           0.0      0.0  \n",
       "        35           0.0      0.0  \n",
       "\n",
       "[5 rows x 34 columns]"
      ]
     },
     "execution_count": 106,
     "metadata": {},
     "output_type": "execute_result"
    }
   ],
   "source": [
    "piv_agg_sales.head()"
   ]
  },
  {
   "cell_type": "code",
   "execution_count": 255,
   "metadata": {},
   "outputs": [],
   "source": [
    "shop_profits = agg_sales.groupby(level=[0,1]).apply(lambda x: (x.item_cnt_month*x.item_price).sum()).unstack(level=0).fillna(0)"
   ]
  },
  {
   "cell_type": "code",
   "execution_count": 258,
   "metadata": {},
   "outputs": [
    {
     "data": {
      "text/html": [
       "<div>\n",
       "<style scoped>\n",
       "    .dataframe tbody tr th:only-of-type {\n",
       "        vertical-align: middle;\n",
       "    }\n",
       "\n",
       "    .dataframe tbody tr th {\n",
       "        vertical-align: top;\n",
       "    }\n",
       "\n",
       "    .dataframe thead th {\n",
       "        text-align: right;\n",
       "    }\n",
       "</style>\n",
       "<table border=\"1\" class=\"dataframe\">\n",
       "  <thead>\n",
       "    <tr style=\"text-align: right;\">\n",
       "      <th>Month</th>\n",
       "      <th>2013-01</th>\n",
       "      <th>2013-02</th>\n",
       "      <th>2013-03</th>\n",
       "      <th>2013-04</th>\n",
       "      <th>2013-05</th>\n",
       "      <th>2013-06</th>\n",
       "      <th>2013-07</th>\n",
       "      <th>2013-08</th>\n",
       "      <th>2013-09</th>\n",
       "      <th>2013-10</th>\n",
       "      <th>...</th>\n",
       "      <th>2015-01</th>\n",
       "      <th>2015-02</th>\n",
       "      <th>2015-03</th>\n",
       "      <th>2015-04</th>\n",
       "      <th>2015-05</th>\n",
       "      <th>2015-06</th>\n",
       "      <th>2015-07</th>\n",
       "      <th>2015-08</th>\n",
       "      <th>2015-09</th>\n",
       "      <th>2015-10</th>\n",
       "    </tr>\n",
       "    <tr>\n",
       "      <th>shop_id</th>\n",
       "      <th></th>\n",
       "      <th></th>\n",
       "      <th></th>\n",
       "      <th></th>\n",
       "      <th></th>\n",
       "      <th></th>\n",
       "      <th></th>\n",
       "      <th></th>\n",
       "      <th></th>\n",
       "      <th></th>\n",
       "      <th></th>\n",
       "      <th></th>\n",
       "      <th></th>\n",
       "      <th></th>\n",
       "      <th></th>\n",
       "      <th></th>\n",
       "      <th></th>\n",
       "      <th></th>\n",
       "      <th></th>\n",
       "      <th></th>\n",
       "      <th></th>\n",
       "    </tr>\n",
       "  </thead>\n",
       "  <tbody>\n",
       "    <tr>\n",
       "      <th>0</th>\n",
       "      <td>2.966061e+06</td>\n",
       "      <td>3.670881e+06</td>\n",
       "      <td>0.000000e+00</td>\n",
       "      <td>0.00</td>\n",
       "      <td>0.000000</td>\n",
       "      <td>0.000000e+00</td>\n",
       "      <td>0.000000</td>\n",
       "      <td>0.000000e+00</td>\n",
       "      <td>0.000000e+00</td>\n",
       "      <td>0.000000e+00</td>\n",
       "      <td>...</td>\n",
       "      <td>0.000000e+00</td>\n",
       "      <td>0.000000e+00</td>\n",
       "      <td>0.000000e+00</td>\n",
       "      <td>0.000000e+00</td>\n",
       "      <td>0.000000e+00</td>\n",
       "      <td>0.000000e+00</td>\n",
       "      <td>0.000000</td>\n",
       "      <td>0.000000</td>\n",
       "      <td>0.000000e+00</td>\n",
       "      <td>0.000000e+00</td>\n",
       "    </tr>\n",
       "    <tr>\n",
       "      <th>1</th>\n",
       "      <td>1.527037e+06</td>\n",
       "      <td>1.710796e+06</td>\n",
       "      <td>0.000000e+00</td>\n",
       "      <td>0.00</td>\n",
       "      <td>0.000000</td>\n",
       "      <td>0.000000e+00</td>\n",
       "      <td>0.000000</td>\n",
       "      <td>0.000000e+00</td>\n",
       "      <td>0.000000e+00</td>\n",
       "      <td>0.000000e+00</td>\n",
       "      <td>...</td>\n",
       "      <td>0.000000e+00</td>\n",
       "      <td>0.000000e+00</td>\n",
       "      <td>0.000000e+00</td>\n",
       "      <td>0.000000e+00</td>\n",
       "      <td>0.000000e+00</td>\n",
       "      <td>0.000000e+00</td>\n",
       "      <td>0.000000</td>\n",
       "      <td>0.000000</td>\n",
       "      <td>0.000000e+00</td>\n",
       "      <td>0.000000e+00</td>\n",
       "    </tr>\n",
       "    <tr>\n",
       "      <th>2</th>\n",
       "      <td>1.086138e+06</td>\n",
       "      <td>5.231761e+05</td>\n",
       "      <td>7.378355e+05</td>\n",
       "      <td>615004.60</td>\n",
       "      <td>542550.839881</td>\n",
       "      <td>8.278706e+05</td>\n",
       "      <td>863821.975000</td>\n",
       "      <td>8.928124e+05</td>\n",
       "      <td>1.326312e+06</td>\n",
       "      <td>1.086280e+06</td>\n",
       "      <td>...</td>\n",
       "      <td>1.415131e+06</td>\n",
       "      <td>9.997728e+05</td>\n",
       "      <td>1.053243e+06</td>\n",
       "      <td>1.273795e+06</td>\n",
       "      <td>1.476925e+06</td>\n",
       "      <td>1.107731e+06</td>\n",
       "      <td>988213.915556</td>\n",
       "      <td>993776.530727</td>\n",
       "      <td>1.343664e+06</td>\n",
       "      <td>1.261611e+06</td>\n",
       "    </tr>\n",
       "    <tr>\n",
       "      <th>3</th>\n",
       "      <td>5.605850e+05</td>\n",
       "      <td>5.840684e+05</td>\n",
       "      <td>6.360329e+05</td>\n",
       "      <td>399608.00</td>\n",
       "      <td>470726.936364</td>\n",
       "      <td>5.208006e+05</td>\n",
       "      <td>542202.743590</td>\n",
       "      <td>5.482862e+05</td>\n",
       "      <td>1.023652e+06</td>\n",
       "      <td>7.633430e+05</td>\n",
       "      <td>...</td>\n",
       "      <td>1.226842e+06</td>\n",
       "      <td>9.025977e+05</td>\n",
       "      <td>9.560844e+05</td>\n",
       "      <td>9.611462e+05</td>\n",
       "      <td>1.147409e+06</td>\n",
       "      <td>6.770385e+05</td>\n",
       "      <td>672666.227500</td>\n",
       "      <td>753629.104667</td>\n",
       "      <td>9.532984e+05</td>\n",
       "      <td>8.160634e+05</td>\n",
       "    </tr>\n",
       "    <tr>\n",
       "      <th>4</th>\n",
       "      <td>1.434960e+06</td>\n",
       "      <td>1.538995e+06</td>\n",
       "      <td>1.418166e+06</td>\n",
       "      <td>202574.75</td>\n",
       "      <td>917468.718750</td>\n",
       "      <td>1.201301e+06</td>\n",
       "      <td>977240.514167</td>\n",
       "      <td>1.162317e+06</td>\n",
       "      <td>1.426126e+06</td>\n",
       "      <td>1.396139e+06</td>\n",
       "      <td>...</td>\n",
       "      <td>1.242995e+06</td>\n",
       "      <td>1.059563e+06</td>\n",
       "      <td>9.912013e+05</td>\n",
       "      <td>9.681878e+05</td>\n",
       "      <td>9.792854e+05</td>\n",
       "      <td>6.910144e+05</td>\n",
       "      <td>721250.933182</td>\n",
       "      <td>747325.038333</td>\n",
       "      <td>6.651101e+05</td>\n",
       "      <td>7.675972e+05</td>\n",
       "    </tr>\n",
       "  </tbody>\n",
       "</table>\n",
       "<p>5 rows × 34 columns</p>\n",
       "</div>"
      ],
      "text/plain": [
       "Month         2013-01       2013-02       2013-03    2013-04        2013-05  \\\n",
       "shop_id                                                                       \n",
       "0        2.966061e+06  3.670881e+06  0.000000e+00       0.00       0.000000   \n",
       "1        1.527037e+06  1.710796e+06  0.000000e+00       0.00       0.000000   \n",
       "2        1.086138e+06  5.231761e+05  7.378355e+05  615004.60  542550.839881   \n",
       "3        5.605850e+05  5.840684e+05  6.360329e+05  399608.00  470726.936364   \n",
       "4        1.434960e+06  1.538995e+06  1.418166e+06  202574.75  917468.718750   \n",
       "\n",
       "Month         2013-06        2013-07       2013-08       2013-09  \\\n",
       "shop_id                                                            \n",
       "0        0.000000e+00       0.000000  0.000000e+00  0.000000e+00   \n",
       "1        0.000000e+00       0.000000  0.000000e+00  0.000000e+00   \n",
       "2        8.278706e+05  863821.975000  8.928124e+05  1.326312e+06   \n",
       "3        5.208006e+05  542202.743590  5.482862e+05  1.023652e+06   \n",
       "4        1.201301e+06  977240.514167  1.162317e+06  1.426126e+06   \n",
       "\n",
       "Month         2013-10  ...       2015-01       2015-02       2015-03  \\\n",
       "shop_id                ...                                             \n",
       "0        0.000000e+00  ...  0.000000e+00  0.000000e+00  0.000000e+00   \n",
       "1        0.000000e+00  ...  0.000000e+00  0.000000e+00  0.000000e+00   \n",
       "2        1.086280e+06  ...  1.415131e+06  9.997728e+05  1.053243e+06   \n",
       "3        7.633430e+05  ...  1.226842e+06  9.025977e+05  9.560844e+05   \n",
       "4        1.396139e+06  ...  1.242995e+06  1.059563e+06  9.912013e+05   \n",
       "\n",
       "Month         2015-04       2015-05       2015-06        2015-07  \\\n",
       "shop_id                                                            \n",
       "0        0.000000e+00  0.000000e+00  0.000000e+00       0.000000   \n",
       "1        0.000000e+00  0.000000e+00  0.000000e+00       0.000000   \n",
       "2        1.273795e+06  1.476925e+06  1.107731e+06  988213.915556   \n",
       "3        9.611462e+05  1.147409e+06  6.770385e+05  672666.227500   \n",
       "4        9.681878e+05  9.792854e+05  6.910144e+05  721250.933182   \n",
       "\n",
       "Month          2015-08       2015-09       2015-10  \n",
       "shop_id                                             \n",
       "0             0.000000  0.000000e+00  0.000000e+00  \n",
       "1             0.000000  0.000000e+00  0.000000e+00  \n",
       "2        993776.530727  1.343664e+06  1.261611e+06  \n",
       "3        753629.104667  9.532984e+05  8.160634e+05  \n",
       "4        747325.038333  6.651101e+05  7.675972e+05  \n",
       "\n",
       "[5 rows x 34 columns]"
      ]
     },
     "execution_count": 258,
     "metadata": {},
     "output_type": "execute_result"
    }
   ],
   "source": [
    "shop_profits.head()"
   ]
  },
  {
   "cell_type": "code",
   "execution_count": 291,
   "metadata": {},
   "outputs": [],
   "source": [
    "tsne = TSNE(perplexity=4).fit_transform(shop_profits)"
   ]
  },
  {
   "cell_type": "code",
   "execution_count": 292,
   "metadata": {},
   "outputs": [
    {
     "data": {
      "text/plain": [
       "<matplotlib.collections.PathCollection at 0x24771a55f98>"
      ]
     },
     "execution_count": 292,
     "metadata": {},
     "output_type": "execute_result"
    },
    {
     "data": {
      "image/png": "[encoded data removed]",
      "text/plain": [
       "<Figure size 432x288 with 1 Axes>"
      ]
     },
     "metadata": {
      "needs_background": "light"
     },
     "output_type": "display_data"
    }
   ],
   "source": [
    "plt.scatter(tsne[:,0], tsne[:,1])"
   ]
  },
  {
   "cell_type": "code",
   "execution_count": 300,
   "metadata": {},
   "outputs": [
    {
     "data": {
      "text/html": [
       "<div>\n",
       "<style scoped>\n",
       "    .dataframe tbody tr th:only-of-type {\n",
       "        vertical-align: middle;\n",
       "    }\n",
       "\n",
       "    .dataframe tbody tr th {\n",
       "        vertical-align: top;\n",
       "    }\n",
       "\n",
       "    .dataframe thead th {\n",
       "        text-align: right;\n",
       "    }\n",
       "</style>\n",
       "<table border=\"1\" class=\"dataframe\">\n",
       "  <thead>\n",
       "    <tr style=\"text-align: right;\">\n",
       "      <th></th>\n",
       "      <th></th>\n",
       "      <th></th>\n",
       "      <th>item_cnt_month</th>\n",
       "      <th>item_price</th>\n",
       "    </tr>\n",
       "    <tr>\n",
       "      <th>Month</th>\n",
       "      <th>shop_id</th>\n",
       "      <th>item_id</th>\n",
       "      <th></th>\n",
       "      <th></th>\n",
       "    </tr>\n",
       "  </thead>\n",
       "  <tbody>\n",
       "    <tr>\n",
       "      <th rowspan=\"5\" valign=\"top\">2013-01</th>\n",
       "      <th rowspan=\"5\" valign=\"top\">0</th>\n",
       "      <th>32</th>\n",
       "      <td>6.0</td>\n",
       "      <td>221.0</td>\n",
       "    </tr>\n",
       "    <tr>\n",
       "      <th>33</th>\n",
       "      <td>3.0</td>\n",
       "      <td>347.0</td>\n",
       "    </tr>\n",
       "    <tr>\n",
       "      <th>35</th>\n",
       "      <td>1.0</td>\n",
       "      <td>247.0</td>\n",
       "    </tr>\n",
       "    <tr>\n",
       "      <th>43</th>\n",
       "      <td>1.0</td>\n",
       "      <td>221.0</td>\n",
       "    </tr>\n",
       "    <tr>\n",
       "      <th>51</th>\n",
       "      <td>2.0</td>\n",
       "      <td>128.5</td>\n",
       "    </tr>\n",
       "    <tr>\n",
       "      <th>...</th>\n",
       "      <th>...</th>\n",
       "      <th>...</th>\n",
       "      <td>...</td>\n",
       "      <td>...</td>\n",
       "    </tr>\n",
       "    <tr>\n",
       "      <th rowspan=\"5\" valign=\"top\">2015-10</th>\n",
       "      <th rowspan=\"5\" valign=\"top\">59</th>\n",
       "      <th>22087</th>\n",
       "      <td>6.0</td>\n",
       "      <td>119.0</td>\n",
       "    </tr>\n",
       "    <tr>\n",
       "      <th>22088</th>\n",
       "      <td>2.0</td>\n",
       "      <td>119.0</td>\n",
       "    </tr>\n",
       "    <tr>\n",
       "      <th>22091</th>\n",
       "      <td>1.0</td>\n",
       "      <td>179.0</td>\n",
       "    </tr>\n",
       "    <tr>\n",
       "      <th>22100</th>\n",
       "      <td>1.0</td>\n",
       "      <td>629.0</td>\n",
       "    </tr>\n",
       "    <tr>\n",
       "      <th>22102</th>\n",
       "      <td>1.0</td>\n",
       "      <td>1250.0</td>\n",
       "    </tr>\n",
       "  </tbody>\n",
       "</table>\n",
       "<p>1609124 rows × 2 columns</p>\n",
       "</div>"
      ],
      "text/plain": [
       "                         item_cnt_month  item_price\n",
       "Month   shop_id item_id                            \n",
       "2013-01 0       32                  6.0       221.0\n",
       "                33                  3.0       347.0\n",
       "                35                  1.0       247.0\n",
       "                43                  1.0       221.0\n",
       "                51                  2.0       128.5\n",
       "...                                 ...         ...\n",
       "2015-10 59      22087               6.0       119.0\n",
       "                22088               2.0       119.0\n",
       "                22091               1.0       179.0\n",
       "                22100               1.0       629.0\n",
       "                22102               1.0      1250.0\n",
       "\n",
       "[1609124 rows x 2 columns]"
      ]
     },
     "execution_count": 300,
     "metadata": {},
     "output_type": "execute_result"
    }
   ],
   "source": [
    "agg_sales"
   ]
  },
  {
   "cell_type": "code",
   "execution_count": 306,
   "metadata": {},
   "outputs": [],
   "source": [
    "shops_categories = pd.merge(agg_sales.reset_index(), items[['item_id','item_category_id']], on='item_id').groupby(['shop_id','item_category_id']).item_cnt_month.sum().unstack(level=0).fillna(0)"
   ]
  },
  {
   "cell_type": "code",
   "execution_count": 307,
   "metadata": {},
   "outputs": [
    {
     "data": {
      "text/html": [
       "<div>\n",
       "<style scoped>\n",
       "    .dataframe tbody tr th:only-of-type {\n",
       "        vertical-align: middle;\n",
       "    }\n",
       "\n",
       "    .dataframe tbody tr th {\n",
       "        vertical-align: top;\n",
       "    }\n",
       "\n",
       "    .dataframe thead th {\n",
       "        text-align: right;\n",
       "    }\n",
       "</style>\n",
       "<table border=\"1\" class=\"dataframe\">\n",
       "  <thead>\n",
       "    <tr style=\"text-align: right;\">\n",
       "      <th>shop_id</th>\n",
       "      <th>0</th>\n",
       "      <th>1</th>\n",
       "      <th>2</th>\n",
       "      <th>3</th>\n",
       "      <th>4</th>\n",
       "      <th>5</th>\n",
       "      <th>6</th>\n",
       "      <th>7</th>\n",
       "      <th>8</th>\n",
       "      <th>9</th>\n",
       "      <th>...</th>\n",
       "      <th>50</th>\n",
       "      <th>51</th>\n",
       "      <th>52</th>\n",
       "      <th>53</th>\n",
       "      <th>54</th>\n",
       "      <th>55</th>\n",
       "      <th>56</th>\n",
       "      <th>57</th>\n",
       "      <th>58</th>\n",
       "      <th>59</th>\n",
       "    </tr>\n",
       "    <tr>\n",
       "      <th>item_category_id</th>\n",
       "      <th></th>\n",
       "      <th></th>\n",
       "      <th></th>\n",
       "      <th></th>\n",
       "      <th></th>\n",
       "      <th></th>\n",
       "      <th></th>\n",
       "      <th></th>\n",
       "      <th></th>\n",
       "      <th></th>\n",
       "      <th></th>\n",
       "      <th></th>\n",
       "      <th></th>\n",
       "      <th></th>\n",
       "      <th></th>\n",
       "      <th></th>\n",
       "      <th></th>\n",
       "      <th></th>\n",
       "      <th></th>\n",
       "      <th></th>\n",
       "      <th></th>\n",
       "    </tr>\n",
       "  </thead>\n",
       "  <tbody>\n",
       "    <tr>\n",
       "      <th>0</th>\n",
       "      <td>1.0</td>\n",
       "      <td>0.0</td>\n",
       "      <td>0.0</td>\n",
       "      <td>0.0</td>\n",
       "      <td>0.0</td>\n",
       "      <td>0.0</td>\n",
       "      <td>0.0</td>\n",
       "      <td>0.0</td>\n",
       "      <td>0.0</td>\n",
       "      <td>0.0</td>\n",
       "      <td>...</td>\n",
       "      <td>0.0</td>\n",
       "      <td>0.0</td>\n",
       "      <td>0.0</td>\n",
       "      <td>0.0</td>\n",
       "      <td>0.0</td>\n",
       "      <td>0.0</td>\n",
       "      <td>0.0</td>\n",
       "      <td>0.0</td>\n",
       "      <td>0.0</td>\n",
       "      <td>0.0</td>\n",
       "    </tr>\n",
       "    <tr>\n",
       "      <th>1</th>\n",
       "      <td>1.0</td>\n",
       "      <td>0.0</td>\n",
       "      <td>0.0</td>\n",
       "      <td>0.0</td>\n",
       "      <td>0.0</td>\n",
       "      <td>0.0</td>\n",
       "      <td>0.0</td>\n",
       "      <td>0.0</td>\n",
       "      <td>0.0</td>\n",
       "      <td>0.0</td>\n",
       "      <td>...</td>\n",
       "      <td>0.0</td>\n",
       "      <td>0.0</td>\n",
       "      <td>0.0</td>\n",
       "      <td>0.0</td>\n",
       "      <td>0.0</td>\n",
       "      <td>0.0</td>\n",
       "      <td>0.0</td>\n",
       "      <td>0.0</td>\n",
       "      <td>0.0</td>\n",
       "      <td>0.0</td>\n",
       "    </tr>\n",
       "    <tr>\n",
       "      <th>2</th>\n",
       "      <td>105.0</td>\n",
       "      <td>63.0</td>\n",
       "      <td>355.0</td>\n",
       "      <td>200.0</td>\n",
       "      <td>309.0</td>\n",
       "      <td>232.0</td>\n",
       "      <td>422.0</td>\n",
       "      <td>491.0</td>\n",
       "      <td>19.0</td>\n",
       "      <td>32.0</td>\n",
       "      <td>...</td>\n",
       "      <td>733.0</td>\n",
       "      <td>231.0</td>\n",
       "      <td>250.0</td>\n",
       "      <td>341.0</td>\n",
       "      <td>874.0</td>\n",
       "      <td>0.0</td>\n",
       "      <td>338.0</td>\n",
       "      <td>669.0</td>\n",
       "      <td>324.0</td>\n",
       "      <td>223.0</td>\n",
       "    </tr>\n",
       "    <tr>\n",
       "      <th>3</th>\n",
       "      <td>52.0</td>\n",
       "      <td>18.0</td>\n",
       "      <td>527.0</td>\n",
       "      <td>360.0</td>\n",
       "      <td>333.0</td>\n",
       "      <td>340.0</td>\n",
       "      <td>755.0</td>\n",
       "      <td>554.0</td>\n",
       "      <td>0.0</td>\n",
       "      <td>71.0</td>\n",
       "      <td>...</td>\n",
       "      <td>773.0</td>\n",
       "      <td>247.0</td>\n",
       "      <td>376.0</td>\n",
       "      <td>460.0</td>\n",
       "      <td>1098.0</td>\n",
       "      <td>0.0</td>\n",
       "      <td>472.0</td>\n",
       "      <td>965.0</td>\n",
       "      <td>574.0</td>\n",
       "      <td>399.0</td>\n",
       "    </tr>\n",
       "    <tr>\n",
       "      <th>4</th>\n",
       "      <td>38.0</td>\n",
       "      <td>30.0</td>\n",
       "      <td>42.0</td>\n",
       "      <td>28.0</td>\n",
       "      <td>101.0</td>\n",
       "      <td>38.0</td>\n",
       "      <td>21.0</td>\n",
       "      <td>92.0</td>\n",
       "      <td>2.0</td>\n",
       "      <td>0.0</td>\n",
       "      <td>...</td>\n",
       "      <td>92.0</td>\n",
       "      <td>56.0</td>\n",
       "      <td>55.0</td>\n",
       "      <td>68.0</td>\n",
       "      <td>103.0</td>\n",
       "      <td>0.0</td>\n",
       "      <td>46.0</td>\n",
       "      <td>149.0</td>\n",
       "      <td>80.0</td>\n",
       "      <td>52.0</td>\n",
       "    </tr>\n",
       "    <tr>\n",
       "      <th>...</th>\n",
       "      <td>...</td>\n",
       "      <td>...</td>\n",
       "      <td>...</td>\n",
       "      <td>...</td>\n",
       "      <td>...</td>\n",
       "      <td>...</td>\n",
       "      <td>...</td>\n",
       "      <td>...</td>\n",
       "      <td>...</td>\n",
       "      <td>...</td>\n",
       "      <td>...</td>\n",
       "      <td>...</td>\n",
       "      <td>...</td>\n",
       "      <td>...</td>\n",
       "      <td>...</td>\n",
       "      <td>...</td>\n",
       "      <td>...</td>\n",
       "      <td>...</td>\n",
       "      <td>...</td>\n",
       "      <td>...</td>\n",
       "      <td>...</td>\n",
       "    </tr>\n",
       "    <tr>\n",
       "      <th>79</th>\n",
       "      <td>0.0</td>\n",
       "      <td>0.0</td>\n",
       "      <td>222.0</td>\n",
       "      <td>252.0</td>\n",
       "      <td>501.0</td>\n",
       "      <td>309.0</td>\n",
       "      <td>639.0</td>\n",
       "      <td>689.0</td>\n",
       "      <td>1.0</td>\n",
       "      <td>14.0</td>\n",
       "      <td>...</td>\n",
       "      <td>171.0</td>\n",
       "      <td>0.0</td>\n",
       "      <td>261.0</td>\n",
       "      <td>360.0</td>\n",
       "      <td>332.0</td>\n",
       "      <td>0.0</td>\n",
       "      <td>225.0</td>\n",
       "      <td>235.0</td>\n",
       "      <td>188.0</td>\n",
       "      <td>345.0</td>\n",
       "    </tr>\n",
       "    <tr>\n",
       "      <th>80</th>\n",
       "      <td>0.0</td>\n",
       "      <td>0.0</td>\n",
       "      <td>0.0</td>\n",
       "      <td>99.0</td>\n",
       "      <td>5.0</td>\n",
       "      <td>26.0</td>\n",
       "      <td>62.0</td>\n",
       "      <td>25.0</td>\n",
       "      <td>0.0</td>\n",
       "      <td>0.0</td>\n",
       "      <td>...</td>\n",
       "      <td>13.0</td>\n",
       "      <td>0.0</td>\n",
       "      <td>2.0</td>\n",
       "      <td>8.0</td>\n",
       "      <td>0.0</td>\n",
       "      <td>12.0</td>\n",
       "      <td>81.0</td>\n",
       "      <td>0.0</td>\n",
       "      <td>0.0</td>\n",
       "      <td>30.0</td>\n",
       "    </tr>\n",
       "    <tr>\n",
       "      <th>81</th>\n",
       "      <td>44.0</td>\n",
       "      <td>28.0</td>\n",
       "      <td>2.0</td>\n",
       "      <td>0.0</td>\n",
       "      <td>31.0</td>\n",
       "      <td>0.0</td>\n",
       "      <td>52.0</td>\n",
       "      <td>0.0</td>\n",
       "      <td>0.0</td>\n",
       "      <td>0.0</td>\n",
       "      <td>...</td>\n",
       "      <td>0.0</td>\n",
       "      <td>109.0</td>\n",
       "      <td>24.0</td>\n",
       "      <td>0.0</td>\n",
       "      <td>51.0</td>\n",
       "      <td>0.0</td>\n",
       "      <td>47.0</td>\n",
       "      <td>81.0</td>\n",
       "      <td>36.0</td>\n",
       "      <td>0.0</td>\n",
       "    </tr>\n",
       "    <tr>\n",
       "      <th>82</th>\n",
       "      <td>146.0</td>\n",
       "      <td>169.0</td>\n",
       "      <td>70.0</td>\n",
       "      <td>0.0</td>\n",
       "      <td>380.0</td>\n",
       "      <td>0.0</td>\n",
       "      <td>608.0</td>\n",
       "      <td>0.0</td>\n",
       "      <td>0.0</td>\n",
       "      <td>0.0</td>\n",
       "      <td>...</td>\n",
       "      <td>0.0</td>\n",
       "      <td>1573.0</td>\n",
       "      <td>597.0</td>\n",
       "      <td>0.0</td>\n",
       "      <td>307.0</td>\n",
       "      <td>0.0</td>\n",
       "      <td>792.0</td>\n",
       "      <td>628.0</td>\n",
       "      <td>411.0</td>\n",
       "      <td>0.0</td>\n",
       "    </tr>\n",
       "    <tr>\n",
       "      <th>83</th>\n",
       "      <td>86.0</td>\n",
       "      <td>64.0</td>\n",
       "      <td>51.0</td>\n",
       "      <td>56.0</td>\n",
       "      <td>70.0</td>\n",
       "      <td>120.0</td>\n",
       "      <td>693.0</td>\n",
       "      <td>145.0</td>\n",
       "      <td>0.0</td>\n",
       "      <td>0.0</td>\n",
       "      <td>...</td>\n",
       "      <td>434.0</td>\n",
       "      <td>409.0</td>\n",
       "      <td>313.0</td>\n",
       "      <td>154.0</td>\n",
       "      <td>332.0</td>\n",
       "      <td>0.0</td>\n",
       "      <td>272.0</td>\n",
       "      <td>610.0</td>\n",
       "      <td>260.0</td>\n",
       "      <td>534.0</td>\n",
       "    </tr>\n",
       "  </tbody>\n",
       "</table>\n",
       "<p>84 rows × 60 columns</p>\n",
       "</div>"
      ],
      "text/plain": [
       "shop_id              0      1      2      3      4      5      6      7   \\\n",
       "item_category_id                                                           \n",
       "0                   1.0    0.0    0.0    0.0    0.0    0.0    0.0    0.0   \n",
       "1                   1.0    0.0    0.0    0.0    0.0    0.0    0.0    0.0   \n",
       "2                 105.0   63.0  355.0  200.0  309.0  232.0  422.0  491.0   \n",
       "3                  52.0   18.0  527.0  360.0  333.0  340.0  755.0  554.0   \n",
       "4                  38.0   30.0   42.0   28.0  101.0   38.0   21.0   92.0   \n",
       "...                 ...    ...    ...    ...    ...    ...    ...    ...   \n",
       "79                  0.0    0.0  222.0  252.0  501.0  309.0  639.0  689.0   \n",
       "80                  0.0    0.0    0.0   99.0    5.0   26.0   62.0   25.0   \n",
       "81                 44.0   28.0    2.0    0.0   31.0    0.0   52.0    0.0   \n",
       "82                146.0  169.0   70.0    0.0  380.0    0.0  608.0    0.0   \n",
       "83                 86.0   64.0   51.0   56.0   70.0  120.0  693.0  145.0   \n",
       "\n",
       "shop_id             8     9   ...     50      51     52     53      54    55  \\\n",
       "item_category_id              ...                                              \n",
       "0                  0.0   0.0  ...    0.0     0.0    0.0    0.0     0.0   0.0   \n",
       "1                  0.0   0.0  ...    0.0     0.0    0.0    0.0     0.0   0.0   \n",
       "2                 19.0  32.0  ...  733.0   231.0  250.0  341.0   874.0   0.0   \n",
       "3                  0.0  71.0  ...  773.0   247.0  376.0  460.0  1098.0   0.0   \n",
       "4                  2.0   0.0  ...   92.0    56.0   55.0   68.0   103.0   0.0   \n",
       "...                ...   ...  ...    ...     ...    ...    ...     ...   ...   \n",
       "79                 1.0  14.0  ...  171.0     0.0  261.0  360.0   332.0   0.0   \n",
       "80                 0.0   0.0  ...   13.0     0.0    2.0    8.0     0.0  12.0   \n",
       "81                 0.0   0.0  ...    0.0   109.0   24.0    0.0    51.0   0.0   \n",
       "82                 0.0   0.0  ...    0.0  1573.0  597.0    0.0   307.0   0.0   \n",
       "83                 0.0   0.0  ...  434.0   409.0  313.0  154.0   332.0   0.0   \n",
       "\n",
       "shop_id              56     57     58     59  \n",
       "item_category_id                              \n",
       "0                   0.0    0.0    0.0    0.0  \n",
       "1                   0.0    0.0    0.0    0.0  \n",
       "2                 338.0  669.0  324.0  223.0  \n",
       "3                 472.0  965.0  574.0  399.0  \n",
       "4                  46.0  149.0   80.0   52.0  \n",
       "...                 ...    ...    ...    ...  \n",
       "79                225.0  235.0  188.0  345.0  \n",
       "80                 81.0    0.0    0.0   30.0  \n",
       "81                 47.0   81.0   36.0    0.0  \n",
       "82                792.0  628.0  411.0    0.0  \n",
       "83                272.0  610.0  260.0  534.0  \n",
       "\n",
       "[84 rows x 60 columns]"
      ]
     },
     "execution_count": 307,
     "metadata": {},
     "output_type": "execute_result"
    }
   ],
   "source": [
    "shops_categories"
   ]
  },
  {
   "cell_type": "code",
   "execution_count": 329,
   "metadata": {},
   "outputs": [],
   "source": [
    "from sklearn.decomposition import PCA"
   ]
  },
  {
   "cell_type": "code",
   "execution_count": 335,
   "metadata": {},
   "outputs": [],
   "source": [
    "pca = PCA(n_components=20).fit(shops_categories)"
   ]
  },
  {
   "cell_type": "code",
   "execution_count": 336,
   "metadata": {},
   "outputs": [
    {
     "data": {
      "text/plain": [
       "array([3.51288597e+08, 1.70897264e+07, 1.57195731e+07, 4.35850797e+06,\n",
       "       2.99282916e+06, 1.71523243e+06, 1.24041374e+06, 8.59415832e+05,\n",
       "       5.61582164e+05, 4.58240656e+05, 3.03408533e+05, 2.37597331e+05,\n",
       "       2.04918466e+05, 1.50751661e+05, 1.31705431e+05, 8.89696724e+04,\n",
       "       6.35857861e+04, 4.78245293e+04, 4.36940412e+04, 3.57731561e+04])"
      ]
     },
     "execution_count": 336,
     "metadata": {},
     "output_type": "execute_result"
    }
   ],
   "source": [
    "pca.explained_variance_"
   ]
  },
  {
   "cell_type": "markdown",
   "metadata": {},
   "source": [
    "## Explore test set"
   ]
  },
  {
   "cell_type": "code",
   "execution_count": 67,
   "metadata": {},
   "outputs": [
    {
     "data": {
      "text/plain": [
       "shop_id      42\n",
       "item_id    5100\n",
       "dtype: int64"
      ]
     },
     "execution_count": 67,
     "metadata": {},
     "output_type": "execute_result"
    }
   ],
   "source": [
    "test_set[['shop_id', 'item_id']].nunique()"
   ]
  },
  {
   "cell_type": "code",
   "execution_count": 68,
   "metadata": {},
   "outputs": [
    {
     "data": {
      "text/plain": [
       "shop_id\n",
       "2     5100\n",
       "3     5100\n",
       "4     5100\n",
       "5     5100\n",
       "6     5100\n",
       "7     5100\n",
       "10    5100\n",
       "12    5100\n",
       "14    5100\n",
       "15    5100\n",
       "16    5100\n",
       "18    5100\n",
       "19    5100\n",
       "21    5100\n",
       "22    5100\n",
       "24    5100\n",
       "25    5100\n",
       "26    5100\n",
       "28    5100\n",
       "31    5100\n",
       "34    5100\n",
       "35    5100\n",
       "36    5100\n",
       "37    5100\n",
       "38    5100\n",
       "39    5100\n",
       "41    5100\n",
       "42    5100\n",
       "44    5100\n",
       "45    5100\n",
       "46    5100\n",
       "47    5100\n",
       "48    5100\n",
       "49    5100\n",
       "50    5100\n",
       "52    5100\n",
       "53    5100\n",
       "55    5100\n",
       "56    5100\n",
       "57    5100\n",
       "58    5100\n",
       "59    5100\n",
       "Name: item_id, dtype: int64"
      ]
     },
     "execution_count": 68,
     "metadata": {},
     "output_type": "execute_result"
    }
   ],
   "source": [
    "test_set.groupby('shop_id').item_id.nunique()"
   ]
  },
  {
   "cell_type": "markdown",
   "metadata": {},
   "source": [
    "When performing validation, I must do it over a set that looks like this: same items for all shops (but not the full universe of items).\n",
    "\n",
    "I am creating such data frame now, that will be used to calculate error."
   ]
  },
  {
   "cell_type": "code",
   "execution_count": 7,
   "metadata": {},
   "outputs": [],
   "source": [
    "def create_submission_like_df():\n",
    "    months = sorted(agg_sales.index.levels[0])\n",
    "    submission_like_data  = {}\n",
    "    for month in months:    \n",
    "        month_data = agg_sales.loc[month]\n",
    "        shops = set(month_data.index.get_level_values(0))\n",
    "        item_ids = set(month_data.index.get_level_values(1))\n",
    "\n",
    "        new_idx = pd.Index(product(shops, item_ids), name=month_data.index.name)\n",
    "        submission_like_data[month] = month_data.reindex(new_idx).fillna({'item_cnt_month':0, 'item_price':-1})\n",
    "        \n",
    "    submission_like_df = pd.concat(submission_like_data)\n",
    "    submission_like_df.index.names = agg_sales.index.names\n",
    "    \n",
    "    return submission_like_df"
   ]
  },
  {
   "cell_type": "code",
   "execution_count": 9,
   "metadata": {},
   "outputs": [
    {
     "name": "stdout",
     "output_type": "stream",
     "text": [
      "Wall time: 21.4 s\n"
     ]
    }
   ],
   "source": [
    "%%time\n",
    "submission_like_df = create_submission_like_df()"
   ]
  },
  {
   "cell_type": "code",
   "execution_count": 14,
   "metadata": {},
   "outputs": [
    {
     "data": {
      "text/plain": [
       "shop_id\n",
       "0     8115\n",
       "1     8115\n",
       "2     8115\n",
       "3     8115\n",
       "4     8115\n",
       "6     8115\n",
       "7     8115\n",
       "8     8115\n",
       "10    8115\n",
       "12    8115\n",
       "Name: item_id, dtype: int64"
      ]
     },
     "execution_count": 14,
     "metadata": {},
     "output_type": "execute_result"
    }
   ],
   "source": [
    "submission_like_df.loc[agg_sales.index.levels[0][0]].reset_index().groupby('shop_id').item_id.nunique().head(10)"
   ]
  },
  {
   "cell_type": "markdown",
   "metadata": {},
   "source": [
    "<hr>\n",
    "<hr>\n",
    "<hr>"
   ]
  }
 ],
 "metadata": {
  "kernelspec": {
   "display_name": "Python 3",
   "language": "python",
   "name": "python3"
  },
  "language_info": {
   "codemirror_mode": {
    "name": "ipython",
    "version": 3
   },
   "file_extension": ".py",
   "mimetype": "text/x-python",
   "name": "python",
   "nbconvert_exporter": "python",
   "pygments_lexer": "ipython3",
   "version": "3.6.10"
  }
 },
 "nbformat": 4,
 "nbformat_minor": 4
}
