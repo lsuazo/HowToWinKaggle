{
 "cells": [
  {
   "cell_type": "markdown",
   "metadata": {},
   "source": [
    "# Load and preprocess data"
   ]
  },
  {
   "cell_type": "markdown",
   "metadata": {},
   "source": [
    "Here I load, and do some minimal preprocessing, which I arrived at in the EDA notebook."
   ]
  },
  {
   "cell_type": "code",
   "execution_count": 1,
   "metadata": {},
   "outputs": [],
   "source": [
    "import os, time, gc\n",
    "from collections import deque\n",
    "from itertools import product\n",
    "\n",
    "import matplotlib.pyplot as plt\n",
    "import numpy as np\n",
    "import pandas as pd\n",
    "import seaborn\n",
    "\n",
    "%matplotlib inline"
   ]
  },
  {
   "cell_type": "code",
   "execution_count": 2,
   "metadata": {},
   "outputs": [],
   "source": [
    "def load_sales(parse_date = True):\n",
    "    data_fol = 'data'\n",
    "    sales = pd.read_csv(os.path.join(data_fol, 'sales_train.csv'))\n",
    "    if parse_date:\n",
    "        date_col = pd.to_datetime(sales.date, format='%d.%m.%Y')\n",
    "        sales.date = date_col\n",
    "        sales['Month'] = sales.date.dt.to_period('M')\n",
    "    return sales\n",
    "\n",
    "def aggregate_monthly(sales_df):\n",
    "    assert 'Month' in sales_df.columns, 'Month column not found'\n",
    "    return (sales_df\n",
    "            .groupby(['Month', 'shop_id', 'item_id'])\n",
    "            .agg({'item_cnt_day': np.sum, 'item_price': np.mean})\n",
    "            .rename(columns={'item_cnt_day':'item_cnt_month'})\n",
    "           )"
   ]
  },
  {
   "cell_type": "code",
   "execution_count": 3,
   "metadata": {},
   "outputs": [],
   "source": [
    "def load_all():\n",
    "    sales = load_sales()\n",
    "    agg_sales = aggregate_monthly(sales)\n",
    "    items = pd.read_csv('data/items.csv')\n",
    "    categories = pd.read_csv('data/item_categories.csv')\n",
    "    test_set = pd.read_csv('data/test.csv')\n",
    "    return sales, agg_sales, items, categories, test_set"
   ]
  },
  {
   "cell_type": "code",
   "execution_count": 4,
   "metadata": {},
   "outputs": [],
   "source": [
    "def create_submission_like_df():\n",
    "    months = sorted(agg_sales.index.levels[0])\n",
    "    submission_like_data  = {}\n",
    "    for month in months:    \n",
    "        month_data = agg_sales.loc[month]\n",
    "        shops = set(month_data.index.get_level_values(0))\n",
    "        item_ids = set(month_data.index.get_level_values(1))\n",
    "\n",
    "        new_idx = pd.Index(product(shops, item_ids), name=month_data.index.name)\n",
    "        submission_like_data[month] = month_data.reindex(new_idx).fillna({'item_cnt_month':0, 'item_price':-1})\n",
    "        \n",
    "    submission_like_df = pd.concat(submission_like_data)\n",
    "    submission_like_df.index.names = agg_sales.index.names\n",
    "    \n",
    "    return submission_like_df"
   ]
  },
  {
   "cell_type": "code",
   "execution_count": 5,
   "metadata": {},
   "outputs": [],
   "source": [
    "sales, agg_sales, items, categories, test_set = load_all()"
   ]
  },
  {
   "cell_type": "code",
   "execution_count": 6,
   "metadata": {},
   "outputs": [],
   "source": [
    "agg_sales = agg_sales.drop(6066, level=2)"
   ]
  },
  {
   "cell_type": "code",
   "execution_count": 7,
   "metadata": {},
   "outputs": [],
   "source": [
    "agg_sales.loc[agg_sales.item_price <= 0.1, 'item_price'] = np.nan\n",
    "agg_sales['item_price'] = agg_sales.groupby(level=2).item_price.transform(lambda x: x.fillna(x.mean()))"
   ]
  },
  {
   "cell_type": "code",
   "execution_count": 8,
   "metadata": {},
   "outputs": [],
   "source": [
    "cat_annotated_agg_sales = (pd.merge(agg_sales.reset_index(), items.drop('item_name', axis=1), on='item_id')\n",
    "                           .set_index(['Month', 'shop_id', 'item_id'])\n",
    "                           .sort_index(level=[0,1,2])\n",
    "                          )"
   ]
  },
  {
   "cell_type": "code",
   "execution_count": 9,
   "metadata": {},
   "outputs": [],
   "source": [
    "submission_like_df = create_submission_like_df()"
   ]
  },
  {
   "cell_type": "code",
   "execution_count": 10,
   "metadata": {},
   "outputs": [],
   "source": [
    "months = sorted(agg_sales.index.levels[0])"
   ]
  },
  {
   "cell_type": "markdown",
   "metadata": {},
   "source": [
    "<hr>\n",
    "<hr>\n",
    "<hr>"
   ]
  },
  {
   "cell_type": "markdown",
   "metadata": {},
   "source": [
    "# Simple Linear Model"
   ]
  },
  {
   "cell_type": "markdown",
   "metadata": {},
   "source": [
    "I create a simple linear model, using only some aggregated and lagged features. While it was originally meant for ensembling with final model, it ended up not being helpful there, so instead I use this models predictions as a feature for the more powerful model (below)."
   ]
  },
  {
   "cell_type": "code",
   "execution_count": 11,
   "metadata": {},
   "outputs": [],
   "source": [
    "from sklearn.linear_model import LinearRegression, ElasticNet\n",
    "from sklearn.metrics import r2_score"
   ]
  },
  {
   "cell_type": "markdown",
   "metadata": {},
   "source": [
    "## Feature Generation"
   ]
  },
  {
   "cell_type": "markdown",
   "metadata": {},
   "source": [
    "Here I create the features I will use, along with their lagged values."
   ]
  },
  {
   "cell_type": "code",
   "execution_count": 12,
   "metadata": {},
   "outputs": [],
   "source": [
    "ext_agg_sales  = agg_sales.copy().drop('item_price', axis=1)\n",
    "ext_agg_sales['total_shop_cnt_month'] = agg_sales.groupby(level=[0,1]).item_cnt_month.transform('sum')\n",
    "ext_agg_sales['total_item_cnt_month'] = agg_sales.groupby(level=[0,2]).item_cnt_month.transform('sum')"
   ]
  },
  {
   "cell_type": "code",
   "execution_count": 13,
   "metadata": {},
   "outputs": [
    {
     "data": {
      "text/html": [
       "<div>\n",
       "<style scoped>\n",
       "    .dataframe tbody tr th:only-of-type {\n",
       "        vertical-align: middle;\n",
       "    }\n",
       "\n",
       "    .dataframe tbody tr th {\n",
       "        vertical-align: top;\n",
       "    }\n",
       "\n",
       "    .dataframe thead th {\n",
       "        text-align: right;\n",
       "    }\n",
       "</style>\n",
       "<table border=\"1\" class=\"dataframe\">\n",
       "  <thead>\n",
       "    <tr style=\"text-align: right;\">\n",
       "      <th></th>\n",
       "      <th></th>\n",
       "      <th></th>\n",
       "      <th>item_cnt_month</th>\n",
       "      <th>total_shop_cnt_month</th>\n",
       "      <th>total_item_cnt_month</th>\n",
       "    </tr>\n",
       "    <tr>\n",
       "      <th>Month</th>\n",
       "      <th>shop_id</th>\n",
       "      <th>item_id</th>\n",
       "      <th></th>\n",
       "      <th></th>\n",
       "      <th></th>\n",
       "    </tr>\n",
       "  </thead>\n",
       "  <tbody>\n",
       "    <tr>\n",
       "      <th rowspan=\"5\" valign=\"top\">2013-01</th>\n",
       "      <th rowspan=\"5\" valign=\"top\">0</th>\n",
       "      <th>32</th>\n",
       "      <td>6.0</td>\n",
       "      <td>5578.0</td>\n",
       "      <td>299.0</td>\n",
       "    </tr>\n",
       "    <tr>\n",
       "      <th>33</th>\n",
       "      <td>3.0</td>\n",
       "      <td>5578.0</td>\n",
       "      <td>61.0</td>\n",
       "    </tr>\n",
       "    <tr>\n",
       "      <th>35</th>\n",
       "      <td>1.0</td>\n",
       "      <td>5578.0</td>\n",
       "      <td>78.0</td>\n",
       "    </tr>\n",
       "    <tr>\n",
       "      <th>43</th>\n",
       "      <td>1.0</td>\n",
       "      <td>5578.0</td>\n",
       "      <td>2.0</td>\n",
       "    </tr>\n",
       "    <tr>\n",
       "      <th>51</th>\n",
       "      <td>2.0</td>\n",
       "      <td>5578.0</td>\n",
       "      <td>13.0</td>\n",
       "    </tr>\n",
       "  </tbody>\n",
       "</table>\n",
       "</div>"
      ],
      "text/plain": [
       "                         item_cnt_month  total_shop_cnt_month  \\\n",
       "Month   shop_id item_id                                         \n",
       "2013-01 0       32                  6.0                5578.0   \n",
       "                33                  3.0                5578.0   \n",
       "                35                  1.0                5578.0   \n",
       "                43                  1.0                5578.0   \n",
       "                51                  2.0                5578.0   \n",
       "\n",
       "                         total_item_cnt_month  \n",
       "Month   shop_id item_id                        \n",
       "2013-01 0       32                      299.0  \n",
       "                33                       61.0  \n",
       "                35                       78.0  \n",
       "                43                        2.0  \n",
       "                51                       13.0  "
      ]
     },
     "execution_count": 13,
     "metadata": {},
     "output_type": "execute_result"
    }
   ],
   "source": [
    "ext_agg_sales.head()"
   ]
  },
  {
   "cell_type": "code",
   "execution_count": 14,
   "metadata": {},
   "outputs": [],
   "source": [
    "shops = sorted(ext_agg_sales.index.levels[1])\n",
    "idx_cols = ['Month', 'item_id']\n",
    "cols_to_lag = ['item_cnt_month', 'total_shop_cnt_month', 'total_item_cnt_month']"
   ]
  },
  {
   "cell_type": "code",
   "execution_count": 15,
   "metadata": {},
   "outputs": [],
   "source": [
    "to_previous_month_map = dict(zip(months[1:], months))\n",
    "obj_month_map = dict(zip(months, months[1:]+[pd.Period('2015-11')]))"
   ]
  },
  {
   "cell_type": "markdown",
   "metadata": {},
   "source": [
    "I will actually fit one model per shop, and then put together."
   ]
  },
  {
   "cell_type": "code",
   "execution_count": 16,
   "metadata": {},
   "outputs": [],
   "source": [
    "def get_single_shop_data(shopnum):\n",
    "    lag_month_map = dict(zip(months, months[1:]))\n",
    "    forward_month_map = dict(zip(months[1:], months))\n",
    "\n",
    "    def rename_col(col, s):\n",
    "        return f'{col}_lag_{s}'\n",
    "\n",
    "    single_shop = ext_agg_sales.loc[pd.IndexSlice[:,shopnum,:],:].reset_index(level=1, drop=True).reset_index()\n",
    "\n",
    "    shifted = [single_shop.copy().dropna().set_index(idx_cols)]\n",
    "    for shift in [1,2,3,4,5,8,11]:\n",
    "        single_shop_shift = single_shop.copy()\n",
    "        month = single_shop.Month\n",
    "        for s in range(1,shift+1):\n",
    "            month = month.map(lag_month_map)\n",
    "        single_shop_shift.Month = month\n",
    "        single_shop_shift.columns = [rename_col(col, shift) if col in cols_to_lag else col for col in single_shop_shift.columns ]\n",
    "        shifted.append(single_shop_shift.dropna().set_index(idx_cols))\n",
    "\n",
    "    all_data_single_shop = pd.concat(shifted, axis=1).fillna(0)\n",
    "    single_shop_target = single_shop.copy()\n",
    "    single_shop_target.Month = single_shop_target.Month.map(forward_month_map)\n",
    "    all_data_single_shop['target'] = single_shop_target.dropna().set_index(idx_cols).item_cnt_month\n",
    "    all_data_single_shop = all_data_single_shop.loc[months[12:]] # remove first 12 months with incomplete features\n",
    "    \n",
    "    return all_data_single_shop"
   ]
  },
  {
   "cell_type": "markdown",
   "metadata": {},
   "source": [
    "## Prediction"
   ]
  },
  {
   "cell_type": "code",
   "execution_count": 17,
   "metadata": {},
   "outputs": [],
   "source": [
    "def get_single_shop_predictions(mod, all_data_single_shop):\n",
    "    out_sample_preds = []\n",
    "    for (train_month_thresh, test_month) in zip(months[12:-1], months[13:]):\n",
    "        X_train, Y_train = (all_data_single_shop.loc[:train_month_thresh].drop('target', axis=1), all_data_single_shop.loc[:train_month_thresh, 'target'])\n",
    "        X_test, Y_test = (all_data_single_shop.loc[[test_month]].drop('target', axis=1), all_data_single_shop.loc[[test_month], 'target'])\n",
    "        if (len(X_test) == 0) or (len(X_train) == 0):\n",
    "            continue\n",
    "        fitted_model = mod.fit(X_train, Y_train.fillna(0))\n",
    "        ytest_pred = fitted_model.predict(X_test)\n",
    "        out_sample_preds.append(pd.Series(ytest_pred, index=X_test.index))\n",
    "        #print(f'Test month: {test_month}, Test R-squared is: {r2_score(Y_test, ytest_pred)}' )\n",
    "    if out_sample_preds:\n",
    "        return pd.concat(out_sample_preds)\n",
    "    else:\n",
    "        return None\n"
   ]
  },
  {
   "cell_type": "code",
   "execution_count": 18,
   "metadata": {},
   "outputs": [
    {
     "name": "stderr",
     "output_type": "stream",
     "text": [
      "C:\\Users\\luisr\\Anaconda3\\envs\\xgb\\lib\\site-packages\\sklearn\\linear_model\\_coordinate_descent.py:531: ConvergenceWarning: Objective did not converge. You might want to increase the number of iterations. Duality gap: 0.0, tolerance: 0.0\n",
      "  positive)\n",
      "C:\\Users\\luisr\\Anaconda3\\envs\\xgb\\lib\\site-packages\\sklearn\\linear_model\\_coordinate_descent.py:531: ConvergenceWarning: Objective did not converge. You might want to increase the number of iterations. Duality gap: 0.0, tolerance: 0.0\n",
      "  positive)\n",
      "C:\\Users\\luisr\\Anaconda3\\envs\\xgb\\lib\\site-packages\\sklearn\\linear_model\\_coordinate_descent.py:531: ConvergenceWarning: Objective did not converge. You might want to increase the number of iterations. Duality gap: 0.0, tolerance: 0.0\n",
      "  positive)\n",
      "C:\\Users\\luisr\\Anaconda3\\envs\\xgb\\lib\\site-packages\\sklearn\\linear_model\\_coordinate_descent.py:531: ConvergenceWarning: Objective did not converge. You might want to increase the number of iterations. Duality gap: 0.0, tolerance: 0.0\n",
      "  positive)\n",
      "C:\\Users\\luisr\\Anaconda3\\envs\\xgb\\lib\\site-packages\\sklearn\\linear_model\\_coordinate_descent.py:531: ConvergenceWarning: Objective did not converge. You might want to increase the number of iterations. Duality gap: 0.0, tolerance: 0.0\n",
      "  positive)\n",
      "C:\\Users\\luisr\\Anaconda3\\envs\\xgb\\lib\\site-packages\\sklearn\\linear_model\\_coordinate_descent.py:531: ConvergenceWarning: Objective did not converge. You might want to increase the number of iterations. Duality gap: 0.0, tolerance: 0.0\n",
      "  positive)\n",
      "C:\\Users\\luisr\\Anaconda3\\envs\\xgb\\lib\\site-packages\\sklearn\\linear_model\\_coordinate_descent.py:531: ConvergenceWarning: Objective did not converge. You might want to increase the number of iterations. Duality gap: 0.0, tolerance: 0.0\n",
      "  positive)\n",
      "C:\\Users\\luisr\\Anaconda3\\envs\\xgb\\lib\\site-packages\\sklearn\\linear_model\\_coordinate_descent.py:531: ConvergenceWarning: Objective did not converge. You might want to increase the number of iterations. Duality gap: 0.0, tolerance: 0.0\n",
      "  positive)\n",
      "C:\\Users\\luisr\\Anaconda3\\envs\\xgb\\lib\\site-packages\\sklearn\\linear_model\\_coordinate_descent.py:531: ConvergenceWarning: Objective did not converge. You might want to increase the number of iterations. Duality gap: 0.0, tolerance: 0.0\n",
      "  positive)\n",
      "C:\\Users\\luisr\\Anaconda3\\envs\\xgb\\lib\\site-packages\\sklearn\\linear_model\\_coordinate_descent.py:531: ConvergenceWarning: Objective did not converge. You might want to increase the number of iterations. Duality gap: 0.0, tolerance: 0.0\n",
      "  positive)\n",
      "C:\\Users\\luisr\\Anaconda3\\envs\\xgb\\lib\\site-packages\\sklearn\\linear_model\\_coordinate_descent.py:531: ConvergenceWarning: Objective did not converge. You might want to increase the number of iterations. Duality gap: 0.0, tolerance: 0.0\n",
      "  positive)\n",
      "C:\\Users\\luisr\\Anaconda3\\envs\\xgb\\lib\\site-packages\\sklearn\\linear_model\\_coordinate_descent.py:531: ConvergenceWarning: Objective did not converge. You might want to increase the number of iterations. Duality gap: 0.0, tolerance: 0.0\n",
      "  positive)\n",
      "C:\\Users\\luisr\\Anaconda3\\envs\\xgb\\lib\\site-packages\\sklearn\\linear_model\\_coordinate_descent.py:531: ConvergenceWarning: Objective did not converge. You might want to increase the number of iterations. Duality gap: 0.0, tolerance: 0.0\n",
      "  positive)\n",
      "C:\\Users\\luisr\\Anaconda3\\envs\\xgb\\lib\\site-packages\\sklearn\\linear_model\\_coordinate_descent.py:531: ConvergenceWarning: Objective did not converge. You might want to increase the number of iterations. Duality gap: 0.0, tolerance: 0.0\n",
      "  positive)\n",
      "C:\\Users\\luisr\\Anaconda3\\envs\\xgb\\lib\\site-packages\\sklearn\\linear_model\\_coordinate_descent.py:531: ConvergenceWarning: Objective did not converge. You might want to increase the number of iterations. Duality gap: 0.0, tolerance: 0.0\n",
      "  positive)\n",
      "C:\\Users\\luisr\\Anaconda3\\envs\\xgb\\lib\\site-packages\\sklearn\\linear_model\\_coordinate_descent.py:531: ConvergenceWarning: Objective did not converge. You might want to increase the number of iterations. Duality gap: 0.0, tolerance: 0.0\n",
      "  positive)\n",
      "C:\\Users\\luisr\\Anaconda3\\envs\\xgb\\lib\\site-packages\\sklearn\\linear_model\\_coordinate_descent.py:531: ConvergenceWarning: Objective did not converge. You might want to increase the number of iterations. Duality gap: 0.0, tolerance: 0.0\n",
      "  positive)\n",
      "C:\\Users\\luisr\\Anaconda3\\envs\\xgb\\lib\\site-packages\\sklearn\\linear_model\\_coordinate_descent.py:531: ConvergenceWarning: Objective did not converge. You might want to increase the number of iterations. Duality gap: 0.0, tolerance: 0.0\n",
      "  positive)\n",
      "C:\\Users\\luisr\\Anaconda3\\envs\\xgb\\lib\\site-packages\\sklearn\\linear_model\\_coordinate_descent.py:531: ConvergenceWarning: Objective did not converge. You might want to increase the number of iterations. Duality gap: 0.0, tolerance: 0.0\n",
      "  positive)\n",
      "C:\\Users\\luisr\\Anaconda3\\envs\\xgb\\lib\\site-packages\\sklearn\\linear_model\\_coordinate_descent.py:531: ConvergenceWarning: Objective did not converge. You might want to increase the number of iterations. Duality gap: 0.0, tolerance: 0.0\n",
      "  positive)\n",
      "C:\\Users\\luisr\\Anaconda3\\envs\\xgb\\lib\\site-packages\\sklearn\\linear_model\\_coordinate_descent.py:531: ConvergenceWarning: Objective did not converge. You might want to increase the number of iterations. Duality gap: 0.0, tolerance: 0.0\n",
      "  positive)\n",
      "C:\\Users\\luisr\\Anaconda3\\envs\\xgb\\lib\\site-packages\\sklearn\\linear_model\\_coordinate_descent.py:531: ConvergenceWarning: Objective did not converge. You might want to increase the number of iterations. Duality gap: 0.0, tolerance: 0.0\n",
      "  positive)\n",
      "C:\\Users\\luisr\\Anaconda3\\envs\\xgb\\lib\\site-packages\\sklearn\\linear_model\\_coordinate_descent.py:531: ConvergenceWarning: Objective did not converge. You might want to increase the number of iterations. Duality gap: 0.0, tolerance: 0.0\n",
      "  positive)\n",
      "C:\\Users\\luisr\\Anaconda3\\envs\\xgb\\lib\\site-packages\\sklearn\\linear_model\\_coordinate_descent.py:531: ConvergenceWarning: Objective did not converge. You might want to increase the number of iterations. Duality gap: 0.0, tolerance: 0.0\n",
      "  positive)\n",
      "C:\\Users\\luisr\\Anaconda3\\envs\\xgb\\lib\\site-packages\\sklearn\\linear_model\\_coordinate_descent.py:531: ConvergenceWarning: Objective did not converge. You might want to increase the number of iterations. Duality gap: 0.0, tolerance: 0.0\n",
      "  positive)\n",
      "C:\\Users\\luisr\\Anaconda3\\envs\\xgb\\lib\\site-packages\\sklearn\\linear_model\\_coordinate_descent.py:531: ConvergenceWarning: Objective did not converge. You might want to increase the number of iterations. Duality gap: 0.0, tolerance: 0.0\n",
      "  positive)\n"
     ]
    },
    {
     "name": "stdout",
     "output_type": "stream",
     "text": [
      "Wall time: 5min 27s\n"
     ]
    }
   ],
   "source": [
    "%%time\n",
    "# mod = LinearRegression()\n",
    "mod = ElasticNet(alpha=2, l1_ratio=0.25, max_iter=100000)\n",
    "shops_pred = {}\n",
    "for shop in shops:\n",
    "    start = time.time()\n",
    "    single_shop_data = get_single_shop_data(shop)\n",
    "    preds =  get_single_shop_predictions(mod, single_shop_data)\n",
    "    if preds is not None:\n",
    "        shops_pred[shop] = preds\n",
    "    # print(time.time()-start)\n",
    "    "
   ]
  },
  {
   "cell_type": "code",
   "execution_count": 19,
   "metadata": {},
   "outputs": [],
   "source": [
    "shops_pred_df = pd.concat(shops_pred, names=['shop_id']).swaplevel(0,1).rename('Pred1')"
   ]
  },
  {
   "cell_type": "code",
   "execution_count": 20,
   "metadata": {},
   "outputs": [
    {
     "data": {
      "text/plain": [
       "Month    shop_id  item_id\n",
       "2014-02  2        30         0.645554\n",
       "                  31         0.049581\n",
       "                  32         0.283372\n",
       "                  33         0.754955\n",
       "                  97         0.137998\n",
       "Name: Pred1, dtype: float64"
      ]
     },
     "execution_count": 20,
     "metadata": {},
     "output_type": "execute_result"
    }
   ],
   "source": [
    "shops_pred_df.head()"
   ]
  },
  {
   "cell_type": "markdown",
   "metadata": {},
   "source": [
    "## Conform to submission like df"
   ]
  },
  {
   "cell_type": "markdown",
   "metadata": {},
   "source": [
    "For the purposes of consistent validation, I conform the prediction above to the submission like df already created. That df is the one that mimics the test set better."
   ]
  },
  {
   "cell_type": "code",
   "execution_count": 21,
   "metadata": {},
   "outputs": [],
   "source": [
    "temp_sub = submission_like_df.item_cnt_month.reset_index()\n",
    "temp_sub.Month = temp_sub.Month.map(to_previous_month_map)\n",
    "temp_sub = temp_sub[temp_sub.Month >= min(shops_pred_df.index.levels[0])].set_index(['Month', 'shop_id', 'item_id'])"
   ]
  },
  {
   "cell_type": "code",
   "execution_count": 22,
   "metadata": {},
   "outputs": [],
   "source": [
    "model1_oos_predictions = shops_pred_df.reindex(temp_sub.index).fillna(0)"
   ]
  },
  {
   "cell_type": "code",
   "execution_count": 23,
   "metadata": {},
   "outputs": [
    {
     "data": {
      "text/plain": [
       "Month    shop_id  item_id\n",
       "2014-02  2        27         0.000000\n",
       "                  28         0.000000\n",
       "                  29         0.000000\n",
       "                  30         0.645554\n",
       "                  31         0.049581\n",
       "Name: Pred1, dtype: float64"
      ]
     },
     "execution_count": 23,
     "metadata": {},
     "output_type": "execute_result"
    }
   ],
   "source": [
    "model1_oos_predictions.head()"
   ]
  },
  {
   "cell_type": "markdown",
   "metadata": {},
   "source": [
    "Include final prediction"
   ]
  },
  {
   "cell_type": "code",
   "execution_count": 24,
   "metadata": {},
   "outputs": [],
   "source": [
    "final_pred = shops_pred_df.loc[months[-1]].reindex(test_set.set_index(['shop_id','item_id']).index).fillna(0)\n",
    "final_pred = pd.concat([final_pred], keys=[months[-1]], names=['Month'])"
   ]
  },
  {
   "cell_type": "markdown",
   "metadata": {},
   "source": [
    "Realign months so that it represents prediction month and not data month"
   ]
  },
  {
   "cell_type": "code",
   "execution_count": 25,
   "metadata": {},
   "outputs": [],
   "source": [
    "model1_oos_predictions = pd.concat([model1_oos_predictions, final_pred]).reset_index()\n",
    "model1_oos_predictions.Month = model1_oos_predictions.Month.map(obj_month_map)\n",
    "model1_oos_predictions = model1_oos_predictions.set_index(['Month', 'shop_id', 'item_id']).sort_index()"
   ]
  },
  {
   "cell_type": "code",
   "execution_count": 26,
   "metadata": {},
   "outputs": [
    {
     "data": {
      "text/html": [
       "<div>\n",
       "<style scoped>\n",
       "    .dataframe tbody tr th:only-of-type {\n",
       "        vertical-align: middle;\n",
       "    }\n",
       "\n",
       "    .dataframe tbody tr th {\n",
       "        vertical-align: top;\n",
       "    }\n",
       "\n",
       "    .dataframe thead th {\n",
       "        text-align: right;\n",
       "    }\n",
       "</style>\n",
       "<table border=\"1\" class=\"dataframe\">\n",
       "  <thead>\n",
       "    <tr style=\"text-align: right;\">\n",
       "      <th></th>\n",
       "      <th></th>\n",
       "      <th></th>\n",
       "      <th>Pred1</th>\n",
       "    </tr>\n",
       "    <tr>\n",
       "      <th>Month</th>\n",
       "      <th>shop_id</th>\n",
       "      <th>item_id</th>\n",
       "      <th></th>\n",
       "    </tr>\n",
       "  </thead>\n",
       "  <tbody>\n",
       "    <tr>\n",
       "      <th rowspan=\"5\" valign=\"top\">2014-03</th>\n",
       "      <th rowspan=\"5\" valign=\"top\">2</th>\n",
       "      <th>27</th>\n",
       "      <td>0.000000</td>\n",
       "    </tr>\n",
       "    <tr>\n",
       "      <th>28</th>\n",
       "      <td>0.000000</td>\n",
       "    </tr>\n",
       "    <tr>\n",
       "      <th>29</th>\n",
       "      <td>0.000000</td>\n",
       "    </tr>\n",
       "    <tr>\n",
       "      <th>30</th>\n",
       "      <td>0.645554</td>\n",
       "    </tr>\n",
       "    <tr>\n",
       "      <th>31</th>\n",
       "      <td>0.049581</td>\n",
       "    </tr>\n",
       "  </tbody>\n",
       "</table>\n",
       "</div>"
      ],
      "text/plain": [
       "                            Pred1\n",
       "Month   shop_id item_id          \n",
       "2014-03 2       27       0.000000\n",
       "                28       0.000000\n",
       "                29       0.000000\n",
       "                30       0.645554\n",
       "                31       0.049581"
      ]
     },
     "execution_count": 26,
     "metadata": {},
     "output_type": "execute_result"
    }
   ],
   "source": [
    "model1_oos_predictions.head()"
   ]
  },
  {
   "cell_type": "code",
   "execution_count": null,
   "metadata": {},
   "outputs": [],
   "source": [
    "model1_oos_predictions.to_pickle('EN_model_predictions.p')"
   ]
  },
  {
   "cell_type": "markdown",
   "metadata": {},
   "source": [
    "## Errors"
   ]
  },
  {
   "cell_type": "code",
   "execution_count": 28,
   "metadata": {},
   "outputs": [],
   "source": [
    "from sklearn.metrics import mean_squared_error"
   ]
  },
  {
   "cell_type": "code",
   "execution_count": 29,
   "metadata": {},
   "outputs": [],
   "source": [
    "def get_error(full_predictions_series, full_data):\n",
    "    rmse = {}\n",
    "    for month in sorted(full_predictions_series.index.levels[0])[:-1]:\n",
    "        ypred = full_predictions_series.loc[month].sort_index()\n",
    "        ytrue = full_data.loc[month].sort_index()\n",
    "        rmse[month] = np.sqrt(mean_squared_error(ytrue, ypred))\n",
    "    return pd.Series(rmse)"
   ]
  },
  {
   "cell_type": "code",
   "execution_count": 30,
   "metadata": {},
   "outputs": [
    {
     "data": {
      "text/plain": [
       "2014-03    2.024727\n",
       "2014-04    2.511645\n",
       "2014-05    1.656804\n",
       "2014-06    1.879623\n",
       "2014-07    1.228892\n",
       "2014-08    1.250089\n",
       "2014-09    3.013957\n",
       "2014-10    2.936116\n",
       "2014-11    3.222223\n",
       "2014-12    3.024958\n",
       "2015-01    3.083645\n",
       "2015-02    2.854308\n",
       "2015-03    2.153976\n",
       "2015-04    4.329503\n",
       "2015-05    3.250949\n",
       "2015-06    1.641582\n",
       "2015-07    1.072869\n",
       "2015-08    1.262157\n",
       "2015-09    6.448914\n",
       "2015-10    4.554570\n",
       "Freq: M, dtype: float64"
      ]
     },
     "execution_count": 30,
     "metadata": {},
     "output_type": "execute_result"
    }
   ],
   "source": [
    "get_error(model1_oos_predictions.Pred1, submission_like_df.item_cnt_month)"
   ]
  },
  {
   "cell_type": "code",
   "execution_count": 31,
   "metadata": {},
   "outputs": [
    {
     "data": {
      "text/plain": [
       "2014-03    3.035892\n",
       "2014-04    3.119146\n",
       "2014-05    2.407830\n",
       "2014-06    2.600050\n",
       "2014-07    2.266811\n",
       "2014-08    2.427879\n",
       "2014-09    3.692124\n",
       "2014-10    3.698570\n",
       "2014-11    4.064453\n",
       "2014-12    4.876658\n",
       "2015-01    4.155309\n",
       "2015-02    1.642374\n",
       "2015-03    1.597956\n",
       "2015-04    4.484014\n",
       "2015-05    3.677069\n",
       "2015-06    2.080702\n",
       "2015-07    1.900616\n",
       "2015-08    1.992029\n",
       "2015-09    6.712025\n",
       "2015-10    5.217821\n",
       "Freq: M, dtype: float64"
      ]
     },
     "execution_count": 31,
     "metadata": {},
     "output_type": "execute_result"
    }
   ],
   "source": [
    "get_error(model1_oos_predictions.Pred1.clip(0,20), submission_like_df.item_cnt_month)"
   ]
  },
  {
   "cell_type": "code",
   "execution_count": 103,
   "metadata": {},
   "outputs": [
    {
     "name": "stdout",
     "output_type": "stream",
     "text": [
      "ElasticNet\t LinearRegression\t agg_sales\t aggregate_monthly\t cat_annotated_agg_sales\t categories\t cols_to_lag\t create_submission_like_df\t deque\t \n",
      "ext_agg_sales\t final_pred\t get_error\t get_single_shop_data\t get_single_shop_predictions\t idx_cols\t items\t load_all\t load_sales\t \n",
      "mean_squared_error\t mod\t model1_oos_predictions\t months\t np\t obj_month_map\t os\t pd\t plt\t \n",
      "preds\t product\t r2_score\t sales\t seaborn\t shop\t shops\t shops_pred\t shops_pred_df\t \n",
      "single_shop_data\t start\t submission_like_df\t temp_sub\t test_set\t time\t to_previous_month_map\t \n"
     ]
    }
   ],
   "source": [
    "%who"
   ]
  },
  {
   "cell_type": "code",
   "execution_count": null,
   "metadata": {},
   "outputs": [],
   "source": [
    "del([ext_agg_sales, shops_pred, temp_sub, final_pred, preds, shops_pred_df, single_shop_data])\n",
    "gc.collect()"
   ]
  },
  {
   "cell_type": "code",
   "execution_count": 11,
   "metadata": {},
   "outputs": [],
   "source": [
    "model1_oos_predictions = pd.read_pickle('EN_model_predictions.p')"
   ]
  },
  {
   "cell_type": "markdown",
   "metadata": {},
   "source": [
    "<hr>\n",
    "<hr>\n",
    "<hr>"
   ]
  },
  {
   "cell_type": "markdown",
   "metadata": {},
   "source": [
    "# Built-out XGB Model"
   ]
  },
  {
   "cell_type": "markdown",
   "metadata": {},
   "source": [
    "## Feature Generation"
   ]
  },
  {
   "cell_type": "code",
   "execution_count": 12,
   "metadata": {},
   "outputs": [],
   "source": [
    "piv_agg_sales = agg_sales.item_cnt_month.unstack(level=0).fillna(0).sort_index()"
   ]
  },
  {
   "cell_type": "code",
   "execution_count": 13,
   "metadata": {},
   "outputs": [
    {
     "data": {
      "text/html": [
       "<div>\n",
       "<style scoped>\n",
       "    .dataframe tbody tr th:only-of-type {\n",
       "        vertical-align: middle;\n",
       "    }\n",
       "\n",
       "    .dataframe tbody tr th {\n",
       "        vertical-align: top;\n",
       "    }\n",
       "\n",
       "    .dataframe thead th {\n",
       "        text-align: right;\n",
       "    }\n",
       "</style>\n",
       "<table border=\"1\" class=\"dataframe\">\n",
       "  <thead>\n",
       "    <tr style=\"text-align: right;\">\n",
       "      <th></th>\n",
       "      <th>Month</th>\n",
       "      <th>2013-01</th>\n",
       "      <th>2013-02</th>\n",
       "      <th>2013-03</th>\n",
       "      <th>2013-04</th>\n",
       "      <th>2013-05</th>\n",
       "      <th>2013-06</th>\n",
       "      <th>2013-07</th>\n",
       "      <th>2013-08</th>\n",
       "      <th>2013-09</th>\n",
       "      <th>2013-10</th>\n",
       "      <th>...</th>\n",
       "      <th>2015-01</th>\n",
       "      <th>2015-02</th>\n",
       "      <th>2015-03</th>\n",
       "      <th>2015-04</th>\n",
       "      <th>2015-05</th>\n",
       "      <th>2015-06</th>\n",
       "      <th>2015-07</th>\n",
       "      <th>2015-08</th>\n",
       "      <th>2015-09</th>\n",
       "      <th>2015-10</th>\n",
       "    </tr>\n",
       "    <tr>\n",
       "      <th>shop_id</th>\n",
       "      <th>item_id</th>\n",
       "      <th></th>\n",
       "      <th></th>\n",
       "      <th></th>\n",
       "      <th></th>\n",
       "      <th></th>\n",
       "      <th></th>\n",
       "      <th></th>\n",
       "      <th></th>\n",
       "      <th></th>\n",
       "      <th></th>\n",
       "      <th></th>\n",
       "      <th></th>\n",
       "      <th></th>\n",
       "      <th></th>\n",
       "      <th></th>\n",
       "      <th></th>\n",
       "      <th></th>\n",
       "      <th></th>\n",
       "      <th></th>\n",
       "      <th></th>\n",
       "      <th></th>\n",
       "    </tr>\n",
       "  </thead>\n",
       "  <tbody>\n",
       "    <tr>\n",
       "      <th rowspan=\"5\" valign=\"top\">0</th>\n",
       "      <th>30</th>\n",
       "      <td>0.0</td>\n",
       "      <td>31.0</td>\n",
       "      <td>0.0</td>\n",
       "      <td>0.0</td>\n",
       "      <td>0.0</td>\n",
       "      <td>0.0</td>\n",
       "      <td>0.0</td>\n",
       "      <td>0.0</td>\n",
       "      <td>0.0</td>\n",
       "      <td>0.0</td>\n",
       "      <td>...</td>\n",
       "      <td>0.0</td>\n",
       "      <td>0.0</td>\n",
       "      <td>0.0</td>\n",
       "      <td>0.0</td>\n",
       "      <td>0.0</td>\n",
       "      <td>0.0</td>\n",
       "      <td>0.0</td>\n",
       "      <td>0.0</td>\n",
       "      <td>0.0</td>\n",
       "      <td>0.0</td>\n",
       "    </tr>\n",
       "    <tr>\n",
       "      <th>31</th>\n",
       "      <td>0.0</td>\n",
       "      <td>11.0</td>\n",
       "      <td>0.0</td>\n",
       "      <td>0.0</td>\n",
       "      <td>0.0</td>\n",
       "      <td>0.0</td>\n",
       "      <td>0.0</td>\n",
       "      <td>0.0</td>\n",
       "      <td>0.0</td>\n",
       "      <td>0.0</td>\n",
       "      <td>...</td>\n",
       "      <td>0.0</td>\n",
       "      <td>0.0</td>\n",
       "      <td>0.0</td>\n",
       "      <td>0.0</td>\n",
       "      <td>0.0</td>\n",
       "      <td>0.0</td>\n",
       "      <td>0.0</td>\n",
       "      <td>0.0</td>\n",
       "      <td>0.0</td>\n",
       "      <td>0.0</td>\n",
       "    </tr>\n",
       "    <tr>\n",
       "      <th>32</th>\n",
       "      <td>6.0</td>\n",
       "      <td>10.0</td>\n",
       "      <td>0.0</td>\n",
       "      <td>0.0</td>\n",
       "      <td>0.0</td>\n",
       "      <td>0.0</td>\n",
       "      <td>0.0</td>\n",
       "      <td>0.0</td>\n",
       "      <td>0.0</td>\n",
       "      <td>0.0</td>\n",
       "      <td>...</td>\n",
       "      <td>0.0</td>\n",
       "      <td>0.0</td>\n",
       "      <td>0.0</td>\n",
       "      <td>0.0</td>\n",
       "      <td>0.0</td>\n",
       "      <td>0.0</td>\n",
       "      <td>0.0</td>\n",
       "      <td>0.0</td>\n",
       "      <td>0.0</td>\n",
       "      <td>0.0</td>\n",
       "    </tr>\n",
       "    <tr>\n",
       "      <th>33</th>\n",
       "      <td>3.0</td>\n",
       "      <td>3.0</td>\n",
       "      <td>0.0</td>\n",
       "      <td>0.0</td>\n",
       "      <td>0.0</td>\n",
       "      <td>0.0</td>\n",
       "      <td>0.0</td>\n",
       "      <td>0.0</td>\n",
       "      <td>0.0</td>\n",
       "      <td>0.0</td>\n",
       "      <td>...</td>\n",
       "      <td>0.0</td>\n",
       "      <td>0.0</td>\n",
       "      <td>0.0</td>\n",
       "      <td>0.0</td>\n",
       "      <td>0.0</td>\n",
       "      <td>0.0</td>\n",
       "      <td>0.0</td>\n",
       "      <td>0.0</td>\n",
       "      <td>0.0</td>\n",
       "      <td>0.0</td>\n",
       "    </tr>\n",
       "    <tr>\n",
       "      <th>35</th>\n",
       "      <td>1.0</td>\n",
       "      <td>14.0</td>\n",
       "      <td>0.0</td>\n",
       "      <td>0.0</td>\n",
       "      <td>0.0</td>\n",
       "      <td>0.0</td>\n",
       "      <td>0.0</td>\n",
       "      <td>0.0</td>\n",
       "      <td>0.0</td>\n",
       "      <td>0.0</td>\n",
       "      <td>...</td>\n",
       "      <td>0.0</td>\n",
       "      <td>0.0</td>\n",
       "      <td>0.0</td>\n",
       "      <td>0.0</td>\n",
       "      <td>0.0</td>\n",
       "      <td>0.0</td>\n",
       "      <td>0.0</td>\n",
       "      <td>0.0</td>\n",
       "      <td>0.0</td>\n",
       "      <td>0.0</td>\n",
       "    </tr>\n",
       "  </tbody>\n",
       "</table>\n",
       "<p>5 rows × 34 columns</p>\n",
       "</div>"
      ],
      "text/plain": [
       "Month            2013-01  2013-02  2013-03  2013-04  2013-05  2013-06  \\\n",
       "shop_id item_id                                                         \n",
       "0       30           0.0     31.0      0.0      0.0      0.0      0.0   \n",
       "        31           0.0     11.0      0.0      0.0      0.0      0.0   \n",
       "        32           6.0     10.0      0.0      0.0      0.0      0.0   \n",
       "        33           3.0      3.0      0.0      0.0      0.0      0.0   \n",
       "        35           1.0     14.0      0.0      0.0      0.0      0.0   \n",
       "\n",
       "Month            2013-07  2013-08  2013-09  2013-10  ...  2015-01  2015-02  \\\n",
       "shop_id item_id                                      ...                     \n",
       "0       30           0.0      0.0      0.0      0.0  ...      0.0      0.0   \n",
       "        31           0.0      0.0      0.0      0.0  ...      0.0      0.0   \n",
       "        32           0.0      0.0      0.0      0.0  ...      0.0      0.0   \n",
       "        33           0.0      0.0      0.0      0.0  ...      0.0      0.0   \n",
       "        35           0.0      0.0      0.0      0.0  ...      0.0      0.0   \n",
       "\n",
       "Month            2015-03  2015-04  2015-05  2015-06  2015-07  2015-08  \\\n",
       "shop_id item_id                                                         \n",
       "0       30           0.0      0.0      0.0      0.0      0.0      0.0   \n",
       "        31           0.0      0.0      0.0      0.0      0.0      0.0   \n",
       "        32           0.0      0.0      0.0      0.0      0.0      0.0   \n",
       "        33           0.0      0.0      0.0      0.0      0.0      0.0   \n",
       "        35           0.0      0.0      0.0      0.0      0.0      0.0   \n",
       "\n",
       "Month            2015-09  2015-10  \n",
       "shop_id item_id                    \n",
       "0       30           0.0      0.0  \n",
       "        31           0.0      0.0  \n",
       "        32           0.0      0.0  \n",
       "        33           0.0      0.0  \n",
       "        35           0.0      0.0  \n",
       "\n",
       "[5 rows x 34 columns]"
      ]
     },
     "execution_count": 13,
     "metadata": {},
     "output_type": "execute_result"
    }
   ],
   "source": [
    "piv_agg_sales.head()"
   ]
  },
  {
   "cell_type": "markdown",
   "metadata": {},
   "source": [
    "Reduce data foot print"
   ]
  },
  {
   "cell_type": "code",
   "execution_count": 14,
   "metadata": {},
   "outputs": [],
   "source": [
    "piv_agg_sales = piv_agg_sales.astype(int)"
   ]
  },
  {
   "cell_type": "code",
   "execution_count": 15,
   "metadata": {},
   "outputs": [],
   "source": [
    "preprocessed_data = piv_agg_sales"
   ]
  },
  {
   "cell_type": "markdown",
   "metadata": {},
   "source": [
    "### Sales Moving Averages"
   ]
  },
  {
   "cell_type": "code",
   "execution_count": 16,
   "metadata": {},
   "outputs": [],
   "source": [
    "half_lifes = [1,2,3,6,9,12]"
   ]
  },
  {
   "cell_type": "code",
   "execution_count": 17,
   "metadata": {},
   "outputs": [
    {
     "name": "stdout",
     "output_type": "stream",
     "text": [
      "Wall time: 30.4 s\n"
     ]
    }
   ],
   "source": [
    "%%time\n",
    "sales_ewms_mean = {tau:preprocessed_data.ewm(halflife=tau, axis=1, min_periods=tau).mean().astype(np.float32) for tau in half_lifes}\n",
    "sales_ewms_std = {tau:preprocessed_data.ewm(halflife=tau, axis=1, min_periods=tau).std().astype(np.float32) for tau in half_lifes}"
   ]
  },
  {
   "cell_type": "code",
   "execution_count": 18,
   "metadata": {},
   "outputs": [
    {
     "name": "stdout",
     "output_type": "stream",
     "text": [
      "Wall time: 32 s\n"
     ]
    }
   ],
   "source": [
    "%%time\n",
    "prices = agg_sales.item_price.unstack(level=0).fillna(0)\n",
    "shop_monthly_income = (prices*preprocessed_data).groupby(level=0).transform('sum')\n",
    "item_monthly_income = (prices*preprocessed_data).groupby(level=1).transform('sum')\n",
    "items_income_ewms = {tau:item_monthly_income.ewm(halflife=tau, axis=1, min_periods=tau).mean().astype(np.float32) for tau in half_lifes}\n",
    "shops_income_ewms = {tau:shop_monthly_income.ewm(halflife=tau, axis=1, min_periods=tau).mean().astype(np.float32) for tau in half_lifes}\n",
    "\n",
    "del(prices, shop_monthly_income, item_monthly_income)"
   ]
  },
  {
   "cell_type": "markdown",
   "metadata": {},
   "source": [
    "### Rolling stats"
   ]
  },
  {
   "cell_type": "code",
   "execution_count": 19,
   "metadata": {},
   "outputs": [],
   "source": [
    "windows = [3,6,9,12]"
   ]
  },
  {
   "cell_type": "code",
   "execution_count": 20,
   "metadata": {},
   "outputs": [
    {
     "name": "stdout",
     "output_type": "stream",
     "text": [
      "Wall time: 2min 17s\n"
     ]
    }
   ],
   "source": [
    "%%time\n",
    "sales_rmin = {w:preprocessed_data.rolling(window=2, axis=1).min().astype(np.float32) for w in windows}\n",
    "sales_rmedian = {w:preprocessed_data.rolling(window=2, axis=1).median().astype(np.float32) for w in windows}\n",
    "sales_rmax = {w:preprocessed_data.rolling(window=2, axis=1).max().astype(np.float32) for w in windows}"
   ]
  },
  {
   "cell_type": "markdown",
   "metadata": {},
   "source": [
    "### Mean Encode Shops"
   ]
  },
  {
   "cell_type": "code",
   "execution_count": 21,
   "metadata": {},
   "outputs": [
    {
     "name": "stdout",
     "output_type": "stream",
     "text": [
      "Wall time: 43.6 s\n"
     ]
    }
   ],
   "source": [
    "%%time\n",
    "target_encode_shops_itemCounts = preprocessed_data.groupby(level=0).transform('sum')\n",
    "target_encode_shops_uniqueItems = preprocessed_data.groupby(level=0).transform(lambda x: (x>0).sum())\n",
    "target_encode_shops_soldAnything = target_encode_shops_uniqueItems.astype(bool).astype(int)\n",
    "\n",
    "targenc_shops_itemCounts_ewms = {tau:target_encode_shops_itemCounts.ewm(halflife=tau, axis=1, min_periods=tau).mean().astype(np.float32) for tau in half_lifes}\n",
    "targenc_shops_uniqueItems_ewms = {tau:target_encode_shops_uniqueItems.ewm(halflife=tau, axis=1, min_periods=tau).mean().astype(np.float32) for tau in half_lifes}\n",
    "target_encode_shops_soldAnything_ewms = {tau:target_encode_shops_soldAnything.ewm(halflife=tau, axis=1, min_periods=tau).mean().astype(np.float32) for tau in half_lifes}\n",
    "\n",
    "del(target_encode_shops_itemCounts, target_encode_shops_uniqueItems, target_encode_shops_soldAnything)"
   ]
  },
  {
   "cell_type": "markdown",
   "metadata": {},
   "source": [
    "### Encode Items"
   ]
  },
  {
   "cell_type": "markdown",
   "metadata": {},
   "source": [
    "First item map to category, and encode how many items in that category sold that month"
   ]
  },
  {
   "cell_type": "code",
   "execution_count": 22,
   "metadata": {},
   "outputs": [],
   "source": [
    "cat_sales = cat_annotated_agg_sales.groupby(['Month','item_category_id']).item_cnt_month.transform('sum')\n",
    "cat_sales = cat_sales.unstack(level=0).fillna(0)\n",
    "targenc_cat_sales = {tau:cat_sales.ewm(halflife=tau, axis=1, min_periods=tau).mean().astype(np.float32) for tau in half_lifes}"
   ]
  },
  {
   "cell_type": "code",
   "execution_count": 23,
   "metadata": {},
   "outputs": [],
   "source": [
    "did_item_sell_that_month = piv_agg_sales.groupby('item_id').transform('max').astype(bool).astype(int)\n",
    "sales_bool_rsum = {w:did_item_sell_that_month.rolling(window=w, axis=1).sum().astype(np.float32) for w in windows}"
   ]
  },
  {
   "cell_type": "code",
   "execution_count": 24,
   "metadata": {},
   "outputs": [],
   "source": [
    "target_encode_items_totalMonthCounts = preprocessed_data.groupby(level=1).transform('sum')\n",
    "targenc_items_totalMonthCounts_ewms = {tau:target_encode_items_totalMonthCounts.ewm(halflife=tau, axis=1, min_periods=tau).mean().astype(np.float32) for tau in half_lifes}"
   ]
  },
  {
   "cell_type": "code",
   "execution_count": 25,
   "metadata": {},
   "outputs": [],
   "source": [
    "del(cat_sales, did_item_sell_that_month, target_encode_items_totalMonthCounts)"
   ]
  },
  {
   "cell_type": "markdown",
   "metadata": {},
   "source": [
    "### Price related features"
   ]
  },
  {
   "cell_type": "code",
   "execution_count": 26,
   "metadata": {},
   "outputs": [],
   "source": [
    "endsIn9 = agg_sales.item_price.transform(lambda x: x%10 == 9).unstack(level=0).fillna(False).reindex(preprocessed_data.index)"
   ]
  },
  {
   "cell_type": "markdown",
   "metadata": {},
   "source": [
    "### Date Related features"
   ]
  },
  {
   "cell_type": "code",
   "execution_count": 27,
   "metadata": {},
   "outputs": [],
   "source": [
    "import calendar"
   ]
  },
  {
   "cell_type": "code",
   "execution_count": 28,
   "metadata": {},
   "outputs": [],
   "source": [
    "extended_months = months+[pd.Period('2015-11')]\n",
    "hols2013 = [8,2,2,0,7,3,1,2,2,1,2,3]\n",
    "hols2014 = [10,3,4,1,8,7,2,0,2,2,4,1]\n",
    "hols2015 = [11,3,3,1,5,3,2,0,3,1,1,2]\n",
    "holidadys = hols2013 + hols2014 + hols2015\n",
    "month_holidays = dict(zip(extended_months, holidadys))"
   ]
  },
  {
   "cell_type": "code",
   "execution_count": 29,
   "metadata": {},
   "outputs": [],
   "source": [
    "vals = {}\n",
    "for mon in extended_months:\n",
    "    cal = calendar.monthcalendar(mon.year, mon.month)\n",
    "    total_days = (np.array(cal).flatten() != 0).sum()\n",
    "    num_mondays = sum([1 for week in cal if week[0] != 0])\n",
    "    num_tuesdays = sum([1 for week in cal if week[1] != 0])\n",
    "    num_wednesdays = sum([1 for week in cal if week[2] != 0])\n",
    "    num_thursdays = sum([1 for week in cal if week[3] != 0])\n",
    "    num_fridays = sum([1 for week in cal if week[4] != 0])\n",
    "    num_saturdays = sum([1 for week in cal if week[5] != 0])\n",
    "    num_sundays = sum([1 for week in cal if week[6] != 0])\n",
    "    vals[mon] = pd.Series({'total_days': total_days, 'mondays':num_mondays, 'tuesdays':num_tuesdays, 'wednesdays':num_wednesdays, 'thursdays':num_thursdays, 'fridays':num_fridays, 'saturdays':num_saturdays, 'sundays':num_sundays})"
   ]
  },
  {
   "cell_type": "code",
   "execution_count": 30,
   "metadata": {},
   "outputs": [],
   "source": [
    "month_decomp = pd.concat([pd.concat(vals, axis=1).T, pd.Series(month_holidays, name='holidays')], axis=1)\n",
    "month_decomp['num_weekends'] = month_decomp[['saturdays', 'sundays']].sum(axis=1)\n",
    "month_decomp['num_weekdays'] = month_decomp.total_days - month_decomp.num_weekends"
   ]
  },
  {
   "cell_type": "code",
   "execution_count": 31,
   "metadata": {},
   "outputs": [],
   "source": [
    "month_decomp = month_decomp.astype(np.int32)"
   ]
  },
  {
   "cell_type": "code",
   "execution_count": 32,
   "metadata": {},
   "outputs": [
    {
     "data": {
      "text/html": [
       "<div>\n",
       "<style scoped>\n",
       "    .dataframe tbody tr th:only-of-type {\n",
       "        vertical-align: middle;\n",
       "    }\n",
       "\n",
       "    .dataframe tbody tr th {\n",
       "        vertical-align: top;\n",
       "    }\n",
       "\n",
       "    .dataframe thead th {\n",
       "        text-align: right;\n",
       "    }\n",
       "</style>\n",
       "<table border=\"1\" class=\"dataframe\">\n",
       "  <thead>\n",
       "    <tr style=\"text-align: right;\">\n",
       "      <th></th>\n",
       "      <th>total_days</th>\n",
       "      <th>mondays</th>\n",
       "      <th>tuesdays</th>\n",
       "      <th>wednesdays</th>\n",
       "      <th>thursdays</th>\n",
       "      <th>fridays</th>\n",
       "      <th>saturdays</th>\n",
       "      <th>sundays</th>\n",
       "      <th>holidays</th>\n",
       "      <th>num_weekends</th>\n",
       "      <th>num_weekdays</th>\n",
       "    </tr>\n",
       "  </thead>\n",
       "  <tbody>\n",
       "    <tr>\n",
       "      <th>2013-01</th>\n",
       "      <td>31</td>\n",
       "      <td>4</td>\n",
       "      <td>5</td>\n",
       "      <td>5</td>\n",
       "      <td>5</td>\n",
       "      <td>4</td>\n",
       "      <td>4</td>\n",
       "      <td>4</td>\n",
       "      <td>8</td>\n",
       "      <td>8</td>\n",
       "      <td>23</td>\n",
       "    </tr>\n",
       "    <tr>\n",
       "      <th>2013-02</th>\n",
       "      <td>28</td>\n",
       "      <td>4</td>\n",
       "      <td>4</td>\n",
       "      <td>4</td>\n",
       "      <td>4</td>\n",
       "      <td>4</td>\n",
       "      <td>4</td>\n",
       "      <td>4</td>\n",
       "      <td>2</td>\n",
       "      <td>8</td>\n",
       "      <td>20</td>\n",
       "    </tr>\n",
       "    <tr>\n",
       "      <th>2013-03</th>\n",
       "      <td>31</td>\n",
       "      <td>4</td>\n",
       "      <td>4</td>\n",
       "      <td>4</td>\n",
       "      <td>4</td>\n",
       "      <td>5</td>\n",
       "      <td>5</td>\n",
       "      <td>5</td>\n",
       "      <td>2</td>\n",
       "      <td>10</td>\n",
       "      <td>21</td>\n",
       "    </tr>\n",
       "    <tr>\n",
       "      <th>2013-04</th>\n",
       "      <td>30</td>\n",
       "      <td>5</td>\n",
       "      <td>5</td>\n",
       "      <td>4</td>\n",
       "      <td>4</td>\n",
       "      <td>4</td>\n",
       "      <td>4</td>\n",
       "      <td>4</td>\n",
       "      <td>0</td>\n",
       "      <td>8</td>\n",
       "      <td>22</td>\n",
       "    </tr>\n",
       "    <tr>\n",
       "      <th>2013-05</th>\n",
       "      <td>31</td>\n",
       "      <td>4</td>\n",
       "      <td>4</td>\n",
       "      <td>5</td>\n",
       "      <td>5</td>\n",
       "      <td>5</td>\n",
       "      <td>4</td>\n",
       "      <td>4</td>\n",
       "      <td>7</td>\n",
       "      <td>8</td>\n",
       "      <td>23</td>\n",
       "    </tr>\n",
       "  </tbody>\n",
       "</table>\n",
       "</div>"
      ],
      "text/plain": [
       "         total_days  mondays  tuesdays  wednesdays  thursdays  fridays  \\\n",
       "2013-01          31        4         5           5          5        4   \n",
       "2013-02          28        4         4           4          4        4   \n",
       "2013-03          31        4         4           4          4        5   \n",
       "2013-04          30        5         5           4          4        4   \n",
       "2013-05          31        4         4           5          5        5   \n",
       "\n",
       "         saturdays  sundays  holidays  num_weekends  num_weekdays  \n",
       "2013-01          4        4         8             8            23  \n",
       "2013-02          4        4         2             8            20  \n",
       "2013-03          5        5         2            10            21  \n",
       "2013-04          4        4         0             8            22  \n",
       "2013-05          4        4         7             8            23  "
      ]
     },
     "execution_count": 32,
     "metadata": {},
     "output_type": "execute_result"
    }
   ],
   "source": [
    "month_decomp.head()"
   ]
  },
  {
   "cell_type": "markdown",
   "metadata": {},
   "source": [
    "### Advanced Features - KMeans"
   ]
  },
  {
   "cell_type": "code",
   "execution_count": 33,
   "metadata": {},
   "outputs": [],
   "source": [
    "from sklearn.cluster import KMeans"
   ]
  },
  {
   "cell_type": "markdown",
   "metadata": {},
   "source": [
    "Note that I am using the entire data set to find the groups - this means that there is some future peaking. But I will use only causal data to obtain the features, so it shouldn't be too bad."
   ]
  },
  {
   "cell_type": "code",
   "execution_count": 34,
   "metadata": {},
   "outputs": [],
   "source": [
    "shop_cat = cat_annotated_agg_sales.reset_index().groupby(['shop_id', 'item_category_id']).item_cnt_month.sum().unstack(level=1).fillna(0)"
   ]
  },
  {
   "cell_type": "code",
   "execution_count": 35,
   "metadata": {},
   "outputs": [],
   "source": [
    "kmeans = KMeans(n_clusters=3).fit(shop_cat)"
   ]
  },
  {
   "cell_type": "code",
   "execution_count": 36,
   "metadata": {},
   "outputs": [
    {
     "data": {
      "text/plain": [
       "2    33\n",
       "0    22\n",
       "1     5\n",
       "dtype: int64"
      ]
     },
     "execution_count": 36,
     "metadata": {},
     "output_type": "execute_result"
    }
   ],
   "source": [
    "pd.Series(kmeans.labels_).value_counts()"
   ]
  },
  {
   "cell_type": "code",
   "execution_count": 37,
   "metadata": {},
   "outputs": [],
   "source": [
    "shop_id_map = dict(zip(shop_cat.index, kmeans.labels_))\n",
    "kmeans_idx = piv_agg_sales.index.get_level_values(0).map(shop_id_map)"
   ]
  },
  {
   "cell_type": "code",
   "execution_count": 38,
   "metadata": {},
   "outputs": [],
   "source": [
    "kgrouped = piv_agg_sales.groupby([kmeans_idx, piv_agg_sales.index.get_level_values(1)])\n",
    "kgrouped_means = kgrouped.transform('mean')\n",
    "kgrouped_stds = kgrouped.transform('std').fillna(0)\n",
    "kgrouped_meds = kgrouped.transform('median')"
   ]
  },
  {
   "cell_type": "code",
   "execution_count": 39,
   "metadata": {},
   "outputs": [],
   "source": [
    "kgrouped_means_ewms = {tau:kgrouped_means.ewm(halflife=tau, axis=1).mean().astype(np.float32) for tau in half_lifes}\n",
    "kgrouped_stds_ewms = {tau:kgrouped_stds.ewm(halflife=tau, axis=1).mean().astype(np.float32) for tau in half_lifes}\n",
    "kgrouped_meds_ewms = {tau:kgrouped_meds.ewm(halflife=tau, axis=1).mean().astype(np.float32) for tau in half_lifes}"
   ]
  },
  {
   "cell_type": "code",
   "execution_count": 40,
   "metadata": {},
   "outputs": [],
   "source": [
    "del(shop_cat, kgrouped, kgrouped_means, kgrouped_stds, kgrouped_meds)"
   ]
  },
  {
   "cell_type": "markdown",
   "metadata": {},
   "source": [
    "### Advanced Features - Shop-Category interaction"
   ]
  },
  {
   "cell_type": "markdown",
   "metadata": {},
   "source": [
    "Idea here is to create a feature that captures the interaction between shop and category, and then do a mean encoding. But I will do both in one step by simply grouping by shop $\\times$ category"
   ]
  },
  {
   "cell_type": "code",
   "execution_count": 41,
   "metadata": {},
   "outputs": [],
   "source": [
    "item_cat_map = items.set_index('item_id').item_category_id\n",
    "cat_idx = piv_agg_sales.index.get_level_values('item_id').map(item_cat_map)"
   ]
  },
  {
   "cell_type": "code",
   "execution_count": 42,
   "metadata": {},
   "outputs": [
    {
     "name": "stdout",
     "output_type": "stream",
     "text": [
      "Wall time: 1.84 s\n"
     ]
    }
   ],
   "source": [
    "%%time\n",
    "shop_cat_mean = piv_agg_sales.groupby([piv_agg_sales.index.get_level_values('shop_id'), cat_idx]).transform('mean')\n",
    "shop_cat_std = piv_agg_sales.groupby([piv_agg_sales.index.get_level_values('shop_id'), cat_idx]).transform('std').fillna(0)\n",
    "shop_cat_med = piv_agg_sales.groupby([piv_agg_sales.index.get_level_values('shop_id'), cat_idx]).transform('median')"
   ]
  },
  {
   "cell_type": "code",
   "execution_count": 43,
   "metadata": {},
   "outputs": [
    {
     "name": "stdout",
     "output_type": "stream",
     "text": [
      "Wall time: 40.6 s\n"
     ]
    }
   ],
   "source": [
    "%%time\n",
    "shopcat_means_ewms = {tau:shop_cat_mean.ewm(halflife=tau, axis=1).mean().astype(np.float32) for tau in half_lifes}\n",
    "shopcat_stds_ewms = {tau:shop_cat_std.ewm(halflife=tau, axis=1).mean().astype(np.float32) for tau in half_lifes}\n",
    "shopcat_meds_ewms = {tau:shop_cat_med.ewm(halflife=tau, axis=1).mean().astype(np.float32) for tau in half_lifes}"
   ]
  },
  {
   "cell_type": "code",
   "execution_count": 44,
   "metadata": {},
   "outputs": [],
   "source": [
    "del(shop_cat_mean, shop_cat_std, shop_cat_med)"
   ]
  },
  {
   "cell_type": "markdown",
   "metadata": {},
   "source": [
    "###  Advanced Features - Month-Category Interaction"
   ]
  },
  {
   "cell_type": "markdown",
   "metadata": {},
   "source": [
    "Similar to above, I create a feature capturing the interaction between item category and month. For each category and month combination I gather some statistics, based of target variable (sales). Then I create moving averages of these stats."
   ]
  },
  {
   "cell_type": "code",
   "execution_count": 45,
   "metadata": {},
   "outputs": [
    {
     "data": {
      "text/plain": [
       "Int64Index([40, 37, 40, 37, 40, 37, 57, 57, 40, 57,\n",
       "            ...\n",
       "            38, 37, 37, 40, 37, 37, 37, 40, 37, 49],\n",
       "           dtype='int64', name='item_id', length=424123)"
      ]
     },
     "execution_count": 45,
     "metadata": {},
     "output_type": "execute_result"
    }
   ],
   "source": [
    "cat_idx"
   ]
  },
  {
   "cell_type": "code",
   "execution_count": 46,
   "metadata": {},
   "outputs": [],
   "source": [
    "cat_month_sum = piv_agg_sales.groupby(cat_idx).transform('sum')\n",
    "cat_month_mean = piv_agg_sales.groupby(cat_idx).transform('mean')\n",
    "cat_month_std = piv_agg_sales.groupby(cat_idx).transform('std').fillna(0)"
   ]
  },
  {
   "cell_type": "code",
   "execution_count": 47,
   "metadata": {},
   "outputs": [
    {
     "name": "stdout",
     "output_type": "stream",
     "text": [
      "Wall time: 41.5 s\n"
     ]
    }
   ],
   "source": [
    "%%time\n",
    "catmonth_sum_ewms = {tau:cat_month_sum.ewm(halflife=tau, axis=1).mean().astype(np.float32) for tau in half_lifes}\n",
    "catmonth_mean_ewms = {tau:cat_month_mean.ewm(halflife=tau, axis=1).mean().astype(np.float32) for tau in half_lifes}\n",
    "catmonth_std_ewms = {tau:cat_month_std.ewm(halflife=tau, axis=1).mean().astype(np.float32) for tau in half_lifes}"
   ]
  },
  {
   "cell_type": "code",
   "execution_count": 48,
   "metadata": {},
   "outputs": [],
   "source": [
    "del(cat_idx, cat_month_sum, cat_month_mean,cat_month_std)"
   ]
  },
  {
   "cell_type": "markdown",
   "metadata": {},
   "source": [
    "### Model Stacking - use Out Sample Pred of Linear Model"
   ]
  },
  {
   "cell_type": "code",
   "execution_count": 49,
   "metadata": {},
   "outputs": [],
   "source": [
    "model1_oos_predictions = model1_oos_predictions.reset_index()"
   ]
  },
  {
   "cell_type": "code",
   "execution_count": 50,
   "metadata": {},
   "outputs": [],
   "source": [
    "model1_oos_predictions['Month'] = model1_oos_predictions['Month'].map(dict(zip(months[1:] + [pd.Period('2015-11')], months)))"
   ]
  },
  {
   "cell_type": "code",
   "execution_count": 51,
   "metadata": {},
   "outputs": [],
   "source": [
    "stacked_preds = model1_oos_predictions.set_index(['Month', 'shop_id', 'item_id']).Pred1.unstack(level=0).reindex(piv_agg_sales.index).fillna(0)"
   ]
  },
  {
   "cell_type": "markdown",
   "metadata": {},
   "source": [
    "### Creating Objective"
   ]
  },
  {
   "cell_type": "code",
   "execution_count": 52,
   "metadata": {},
   "outputs": [],
   "source": [
    "# Note that I use raw-data for objective \n",
    "objectives = piv_agg_sales.shift(-1, axis=1)"
   ]
  },
  {
   "cell_type": "markdown",
   "metadata": {},
   "source": [
    "### Putting Features together and adding date features"
   ]
  },
  {
   "cell_type": "code",
   "execution_count": 53,
   "metadata": {},
   "outputs": [],
   "source": [
    "sales_mean_features = {f'sales_ewms_mean_ewms{tau}': sales_ewms_mean[tau] for tau in half_lifes}\n",
    "sales_std_features = {f'sales_ewms_std_ewms{tau}': sales_ewms_std[tau] for tau in half_lifes}\n",
    "\n",
    "items_income_features = {f'items_income_ewms{tau}': items_income_ewms[tau] for tau in half_lifes}\n",
    "shops_income_features = {f'shops_income_ewms{tau}': shops_income_ewms[tau] for tau in half_lifes}\n",
    "\n",
    "sales_rmin_features = {f'sales_rmin{w}':sales_rmin[w] for w in windows}\n",
    "sales_rmedian_features = {f'sales_rmed{w}':sales_rmedian[w] for w in windows}\n",
    "sales_rmax_features = {f'sales_rmax{w}':sales_rmax[w] for w in windows}\n",
    "\n",
    "targenc_shops_itemCounts_feats = {f'targenc_shops_itmCnts_ewms{tau}':targenc_shops_itemCounts_ewms[tau] for tau in half_lifes}\n",
    "targenc_shops_uniqueItems_feats = {f'targenc_shops_uniqItms_ewms{tau}':targenc_shops_uniqueItems_ewms[tau] for tau in half_lifes}\n",
    "targenc_shops_soldAnything_ewms = {f'targenc_shops_soldAnything_ewms{tau}':target_encode_shops_soldAnything_ewms[tau] for tau in half_lifes}\n",
    "\n",
    "targenc_cat_sales_feats = {f'targenc_items_catMonthSales_ewms{tau}':targenc_cat_sales[tau] for tau in half_lifes}\n",
    "sales_bool_rsum_feats = {f'targenc_items_boolMonthSales_rsum{w}':sales_bool_rsum[w] for w in windows}\n",
    "targenc_items_totalMonthCounts_ewms_feats = {f'targenc_items_totalMnthCnt_ewms{tau}':targenc_items_totalMonthCounts_ewms[tau] for tau in half_lifes}\n",
    "\n",
    "kgrouped_means_feats = {f'kgrp_mean_ewms{tau}':kgrouped_means_ewms[tau] for tau in half_lifes}\n",
    "kgrouped_stds_feats = {f'kgrp_stds_ewms{tau}':kgrouped_stds_ewms[tau] for tau in half_lifes}\n",
    "kgrouped_meds_feats = {f'kgrp_meds_ewms{tau}':kgrouped_meds_ewms[tau] for tau in half_lifes}\n",
    "\n",
    "shopcat_means_feats = {f'shopcat_mean_ewms{tau}':shopcat_means_ewms[tau] for tau in half_lifes}\n",
    "shopcat_stds_feats = {f'shopcat_stds_ewms{tau}':shopcat_stds_ewms[tau] for tau in half_lifes}\n",
    "shopcat_meds_feats = {f'shopcat_meds_ewms{tau}':shopcat_meds_ewms[tau] for tau in half_lifes}\n",
    "\n",
    "catmonth_sum_feats = {f'catmonth_sum_ewms{tau}':catmonth_sum_ewms[tau] for tau in half_lifes}\n",
    "catmonth_mean_feats = {f'catmonth_mean_ewms{tau}':catmonth_mean_ewms[tau] for tau in half_lifes}\n",
    "catmonth_std_feats = {f'catmonth_std_ewms{tau}':catmonth_std_ewms[tau] for tau in half_lifes}\n",
    "\n",
    "features_dict = {**sales_mean_features, **sales_std_features,\n",
    "                 **items_income_features, **shops_income_features,\n",
    "                 **sales_rmin_features, **sales_rmedian_features, **sales_rmax_features,\n",
    "                 **targenc_shops_itemCounts_feats, **targenc_shops_uniqueItems_feats, **targenc_shops_soldAnything_ewms,\n",
    "                 **targenc_cat_sales_feats, **sales_bool_rsum_feats, **targenc_items_totalMonthCounts_ewms_feats,\n",
    "                 **kgrouped_means_feats, **kgrouped_stds_feats, **kgrouped_meds_feats,\n",
    "                 **shopcat_means_feats, **shopcat_stds_feats, **shopcat_meds_feats,\n",
    "                 **catmonth_sum_feats, **catmonth_mean_feats, **catmonth_std_feats,\n",
    "                }\n",
    "\n",
    "features_dict['PriceEndsIn9'] = endsIn9\n",
    "features_dict['STACKED_preds'] = stacked_preds"
   ]
  },
  {
   "cell_type": "markdown",
   "metadata": {},
   "source": [
    "Helper function to get features for a single month of data"
   ]
  },
  {
   "cell_type": "code",
   "execution_count": 54,
   "metadata": {},
   "outputs": [],
   "source": [
    "all_months = preprocessed_data.columns.tolist()\n",
    "obj_month_map = dict(zip(all_months[:-1], all_months[1:]))\n",
    "\n",
    "def get_single_month_XY(month_, drop_cols = None, num_lagged_values=0):\n",
    "    cols = [df[month_].rename(name) for (name, df) in features_dict.items()]\n",
    "    X = pd.concat(cols, axis=1)\n",
    "    Y = objectives[month_]\n",
    "    try:\n",
    "        submission_Y = submission_like_df.item_cnt_month.loc[obj_month_map[month_]]\n",
    "    except KeyError:\n",
    "        submission_Y = None\n",
    "    \n",
    "    if num_lagged_values > 0:\n",
    "        idx = np.argmax(preprocessed_data.columns == month_)\n",
    "        assert idx >= num_lagged_values, \"do not have enough columns for desired lags\"\n",
    "        lagged_vals = preprocessed_data.iloc[:,idx-num_lagged_values:idx]\n",
    "        lagged_vals.columns = [f'lag{lag}' for lag in list(range(1,num_lagged_values+1))[::-1]]\n",
    "        X = pd.concat([X,lagged_vals], axis=1)\n",
    "    \n",
    "    # might turn this into separate function to pass into here\n",
    "    X['month'] = month_.month\n",
    "    X['season'] = X.month.map({1:0, 2:0, 3:0, 4:1, 5:1, 6:1, 7:1, 8:2, 9:2, 10:2, 11:3, 12:3})\n",
    "    X['winter'] = X.month.map({**dict(zip([4,5,6,7,8,9,10], [False]*7)), **dict(zip([1,2,3,11,12], [True]*5))})\n",
    "    # add more date related features\n",
    "    current_vals = month_decomp.loc[month_].values\n",
    "    next_month_vals = month_decomp.shift(-1).loc[month_].astype(int).values\n",
    "    broadcast_mask = np.ones(X.shape[0], dtype=int)[:,None]\n",
    "    current_vals = pd.DataFrame(current_vals[None,:] * broadcast_mask, index=X.index, columns=month_decomp.columns)\n",
    "    next_month_vals = pd.DataFrame(next_month_vals[None,:] * broadcast_mask, index=X.index, columns=['nm_'+col for col in month_decomp.columns])\n",
    "    X = pd.concat([X, current_vals, next_month_vals], axis=1)\n",
    "    \n",
    "    \n",
    "    if drop_cols is not None:\n",
    "        X = X.drop(drop_cols, axis=1)\n",
    "    \n",
    "    X = pd.concat([X], keys=[month_], names=['Period'])\n",
    "    Y = pd.concat([Y], keys=[month_], names=['Period'])\n",
    "    if submission_Y is not None:\n",
    "        submission_Y = pd.concat([submission_Y], keys=[month_], names=['Period'])\n",
    "        \n",
    "    assert X.index.equals(Y.index)    \n",
    "    \n",
    "    return X,Y, submission_Y"
   ]
  },
  {
   "cell_type": "code",
   "execution_count": 55,
   "metadata": {},
   "outputs": [
    {
     "name": "stdout",
     "output_type": "stream",
     "text": [
      "Wall time: 1.58 s\n"
     ]
    }
   ],
   "source": [
    "%%time\n",
    "X,Y, _ = get_single_month_XY(all_months[-2])"
   ]
  },
  {
   "cell_type": "code",
   "execution_count": 56,
   "metadata": {},
   "outputs": [
    {
     "data": {
      "text/plain": [
       "(424123, 151)"
      ]
     },
     "execution_count": 56,
     "metadata": {},
     "output_type": "execute_result"
    }
   ],
   "source": [
    "X.shape"
   ]
  },
  {
   "cell_type": "code",
   "execution_count": 57,
   "metadata": {},
   "outputs": [
    {
     "name": "stdout",
     "output_type": "stream",
     "text": [
      "<class 'pandas.core.frame.DataFrame'>\n",
      "MultiIndex: 424123 entries, (Period('2015-09', 'M'), 0, 30) to (Period('2015-09', 'M'), 59, 22167)\n",
      "Columns: 151 entries, sales_ewms_mean_ewms1 to nm_num_weekdays\n",
      "dtypes: bool(2), float32(124), float64(1), int32(22), int64(2)\n",
      "memory usage: 248.5 MB\n"
     ]
    }
   ],
   "source": [
    "X.info()"
   ]
  },
  {
   "cell_type": "code",
   "execution_count": 58,
   "metadata": {},
   "outputs": [],
   "source": [
    "del([agg_sales, cal, calendar, cat_annotated_agg_sales])\n",
    "del([categories, extended_months, holidadys, hols2013, hols2014, hols2015, item_cat_map, items, mon, month_holidays])\n",
    "del([num_mondays, num_tuesdays, num_wednesdays, num_thursdays, num_fridays, num_saturdays, num_sundays])\n",
    "del([piv_agg_sales, preprocessed_data, sales])"
   ]
  },
  {
   "cell_type": "code",
   "execution_count": 59,
   "metadata": {},
   "outputs": [
    {
     "data": {
      "text/plain": [
       "0"
      ]
     },
     "execution_count": 59,
     "metadata": {},
     "output_type": "execute_result"
    }
   ],
   "source": [
    "gc.collect()"
   ]
  },
  {
   "cell_type": "markdown",
   "metadata": {},
   "source": [
    "## Train on Single Month data"
   ]
  },
  {
   "cell_type": "code",
   "execution_count": 60,
   "metadata": {},
   "outputs": [],
   "source": [
    "from sklearn.ensemble import RandomForestRegressor\n",
    "from sklearn.metrics import mean_squared_error\n",
    "from sklearn.linear_model import LinearRegression"
   ]
  },
  {
   "cell_type": "code",
   "execution_count": 61,
   "metadata": {},
   "outputs": [],
   "source": [
    "def fit_and_predict(model, x_train, y_train, x_val = None):\n",
    "    \n",
    "    start_time = time.time()\n",
    "    fitted_model = model.fit(x_train, y_train)\n",
    "    fit_time = time.time() - start_time\n",
    "    fitted_model.col_names = x_train.columns\n",
    "    \n",
    "    y_train_pred = fitted_model.predict(x_train)\n",
    "    \n",
    "    if x_val is not None:\n",
    "        y_val_pred = fitted_model.predict(x_val)\n",
    "    else:\n",
    "        y_val_pred = None\n",
    "        \n",
    "    return fitted_model, y_train_pred, y_val_pred, fit_time"
   ]
  },
  {
   "cell_type": "code",
   "execution_count": 62,
   "metadata": {},
   "outputs": [],
   "source": [
    "def plot_feature_importances(mod, figsize=None, top_n=None):\n",
    "    plt.figure(figsize=figsize)\n",
    "    importances = mod.feature_importances_\n",
    "    if type(importances) == pd.Series:\n",
    "        ser = importances.sort_values()\n",
    "    else:\n",
    "        ser = pd.Series(importances, index=mod.col_names).sort_values()\n",
    "    if top_n is not None:\n",
    "        ser = ser.iloc[-top_n:]\n",
    "    ser.plot(kind='barh')\n"
   ]
  },
  {
   "cell_type": "code",
   "execution_count": 63,
   "metadata": {},
   "outputs": [],
   "source": [
    "def conform_to_subY(x, y_pred, y_sub_ser, fill_value=0):\n",
    "    y_pred_ser = pd.Series(y_pred, index=x.index)\n",
    "    y_pred_ser = y_pred_ser.reindex(y_sub_ser.index).fillna(0)\n",
    "    return y_pred_ser\n",
    "    "
   ]
  },
  {
   "cell_type": "code",
   "execution_count": 65,
   "metadata": {},
   "outputs": [
    {
     "name": "stdout",
     "output_type": "stream",
     "text": [
      "Wall time: 1.45 s\n"
     ]
    }
   ],
   "source": [
    "%%time\n",
    "X_train, Y_train, Y_sub = get_single_month_XY(months[15])"
   ]
  },
  {
   "cell_type": "code",
   "execution_count": 66,
   "metadata": {},
   "outputs": [
    {
     "data": {
      "text/plain": [
       "(424123, 151)"
      ]
     },
     "execution_count": 66,
     "metadata": {},
     "output_type": "execute_result"
    }
   ],
   "source": [
    "X_train.shape"
   ]
  },
  {
   "cell_type": "markdown",
   "metadata": {},
   "source": [
    "Try simple random forrest"
   ]
  },
  {
   "cell_type": "code",
   "execution_count": 205,
   "metadata": {},
   "outputs": [],
   "source": [
    "mod = RandomForestRegressor(n_estimators=50, max_depth=5, n_jobs=-1)\n",
    "fitted, ytpred, yvpred, elapsed = fit_and_predict(mod, X_train,Y_train)"
   ]
  },
  {
   "cell_type": "code",
   "execution_count": 206,
   "metadata": {},
   "outputs": [
    {
     "data": {
      "text/plain": [
       "(131.8092565536499, 1.2557844203577944)"
      ]
     },
     "execution_count": 206,
     "metadata": {},
     "output_type": "execute_result"
    }
   ],
   "source": [
    "elapsed, np.sqrt(mean_squared_error(Y_train, ytpred))"
   ]
  },
  {
   "cell_type": "code",
   "execution_count": 234,
   "metadata": {},
   "outputs": [
    {
     "data": {
      "image/png": "[encoded data removed]",
      "text/plain": [
       "<Figure size 432x288 with 1 Axes>"
      ]
     },
     "metadata": {
      "needs_background": "light"
     },
     "output_type": "display_data"
    }
   ],
   "source": [
    "res = plot_feature_importances(fitted, top_n=20)"
   ]
  },
  {
   "cell_type": "code",
   "execution_count": 67,
   "metadata": {},
   "outputs": [],
   "source": [
    "import xgboost as xgb\n",
    "\n",
    "class xgb_model:\n",
    "    def __init__(self, num_boost_round, **params):\n",
    "        self.params = {\n",
    "            'max_depth':6,\n",
    "            'min_child_weight': 1,\n",
    "            'eta':.3,\n",
    "            'subsample': 0.8,\n",
    "            'colsample_bytree': 0.8,\n",
    "            'lambda':1,\n",
    "            'gamma':0.1,\n",
    "            'objective':'reg:squarederror',\n",
    "            # leave nthread default - detects all cores automatically\n",
    "        }\n",
    "        self.params.update(params)\n",
    "        self.fitted_model = None\n",
    "        self.num_boost_round = num_boost_round\n",
    "       \n",
    "    def fit(self, X, Y):\n",
    "        dm_train = xgb.DMatrix(X,Y)\n",
    "        self.fitted_model = xgb.train(self.params, dtrain=dm_train, num_boost_round=self.num_boost_round)\n",
    "        return self\n",
    "    \n",
    "    def predict(self, X):\n",
    "        assert self.fitted_model is not None, 'Must fit first'\n",
    "        dm = xgb.DMatrix(X)\n",
    "        return self.fitted_model.predict(dm)\n",
    "    \n",
    "    @property\n",
    "    def feature_importances_(self):\n",
    "        return pd.Series(self.fitted_model.get_score(importance_type='weight'))"
   ]
  },
  {
   "cell_type": "markdown",
   "metadata": {},
   "source": [
    "## Rolling Cross Validation"
   ]
  },
  {
   "cell_type": "code",
   "execution_count": 68,
   "metadata": {},
   "outputs": [],
   "source": [
    "class results:\n",
    "    def __init__(self, model, fitted_models, preSub_is_scores, preSub_oos_scores, is_scores, os_scores, times=None):\n",
    "        self.model = model\n",
    "        self.fitted_models = fitted_models\n",
    "        self.preSub_is_scores = preSub_is_scores\n",
    "        self.preSub_oos_scores = preSub_oos_scores\n",
    "        self.is_scores = is_scores\n",
    "        self.os_scores = os_scores\n",
    "        self.times = times\n",
    "        \n",
    "    @property\n",
    "    def keys(self):\n",
    "        return sorted(self.fitted_models.keys())\n",
    "        \n",
    "    @property\n",
    "    def scores(self):\n",
    "        return pd.concat([pd.Series(self.preSub_is_scores, name='PreInSampleRMSE'), pd.Series(self.is_scores, name='inSampleRMSE'), pd.Series(self.preSub_oos_scores, name='PreOutSampleRMSE'), pd.Series(self.os_scores, name='outSampleRMSE')], axis=1)\n",
    "        "
   ]
  },
  {
   "cell_type": "code",
   "execution_count": 69,
   "metadata": {},
   "outputs": [],
   "source": [
    "def rolling_cross_validation(model, data_months_list, post_process_preds = None, num_lagged_values=12, validate_months_num=None, num_stack_months=1, pred_fill_value=0, fit_final=False, drop_cols=None):\n",
    "    if post_process_preds is None:\n",
    "        post_process_preds = lambda x: x\n",
    "        \n",
    "    Xs_deque = deque()\n",
    "    Ys_deque = deque()\n",
    "    Ysubs_deque = deque()\n",
    "    \n",
    "    for month in data_months_list[:num_stack_months]:\n",
    "        X_, Y_, Ysub_= get_single_month_XY(month, drop_cols=drop_cols, num_lagged_values=num_lagged_values)\n",
    "        Xs_deque.append(X_)\n",
    "        Ys_deque.append(Y_)\n",
    "        Ysubs_deque.append(Ysub_)\n",
    "        \n",
    "           \n",
    "    max_validate_months = len(data_months_list) - num_stack_months - 1\n",
    "    if validate_months_num is None:\n",
    "        validate_months_num = max_validate_months\n",
    "    else:\n",
    "        validate_months_num = min(validate_months_num, max_validate_months)\n",
    "        \n",
    "    \n",
    "    fitted_models = {}\n",
    "    in_sample_scores = {}\n",
    "    oos_scores = {}\n",
    "    prepred_is_scores = {}\n",
    "    prepred_os_scores = {}\n",
    "    loop_times = []\n",
    "    \n",
    "    \n",
    "    for month in data_months_list[num_stack_months: num_stack_months + validate_months_num]:\n",
    "        print(f'Working on: {month}')\n",
    "        loop_start = time.time()\n",
    "        \n",
    "        X_train = pd.concat(Xs_deque)\n",
    "        Y_train = pd.concat(Ys_deque)\n",
    "        Y_sub_train = pd.concat(Ysubs_deque)\n",
    "        \n",
    "        X_val, Y_val, Y_sub_val = get_single_month_XY(month, drop_cols=drop_cols, num_lagged_values=num_lagged_values)\n",
    "        fitted, ytrain_pred, yval_pred, elapsed_time = fit_and_predict(model, X_train, Y_train, X_val)\n",
    "        fitted_models[month] = fitted\n",
    "        print(f'fit time: {elapsed_time}')\n",
    "        \n",
    "        prepred_is_scores[month] = np.sqrt(mean_squared_error(Y_train, ytrain_pred))\n",
    "        prepred_os_scores[month] = np.sqrt(mean_squared_error(Y_val, yval_pred))\n",
    "        \n",
    "        ytrain_pred = conform_to_subY(X_train, ytrain_pred, Y_sub_train, fill_value=pred_fill_value)\n",
    "        yval_pred = conform_to_subY(X_val, yval_pred, Y_sub_val, fill_value=pred_fill_value)\n",
    "        \n",
    "        ytrain_pred = post_process_preds(ytrain_pred)\n",
    "        yval_pred = post_process_preds(yval_pred)\n",
    "        \n",
    "        in_sample_scores[month] = np.sqrt(mean_squared_error(Y_sub_train, ytrain_pred))\n",
    "        oos_scores[month] = np.sqrt(mean_squared_error(Y_sub_val, yval_pred))\n",
    "        \n",
    "        Xs_deque.popleft()\n",
    "        Ys_deque.popleft()\n",
    "        Ysubs_deque.popleft()\n",
    "        \n",
    "        Xs_deque.append(X_val)\n",
    "        Ys_deque.append(Y_val)\n",
    "        Ysubs_deque.append(Y_sub_val)\n",
    "\n",
    "        \n",
    "        loop_end = time.time()\n",
    "        loop_times.append(loop_end - loop_start)\n",
    "        \n",
    "    \n",
    "    if fit_final:\n",
    "        X_train = pd.concat(Xs_deque)\n",
    "        Y_train = pd.concat(Ys_deque)\n",
    "        Y_sub_train = pd.concat(Ysubs_deque)\n",
    "        \n",
    "        fitted, ytrain_pred, yval_pred, elapsed_time = fit_and_predict(model, X_train, Y_train, X_val)\n",
    "        fitted_models['FINAL'] = fitted\n",
    "        prepred_is_scores['FINAL'] = np.sqrt(mean_squared_error(Y_train, ytrain_pred))\n",
    "        ytrain_pred = conform_to_subY(X_train, ytrain_pred, Y_sub_train, fill_value=pred_fill_value)\n",
    "        ytrain_pred = post_process_preds(ytrain_pred)\n",
    "        in_sample_scores['FINAL'] = np.sqrt(mean_squared_error(Y_sub_train, ytrain_pred))\n",
    "    \n",
    "    return results(model, fitted_models, prepred_is_scores, prepred_os_scores, in_sample_scores, oos_scores, loop_times)"
   ]
  },
  {
   "cell_type": "markdown",
   "metadata": {},
   "source": [
    "### XGB"
   ]
  },
  {
   "cell_type": "markdown",
   "metadata": {},
   "source": [
    "Tune num trees - v1"
   ]
  },
  {
   "cell_type": "code",
   "execution_count": 100,
   "metadata": {},
   "outputs": [
    {
     "name": "stdout",
     "output_type": "stream",
     "text": [
      "Working on: 2015-09\n",
      "fit time: 448.7321078777313\n"
     ]
    },
    {
     "data": {
      "text/html": [
       "<div>\n",
       "<style scoped>\n",
       "    .dataframe tbody tr th:only-of-type {\n",
       "        vertical-align: middle;\n",
       "    }\n",
       "\n",
       "    .dataframe tbody tr th {\n",
       "        vertical-align: top;\n",
       "    }\n",
       "\n",
       "    .dataframe thead th {\n",
       "        text-align: right;\n",
       "    }\n",
       "</style>\n",
       "<table border=\"1\" class=\"dataframe\">\n",
       "  <thead>\n",
       "    <tr style=\"text-align: right;\">\n",
       "      <th></th>\n",
       "      <th>PreInSampleRMSE</th>\n",
       "      <th>inSampleRMSE</th>\n",
       "      <th>PreOutSampleRMSE</th>\n",
       "      <th>outSampleRMSE</th>\n",
       "    </tr>\n",
       "  </thead>\n",
       "  <tbody>\n",
       "    <tr>\n",
       "      <th>2015-09</th>\n",
       "      <td>2.071636</td>\n",
       "      <td>2.577353</td>\n",
       "      <td>3.51808</td>\n",
       "      <td>4.621091</td>\n",
       "    </tr>\n",
       "  </tbody>\n",
       "</table>\n",
       "</div>"
      ],
      "text/plain": [
       "         PreInSampleRMSE  inSampleRMSE  PreOutSampleRMSE  outSampleRMSE\n",
       "2015-09         2.071636      2.577353           3.51808       4.621091"
      ]
     },
     "execution_count": 100,
     "metadata": {},
     "output_type": "execute_result"
    }
   ],
   "source": [
    "mod = xgb_model(num_boost_round=5, max_depth=5, eta=0.3, gpu_id=0, tree_method='gpu_hist')\n",
    "xgb1 = rolling_cross_validation(mod, months[19:], num_lagged_values=0, num_stack_months=13, fit_final=False)\n",
    "xgb1.scores"
   ]
  },
  {
   "cell_type": "code",
   "execution_count": 107,
   "metadata": {},
   "outputs": [
    {
     "name": "stdout",
     "output_type": "stream",
     "text": [
      "Working on: 2015-09\n",
      "fit time: 453.72365856170654\n"
     ]
    },
    {
     "data": {
      "text/html": [
       "<div>\n",
       "<style scoped>\n",
       "    .dataframe tbody tr th:only-of-type {\n",
       "        vertical-align: middle;\n",
       "    }\n",
       "\n",
       "    .dataframe tbody tr th {\n",
       "        vertical-align: top;\n",
       "    }\n",
       "\n",
       "    .dataframe thead th {\n",
       "        text-align: right;\n",
       "    }\n",
       "</style>\n",
       "<table border=\"1\" class=\"dataframe\">\n",
       "  <thead>\n",
       "    <tr style=\"text-align: right;\">\n",
       "      <th></th>\n",
       "      <th>PreInSampleRMSE</th>\n",
       "      <th>inSampleRMSE</th>\n",
       "      <th>PreOutSampleRMSE</th>\n",
       "      <th>outSampleRMSE</th>\n",
       "    </tr>\n",
       "  </thead>\n",
       "  <tbody>\n",
       "    <tr>\n",
       "      <th>2015-09</th>\n",
       "      <td>1.878408</td>\n",
       "      <td>2.336968</td>\n",
       "      <td>3.40445</td>\n",
       "      <td>4.488744</td>\n",
       "    </tr>\n",
       "  </tbody>\n",
       "</table>\n",
       "</div>"
      ],
      "text/plain": [
       "         PreInSampleRMSE  inSampleRMSE  PreOutSampleRMSE  outSampleRMSE\n",
       "2015-09         1.878408      2.336968           3.40445       4.488744"
      ]
     },
     "execution_count": 107,
     "metadata": {},
     "output_type": "execute_result"
    }
   ],
   "source": [
    "mod = xgb_model(num_boost_round=10, max_depth=5, eta=0.3, gpu_id=0, tree_method='gpu_hist')\n",
    "xgb2 = rolling_cross_validation(mod, months[19:], num_lagged_values=0, num_stack_months=13, fit_final=False)\n",
    "xgb2.scores"
   ]
  },
  {
   "cell_type": "code",
   "execution_count": 109,
   "metadata": {},
   "outputs": [
    {
     "name": "stdout",
     "output_type": "stream",
     "text": [
      "Working on: 2015-09\n",
      "fit time: 443.2325327396393\n"
     ]
    },
    {
     "data": {
      "text/html": [
       "<div>\n",
       "<style scoped>\n",
       "    .dataframe tbody tr th:only-of-type {\n",
       "        vertical-align: middle;\n",
       "    }\n",
       "\n",
       "    .dataframe tbody tr th {\n",
       "        vertical-align: top;\n",
       "    }\n",
       "\n",
       "    .dataframe thead th {\n",
       "        text-align: right;\n",
       "    }\n",
       "</style>\n",
       "<table border=\"1\" class=\"dataframe\">\n",
       "  <thead>\n",
       "    <tr style=\"text-align: right;\">\n",
       "      <th></th>\n",
       "      <th>PreInSampleRMSE</th>\n",
       "      <th>inSampleRMSE</th>\n",
       "      <th>PreOutSampleRMSE</th>\n",
       "      <th>outSampleRMSE</th>\n",
       "    </tr>\n",
       "  </thead>\n",
       "  <tbody>\n",
       "    <tr>\n",
       "      <th>2015-09</th>\n",
       "      <td>1.71654</td>\n",
       "      <td>2.135615</td>\n",
       "      <td>3.504612</td>\n",
       "      <td>4.598303</td>\n",
       "    </tr>\n",
       "  </tbody>\n",
       "</table>\n",
       "</div>"
      ],
      "text/plain": [
       "         PreInSampleRMSE  inSampleRMSE  PreOutSampleRMSE  outSampleRMSE\n",
       "2015-09          1.71654      2.135615          3.504612       4.598303"
      ]
     },
     "execution_count": 109,
     "metadata": {},
     "output_type": "execute_result"
    }
   ],
   "source": [
    "mod = xgb_model(num_boost_round=20, max_depth=5, eta=0.3, gpu_id=0, tree_method='gpu_hist')\n",
    "xgb3 = rolling_cross_validation(mod, months[19:], num_lagged_values=0, num_stack_months=13, fit_final=False)\n",
    "xgb3.scores"
   ]
  },
  {
   "cell_type": "markdown",
   "metadata": {},
   "source": [
    "This is a decrease in OutSample performance"
   ]
  },
  {
   "cell_type": "markdown",
   "metadata": {},
   "source": [
    "Tune max_depth"
   ]
  },
  {
   "cell_type": "code",
   "execution_count": 110,
   "metadata": {},
   "outputs": [
    {
     "name": "stdout",
     "output_type": "stream",
     "text": [
      "Working on: 2015-09\n",
      "fit time: 451.9696443080902\n"
     ]
    },
    {
     "data": {
      "text/html": [
       "<div>\n",
       "<style scoped>\n",
       "    .dataframe tbody tr th:only-of-type {\n",
       "        vertical-align: middle;\n",
       "    }\n",
       "\n",
       "    .dataframe tbody tr th {\n",
       "        vertical-align: top;\n",
       "    }\n",
       "\n",
       "    .dataframe thead th {\n",
       "        text-align: right;\n",
       "    }\n",
       "</style>\n",
       "<table border=\"1\" class=\"dataframe\">\n",
       "  <thead>\n",
       "    <tr style=\"text-align: right;\">\n",
       "      <th></th>\n",
       "      <th>PreInSampleRMSE</th>\n",
       "      <th>inSampleRMSE</th>\n",
       "      <th>PreOutSampleRMSE</th>\n",
       "      <th>outSampleRMSE</th>\n",
       "    </tr>\n",
       "  </thead>\n",
       "  <tbody>\n",
       "    <tr>\n",
       "      <th>2015-09</th>\n",
       "      <td>1.537542</td>\n",
       "      <td>1.903766</td>\n",
       "      <td>3.454867</td>\n",
       "      <td>4.465643</td>\n",
       "    </tr>\n",
       "  </tbody>\n",
       "</table>\n",
       "</div>"
      ],
      "text/plain": [
       "         PreInSampleRMSE  inSampleRMSE  PreOutSampleRMSE  outSampleRMSE\n",
       "2015-09         1.537542      1.903766          3.454867       4.465643"
      ]
     },
     "execution_count": 110,
     "metadata": {},
     "output_type": "execute_result"
    }
   ],
   "source": [
    "mod = xgb_model(num_boost_round=10, max_depth=10, eta=0.3, gpu_id=0, tree_method='gpu_hist')\n",
    "xgb4 = rolling_cross_validation(mod, months[19:], num_lagged_values=0, num_stack_months=13, fit_final=False)\n",
    "xgb4.scores"
   ]
  },
  {
   "cell_type": "code",
   "execution_count": 111,
   "metadata": {},
   "outputs": [
    {
     "name": "stdout",
     "output_type": "stream",
     "text": [
      "Working on: 2015-09\n",
      "fit time: 467.3969130516052\n"
     ]
    },
    {
     "data": {
      "text/html": [
       "<div>\n",
       "<style scoped>\n",
       "    .dataframe tbody tr th:only-of-type {\n",
       "        vertical-align: middle;\n",
       "    }\n",
       "\n",
       "    .dataframe tbody tr th {\n",
       "        vertical-align: top;\n",
       "    }\n",
       "\n",
       "    .dataframe thead th {\n",
       "        text-align: right;\n",
       "    }\n",
       "</style>\n",
       "<table border=\"1\" class=\"dataframe\">\n",
       "  <thead>\n",
       "    <tr style=\"text-align: right;\">\n",
       "      <th></th>\n",
       "      <th>PreInSampleRMSE</th>\n",
       "      <th>inSampleRMSE</th>\n",
       "      <th>PreOutSampleRMSE</th>\n",
       "      <th>outSampleRMSE</th>\n",
       "    </tr>\n",
       "  </thead>\n",
       "  <tbody>\n",
       "    <tr>\n",
       "      <th>2015-09</th>\n",
       "      <td>1.452223</td>\n",
       "      <td>1.778487</td>\n",
       "      <td>3.374519</td>\n",
       "      <td>4.414141</td>\n",
       "    </tr>\n",
       "  </tbody>\n",
       "</table>\n",
       "</div>"
      ],
      "text/plain": [
       "         PreInSampleRMSE  inSampleRMSE  PreOutSampleRMSE  outSampleRMSE\n",
       "2015-09         1.452223      1.778487          3.374519       4.414141"
      ]
     },
     "execution_count": 111,
     "metadata": {},
     "output_type": "execute_result"
    }
   ],
   "source": [
    "mod = xgb_model(num_boost_round=10, max_depth=15, eta=0.3, gpu_id=0, tree_method='gpu_hist')\n",
    "xgb5 = rolling_cross_validation(mod, months[19:], num_lagged_values=0, num_stack_months=13, fit_final=False)\n",
    "xgb5.scores"
   ]
  },
  {
   "cell_type": "code",
   "execution_count": 112,
   "metadata": {},
   "outputs": [
    {
     "name": "stdout",
     "output_type": "stream",
     "text": [
      "Working on: 2015-09\n",
      "fit time: 471.0745520591736\n"
     ]
    },
    {
     "data": {
      "text/html": [
       "<div>\n",
       "<style scoped>\n",
       "    .dataframe tbody tr th:only-of-type {\n",
       "        vertical-align: middle;\n",
       "    }\n",
       "\n",
       "    .dataframe tbody tr th {\n",
       "        vertical-align: top;\n",
       "    }\n",
       "\n",
       "    .dataframe thead th {\n",
       "        text-align: right;\n",
       "    }\n",
       "</style>\n",
       "<table border=\"1\" class=\"dataframe\">\n",
       "  <thead>\n",
       "    <tr style=\"text-align: right;\">\n",
       "      <th></th>\n",
       "      <th>PreInSampleRMSE</th>\n",
       "      <th>inSampleRMSE</th>\n",
       "      <th>PreOutSampleRMSE</th>\n",
       "      <th>outSampleRMSE</th>\n",
       "    </tr>\n",
       "  </thead>\n",
       "  <tbody>\n",
       "    <tr>\n",
       "      <th>2015-09</th>\n",
       "      <td>1.399112</td>\n",
       "      <td>1.702981</td>\n",
       "      <td>3.375141</td>\n",
       "      <td>4.392479</td>\n",
       "    </tr>\n",
       "  </tbody>\n",
       "</table>\n",
       "</div>"
      ],
      "text/plain": [
       "         PreInSampleRMSE  inSampleRMSE  PreOutSampleRMSE  outSampleRMSE\n",
       "2015-09         1.399112      1.702981          3.375141       4.392479"
      ]
     },
     "execution_count": 112,
     "metadata": {},
     "output_type": "execute_result"
    }
   ],
   "source": [
    "mod = xgb_model(num_boost_round=10, max_depth=20, eta=0.3, gpu_id=0, tree_method='gpu_hist')\n",
    "xgb6 = rolling_cross_validation(mod, months[19:], num_lagged_values=0, num_stack_months=13, fit_final=False)\n",
    "xgb6.scores"
   ]
  },
  {
   "cell_type": "code",
   "execution_count": 113,
   "metadata": {},
   "outputs": [
    {
     "name": "stdout",
     "output_type": "stream",
     "text": [
      "Working on: 2015-09\n",
      "fit time: 597.5037202835083\n"
     ]
    },
    {
     "data": {
      "text/html": [
       "<div>\n",
       "<style scoped>\n",
       "    .dataframe tbody tr th:only-of-type {\n",
       "        vertical-align: middle;\n",
       "    }\n",
       "\n",
       "    .dataframe tbody tr th {\n",
       "        vertical-align: top;\n",
       "    }\n",
       "\n",
       "    .dataframe thead th {\n",
       "        text-align: right;\n",
       "    }\n",
       "</style>\n",
       "<table border=\"1\" class=\"dataframe\">\n",
       "  <thead>\n",
       "    <tr style=\"text-align: right;\">\n",
       "      <th></th>\n",
       "      <th>PreInSampleRMSE</th>\n",
       "      <th>inSampleRMSE</th>\n",
       "      <th>PreOutSampleRMSE</th>\n",
       "      <th>outSampleRMSE</th>\n",
       "    </tr>\n",
       "  </thead>\n",
       "  <tbody>\n",
       "    <tr>\n",
       "      <th>2015-09</th>\n",
       "      <td>1.374042</td>\n",
       "      <td>1.674943</td>\n",
       "      <td>3.443991</td>\n",
       "      <td>4.545496</td>\n",
       "    </tr>\n",
       "  </tbody>\n",
       "</table>\n",
       "</div>"
      ],
      "text/plain": [
       "         PreInSampleRMSE  inSampleRMSE  PreOutSampleRMSE  outSampleRMSE\n",
       "2015-09         1.374042      1.674943          3.443991       4.545496"
      ]
     },
     "execution_count": 113,
     "metadata": {},
     "output_type": "execute_result"
    }
   ],
   "source": [
    "mod = xgb_model(num_boost_round=10, max_depth=25, eta=0.3, gpu_id=0, tree_method='gpu_hist')\n",
    "xgb7 = rolling_cross_validation(mod, months[19:], num_lagged_values=0, num_stack_months=13, fit_final=False)\n",
    "xgb7.scores"
   ]
  },
  {
   "cell_type": "markdown",
   "metadata": {},
   "source": [
    "Tune min_child_weight"
   ]
  },
  {
   "cell_type": "code",
   "execution_count": 69,
   "metadata": {},
   "outputs": [
    {
     "name": "stdout",
     "output_type": "stream",
     "text": [
      "Working on: 2015-09\n",
      "fit time: 415.39419531822205\n"
     ]
    },
    {
     "data": {
      "text/html": [
       "<div>\n",
       "<style scoped>\n",
       "    .dataframe tbody tr th:only-of-type {\n",
       "        vertical-align: middle;\n",
       "    }\n",
       "\n",
       "    .dataframe tbody tr th {\n",
       "        vertical-align: top;\n",
       "    }\n",
       "\n",
       "    .dataframe thead th {\n",
       "        text-align: right;\n",
       "    }\n",
       "</style>\n",
       "<table border=\"1\" class=\"dataframe\">\n",
       "  <thead>\n",
       "    <tr style=\"text-align: right;\">\n",
       "      <th></th>\n",
       "      <th>PreInSampleRMSE</th>\n",
       "      <th>inSampleRMSE</th>\n",
       "      <th>PreOutSampleRMSE</th>\n",
       "      <th>outSampleRMSE</th>\n",
       "    </tr>\n",
       "  </thead>\n",
       "  <tbody>\n",
       "    <tr>\n",
       "      <th>2015-09</th>\n",
       "      <td>1.555581</td>\n",
       "      <td>1.905125</td>\n",
       "      <td>3.256072</td>\n",
       "      <td>4.314246</td>\n",
       "    </tr>\n",
       "  </tbody>\n",
       "</table>\n",
       "</div>"
      ],
      "text/plain": [
       "         PreInSampleRMSE  inSampleRMSE  PreOutSampleRMSE  outSampleRMSE\n",
       "2015-09         1.555581      1.905125          3.256072       4.314246"
      ]
     },
     "execution_count": 69,
     "metadata": {},
     "output_type": "execute_result"
    }
   ],
   "source": [
    "mod = xgb_model(num_boost_round=10, max_depth=15, eta=0.3, gpu_id=0, tree_method='gpu_hist', min_child_weight=3)\n",
    "xgb8 = rolling_cross_validation(mod, months[19:], num_lagged_values=0, num_stack_months=13, fit_final=False)\n",
    "xgb8.scores"
   ]
  },
  {
   "cell_type": "code",
   "execution_count": 71,
   "metadata": {},
   "outputs": [
    {
     "name": "stdout",
     "output_type": "stream",
     "text": [
      "Working on: 2015-09\n",
      "fit time: 409.84160470962524\n"
     ]
    },
    {
     "data": {
      "text/html": [
       "<div>\n",
       "<style scoped>\n",
       "    .dataframe tbody tr th:only-of-type {\n",
       "        vertical-align: middle;\n",
       "    }\n",
       "\n",
       "    .dataframe tbody tr th {\n",
       "        vertical-align: top;\n",
       "    }\n",
       "\n",
       "    .dataframe thead th {\n",
       "        text-align: right;\n",
       "    }\n",
       "</style>\n",
       "<table border=\"1\" class=\"dataframe\">\n",
       "  <thead>\n",
       "    <tr style=\"text-align: right;\">\n",
       "      <th></th>\n",
       "      <th>PreInSampleRMSE</th>\n",
       "      <th>inSampleRMSE</th>\n",
       "      <th>PreOutSampleRMSE</th>\n",
       "      <th>outSampleRMSE</th>\n",
       "    </tr>\n",
       "  </thead>\n",
       "  <tbody>\n",
       "    <tr>\n",
       "      <th>2015-09</th>\n",
       "      <td>1.616427</td>\n",
       "      <td>1.981819</td>\n",
       "      <td>3.301576</td>\n",
       "      <td>4.252826</td>\n",
       "    </tr>\n",
       "  </tbody>\n",
       "</table>\n",
       "</div>"
      ],
      "text/plain": [
       "         PreInSampleRMSE  inSampleRMSE  PreOutSampleRMSE  outSampleRMSE\n",
       "2015-09         1.616427      1.981819          3.301576       4.252826"
      ]
     },
     "execution_count": 71,
     "metadata": {},
     "output_type": "execute_result"
    }
   ],
   "source": [
    "mod = xgb_model(num_boost_round=10, max_depth=15, eta=0.3, gpu_id=0, tree_method='gpu_hist', min_child_weight=4)\n",
    "xgb9 = rolling_cross_validation(mod, months[19:], num_lagged_values=0, num_stack_months=13, fit_final=False)\n",
    "xgb9.scores"
   ]
  },
  {
   "cell_type": "code",
   "execution_count": 69,
   "metadata": {},
   "outputs": [
    {
     "name": "stdout",
     "output_type": "stream",
     "text": [
      "Working on: 2015-09\n",
      "fit time: 380.04951190948486\n"
     ]
    },
    {
     "data": {
      "text/html": [
       "<div>\n",
       "<style scoped>\n",
       "    .dataframe tbody tr th:only-of-type {\n",
       "        vertical-align: middle;\n",
       "    }\n",
       "\n",
       "    .dataframe tbody tr th {\n",
       "        vertical-align: top;\n",
       "    }\n",
       "\n",
       "    .dataframe thead th {\n",
       "        text-align: right;\n",
       "    }\n",
       "</style>\n",
       "<table border=\"1\" class=\"dataframe\">\n",
       "  <thead>\n",
       "    <tr style=\"text-align: right;\">\n",
       "      <th></th>\n",
       "      <th>PreInSampleRMSE</th>\n",
       "      <th>inSampleRMSE</th>\n",
       "      <th>PreOutSampleRMSE</th>\n",
       "      <th>outSampleRMSE</th>\n",
       "    </tr>\n",
       "  </thead>\n",
       "  <tbody>\n",
       "    <tr>\n",
       "      <th>2015-09</th>\n",
       "      <td>1.49811</td>\n",
       "      <td>1.832468</td>\n",
       "      <td>3.347331</td>\n",
       "      <td>4.310683</td>\n",
       "    </tr>\n",
       "  </tbody>\n",
       "</table>\n",
       "</div>"
      ],
      "text/plain": [
       "         PreInSampleRMSE  inSampleRMSE  PreOutSampleRMSE  outSampleRMSE\n",
       "2015-09          1.49811      1.832468          3.347331       4.310683"
      ]
     },
     "execution_count": 69,
     "metadata": {},
     "output_type": "execute_result"
    }
   ],
   "source": [
    "mod = xgb_model(num_boost_round=10, max_depth=15, eta=0.3, gpu_id=0, tree_method='gpu_hist', min_child_weight=2)\n",
    "xgb10 = rolling_cross_validation(mod, months[19:], num_lagged_values=0, num_stack_months=13, fit_final=False)\n",
    "xgb10.scores"
   ]
  },
  {
   "cell_type": "markdown",
   "metadata": {},
   "source": [
    "Tune gamma - v1"
   ]
  },
  {
   "cell_type": "code",
   "execution_count": 70,
   "metadata": {},
   "outputs": [
    {
     "name": "stdout",
     "output_type": "stream",
     "text": [
      "Working on: 2015-09\n",
      "fit time: 401.9728960990906\n"
     ]
    },
    {
     "data": {
      "text/html": [
       "<div>\n",
       "<style scoped>\n",
       "    .dataframe tbody tr th:only-of-type {\n",
       "        vertical-align: middle;\n",
       "    }\n",
       "\n",
       "    .dataframe tbody tr th {\n",
       "        vertical-align: top;\n",
       "    }\n",
       "\n",
       "    .dataframe thead th {\n",
       "        text-align: right;\n",
       "    }\n",
       "</style>\n",
       "<table border=\"1\" class=\"dataframe\">\n",
       "  <thead>\n",
       "    <tr style=\"text-align: right;\">\n",
       "      <th></th>\n",
       "      <th>PreInSampleRMSE</th>\n",
       "      <th>inSampleRMSE</th>\n",
       "      <th>PreOutSampleRMSE</th>\n",
       "      <th>outSampleRMSE</th>\n",
       "    </tr>\n",
       "  </thead>\n",
       "  <tbody>\n",
       "    <tr>\n",
       "      <th>2015-09</th>\n",
       "      <td>1.558374</td>\n",
       "      <td>1.910212</td>\n",
       "      <td>3.224336</td>\n",
       "      <td>4.20106</td>\n",
       "    </tr>\n",
       "  </tbody>\n",
       "</table>\n",
       "</div>"
      ],
      "text/plain": [
       "         PreInSampleRMSE  inSampleRMSE  PreOutSampleRMSE  outSampleRMSE\n",
       "2015-09         1.558374      1.910212          3.224336        4.20106"
      ]
     },
     "execution_count": 70,
     "metadata": {},
     "output_type": "execute_result"
    }
   ],
   "source": [
    "mod = xgb_model(num_boost_round=10, max_depth=15, eta=0.3, gpu_id=0, tree_method='gpu_hist', min_child_weight=3, gamma=0.1)\n",
    "xgb11 = rolling_cross_validation(mod, months[19:], num_lagged_values=0, num_stack_months=13, fit_final=False)\n",
    "xgb11.scores"
   ]
  },
  {
   "cell_type": "code",
   "execution_count": 71,
   "metadata": {},
   "outputs": [
    {
     "name": "stdout",
     "output_type": "stream",
     "text": [
      "Working on: 2015-09\n",
      "fit time: 381.93823504447937\n"
     ]
    },
    {
     "data": {
      "text/html": [
       "<div>\n",
       "<style scoped>\n",
       "    .dataframe tbody tr th:only-of-type {\n",
       "        vertical-align: middle;\n",
       "    }\n",
       "\n",
       "    .dataframe tbody tr th {\n",
       "        vertical-align: top;\n",
       "    }\n",
       "\n",
       "    .dataframe thead th {\n",
       "        text-align: right;\n",
       "    }\n",
       "</style>\n",
       "<table border=\"1\" class=\"dataframe\">\n",
       "  <thead>\n",
       "    <tr style=\"text-align: right;\">\n",
       "      <th></th>\n",
       "      <th>PreInSampleRMSE</th>\n",
       "      <th>inSampleRMSE</th>\n",
       "      <th>PreOutSampleRMSE</th>\n",
       "      <th>outSampleRMSE</th>\n",
       "    </tr>\n",
       "  </thead>\n",
       "  <tbody>\n",
       "    <tr>\n",
       "      <th>2015-09</th>\n",
       "      <td>1.563509</td>\n",
       "      <td>1.913821</td>\n",
       "      <td>3.408209</td>\n",
       "      <td>4.520965</td>\n",
       "    </tr>\n",
       "  </tbody>\n",
       "</table>\n",
       "</div>"
      ],
      "text/plain": [
       "         PreInSampleRMSE  inSampleRMSE  PreOutSampleRMSE  outSampleRMSE\n",
       "2015-09         1.563509      1.913821          3.408209       4.520965"
      ]
     },
     "execution_count": 71,
     "metadata": {},
     "output_type": "execute_result"
    }
   ],
   "source": [
    "mod = xgb_model(num_boost_round=10, max_depth=15, eta=0.3, gpu_id=0, tree_method='gpu_hist', min_child_weight=3, gamma=0.2)\n",
    "xgb12 = rolling_cross_validation(mod, months[19:], num_lagged_values=0, num_stack_months=13, fit_final=False)\n",
    "xgb12.scores"
   ]
  },
  {
   "cell_type": "markdown",
   "metadata": {},
   "source": [
    "Tune colsample_bytree"
   ]
  },
  {
   "cell_type": "code",
   "execution_count": 72,
   "metadata": {},
   "outputs": [
    {
     "name": "stdout",
     "output_type": "stream",
     "text": [
      "Working on: 2015-09\n",
      "fit time: 367.2258598804474\n"
     ]
    },
    {
     "data": {
      "text/html": [
       "<div>\n",
       "<style scoped>\n",
       "    .dataframe tbody tr th:only-of-type {\n",
       "        vertical-align: middle;\n",
       "    }\n",
       "\n",
       "    .dataframe tbody tr th {\n",
       "        vertical-align: top;\n",
       "    }\n",
       "\n",
       "    .dataframe thead th {\n",
       "        text-align: right;\n",
       "    }\n",
       "</style>\n",
       "<table border=\"1\" class=\"dataframe\">\n",
       "  <thead>\n",
       "    <tr style=\"text-align: right;\">\n",
       "      <th></th>\n",
       "      <th>PreInSampleRMSE</th>\n",
       "      <th>inSampleRMSE</th>\n",
       "      <th>PreOutSampleRMSE</th>\n",
       "      <th>outSampleRMSE</th>\n",
       "    </tr>\n",
       "  </thead>\n",
       "  <tbody>\n",
       "    <tr>\n",
       "      <th>2015-09</th>\n",
       "      <td>1.554905</td>\n",
       "      <td>1.905897</td>\n",
       "      <td>3.523711</td>\n",
       "      <td>4.475282</td>\n",
       "    </tr>\n",
       "  </tbody>\n",
       "</table>\n",
       "</div>"
      ],
      "text/plain": [
       "         PreInSampleRMSE  inSampleRMSE  PreOutSampleRMSE  outSampleRMSE\n",
       "2015-09         1.554905      1.905897          3.523711       4.475282"
      ]
     },
     "execution_count": 72,
     "metadata": {},
     "output_type": "execute_result"
    }
   ],
   "source": [
    "mod = xgb_model(num_boost_round=10, max_depth=15, eta=0.3, gpu_id=0, tree_method='gpu_hist', min_child_weight=3, gamma=0.1, colsample_bytree=0.5)\n",
    "xgb13 = rolling_cross_validation(mod, months[19:], num_lagged_values=0, num_stack_months=13, fit_final=False)\n",
    "xgb13.scores"
   ]
  },
  {
   "cell_type": "code",
   "execution_count": 73,
   "metadata": {},
   "outputs": [
    {
     "name": "stdout",
     "output_type": "stream",
     "text": [
      "Working on: 2015-09\n",
      "fit time: 395.63709235191345\n"
     ]
    },
    {
     "data": {
      "text/html": [
       "<div>\n",
       "<style scoped>\n",
       "    .dataframe tbody tr th:only-of-type {\n",
       "        vertical-align: middle;\n",
       "    }\n",
       "\n",
       "    .dataframe tbody tr th {\n",
       "        vertical-align: top;\n",
       "    }\n",
       "\n",
       "    .dataframe thead th {\n",
       "        text-align: right;\n",
       "    }\n",
       "</style>\n",
       "<table border=\"1\" class=\"dataframe\">\n",
       "  <thead>\n",
       "    <tr style=\"text-align: right;\">\n",
       "      <th></th>\n",
       "      <th>PreInSampleRMSE</th>\n",
       "      <th>inSampleRMSE</th>\n",
       "      <th>PreOutSampleRMSE</th>\n",
       "      <th>outSampleRMSE</th>\n",
       "    </tr>\n",
       "  </thead>\n",
       "  <tbody>\n",
       "    <tr>\n",
       "      <th>2015-09</th>\n",
       "      <td>1.570256</td>\n",
       "      <td>1.922398</td>\n",
       "      <td>3.715294</td>\n",
       "      <td>4.627332</td>\n",
       "    </tr>\n",
       "  </tbody>\n",
       "</table>\n",
       "</div>"
      ],
      "text/plain": [
       "         PreInSampleRMSE  inSampleRMSE  PreOutSampleRMSE  outSampleRMSE\n",
       "2015-09         1.570256      1.922398          3.715294       4.627332"
      ]
     },
     "execution_count": 73,
     "metadata": {},
     "output_type": "execute_result"
    }
   ],
   "source": [
    "mod = xgb_model(num_boost_round=10, max_depth=15, eta=0.3, gpu_id=0, tree_method='gpu_hist', min_child_weight=3, gamma=0.1, colsample_bytree=0.25)\n",
    "xgb14 = rolling_cross_validation(mod, months[19:], num_lagged_values=0, num_stack_months=13, fit_final=False)\n",
    "xgb14.scores"
   ]
  },
  {
   "cell_type": "code",
   "execution_count": 74,
   "metadata": {},
   "outputs": [
    {
     "name": "stdout",
     "output_type": "stream",
     "text": [
      "Working on: 2015-09\n",
      "fit time: 389.1943893432617\n"
     ]
    },
    {
     "data": {
      "text/html": [
       "<div>\n",
       "<style scoped>\n",
       "    .dataframe tbody tr th:only-of-type {\n",
       "        vertical-align: middle;\n",
       "    }\n",
       "\n",
       "    .dataframe tbody tr th {\n",
       "        vertical-align: top;\n",
       "    }\n",
       "\n",
       "    .dataframe thead th {\n",
       "        text-align: right;\n",
       "    }\n",
       "</style>\n",
       "<table border=\"1\" class=\"dataframe\">\n",
       "  <thead>\n",
       "    <tr style=\"text-align: right;\">\n",
       "      <th></th>\n",
       "      <th>PreInSampleRMSE</th>\n",
       "      <th>inSampleRMSE</th>\n",
       "      <th>PreOutSampleRMSE</th>\n",
       "      <th>outSampleRMSE</th>\n",
       "    </tr>\n",
       "  </thead>\n",
       "  <tbody>\n",
       "    <tr>\n",
       "      <th>2015-09</th>\n",
       "      <td>1.587069</td>\n",
       "      <td>1.946151</td>\n",
       "      <td>3.416441</td>\n",
       "      <td>4.504229</td>\n",
       "    </tr>\n",
       "  </tbody>\n",
       "</table>\n",
       "</div>"
      ],
      "text/plain": [
       "         PreInSampleRMSE  inSampleRMSE  PreOutSampleRMSE  outSampleRMSE\n",
       "2015-09         1.587069      1.946151          3.416441       4.504229"
      ]
     },
     "execution_count": 74,
     "metadata": {},
     "output_type": "execute_result"
    }
   ],
   "source": [
    "mod = xgb_model(num_boost_round=10, max_depth=15, eta=0.3, gpu_id=0, tree_method='gpu_hist', min_child_weight=3, gamma=0.1, colsample_bytree=0.75)\n",
    "xgb15 = rolling_cross_validation(mod, months[19:], num_lagged_values=0, num_stack_months=13, fit_final=False)\n",
    "xgb15.scores"
   ]
  },
  {
   "cell_type": "code",
   "execution_count": 75,
   "metadata": {},
   "outputs": [
    {
     "name": "stdout",
     "output_type": "stream",
     "text": [
      "Working on: 2015-09\n",
      "fit time: 425.58503127098083\n"
     ]
    },
    {
     "data": {
      "text/html": [
       "<div>\n",
       "<style scoped>\n",
       "    .dataframe tbody tr th:only-of-type {\n",
       "        vertical-align: middle;\n",
       "    }\n",
       "\n",
       "    .dataframe tbody tr th {\n",
       "        vertical-align: top;\n",
       "    }\n",
       "\n",
       "    .dataframe thead th {\n",
       "        text-align: right;\n",
       "    }\n",
       "</style>\n",
       "<table border=\"1\" class=\"dataframe\">\n",
       "  <thead>\n",
       "    <tr style=\"text-align: right;\">\n",
       "      <th></th>\n",
       "      <th>PreInSampleRMSE</th>\n",
       "      <th>inSampleRMSE</th>\n",
       "      <th>PreOutSampleRMSE</th>\n",
       "      <th>outSampleRMSE</th>\n",
       "    </tr>\n",
       "  </thead>\n",
       "  <tbody>\n",
       "    <tr>\n",
       "      <th>2015-09</th>\n",
       "      <td>1.54764</td>\n",
       "      <td>1.889438</td>\n",
       "      <td>3.576048</td>\n",
       "      <td>4.724562</td>\n",
       "    </tr>\n",
       "  </tbody>\n",
       "</table>\n",
       "</div>"
      ],
      "text/plain": [
       "         PreInSampleRMSE  inSampleRMSE  PreOutSampleRMSE  outSampleRMSE\n",
       "2015-09          1.54764      1.889438          3.576048       4.724562"
      ]
     },
     "execution_count": 75,
     "metadata": {},
     "output_type": "execute_result"
    }
   ],
   "source": [
    "mod = xgb_model(num_boost_round=10, max_depth=15, eta=0.3, gpu_id=0, tree_method='gpu_hist', min_child_weight=3, gamma=0.1, colsample_bytree=0.9)\n",
    "xgb16 = rolling_cross_validation(mod, months[19:], num_lagged_values=0, num_stack_months=13, fit_final=False)\n",
    "xgb16.scores"
   ]
  },
  {
   "cell_type": "code",
   "execution_count": 76,
   "metadata": {},
   "outputs": [
    {
     "name": "stdout",
     "output_type": "stream",
     "text": [
      "Working on: 2015-09\n",
      "fit time: 405.35559368133545\n"
     ]
    },
    {
     "data": {
      "text/html": [
       "<div>\n",
       "<style scoped>\n",
       "    .dataframe tbody tr th:only-of-type {\n",
       "        vertical-align: middle;\n",
       "    }\n",
       "\n",
       "    .dataframe tbody tr th {\n",
       "        vertical-align: top;\n",
       "    }\n",
       "\n",
       "    .dataframe thead th {\n",
       "        text-align: right;\n",
       "    }\n",
       "</style>\n",
       "<table border=\"1\" class=\"dataframe\">\n",
       "  <thead>\n",
       "    <tr style=\"text-align: right;\">\n",
       "      <th></th>\n",
       "      <th>PreInSampleRMSE</th>\n",
       "      <th>inSampleRMSE</th>\n",
       "      <th>PreOutSampleRMSE</th>\n",
       "      <th>outSampleRMSE</th>\n",
       "    </tr>\n",
       "  </thead>\n",
       "  <tbody>\n",
       "    <tr>\n",
       "      <th>2015-09</th>\n",
       "      <td>1.560242</td>\n",
       "      <td>1.910468</td>\n",
       "      <td>3.56527</td>\n",
       "      <td>4.611157</td>\n",
       "    </tr>\n",
       "  </tbody>\n",
       "</table>\n",
       "</div>"
      ],
      "text/plain": [
       "         PreInSampleRMSE  inSampleRMSE  PreOutSampleRMSE  outSampleRMSE\n",
       "2015-09         1.560242      1.910468           3.56527       4.611157"
      ]
     },
     "execution_count": 76,
     "metadata": {},
     "output_type": "execute_result"
    }
   ],
   "source": [
    "mod = xgb_model(num_boost_round=10, max_depth=15, eta=0.3, gpu_id=0, tree_method='gpu_hist', min_child_weight=3, gamma=0.1, colsample_bytree=0.95)\n",
    "xgb17 = rolling_cross_validation(mod, months[19:], num_lagged_values=0, num_stack_months=13, fit_final=False)\n",
    "xgb17.scores"
   ]
  },
  {
   "cell_type": "code",
   "execution_count": 78,
   "metadata": {},
   "outputs": [
    {
     "name": "stdout",
     "output_type": "stream",
     "text": [
      "Working on: 2015-09\n",
      "fit time: 400.2204647064209\n"
     ]
    },
    {
     "data": {
      "text/html": [
       "<div>\n",
       "<style scoped>\n",
       "    .dataframe tbody tr th:only-of-type {\n",
       "        vertical-align: middle;\n",
       "    }\n",
       "\n",
       "    .dataframe tbody tr th {\n",
       "        vertical-align: top;\n",
       "    }\n",
       "\n",
       "    .dataframe thead th {\n",
       "        text-align: right;\n",
       "    }\n",
       "</style>\n",
       "<table border=\"1\" class=\"dataframe\">\n",
       "  <thead>\n",
       "    <tr style=\"text-align: right;\">\n",
       "      <th></th>\n",
       "      <th>PreInSampleRMSE</th>\n",
       "      <th>inSampleRMSE</th>\n",
       "      <th>PreOutSampleRMSE</th>\n",
       "      <th>outSampleRMSE</th>\n",
       "    </tr>\n",
       "  </thead>\n",
       "  <tbody>\n",
       "    <tr>\n",
       "      <th>2015-09</th>\n",
       "      <td>1.581847</td>\n",
       "      <td>1.937094</td>\n",
       "      <td>3.624732</td>\n",
       "      <td>4.79397</td>\n",
       "    </tr>\n",
       "  </tbody>\n",
       "</table>\n",
       "</div>"
      ],
      "text/plain": [
       "         PreInSampleRMSE  inSampleRMSE  PreOutSampleRMSE  outSampleRMSE\n",
       "2015-09         1.581847      1.937094          3.624732        4.79397"
      ]
     },
     "execution_count": 78,
     "metadata": {},
     "output_type": "execute_result"
    }
   ],
   "source": [
    "mod = xgb_model(num_boost_round=10, max_depth=15, eta=0.3, gpu_id=0, tree_method='gpu_hist', min_child_weight=3, gamma=0.1, colsample_bytree=1)\n",
    "xgb18 = rolling_cross_validation(mod, months[19:], num_lagged_values=0, num_stack_months=13, fit_final=False)\n",
    "xgb18.scores"
   ]
  },
  {
   "cell_type": "code",
   "execution_count": 79,
   "metadata": {},
   "outputs": [
    {
     "name": "stdout",
     "output_type": "stream",
     "text": [
      "Working on: 2015-09\n",
      "fit time: 489.6808226108551\n"
     ]
    },
    {
     "data": {
      "text/html": [
       "<div>\n",
       "<style scoped>\n",
       "    .dataframe tbody tr th:only-of-type {\n",
       "        vertical-align: middle;\n",
       "    }\n",
       "\n",
       "    .dataframe tbody tr th {\n",
       "        vertical-align: top;\n",
       "    }\n",
       "\n",
       "    .dataframe thead th {\n",
       "        text-align: right;\n",
       "    }\n",
       "</style>\n",
       "<table border=\"1\" class=\"dataframe\">\n",
       "  <thead>\n",
       "    <tr style=\"text-align: right;\">\n",
       "      <th></th>\n",
       "      <th>PreInSampleRMSE</th>\n",
       "      <th>inSampleRMSE</th>\n",
       "      <th>PreOutSampleRMSE</th>\n",
       "      <th>outSampleRMSE</th>\n",
       "    </tr>\n",
       "  </thead>\n",
       "  <tbody>\n",
       "    <tr>\n",
       "      <th>2015-09</th>\n",
       "      <td>1.577413</td>\n",
       "      <td>1.933916</td>\n",
       "      <td>3.57007</td>\n",
       "      <td>4.713628</td>\n",
       "    </tr>\n",
       "  </tbody>\n",
       "</table>\n",
       "</div>"
      ],
      "text/plain": [
       "         PreInSampleRMSE  inSampleRMSE  PreOutSampleRMSE  outSampleRMSE\n",
       "2015-09         1.577413      1.933916           3.57007       4.713628"
      ]
     },
     "execution_count": 79,
     "metadata": {},
     "output_type": "execute_result"
    }
   ],
   "source": [
    "mod = xgb_model(num_boost_round=10, max_depth=15, eta=0.3, gpu_id=0, tree_method='gpu_hist', min_child_weight=3, gamma=0.1, colsample_bytree=0.8)\n",
    "xgb19 = rolling_cross_validation(mod, months[19:], num_lagged_values=0, num_stack_months=13, fit_final=False)\n",
    "xgb19.scores"
   ]
  },
  {
   "cell_type": "markdown",
   "metadata": {},
   "source": [
    "repeat lowest - preOutSample was 3.224336"
   ]
  },
  {
   "cell_type": "code",
   "execution_count": 80,
   "metadata": {},
   "outputs": [
    {
     "name": "stdout",
     "output_type": "stream",
     "text": [
      "Working on: 2015-09\n",
      "fit time: 398.8595907688141\n"
     ]
    },
    {
     "data": {
      "text/html": [
       "<div>\n",
       "<style scoped>\n",
       "    .dataframe tbody tr th:only-of-type {\n",
       "        vertical-align: middle;\n",
       "    }\n",
       "\n",
       "    .dataframe tbody tr th {\n",
       "        vertical-align: top;\n",
       "    }\n",
       "\n",
       "    .dataframe thead th {\n",
       "        text-align: right;\n",
       "    }\n",
       "</style>\n",
       "<table border=\"1\" class=\"dataframe\">\n",
       "  <thead>\n",
       "    <tr style=\"text-align: right;\">\n",
       "      <th></th>\n",
       "      <th>PreInSampleRMSE</th>\n",
       "      <th>inSampleRMSE</th>\n",
       "      <th>PreOutSampleRMSE</th>\n",
       "      <th>outSampleRMSE</th>\n",
       "    </tr>\n",
       "  </thead>\n",
       "  <tbody>\n",
       "    <tr>\n",
       "      <th>2015-09</th>\n",
       "      <td>1.570103</td>\n",
       "      <td>1.922401</td>\n",
       "      <td>3.49114</td>\n",
       "      <td>4.616975</td>\n",
       "    </tr>\n",
       "  </tbody>\n",
       "</table>\n",
       "</div>"
      ],
      "text/plain": [
       "         PreInSampleRMSE  inSampleRMSE  PreOutSampleRMSE  outSampleRMSE\n",
       "2015-09         1.570103      1.922401           3.49114       4.616975"
      ]
     },
     "execution_count": 80,
     "metadata": {},
     "output_type": "execute_result"
    }
   ],
   "source": [
    "mod = xgb_model(num_boost_round=10, max_depth=15, eta=0.3, gpu_id=0, tree_method='gpu_hist', min_child_weight=3, gamma=0.1)\n",
    "xgb20 = rolling_cross_validation(mod, months[19:], num_lagged_values=0, num_stack_months=13, fit_final=False)\n",
    "xgb20.scores"
   ]
  },
  {
   "cell_type": "markdown",
   "metadata": {},
   "source": [
    "Same parms, different results: 3.224336, 3.49114  - big spread in random difference"
   ]
  },
  {
   "cell_type": "code",
   "execution_count": 81,
   "metadata": {},
   "outputs": [
    {
     "name": "stdout",
     "output_type": "stream",
     "text": [
      "Working on: 2015-09\n",
      "fit time: 404.32211780548096\n"
     ]
    },
    {
     "data": {
      "text/html": [
       "<div>\n",
       "<style scoped>\n",
       "    .dataframe tbody tr th:only-of-type {\n",
       "        vertical-align: middle;\n",
       "    }\n",
       "\n",
       "    .dataframe tbody tr th {\n",
       "        vertical-align: top;\n",
       "    }\n",
       "\n",
       "    .dataframe thead th {\n",
       "        text-align: right;\n",
       "    }\n",
       "</style>\n",
       "<table border=\"1\" class=\"dataframe\">\n",
       "  <thead>\n",
       "    <tr style=\"text-align: right;\">\n",
       "      <th></th>\n",
       "      <th>PreInSampleRMSE</th>\n",
       "      <th>inSampleRMSE</th>\n",
       "      <th>PreOutSampleRMSE</th>\n",
       "      <th>outSampleRMSE</th>\n",
       "    </tr>\n",
       "  </thead>\n",
       "  <tbody>\n",
       "    <tr>\n",
       "      <th>2015-09</th>\n",
       "      <td>1.560746</td>\n",
       "      <td>1.912095</td>\n",
       "      <td>3.490181</td>\n",
       "      <td>4.522107</td>\n",
       "    </tr>\n",
       "  </tbody>\n",
       "</table>\n",
       "</div>"
      ],
      "text/plain": [
       "         PreInSampleRMSE  inSampleRMSE  PreOutSampleRMSE  outSampleRMSE\n",
       "2015-09         1.560746      1.912095          3.490181       4.522107"
      ]
     },
     "execution_count": 81,
     "metadata": {},
     "output_type": "execute_result"
    }
   ],
   "source": [
    "mod = xgb_model(num_boost_round=10, max_depth=15, eta=0.3, gpu_id=0, tree_method='gpu_hist', min_child_weight=3, gamma=0.1, colsample_bytree=0.70)\n",
    "xgb21 = rolling_cross_validation(mod, months[19:], num_lagged_values=0, num_stack_months=13, fit_final=False)\n",
    "xgb21.scores"
   ]
  },
  {
   "cell_type": "markdown",
   "metadata": {},
   "source": [
    "Re-tune num trees"
   ]
  },
  {
   "cell_type": "code",
   "execution_count": 82,
   "metadata": {},
   "outputs": [
    {
     "name": "stdout",
     "output_type": "stream",
     "text": [
      "Working on: 2015-09\n",
      "fit time: 433.95582008361816\n"
     ]
    },
    {
     "data": {
      "text/html": [
       "<div>\n",
       "<style scoped>\n",
       "    .dataframe tbody tr th:only-of-type {\n",
       "        vertical-align: middle;\n",
       "    }\n",
       "\n",
       "    .dataframe tbody tr th {\n",
       "        vertical-align: top;\n",
       "    }\n",
       "\n",
       "    .dataframe thead th {\n",
       "        text-align: right;\n",
       "    }\n",
       "</style>\n",
       "<table border=\"1\" class=\"dataframe\">\n",
       "  <thead>\n",
       "    <tr style=\"text-align: right;\">\n",
       "      <th></th>\n",
       "      <th>PreInSampleRMSE</th>\n",
       "      <th>inSampleRMSE</th>\n",
       "      <th>PreOutSampleRMSE</th>\n",
       "      <th>outSampleRMSE</th>\n",
       "    </tr>\n",
       "  </thead>\n",
       "  <tbody>\n",
       "    <tr>\n",
       "      <th>2015-09</th>\n",
       "      <td>1.467228</td>\n",
       "      <td>1.793479</td>\n",
       "      <td>3.558914</td>\n",
       "      <td>4.442888</td>\n",
       "    </tr>\n",
       "  </tbody>\n",
       "</table>\n",
       "</div>"
      ],
      "text/plain": [
       "         PreInSampleRMSE  inSampleRMSE  PreOutSampleRMSE  outSampleRMSE\n",
       "2015-09         1.467228      1.793479          3.558914       4.442888"
      ]
     },
     "execution_count": 82,
     "metadata": {},
     "output_type": "execute_result"
    }
   ],
   "source": [
    "mod = xgb_model(num_boost_round=15, max_depth=15, eta=0.3, gpu_id=0, tree_method='gpu_hist', min_child_weight=3, gamma=0.1, colsample_bytree=0.70)\n",
    "xgb22 = rolling_cross_validation(mod, months[19:], num_lagged_values=0, num_stack_months=13, fit_final=False)\n",
    "xgb22.scores"
   ]
  },
  {
   "cell_type": "code",
   "execution_count": 83,
   "metadata": {},
   "outputs": [
    {
     "name": "stdout",
     "output_type": "stream",
     "text": [
      "Working on: 2015-09\n",
      "fit time: 394.7556836605072\n"
     ]
    },
    {
     "data": {
      "text/html": [
       "<div>\n",
       "<style scoped>\n",
       "    .dataframe tbody tr th:only-of-type {\n",
       "        vertical-align: middle;\n",
       "    }\n",
       "\n",
       "    .dataframe tbody tr th {\n",
       "        vertical-align: top;\n",
       "    }\n",
       "\n",
       "    .dataframe thead th {\n",
       "        text-align: right;\n",
       "    }\n",
       "</style>\n",
       "<table border=\"1\" class=\"dataframe\">\n",
       "  <thead>\n",
       "    <tr style=\"text-align: right;\">\n",
       "      <th></th>\n",
       "      <th>PreInSampleRMSE</th>\n",
       "      <th>inSampleRMSE</th>\n",
       "      <th>PreOutSampleRMSE</th>\n",
       "      <th>outSampleRMSE</th>\n",
       "    </tr>\n",
       "  </thead>\n",
       "  <tbody>\n",
       "    <tr>\n",
       "      <th>2015-09</th>\n",
       "      <td>1.690958</td>\n",
       "      <td>2.081592</td>\n",
       "      <td>3.543582</td>\n",
       "      <td>4.599802</td>\n",
       "    </tr>\n",
       "  </tbody>\n",
       "</table>\n",
       "</div>"
      ],
      "text/plain": [
       "         PreInSampleRMSE  inSampleRMSE  PreOutSampleRMSE  outSampleRMSE\n",
       "2015-09         1.690958      2.081592          3.543582       4.599802"
      ]
     },
     "execution_count": 83,
     "metadata": {},
     "output_type": "execute_result"
    }
   ],
   "source": [
    "mod = xgb_model(num_boost_round=7, max_depth=15, eta=0.3, gpu_id=0, tree_method='gpu_hist', min_child_weight=3, gamma=0.1, colsample_bytree=0.70)\n",
    "xgb23 = rolling_cross_validation(mod, months[19:], num_lagged_values=0, num_stack_months=13, fit_final=False)\n",
    "xgb23.scores"
   ]
  },
  {
   "cell_type": "markdown",
   "metadata": {},
   "source": [
    "Tune subsample"
   ]
  },
  {
   "cell_type": "code",
   "execution_count": 67,
   "metadata": {},
   "outputs": [
    {
     "name": "stdout",
     "output_type": "stream",
     "text": [
      "Working on: 2015-09\n",
      "fit time: 417.0325565338135\n"
     ]
    },
    {
     "data": {
      "text/html": [
       "<div>\n",
       "<style scoped>\n",
       "    .dataframe tbody tr th:only-of-type {\n",
       "        vertical-align: middle;\n",
       "    }\n",
       "\n",
       "    .dataframe tbody tr th {\n",
       "        vertical-align: top;\n",
       "    }\n",
       "\n",
       "    .dataframe thead th {\n",
       "        text-align: right;\n",
       "    }\n",
       "</style>\n",
       "<table border=\"1\" class=\"dataframe\">\n",
       "  <thead>\n",
       "    <tr style=\"text-align: right;\">\n",
       "      <th></th>\n",
       "      <th>PreInSampleRMSE</th>\n",
       "      <th>inSampleRMSE</th>\n",
       "      <th>PreOutSampleRMSE</th>\n",
       "      <th>outSampleRMSE</th>\n",
       "    </tr>\n",
       "  </thead>\n",
       "  <tbody>\n",
       "    <tr>\n",
       "      <th>2015-09</th>\n",
       "      <td>1.600846</td>\n",
       "      <td>1.959484</td>\n",
       "      <td>3.533276</td>\n",
       "      <td>4.664327</td>\n",
       "    </tr>\n",
       "  </tbody>\n",
       "</table>\n",
       "</div>"
      ],
      "text/plain": [
       "         PreInSampleRMSE  inSampleRMSE  PreOutSampleRMSE  outSampleRMSE\n",
       "2015-09         1.600846      1.959484          3.533276       4.664327"
      ]
     },
     "execution_count": 67,
     "metadata": {},
     "output_type": "execute_result"
    }
   ],
   "source": [
    "mod = xgb_model(num_boost_round=15, max_depth=15, eta=0.3, gpu_id=0, tree_method='gpu_hist', min_child_weight=3,\n",
    "                gamma=0.1, colsample_bytree=0.70, subsample=0.5)\n",
    "xgb24 = rolling_cross_validation(mod, months[19:], num_lagged_values=0, num_stack_months=13, fit_final=False)\n",
    "xgb24.scores"
   ]
  },
  {
   "cell_type": "code",
   "execution_count": 68,
   "metadata": {},
   "outputs": [
    {
     "name": "stdout",
     "output_type": "stream",
     "text": [
      "Working on: 2015-09\n",
      "fit time: 383.82120156288147\n"
     ]
    },
    {
     "data": {
      "text/html": [
       "<div>\n",
       "<style scoped>\n",
       "    .dataframe tbody tr th:only-of-type {\n",
       "        vertical-align: middle;\n",
       "    }\n",
       "\n",
       "    .dataframe tbody tr th {\n",
       "        vertical-align: top;\n",
       "    }\n",
       "\n",
       "    .dataframe thead th {\n",
       "        text-align: right;\n",
       "    }\n",
       "</style>\n",
       "<table border=\"1\" class=\"dataframe\">\n",
       "  <thead>\n",
       "    <tr style=\"text-align: right;\">\n",
       "      <th></th>\n",
       "      <th>PreInSampleRMSE</th>\n",
       "      <th>inSampleRMSE</th>\n",
       "      <th>PreOutSampleRMSE</th>\n",
       "      <th>outSampleRMSE</th>\n",
       "    </tr>\n",
       "  </thead>\n",
       "  <tbody>\n",
       "    <tr>\n",
       "      <th>2015-09</th>\n",
       "      <td>1.939659</td>\n",
       "      <td>2.373006</td>\n",
       "      <td>3.78051</td>\n",
       "      <td>4.943948</td>\n",
       "    </tr>\n",
       "  </tbody>\n",
       "</table>\n",
       "</div>"
      ],
      "text/plain": [
       "         PreInSampleRMSE  inSampleRMSE  PreOutSampleRMSE  outSampleRMSE\n",
       "2015-09         1.939659      2.373006           3.78051       4.943948"
      ]
     },
     "execution_count": 68,
     "metadata": {},
     "output_type": "execute_result"
    }
   ],
   "source": [
    "mod = xgb_model(num_boost_round=15, max_depth=15, eta=0.3, gpu_id=0, tree_method='gpu_hist', min_child_weight=3,\n",
    "                gamma=0.1, colsample_bytree=0.70, subsample=0.25)\n",
    "xgb24 = rolling_cross_validation(mod, months[19:], num_lagged_values=0, num_stack_months=13, fit_final=False)\n",
    "xgb24.scores"
   ]
  },
  {
   "cell_type": "code",
   "execution_count": 69,
   "metadata": {},
   "outputs": [
    {
     "name": "stdout",
     "output_type": "stream",
     "text": [
      "Working on: 2015-09\n",
      "fit time: 378.18624448776245\n"
     ]
    },
    {
     "data": {
      "text/html": [
       "<div>\n",
       "<style scoped>\n",
       "    .dataframe tbody tr th:only-of-type {\n",
       "        vertical-align: middle;\n",
       "    }\n",
       "\n",
       "    .dataframe tbody tr th {\n",
       "        vertical-align: top;\n",
       "    }\n",
       "\n",
       "    .dataframe thead th {\n",
       "        text-align: right;\n",
       "    }\n",
       "</style>\n",
       "<table border=\"1\" class=\"dataframe\">\n",
       "  <thead>\n",
       "    <tr style=\"text-align: right;\">\n",
       "      <th></th>\n",
       "      <th>PreInSampleRMSE</th>\n",
       "      <th>inSampleRMSE</th>\n",
       "      <th>PreOutSampleRMSE</th>\n",
       "      <th>outSampleRMSE</th>\n",
       "    </tr>\n",
       "  </thead>\n",
       "  <tbody>\n",
       "    <tr>\n",
       "      <th>2015-09</th>\n",
       "      <td>1.484346</td>\n",
       "      <td>1.812144</td>\n",
       "      <td>3.389474</td>\n",
       "      <td>4.395206</td>\n",
       "    </tr>\n",
       "  </tbody>\n",
       "</table>\n",
       "</div>"
      ],
      "text/plain": [
       "         PreInSampleRMSE  inSampleRMSE  PreOutSampleRMSE  outSampleRMSE\n",
       "2015-09         1.484346      1.812144          3.389474       4.395206"
      ]
     },
     "execution_count": 69,
     "metadata": {},
     "output_type": "execute_result"
    }
   ],
   "source": [
    "mod = xgb_model(num_boost_round=15, max_depth=15, eta=0.3, gpu_id=0, tree_method='gpu_hist', min_child_weight=3,\n",
    "                gamma=0.1, colsample_bytree=0.70, subsample=0.75)\n",
    "xgb25 = rolling_cross_validation(mod, months[19:], num_lagged_values=0, num_stack_months=13, fit_final=False)\n",
    "xgb25.scores"
   ]
  },
  {
   "cell_type": "code",
   "execution_count": 70,
   "metadata": {},
   "outputs": [
    {
     "name": "stdout",
     "output_type": "stream",
     "text": [
      "Working on: 2015-09\n",
      "fit time: 459.5859055519104\n"
     ]
    },
    {
     "data": {
      "text/html": [
       "<div>\n",
       "<style scoped>\n",
       "    .dataframe tbody tr th:only-of-type {\n",
       "        vertical-align: middle;\n",
       "    }\n",
       "\n",
       "    .dataframe tbody tr th {\n",
       "        vertical-align: top;\n",
       "    }\n",
       "\n",
       "    .dataframe thead th {\n",
       "        text-align: right;\n",
       "    }\n",
       "</style>\n",
       "<table border=\"1\" class=\"dataframe\">\n",
       "  <thead>\n",
       "    <tr style=\"text-align: right;\">\n",
       "      <th></th>\n",
       "      <th>PreInSampleRMSE</th>\n",
       "      <th>inSampleRMSE</th>\n",
       "      <th>PreOutSampleRMSE</th>\n",
       "      <th>outSampleRMSE</th>\n",
       "    </tr>\n",
       "  </thead>\n",
       "  <tbody>\n",
       "    <tr>\n",
       "      <th>2015-09</th>\n",
       "      <td>1.452081</td>\n",
       "      <td>1.777478</td>\n",
       "      <td>3.332366</td>\n",
       "      <td>4.38954</td>\n",
       "    </tr>\n",
       "  </tbody>\n",
       "</table>\n",
       "</div>"
      ],
      "text/plain": [
       "         PreInSampleRMSE  inSampleRMSE  PreOutSampleRMSE  outSampleRMSE\n",
       "2015-09         1.452081      1.777478          3.332366        4.38954"
      ]
     },
     "execution_count": 70,
     "metadata": {},
     "output_type": "execute_result"
    }
   ],
   "source": [
    "mod = xgb_model(num_boost_round=15, max_depth=15, eta=0.3, gpu_id=0, tree_method='gpu_hist', min_child_weight=3,\n",
    "                gamma=0.1, colsample_bytree=0.70, subsample=0.85)\n",
    "xgb26 = rolling_cross_validation(mod, months[19:], num_lagged_values=0, num_stack_months=13, fit_final=False)\n",
    "xgb26.scores"
   ]
  },
  {
   "cell_type": "markdown",
   "metadata": {},
   "source": [
    "reg alpha"
   ]
  },
  {
   "cell_type": "code",
   "execution_count": 71,
   "metadata": {},
   "outputs": [
    {
     "name": "stdout",
     "output_type": "stream",
     "text": [
      "Working on: 2015-09\n",
      "fit time: 391.82743763923645\n"
     ]
    },
    {
     "data": {
      "text/html": [
       "<div>\n",
       "<style scoped>\n",
       "    .dataframe tbody tr th:only-of-type {\n",
       "        vertical-align: middle;\n",
       "    }\n",
       "\n",
       "    .dataframe tbody tr th {\n",
       "        vertical-align: top;\n",
       "    }\n",
       "\n",
       "    .dataframe thead th {\n",
       "        text-align: right;\n",
       "    }\n",
       "</style>\n",
       "<table border=\"1\" class=\"dataframe\">\n",
       "  <thead>\n",
       "    <tr style=\"text-align: right;\">\n",
       "      <th></th>\n",
       "      <th>PreInSampleRMSE</th>\n",
       "      <th>inSampleRMSE</th>\n",
       "      <th>PreOutSampleRMSE</th>\n",
       "      <th>outSampleRMSE</th>\n",
       "    </tr>\n",
       "  </thead>\n",
       "  <tbody>\n",
       "    <tr>\n",
       "      <th>2015-09</th>\n",
       "      <td>1.466667</td>\n",
       "      <td>1.794442</td>\n",
       "      <td>3.453205</td>\n",
       "      <td>4.512323</td>\n",
       "    </tr>\n",
       "  </tbody>\n",
       "</table>\n",
       "</div>"
      ],
      "text/plain": [
       "         PreInSampleRMSE  inSampleRMSE  PreOutSampleRMSE  outSampleRMSE\n",
       "2015-09         1.466667      1.794442          3.453205       4.512323"
      ]
     },
     "execution_count": 71,
     "metadata": {},
     "output_type": "execute_result"
    }
   ],
   "source": [
    "mod = xgb_model(num_boost_round=15, max_depth=15, eta=0.3, gpu_id=0, tree_method='gpu_hist', min_child_weight=3,\n",
    "                gamma=0.1, colsample_bytree=0.70, subsample=0.85, reg_alpha=1e-2)\n",
    "xgb27 = rolling_cross_validation(mod, months[19:], num_lagged_values=0, num_stack_months=13, fit_final=False)\n",
    "xgb27.scores"
   ]
  },
  {
   "cell_type": "code",
   "execution_count": 72,
   "metadata": {},
   "outputs": [
    {
     "name": "stdout",
     "output_type": "stream",
     "text": [
      "Working on: 2015-09\n",
      "fit time: 396.5325367450714\n"
     ]
    },
    {
     "data": {
      "text/html": [
       "<div>\n",
       "<style scoped>\n",
       "    .dataframe tbody tr th:only-of-type {\n",
       "        vertical-align: middle;\n",
       "    }\n",
       "\n",
       "    .dataframe tbody tr th {\n",
       "        vertical-align: top;\n",
       "    }\n",
       "\n",
       "    .dataframe thead th {\n",
       "        text-align: right;\n",
       "    }\n",
       "</style>\n",
       "<table border=\"1\" class=\"dataframe\">\n",
       "  <thead>\n",
       "    <tr style=\"text-align: right;\">\n",
       "      <th></th>\n",
       "      <th>PreInSampleRMSE</th>\n",
       "      <th>inSampleRMSE</th>\n",
       "      <th>PreOutSampleRMSE</th>\n",
       "      <th>outSampleRMSE</th>\n",
       "    </tr>\n",
       "  </thead>\n",
       "  <tbody>\n",
       "    <tr>\n",
       "      <th>2015-09</th>\n",
       "      <td>1.4524</td>\n",
       "      <td>1.776852</td>\n",
       "      <td>3.320794</td>\n",
       "      <td>4.301734</td>\n",
       "    </tr>\n",
       "  </tbody>\n",
       "</table>\n",
       "</div>"
      ],
      "text/plain": [
       "         PreInSampleRMSE  inSampleRMSE  PreOutSampleRMSE  outSampleRMSE\n",
       "2015-09           1.4524      1.776852          3.320794       4.301734"
      ]
     },
     "execution_count": 72,
     "metadata": {},
     "output_type": "execute_result"
    }
   ],
   "source": [
    "mod = xgb_model(num_boost_round=15, max_depth=15, eta=0.3, gpu_id=0, tree_method='gpu_hist', min_child_weight=3,\n",
    "                gamma=0.1, colsample_bytree=0.70, subsample=0.85, reg_alpha=0.1)\n",
    "xgb28 = rolling_cross_validation(mod, months[19:], num_lagged_values=0, num_stack_months=13, fit_final=False)\n",
    "xgb28.scores"
   ]
  },
  {
   "cell_type": "code",
   "execution_count": 73,
   "metadata": {},
   "outputs": [
    {
     "name": "stdout",
     "output_type": "stream",
     "text": [
      "Working on: 2015-09\n",
      "fit time: 401.88452410697937\n"
     ]
    },
    {
     "data": {
      "text/html": [
       "<div>\n",
       "<style scoped>\n",
       "    .dataframe tbody tr th:only-of-type {\n",
       "        vertical-align: middle;\n",
       "    }\n",
       "\n",
       "    .dataframe tbody tr th {\n",
       "        vertical-align: top;\n",
       "    }\n",
       "\n",
       "    .dataframe thead th {\n",
       "        text-align: right;\n",
       "    }\n",
       "</style>\n",
       "<table border=\"1\" class=\"dataframe\">\n",
       "  <thead>\n",
       "    <tr style=\"text-align: right;\">\n",
       "      <th></th>\n",
       "      <th>PreInSampleRMSE</th>\n",
       "      <th>inSampleRMSE</th>\n",
       "      <th>PreOutSampleRMSE</th>\n",
       "      <th>outSampleRMSE</th>\n",
       "    </tr>\n",
       "  </thead>\n",
       "  <tbody>\n",
       "    <tr>\n",
       "      <th>2015-09</th>\n",
       "      <td>1.460326</td>\n",
       "      <td>1.788103</td>\n",
       "      <td>3.288492</td>\n",
       "      <td>4.296378</td>\n",
       "    </tr>\n",
       "  </tbody>\n",
       "</table>\n",
       "</div>"
      ],
      "text/plain": [
       "         PreInSampleRMSE  inSampleRMSE  PreOutSampleRMSE  outSampleRMSE\n",
       "2015-09         1.460326      1.788103          3.288492       4.296378"
      ]
     },
     "execution_count": 73,
     "metadata": {},
     "output_type": "execute_result"
    }
   ],
   "source": [
    "mod = xgb_model(num_boost_round=15, max_depth=15, eta=0.3, gpu_id=0, tree_method='gpu_hist', min_child_weight=3,\n",
    "                gamma=0.1, colsample_bytree=0.70, subsample=0.85, reg_alpha=1)\n",
    "xgb29 = rolling_cross_validation(mod, months[19:], num_lagged_values=0, num_stack_months=13, fit_final=False)\n",
    "xgb29.scores"
   ]
  },
  {
   "cell_type": "code",
   "execution_count": 74,
   "metadata": {},
   "outputs": [
    {
     "name": "stdout",
     "output_type": "stream",
     "text": [
      "Working on: 2015-09\n",
      "fit time: 395.5733845233917\n"
     ]
    },
    {
     "data": {
      "text/html": [
       "<div>\n",
       "<style scoped>\n",
       "    .dataframe tbody tr th:only-of-type {\n",
       "        vertical-align: middle;\n",
       "    }\n",
       "\n",
       "    .dataframe tbody tr th {\n",
       "        vertical-align: top;\n",
       "    }\n",
       "\n",
       "    .dataframe thead th {\n",
       "        text-align: right;\n",
       "    }\n",
       "</style>\n",
       "<table border=\"1\" class=\"dataframe\">\n",
       "  <thead>\n",
       "    <tr style=\"text-align: right;\">\n",
       "      <th></th>\n",
       "      <th>PreInSampleRMSE</th>\n",
       "      <th>inSampleRMSE</th>\n",
       "      <th>PreOutSampleRMSE</th>\n",
       "      <th>outSampleRMSE</th>\n",
       "    </tr>\n",
       "  </thead>\n",
       "  <tbody>\n",
       "    <tr>\n",
       "      <th>2015-09</th>\n",
       "      <td>1.45779</td>\n",
       "      <td>1.784869</td>\n",
       "      <td>3.350702</td>\n",
       "      <td>4.380897</td>\n",
       "    </tr>\n",
       "  </tbody>\n",
       "</table>\n",
       "</div>"
      ],
      "text/plain": [
       "         PreInSampleRMSE  inSampleRMSE  PreOutSampleRMSE  outSampleRMSE\n",
       "2015-09          1.45779      1.784869          3.350702       4.380897"
      ]
     },
     "execution_count": 74,
     "metadata": {},
     "output_type": "execute_result"
    }
   ],
   "source": [
    "mod = xgb_model(num_boost_round=15, max_depth=15, eta=0.3, gpu_id=0, tree_method='gpu_hist', min_child_weight=3,\n",
    "                gamma=0.1, colsample_bytree=0.70, subsample=0.85, reg_alpha=10)\n",
    "xgb30 = rolling_cross_validation(mod, months[19:], num_lagged_values=0, num_stack_months=13, fit_final=False)\n",
    "xgb30.scores"
   ]
  },
  {
   "cell_type": "code",
   "execution_count": 75,
   "metadata": {},
   "outputs": [
    {
     "name": "stdout",
     "output_type": "stream",
     "text": [
      "Working on: 2015-09\n",
      "fit time: 392.5182545185089\n"
     ]
    },
    {
     "data": {
      "text/html": [
       "<div>\n",
       "<style scoped>\n",
       "    .dataframe tbody tr th:only-of-type {\n",
       "        vertical-align: middle;\n",
       "    }\n",
       "\n",
       "    .dataframe tbody tr th {\n",
       "        vertical-align: top;\n",
       "    }\n",
       "\n",
       "    .dataframe thead th {\n",
       "        text-align: right;\n",
       "    }\n",
       "</style>\n",
       "<table border=\"1\" class=\"dataframe\">\n",
       "  <thead>\n",
       "    <tr style=\"text-align: right;\">\n",
       "      <th></th>\n",
       "      <th>PreInSampleRMSE</th>\n",
       "      <th>inSampleRMSE</th>\n",
       "      <th>PreOutSampleRMSE</th>\n",
       "      <th>outSampleRMSE</th>\n",
       "    </tr>\n",
       "  </thead>\n",
       "  <tbody>\n",
       "    <tr>\n",
       "      <th>2015-09</th>\n",
       "      <td>1.466542</td>\n",
       "      <td>1.79486</td>\n",
       "      <td>3.444049</td>\n",
       "      <td>4.5182</td>\n",
       "    </tr>\n",
       "  </tbody>\n",
       "</table>\n",
       "</div>"
      ],
      "text/plain": [
       "         PreInSampleRMSE  inSampleRMSE  PreOutSampleRMSE  outSampleRMSE\n",
       "2015-09         1.466542       1.79486          3.444049         4.5182"
      ]
     },
     "execution_count": 75,
     "metadata": {},
     "output_type": "execute_result"
    }
   ],
   "source": [
    "mod = xgb_model(num_boost_round=15, max_depth=15, eta=0.3, gpu_id=0, tree_method='gpu_hist', min_child_weight=3,\n",
    "                gamma=0.1, colsample_bytree=0.70, subsample=0.85, reg_alpha=0.5)\n",
    "xgb31 = rolling_cross_validation(mod, months[19:], num_lagged_values=0, num_stack_months=13, fit_final=False)\n",
    "xgb31.scores"
   ]
  },
  {
   "cell_type": "code",
   "execution_count": 76,
   "metadata": {},
   "outputs": [
    {
     "name": "stdout",
     "output_type": "stream",
     "text": [
      "Working on: 2015-09\n",
      "fit time: 393.9164659976959\n"
     ]
    },
    {
     "data": {
      "text/html": [
       "<div>\n",
       "<style scoped>\n",
       "    .dataframe tbody tr th:only-of-type {\n",
       "        vertical-align: middle;\n",
       "    }\n",
       "\n",
       "    .dataframe tbody tr th {\n",
       "        vertical-align: top;\n",
       "    }\n",
       "\n",
       "    .dataframe thead th {\n",
       "        text-align: right;\n",
       "    }\n",
       "</style>\n",
       "<table border=\"1\" class=\"dataframe\">\n",
       "  <thead>\n",
       "    <tr style=\"text-align: right;\">\n",
       "      <th></th>\n",
       "      <th>PreInSampleRMSE</th>\n",
       "      <th>inSampleRMSE</th>\n",
       "      <th>PreOutSampleRMSE</th>\n",
       "      <th>outSampleRMSE</th>\n",
       "    </tr>\n",
       "  </thead>\n",
       "  <tbody>\n",
       "    <tr>\n",
       "      <th>2015-09</th>\n",
       "      <td>1.460489</td>\n",
       "      <td>1.789084</td>\n",
       "      <td>3.412619</td>\n",
       "      <td>4.480037</td>\n",
       "    </tr>\n",
       "  </tbody>\n",
       "</table>\n",
       "</div>"
      ],
      "text/plain": [
       "         PreInSampleRMSE  inSampleRMSE  PreOutSampleRMSE  outSampleRMSE\n",
       "2015-09         1.460489      1.789084          3.412619       4.480037"
      ]
     },
     "execution_count": 76,
     "metadata": {},
     "output_type": "execute_result"
    }
   ],
   "source": [
    "mod = xgb_model(num_boost_round=15, max_depth=15, eta=0.3, gpu_id=0, tree_method='gpu_hist', min_child_weight=3,\n",
    "                gamma=0.1, colsample_bytree=0.70, subsample=0.85, reg_alpha=2)\n",
    "xgb32 = rolling_cross_validation(mod, months[19:], num_lagged_values=0, num_stack_months=13, fit_final=False)\n",
    "xgb32.scores"
   ]
  },
  {
   "cell_type": "markdown",
   "metadata": {},
   "source": [
    "keep reg alpha at 1"
   ]
  },
  {
   "cell_type": "code",
   "execution_count": 77,
   "metadata": {},
   "outputs": [
    {
     "name": "stdout",
     "output_type": "stream",
     "text": [
      "Working on: 2015-09\n",
      "fit time: 416.79675006866455\n"
     ]
    },
    {
     "data": {
      "text/html": [
       "<div>\n",
       "<style scoped>\n",
       "    .dataframe tbody tr th:only-of-type {\n",
       "        vertical-align: middle;\n",
       "    }\n",
       "\n",
       "    .dataframe tbody tr th {\n",
       "        vertical-align: top;\n",
       "    }\n",
       "\n",
       "    .dataframe thead th {\n",
       "        text-align: right;\n",
       "    }\n",
       "</style>\n",
       "<table border=\"1\" class=\"dataframe\">\n",
       "  <thead>\n",
       "    <tr style=\"text-align: right;\">\n",
       "      <th></th>\n",
       "      <th>PreInSampleRMSE</th>\n",
       "      <th>inSampleRMSE</th>\n",
       "      <th>PreOutSampleRMSE</th>\n",
       "      <th>outSampleRMSE</th>\n",
       "    </tr>\n",
       "  </thead>\n",
       "  <tbody>\n",
       "    <tr>\n",
       "      <th>2015-09</th>\n",
       "      <td>1.462329</td>\n",
       "      <td>1.790995</td>\n",
       "      <td>3.373817</td>\n",
       "      <td>4.364335</td>\n",
       "    </tr>\n",
       "  </tbody>\n",
       "</table>\n",
       "</div>"
      ],
      "text/plain": [
       "         PreInSampleRMSE  inSampleRMSE  PreOutSampleRMSE  outSampleRMSE\n",
       "2015-09         1.462329      1.790995          3.373817       4.364335"
      ]
     },
     "execution_count": 77,
     "metadata": {},
     "output_type": "execute_result"
    }
   ],
   "source": [
    "mod = xgb_model(num_boost_round=45, max_depth=15, eta=0.1, gpu_id=0, tree_method='gpu_hist', min_child_weight=3,\n",
    "                gamma=0.1, colsample_bytree=0.70, subsample=0.85, reg_alpha=1)\n",
    "xgb33 = rolling_cross_validation(mod, months[19:], num_lagged_values=0, num_stack_months=13, fit_final=False)\n",
    "xgb33.scores"
   ]
  },
  {
   "cell_type": "code",
   "execution_count": 78,
   "metadata": {},
   "outputs": [
    {
     "name": "stdout",
     "output_type": "stream",
     "text": [
      "Working on: 2015-09\n",
      "fit time: 479.00764989852905\n"
     ]
    },
    {
     "data": {
      "text/html": [
       "<div>\n",
       "<style scoped>\n",
       "    .dataframe tbody tr th:only-of-type {\n",
       "        vertical-align: middle;\n",
       "    }\n",
       "\n",
       "    .dataframe tbody tr th {\n",
       "        vertical-align: top;\n",
       "    }\n",
       "\n",
       "    .dataframe thead th {\n",
       "        text-align: right;\n",
       "    }\n",
       "</style>\n",
       "<table border=\"1\" class=\"dataframe\">\n",
       "  <thead>\n",
       "    <tr style=\"text-align: right;\">\n",
       "      <th></th>\n",
       "      <th>PreInSampleRMSE</th>\n",
       "      <th>inSampleRMSE</th>\n",
       "      <th>PreOutSampleRMSE</th>\n",
       "      <th>outSampleRMSE</th>\n",
       "    </tr>\n",
       "  </thead>\n",
       "  <tbody>\n",
       "    <tr>\n",
       "      <th>2015-09</th>\n",
       "      <td>1.438745</td>\n",
       "      <td>1.762985</td>\n",
       "      <td>3.392436</td>\n",
       "      <td>4.385812</td>\n",
       "    </tr>\n",
       "  </tbody>\n",
       "</table>\n",
       "</div>"
      ],
      "text/plain": [
       "         PreInSampleRMSE  inSampleRMSE  PreOutSampleRMSE  outSampleRMSE\n",
       "2015-09         1.438745      1.762985          3.392436       4.385812"
      ]
     },
     "execution_count": 78,
     "metadata": {},
     "output_type": "execute_result"
    }
   ],
   "source": [
    "mod = xgb_model(num_boost_round=100, max_depth=15, eta=0.05, gpu_id=0, tree_method='gpu_hist', min_child_weight=3,\n",
    "                gamma=0.1, colsample_bytree=0.70, subsample=0.85, reg_alpha=1)\n",
    "xgb34 = rolling_cross_validation(mod, months[19:], num_lagged_values=0, num_stack_months=13, fit_final=False)\n",
    "xgb34.scores"
   ]
  },
  {
   "cell_type": "code",
   "execution_count": 79,
   "metadata": {},
   "outputs": [
    {
     "name": "stdout",
     "output_type": "stream",
     "text": [
      "Working on: 2015-09\n",
      "fit time: 480.32368564605713\n"
     ]
    },
    {
     "data": {
      "text/html": [
       "<div>\n",
       "<style scoped>\n",
       "    .dataframe tbody tr th:only-of-type {\n",
       "        vertical-align: middle;\n",
       "    }\n",
       "\n",
       "    .dataframe tbody tr th {\n",
       "        vertical-align: top;\n",
       "    }\n",
       "\n",
       "    .dataframe thead th {\n",
       "        text-align: right;\n",
       "    }\n",
       "</style>\n",
       "<table border=\"1\" class=\"dataframe\">\n",
       "  <thead>\n",
       "    <tr style=\"text-align: right;\">\n",
       "      <th></th>\n",
       "      <th>PreInSampleRMSE</th>\n",
       "      <th>inSampleRMSE</th>\n",
       "      <th>PreOutSampleRMSE</th>\n",
       "      <th>outSampleRMSE</th>\n",
       "    </tr>\n",
       "  </thead>\n",
       "  <tbody>\n",
       "    <tr>\n",
       "      <th>2015-09</th>\n",
       "      <td>1.393894</td>\n",
       "      <td>1.706193</td>\n",
       "      <td>3.352824</td>\n",
       "      <td>4.311378</td>\n",
       "    </tr>\n",
       "  </tbody>\n",
       "</table>\n",
       "</div>"
      ],
      "text/plain": [
       "         PreInSampleRMSE  inSampleRMSE  PreOutSampleRMSE  outSampleRMSE\n",
       "2015-09         1.393894      1.706193          3.352824       4.311378"
      ]
     },
     "execution_count": 79,
     "metadata": {},
     "output_type": "execute_result"
    }
   ],
   "source": [
    "mod = xgb_model(num_boost_round=150, max_depth=15, eta=0.05, gpu_id=0, tree_method='gpu_hist', min_child_weight=3,\n",
    "                gamma=0.1, colsample_bytree=0.70, subsample=0.85, reg_alpha=1)\n",
    "xgb35 = rolling_cross_validation(mod, months[19:], num_lagged_values=0, num_stack_months=13, fit_final=False)\n",
    "xgb35.scores"
   ]
  },
  {
   "cell_type": "code",
   "execution_count": 80,
   "metadata": {},
   "outputs": [
    {
     "name": "stdout",
     "output_type": "stream",
     "text": [
      "Working on: 2015-09\n",
      "fit time: 578.7205331325531\n"
     ]
    },
    {
     "data": {
      "text/html": [
       "<div>\n",
       "<style scoped>\n",
       "    .dataframe tbody tr th:only-of-type {\n",
       "        vertical-align: middle;\n",
       "    }\n",
       "\n",
       "    .dataframe tbody tr th {\n",
       "        vertical-align: top;\n",
       "    }\n",
       "\n",
       "    .dataframe thead th {\n",
       "        text-align: right;\n",
       "    }\n",
       "</style>\n",
       "<table border=\"1\" class=\"dataframe\">\n",
       "  <thead>\n",
       "    <tr style=\"text-align: right;\">\n",
       "      <th></th>\n",
       "      <th>PreInSampleRMSE</th>\n",
       "      <th>inSampleRMSE</th>\n",
       "      <th>PreOutSampleRMSE</th>\n",
       "      <th>outSampleRMSE</th>\n",
       "    </tr>\n",
       "  </thead>\n",
       "  <tbody>\n",
       "    <tr>\n",
       "      <th>2015-09</th>\n",
       "      <td>1.393748</td>\n",
       "      <td>1.705426</td>\n",
       "      <td>3.317894</td>\n",
       "      <td>4.312685</td>\n",
       "    </tr>\n",
       "  </tbody>\n",
       "</table>\n",
       "</div>"
      ],
      "text/plain": [
       "         PreInSampleRMSE  inSampleRMSE  PreOutSampleRMSE  outSampleRMSE\n",
       "2015-09         1.393748      1.705426          3.317894       4.312685"
      ]
     },
     "execution_count": 80,
     "metadata": {},
     "output_type": "execute_result"
    }
   ],
   "source": [
    "mod = xgb_model(num_boost_round=300, max_depth=15, eta=0.025, gpu_id=0, tree_method='gpu_hist', min_child_weight=3,\n",
    "                gamma=0.1, colsample_bytree=0.70, subsample=0.85, reg_alpha=1)\n",
    "xgb36 = rolling_cross_validation(mod, months[19:], num_lagged_values=0, num_stack_months=13, fit_final=False)\n",
    "xgb36.scores"
   ]
  },
  {
   "cell_type": "code",
   "execution_count": 81,
   "metadata": {},
   "outputs": [
    {
     "name": "stdout",
     "output_type": "stream",
     "text": [
      "Working on: 2015-09\n",
      "fit time: 654.8986668586731\n"
     ]
    },
    {
     "data": {
      "text/html": [
       "<div>\n",
       "<style scoped>\n",
       "    .dataframe tbody tr th:only-of-type {\n",
       "        vertical-align: middle;\n",
       "    }\n",
       "\n",
       "    .dataframe tbody tr th {\n",
       "        vertical-align: top;\n",
       "    }\n",
       "\n",
       "    .dataframe thead th {\n",
       "        text-align: right;\n",
       "    }\n",
       "</style>\n",
       "<table border=\"1\" class=\"dataframe\">\n",
       "  <thead>\n",
       "    <tr style=\"text-align: right;\">\n",
       "      <th></th>\n",
       "      <th>PreInSampleRMSE</th>\n",
       "      <th>inSampleRMSE</th>\n",
       "      <th>PreOutSampleRMSE</th>\n",
       "      <th>outSampleRMSE</th>\n",
       "    </tr>\n",
       "  </thead>\n",
       "  <tbody>\n",
       "    <tr>\n",
       "      <th>2015-09</th>\n",
       "      <td>1.373772</td>\n",
       "      <td>1.679657</td>\n",
       "      <td>3.390463</td>\n",
       "      <td>4.385338</td>\n",
       "    </tr>\n",
       "  </tbody>\n",
       "</table>\n",
       "</div>"
      ],
      "text/plain": [
       "         PreInSampleRMSE  inSampleRMSE  PreOutSampleRMSE  outSampleRMSE\n",
       "2015-09         1.373772      1.679657          3.390463       4.385338"
      ]
     },
     "execution_count": 81,
     "metadata": {},
     "output_type": "execute_result"
    }
   ],
   "source": [
    "mod = xgb_model(num_boost_round=400, max_depth=15, eta=0.025, gpu_id=0, tree_method='gpu_hist', min_child_weight=3,\n",
    "                gamma=0.1, colsample_bytree=0.70, subsample=0.85, reg_alpha=1)\n",
    "xgb37 = rolling_cross_validation(mod, months[19:], num_lagged_values=0, num_stack_months=13, fit_final=False)\n",
    "xgb37.scores"
   ]
  },
  {
   "cell_type": "code",
   "execution_count": 83,
   "metadata": {},
   "outputs": [
    {
     "name": "stdout",
     "output_type": "stream",
     "text": [
      "Working on: 2015-09\n",
      "fit time: 930.6585764884949\n"
     ]
    },
    {
     "data": {
      "text/html": [
       "<div>\n",
       "<style scoped>\n",
       "    .dataframe tbody tr th:only-of-type {\n",
       "        vertical-align: middle;\n",
       "    }\n",
       "\n",
       "    .dataframe tbody tr th {\n",
       "        vertical-align: top;\n",
       "    }\n",
       "\n",
       "    .dataframe thead th {\n",
       "        text-align: right;\n",
       "    }\n",
       "</style>\n",
       "<table border=\"1\" class=\"dataframe\">\n",
       "  <thead>\n",
       "    <tr style=\"text-align: right;\">\n",
       "      <th></th>\n",
       "      <th>PreInSampleRMSE</th>\n",
       "      <th>inSampleRMSE</th>\n",
       "      <th>PreOutSampleRMSE</th>\n",
       "      <th>outSampleRMSE</th>\n",
       "    </tr>\n",
       "  </thead>\n",
       "  <tbody>\n",
       "    <tr>\n",
       "      <th>2015-09</th>\n",
       "      <td>1.387192</td>\n",
       "      <td>1.697351</td>\n",
       "      <td>3.406284</td>\n",
       "      <td>4.393435</td>\n",
       "    </tr>\n",
       "  </tbody>\n",
       "</table>\n",
       "</div>"
      ],
      "text/plain": [
       "         PreInSampleRMSE  inSampleRMSE  PreOutSampleRMSE  outSampleRMSE\n",
       "2015-09         1.387192      1.697351          3.406284       4.393435"
      ]
     },
     "execution_count": 83,
     "metadata": {},
     "output_type": "execute_result"
    }
   ],
   "source": [
    "mod = xgb_model(num_boost_round=800, max_depth=15, eta=0.01, gpu_id=0, tree_method='gpu_hist', min_child_weight=3,\n",
    "                gamma=0.1, colsample_bytree=0.70, subsample=0.85, reg_alpha=1)\n",
    "xgb38 = rolling_cross_validation(mod, months[19:], num_lagged_values=0, num_stack_months=13, fit_final=False)\n",
    "xgb38.scores"
   ]
  },
  {
   "cell_type": "code",
   "execution_count": 84,
   "metadata": {},
   "outputs": [
    {
     "name": "stdout",
     "output_type": "stream",
     "text": [
      "Working on: 2015-09\n",
      "fit time: 1071.7277617454529\n"
     ]
    },
    {
     "data": {
      "text/html": [
       "<div>\n",
       "<style scoped>\n",
       "    .dataframe tbody tr th:only-of-type {\n",
       "        vertical-align: middle;\n",
       "    }\n",
       "\n",
       "    .dataframe tbody tr th {\n",
       "        vertical-align: top;\n",
       "    }\n",
       "\n",
       "    .dataframe thead th {\n",
       "        text-align: right;\n",
       "    }\n",
       "</style>\n",
       "<table border=\"1\" class=\"dataframe\">\n",
       "  <thead>\n",
       "    <tr style=\"text-align: right;\">\n",
       "      <th></th>\n",
       "      <th>PreInSampleRMSE</th>\n",
       "      <th>inSampleRMSE</th>\n",
       "      <th>PreOutSampleRMSE</th>\n",
       "      <th>outSampleRMSE</th>\n",
       "    </tr>\n",
       "  </thead>\n",
       "  <tbody>\n",
       "    <tr>\n",
       "      <th>2015-09</th>\n",
       "      <td>1.372758</td>\n",
       "      <td>1.678388</td>\n",
       "      <td>3.411441</td>\n",
       "      <td>4.405141</td>\n",
       "    </tr>\n",
       "  </tbody>\n",
       "</table>\n",
       "</div>"
      ],
      "text/plain": [
       "         PreInSampleRMSE  inSampleRMSE  PreOutSampleRMSE  outSampleRMSE\n",
       "2015-09         1.372758      1.678388          3.411441       4.405141"
      ]
     },
     "execution_count": 84,
     "metadata": {},
     "output_type": "execute_result"
    }
   ],
   "source": [
    "mod = xgb_model(num_boost_round=1000, max_depth=15, eta=0.01, gpu_id=0, tree_method='gpu_hist', min_child_weight=3,\n",
    "                gamma=0.1, colsample_bytree=0.70, subsample=0.85, reg_alpha=1)\n",
    "xgb39 = rolling_cross_validation(mod, months[19:], num_lagged_values=0, num_stack_months=13, fit_final=False)\n",
    "xgb39.scores"
   ]
  },
  {
   "cell_type": "code",
   "execution_count": 85,
   "metadata": {},
   "outputs": [
    {
     "name": "stdout",
     "output_type": "stream",
     "text": [
      "Working on: 2015-09\n",
      "fit time: 2256.491931438446\n"
     ]
    },
    {
     "data": {
      "text/html": [
       "<div>\n",
       "<style scoped>\n",
       "    .dataframe tbody tr th:only-of-type {\n",
       "        vertical-align: middle;\n",
       "    }\n",
       "\n",
       "    .dataframe tbody tr th {\n",
       "        vertical-align: top;\n",
       "    }\n",
       "\n",
       "    .dataframe thead th {\n",
       "        text-align: right;\n",
       "    }\n",
       "</style>\n",
       "<table border=\"1\" class=\"dataframe\">\n",
       "  <thead>\n",
       "    <tr style=\"text-align: right;\">\n",
       "      <th></th>\n",
       "      <th>PreInSampleRMSE</th>\n",
       "      <th>inSampleRMSE</th>\n",
       "      <th>PreOutSampleRMSE</th>\n",
       "      <th>outSampleRMSE</th>\n",
       "    </tr>\n",
       "  </thead>\n",
       "  <tbody>\n",
       "    <tr>\n",
       "      <th>2015-09</th>\n",
       "      <td>1.329592</td>\n",
       "      <td>1.618455</td>\n",
       "      <td>3.44159</td>\n",
       "      <td>4.423015</td>\n",
       "    </tr>\n",
       "  </tbody>\n",
       "</table>\n",
       "</div>"
      ],
      "text/plain": [
       "         PreInSampleRMSE  inSampleRMSE  PreOutSampleRMSE  outSampleRMSE\n",
       "2015-09         1.329592      1.618455           3.44159       4.423015"
      ]
     },
     "execution_count": 85,
     "metadata": {},
     "output_type": "execute_result"
    }
   ],
   "source": [
    "mod = xgb_model(num_boost_round=1000, max_depth=20, eta=0.01, gpu_id=0, tree_method='gpu_hist', min_child_weight=3,\n",
    "                gamma=0.1, colsample_bytree=0.70, subsample=0.85, reg_alpha=1)\n",
    "xgb40 = rolling_cross_validation(mod, months[19:], num_lagged_values=0, num_stack_months=13, fit_final=False)\n",
    "xgb40.scores"
   ]
  },
  {
   "cell_type": "markdown",
   "metadata": {},
   "source": [
    "Stack more months"
   ]
  },
  {
   "cell_type": "code",
   "execution_count": 86,
   "metadata": {},
   "outputs": [
    {
     "name": "stdout",
     "output_type": "stream",
     "text": [
      "Working on: 2015-09\n",
      "fit time: 770.0432236194611\n"
     ]
    },
    {
     "data": {
      "text/html": [
       "<div>\n",
       "<style scoped>\n",
       "    .dataframe tbody tr th:only-of-type {\n",
       "        vertical-align: middle;\n",
       "    }\n",
       "\n",
       "    .dataframe tbody tr th {\n",
       "        vertical-align: top;\n",
       "    }\n",
       "\n",
       "    .dataframe thead th {\n",
       "        text-align: right;\n",
       "    }\n",
       "</style>\n",
       "<table border=\"1\" class=\"dataframe\">\n",
       "  <thead>\n",
       "    <tr style=\"text-align: right;\">\n",
       "      <th></th>\n",
       "      <th>PreInSampleRMSE</th>\n",
       "      <th>inSampleRMSE</th>\n",
       "      <th>PreOutSampleRMSE</th>\n",
       "      <th>outSampleRMSE</th>\n",
       "    </tr>\n",
       "  </thead>\n",
       "  <tbody>\n",
       "    <tr>\n",
       "      <th>2015-09</th>\n",
       "      <td>1.302002</td>\n",
       "      <td>1.566265</td>\n",
       "      <td>3.324735</td>\n",
       "      <td>4.341179</td>\n",
       "    </tr>\n",
       "  </tbody>\n",
       "</table>\n",
       "</div>"
      ],
      "text/plain": [
       "         PreInSampleRMSE  inSampleRMSE  PreOutSampleRMSE  outSampleRMSE\n",
       "2015-09         1.302002      1.566265          3.324735       4.341179"
      ]
     },
     "execution_count": 86,
     "metadata": {},
     "output_type": "execute_result"
    }
   ],
   "source": [
    "mod = xgb_model(num_boost_round=300, max_depth=15, eta=0.025, gpu_id=0, tree_method='gpu_hist', min_child_weight=3,\n",
    "                gamma=0.1, colsample_bytree=0.70, subsample=0.85, reg_alpha=1)\n",
    "xgb41 = rolling_cross_validation(mod, months[16:], num_lagged_values=0, num_stack_months=16, fit_final=False)\n",
    "xgb41.scores"
   ]
  },
  {
   "cell_type": "markdown",
   "metadata": {},
   "source": [
    "# Final Model"
   ]
  },
  {
   "cell_type": "code",
   "execution_count": 70,
   "metadata": {},
   "outputs": [
    {
     "name": "stdout",
     "output_type": "stream",
     "text": [
      "Working on: 2015-09\n",
      "fit time: 573.8778414726257\n"
     ]
    },
    {
     "data": {
      "text/html": [
       "<div>\n",
       "<style scoped>\n",
       "    .dataframe tbody tr th:only-of-type {\n",
       "        vertical-align: middle;\n",
       "    }\n",
       "\n",
       "    .dataframe tbody tr th {\n",
       "        vertical-align: top;\n",
       "    }\n",
       "\n",
       "    .dataframe thead th {\n",
       "        text-align: right;\n",
       "    }\n",
       "</style>\n",
       "<table border=\"1\" class=\"dataframe\">\n",
       "  <thead>\n",
       "    <tr style=\"text-align: right;\">\n",
       "      <th></th>\n",
       "      <th>PreInSampleRMSE</th>\n",
       "      <th>inSampleRMSE</th>\n",
       "      <th>PreOutSampleRMSE</th>\n",
       "      <th>outSampleRMSE</th>\n",
       "    </tr>\n",
       "  </thead>\n",
       "  <tbody>\n",
       "    <tr>\n",
       "      <th>2015-09</th>\n",
       "      <td>1.390869</td>\n",
       "      <td>1.701459</td>\n",
       "      <td>3.346659</td>\n",
       "      <td>4.301463</td>\n",
       "    </tr>\n",
       "    <tr>\n",
       "      <th>FINAL</th>\n",
       "      <td>1.368414</td>\n",
       "      <td>1.691437</td>\n",
       "      <td>NaN</td>\n",
       "      <td>NaN</td>\n",
       "    </tr>\n",
       "  </tbody>\n",
       "</table>\n",
       "</div>"
      ],
      "text/plain": [
       "         PreInSampleRMSE  inSampleRMSE  PreOutSampleRMSE  outSampleRMSE\n",
       "2015-09         1.390869      1.701459          3.346659       4.301463\n",
       "FINAL           1.368414      1.691437               NaN            NaN"
      ]
     },
     "execution_count": 70,
     "metadata": {},
     "output_type": "execute_result"
    }
   ],
   "source": [
    "mod = xgb_model(num_boost_round=300, max_depth=15, eta=0.025, gpu_id=0, tree_method='gpu_hist', min_child_weight=3,\n",
    "                gamma=0.1, colsample_bytree=0.70, subsample=0.85, reg_alpha=1)\n",
    "xgbFinal = rolling_cross_validation(mod, months[19:], num_lagged_values=0, num_stack_months=13, fit_final=True)\n",
    "xgbFinal.scores"
   ]
  },
  {
   "cell_type": "code",
   "execution_count": 83,
   "metadata": {},
   "outputs": [
    {
     "data": {
      "image/png": "[encoded data removed]",
      "text/plain": [
       "<Figure size 432x288 with 1 Axes>"
      ]
     },
     "metadata": {
      "needs_background": "light"
     },
     "output_type": "display_data"
    }
   ],
   "source": [
    "res = plot_feature_importances(xgbFinal.fitted_models['FINAL'], top_n=20)\n",
    "plt.savefig('Top20.png', bbox_inches='tight')"
   ]
  },
  {
   "cell_type": "markdown",
   "metadata": {},
   "source": [
    "# Preparing Submission"
   ]
  },
  {
   "cell_type": "code",
   "execution_count": 71,
   "metadata": {},
   "outputs": [],
   "source": [
    "def merge_pred_with_test(prediction, fill_val=0, pred_col='item_cnt_month'):\n",
    "    assert pred_col in prediction.columns, f'Couldnt find {pred_col}'\n",
    "    data_fol = 'data'\n",
    "    test = pd.read_csv(os.path.join(data_fol, 'test.csv'))\n",
    "    merged =  pd.merge(test, prediction, on=['shop_id', 'item_id'], how='left').fillna(fill_val)\n",
    "    if pred_col != 'item_cnt_month':\n",
    "        merged = merged.rename(columns={pred_col:'item_cnt_month'})\n",
    "    return merged.set_index('ID')['item_cnt_month']"
   ]
  },
  {
   "cell_type": "code",
   "execution_count": 72,
   "metadata": {},
   "outputs": [],
   "source": [
    "Xt, Yt, _ = get_single_month_XY(months[-1])"
   ]
  },
  {
   "cell_type": "code",
   "execution_count": 73,
   "metadata": {},
   "outputs": [],
   "source": [
    "y_pred = pd.DataFrame({'item_cnt_month':xgbFinal.fitted_models['FINAL'].predict(Xt)}, index=Xt.index)\n",
    "y_sub = merge_pred_with_test(y_pred)"
   ]
  },
  {
   "cell_type": "code",
   "execution_count": 74,
   "metadata": {},
   "outputs": [],
   "source": [
    "y_sub.to_csv('xgbFinal.csv')"
   ]
  },
  {
   "cell_type": "code",
   "execution_count": 77,
   "metadata": {},
   "outputs": [],
   "source": [
    "np.clip(0, 15, y_sub).to_csv('xgbFinal_clipped15.csv')"
   ]
  },
  {
   "cell_type": "markdown",
   "metadata": {},
   "source": [
    "# Storing model"
   ]
  },
  {
   "cell_type": "code",
   "execution_count": 89,
   "metadata": {},
   "outputs": [],
   "source": [
    "import pickle"
   ]
  },
  {
   "cell_type": "code",
   "execution_count": 90,
   "metadata": {},
   "outputs": [],
   "source": [
    "model = xgbFinal.fitted_models['FINAL'].fitted_model"
   ]
  },
  {
   "cell_type": "code",
   "execution_count": 91,
   "metadata": {},
   "outputs": [],
   "source": [
    "pickle.dump(model, open(\"final_xgboost_model.p\", \"wb\"))"
   ]
  },
  {
   "cell_type": "code",
   "execution_count": null,
   "metadata": {},
   "outputs": [],
   "source": []
  }
 ],
 "metadata": {
  "kernelspec": {
   "display_name": "Python 3",
   "language": "python",
   "name": "python3"
  },
  "language_info": {
   "codemirror_mode": {
    "name": "ipython",
    "version": 3
   },
   "file_extension": ".py",
   "mimetype": "text/x-python",
   "name": "python",
   "nbconvert_exporter": "python",
   "pygments_lexer": "ipython3",
   "version": "3.6.10"
  },
  "toc-autonumbering": true,
  "toc-showcode": false,
  "toc-showmarkdowntxt": false
 },
 "nbformat": 4,
 "nbformat_minor": 4
}
