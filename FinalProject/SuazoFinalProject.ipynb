{
 "cells": [
  {
   "cell_type": "code",
   "execution_count": 1,
   "metadata": {},
   "outputs": [],
   "source": [
    "import os, time\n",
    "from collections import deque\n",
    "from itertools import product\n",
    "\n",
    "import matplotlib.pyplot as plt\n",
    "import numpy as np\n",
    "import pandas as pd\n",
    "\n",
    "%matplotlib inline"
   ]
  },
  {
   "cell_type": "markdown",
   "metadata": {},
   "source": [
    "# Data Loading"
   ]
  },
  {
   "cell_type": "code",
   "execution_count": 2,
   "metadata": {},
   "outputs": [],
   "source": [
    "def load_sales(parse_date = True):\n",
    "    data_fol = 'data'\n",
    "    sales = pd.read_csv(os.path.join(data_fol, 'sales_train.csv'))\n",
    "    if parse_date:\n",
    "        date_col = pd.to_datetime(sales.date, format='%d.%m.%Y')\n",
    "        sales.date = date_col\n",
    "        sales['Month'] = sales.date.dt.to_period('M')\n",
    "    return sales\n",
    "\n",
    "def aggregate_monthly(sales_df):\n",
    "    assert 'Month' in sales_df.columns, 'Month column not found'\n",
    "    return (sales_df\n",
    "            .groupby(['Month', 'shop_id', 'item_id'])\n",
    "            .agg({'item_cnt_day': np.sum, 'item_price': np.mean})\n",
    "            .rename(columns={'item_cnt_day':'item_cnt_month'})\n",
    "           )"
   ]
  },
  {
   "cell_type": "code",
   "execution_count": 3,
   "metadata": {},
   "outputs": [],
   "source": [
    "sales = load_sales()\n",
    "agg_sales = aggregate_monthly(sales)"
   ]
  },
  {
   "cell_type": "code",
   "execution_count": 4,
   "metadata": {},
   "outputs": [],
   "source": [
    "items = pd.read_csv('data/items.csv')\n",
    "categories = pd.read_csv('data/item_categories.csv')\n",
    "test_set = pd.read_csv('data/test.csv')"
   ]
  },
  {
   "cell_type": "markdown",
   "metadata": {},
   "source": [
    "# Exploratory Data Analysis"
   ]
  },
  {
   "cell_type": "markdown",
   "metadata": {},
   "source": [
    "Look at distinct number of shops and items"
   ]
  },
  {
   "cell_type": "code",
   "execution_count": 5,
   "metadata": {},
   "outputs": [
    {
     "data": {
      "text/plain": [
       "Month         34\n",
       "shop_id       60\n",
       "item_id    21807\n",
       "dtype: int64"
      ]
     },
     "execution_count": 5,
     "metadata": {},
     "output_type": "execute_result"
    }
   ],
   "source": [
    "agg_sales.reset_index()[['Month','shop_id', 'item_id']].nunique()"
   ]
  },
  {
   "cell_type": "markdown",
   "metadata": {},
   "source": [
    "distinct items per month per shop"
   ]
  },
  {
   "cell_type": "code",
   "execution_count": 6,
   "metadata": {},
   "outputs": [
    {
     "data": {
      "text/html": [
       "<div>\n",
       "<style scoped>\n",
       "    .dataframe tbody tr th:only-of-type {\n",
       "        vertical-align: middle;\n",
       "    }\n",
       "\n",
       "    .dataframe tbody tr th {\n",
       "        vertical-align: top;\n",
       "    }\n",
       "\n",
       "    .dataframe thead th {\n",
       "        text-align: right;\n",
       "    }\n",
       "</style>\n",
       "<table border=\"1\" class=\"dataframe\">\n",
       "  <thead>\n",
       "    <tr style=\"text-align: right;\">\n",
       "      <th></th>\n",
       "      <th>shop_id</th>\n",
       "      <th>item_id</th>\n",
       "    </tr>\n",
       "    <tr>\n",
       "      <th>Month</th>\n",
       "      <th></th>\n",
       "      <th></th>\n",
       "    </tr>\n",
       "  </thead>\n",
       "  <tbody>\n",
       "    <tr>\n",
       "      <th>2013-01</th>\n",
       "      <td>45</td>\n",
       "      <td>8115</td>\n",
       "    </tr>\n",
       "    <tr>\n",
       "      <th>2013-02</th>\n",
       "      <td>46</td>\n",
       "      <td>8168</td>\n",
       "    </tr>\n",
       "    <tr>\n",
       "      <th>2013-03</th>\n",
       "      <td>46</td>\n",
       "      <td>8302</td>\n",
       "    </tr>\n",
       "    <tr>\n",
       "      <th>2013-04</th>\n",
       "      <td>46</td>\n",
       "      <td>8145</td>\n",
       "    </tr>\n",
       "    <tr>\n",
       "      <th>2013-05</th>\n",
       "      <td>45</td>\n",
       "      <td>8339</td>\n",
       "    </tr>\n",
       "  </tbody>\n",
       "</table>\n",
       "</div>"
      ],
      "text/plain": [
       "         shop_id  item_id\n",
       "Month                    \n",
       "2013-01       45     8115\n",
       "2013-02       46     8168\n",
       "2013-03       46     8302\n",
       "2013-04       46     8145\n",
       "2013-05       45     8339"
      ]
     },
     "execution_count": 6,
     "metadata": {},
     "output_type": "execute_result"
    }
   ],
   "source": [
    "agg_sales.reset_index().groupby('Month')[['shop_id', 'item_id']].nunique().head()"
   ]
  },
  {
   "cell_type": "code",
   "execution_count": 7,
   "metadata": {},
   "outputs": [
    {
     "data": {
      "image/png": "[encoded data removed]",
      "text/plain": [
       "<Figure size 432x288 with 1 Axes>"
      ]
     },
     "metadata": {
      "needs_background": "light"
     },
     "output_type": "display_data"
    }
   ],
   "source": [
    "distinct_items_per_shop = agg_sales.reset_index().groupby('shop_id')['item_id'].nunique().sort_values()\n",
    "plt.barh(range(distinct_items_per_shop.shape[0]), distinct_items_per_shop.values);"
   ]
  },
  {
   "cell_type": "markdown",
   "metadata": {},
   "source": [
    "Some shops sell alot of items, and some shops sell very few - perhaps I need an encoding for shop id based on how many distinct items that shop sold"
   ]
  },
  {
   "cell_type": "code",
   "execution_count": 8,
   "metadata": {},
   "outputs": [
    {
     "data": {
      "text/plain": [
       "3600"
      ]
     },
     "execution_count": 8,
     "metadata": {},
     "output_type": "execute_result"
    }
   ],
   "source": [
    "distinct_items_per_shop.loc[0]"
   ]
  },
  {
   "cell_type": "markdown",
   "metadata": {},
   "source": [
    "<br>\n",
    "<hr>\n",
    "<br>"
   ]
  },
  {
   "cell_type": "markdown",
   "metadata": {},
   "source": [
    "Aggregate accross items and shops - and look at temporal behavior"
   ]
  },
  {
   "cell_type": "code",
   "execution_count": 9,
   "metadata": {},
   "outputs": [
    {
     "data": {
      "image/png": "[encoded data removed]",
      "text/plain": [
       "<Figure size 864x288 with 2 Axes>"
      ]
     },
     "metadata": {
      "needs_background": "light"
     },
     "output_type": "display_data"
    }
   ],
   "source": [
    "fig, ax  = plt.subplots(1,2)\n",
    "fig.set_figwidth(12)\n",
    "agg_sales.groupby(level=0).item_cnt_month.sum().plot(ax=ax[0])\n",
    "ax[0].set_title('Total number of items sold')\n",
    "agg_sales.groupby(level=0).apply(lambda x: (x.item_cnt_month*x.item_price).sum()).plot(ax=ax[1])\n",
    "ax[1].set_title('Total item*price ')\n",
    "plt.show()"
   ]
  },
  {
   "cell_type": "markdown",
   "metadata": {},
   "source": [
    "* Decembers are clearly very different from all other months. Will need to either remove, or add a feature for this.\n",
    "* Also there is a clear difference between summer months and winter months (holidays?)"
   ]
  },
  {
   "cell_type": "code",
   "execution_count": 10,
   "metadata": {},
   "outputs": [],
   "source": [
    "monthly_agg = agg_sales.groupby(level=0).item_cnt_month.sum()\n",
    "month_of_year = monthly_agg.reset_index().Month.dt.month.rename('MOY')\n",
    "month_of_year.index = monthly_agg.index\n",
    "temp = pd.concat([monthly_agg, month_of_year ], axis=1)"
   ]
  },
  {
   "cell_type": "code",
   "execution_count": 11,
   "metadata": {},
   "outputs": [
    {
     "data": {
      "text/plain": [
       "<matplotlib.axes._subplots.AxesSubplot at 0x29c893b9a90>"
      ]
     },
     "execution_count": 11,
     "metadata": {},
     "output_type": "execute_result"
    },
    {
     "data": {
      "image/png": "[encoded data removed]",
      "text/plain": [
       "<Figure size 432x288 with 1 Axes>"
      ]
     },
     "metadata": {
      "needs_background": "light"
     },
     "output_type": "display_data"
    }
   ],
   "source": [
    "temp.groupby('MOY').item_cnt_month.sum().plot(kind='bar')"
   ]
  },
  {
   "cell_type": "code",
   "execution_count": 12,
   "metadata": {},
   "outputs": [
    {
     "data": {
      "text/plain": [
       "<matplotlib.axes._subplots.AxesSubplot at 0x29c893c3fd0>"
      ]
     },
     "execution_count": 12,
     "metadata": {},
     "output_type": "execute_result"
    },
    {
     "data": {
      "image/png": "[encoded data removed]",
      "text/plain": [
       "<Figure size 432x288 with 1 Axes>"
      ]
     },
     "metadata": {
      "needs_background": "light"
     },
     "output_type": "display_data"
    }
   ],
   "source": [
    "temp.groupby('MOY').item_cnt_month.mean().plot(kind='bar')"
   ]
  },
  {
   "cell_type": "markdown",
   "metadata": {},
   "source": [
    "<br>\n",
    "<hr>\n",
    "<br>"
   ]
  },
  {
   "cell_type": "markdown",
   "metadata": {},
   "source": [
    "## Project into items space"
   ]
  },
  {
   "cell_type": "markdown",
   "metadata": {},
   "source": [
    "How many times we see each item in data set"
   ]
  },
  {
   "cell_type": "code",
   "execution_count": 13,
   "metadata": {},
   "outputs": [],
   "source": [
    "item_appearances = agg_sales.groupby(level=2).item_cnt_month.count().sort_values()"
   ]
  },
  {
   "cell_type": "code",
   "execution_count": 14,
   "metadata": {},
   "outputs": [
    {
     "data": {
      "text/plain": [
       "item_id\n",
       "0       1\n",
       "7509    1\n",
       "7523    1\n",
       "7537    1\n",
       "7546    1\n",
       "7547    1\n",
       "7549    1\n",
       "7550    1\n",
       "7553    1\n",
       "7555    1\n",
       "Name: item_cnt_month, dtype: int64"
      ]
     },
     "execution_count": 14,
     "metadata": {},
     "output_type": "execute_result"
    }
   ],
   "source": [
    "item_appearances.head(10)"
   ]
  },
  {
   "cell_type": "code",
   "execution_count": 15,
   "metadata": {},
   "outputs": [
    {
     "data": {
      "text/plain": [
       "2521"
      ]
     },
     "execution_count": 15,
     "metadata": {},
     "output_type": "execute_result"
    }
   ],
   "source": [
    "(item_appearances == 1).sum()"
   ]
  },
  {
   "cell_type": "markdown",
   "metadata": {},
   "source": [
    "There are > 2000 items that we only see once! I need a feature to capture this."
   ]
  },
  {
   "cell_type": "code",
   "execution_count": 16,
   "metadata": {},
   "outputs": [
    {
     "data": {
      "image/png": "[encoded data removed]",
      "text/plain": [
       "<Figure size 432x288 with 1 Axes>"
      ]
     },
     "metadata": {
      "needs_background": "light"
     },
     "output_type": "display_data"
    }
   ],
   "source": [
    "plt.boxplot(item_appearances);"
   ]
  },
  {
   "cell_type": "markdown",
   "metadata": {},
   "source": [
    "Looks at num sales distribution accross items"
   ]
  },
  {
   "cell_type": "code",
   "execution_count": 17,
   "metadata": {},
   "outputs": [],
   "source": [
    "aggregated_sales_per_item = agg_sales.groupby(level=2).item_cnt_month.sum()"
   ]
  },
  {
   "cell_type": "code",
   "execution_count": 18,
   "metadata": {},
   "outputs": [
    {
     "data": {
      "image/png": "[encoded data removed]",
      "text/plain": [
       "<Figure size 432x288 with 1 Axes>"
      ]
     },
     "metadata": {
      "needs_background": "light"
     },
     "output_type": "display_data"
    }
   ],
   "source": [
    "plt.boxplot(aggregated_sales_per_item);"
   ]
  },
  {
   "cell_type": "code",
   "execution_count": 19,
   "metadata": {},
   "outputs": [
    {
     "data": {
      "text/plain": [
       "item_id\n",
       "1590        -11.0\n",
       "13474        -1.0\n",
       "11871        -1.0\n",
       "18062        -1.0\n",
       "13477         0.0\n",
       "           ...   \n",
       "5822      14515.0\n",
       "17717     15830.0\n",
       "3732      16642.0\n",
       "2808      17245.0\n",
       "20949    187642.0\n",
       "Name: item_cnt_month, Length: 21807, dtype: float64"
      ]
     },
     "execution_count": 19,
     "metadata": {},
     "output_type": "execute_result"
    }
   ],
   "source": [
    "aggregated_sales_per_item.sort_values()"
   ]
  },
  {
   "cell_type": "code",
   "execution_count": 20,
   "metadata": {},
   "outputs": [
    {
     "data": {
      "text/html": [
       "<div>\n",
       "<style scoped>\n",
       "    .dataframe tbody tr th:only-of-type {\n",
       "        vertical-align: middle;\n",
       "    }\n",
       "\n",
       "    .dataframe tbody tr th {\n",
       "        vertical-align: top;\n",
       "    }\n",
       "\n",
       "    .dataframe thead th {\n",
       "        text-align: right;\n",
       "    }\n",
       "</style>\n",
       "<table border=\"1\" class=\"dataframe\">\n",
       "  <thead>\n",
       "    <tr style=\"text-align: right;\">\n",
       "      <th></th>\n",
       "      <th></th>\n",
       "      <th></th>\n",
       "      <th>item_cnt_month</th>\n",
       "      <th>item_price</th>\n",
       "    </tr>\n",
       "    <tr>\n",
       "      <th>Month</th>\n",
       "      <th>shop_id</th>\n",
       "      <th>item_id</th>\n",
       "      <th></th>\n",
       "      <th></th>\n",
       "    </tr>\n",
       "  </thead>\n",
       "  <tbody>\n",
       "    <tr>\n",
       "      <th>2013-04</th>\n",
       "      <th>3</th>\n",
       "      <th>20949</th>\n",
       "      <td>1.0</td>\n",
       "      <td>5.000000</td>\n",
       "    </tr>\n",
       "    <tr>\n",
       "      <th>2015-09</th>\n",
       "      <th>2</th>\n",
       "      <th>20949</th>\n",
       "      <td>1.0</td>\n",
       "      <td>5.000000</td>\n",
       "    </tr>\n",
       "    <tr>\n",
       "      <th>2015-08</th>\n",
       "      <th>45</th>\n",
       "      <th>20949</th>\n",
       "      <td>1.0</td>\n",
       "      <td>5.000000</td>\n",
       "    </tr>\n",
       "    <tr>\n",
       "      <th>2015-07</th>\n",
       "      <th>52</th>\n",
       "      <th>20949</th>\n",
       "      <td>1.0</td>\n",
       "      <td>5.000000</td>\n",
       "    </tr>\n",
       "    <tr>\n",
       "      <th>2015-01</th>\n",
       "      <th>41</th>\n",
       "      <th>20949</th>\n",
       "      <td>1.0</td>\n",
       "      <td>5.000000</td>\n",
       "    </tr>\n",
       "    <tr>\n",
       "      <th>...</th>\n",
       "      <th>...</th>\n",
       "      <th>...</th>\n",
       "      <td>...</td>\n",
       "      <td>...</td>\n",
       "    </tr>\n",
       "    <tr>\n",
       "      <th>2014-12</th>\n",
       "      <th>25</th>\n",
       "      <th>20949</th>\n",
       "      <td>997.0</td>\n",
       "      <td>4.999769</td>\n",
       "    </tr>\n",
       "    <tr>\n",
       "      <th>2015-01</th>\n",
       "      <th>12</th>\n",
       "      <th>20949</th>\n",
       "      <td>1000.0</td>\n",
       "      <td>4.000000</td>\n",
       "    </tr>\n",
       "    <tr>\n",
       "      <th>2013-12</th>\n",
       "      <th>25</th>\n",
       "      <th>20949</th>\n",
       "      <td>1066.0</td>\n",
       "      <td>5.000000</td>\n",
       "    </tr>\n",
       "    <tr>\n",
       "      <th>2014-12</th>\n",
       "      <th>31</th>\n",
       "      <th>20949</th>\n",
       "      <td>1209.0</td>\n",
       "      <td>5.000000</td>\n",
       "    </tr>\n",
       "    <tr>\n",
       "      <th>2013-12</th>\n",
       "      <th>31</th>\n",
       "      <th>20949</th>\n",
       "      <td>1305.0</td>\n",
       "      <td>4.998710</td>\n",
       "    </tr>\n",
       "  </tbody>\n",
       "</table>\n",
       "<p>1324 rows × 2 columns</p>\n",
       "</div>"
      ],
      "text/plain": [
       "                         item_cnt_month  item_price\n",
       "Month   shop_id item_id                            \n",
       "2013-04 3       20949               1.0    5.000000\n",
       "2015-09 2       20949               1.0    5.000000\n",
       "2015-08 45      20949               1.0    5.000000\n",
       "2015-07 52      20949               1.0    5.000000\n",
       "2015-01 41      20949               1.0    5.000000\n",
       "...                                 ...         ...\n",
       "2014-12 25      20949             997.0    4.999769\n",
       "2015-01 12      20949            1000.0    4.000000\n",
       "2013-12 25      20949            1066.0    5.000000\n",
       "2014-12 31      20949            1209.0    5.000000\n",
       "2013-12 31      20949            1305.0    4.998710\n",
       "\n",
       "[1324 rows x 2 columns]"
      ]
     },
     "execution_count": 20,
     "metadata": {},
     "output_type": "execute_result"
    }
   ],
   "source": [
    "agg_sales.loc[pd.IndexSlice[:,:,20949], :].sort_values(by='item_cnt_month')"
   ]
  },
  {
   "cell_type": "code",
   "execution_count": 21,
   "metadata": {},
   "outputs": [
    {
     "data": {
      "text/plain": [
       "array(['Фирменный пакет майка 1С Интерес белый (34*42) 45 мкм'],\n",
       "      dtype=object)"
      ]
     },
     "execution_count": 21,
     "metadata": {},
     "output_type": "execute_result"
    }
   ],
   "source": [
    "items.query('item_id == 20949').item_name.values"
   ]
  },
  {
   "cell_type": "markdown",
   "metadata": {},
   "source": [
    "google says: 'Фирменный пакет майка 1С Интерес белый (34*42) 45 мкм' -->'Branded jersey package 1C Interest white (34/42) 45 microns'"
   ]
  },
  {
   "cell_type": "code",
   "execution_count": 22,
   "metadata": {},
   "outputs": [
    {
     "data": {
      "text/plain": [
       "<matplotlib.axes._subplots.AxesSubplot at 0x29c89751a90>"
      ]
     },
     "execution_count": 22,
     "metadata": {},
     "output_type": "execute_result"
    },
    {
     "data": {
      "image/png": "[encoded data removed]",
      "text/plain": [
       "<Figure size 432x288 with 1 Axes>"
      ]
     },
     "metadata": {
      "needs_background": "light"
     },
     "output_type": "display_data"
    }
   ],
   "source": [
    "agg_sales.loc[pd.IndexSlice[:,:,20949], :].groupby(level=0).item_cnt_month.sum().plot()"
   ]
  },
  {
   "cell_type": "markdown",
   "metadata": {},
   "source": [
    "Seems like a seasonal - winter vs summer thing"
   ]
  },
  {
   "cell_type": "markdown",
   "metadata": {},
   "source": [
    "Perhaps I should create a feature for this specific item since it is sold so much more than anything else"
   ]
  },
  {
   "cell_type": "markdown",
   "metadata": {},
   "source": [
    "<br>\n",
    "<hr>\n",
    "<br>"
   ]
  },
  {
   "cell_type": "code",
   "execution_count": 23,
   "metadata": {},
   "outputs": [
    {
     "data": {
      "image/png": "[encoded data removed]",
      "text/plain": [
       "<Figure size 432x288 with 1 Axes>"
      ]
     },
     "metadata": {
      "needs_background": "light"
     },
     "output_type": "display_data"
    }
   ],
   "source": [
    "profit_per_shop = agg_sales.groupby(level=[0,1]).apply(lambda x: (x.item_cnt_month*x.item_price).sum()).unstack(level=1).fillna(0)\n",
    "plt.boxplot(profit_per_shop.sum().sort_values());"
   ]
  },
  {
   "cell_type": "code",
   "execution_count": 24,
   "metadata": {},
   "outputs": [],
   "source": [
    "item_life = pd.concat([agg_sales.reset_index().groupby('item_id').Month.min().rename('First'),\n",
    "          agg_sales.reset_index().groupby('item_id').Month.max().rename('Last')], axis=1)"
   ]
  },
  {
   "cell_type": "code",
   "execution_count": 25,
   "metadata": {},
   "outputs": [],
   "source": [
    "num_months = (item_life.Last - item_life.First).apply(lambda x: x.n + 1)"
   ]
  },
  {
   "cell_type": "code",
   "execution_count": 26,
   "metadata": {},
   "outputs": [
    {
     "data": {
      "text/plain": [
       "count    21807.000000\n",
       "mean        14.046270\n",
       "std          9.962316\n",
       "min          1.000000\n",
       "25%          5.000000\n",
       "50%         13.000000\n",
       "75%         21.000000\n",
       "max         34.000000\n",
       "dtype: float64"
      ]
     },
     "execution_count": 26,
     "metadata": {},
     "output_type": "execute_result"
    }
   ],
   "source": [
    "num_months.describe()"
   ]
  },
  {
   "cell_type": "code",
   "execution_count": 27,
   "metadata": {},
   "outputs": [
    {
     "data": {
      "image/png": "[encoded data removed]",
      "text/plain": [
       "<Figure size 432x288 with 1 Axes>"
      ]
     },
     "metadata": {
      "needs_background": "light"
     },
     "output_type": "display_data"
    }
   ],
   "source": [
    "plt.boxplot(num_months);"
   ]
  },
  {
   "cell_type": "code",
   "execution_count": 28,
   "metadata": {},
   "outputs": [
    {
     "data": {
      "text/plain": [
       "<matplotlib.collections.PathCollection at 0x29c8931cf28>"
      ]
     },
     "execution_count": 28,
     "metadata": {},
     "output_type": "execute_result"
    },
    {
     "data": {
      "image/png": "[encoded data removed]",
      "text/plain": [
       "<Figure size 432x288 with 1 Axes>"
      ]
     },
     "metadata": {
      "needs_background": "light"
     },
     "output_type": "display_data"
    }
   ],
   "source": [
    "plt.scatter(num_months.index, num_months.values, alpha=0.1)"
   ]
  },
  {
   "cell_type": "markdown",
   "metadata": {},
   "source": [
    "<br>\n",
    "<hr>\n",
    "<br>\n"
   ]
  },
  {
   "cell_type": "markdown",
   "metadata": {},
   "source": [
    "Are lower priced items sold consistently more than higher priced items?"
   ]
  },
  {
   "cell_type": "code",
   "execution_count": 29,
   "metadata": {},
   "outputs": [
    {
     "data": {
      "text/html": [
       "<div>\n",
       "<style scoped>\n",
       "    .dataframe tbody tr th:only-of-type {\n",
       "        vertical-align: middle;\n",
       "    }\n",
       "\n",
       "    .dataframe tbody tr th {\n",
       "        vertical-align: top;\n",
       "    }\n",
       "\n",
       "    .dataframe thead th {\n",
       "        text-align: right;\n",
       "    }\n",
       "</style>\n",
       "<table border=\"1\" class=\"dataframe\">\n",
       "  <thead>\n",
       "    <tr style=\"text-align: right;\">\n",
       "      <th></th>\n",
       "      <th></th>\n",
       "      <th></th>\n",
       "      <th>item_cnt_month</th>\n",
       "      <th>item_price</th>\n",
       "    </tr>\n",
       "    <tr>\n",
       "      <th>Month</th>\n",
       "      <th>shop_id</th>\n",
       "      <th>item_id</th>\n",
       "      <th></th>\n",
       "      <th></th>\n",
       "    </tr>\n",
       "  </thead>\n",
       "  <tbody>\n",
       "    <tr>\n",
       "      <th rowspan=\"5\" valign=\"top\">2013-01</th>\n",
       "      <th rowspan=\"5\" valign=\"top\">0</th>\n",
       "      <th>32</th>\n",
       "      <td>6.0</td>\n",
       "      <td>221.0</td>\n",
       "    </tr>\n",
       "    <tr>\n",
       "      <th>33</th>\n",
       "      <td>3.0</td>\n",
       "      <td>347.0</td>\n",
       "    </tr>\n",
       "    <tr>\n",
       "      <th>35</th>\n",
       "      <td>1.0</td>\n",
       "      <td>247.0</td>\n",
       "    </tr>\n",
       "    <tr>\n",
       "      <th>43</th>\n",
       "      <td>1.0</td>\n",
       "      <td>221.0</td>\n",
       "    </tr>\n",
       "    <tr>\n",
       "      <th>51</th>\n",
       "      <td>2.0</td>\n",
       "      <td>128.5</td>\n",
       "    </tr>\n",
       "  </tbody>\n",
       "</table>\n",
       "</div>"
      ],
      "text/plain": [
       "                         item_cnt_month  item_price\n",
       "Month   shop_id item_id                            \n",
       "2013-01 0       32                  6.0       221.0\n",
       "                33                  3.0       347.0\n",
       "                35                  1.0       247.0\n",
       "                43                  1.0       221.0\n",
       "                51                  2.0       128.5"
      ]
     },
     "execution_count": 29,
     "metadata": {},
     "output_type": "execute_result"
    }
   ],
   "source": [
    "agg_sales.head()"
   ]
  },
  {
   "cell_type": "code",
   "execution_count": 30,
   "metadata": {},
   "outputs": [],
   "source": [
    "agg_sales_and_price = agg_sales.groupby(level=[0,2]).agg({'item_cnt_month':sum, 'item_price':max})"
   ]
  },
  {
   "cell_type": "code",
   "execution_count": 31,
   "metadata": {},
   "outputs": [
    {
     "data": {
      "text/plain": [
       "<matplotlib.collections.PathCollection at 0x29c8935acc0>"
      ]
     },
     "execution_count": 31,
     "metadata": {},
     "output_type": "execute_result"
    },
    {
     "data": {
      "image/png": "[encoded data removed]",
      "text/plain": [
       "<Figure size 432x288 with 1 Axes>"
      ]
     },
     "metadata": {
      "needs_background": "light"
     },
     "output_type": "display_data"
    }
   ],
   "source": [
    "plt.scatter(agg_sales_and_price.item_cnt_month, agg_sales_and_price.item_price)"
   ]
  },
  {
   "cell_type": "markdown",
   "metadata": {},
   "source": [
    "Is that one an outlier?"
   ]
  },
  {
   "cell_type": "code",
   "execution_count": 32,
   "metadata": {},
   "outputs": [
    {
     "data": {
      "text/html": [
       "<div>\n",
       "<style scoped>\n",
       "    .dataframe tbody tr th:only-of-type {\n",
       "        vertical-align: middle;\n",
       "    }\n",
       "\n",
       "    .dataframe tbody tr th {\n",
       "        vertical-align: top;\n",
       "    }\n",
       "\n",
       "    .dataframe thead th {\n",
       "        text-align: right;\n",
       "    }\n",
       "</style>\n",
       "<table border=\"1\" class=\"dataframe\">\n",
       "  <thead>\n",
       "    <tr style=\"text-align: right;\">\n",
       "      <th></th>\n",
       "      <th></th>\n",
       "      <th></th>\n",
       "      <th>item_cnt_month</th>\n",
       "      <th>item_price</th>\n",
       "    </tr>\n",
       "    <tr>\n",
       "      <th>Month</th>\n",
       "      <th>shop_id</th>\n",
       "      <th>item_id</th>\n",
       "      <th></th>\n",
       "      <th></th>\n",
       "    </tr>\n",
       "  </thead>\n",
       "  <tbody>\n",
       "    <tr>\n",
       "      <th>2013-07</th>\n",
       "      <th>6</th>\n",
       "      <th>11872</th>\n",
       "      <td>1.0</td>\n",
       "      <td>0.090000</td>\n",
       "    </tr>\n",
       "    <tr>\n",
       "      <th rowspan=\"4\" valign=\"top\">2013-06</th>\n",
       "      <th>58</th>\n",
       "      <th>11865</th>\n",
       "      <td>4.0</td>\n",
       "      <td>0.090000</td>\n",
       "    </tr>\n",
       "    <tr>\n",
       "      <th>6</th>\n",
       "      <th>11864</th>\n",
       "      <td>7.0</td>\n",
       "      <td>0.094000</td>\n",
       "    </tr>\n",
       "    <tr>\n",
       "      <th>58</th>\n",
       "      <th>20146</th>\n",
       "      <td>6.0</td>\n",
       "      <td>0.095833</td>\n",
       "    </tr>\n",
       "    <tr>\n",
       "      <th>31</th>\n",
       "      <th>11872</th>\n",
       "      <td>8.0</td>\n",
       "      <td>0.100000</td>\n",
       "    </tr>\n",
       "    <tr>\n",
       "      <th>...</th>\n",
       "      <th>...</th>\n",
       "      <th>...</th>\n",
       "      <td>...</td>\n",
       "      <td>...</td>\n",
       "    </tr>\n",
       "    <tr>\n",
       "      <th rowspan=\"2\" valign=\"top\">2015-10</th>\n",
       "      <th>22</th>\n",
       "      <th>13403</th>\n",
       "      <td>1.0</td>\n",
       "      <td>42990.000000</td>\n",
       "    </tr>\n",
       "    <tr>\n",
       "      <th>3</th>\n",
       "      <th>13403</th>\n",
       "      <td>1.0</td>\n",
       "      <td>42990.000000</td>\n",
       "    </tr>\n",
       "    <tr>\n",
       "      <th>2015-01</th>\n",
       "      <th>12</th>\n",
       "      <th>7241</th>\n",
       "      <td>1.0</td>\n",
       "      <td>49782.000000</td>\n",
       "    </tr>\n",
       "    <tr>\n",
       "      <th>2014-03</th>\n",
       "      <th>25</th>\n",
       "      <th>13199</th>\n",
       "      <td>1.0</td>\n",
       "      <td>50999.000000</td>\n",
       "    </tr>\n",
       "    <tr>\n",
       "      <th>2013-12</th>\n",
       "      <th>12</th>\n",
       "      <th>6066</th>\n",
       "      <td>1.0</td>\n",
       "      <td>307980.000000</td>\n",
       "    </tr>\n",
       "  </tbody>\n",
       "</table>\n",
       "<p>1609124 rows × 2 columns</p>\n",
       "</div>"
      ],
      "text/plain": [
       "                         item_cnt_month     item_price\n",
       "Month   shop_id item_id                               \n",
       "2013-07 6       11872               1.0       0.090000\n",
       "2013-06 58      11865               4.0       0.090000\n",
       "        6       11864               7.0       0.094000\n",
       "        58      20146               6.0       0.095833\n",
       "        31      11872               8.0       0.100000\n",
       "...                                 ...            ...\n",
       "2015-10 22      13403               1.0   42990.000000\n",
       "        3       13403               1.0   42990.000000\n",
       "2015-01 12      7241                1.0   49782.000000\n",
       "2014-03 25      13199               1.0   50999.000000\n",
       "2013-12 12      6066                1.0  307980.000000\n",
       "\n",
       "[1609124 rows x 2 columns]"
      ]
     },
     "execution_count": 32,
     "metadata": {},
     "output_type": "execute_result"
    }
   ],
   "source": [
    "agg_sales.sort_values(by='item_price')"
   ]
  },
  {
   "cell_type": "code",
   "execution_count": 33,
   "metadata": {},
   "outputs": [
    {
     "data": {
      "text/html": [
       "<div>\n",
       "<style scoped>\n",
       "    .dataframe tbody tr th:only-of-type {\n",
       "        vertical-align: middle;\n",
       "    }\n",
       "\n",
       "    .dataframe tbody tr th {\n",
       "        vertical-align: top;\n",
       "    }\n",
       "\n",
       "    .dataframe thead th {\n",
       "        text-align: right;\n",
       "    }\n",
       "</style>\n",
       "<table border=\"1\" class=\"dataframe\">\n",
       "  <thead>\n",
       "    <tr style=\"text-align: right;\">\n",
       "      <th></th>\n",
       "      <th>item_name</th>\n",
       "      <th>item_id</th>\n",
       "      <th>item_category_id</th>\n",
       "    </tr>\n",
       "  </thead>\n",
       "  <tbody>\n",
       "    <tr>\n",
       "      <th>6066</th>\n",
       "      <td>Radmin 3  - 522 лиц.</td>\n",
       "      <td>6066</td>\n",
       "      <td>75</td>\n",
       "    </tr>\n",
       "  </tbody>\n",
       "</table>\n",
       "</div>"
      ],
      "text/plain": [
       "                 item_name  item_id  item_category_id\n",
       "6066  Radmin 3  - 522 лиц.     6066                75"
      ]
     },
     "execution_count": 33,
     "metadata": {},
     "output_type": "execute_result"
    }
   ],
   "source": [
    "items.query('item_id == 6066')"
   ]
  },
  {
   "cell_type": "markdown",
   "metadata": {},
   "source": [
    "google says: 'Radmin 3 - 522 лиц' --> 'Radmin 3 - 522 persons'   "
   ]
  },
  {
   "cell_type": "code",
   "execution_count": 34,
   "metadata": {},
   "outputs": [
    {
     "data": {
      "text/html": [
       "<div>\n",
       "<style scoped>\n",
       "    .dataframe tbody tr th:only-of-type {\n",
       "        vertical-align: middle;\n",
       "    }\n",
       "\n",
       "    .dataframe tbody tr th {\n",
       "        vertical-align: top;\n",
       "    }\n",
       "\n",
       "    .dataframe thead th {\n",
       "        text-align: right;\n",
       "    }\n",
       "</style>\n",
       "<table border=\"1\" class=\"dataframe\">\n",
       "  <thead>\n",
       "    <tr style=\"text-align: right;\">\n",
       "      <th></th>\n",
       "      <th>item_category_name</th>\n",
       "      <th>item_category_id</th>\n",
       "    </tr>\n",
       "  </thead>\n",
       "  <tbody>\n",
       "    <tr>\n",
       "      <th>75</th>\n",
       "      <td>Программы - Для дома и офиса</td>\n",
       "      <td>75</td>\n",
       "    </tr>\n",
       "  </tbody>\n",
       "</table>\n",
       "</div>"
      ],
      "text/plain": [
       "              item_category_name  item_category_id\n",
       "75  Программы - Для дома и офиса                75"
      ]
     },
     "execution_count": 34,
     "metadata": {},
     "output_type": "execute_result"
    }
   ],
   "source": [
    "categories.query('item_category_id == 75')"
   ]
  },
  {
   "cell_type": "markdown",
   "metadata": {},
   "source": [
    "google says: 'Программы - Для дома и офиса' --> 'Programs - For home and office'"
   ]
  },
  {
   "cell_type": "code",
   "execution_count": 35,
   "metadata": {},
   "outputs": [],
   "source": [
    "idx_slice = pd.IndexSlice"
   ]
  },
  {
   "cell_type": "code",
   "execution_count": 36,
   "metadata": {},
   "outputs": [
    {
     "data": {
      "text/html": [
       "<div>\n",
       "<style scoped>\n",
       "    .dataframe tbody tr th:only-of-type {\n",
       "        vertical-align: middle;\n",
       "    }\n",
       "\n",
       "    .dataframe tbody tr th {\n",
       "        vertical-align: top;\n",
       "    }\n",
       "\n",
       "    .dataframe thead th {\n",
       "        text-align: right;\n",
       "    }\n",
       "</style>\n",
       "<table border=\"1\" class=\"dataframe\">\n",
       "  <thead>\n",
       "    <tr style=\"text-align: right;\">\n",
       "      <th></th>\n",
       "      <th></th>\n",
       "      <th></th>\n",
       "      <th>item_cnt_month</th>\n",
       "      <th>item_price</th>\n",
       "    </tr>\n",
       "    <tr>\n",
       "      <th>Month</th>\n",
       "      <th>shop_id</th>\n",
       "      <th>item_id</th>\n",
       "      <th></th>\n",
       "      <th></th>\n",
       "    </tr>\n",
       "  </thead>\n",
       "  <tbody>\n",
       "    <tr>\n",
       "      <th>2013-12</th>\n",
       "      <th>12</th>\n",
       "      <th>6066</th>\n",
       "      <td>1.0</td>\n",
       "      <td>307980.0</td>\n",
       "    </tr>\n",
       "  </tbody>\n",
       "</table>\n",
       "</div>"
      ],
      "text/plain": [
       "                         item_cnt_month  item_price\n",
       "Month   shop_id item_id                            \n",
       "2013-12 12      6066                1.0    307980.0"
      ]
     },
     "execution_count": 36,
     "metadata": {},
     "output_type": "execute_result"
    }
   ],
   "source": [
    "agg_sales.loc[idx_slice[:,:,6066], :]"
   ]
  },
  {
   "cell_type": "code",
   "execution_count": 37,
   "metadata": {},
   "outputs": [
    {
     "data": {
      "text/plain": [
       "False"
      ]
     },
     "execution_count": 37,
     "metadata": {},
     "output_type": "execute_result"
    }
   ],
   "source": [
    "(test_set.item_id == 6066).any()"
   ]
  },
  {
   "cell_type": "markdown",
   "metadata": {},
   "source": [
    "Only appears once, does not appear in test set - seems like an outlier; will drop"
   ]
  },
  {
   "cell_type": "code",
   "execution_count": 38,
   "metadata": {},
   "outputs": [
    {
     "data": {
      "text/html": [
       "<div>\n",
       "<style scoped>\n",
       "    .dataframe tbody tr th:only-of-type {\n",
       "        vertical-align: middle;\n",
       "    }\n",
       "\n",
       "    .dataframe tbody tr th {\n",
       "        vertical-align: top;\n",
       "    }\n",
       "\n",
       "    .dataframe thead th {\n",
       "        text-align: right;\n",
       "    }\n",
       "</style>\n",
       "<table border=\"1\" class=\"dataframe\">\n",
       "  <thead>\n",
       "    <tr style=\"text-align: right;\">\n",
       "      <th></th>\n",
       "      <th>item_name</th>\n",
       "      <th>item_id</th>\n",
       "      <th>item_category_id</th>\n",
       "    </tr>\n",
       "  </thead>\n",
       "  <tbody>\n",
       "    <tr>\n",
       "      <th>13199</th>\n",
       "      <td>Коллекционные шахматы (Властелин Колец)</td>\n",
       "      <td>13199</td>\n",
       "      <td>69</td>\n",
       "    </tr>\n",
       "  </tbody>\n",
       "</table>\n",
       "</div>"
      ],
      "text/plain": [
       "                                     item_name  item_id  item_category_id\n",
       "13199  Коллекционные шахматы (Властелин Колец)    13199                69"
      ]
     },
     "execution_count": 38,
     "metadata": {},
     "output_type": "execute_result"
    }
   ],
   "source": [
    "items.query('item_id == 13199')"
   ]
  },
  {
   "cell_type": "markdown",
   "metadata": {},
   "source": [
    "google says: 'Коллекционные шахматы (Властелин Колец)' --> 'Collective Chess (Lord of the Rings)'"
   ]
  },
  {
   "cell_type": "code",
   "execution_count": 39,
   "metadata": {},
   "outputs": [
    {
     "data": {
      "text/html": [
       "<div>\n",
       "<style scoped>\n",
       "    .dataframe tbody tr th:only-of-type {\n",
       "        vertical-align: middle;\n",
       "    }\n",
       "\n",
       "    .dataframe tbody tr th {\n",
       "        vertical-align: top;\n",
       "    }\n",
       "\n",
       "    .dataframe thead th {\n",
       "        text-align: right;\n",
       "    }\n",
       "</style>\n",
       "<table border=\"1\" class=\"dataframe\">\n",
       "  <thead>\n",
       "    <tr style=\"text-align: right;\">\n",
       "      <th></th>\n",
       "      <th>item_category_name</th>\n",
       "      <th>item_category_id</th>\n",
       "    </tr>\n",
       "  </thead>\n",
       "  <tbody>\n",
       "    <tr>\n",
       "      <th>69</th>\n",
       "      <td>Подарки - Сувениры</td>\n",
       "      <td>69</td>\n",
       "    </tr>\n",
       "  </tbody>\n",
       "</table>\n",
       "</div>"
      ],
      "text/plain": [
       "    item_category_name  item_category_id\n",
       "69  Подарки - Сувениры                69"
      ]
     },
     "execution_count": 39,
     "metadata": {},
     "output_type": "execute_result"
    }
   ],
   "source": [
    "categories.query('item_category_id == 69')"
   ]
  },
  {
   "cell_type": "markdown",
   "metadata": {},
   "source": [
    "google says: 'Подарки - Сувениры\t' --> 'Gifts - Souvenirs'"
   ]
  },
  {
   "cell_type": "code",
   "execution_count": 40,
   "metadata": {},
   "outputs": [],
   "source": [
    "idx_slice = pd.IndexSlice"
   ]
  },
  {
   "cell_type": "code",
   "execution_count": 41,
   "metadata": {},
   "outputs": [
    {
     "data": {
      "text/html": [
       "<div>\n",
       "<style scoped>\n",
       "    .dataframe tbody tr th:only-of-type {\n",
       "        vertical-align: middle;\n",
       "    }\n",
       "\n",
       "    .dataframe tbody tr th {\n",
       "        vertical-align: top;\n",
       "    }\n",
       "\n",
       "    .dataframe thead th {\n",
       "        text-align: right;\n",
       "    }\n",
       "</style>\n",
       "<table border=\"1\" class=\"dataframe\">\n",
       "  <thead>\n",
       "    <tr style=\"text-align: right;\">\n",
       "      <th></th>\n",
       "      <th></th>\n",
       "      <th></th>\n",
       "      <th>item_cnt_month</th>\n",
       "      <th>item_price</th>\n",
       "    </tr>\n",
       "    <tr>\n",
       "      <th>Month</th>\n",
       "      <th>shop_id</th>\n",
       "      <th>item_id</th>\n",
       "      <th></th>\n",
       "      <th></th>\n",
       "    </tr>\n",
       "  </thead>\n",
       "  <tbody>\n",
       "    <tr>\n",
       "      <th>2014-03</th>\n",
       "      <th>25</th>\n",
       "      <th>13199</th>\n",
       "      <td>1.0</td>\n",
       "      <td>50999.0</td>\n",
       "    </tr>\n",
       "  </tbody>\n",
       "</table>\n",
       "</div>"
      ],
      "text/plain": [
       "                         item_cnt_month  item_price\n",
       "Month   shop_id item_id                            \n",
       "2014-03 25      13199               1.0     50999.0"
      ]
     },
     "execution_count": 41,
     "metadata": {},
     "output_type": "execute_result"
    }
   ],
   "source": [
    "agg_sales.loc[idx_slice[:,:,13199], :]"
   ]
  },
  {
   "cell_type": "code",
   "execution_count": 42,
   "metadata": {},
   "outputs": [
    {
     "data": {
      "text/plain": [
       "False"
      ]
     },
     "execution_count": 42,
     "metadata": {},
     "output_type": "execute_result"
    }
   ],
   "source": [
    "(test_set.item_id == 13199).any()"
   ]
  },
  {
   "cell_type": "code",
   "execution_count": 43,
   "metadata": {},
   "outputs": [
    {
     "data": {
      "image/png": "[encoded data removed]",
      "text/plain": [
       "<Figure size 432x288 with 1 Axes>"
      ]
     },
     "metadata": {
      "needs_background": "light"
     },
     "output_type": "display_data"
    }
   ],
   "source": [
    "fig, ax = plt.subplots(1,1)\n",
    "ax.scatter(agg_sales_and_price.item_cnt_month, agg_sales_and_price.item_price)\n",
    "ax.set_xlim(-100, 4_000)\n",
    "ax.set_ylim(0, 55_000)\n",
    "ax.set_ylabel('price')\n",
    "ax.set_xlabel('count');"
   ]
  },
  {
   "cell_type": "markdown",
   "metadata": {},
   "source": [
    "No significant correlation"
   ]
  },
  {
   "cell_type": "code",
   "execution_count": 44,
   "metadata": {},
   "outputs": [
    {
     "data": {
      "text/html": [
       "<div>\n",
       "<style scoped>\n",
       "    .dataframe tbody tr th:only-of-type {\n",
       "        vertical-align: middle;\n",
       "    }\n",
       "\n",
       "    .dataframe tbody tr th {\n",
       "        vertical-align: top;\n",
       "    }\n",
       "\n",
       "    .dataframe thead th {\n",
       "        text-align: right;\n",
       "    }\n",
       "</style>\n",
       "<table border=\"1\" class=\"dataframe\">\n",
       "  <thead>\n",
       "    <tr style=\"text-align: right;\">\n",
       "      <th></th>\n",
       "      <th>item_cnt_month</th>\n",
       "      <th>item_price</th>\n",
       "    </tr>\n",
       "  </thead>\n",
       "  <tbody>\n",
       "    <tr>\n",
       "      <th>item_cnt_month</th>\n",
       "      <td>1.000000</td>\n",
       "      <td>0.030912</td>\n",
       "    </tr>\n",
       "    <tr>\n",
       "      <th>item_price</th>\n",
       "      <td>0.030912</td>\n",
       "      <td>1.000000</td>\n",
       "    </tr>\n",
       "  </tbody>\n",
       "</table>\n",
       "</div>"
      ],
      "text/plain": [
       "                item_cnt_month  item_price\n",
       "item_cnt_month        1.000000    0.030912\n",
       "item_price            0.030912    1.000000"
      ]
     },
     "execution_count": 44,
     "metadata": {},
     "output_type": "execute_result"
    }
   ],
   "source": [
    "agg_sales_and_price.corr()"
   ]
  },
  {
   "cell_type": "markdown",
   "metadata": {},
   "source": [
    "Now Drop the outlier identified above"
   ]
  },
  {
   "cell_type": "code",
   "execution_count": 45,
   "metadata": {},
   "outputs": [],
   "source": [
    "agg_sales = agg_sales.drop(6066, level=2)"
   ]
  },
  {
   "cell_type": "code",
   "execution_count": 46,
   "metadata": {},
   "outputs": [],
   "source": [
    "agg_sales_and_price = agg_sales.groupby(level=[0,2]).agg({'item_cnt_month':sum, 'item_price':max})"
   ]
  },
  {
   "cell_type": "code",
   "execution_count": 47,
   "metadata": {},
   "outputs": [
    {
     "data": {
      "text/plain": [
       "<matplotlib.collections.PathCollection at 0x29c893b9860>"
      ]
     },
     "execution_count": 47,
     "metadata": {},
     "output_type": "execute_result"
    },
    {
     "data": {
      "image/png": "[encoded data removed]",
      "text/plain": [
       "<Figure size 432x288 with 1 Axes>"
      ]
     },
     "metadata": {
      "needs_background": "light"
     },
     "output_type": "display_data"
    }
   ],
   "source": [
    "plt.scatter(agg_sales_and_price.item_cnt_month, agg_sales_and_price.item_price)"
   ]
  },
  {
   "cell_type": "markdown",
   "metadata": {},
   "source": [
    "## Explore categories"
   ]
  },
  {
   "cell_type": "code",
   "execution_count": 48,
   "metadata": {},
   "outputs": [
    {
     "data": {
      "text/html": [
       "<div>\n",
       "<style scoped>\n",
       "    .dataframe tbody tr th:only-of-type {\n",
       "        vertical-align: middle;\n",
       "    }\n",
       "\n",
       "    .dataframe tbody tr th {\n",
       "        vertical-align: top;\n",
       "    }\n",
       "\n",
       "    .dataframe thead th {\n",
       "        text-align: right;\n",
       "    }\n",
       "</style>\n",
       "<table border=\"1\" class=\"dataframe\">\n",
       "  <thead>\n",
       "    <tr style=\"text-align: right;\">\n",
       "      <th></th>\n",
       "      <th>item_name</th>\n",
       "      <th>item_id</th>\n",
       "      <th>item_category_id</th>\n",
       "    </tr>\n",
       "  </thead>\n",
       "  <tbody>\n",
       "    <tr>\n",
       "      <th>0</th>\n",
       "      <td>! ВО ВЛАСТИ НАВАЖДЕНИЯ (ПЛАСТ.)         D</td>\n",
       "      <td>0</td>\n",
       "      <td>40</td>\n",
       "    </tr>\n",
       "    <tr>\n",
       "      <th>1</th>\n",
       "      <td>!ABBYY FineReader 12 Professional Edition Full...</td>\n",
       "      <td>1</td>\n",
       "      <td>76</td>\n",
       "    </tr>\n",
       "    <tr>\n",
       "      <th>2</th>\n",
       "      <td>***В ЛУЧАХ СЛАВЫ   (UNV)                    D</td>\n",
       "      <td>2</td>\n",
       "      <td>40</td>\n",
       "    </tr>\n",
       "    <tr>\n",
       "      <th>3</th>\n",
       "      <td>***ГОЛУБАЯ ВОЛНА  (Univ)                      D</td>\n",
       "      <td>3</td>\n",
       "      <td>40</td>\n",
       "    </tr>\n",
       "    <tr>\n",
       "      <th>4</th>\n",
       "      <td>***КОРОБКА (СТЕКЛО)                       D</td>\n",
       "      <td>4</td>\n",
       "      <td>40</td>\n",
       "    </tr>\n",
       "  </tbody>\n",
       "</table>\n",
       "</div>"
      ],
      "text/plain": [
       "                                           item_name  item_id  \\\n",
       "0          ! ВО ВЛАСТИ НАВАЖДЕНИЯ (ПЛАСТ.)         D        0   \n",
       "1  !ABBYY FineReader 12 Professional Edition Full...        1   \n",
       "2      ***В ЛУЧАХ СЛАВЫ   (UNV)                    D        2   \n",
       "3    ***ГОЛУБАЯ ВОЛНА  (Univ)                      D        3   \n",
       "4        ***КОРОБКА (СТЕКЛО)                       D        4   \n",
       "\n",
       "   item_category_id  \n",
       "0                40  \n",
       "1                76  \n",
       "2                40  \n",
       "3                40  \n",
       "4                40  "
      ]
     },
     "execution_count": 48,
     "metadata": {},
     "output_type": "execute_result"
    }
   ],
   "source": [
    "items.head()"
   ]
  },
  {
   "cell_type": "code",
   "execution_count": 49,
   "metadata": {},
   "outputs": [
    {
     "data": {
      "text/html": [
       "<div>\n",
       "<style scoped>\n",
       "    .dataframe tbody tr th:only-of-type {\n",
       "        vertical-align: middle;\n",
       "    }\n",
       "\n",
       "    .dataframe tbody tr th {\n",
       "        vertical-align: top;\n",
       "    }\n",
       "\n",
       "    .dataframe thead th {\n",
       "        text-align: right;\n",
       "    }\n",
       "</style>\n",
       "<table border=\"1\" class=\"dataframe\">\n",
       "  <thead>\n",
       "    <tr style=\"text-align: right;\">\n",
       "      <th></th>\n",
       "      <th>item_category_name</th>\n",
       "      <th>item_category_id</th>\n",
       "    </tr>\n",
       "  </thead>\n",
       "  <tbody>\n",
       "    <tr>\n",
       "      <th>0</th>\n",
       "      <td>PC - Гарнитуры/Наушники</td>\n",
       "      <td>0</td>\n",
       "    </tr>\n",
       "    <tr>\n",
       "      <th>1</th>\n",
       "      <td>Аксессуары - PS2</td>\n",
       "      <td>1</td>\n",
       "    </tr>\n",
       "    <tr>\n",
       "      <th>2</th>\n",
       "      <td>Аксессуары - PS3</td>\n",
       "      <td>2</td>\n",
       "    </tr>\n",
       "    <tr>\n",
       "      <th>3</th>\n",
       "      <td>Аксессуары - PS4</td>\n",
       "      <td>3</td>\n",
       "    </tr>\n",
       "    <tr>\n",
       "      <th>4</th>\n",
       "      <td>Аксессуары - PSP</td>\n",
       "      <td>4</td>\n",
       "    </tr>\n",
       "  </tbody>\n",
       "</table>\n",
       "</div>"
      ],
      "text/plain": [
       "        item_category_name  item_category_id\n",
       "0  PC - Гарнитуры/Наушники                 0\n",
       "1         Аксессуары - PS2                 1\n",
       "2         Аксессуары - PS3                 2\n",
       "3         Аксессуары - PS4                 3\n",
       "4         Аксессуары - PSP                 4"
      ]
     },
     "execution_count": 49,
     "metadata": {},
     "output_type": "execute_result"
    }
   ],
   "source": [
    "categories.head()"
   ]
  },
  {
   "cell_type": "code",
   "execution_count": 50,
   "metadata": {},
   "outputs": [],
   "source": [
    "items_per_category = items.groupby('item_category_id').item_id.nunique().sort_values()"
   ]
  },
  {
   "cell_type": "code",
   "execution_count": 51,
   "metadata": {},
   "outputs": [
    {
     "data": {
      "text/plain": [
       "item_category_id\n",
       "79    1\n",
       "10    1\n",
       "51    1\n",
       "1     2\n",
       "50    2\n",
       "Name: item_id, dtype: int64"
      ]
     },
     "execution_count": 51,
     "metadata": {},
     "output_type": "execute_result"
    }
   ],
   "source": [
    "items_per_category.head()"
   ]
  },
  {
   "cell_type": "code",
   "execution_count": 52,
   "metadata": {},
   "outputs": [
    {
     "data": {
      "image/png": "[encoded data removed]",
      "text/plain": [
       "<Figure size 1152x576 with 1 Axes>"
      ]
     },
     "metadata": {
      "needs_background": "light"
     },
     "output_type": "display_data"
    }
   ],
   "source": [
    "items_per_category.plot(kind='bar',  figsize=(16,8));"
   ]
  },
  {
   "cell_type": "markdown",
   "metadata": {},
   "source": [
    "lets look at bigest category and see how sales are ditributed for items in that category"
   ]
  },
  {
   "cell_type": "code",
   "execution_count": 53,
   "metadata": {},
   "outputs": [],
   "source": [
    "cat40_items = items.query('item_category_id == 40').item_id.values"
   ]
  },
  {
   "cell_type": "code",
   "execution_count": 54,
   "metadata": {},
   "outputs": [],
   "source": [
    "idx = agg_sales.reset_index().item_id.isin(cat40_items)\n",
    "subset = agg_sales.loc[idx.values]"
   ]
  },
  {
   "cell_type": "code",
   "execution_count": 55,
   "metadata": {},
   "outputs": [
    {
     "data": {
      "text/plain": [
       "count    4964.000000\n",
       "mean      127.754029\n",
       "std       257.226029\n",
       "min         1.000000\n",
       "25%        13.000000\n",
       "50%        45.500000\n",
       "75%       114.000000\n",
       "max      3563.000000\n",
       "Name: item_cnt_month, dtype: float64"
      ]
     },
     "execution_count": 55,
     "metadata": {},
     "output_type": "execute_result"
    }
   ],
   "source": [
    "subset.groupby(level=2).item_cnt_month.sum().describe()"
   ]
  },
  {
   "cell_type": "markdown",
   "metadata": {},
   "source": [
    "It is a wide distribution"
   ]
  },
  {
   "cell_type": "code",
   "execution_count": 56,
   "metadata": {},
   "outputs": [
    {
     "data": {
      "text/html": [
       "<div>\n",
       "<style scoped>\n",
       "    .dataframe tbody tr th:only-of-type {\n",
       "        vertical-align: middle;\n",
       "    }\n",
       "\n",
       "    .dataframe tbody tr th {\n",
       "        vertical-align: top;\n",
       "    }\n",
       "\n",
       "    .dataframe thead th {\n",
       "        text-align: right;\n",
       "    }\n",
       "</style>\n",
       "<table border=\"1\" class=\"dataframe\">\n",
       "  <thead>\n",
       "    <tr style=\"text-align: right;\">\n",
       "      <th></th>\n",
       "      <th>item_category_name</th>\n",
       "      <th>item_category_id</th>\n",
       "    </tr>\n",
       "  </thead>\n",
       "  <tbody>\n",
       "    <tr>\n",
       "      <th>40</th>\n",
       "      <td>Кино - DVD</td>\n",
       "      <td>40</td>\n",
       "    </tr>\n",
       "  </tbody>\n",
       "</table>\n",
       "</div>"
      ],
      "text/plain": [
       "   item_category_name  item_category_id\n",
       "40         Кино - DVD                40"
      ]
     },
     "execution_count": 56,
     "metadata": {},
     "output_type": "execute_result"
    }
   ],
   "source": [
    "categories.query('item_category_id == 40')"
   ]
  },
  {
   "cell_type": "code",
   "execution_count": 57,
   "metadata": {},
   "outputs": [
    {
     "data": {
      "text/plain": [
       "<matplotlib.axes._subplots.AxesSubplot at 0x29c8df762e8>"
      ]
     },
     "execution_count": 57,
     "metadata": {},
     "output_type": "execute_result"
    },
    {
     "data": {
      "image/png": "[encoded data removed]",
      "text/plain": [
       "<Figure size 432x288 with 1 Axes>"
      ]
     },
     "metadata": {
      "needs_background": "light"
     },
     "output_type": "display_data"
    }
   ],
   "source": [
    "subset.groupby(level=0).item_cnt_month.sum().plot()"
   ]
  },
  {
   "cell_type": "markdown",
   "metadata": {},
   "source": [
    "No suprise here - DVD sales have defenitely gone down recently"
   ]
  },
  {
   "cell_type": "markdown",
   "metadata": {},
   "source": [
    "lets look second biggest category and see how sales are ditributed for items in that category"
   ]
  },
  {
   "cell_type": "code",
   "execution_count": 58,
   "metadata": {},
   "outputs": [],
   "source": [
    "cat55_items = items.query('item_category_id == 55').item_id.values"
   ]
  },
  {
   "cell_type": "code",
   "execution_count": 59,
   "metadata": {},
   "outputs": [],
   "source": [
    "idx = agg_sales.reset_index().item_id.isin(cat55_items)\n",
    "subset = agg_sales.loc[idx.values]"
   ]
  },
  {
   "cell_type": "code",
   "execution_count": 60,
   "metadata": {},
   "outputs": [
    {
     "data": {
      "text/plain": [
       "count    2327.000000\n",
       "mean      149.802750\n",
       "std       233.988183\n",
       "min         1.000000\n",
       "25%        17.000000\n",
       "50%        69.000000\n",
       "75%       186.000000\n",
       "max      2797.000000\n",
       "Name: item_cnt_month, dtype: float64"
      ]
     },
     "execution_count": 60,
     "metadata": {},
     "output_type": "execute_result"
    }
   ],
   "source": [
    "subset.groupby(level=2).item_cnt_month.sum().describe()"
   ]
  },
  {
   "cell_type": "markdown",
   "metadata": {},
   "source": [
    "It is a wide distribution"
   ]
  },
  {
   "cell_type": "code",
   "execution_count": 61,
   "metadata": {},
   "outputs": [
    {
     "data": {
      "text/html": [
       "<div>\n",
       "<style scoped>\n",
       "    .dataframe tbody tr th:only-of-type {\n",
       "        vertical-align: middle;\n",
       "    }\n",
       "\n",
       "    .dataframe tbody tr th {\n",
       "        vertical-align: top;\n",
       "    }\n",
       "\n",
       "    .dataframe thead th {\n",
       "        text-align: right;\n",
       "    }\n",
       "</style>\n",
       "<table border=\"1\" class=\"dataframe\">\n",
       "  <thead>\n",
       "    <tr style=\"text-align: right;\">\n",
       "      <th></th>\n",
       "      <th>item_category_name</th>\n",
       "      <th>item_category_id</th>\n",
       "    </tr>\n",
       "  </thead>\n",
       "  <tbody>\n",
       "    <tr>\n",
       "      <th>55</th>\n",
       "      <td>Музыка - CD локального производства</td>\n",
       "      <td>55</td>\n",
       "    </tr>\n",
       "  </tbody>\n",
       "</table>\n",
       "</div>"
      ],
      "text/plain": [
       "                     item_category_name  item_category_id\n",
       "55  Музыка - CD локального производства                55"
      ]
     },
     "execution_count": 61,
     "metadata": {},
     "output_type": "execute_result"
    }
   ],
   "source": [
    "categories.query('item_category_id == 55')"
   ]
  },
  {
   "cell_type": "code",
   "execution_count": 62,
   "metadata": {},
   "outputs": [
    {
     "data": {
      "text/plain": [
       "<matplotlib.axes._subplots.AxesSubplot at 0x29c8e1e54e0>"
      ]
     },
     "execution_count": 62,
     "metadata": {},
     "output_type": "execute_result"
    },
    {
     "data": {
      "image/png": "[encoded data removed]",
      "text/plain": [
       "<Figure size 432x288 with 1 Axes>"
      ]
     },
     "metadata": {
      "needs_background": "light"
     },
     "output_type": "display_data"
    }
   ],
   "source": [
    "subset.groupby(level=0).item_cnt_month.sum().plot()"
   ]
  },
  {
   "cell_type": "code",
   "execution_count": 63,
   "metadata": {},
   "outputs": [
    {
     "data": {
      "text/html": [
       "<div>\n",
       "<style scoped>\n",
       "    .dataframe tbody tr th:only-of-type {\n",
       "        vertical-align: middle;\n",
       "    }\n",
       "\n",
       "    .dataframe tbody tr th {\n",
       "        vertical-align: top;\n",
       "    }\n",
       "\n",
       "    .dataframe thead th {\n",
       "        text-align: right;\n",
       "    }\n",
       "</style>\n",
       "<table border=\"1\" class=\"dataframe\">\n",
       "  <thead>\n",
       "    <tr style=\"text-align: right;\">\n",
       "      <th></th>\n",
       "      <th></th>\n",
       "      <th></th>\n",
       "      <th>item_cnt_month</th>\n",
       "      <th>item_price</th>\n",
       "    </tr>\n",
       "    <tr>\n",
       "      <th>Month</th>\n",
       "      <th>shop_id</th>\n",
       "      <th>item_id</th>\n",
       "      <th></th>\n",
       "      <th></th>\n",
       "    </tr>\n",
       "  </thead>\n",
       "  <tbody>\n",
       "    <tr>\n",
       "      <th rowspan=\"5\" valign=\"top\">2013-01</th>\n",
       "      <th rowspan=\"5\" valign=\"top\">0</th>\n",
       "      <th>32</th>\n",
       "      <td>6.0</td>\n",
       "      <td>221.0</td>\n",
       "    </tr>\n",
       "    <tr>\n",
       "      <th>33</th>\n",
       "      <td>3.0</td>\n",
       "      <td>347.0</td>\n",
       "    </tr>\n",
       "    <tr>\n",
       "      <th>35</th>\n",
       "      <td>1.0</td>\n",
       "      <td>247.0</td>\n",
       "    </tr>\n",
       "    <tr>\n",
       "      <th>43</th>\n",
       "      <td>1.0</td>\n",
       "      <td>221.0</td>\n",
       "    </tr>\n",
       "    <tr>\n",
       "      <th>51</th>\n",
       "      <td>2.0</td>\n",
       "      <td>128.5</td>\n",
       "    </tr>\n",
       "    <tr>\n",
       "      <th>...</th>\n",
       "      <th>...</th>\n",
       "      <th>...</th>\n",
       "      <td>...</td>\n",
       "      <td>...</td>\n",
       "    </tr>\n",
       "    <tr>\n",
       "      <th rowspan=\"5\" valign=\"top\">2015-10</th>\n",
       "      <th rowspan=\"5\" valign=\"top\">59</th>\n",
       "      <th>22087</th>\n",
       "      <td>6.0</td>\n",
       "      <td>119.0</td>\n",
       "    </tr>\n",
       "    <tr>\n",
       "      <th>22088</th>\n",
       "      <td>2.0</td>\n",
       "      <td>119.0</td>\n",
       "    </tr>\n",
       "    <tr>\n",
       "      <th>22091</th>\n",
       "      <td>1.0</td>\n",
       "      <td>179.0</td>\n",
       "    </tr>\n",
       "    <tr>\n",
       "      <th>22100</th>\n",
       "      <td>1.0</td>\n",
       "      <td>629.0</td>\n",
       "    </tr>\n",
       "    <tr>\n",
       "      <th>22102</th>\n",
       "      <td>1.0</td>\n",
       "      <td>1250.0</td>\n",
       "    </tr>\n",
       "  </tbody>\n",
       "</table>\n",
       "<p>1609123 rows × 2 columns</p>\n",
       "</div>"
      ],
      "text/plain": [
       "                         item_cnt_month  item_price\n",
       "Month   shop_id item_id                            \n",
       "2013-01 0       32                  6.0       221.0\n",
       "                33                  3.0       347.0\n",
       "                35                  1.0       247.0\n",
       "                43                  1.0       221.0\n",
       "                51                  2.0       128.5\n",
       "...                                 ...         ...\n",
       "2015-10 59      22087               6.0       119.0\n",
       "                22088               2.0       119.0\n",
       "                22091               1.0       179.0\n",
       "                22100               1.0       629.0\n",
       "                22102               1.0      1250.0\n",
       "\n",
       "[1609123 rows x 2 columns]"
      ]
     },
     "execution_count": 63,
     "metadata": {},
     "output_type": "execute_result"
    }
   ],
   "source": [
    "agg_sales"
   ]
  },
  {
   "cell_type": "code",
   "execution_count": 64,
   "metadata": {},
   "outputs": [],
   "source": [
    "cat_annotated_agg_sales = pd.merge(agg_sales.reset_index(), items.drop('item_name', axis=1), on='item_id').set_index(['Month', 'shop_id', 'item_id'])"
   ]
  },
  {
   "cell_type": "code",
   "execution_count": 65,
   "metadata": {},
   "outputs": [
    {
     "data": {
      "text/html": [
       "<div>\n",
       "<style scoped>\n",
       "    .dataframe tbody tr th:only-of-type {\n",
       "        vertical-align: middle;\n",
       "    }\n",
       "\n",
       "    .dataframe tbody tr th {\n",
       "        vertical-align: top;\n",
       "    }\n",
       "\n",
       "    .dataframe thead th {\n",
       "        text-align: right;\n",
       "    }\n",
       "</style>\n",
       "<table border=\"1\" class=\"dataframe\">\n",
       "  <thead>\n",
       "    <tr style=\"text-align: right;\">\n",
       "      <th></th>\n",
       "      <th></th>\n",
       "      <th></th>\n",
       "      <th>item_cnt_month</th>\n",
       "      <th>item_price</th>\n",
       "      <th>item_category_id</th>\n",
       "    </tr>\n",
       "    <tr>\n",
       "      <th>Month</th>\n",
       "      <th>shop_id</th>\n",
       "      <th>item_id</th>\n",
       "      <th></th>\n",
       "      <th></th>\n",
       "      <th></th>\n",
       "    </tr>\n",
       "  </thead>\n",
       "  <tbody>\n",
       "    <tr>\n",
       "      <th rowspan=\"5\" valign=\"top\">2013-01</th>\n",
       "      <th>0</th>\n",
       "      <th>32</th>\n",
       "      <td>6.0</td>\n",
       "      <td>221.0</td>\n",
       "      <td>40</td>\n",
       "    </tr>\n",
       "    <tr>\n",
       "      <th>1</th>\n",
       "      <th>32</th>\n",
       "      <td>7.0</td>\n",
       "      <td>221.0</td>\n",
       "      <td>40</td>\n",
       "    </tr>\n",
       "    <tr>\n",
       "      <th>3</th>\n",
       "      <th>32</th>\n",
       "      <td>3.0</td>\n",
       "      <td>349.0</td>\n",
       "      <td>40</td>\n",
       "    </tr>\n",
       "    <tr>\n",
       "      <th>4</th>\n",
       "      <th>32</th>\n",
       "      <td>2.0</td>\n",
       "      <td>349.0</td>\n",
       "      <td>40</td>\n",
       "    </tr>\n",
       "    <tr>\n",
       "      <th>6</th>\n",
       "      <th>32</th>\n",
       "      <td>8.0</td>\n",
       "      <td>349.0</td>\n",
       "      <td>40</td>\n",
       "    </tr>\n",
       "  </tbody>\n",
       "</table>\n",
       "</div>"
      ],
      "text/plain": [
       "                         item_cnt_month  item_price  item_category_id\n",
       "Month   shop_id item_id                                              \n",
       "2013-01 0       32                  6.0       221.0                40\n",
       "        1       32                  7.0       221.0                40\n",
       "        3       32                  3.0       349.0                40\n",
       "        4       32                  2.0       349.0                40\n",
       "        6       32                  8.0       349.0                40"
      ]
     },
     "execution_count": 65,
     "metadata": {},
     "output_type": "execute_result"
    }
   ],
   "source": [
    "cat_annotated_agg_sales.head()"
   ]
  },
  {
   "cell_type": "code",
   "execution_count": 66,
   "metadata": {},
   "outputs": [
    {
     "data": {
      "text/plain": [
       "<matplotlib.axes._subplots.AxesSubplot at 0x29c8e426748>"
      ]
     },
     "execution_count": 66,
     "metadata": {},
     "output_type": "execute_result"
    },
    {
     "data": {
      "image/png": "[encoded data removed]",
      "text/plain": [
       "<Figure size 432x288 with 1 Axes>"
      ]
     },
     "metadata": {
      "needs_background": "light"
     },
     "output_type": "display_data"
    }
   ],
   "source": [
    "cat_annotated_agg_sales.groupby('item_category_id').item_cnt_month.sum().plot(kind='bar')"
   ]
  },
  {
   "cell_type": "markdown",
   "metadata": {},
   "source": [
    "## Explore test set"
   ]
  },
  {
   "cell_type": "code",
   "execution_count": 67,
   "metadata": {},
   "outputs": [
    {
     "data": {
      "text/plain": [
       "shop_id      42\n",
       "item_id    5100\n",
       "dtype: int64"
      ]
     },
     "execution_count": 67,
     "metadata": {},
     "output_type": "execute_result"
    }
   ],
   "source": [
    "test_set[['shop_id', 'item_id']].nunique()"
   ]
  },
  {
   "cell_type": "code",
   "execution_count": 68,
   "metadata": {},
   "outputs": [
    {
     "data": {
      "text/plain": [
       "shop_id\n",
       "2     5100\n",
       "3     5100\n",
       "4     5100\n",
       "5     5100\n",
       "6     5100\n",
       "7     5100\n",
       "10    5100\n",
       "12    5100\n",
       "14    5100\n",
       "15    5100\n",
       "16    5100\n",
       "18    5100\n",
       "19    5100\n",
       "21    5100\n",
       "22    5100\n",
       "24    5100\n",
       "25    5100\n",
       "26    5100\n",
       "28    5100\n",
       "31    5100\n",
       "34    5100\n",
       "35    5100\n",
       "36    5100\n",
       "37    5100\n",
       "38    5100\n",
       "39    5100\n",
       "41    5100\n",
       "42    5100\n",
       "44    5100\n",
       "45    5100\n",
       "46    5100\n",
       "47    5100\n",
       "48    5100\n",
       "49    5100\n",
       "50    5100\n",
       "52    5100\n",
       "53    5100\n",
       "55    5100\n",
       "56    5100\n",
       "57    5100\n",
       "58    5100\n",
       "59    5100\n",
       "Name: item_id, dtype: int64"
      ]
     },
     "execution_count": 68,
     "metadata": {},
     "output_type": "execute_result"
    }
   ],
   "source": [
    "test_set.groupby('shop_id').item_id.nunique()"
   ]
  },
  {
   "cell_type": "markdown",
   "metadata": {},
   "source": [
    "When performing validation, I must do it over a set that looks like this: same items for all shops (but not the full universe of items).\n",
    "\n",
    "I am creating such data frame now, that will be used to calculate error."
   ]
  },
  {
   "cell_type": "code",
   "execution_count": 69,
   "metadata": {},
   "outputs": [
    {
     "name": "stdout",
     "output_type": "stream",
     "text": [
      "Wall time: 16.1 s\n"
     ]
    }
   ],
   "source": [
    "%%time\n",
    "months = sorted(agg_sales.index.levels[0])\n",
    "submission_like_data  = {}\n",
    "for month in months:    \n",
    "    month_data = agg_sales.loc[month]\n",
    "    shops = set(month_data.index.get_level_values(0))\n",
    "    item_ids = set(month_data.index.get_level_values(1))\n",
    "\n",
    "    new_idx = pd.Index(product(shops, item_ids), name=month_data.index.name)\n",
    "    submission_like_data[month] = month_data.reindex(new_idx).fillna({'item_cnt_month':0, 'item_price':-1})"
   ]
  },
  {
   "cell_type": "code",
   "execution_count": 70,
   "metadata": {},
   "outputs": [],
   "source": [
    "submission_like_df = pd.concat(submission_like_data)\n",
    "submission_like_df.index.names = agg_sales.index.names"
   ]
  },
  {
   "cell_type": "code",
   "execution_count": 71,
   "metadata": {},
   "outputs": [
    {
     "data": {
      "text/plain": [
       "shop_id\n",
       "0     8115\n",
       "1     8115\n",
       "2     8115\n",
       "3     8115\n",
       "4     8115\n",
       "6     8115\n",
       "7     8115\n",
       "8     8115\n",
       "10    8115\n",
       "12    8115\n",
       "Name: item_id, dtype: int64"
      ]
     },
     "execution_count": 71,
     "metadata": {},
     "output_type": "execute_result"
    }
   ],
   "source": [
    "submission_like_df.loc[months[0]].reset_index().groupby('shop_id').item_id.nunique().head(10)"
   ]
  },
  {
   "cell_type": "markdown",
   "metadata": {},
   "source": [
    "# Feature Generation"
   ]
  },
  {
   "cell_type": "markdown",
   "metadata": {},
   "source": [
    "* is_december\n",
    "* is white_tshirt (20949)\n",
    "* split year into summer, holioday season, and other\n",
    "* categorical encode:\n",
    "    - encode shops by total profit\n",
    "    - encode shops by number of distinct iterms sold\n",
    "    - encode items by total profit\n",
    "    - encode item by number of shops sold in\n",
    "    - encode item by number times it sold (for different lags)\n",
    "    - encode item using category\n",
    "         * but first encode categories based on recent sales"
   ]
  },
  {
   "cell_type": "code",
   "execution_count": 72,
   "metadata": {},
   "outputs": [],
   "source": [
    "piv_agg_sales = agg_sales.item_cnt_month.unstack(level=0).fillna(0)"
   ]
  },
  {
   "cell_type": "code",
   "execution_count": 73,
   "metadata": {},
   "outputs": [
    {
     "data": {
      "text/html": [
       "<div>\n",
       "<style scoped>\n",
       "    .dataframe tbody tr th:only-of-type {\n",
       "        vertical-align: middle;\n",
       "    }\n",
       "\n",
       "    .dataframe tbody tr th {\n",
       "        vertical-align: top;\n",
       "    }\n",
       "\n",
       "    .dataframe thead th {\n",
       "        text-align: right;\n",
       "    }\n",
       "</style>\n",
       "<table border=\"1\" class=\"dataframe\">\n",
       "  <thead>\n",
       "    <tr style=\"text-align: right;\">\n",
       "      <th></th>\n",
       "      <th>Month</th>\n",
       "      <th>2013-01</th>\n",
       "      <th>2013-02</th>\n",
       "      <th>2013-03</th>\n",
       "      <th>2013-04</th>\n",
       "      <th>2013-05</th>\n",
       "      <th>2013-06</th>\n",
       "      <th>2013-07</th>\n",
       "      <th>2013-08</th>\n",
       "      <th>2013-09</th>\n",
       "      <th>2013-10</th>\n",
       "      <th>...</th>\n",
       "      <th>2015-01</th>\n",
       "      <th>2015-02</th>\n",
       "      <th>2015-03</th>\n",
       "      <th>2015-04</th>\n",
       "      <th>2015-05</th>\n",
       "      <th>2015-06</th>\n",
       "      <th>2015-07</th>\n",
       "      <th>2015-08</th>\n",
       "      <th>2015-09</th>\n",
       "      <th>2015-10</th>\n",
       "    </tr>\n",
       "    <tr>\n",
       "      <th>shop_id</th>\n",
       "      <th>item_id</th>\n",
       "      <th></th>\n",
       "      <th></th>\n",
       "      <th></th>\n",
       "      <th></th>\n",
       "      <th></th>\n",
       "      <th></th>\n",
       "      <th></th>\n",
       "      <th></th>\n",
       "      <th></th>\n",
       "      <th></th>\n",
       "      <th></th>\n",
       "      <th></th>\n",
       "      <th></th>\n",
       "      <th></th>\n",
       "      <th></th>\n",
       "      <th></th>\n",
       "      <th></th>\n",
       "      <th></th>\n",
       "      <th></th>\n",
       "      <th></th>\n",
       "      <th></th>\n",
       "    </tr>\n",
       "  </thead>\n",
       "  <tbody>\n",
       "    <tr>\n",
       "      <th rowspan=\"5\" valign=\"top\">0</th>\n",
       "      <th>32</th>\n",
       "      <td>6.0</td>\n",
       "      <td>10.0</td>\n",
       "      <td>0.0</td>\n",
       "      <td>0.0</td>\n",
       "      <td>0.0</td>\n",
       "      <td>0.0</td>\n",
       "      <td>0.0</td>\n",
       "      <td>0.0</td>\n",
       "      <td>0.0</td>\n",
       "      <td>0.0</td>\n",
       "      <td>...</td>\n",
       "      <td>0.0</td>\n",
       "      <td>0.0</td>\n",
       "      <td>0.0</td>\n",
       "      <td>0.0</td>\n",
       "      <td>0.0</td>\n",
       "      <td>0.0</td>\n",
       "      <td>0.0</td>\n",
       "      <td>0.0</td>\n",
       "      <td>0.0</td>\n",
       "      <td>0.0</td>\n",
       "    </tr>\n",
       "    <tr>\n",
       "      <th>33</th>\n",
       "      <td>3.0</td>\n",
       "      <td>3.0</td>\n",
       "      <td>0.0</td>\n",
       "      <td>0.0</td>\n",
       "      <td>0.0</td>\n",
       "      <td>0.0</td>\n",
       "      <td>0.0</td>\n",
       "      <td>0.0</td>\n",
       "      <td>0.0</td>\n",
       "      <td>0.0</td>\n",
       "      <td>...</td>\n",
       "      <td>0.0</td>\n",
       "      <td>0.0</td>\n",
       "      <td>0.0</td>\n",
       "      <td>0.0</td>\n",
       "      <td>0.0</td>\n",
       "      <td>0.0</td>\n",
       "      <td>0.0</td>\n",
       "      <td>0.0</td>\n",
       "      <td>0.0</td>\n",
       "      <td>0.0</td>\n",
       "    </tr>\n",
       "    <tr>\n",
       "      <th>35</th>\n",
       "      <td>1.0</td>\n",
       "      <td>14.0</td>\n",
       "      <td>0.0</td>\n",
       "      <td>0.0</td>\n",
       "      <td>0.0</td>\n",
       "      <td>0.0</td>\n",
       "      <td>0.0</td>\n",
       "      <td>0.0</td>\n",
       "      <td>0.0</td>\n",
       "      <td>0.0</td>\n",
       "      <td>...</td>\n",
       "      <td>0.0</td>\n",
       "      <td>0.0</td>\n",
       "      <td>0.0</td>\n",
       "      <td>0.0</td>\n",
       "      <td>0.0</td>\n",
       "      <td>0.0</td>\n",
       "      <td>0.0</td>\n",
       "      <td>0.0</td>\n",
       "      <td>0.0</td>\n",
       "      <td>0.0</td>\n",
       "    </tr>\n",
       "    <tr>\n",
       "      <th>43</th>\n",
       "      <td>1.0</td>\n",
       "      <td>0.0</td>\n",
       "      <td>0.0</td>\n",
       "      <td>0.0</td>\n",
       "      <td>0.0</td>\n",
       "      <td>0.0</td>\n",
       "      <td>0.0</td>\n",
       "      <td>0.0</td>\n",
       "      <td>0.0</td>\n",
       "      <td>0.0</td>\n",
       "      <td>...</td>\n",
       "      <td>0.0</td>\n",
       "      <td>0.0</td>\n",
       "      <td>0.0</td>\n",
       "      <td>0.0</td>\n",
       "      <td>0.0</td>\n",
       "      <td>0.0</td>\n",
       "      <td>0.0</td>\n",
       "      <td>0.0</td>\n",
       "      <td>0.0</td>\n",
       "      <td>0.0</td>\n",
       "    </tr>\n",
       "    <tr>\n",
       "      <th>51</th>\n",
       "      <td>2.0</td>\n",
       "      <td>3.0</td>\n",
       "      <td>0.0</td>\n",
       "      <td>0.0</td>\n",
       "      <td>0.0</td>\n",
       "      <td>0.0</td>\n",
       "      <td>0.0</td>\n",
       "      <td>0.0</td>\n",
       "      <td>0.0</td>\n",
       "      <td>0.0</td>\n",
       "      <td>...</td>\n",
       "      <td>0.0</td>\n",
       "      <td>0.0</td>\n",
       "      <td>0.0</td>\n",
       "      <td>0.0</td>\n",
       "      <td>0.0</td>\n",
       "      <td>0.0</td>\n",
       "      <td>0.0</td>\n",
       "      <td>0.0</td>\n",
       "      <td>0.0</td>\n",
       "      <td>0.0</td>\n",
       "    </tr>\n",
       "  </tbody>\n",
       "</table>\n",
       "<p>5 rows × 34 columns</p>\n",
       "</div>"
      ],
      "text/plain": [
       "Month            2013-01  2013-02  2013-03  2013-04  2013-05  2013-06  \\\n",
       "shop_id item_id                                                         \n",
       "0       32           6.0     10.0      0.0      0.0      0.0      0.0   \n",
       "        33           3.0      3.0      0.0      0.0      0.0      0.0   \n",
       "        35           1.0     14.0      0.0      0.0      0.0      0.0   \n",
       "        43           1.0      0.0      0.0      0.0      0.0      0.0   \n",
       "        51           2.0      3.0      0.0      0.0      0.0      0.0   \n",
       "\n",
       "Month            2013-07  2013-08  2013-09  2013-10  ...  2015-01  2015-02  \\\n",
       "shop_id item_id                                      ...                     \n",
       "0       32           0.0      0.0      0.0      0.0  ...      0.0      0.0   \n",
       "        33           0.0      0.0      0.0      0.0  ...      0.0      0.0   \n",
       "        35           0.0      0.0      0.0      0.0  ...      0.0      0.0   \n",
       "        43           0.0      0.0      0.0      0.0  ...      0.0      0.0   \n",
       "        51           0.0      0.0      0.0      0.0  ...      0.0      0.0   \n",
       "\n",
       "Month            2015-03  2015-04  2015-05  2015-06  2015-07  2015-08  \\\n",
       "shop_id item_id                                                         \n",
       "0       32           0.0      0.0      0.0      0.0      0.0      0.0   \n",
       "        33           0.0      0.0      0.0      0.0      0.0      0.0   \n",
       "        35           0.0      0.0      0.0      0.0      0.0      0.0   \n",
       "        43           0.0      0.0      0.0      0.0      0.0      0.0   \n",
       "        51           0.0      0.0      0.0      0.0      0.0      0.0   \n",
       "\n",
       "Month            2015-09  2015-10  \n",
       "shop_id item_id                    \n",
       "0       32           0.0      0.0  \n",
       "        33           0.0      0.0  \n",
       "        35           0.0      0.0  \n",
       "        43           0.0      0.0  \n",
       "        51           0.0      0.0  \n",
       "\n",
       "[5 rows x 34 columns]"
      ]
     },
     "execution_count": 73,
     "metadata": {},
     "output_type": "execute_result"
    }
   ],
   "source": [
    "piv_agg_sales.head()"
   ]
  },
  {
   "cell_type": "code",
   "execution_count": 74,
   "metadata": {},
   "outputs": [],
   "source": [
    "preprocessed_data = piv_agg_sales"
   ]
  },
  {
   "cell_type": "markdown",
   "metadata": {},
   "source": [
    "## Sales Moving Averages"
   ]
  },
  {
   "cell_type": "code",
   "execution_count": 75,
   "metadata": {},
   "outputs": [],
   "source": [
    "half_lifes = [1,2,3,6,9,12]"
   ]
  },
  {
   "cell_type": "code",
   "execution_count": 76,
   "metadata": {},
   "outputs": [
    {
     "name": "stdout",
     "output_type": "stream",
     "text": [
      "Wall time: 30.2 s\n"
     ]
    }
   ],
   "source": [
    "%%time\n",
    "sales_ewms_mean = {tau:preprocessed_data.ewm(halflife=tau, axis=1, min_periods=tau).mean() for tau in half_lifes}\n",
    "sales_ewms_std = {tau:preprocessed_data.ewm(halflife=tau, axis=1, min_periods=tau).std() for tau in half_lifes}"
   ]
  },
  {
   "cell_type": "code",
   "execution_count": 77,
   "metadata": {},
   "outputs": [
    {
     "name": "stdout",
     "output_type": "stream",
     "text": [
      "Wall time: 28.9 s\n"
     ]
    }
   ],
   "source": [
    "%%time\n",
    "prices = agg_sales.item_price.unstack(level=0).fillna(0)\n",
    "shop_monthly_income = (prices*preprocessed_data).groupby(level=0).transform('sum')\n",
    "item_monthly_income = (prices*preprocessed_data).groupby(level=1).transform('sum')\n",
    "items_income_ewms = {tau:item_monthly_income.ewm(halflife=tau, axis=1, min_periods=tau).mean() for tau in half_lifes}\n",
    "shops_income_ewms = {tau:shop_monthly_income.ewm(halflife=tau, axis=1, min_periods=tau).mean() for tau in half_lifes}"
   ]
  },
  {
   "cell_type": "markdown",
   "metadata": {},
   "source": [
    "### Rolling stats"
   ]
  },
  {
   "cell_type": "code",
   "execution_count": 78,
   "metadata": {},
   "outputs": [],
   "source": [
    "windows = [3,6,9,12]"
   ]
  },
  {
   "cell_type": "code",
   "execution_count": 79,
   "metadata": {},
   "outputs": [
    {
     "name": "stdout",
     "output_type": "stream",
     "text": [
      "Wall time: 2min 20s\n"
     ]
    }
   ],
   "source": [
    "%%time\n",
    "sales_rmin = {w:preprocessed_data.rolling(window=2, axis=1).min() for w in windows}\n",
    "sales_rmedian = {w:preprocessed_data.rolling(window=2, axis=1).median() for w in windows}\n",
    "sales_rmax = {w:preprocessed_data.rolling(window=2, axis=1).max() for w in windows}"
   ]
  },
  {
   "cell_type": "markdown",
   "metadata": {},
   "source": [
    "## Mean Encode Shops"
   ]
  },
  {
   "cell_type": "code",
   "execution_count": 80,
   "metadata": {},
   "outputs": [
    {
     "name": "stdout",
     "output_type": "stream",
     "text": [
      "Wall time: 29 s\n"
     ]
    }
   ],
   "source": [
    "%%time\n",
    "target_encode_shops_itemCounts = preprocessed_data.groupby(level=0).transform('sum')\n",
    "target_encode_shops_uniqueItems = preprocessed_data.groupby(level=0).transform(lambda x: (x>0).sum())\n",
    "\n",
    "targenc_shops_itemCounts_ewms = {tau:target_encode_shops_itemCounts.ewm(halflife=tau, axis=1, min_periods=tau).mean() for tau in half_lifes}\n",
    "targenc_shops_uniqueItems_ewms = {tau:target_encode_shops_uniqueItems.ewm(halflife=tau, axis=1, min_periods=tau).mean() for tau in half_lifes}"
   ]
  },
  {
   "cell_type": "markdown",
   "metadata": {},
   "source": [
    "## Encode Items"
   ]
  },
  {
   "cell_type": "markdown",
   "metadata": {},
   "source": [
    "First item map to category, and encode how many items in that category sold that month"
   ]
  },
  {
   "cell_type": "code",
   "execution_count": 81,
   "metadata": {},
   "outputs": [],
   "source": [
    "cat_sales = cat_annotated_agg_sales.groupby(['Month','item_category_id']).item_cnt_month.transform('sum')\n",
    "cat_sales = cat_sales.unstack(level=0).fillna(0)\n",
    "targenc_cat_sales = {tau:cat_sales.ewm(halflife=tau, axis=1, min_periods=tau).mean() for tau in half_lifes}"
   ]
  },
  {
   "cell_type": "code",
   "execution_count": 83,
   "metadata": {},
   "outputs": [],
   "source": [
    "did_item_sell_that_month = piv_agg_sales.groupby('item_id').transform('max').astype(bool).astype(int)\n",
    "sales_bool_rsum = {w:did_item_sell_that_month.rolling(window=w, axis=1).sum() for w in windows}"
   ]
  },
  {
   "cell_type": "code",
   "execution_count": 86,
   "metadata": {},
   "outputs": [],
   "source": [
    "target_encode_items_totalMonthCounts = preprocessed_data.groupby(level=1).transform('sum')\n",
    "targenc_items_totalMonthCounts_ewms = {tau:target_encode_items_totalMonthCounts.ewm(halflife=tau, axis=1, min_periods=tau).mean() for tau in half_lifes}"
   ]
  },
  {
   "cell_type": "markdown",
   "metadata": {},
   "source": [
    "## Putting Features together and adding date features"
   ]
  },
  {
   "cell_type": "code",
   "execution_count": 147,
   "metadata": {},
   "outputs": [],
   "source": [
    "sales_mean_features = {f'sales_ewms_mean_ewms{tau}': sales_ewms_mean[tau] for tau in half_lifes}\n",
    "sales_std_features = {f'sales_ewms_std_ewms{tau}': sales_ewms_std[tau] for tau in half_lifes}\n",
    "\n",
    "items_income_features = {f'items_income_ewms{tau}': items_income_ewms[tau] for tau in half_lifes}\n",
    "shops_income_features = {f'shops_income_ewms{tau}': shops_income_ewms[tau] for tau in half_lifes}\n",
    "\n",
    "sales_rmin_features = {f'sales_rmin{w}':sales_rmin[w] for w in windows}\n",
    "sales_rmedian_features = {f'sales_rmed{w}':sales_rmedian[w] for w in windows}\n",
    "sales_rmax_features = {f'sales_rmax{w}':sales_rmax[w] for w in windows}\n",
    "\n",
    "targenc_shops_itemCounts_feats = {f'targenc_shops_itmCnts_ewms{tau}':targenc_shops_itemCounts_ewms[tau] for tau in half_lifes}\n",
    "targenc_shops_uniqueItems_feats = {f'targenc_shops_uniqItms_ewms_{tau}':targenc_shops_uniqueItems_ewms[tau] for tau in half_lifes}\n",
    "\n",
    "targenc_cat_sales_feats = {f'targenc_items_catMonthSales_ewms{tau}':targenc_cat_sales[tau] for tau in half_lifes}\n",
    "sales_bool_rsum_feats = {f'targenc_items_boolMonthSales_rsum{w}':sales_bool_rsum[w] for w in windows}\n",
    "targenc_items_totalMonthCounts_ewms_feats = {f'targenc_items_totalMnthCnt_ewms{tau}':targenc_items_totalMonthCounts_ewms[tau] for tau in half_lifes}\n",
    "\n",
    "features_dict = {**sales_mean_features, **sales_std_features,\n",
    "                 **items_income_features, **shops_income_features,\n",
    "                 **sales_rmin_features, **sales_rmedian_features, **sales_rmax_features,\n",
    "                 **targenc_shops_itemCounts_feats, **targenc_shops_uniqueItems_feats,\n",
    "                 **targenc_cat_sales_feats, **sales_bool_rsum_feats, **targenc_items_totalMonthCounts_ewms_feats\n",
    "                }"
   ]
  },
  {
   "cell_type": "markdown",
   "metadata": {},
   "source": [
    "### Creating Objective"
   ]
  },
  {
   "cell_type": "code",
   "execution_count": 88,
   "metadata": {},
   "outputs": [],
   "source": [
    "# Note that I use raw-data for objective \n",
    "objectives = piv_agg_sales.shift(-1, axis=1)"
   ]
  },
  {
   "cell_type": "markdown",
   "metadata": {},
   "source": [
    "Helper function to get features for a single month of data"
   ]
  },
  {
   "cell_type": "code",
   "execution_count": 89,
   "metadata": {},
   "outputs": [],
   "source": [
    "all_months = preprocessed_data.columns.tolist()\n",
    "obj_month_map = dict(zip(all_months[:-1], all_months[1:]))\n",
    "\n",
    "def get_single_month_XY(month_, drop_cols = None, num_lagged_values=0):\n",
    "    cols = [df[month_].rename(name) for (name, df) in features_dict.items()]\n",
    "    X = pd.concat(cols, axis=1)\n",
    "    Y = objectives[month_]\n",
    "    submission_Y = submission_like_df.item_cnt_month.loc[obj_month_map[month_]]\n",
    "    \n",
    "    if num_lagged_values > 0:\n",
    "        idx = np.argmax(preprocessed_data.columns == month_)\n",
    "        assert idx >= num_lagged_values, \"do not have enough columns for desired lags\"\n",
    "        lagged_vals = preprocessed_data.iloc[:,idx-num_lagged_values:idx]\n",
    "        lagged_vals.columns = [f'lag{lag}' for lag in list(range(1,num_lagged_values+1))[::-1]]\n",
    "        X = pd.concat([X,lagged_vals], axis=1)\n",
    "    \n",
    "    # might turn this into separate function to pass into here\n",
    "    X['month'] = month_.month\n",
    "    X['season'] = X.month.map({1:0, 2:0, 3:0, 4:1, 5:1, 6:1, 7:1, 8:2, 9:2, 10:2, 11:3, 12:3})\n",
    "    X['winter'] = X.month.map({**dict(zip([4,5,6,7,8,9,10], [False]*7)), **dict(zip([1,2,3,11,12], [True]*5))})\n",
    "    \n",
    "    if drop_cols is not None:\n",
    "        X = X.drop(drop_cols, axis=1)\n",
    "    \n",
    "    X = pd.concat([X], keys=[month_], names=['Period'])\n",
    "    Y = pd.concat([Y], keys=[month_], names=['Period'])\n",
    "    submission_Y = pd.concat([submission_Y], keys=[month_], names=['Period'])\n",
    "    \n",
    "    return X,Y, submission_Y"
   ]
  },
  {
   "cell_type": "markdown",
   "metadata": {},
   "source": [
    "# Train Simple Model"
   ]
  },
  {
   "cell_type": "code",
   "execution_count": 168,
   "metadata": {},
   "outputs": [],
   "source": [
    "from sklearn.ensemble import RandomForestRegressor\n",
    "from sklearn.metrics import mean_squared_error"
   ]
  },
  {
   "cell_type": "code",
   "execution_count": 161,
   "metadata": {},
   "outputs": [],
   "source": [
    "def fit_and_predict(model, x_train, y_train, x_val = None):\n",
    "    \n",
    "    start_time = time.time()\n",
    "    fitted_model = model.fit(x_train, y_train)\n",
    "    fit_time = time.time() - start_time\n",
    "    fitted_model.col_names = x_train.columns\n",
    "    \n",
    "    y_train_pred = fitted_model.predict(x_train)\n",
    "    \n",
    "    if x_val is not None:\n",
    "        y_val_pred = fitted_model.predict(x_val)\n",
    "    else:\n",
    "        y_val_pred = None\n",
    "        \n",
    "    return fitted_model, y_train_pred, y_val_pred, fit_time"
   ]
  },
  {
   "cell_type": "code",
   "execution_count": 162,
   "metadata": {},
   "outputs": [],
   "source": [
    "def plot_feature_importances(mod, figsize=(6,10)):\n",
    "    plt.figure(figsize=figsize)\n",
    "    importances = mod.feature_importances_\n",
    "    if type(importances) == pd.Series:\n",
    "        importances.sort_values().plot(kind='barh')\n",
    "    else:\n",
    "        pd.Series(importances, index=mod.col_names).sort_values().plot(kind='barh')\n"
   ]
  },
  {
   "cell_type": "code",
   "execution_count": 163,
   "metadata": {},
   "outputs": [],
   "source": [
    "def conform_to_subY(x, y_pred, y_sub_ser, fill_value=0):\n",
    "    y_pred_ser = pd.Series(y_pred, index=x.index)\n",
    "    y_pred_ser = y_pred_ser.reindex(y_sub_ser.index).fillna(0)\n",
    "    return y_pred_ser\n",
    "    "
   ]
  },
  {
   "cell_type": "code",
   "execution_count": 164,
   "metadata": {},
   "outputs": [
    {
     "name": "stdout",
     "output_type": "stream",
     "text": [
      "Wall time: 37.4 s\n"
     ]
    }
   ],
   "source": [
    "%%time\n",
    "X_train, Y_train, Y_sub = get_single_month_XY(months[15])"
   ]
  },
  {
   "cell_type": "code",
   "execution_count": 165,
   "metadata": {},
   "outputs": [
    {
     "data": {
      "text/html": [
       "<div>\n",
       "<style scoped>\n",
       "    .dataframe tbody tr th:only-of-type {\n",
       "        vertical-align: middle;\n",
       "    }\n",
       "\n",
       "    .dataframe tbody tr th {\n",
       "        vertical-align: top;\n",
       "    }\n",
       "\n",
       "    .dataframe thead th {\n",
       "        text-align: right;\n",
       "    }\n",
       "</style>\n",
       "<table border=\"1\" class=\"dataframe\">\n",
       "  <thead>\n",
       "    <tr style=\"text-align: right;\">\n",
       "      <th></th>\n",
       "      <th></th>\n",
       "      <th></th>\n",
       "      <th>sales_ewms_mean_ewms1</th>\n",
       "      <th>sales_ewms_mean_ewms2</th>\n",
       "      <th>sales_ewms_mean_ewms3</th>\n",
       "      <th>sales_ewms_mean_ewms6</th>\n",
       "      <th>sales_ewms_mean_ewms9</th>\n",
       "      <th>sales_ewms_mean_ewms12</th>\n",
       "      <th>sales_ewms_std_ewms1</th>\n",
       "      <th>sales_ewms_std_ewms2</th>\n",
       "      <th>sales_ewms_std_ewms3</th>\n",
       "      <th>sales_ewms_std_ewms6</th>\n",
       "      <th>...</th>\n",
       "      <th>targenc_items_boolMonthSales_rsum12</th>\n",
       "      <th>targenc_items_totalMnthCnt_ewms1</th>\n",
       "      <th>targenc_items_totalMnthCnt_ewms2</th>\n",
       "      <th>targenc_items_totalMnthCnt_ewms3</th>\n",
       "      <th>targenc_items_totalMnthCnt_ewms6</th>\n",
       "      <th>targenc_items_totalMnthCnt_ewms9</th>\n",
       "      <th>targenc_items_totalMnthCnt_ewms12</th>\n",
       "      <th>month</th>\n",
       "      <th>season</th>\n",
       "      <th>winter</th>\n",
       "    </tr>\n",
       "    <tr>\n",
       "      <th>Period</th>\n",
       "      <th>shop_id</th>\n",
       "      <th>item_id</th>\n",
       "      <th></th>\n",
       "      <th></th>\n",
       "      <th></th>\n",
       "      <th></th>\n",
       "      <th></th>\n",
       "      <th></th>\n",
       "      <th></th>\n",
       "      <th></th>\n",
       "      <th></th>\n",
       "      <th></th>\n",
       "      <th></th>\n",
       "      <th></th>\n",
       "      <th></th>\n",
       "      <th></th>\n",
       "      <th></th>\n",
       "      <th></th>\n",
       "      <th></th>\n",
       "      <th></th>\n",
       "      <th></th>\n",
       "      <th></th>\n",
       "      <th></th>\n",
       "    </tr>\n",
       "  </thead>\n",
       "  <tbody>\n",
       "    <tr>\n",
       "      <th rowspan=\"5\" valign=\"top\">2014-04</th>\n",
       "      <th rowspan=\"5\" valign=\"top\">0</th>\n",
       "      <th>30</th>\n",
       "      <td>0.000946</td>\n",
       "      <td>0.071213</td>\n",
       "      <td>0.258203</td>\n",
       "      <td>0.796550</td>\n",
       "      <td>1.103571</td>\n",
       "      <td>1.284981</td>\n",
       "      <td>0.209741</td>\n",
       "      <td>1.631878</td>\n",
       "      <td>3.004810</td>\n",
       "      <td>5.111737</td>\n",
       "      <td>...</td>\n",
       "      <td>12.0</td>\n",
       "      <td>27.487633</td>\n",
       "      <td>35.127183</td>\n",
       "      <td>45.606266</td>\n",
       "      <td>71.207443</td>\n",
       "      <td>84.852570</td>\n",
       "      <td>92.722723</td>\n",
       "      <td>4</td>\n",
       "      <td>1</td>\n",
       "      <td>False</td>\n",
       "    </tr>\n",
       "    <tr>\n",
       "      <th>31</th>\n",
       "      <td>0.000336</td>\n",
       "      <td>0.025269</td>\n",
       "      <td>0.091620</td>\n",
       "      <td>0.282647</td>\n",
       "      <td>0.391590</td>\n",
       "      <td>0.455961</td>\n",
       "      <td>0.074424</td>\n",
       "      <td>0.579054</td>\n",
       "      <td>1.066223</td>\n",
       "      <td>1.813842</td>\n",
       "      <td>...</td>\n",
       "      <td>12.0</td>\n",
       "      <td>17.531334</td>\n",
       "      <td>20.208299</td>\n",
       "      <td>26.257345</td>\n",
       "      <td>41.838252</td>\n",
       "      <td>50.252393</td>\n",
       "      <td>55.125084</td>\n",
       "      <td>4</td>\n",
       "      <td>1</td>\n",
       "      <td>False</td>\n",
       "    </tr>\n",
       "    <tr>\n",
       "      <th>32</th>\n",
       "      <td>0.000397</td>\n",
       "      <td>0.032718</td>\n",
       "      <td>0.122956</td>\n",
       "      <td>0.394302</td>\n",
       "      <td>0.553752</td>\n",
       "      <td>0.649257</td>\n",
       "      <td>0.073495</td>\n",
       "      <td>0.589200</td>\n",
       "      <td>1.095871</td>\n",
       "      <td>1.875348</td>\n",
       "      <td>...</td>\n",
       "      <td>12.0</td>\n",
       "      <td>42.295003</td>\n",
       "      <td>53.773216</td>\n",
       "      <td>61.745343</td>\n",
       "      <td>75.659322</td>\n",
       "      <td>82.259757</td>\n",
       "      <td>85.972806</td>\n",
       "      <td>4</td>\n",
       "      <td>1</td>\n",
       "      <td>False</td>\n",
       "    </tr>\n",
       "    <tr>\n",
       "      <th>33</th>\n",
       "      <td>0.000137</td>\n",
       "      <td>0.011765</td>\n",
       "      <td>0.044820</td>\n",
       "      <td>0.145761</td>\n",
       "      <td>0.205678</td>\n",
       "      <td>0.241727</td>\n",
       "      <td>0.024859</td>\n",
       "      <td>0.206169</td>\n",
       "      <td>0.388150</td>\n",
       "      <td>0.672201</td>\n",
       "      <td>...</td>\n",
       "      <td>12.0</td>\n",
       "      <td>24.866758</td>\n",
       "      <td>28.447256</td>\n",
       "      <td>30.009180</td>\n",
       "      <td>31.726770</td>\n",
       "      <td>32.325485</td>\n",
       "      <td>32.629443</td>\n",
       "      <td>4</td>\n",
       "      <td>1</td>\n",
       "      <td>False</td>\n",
       "    </tr>\n",
       "    <tr>\n",
       "      <th>35</th>\n",
       "      <td>0.000443</td>\n",
       "      <td>0.033785</td>\n",
       "      <td>0.123219</td>\n",
       "      <td>0.382624</td>\n",
       "      <td>0.531347</td>\n",
       "      <td>0.619438</td>\n",
       "      <td>0.094842</td>\n",
       "      <td>0.738221</td>\n",
       "      <td>1.359115</td>\n",
       "      <td>2.309914</td>\n",
       "      <td>...</td>\n",
       "      <td>1.0</td>\n",
       "      <td>0.256229</td>\n",
       "      <td>0.682707</td>\n",
       "      <td>1.916077</td>\n",
       "      <td>5.622016</td>\n",
       "      <td>7.788408</td>\n",
       "      <td>9.082275</td>\n",
       "      <td>4</td>\n",
       "      <td>1</td>\n",
       "      <td>False</td>\n",
       "    </tr>\n",
       "  </tbody>\n",
       "</table>\n",
       "<p>5 rows × 67 columns</p>\n",
       "</div>"
      ],
      "text/plain": [
       "                         sales_ewms_mean_ewms1  sales_ewms_mean_ewms2  \\\n",
       "Period  shop_id item_id                                                 \n",
       "2014-04 0       30                    0.000946               0.071213   \n",
       "                31                    0.000336               0.025269   \n",
       "                32                    0.000397               0.032718   \n",
       "                33                    0.000137               0.011765   \n",
       "                35                    0.000443               0.033785   \n",
       "\n",
       "                         sales_ewms_mean_ewms3  sales_ewms_mean_ewms6  \\\n",
       "Period  shop_id item_id                                                 \n",
       "2014-04 0       30                    0.258203               0.796550   \n",
       "                31                    0.091620               0.282647   \n",
       "                32                    0.122956               0.394302   \n",
       "                33                    0.044820               0.145761   \n",
       "                35                    0.123219               0.382624   \n",
       "\n",
       "                         sales_ewms_mean_ewms9  sales_ewms_mean_ewms12  \\\n",
       "Period  shop_id item_id                                                  \n",
       "2014-04 0       30                    1.103571                1.284981   \n",
       "                31                    0.391590                0.455961   \n",
       "                32                    0.553752                0.649257   \n",
       "                33                    0.205678                0.241727   \n",
       "                35                    0.531347                0.619438   \n",
       "\n",
       "                         sales_ewms_std_ewms1  sales_ewms_std_ewms2  \\\n",
       "Period  shop_id item_id                                               \n",
       "2014-04 0       30                   0.209741              1.631878   \n",
       "                31                   0.074424              0.579054   \n",
       "                32                   0.073495              0.589200   \n",
       "                33                   0.024859              0.206169   \n",
       "                35                   0.094842              0.738221   \n",
       "\n",
       "                         sales_ewms_std_ewms3  sales_ewms_std_ewms6  ...  \\\n",
       "Period  shop_id item_id                                              ...   \n",
       "2014-04 0       30                   3.004810              5.111737  ...   \n",
       "                31                   1.066223              1.813842  ...   \n",
       "                32                   1.095871              1.875348  ...   \n",
       "                33                   0.388150              0.672201  ...   \n",
       "                35                   1.359115              2.309914  ...   \n",
       "\n",
       "                         targenc_items_boolMonthSales_rsum12  \\\n",
       "Period  shop_id item_id                                        \n",
       "2014-04 0       30                                      12.0   \n",
       "                31                                      12.0   \n",
       "                32                                      12.0   \n",
       "                33                                      12.0   \n",
       "                35                                       1.0   \n",
       "\n",
       "                         targenc_items_totalMnthCnt_ewms1  \\\n",
       "Period  shop_id item_id                                     \n",
       "2014-04 0       30                              27.487633   \n",
       "                31                              17.531334   \n",
       "                32                              42.295003   \n",
       "                33                              24.866758   \n",
       "                35                               0.256229   \n",
       "\n",
       "                         targenc_items_totalMnthCnt_ewms2  \\\n",
       "Period  shop_id item_id                                     \n",
       "2014-04 0       30                              35.127183   \n",
       "                31                              20.208299   \n",
       "                32                              53.773216   \n",
       "                33                              28.447256   \n",
       "                35                               0.682707   \n",
       "\n",
       "                         targenc_items_totalMnthCnt_ewms3  \\\n",
       "Period  shop_id item_id                                     \n",
       "2014-04 0       30                              45.606266   \n",
       "                31                              26.257345   \n",
       "                32                              61.745343   \n",
       "                33                              30.009180   \n",
       "                35                               1.916077   \n",
       "\n",
       "                         targenc_items_totalMnthCnt_ewms6  \\\n",
       "Period  shop_id item_id                                     \n",
       "2014-04 0       30                              71.207443   \n",
       "                31                              41.838252   \n",
       "                32                              75.659322   \n",
       "                33                              31.726770   \n",
       "                35                               5.622016   \n",
       "\n",
       "                         targenc_items_totalMnthCnt_ewms9  \\\n",
       "Period  shop_id item_id                                     \n",
       "2014-04 0       30                              84.852570   \n",
       "                31                              50.252393   \n",
       "                32                              82.259757   \n",
       "                33                              32.325485   \n",
       "                35                               7.788408   \n",
       "\n",
       "                         targenc_items_totalMnthCnt_ewms12  month  season  \\\n",
       "Period  shop_id item_id                                                     \n",
       "2014-04 0       30                               92.722723      4       1   \n",
       "                31                               55.125084      4       1   \n",
       "                32                               85.972806      4       1   \n",
       "                33                               32.629443      4       1   \n",
       "                35                                9.082275      4       1   \n",
       "\n",
       "                         winter  \n",
       "Period  shop_id item_id          \n",
       "2014-04 0       30        False  \n",
       "                31        False  \n",
       "                32        False  \n",
       "                33        False  \n",
       "                35        False  \n",
       "\n",
       "[5 rows x 67 columns]"
      ]
     },
     "execution_count": 165,
     "metadata": {},
     "output_type": "execute_result"
    }
   ],
   "source": [
    "X_train.head()"
   ]
  },
  {
   "cell_type": "code",
   "execution_count": 166,
   "metadata": {},
   "outputs": [
    {
     "data": {
      "text/plain": [
       "Period   shop_id  item_id\n",
       "2014-04  0        32         0.0\n",
       "                  33         0.0\n",
       "                  35         0.0\n",
       "                  43         0.0\n",
       "                  51         0.0\n",
       "Name: 2014-04, dtype: float64"
      ]
     },
     "execution_count": 166,
     "metadata": {},
     "output_type": "execute_result"
    }
   ],
   "source": [
    "Y_train.head()"
   ]
  },
  {
   "cell_type": "code",
   "execution_count": 167,
   "metadata": {},
   "outputs": [
    {
     "data": {
      "text/plain": [
       "Period   shop_id  item_id\n",
       "2014-04  2        27         0.0\n",
       "                  30         1.0\n",
       "                  31         1.0\n",
       "                  32         0.0\n",
       "                  33         0.0\n",
       "Name: item_cnt_month, dtype: float64"
      ]
     },
     "execution_count": 167,
     "metadata": {},
     "output_type": "execute_result"
    }
   ],
   "source": [
    "Y_sub.head()"
   ]
  },
  {
   "cell_type": "markdown",
   "metadata": {},
   "source": [
    "Try simple random forrest"
   ]
  },
  {
   "cell_type": "code",
   "execution_count": 169,
   "metadata": {},
   "outputs": [],
   "source": [
    "mod = RandomForestRegressor(n_estimators=50, max_depth=5, n_jobs=-1)\n",
    "fitted, ytpred, yvpred, elapsed = fit_and_predict(mod, X_train,Y_train)"
   ]
  },
  {
   "cell_type": "code",
   "execution_count": 170,
   "metadata": {},
   "outputs": [
    {
     "data": {
      "text/plain": [
       "(47.10300850868225, 2.1230696015172774)"
      ]
     },
     "execution_count": 170,
     "metadata": {},
     "output_type": "execute_result"
    }
   ],
   "source": [
    "elapsed, np.sqrt(mean_squared_error(Y_train, ytpred))"
   ]
  },
  {
   "cell_type": "code",
   "execution_count": 173,
   "metadata": {},
   "outputs": [],
   "source": [
    "ytsub = conform_to_subY(X_train, ytpred, Y_sub)"
   ]
  },
  {
   "cell_type": "code",
   "execution_count": 176,
   "metadata": {},
   "outputs": [
    {
     "data": {
      "text/plain": [
       "2.630582203325834"
      ]
     },
     "execution_count": 176,
     "metadata": {},
     "output_type": "execute_result"
    }
   ],
   "source": [
    "np.sqrt(mean_squared_error(Y_sub, ytsub))"
   ]
  },
  {
   "cell_type": "code",
   "execution_count": 177,
   "metadata": {},
   "outputs": [
    {
     "data": {
      "image/png": "[encoded data removed]",
      "text/plain": [
       "<Figure size 432x720 with 1 Axes>"
      ]
     },
     "metadata": {
      "needs_background": "light"
     },
     "output_type": "display_data"
    }
   ],
   "source": [
    "plot_feature_importances(fitted)"
   ]
  },
  {
   "cell_type": "code",
   "execution_count": 178,
   "metadata": {},
   "outputs": [],
   "source": [
    "import xgboost as xgb\n",
    "\n",
    "class xgb_model:\n",
    "    def __init__(self, num_boost_round, **params):\n",
    "        self.params = {\n",
    "            'max_depth':6,\n",
    "            'min_child_weight': 1,\n",
    "            'eta':.3,\n",
    "            'subsample': 0.8,\n",
    "            'colsample_bytree': 0.8,\n",
    "            'lambda':1,\n",
    "            'gamma':0.1,\n",
    "            'objective':'reg:squarederror',\n",
    "            # leave nthread default - detects all cores automatically\n",
    "        }\n",
    "        self.params.update(params)\n",
    "        self.fitted_model = None\n",
    "        self.num_boost_round = num_boost_round\n",
    "       \n",
    "    def fit(self, X, Y):\n",
    "        dm_train = xgb.DMatrix(X,Y)\n",
    "        self.fitted_model = xgb.train(self.params, dtrain=dm_train, num_boost_round=self.num_boost_round)\n",
    "        return self\n",
    "    \n",
    "    def predict(self, X):\n",
    "        assert self.fitted_model is not None, 'Must fit first'\n",
    "        dm = xgb.DMatrix(X)\n",
    "        return self.fitted_model.predict(dm)\n",
    "    \n",
    "    @property\n",
    "    def feature_importances_(self):\n",
    "        return pd.Series(self.fitted_model.get_score(importance_type='weight'))"
   ]
  },
  {
   "cell_type": "code",
   "execution_count": 179,
   "metadata": {},
   "outputs": [],
   "source": [
    "mod = xgb_model(num_boost_round=50, max_depth=10, eta=0.2)\n",
    "fitted, ytpred, yvpred, elapsed = fit_and_predict(mod, X_train,Y_train)"
   ]
  },
  {
   "cell_type": "code",
   "execution_count": 184,
   "metadata": {},
   "outputs": [
    {
     "data": {
      "text/plain": [
       "(20.985515832901, 2.964144156925987)"
      ]
     },
     "execution_count": 184,
     "metadata": {},
     "output_type": "execute_result"
    }
   ],
   "source": [
    "elapsed, np.sqrt(mean_squared_error(Y_sub, conform_to_subY(X_train, ytpred, Y_sub)))"
   ]
  },
  {
   "cell_type": "markdown",
   "metadata": {},
   "source": [
    "# Rolling Cross Validation"
   ]
  },
  {
   "cell_type": "markdown",
   "metadata": {},
   "source": [
    "Description if Cross of Model Fit and Cross Validation:"
   ]
  },
  {
   "cell_type": "code",
   "execution_count": 188,
   "metadata": {},
   "outputs": [],
   "source": [
    "def rolling_cross_validation(model, data_months_list, post_process_preds = None, num_lagged_values=12, validate_months_num=None, num_stack_months=1, pred_fill_value=0, fit_final=False, drop_cols=None):\n",
    "    if post_process_preds is None:\n",
    "        post_process_preds = lambda x: x\n",
    "        \n",
    "    Xs_deque = deque()\n",
    "    Ys_deque = deque()\n",
    "    Ysubs_deque = deque()\n",
    "    \n",
    "    for month in data_months_list[:num_stack_months]:\n",
    "        X_, Y_, Ysub_= get_single_month_XY(month, drop_cols=drop_cols, num_lagged_values=num_lagged_values)\n",
    "        Xs_deque.append(X_)\n",
    "        Ys_deque.append(Y_)\n",
    "        Ysubs_deque.append(Ysub_)\n",
    "        \n",
    "           \n",
    "    if validate_months_num is None:\n",
    "        validate_months_num = len(data_months_list) - num_stack_months\n",
    "    else:\n",
    "        validate_months_num = min(validate_months_num, len(data_months_list) - num_stack_months)\n",
    "        \n",
    "    \n",
    "    fitted_models = {}\n",
    "    in_sample_scores = {}\n",
    "    oos_scores = {}\n",
    "    loop_times = []\n",
    "    \n",
    "    for month in data_months_list[num_stack_months: num_stack_months + validate_months_num]:\n",
    "        print(f'Working on: {month}')\n",
    "        loop_start = time.time()\n",
    "        \n",
    "        X_train = pd.concat(Xs_deque)\n",
    "        Y_train = pd.concat(Ys_deque)\n",
    "        Y_sub_train = pd.concat(Ysubs_deque)\n",
    "        \n",
    "        X_val, Y_val, Y_sub_val = get_single_month_XY(month, drop_cols=drop_cols, num_lagged_values=num_lagged_values)\n",
    "        fitted, ytrain_pred, yval_pred, elapsed_time = fit_and_predict(model, X_train, Y_train, X_val)\n",
    "        fitted_models[month] = fitted\n",
    "        print(f'fit time: {elapsed_time}')\n",
    "        \n",
    "        ytrain_pred = conform_to_subY(X_train, ytrain_pred, Y_sub_train, fill_value=pred_fill_value)\n",
    "        yval_pred = conform_to_subY(X_val, yval_pred, Y_sub_val, fill_value=pred_fill_value)\n",
    "        \n",
    "        ytrain_pred = post_process_preds(ytrain_pred)\n",
    "        yval_pred = post_process_preds(yval_pred)\n",
    "        \n",
    "        in_sample_scores[month] = np.sqrt(mean_squared_error(Y_sub_train, ytrain_pred))\n",
    "        oos_scores[month] = np.sqrt(mean_squared_error(Y_sub_val, yval_pred))\n",
    "        \n",
    "        Xs_deque.popleft()\n",
    "        Ys_deque.popleft()\n",
    "        Ysubs_deque.popleft()\n",
    "        \n",
    "        Xs_deque.append(X_val)\n",
    "        Ys_deque.append(Y_val)\n",
    "        Ysubs_deque.append(Y_sub_val)\n",
    "\n",
    "        \n",
    "        loop_end = time.time()\n",
    "        loop_times.append(loop_end - loop_start)\n",
    "    \n",
    "    if fit_final:\n",
    "        X_train = pd.concat(Xs_deque)\n",
    "        Y_train = pd.concat(Ys_deque)\n",
    "        Y_sub = pd.concat(Ysubs_deque)\n",
    "        \n",
    "        fitted, ytrain_pred, yval_pred, elapsed_time = fit_and_predict(model, X_train, Y_train, X_val)\n",
    "        fitted_models['FINAL'] = fitted\n",
    "        in_sample_scores['FINAL'] = np.sqrt(mean_squared_error(Y_train, post_process_preds(ytrain_pred)))\n",
    "    \n",
    "    \n",
    "    return fitted_models, in_sample_scores, oos_scores, loop_times"
   ]
  },
  {
   "cell_type": "code",
   "execution_count": 189,
   "metadata": {},
   "outputs": [
    {
     "name": "stdout",
     "output_type": "stream",
     "text": [
      "Working on: 2015-08\n",
      "fit time: 377.69206070899963\n",
      "Working on: 2015-09\n",
      "fit time: 376.25923919677734\n",
      "Working on: 2015-10\n"
     ]
    },
    {
     "ename": "KeyError",
     "evalue": "Period('2015-10', 'M')",
     "output_type": "error",
     "traceback": [
      "\u001b[1;31m---------------------------------------------------------------------------\u001b[0m",
      "\u001b[1;31mKeyError\u001b[0m                                  Traceback (most recent call last)",
      "\u001b[1;32m<ipython-input-189-31e52a086b29>\u001b[0m in \u001b[0;36m<module>\u001b[1;34m\u001b[0m\n\u001b[0;32m      1\u001b[0m \u001b[0mmod\u001b[0m \u001b[1;33m=\u001b[0m \u001b[0mxgb_model\u001b[0m\u001b[1;33m(\u001b[0m\u001b[0mnum_boost_round\u001b[0m\u001b[1;33m=\u001b[0m\u001b[1;36m50\u001b[0m\u001b[1;33m,\u001b[0m \u001b[0mmax_depth\u001b[0m\u001b[1;33m=\u001b[0m\u001b[1;36m10\u001b[0m\u001b[1;33m,\u001b[0m \u001b[0meta\u001b[0m\u001b[1;33m=\u001b[0m\u001b[1;36m0.3\u001b[0m\u001b[1;33m,\u001b[0m \u001b[0mgpu_id\u001b[0m\u001b[1;33m=\u001b[0m\u001b[1;36m0\u001b[0m\u001b[1;33m,\u001b[0m \u001b[0mtree_method\u001b[0m\u001b[1;33m=\u001b[0m\u001b[1;34m'gpu_hist'\u001b[0m\u001b[1;33m)\u001b[0m\u001b[1;33m\u001b[0m\u001b[1;33m\u001b[0m\u001b[0m\n\u001b[1;32m----> 2\u001b[1;33m \u001b[0mfitted_models\u001b[0m\u001b[1;33m,\u001b[0m \u001b[0misscores\u001b[0m\u001b[1;33m,\u001b[0m \u001b[0mosscores\u001b[0m\u001b[1;33m,\u001b[0m \u001b[0mtimes\u001b[0m \u001b[1;33m=\u001b[0m \u001b[0mrolling_cross_validation\u001b[0m\u001b[1;33m(\u001b[0m\u001b[0mmod\u001b[0m\u001b[1;33m,\u001b[0m \u001b[0mmonths\u001b[0m\u001b[1;33m[\u001b[0m\u001b[1;36m13\u001b[0m\u001b[1;33m:\u001b[0m\u001b[1;33m]\u001b[0m\u001b[1;33m,\u001b[0m \u001b[0mnum_lagged_values\u001b[0m\u001b[1;33m=\u001b[0m\u001b[1;36m6\u001b[0m\u001b[1;33m,\u001b[0m  \u001b[0mpost_process_preds\u001b[0m\u001b[1;33m=\u001b[0m\u001b[1;32mlambda\u001b[0m \u001b[0mx\u001b[0m\u001b[1;33m:\u001b[0m \u001b[0mnp\u001b[0m\u001b[1;33m.\u001b[0m\u001b[0mclip\u001b[0m\u001b[1;33m(\u001b[0m\u001b[0mx\u001b[0m\u001b[1;33m,\u001b[0m \u001b[1;36m0\u001b[0m\u001b[1;33m,\u001b[0m\u001b[1;36m20\u001b[0m\u001b[1;33m)\u001b[0m\u001b[1;33m,\u001b[0m \u001b[0mnum_stack_months\u001b[0m\u001b[1;33m=\u001b[0m\u001b[1;36m18\u001b[0m\u001b[1;33m,\u001b[0m \u001b[0mfit_final\u001b[0m\u001b[1;33m=\u001b[0m\u001b[1;32mTrue\u001b[0m\u001b[1;33m)\u001b[0m\u001b[1;33m\u001b[0m\u001b[1;33m\u001b[0m\u001b[0m\n\u001b[0m",
      "\u001b[1;32m<ipython-input-188-aae6b02abbde>\u001b[0m in \u001b[0;36mrolling_cross_validation\u001b[1;34m(model, data_months_list, post_process_preds, num_lagged_values, validate_months_num, num_stack_months, pred_fill_value, fit_final, drop_cols)\u001b[0m\n\u001b[0;32m     33\u001b[0m         \u001b[0mY_sub_train\u001b[0m \u001b[1;33m=\u001b[0m \u001b[0mpd\u001b[0m\u001b[1;33m.\u001b[0m\u001b[0mconcat\u001b[0m\u001b[1;33m(\u001b[0m\u001b[0mYsubs_deque\u001b[0m\u001b[1;33m)\u001b[0m\u001b[1;33m\u001b[0m\u001b[1;33m\u001b[0m\u001b[0m\n\u001b[0;32m     34\u001b[0m \u001b[1;33m\u001b[0m\u001b[0m\n\u001b[1;32m---> 35\u001b[1;33m         \u001b[0mX_val\u001b[0m\u001b[1;33m,\u001b[0m \u001b[0mY_val\u001b[0m\u001b[1;33m,\u001b[0m \u001b[0mY_sub_val\u001b[0m \u001b[1;33m=\u001b[0m \u001b[0mget_single_month_XY\u001b[0m\u001b[1;33m(\u001b[0m\u001b[0mmonth\u001b[0m\u001b[1;33m,\u001b[0m \u001b[0mdrop_cols\u001b[0m\u001b[1;33m=\u001b[0m\u001b[0mdrop_cols\u001b[0m\u001b[1;33m,\u001b[0m \u001b[0mnum_lagged_values\u001b[0m\u001b[1;33m=\u001b[0m\u001b[0mnum_lagged_values\u001b[0m\u001b[1;33m)\u001b[0m\u001b[1;33m\u001b[0m\u001b[1;33m\u001b[0m\u001b[0m\n\u001b[0m\u001b[0;32m     36\u001b[0m         \u001b[0mfitted\u001b[0m\u001b[1;33m,\u001b[0m \u001b[0mytrain_pred\u001b[0m\u001b[1;33m,\u001b[0m \u001b[0myval_pred\u001b[0m\u001b[1;33m,\u001b[0m \u001b[0melapsed_time\u001b[0m \u001b[1;33m=\u001b[0m \u001b[0mfit_and_predict\u001b[0m\u001b[1;33m(\u001b[0m\u001b[0mmodel\u001b[0m\u001b[1;33m,\u001b[0m \u001b[0mX_train\u001b[0m\u001b[1;33m,\u001b[0m \u001b[0mY_train\u001b[0m\u001b[1;33m,\u001b[0m \u001b[0mX_val\u001b[0m\u001b[1;33m)\u001b[0m\u001b[1;33m\u001b[0m\u001b[1;33m\u001b[0m\u001b[0m\n\u001b[0;32m     37\u001b[0m         \u001b[0mfitted_models\u001b[0m\u001b[1;33m[\u001b[0m\u001b[0mmonth\u001b[0m\u001b[1;33m]\u001b[0m \u001b[1;33m=\u001b[0m \u001b[0mfitted\u001b[0m\u001b[1;33m\u001b[0m\u001b[1;33m\u001b[0m\u001b[0m\n",
      "\u001b[1;32m<ipython-input-89-c7b2f9d88743>\u001b[0m in \u001b[0;36mget_single_month_XY\u001b[1;34m(month_, drop_cols, num_lagged_values)\u001b[0m\n\u001b[0;32m      6\u001b[0m     \u001b[0mX\u001b[0m \u001b[1;33m=\u001b[0m \u001b[0mpd\u001b[0m\u001b[1;33m.\u001b[0m\u001b[0mconcat\u001b[0m\u001b[1;33m(\u001b[0m\u001b[0mcols\u001b[0m\u001b[1;33m,\u001b[0m \u001b[0maxis\u001b[0m\u001b[1;33m=\u001b[0m\u001b[1;36m1\u001b[0m\u001b[1;33m)\u001b[0m\u001b[1;33m\u001b[0m\u001b[1;33m\u001b[0m\u001b[0m\n\u001b[0;32m      7\u001b[0m     \u001b[0mY\u001b[0m \u001b[1;33m=\u001b[0m \u001b[0mobjectives\u001b[0m\u001b[1;33m[\u001b[0m\u001b[0mmonth_\u001b[0m\u001b[1;33m]\u001b[0m\u001b[1;33m\u001b[0m\u001b[1;33m\u001b[0m\u001b[0m\n\u001b[1;32m----> 8\u001b[1;33m     \u001b[0msubmission_Y\u001b[0m \u001b[1;33m=\u001b[0m \u001b[0msubmission_like_df\u001b[0m\u001b[1;33m.\u001b[0m\u001b[0mitem_cnt_month\u001b[0m\u001b[1;33m.\u001b[0m\u001b[0mloc\u001b[0m\u001b[1;33m[\u001b[0m\u001b[0mobj_month_map\u001b[0m\u001b[1;33m[\u001b[0m\u001b[0mmonth_\u001b[0m\u001b[1;33m]\u001b[0m\u001b[1;33m]\u001b[0m\u001b[1;33m\u001b[0m\u001b[1;33m\u001b[0m\u001b[0m\n\u001b[0m\u001b[0;32m      9\u001b[0m \u001b[1;33m\u001b[0m\u001b[0m\n\u001b[0;32m     10\u001b[0m     \u001b[1;32mif\u001b[0m \u001b[0mnum_lagged_values\u001b[0m \u001b[1;33m>\u001b[0m \u001b[1;36m0\u001b[0m\u001b[1;33m:\u001b[0m\u001b[1;33m\u001b[0m\u001b[1;33m\u001b[0m\u001b[0m\n",
      "\u001b[1;31mKeyError\u001b[0m: Period('2015-10', 'M')"
     ]
    }
   ],
   "source": [
    "mod = xgb_model(num_boost_round=50, max_depth=10, eta=0.3, gpu_id=0, tree_method='gpu_hist')\n",
    "fitted_models, isscores, osscores, times = rolling_cross_validation(mod, months[13:], num_lagged_values=6,  post_process_preds=lambda x: np.clip(x, 0,20), num_stack_months=18, fit_final=True)"
   ]
  },
  {
   "cell_type": "markdown",
   "metadata": {},
   "source": [
    "Parameter hypertuning:\n",
    "- num_boost_rounds: 10 - 500\n",
    "- max_depth: 5 - 30\n",
    "- eta : 0.5 - 0.01"
   ]
  },
  {
   "cell_type": "markdown",
   "metadata": {},
   "source": [
    "# Preparing Submission"
   ]
  },
  {
   "cell_type": "code",
   "execution_count": null,
   "metadata": {},
   "outputs": [],
   "source": [
    "def merge_pred_with_test(prediction, fill_val=0, pred_col='item_cnt_month'):\n",
    "    assert pred_col in prediction.columns, f'Couldnt find {pred_col}'\n",
    "    data_fol = 'data'\n",
    "    test = pd.read_csv(os.path.join(data_fol, 'test.csv'))\n",
    "    merged =  pd.merge(test, prediction, on=['shop_id', 'item_id'], how='left').fillna(fill_val)\n",
    "    if pred_col != 'item_cnt_month':\n",
    "        merged = merged.rename(columns={pred_col:'item_cnt_month'})\n",
    "    return merged.set_index('ID')['item_cnt_month']"
   ]
  }
 ],
 "metadata": {
  "kernelspec": {
   "display_name": "Python 3",
   "language": "python",
   "name": "python3"
  },
  "language_info": {
   "codemirror_mode": {
    "name": "ipython",
    "version": 3
   },
   "file_extension": ".py",
   "mimetype": "text/x-python",
   "name": "python",
   "nbconvert_exporter": "python",
   "pygments_lexer": "ipython3",
   "version": "3.6.10"
  },
  "toc-autonumbering": true,
  "toc-showcode": false,
  "toc-showmarkdowntxt": false
 },
 "nbformat": 4,
 "nbformat_minor": 4
}
